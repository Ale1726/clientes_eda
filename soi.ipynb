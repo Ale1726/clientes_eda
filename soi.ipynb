{
 "cells": [
  {
   "cell_type": "markdown",
   "metadata": {},
   "source": [
    "El objetivo es encotrar la informacion mas posible, y que sea de calidad. De acuerdo a los criterios de PLD\n",
    "\n",
    "| Información requerida                   | Información obtenida                              |\n",
    "|-----------------------------------------|--------------------------------------------------|\n",
    "| negocio                                 |                                                  |\n",
    "| nombre cliente o razón social           |    BANOM_BAN                                    |\n",
    "| número cliente                          |    BACVE_BANC                                     |\n",
    "| estatus                                 |     WHERE BA_ACTIVO = 'S'              |\n",
    "| número contrato                         |                                                  |\n",
    "| género                                  |                N/A                                  |\n",
    "| fecha_nacimiento o de constitución      |                                                  |\n",
    "| entidad federativa nacimiento           |                                                  |\n",
    "| país de nacimiento                      |    BACVE_PAIS_SHCP   PAIS DE CONSTITUCION    |\n",
    "| nacionalidad                            |  BANACIONAL <br> IDENTIFICA SI EL BANCO ES NACIONAL O EXTRANJERO (N=EXTRANJERO  S=NACIONAL)                  |\n",
    "| profesión                               |           N/A                                       |\n",
    "| calle                                   |    PLDOM_CALLE                             |\n",
    "| número_exterior                         |     PLDOM_NUMERO                                             |\n",
    "| número_interior                         |                                                  |\n",
    "| colonia_urbanización                    |                                                  |\n",
    "| delegación_municipio                    |                                                  |\n",
    "| ciudad_población                        |                    PLDOM_CIUDAD                              |\n",
    "| entidad_federativa                      |             PLDOM_ESTADO                       |\n",
    "| código postal                           |               PLDOM_CP                                   |\n",
    "| país                                    |                PAPAIS                |\n",
    "| teléfono                                |                                    |\n",
    "| correo_electrónico                      |                                                  |\n",
    "| rfc                                     |     |\n",
    "| curp                                    |                                                  |\n",
    "| fiel                                    |                                                  |\n",
    "| representante legal                     |    NO SE CUENTA INFORMACION        |\n",
    "| tipo de persona                         |  PM                                    |\n",
    "| clasificación por grado de riesgo       |                                                  |\n",
    "| pep (persona políticamente expuesta)    |                                                  |\n",
    "| razón                                   |                                                  |\n",
    "| producto contratado                     |                   |\n",
    "| cambios en perfil transaccional         |                                                  |\n",
    "\n",
    "\n",
    "LOS CRITERIOS DE DIRECCION SE OBTIENE MEDIANTE SOI_PLAZA QUE RELACIONA LAS PLAZAS POR BANCO "
   ]
  },
  {
   "cell_type": "code",
   "execution_count": 3,
   "metadata": {},
   "outputs": [],
   "source": [
    "from utils.tf import *\n",
    "from utils.db import *\n",
    "from utils.gd import * \n",
    "from utils.clt_repetidos import *\n",
    "from datetime import datetime\n",
    "import cx_Oracle\n",
    "import pandas as pd\n",
    "import os\n",
    "from rapidfuzz import process, fuzz\n",
    "import numpy as np"
   ]
  },
  {
   "cell_type": "code",
   "execution_count": 97,
   "metadata": {},
   "outputs": [],
   "source": [
    "df = pd.read_csv(\"/home/ale1726/proyects/datalake/clientes/data/Clientes_activos_SOI.dat\")"
   ]
  },
  {
   "cell_type": "code",
   "execution_count": 98,
   "metadata": {},
   "outputs": [],
   "source": [
    "def limpiar_calle(calle):\n",
    "    # Manejar valores NaN o nulos directamente\n",
    "    if pd.isna(calle):\n",
    "        return pd.NA\n",
    "    \n",
    "    # Convertir a string por seguridad\n",
    "    calle = str(calle)\n",
    "    \n",
    "    # Procesar solo si contiene \"--\"\n",
    "    if \"--\" in calle:\n",
    "        return \" -- \".join(sorted(set(c.strip() for c in calle.split(\"--\") if c.strip() != 'NA')))\n",
    "    \n",
    "    # Devolver la calle procesada\n",
    "    return calle.strip() "
   ]
  },
  {
   "cell_type": "code",
   "execution_count": 99,
   "metadata": {},
   "outputs": [],
   "source": [
    "df[\"CALLE\"] = df[\"CALLE\"].apply(lambda x: limpiar_calle(x))"
   ]
  },
  {
   "cell_type": "code",
   "execution_count": 100,
   "metadata": {},
   "outputs": [],
   "source": [
    "df[\"NUMERO_EXTERIOR\"] = df[\"NUMERO_EXTERIOR\"].apply(lambda x: \" -- \".join(sorted(set(c.strip() for c in x.split(\"--\") if c.strip() != 'NA'))) if \"--\" in str(x) else x)"
   ]
  },
  {
   "cell_type": "code",
   "execution_count": 101,
   "metadata": {},
   "outputs": [],
   "source": [
    "df[\"CIUDAD_POBLACION\"] = df[\"CIUDAD_POBLACION\"].apply(lambda x: \" -- \".join(sorted(set(c.strip() for c in x.split(\"--\") if c.strip() != 'NA'))) if \"--\" in str(x) else x)"
   ]
  },
  {
   "cell_type": "code",
   "execution_count": 102,
   "metadata": {},
   "outputs": [],
   "source": [
    "df[\"ENTIDAD_FEDERATIVA\"] = df[\"ENTIDAD_FEDERATIVA\"].apply(lambda x: \" -- \".join(sorted(set(c.strip() for c in x.split(\"--\") if c.strip() != 'NA'))) if \"--\" in str(x) else x)\n"
   ]
  },
  {
   "cell_type": "code",
   "execution_count": 92,
   "metadata": {},
   "outputs": [],
   "source": [
    "df[\"CODIGO_POSTAL\"] = df[\"CODIGO_POSTAL\"].apply(lambda x: \" -- \".join(sorted(set(c.strip() for c in x.split(\"--\") if c.strip() != 'NA'))) if \"--\" in str(x) else x)\n"
   ]
  },
  {
   "cell_type": "code",
   "execution_count": 103,
   "metadata": {},
   "outputs": [],
   "source": [
    "df[\"RFC\"] = df[\"RFC\"].apply(lambda x: \" -- \".join(sorted(set(c.strip() for c in x.split(\"--\") if c.strip() != 'NA'))) if \"--\" in str(x) else x)"
   ]
  },
  {
   "cell_type": "code",
   "execution_count": 104,
   "metadata": {},
   "outputs": [],
   "source": [
    "df[\"RFC\"] = df[\"RFC\"].apply(lambda x: normalizar_RFC(x) if pd.notna(x) and verificar_rfc(normalizar_RFC(x)) else \"XXXXXXXXXXXXX\")"
   ]
  },
  {
   "cell_type": "code",
   "execution_count": 105,
   "metadata": {},
   "outputs": [],
   "source": [
    "df['FECHA_DE_ACTUALIZACION'] = datetime.now().strftime('%d/%m/%y')\n"
   ]
  },
  {
   "cell_type": "code",
   "execution_count": 106,
   "metadata": {},
   "outputs": [],
   "source": [
    "col_final = ['NEGOCIO', 'NOMBRE_O_RAZON_SOCIAL', 'NUMERO_CLIENTE', 'ESTATUS',\n",
    "       'NUMERO_CONTRATO', 'GENERO', 'FECHA_NAC_O_CONST',\n",
    "       'ENTIDAD_FEDERATIVA_NACIMIENTO', 'PAIS_DE_NACIMIENTO', 'NACIONALIDAD',\n",
    "       'PROFESION', 'CALLE', 'NUMERO_EXTERIOR', 'NUMERO_INTERIOR',\n",
    "       'COLONIA_URBANIZACION', 'DELEGACION_MUNICIPIO', 'CIUDAD_POBLACION',\n",
    "       'ENTIDAD_FEDERATIVA', 'CODIGO_POSTAL', 'PAIS', 'TELEFONO',\n",
    "       'CORREO_ELECTRONICO', 'RFC', 'CURP', 'FIEL', 'REPRESENTANTE_LEGAL',\n",
    "       'TIPO_PERSONA', 'PRODUCTO_CONTRATADO',\n",
    "       'SISTEMA_ORIGEN', 'FECHA_DE_ACTUALIZACION']\n",
    "df = df[col_final]"
   ]
  },
  {
   "cell_type": "code",
   "execution_count": 107,
   "metadata": {},
   "outputs": [],
   "source": [
    "clt_repetidos = compara_nombres(df, df, \"NOMBRE_O_RAZON_SOCIAL\", \"NOMBRE_O_RAZON_SOCIAL\",\"NUMERO_CLIENTE\",\"NUMERO_CLIENTE\", 95)"
   ]
  },
  {
   "cell_type": "code",
   "execution_count": 114,
   "metadata": {},
   "outputs": [],
   "source": [
    "clt_repetidos = compara_nombres(df, df, \"NOMBRE_O_RAZON_SOCIAL\", \"NOMBRE_O_RAZON_SOCIAL\",\"NUMERO_CLIENTE\",\"NUMERO_CLIENTE\", 95)\n",
    "if not clt_repetidos.empty:\n",
    "    df_resul, drops_ids = agregar_asociaciones_clientes(clt_repetidos,df)\n",
    "    df = df.drop(drops_ids)\n",
    "    df = pd.concat([df, df_resul], ignore_index=True)\n",
    "    df = df.sort_values(\"NOMBRE_O_RAZON_SOCIAL\")\n"
   ]
  },
  {
   "cell_type": "code",
   "execution_count": 110,
   "metadata": {},
   "outputs": [],
   "source": [
    "name_archivo = os.path.join(\"/home/ale1726/proyects/datalake/clientes/data/ETL\",\"CLientesT_SOI.csv\")\n",
    "df.to_csv(name_archivo,index=False)"
   ]
  }
 ],
 "metadata": {
  "kernelspec": {
   "display_name": "myenv_1",
   "language": "python",
   "name": "python3"
  },
  "language_info": {
   "codemirror_mode": {
    "name": "ipython",
    "version": 3
   },
   "file_extension": ".py",
   "mimetype": "text/x-python",
   "name": "python",
   "nbconvert_exporter": "python",
   "pygments_lexer": "ipython3",
   "version": "3.10.12"
  }
 },
 "nbformat": 4,
 "nbformat_minor": 2
}
