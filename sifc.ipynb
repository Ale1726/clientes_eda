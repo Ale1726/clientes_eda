{
 "cells": [
  {
   "cell_type": "markdown",
   "metadata": {},
   "source": [
    "¡Claro! Aquí tienes la tabla con los nombres originales y sus posibles traducciones sin abreviaturas, en el orden que proporcionaste:\n",
    "\n",
    "| Nombre Original               | Posible Traducción               |\n",
    "|-------------------------------|----------------------------------|\n",
    "| ACCOUNT_PROMOTER              | PROMOTOR_CUENTA                  |\n",
    "| ARRANGEMENT_DATE              | FECHA_ACUERDO                    |\n",
    "| ASSOCIATED_PURCHASE           | COMPRA_ASOCIADA                  |\n",
    "| BRANCH_OFFICE                 | SUCURSAL                         |\n",
    "| CANCELATION                   | CANCELACIÓN                      |\n",
    "| CAPTURED_AFTER_HOUR           | CAPTURADO_FUERA_HORARIO          |\n",
    "| CLEAN_INTEREST                | INTERÉS_LIMPIO                   |\n",
    "| COMMISIONS_AMOUNT             | MONTO_COMISIONES                 |\n",
    "| COMMISIONS_VAT_AMOUNT         | MONTO_IVA_COMISIONES             |\n",
    "| COMPLEMENTARY_INFO_ID         | ID_INFO_COMPLEMENTARIA           |\n",
    "| CONAFOR_ORI_RES               | RES_ORI_CONAFOR                  |\n",
    "| CONAFOR_PROVINCE              | PROVINCIA_CONAFOR                |\n",
    "| CONAFOR_SUPPORT               | APOYO_CONAFOR                    |\n",
    "| CONAFOR_SUPPORT_2             | APOYO_CONAFOR_2                  |\n",
    "| COUNTERPARTY_ACCOUNT          | CUENTA_CONTRAPARTE               |\n",
    "| CPARTY_CUST_ACC               | CUENTA_CLIENTE_CONTRAPARTE       |\n",
    "| CUST_BALANCE_AGREEMENT        | ACUERDO_BALANCE_CLIENTE          |\n",
    "| DISCRIM_TYPE                  | TIPO_DISCRIM                     |\n",
    "| DOLLARS_AMOUNT                | MONTO_DÓLARES                    |\n",
    "| DOLLARS_EX_RATE               | TIPO_CAMBIO_DÓLARES              |\n",
    "| ENTRY_DATE                    | FECHA_ENTRADA                    |\n",
    "| ENTRY_MODE                    | MODO_ENTRADA                     |\n",
    "| ENTRY_USER_ID                 | ID_USUARIO_ENTRADA               |\n",
    "| EXTERNAL_ID                   | ID_EXTERNO                       |\n",
    "| FINANCIAL_PROCESS             | PROCESO_FINANCIERO               |\n",
    "| FOLIO_INCONFID                | FOLIO_INCONFID                   |\n",
    "| FUT_CLEAN_INTEREST            | INTERÉS_LIMPIO_FUT               |\n",
    "| FUT_TOT                       | FUT_TOT                          |\n",
    "| GENERATED_SURPLUS             | EXCEDENTE_GENERADO               |\n",
    "| GROSS_AMOUNT                  | MONTO_BRUTO                      |\n",
    "| INCOME_TAX_AMOUNT             | MONTO_IMPUESTO_RENTA             |\n",
    "| INVEST_ACCOUNT                | CUENTA_INVERSIÓN                 |\n",
    "| INVESTOR_MANAGER              | GESTOR_INVERSOR                  |\n",
    "| IS_CTT_MODE_FOREIGN           | ES_MODO_CTT_EXTRANJERO           |\n",
    "| IS_CTT_TYPE_PURCHASE          | ES_TIPO_CTT_COMPRA               |\n",
    "| IS_EXTERNALLY_MODIFIED        | ES_MODIFICADO_EXTERNAMENTE       |\n",
    "| IS_FULL_SALE                  | ES_VENTA_COMPLETA                |\n",
    "| IS_RECLASSIFICATION           | ES_RECLASIFICACIÓN               |\n",
    "| IS_REIMBURSEMENT              | ES_REEMBOLSO                     |\n",
    "| IS_TES                        | ES_TES                           |\n",
    "| MECA_NUMBER                   | NÚMERO_MECA                      |\n",
    "| MT103_OPTIONAL_VALUES         | VALORES_OPCIONALES_MT103         |\n",
    "| NEGOTIATION_MODE              | MODO_NEGOCIACIÓN                 |\n",
    "| OID                           | OID                              |\n",
    "| OP_BY_FINES                   | OP_POR_MULTAS                    |\n",
    "| OP_BY_TECH_COMITTEE           | OP_POR_COMITÉ_TÉCNICO            |\n",
    "| ORDERED_AMOUNT                | MONTO_ORDENADO                   |\n",
    "| ORIGIN_TX_CBA                 | ORIGEN_TX_CBA                    |\n",
    "| ORIGIN_TX_ENTRY_NUMBER        | NÚMERO_ENTRADA_ORIGEN_TX         |\n",
    "| ORIGIN_TX_ID                  | ID_ORIGEN_TX                     |\n",
    "| OVERSION                      | OVERSION                         |\n",
    "| PARENT_TRANSACTION            | TRANSACCIÓN_PADRE                |\n",
    "| PARTY_ACCOUNT                 | CUENTA_PARTE                     |\n",
    "| PARTY_CUST_ACC                | CUENTA_CLIENTE_PARTE             |\n",
    "| PAYMENT_DISPERSION_FNAME      | NOMBRE_ARCHIVO_DISPERSIÓN_PAGO   |\n",
    "| PCA_COUNTPARTY_CURRENCY       | MONEDA_CONTRAPARTE_PCA           |\n",
    "| PCA_COUNTPARTY_SERIES         | SERIE_CONTRAPARTE_PCA            |\n",
    "| PCA_PARTY_CURRENCY            | MONEDA_PARTE_PCA                 |\n",
    "| PCA_PARTY_SERIES              | SERIE_PARTE_PCA                  |\n",
    "| PF_MOVS_FILE_NAME             | NOMBRE_ARCHIVO_MOVS_PF           |\n",
    "| PRI_SERIES_AGREEDATE          | FECHA_ACUERDO_SERIE_PRI          |\n",
    "| PRI_SERIES_AGREETERM          | PLAZO_ACUERDO_SERIE_PRI          |\n",
    "| PRI_SERIES_AMOUNT             | MONTO_SERIE_PRI                  |\n",
    "| PRI_SERIES_FUT_AGREEDATE      | FECHA_ACUERDO_FUT_SERIE_PRI      |\n",
    "| PRI_SERIES_FUT_PRICE          | PRECIO_FUT_SERIE_PRI             |\n",
    "| PRI_SERIES_FUT_RATE           | TASA_FUT_SERIE_PRI               |\n",
    "| PRI_SERIES_FUT_TERM           | PLAZO_FUT_SERIE_PRI              |\n",
    "| PRI_SERIES_PRICE              | PRECIO_SERIE_PRI                 |\n",
    "| PRI_SERIES_RATE               | TASA_SERIE_PRI                   |\n",
    "| PRI_SERIES_STOCKAMOUNT        | MONTO_ACCIONES_SERIE_PRI         |\n",
    "| PRICE_DATE                    | FECHA_PRECIO                     |\n",
    "| PRIMARY_SERIES                | SERIE_PRIMARIA                   |\n",
    "| REF                           | REFERENCIA                       |\n",
    "| REF_RATE_AMOUNT               | MONTO_TASA_REF                   |\n",
    "| REF_RATE_OVERAMOUNT           | MONTO_SOBRETASA_REF              |\n",
    "| REF_RATE_SERIES               | SERIE_TASA_REF                   |\n",
    "| REJECTION                     | RECHAZO                          |\n",
    "| RETURN_SURPLUS                | DEVOLUCIÓN_EXCEDENTE             |\n",
    "| SEC_SERIES_AGREEDATE          | FECHA_ACUERDO_SERIE_SEC          |\n",
    "| SEC_SERIES_AGREETERM          | PLAZO_ACUERDO_SERIE_SEC          |\n",
    "| SEC_SERIES_AMORT              | AMORT_SERIE_SEC                  |\n",
    "| SEC_SERIES_AMOUNT             | MONTO_SERIE_SEC                  |\n",
    "| SEC_SERIES_EXRATE             | TIPO_CAMBIO_SERIE_SEC            |\n",
    "| SEC_SERIES_FUT_AGREEDATE      | FECHA_ACUERDO_FUT_SERIE_SEC      |\n",
    "| SEC_SERIES_FUT_TERM           | PLAZO_FUT_SERIE_SEC              |\n",
    "| SEC_SERIES_INCOME             | INGRESO_SERIE_SEC                |\n",
    "| SECONDARY_SERIES              | SERIE_SECUNDARIA                 |\n",
    "| SETTL_EVENT_NUMBER            | NÚMERO_EVENTO_LIQUIDACIÓN        |\n",
    "| SETTL_MODE                    | MODO_LIQUIDACIÓN                 |\n",
    "| SETTLE_IN_DOLLARS             | LIQUIDAR_EN_DÓLARES              |\n",
    "| SETTLEMENT_DATE               | FECHA_LIQUIDACIÓN                |\n",
    "| SPTN                          | SPTN                             |\n",
    "| STOCK_TYPE                    | TIPO_ACCIONES                    |\n",
    "| STOCKAMOUNT                   | MONTO_ACCIONES                   |\n",
    "| SUB_ACCOUNT                   | SUBCUENTA                        |\n",
    "| TER_SERIES_AMOUNT             | MONTO_SERIE_TER                  |\n",
    "| TERTIARY_SERIES               | SERIE_TERCIARIA                  |\n",
    "| TF_MONTH_AND_YEAR             | MES_Y_AÑO_TF                     |\n",
    "| TF_PAYMENT                    | PAGO_TF                          |\n",
    "| TF_PAYMENT_DEP_DATE           | FECHA_DEPÓSITO_PAGO_TF           |\n",
    "| TF_PAYMENT_DEPOSIT            | DEPÓSITO_PAGO_TF                 |\n",
    "| TOT                           | TOT                              |\n",
    "| TRANSACTION_DAYS              | DÍAS_TRANSACCIÓN                 |\n",
    "| TRANSACTION_END_DATE          | FECHA_FIN_TRANSACCIÓN            |\n",
    "| TRANSACTION_INTEREST          | INTERÉS_TRANSACCIÓN              |\n",
    "| TRANSACTION_RATE              | TASA_TRANSACCIÓN                 |\n",
    "| TRUST_GOAL                    | OBJETIVO_FIDEICOMISO             |\n",
    "| TX_ACCEPT_NUMBER              | NÚMERO_ACEPTACIÓN_TX             |\n",
    "| TX_COMMENTS                   | COMENTARIOS_TX                   |\n",
    "| TX_CONCEPT                    | CONCEPTO_TX                      |\n",
    "| TX_ENTRY_NUMBER               | NÚMERO_ENTRADA_TX                |\n",
    "| TX_HISTORY                    | HISTORIAL_TX                     |\n",
    "| TX_PREV_STATE                 | ESTADO_ANTERIOR_TX               |\n",
    "| TX_STATE                      | ESTADO_TX                        |\n",
    "| TX_SUBTYPE                    | SUBTIPO_TX                       |\n",
    "| TX_TYPE                       | TIPO_TX                          |\n",
    "| USED_SURPLUS                  | EXCEDENTE_UTILIZADO              |\n",
    "| VAT_AMOUNT                    | MONTO_IVA                        |"
   ]
  },
  {
   "cell_type": "code",
   "execution_count": 2,
   "metadata": {},
   "outputs": [],
   "source": [
    "from utils.tf import *\n",
    "from utils.db import *\n",
    "from utils.gd import * \n",
    "from utils.clt_repetidos import *\n",
    "from datetime import datetime\n",
    "import cx_Oracle\n",
    "import pandas as pd\n",
    "import os\n",
    "import plotly.express as px\n",
    "import plotly.graph_objects as go\n",
    "from utils.clt_repetidos import *"
   ]
  },
  {
   "cell_type": "code",
   "execution_count": 3,
   "metadata": {},
   "outputs": [],
   "source": [
    "import configparser\n",
    "\n",
    "config = configparser.ConfigParser()\n",
    "\n",
    "config.read('/home/ale1726/proyects/datalake/input/datalake.ini')\n",
    "db_sifc = {'NAME':config['sifc']['name'],'USER':config['sifc']['user'],'PSSWD':config['sifc']['psswd'],'DSN':config['sifc']['dsn'],'SCHEMA':config['sifc']['schema']}\n"
   ]
  },
  {
   "cell_type": "code",
   "execution_count": 7,
   "metadata": {},
   "outputs": [],
   "source": [
    "\n",
    "\n",
    "query = \"\"\"\n",
    "WITH CLIENTES_ACTIVOS AS (\n",
    "\tSELECT OID OID_CUSTOMERS, CUSTOMER_ID, LEGAL_NAME, DESCRIPTION, RFC, ADDRESS_DUMP \n",
    "\tFROM SIFC.CUSTOMERS \n",
    "\tWHERE CUSTOMER_STATUS = 'ACTIVE' \n",
    "), CLIENTES_ACCOUNTS AS (\n",
    "\tSELECT CA.*, AC.OID OID_ACCOUNTS, AC.RFC RFC2\n",
    "\tFROM CLIENTES_ACTIVOS CA\n",
    "\tLEFT JOIN SIFC.ACCOUNTS AC ON CA.OID_CUSTOMERS = AC.CUSTOMER\n",
    "), CLIENTES_TRANS AS (\n",
    "\tSELECT CAC.*, \"OID\" ID_TRANSACTION, TA.ENTRY_DATE,TA.ARRANGEMENT_DATE,TA.SETTLEMENT_DATE,\n",
    "\tPRI_SERIES_AGREEDATE, SEC_SERIES_AGREEDATE, PRI_SERIES_AMOUNT, COMMISIONS_AMOUNT, TRANSACTION_END_DATE,\n",
    "\tTRANSACTION_RATE,TX_COMMENTS, TX_CONCEPT, TRUST_GOAL, TX_SUBTYPE\n",
    "\tFROM CLIENTES_ACCOUNTS CAC\n",
    "\tLEFT JOIN SIFC.TRANSACTIONS TA ON TA.PARTY_ACCOUNT = CAC.OID_ACCOUNTS\n",
    ") SELECT * FROM CLIENTES_TRANS WHERE ID_TRANSACTION IS NOT NULL\n",
    "\"\"\""
   ]
  },
  {
   "cell_type": "code",
   "execution_count": 8,
   "metadata": {},
   "outputs": [
    {
     "data": {
      "text/plain": [
       "'/home/ale1726/proyects/datalake/clientes/data/productos/SIFC/productos_sifc.dat'"
      ]
     },
     "execution_count": 8,
     "metadata": {},
     "output_type": "execute_result"
    }
   ],
   "source": [
    "get_table(\"/home/ale1726/proyects/datalake/clientes/data/productos/SIFC\", db_sifc, \"productos_sifc\", query=query)"
   ]
  },
  {
   "cell_type": "code",
   "execution_count": 32,
   "metadata": {},
   "outputs": [],
   "source": [
    "df  = pd.read_csv(\"/home/ale1726/proyects/datalake/clientes/data/productos/SIFC/productos_sifc.dat\", low_memory=False)"
   ]
  },
  {
   "cell_type": "code",
   "execution_count": 33,
   "metadata": {},
   "outputs": [],
   "source": [
    "tx_concept = pd.read_csv(\"/home/ale1726/proyects/datalake/clientes/data/productos/SIFC/TX_CONCEPTS.csv\", low_memory=False)"
   ]
  },
  {
   "cell_type": "code",
   "execution_count": 37,
   "metadata": {},
   "outputs": [],
   "source": [
    "TRANSACTION_SUBTYPES =  pd.read_csv(\"/home/ale1726/proyects/datalake/clientes/data/productos/SIFC/TRANSACTION_SUBTYPES.csv\")"
   ]
  },
  {
   "cell_type": "code",
   "execution_count": 42,
   "metadata": {},
   "outputs": [],
   "source": [
    "TRUST_GOAL  = pd.read_csv(\"/home/ale1726/proyects/datalake/clientes/data/productos/SIFC/TRUST_GOAL.csv\")"
   ]
  },
  {
   "cell_type": "code",
   "execution_count": 43,
   "metadata": {},
   "outputs": [
    {
     "data": {
      "application/vnd.microsoft.datawrangler.viewer.v0+json": {
       "columns": [
        {
         "name": "index",
         "rawType": "int64",
         "type": "integer"
        },
        {
         "name": "OID",
         "rawType": "int64",
         "type": "integer"
        },
        {
         "name": "OVERSION",
         "rawType": "int64",
         "type": "integer"
        },
        {
         "name": "CODE",
         "rawType": "object",
         "type": "string"
        },
        {
         "name": "DESCRIPTION",
         "rawType": "object",
         "type": "unknown"
        },
        {
         "name": "CUSTOMER",
         "rawType": "int64",
         "type": "integer"
        }
       ],
       "conversionMethod": "pd.DataFrame",
       "ref": "80bdacc9-206f-4207-8917-c020fa5851a8",
       "rows": [
        [
         "0",
         "1580",
         "0",
         "1",
         "A. Que la fiduciaria reciba el patrimonio fideicomitido, debiendo por lo que hace a los inmuebles proceder a su admnistraci¿n, conservaci¿n y mantenimiento, y por lo que toca al numerario afectado proceder a su inversi¿n en valores de mayor productividad, seguridad y f¿cil realizaci¿n.",
         "4148"
        ],
        [
         "1",
         "1581",
         "0",
         "2",
         "B.  Que la fiduciaria contrate, con cargo al patrimonio fideicomitido, los servicios de personas especializadas que al efecto designe el Comit¿ T¿cnico, para que continu¿n el trabajo de inventariar al m¿ximo detalle, clasificar y otorganizar t¿cnicamente, para consulta del p¿blico, los archivos del General Plutarco El¿as Calles y de Don Fernando Torreblanca.",
         "4148"
        ],
        [
         "2",
         "1582",
         "0",
         "3",
         "C. Que la fiduciaria, con cargo al patrimonio fideicomitido, contrate los servicios de personas especializadas que al efecto designe el Comit¿ T¿cnico, para conservar y custodiar f¿sicamente los archivos del General Plutarco El¿as Calles y de Don Fernando Torreblanca.",
         "4148"
        ],
        [
         "3",
         "1583",
         "0",
         "4",
         "D. Que la fiduciaria, con cargo al patrimonio fideicomitido, contrate los servicios de personas especializadas que al efecto designe el Comit¿ T¿cnico, para realizar el mantenimiento y en su caso repararci¿n, que requieran o puedan llegar a requerir, a juicio del propio Comit¿, los objetos personales que pertenecieron al General Plutarco El¿as Calles o a Don Fernando Torreblanca y que han sido afectados en fideicomiso en el inciso B de la cl¿usula primera del presente instrumento.",
         "4148"
        ],
        [
         "4",
         "1584",
         "0",
         "5",
         "E. Que la fiduciaria, con cargo al patrimonio fideicomitido, contrate los servicios de personas especializadas que al efecto designe el Comit¿ T¿cnico, para realizar el acondicionamiento, mantenimiento y en su caso reparaci¿n, que requieran o puedan llegar a requerir, a juicio del propio Comit¿, los inmuebles que formen parte del patrimonio fideicomitido.",
         "4148"
        ],
        [
         "5",
         "1585",
         "0",
         "6",
         "F. Que la fiduciaria permita la apertura para visitas del p¿blico, del inmueble que servir¿ de recinto a los archivos del General Plutarco El¿as Calles y de Don Fernando Torreblanca, as¿ como el acceso para consulta del material que contienen los mismos, una vez que el Comit¿ T¿cnico determine que se han cubierto satisfactoriamente todos los requisitos t¿cnicos que exigen la archivonom¿a y la museograf¿a, para permitir el uso adecuado por parte del p¿blico de este tipo de activos hist¿ricos, en condiciones que a la vez salvaguarden su incalculable valor.",
         "4148"
        ],
        [
         "6",
         "1586",
         "0",
         "7",
         "G. Que la fiduciaria, con cargo al patrimonio fideicomitido y de conformidad con las instrucciones que al efecto expida el Comit¿ T¿cnico, proceda a la contrataci¿n de personas, que permitan la realizaci¿n de los fines que anteceden, incluyendo la realizaci¿n de trabajos de investigaci¿n del acervo cntenido en los archivos del General Plutarco El¿as Calles y de Don Fernando Torreblanca, as¿ como la divulgaci¿n de los resultados que generen dichas investigaciones, por los medios que en su oportunidad el propio Comit¿ estime convenientes.",
         "4148"
        ],
        [
         "7",
         "1587",
         "0",
         "8",
         "H. Que la se¿ora Hortencia El¿as Calles Chac¿n Vda. De Torreblanca, en su car¿cter de fideicomisaria habite y use vitaliciamente y en la forma en que lo ha venido haciendo, la casa habitaci¿n a que se hace referencia en el inciso C  de la cl¿usula primera del presente fideicomiso.",
         "4148"
        ],
        [
         "8",
         "1588",
         "0",
         "9",
         "I. Que la fiduciaria, con cargo al patrimonio fideicomitido, adquiera los 2,929.69 metros cuadrados de terreno, aleda¿o a la casa referida en el inciso C de la cl¿usula primera de este instrumento, en el precio neto para el vendedor de $ 300,000,000.00 (trescientos millones de pesos 00/100 M.N. ), para lo cual deber¿ gestionar las subdivisiones de predios, aportaciones adicionales del Gobierno Federal, y dem¿s resoluciones de las autoridades que requiera el cumplimiento del fin previsto en este inciso.",
         "4148"
        ],
        [
         "9",
         "1589",
         "0",
         "10",
         "J. Y, en general, aquellos que permitan la conservaci¿n de los motivos que han determinado a las partes a intervenir en la constituci¿n del presente fideicomiso.",
         "4148"
        ],
        [
         "10",
         "1590",
         "0",
         "1",
         "SON FINES DEL PRESENTE FIDEICOMISO APOYAR A LA DOCENCIA Y A LA INVESTIGACI¿N EN LA FACULTAD DE CONTADURIA Y ADMNISTRACION, MEDIANTE LA CREACION DE UN FONDO QUE TENGA COMO FIN DESTINAR LOS PRODUCTOS QUE SE GENEREN EN EL A¿O INMEDIATO ANTERIOR A LOS OBJETIVOS QUE A CONTINUACION SE SE¿ALAN:",
         "4161"
        ],
        [
         "11",
         "1591",
         "0",
         "2",
         "1. DESARROLLO DEL FONDO EDITORIAL DE LA FACULTAD DE CONTADURIA Y ADMNISTRACION",
         "4161"
        ],
        [
         "12",
         "1592",
         "0",
         "3",
         "2. ADQUISICION DE EQUIPO DE COMPUTACION Y TELEVISION PARA LA FACULTAD DE CONTADURIA Y ADMNISTRACION",
         "4161"
        ],
        [
         "13",
         "1593",
         "0",
         "4",
         "3. APOYO AL ACERVO BIBLIOTECARIO DE LA FACULTAD DE CONTADURIA Y ADMNISTRACION.",
         "4161"
        ],
        [
         "14",
         "1594",
         "0",
         "5",
         "4. OTORGAR BECAS A LOS PROFESORES DE LA FACULTAD DE CONTADURIA Y ADMINISTRACION PARA REALIZAR ESTUDIOS DE DOCTORADO EN EL EXTRANJERO Y EN LA FACULTAD DE CONTADURIA Y ADMNISTRACION.",
         "4161"
        ],
        [
         "15",
         "1595",
         "0",
         "6",
         "5. OTORGAR BECAS A PROFESORES DE CARRERA DE TIEMPO COMLETO O DE ASIGNATURA DEFINITIVOS DE LA FACULTAD DE CONTADURIA Y ADMNISTRACION PARA CURSAR ESTUDIOS DE MAESTRIA DEL PROGRAMA DE POSGRADO EN CIENCIAS DE LA ADMNISTRACION Y DEL PROGRAMA DE ESPECIALIDADES DEL POSGRADO DE LA PROPIA FACULTAD.",
         "4161"
        ],
        [
         "16",
         "1596",
         "0",
         "7",
         "LAS BECAS QUE SE MENCIONAN EN LOS PUNTOS CUATRO Y CINCO DE LA CLAUSULA CUARTA DE ESTE CONTRATO SE OTORGARAN CONFORME A LO ESTABLECIDO EN LAS REGLAS DE OPERACION DEL FIDEICOMISO.",
         "4161"
        ],
        [
         "17",
         "1597",
         "0",
         "8",
         "PARA LOGRAR LO ANTERIOR, LA FIDUCIARIA REALIZAR¿ LAS SIGUIENTES ACTIVIDADES:",
         "4161"
        ],
        [
         "18",
         "1598",
         "0",
         "9",
         "A. INVERTIR¿ LOS FONDOS LIQUIDOS DEL FIDEICOMISO EN INSTRUMENTOS DE DEUDA GUBERNAMENTALES O BANCARIOS CONFORME A LO SIGUIENTE, EN LOS PLAZOS Y LOS T¿RMINOS QUE LE INSTRUYA POR ESCRITO O POR MEDIOS ELECTRONCOS EL COMITE TECNICO, TOMANDO A SU CARGO LA FIDUCIARIA LA VIGILANCIA DE LOS MISMOS Y REINVIRTIENDO EL PRODUCTO DE LAS AMORTIZACIONES DE LOS VALORES.",
         "4161"
        ],
        [
         "19",
         "1599",
         "0",
         "10",
         "1. INSTRUMETOS EMITIDOS, GARANTIZADOS O AVALADOS POR EL GOBIERNO FEDERAL O POR INSTITUCIONES DE CREDITO NACIONALES.",
         "4161"
        ],
        [
         "20",
         "1600",
         "0",
         "11",
         "A FALTA DE INSTRUCCIONES DEL COMITE TECNICO O EN EL SUPUESTO DE QUE LA FIDUCIARIA NO PUEDA INVERTIR LOS RECURSOS CONFORME A LAS INSTRUCCIONES GIRADAS, LA FIDUCIARIA INVERTIR¿ EN INSTRUMENTOS DE DEUDA GUBERNAMENTALES O BANCARIOS DE AMPLIA LIQUIDEZ.",
         "4161"
        ],
        [
         "21",
         "1601",
         "0",
         "12",
         "LA FIDUCIARIA NO SER¿ RESPONSABLE POR LOS MENOSCABOS QUE SUFRAN LOS VALORES EN QUE INVIERTA LA FIDUCIARIA, CON RELACION A SU PRECIO DE ADQUISICION POR FLUCTUACIONES EN EL MERCADO, A NO SER POR CULPA, NEGLIGENCIA O DOLO DE SU PARTE, EN LOS TERMINOS DEL ARTICULO 391 DE LA LEY GENERAL DE TITULOS Y OPERACIONES DE CREDITO.",
         "4161"
        ],
        [
         "22",
         "1602",
         "0",
         "13",
         "B. QUE LA FIDUCIARIA A PARTIR DE LA CONSTITUCION DEL PRESENTE CONTRATO, REINVIERTA EL 1000DE LOS PRODUCTOS QUE GENERE EL FONDO, COMO INCREMENTO AL MISMO, EN LOS TERMINOS ESTABLECIDOS EN EL INCISO ANTREIOR.",
         "4161"
        ],
        [
         "23",
         "1603",
         "0",
         "14",
         "C. LOS PRODUCTOS SE UTILIZARAN PARA LOS FINES QUE SE INDIQUEN EN LA CLAUSULA CUARTA DE ESTE CONVENIO, DE ACUERDO A LOS PORCENTAJES QUE DECIDA EL COMITE TECNICO.",
         "4161"
        ],
        [
         "24",
         "1604",
         "0",
         "15",
         "D. QUE LA FIDUCIARIA UNA VEZ QUE HAYA REALIZADO LAS ENTREGAS A QUE SE REFIEREN LOS INCISOS QUE ANTECEDEN, REINVIERTA EL REMANENTE DE LOS PRODUCTOS COMO INCREMENTO AL FONDO EN LOS T¿RMINOS DEL INCISO A) ANTERIOR.",
         "4161"
        ],
        [
         "25",
         "1605",
         "0",
         "16",
         "E. SI EL FIDEICOMISARIO EN PRIMER LUGAR NO UTILIZA LOS PRODUCTOS A QUE SE REFIEREN LOS INCISOS ANTERIORES EN EL T¿RMINO DE UN A¿O, ESTOS DEBER¿N DE REINVERTIRSE E INCORPORARSE AL PATRIMONIO DEL FONDO.",
         "4161"
        ],
        [
         "26",
         "1606",
         "0",
         "1",
         "A. QUE LA FIDUCIARIA, SIGUIENDO INSTRUCCIONES DEL COMITE TECNICO QUE MAS ADELANTE SE CONSTITUYE Y CON CARGO AL PATRIMONIO FIDEICOMITIDO, ENTREGUE A LAS PERSONAS FISICAS O MORALES QUE LE INDIQUE, LAS CANTIDADES QUE LE SE¿ALE, POR CONCEPTO DE LOS PAGOS QUE TENGA QUE EFECTUAR LA FIDEICMITENTE, DERIVADO DE LA PUBLICACION, EDICION, IMPRESION, DISRIBUCION Y COMERCIALIZACION DE LIBROS DE INTERES PARA EL SUBSISTEMA DE EDUCACION MEDIA SUPERIOR QUE INDIQUE LA SECRETARIA DE EDUCACI¿N P¿BLICA ",
         "4162"
        ],
        [
         "27",
         "1607",
         "0",
         "2",
         "DESTINAR PARTE DE LOS RECURSOS OBTENIDOS A LA COMERCIALIZACI¿N DE LOS LIBROS A QUE SE REFIERE EL INCISO ANTERIOR QUE INGRESEN AL PATRIMONIO DEL FIDEICOMISO PARA LA DIFUSI¿N DE LOS MISMOS, AS¿ COMO PARA LA ADQUISICI¿N Y CONTRATACI¿N DE EQUIPOS, MATERIALES Y SERVICIOS DID¿CTICOS, EDITORIALES, DE IMPRESI¿N E INFORM¿TICOS DESTINADOS A LA CAPACITACI¿N EN LOS PLANTELES EDUCATIVOS DEPENDIENTES DE LA SUBSECRETARIA DE EDUCACI¿N MEDIA SUPERIOR Y EQUIPOS Y MATERIALES ADMNISTRATIVOS, EQUIPOS Y MATERIALES EDITORIALES Y DE IMPRESI¿N Y EQUIPOS Y SERVICIOS INFORM¿TICOS, NECESARIOS PARA EL CUMPLIMIENTO DEL OBJETO DE ESTE CONTRATO QUE PREVIAMENTE SEAN APROBADOS POR EL COMIT¿ T¿CNICO.",
         "4162"
        ],
        [
         "28",
         "1608",
         "0",
         "3",
         "EL EJERCICIO Y APLICACI¿N DEL PATRIMONIO DEL FIDEICOMISO SE REALIZAR¿ DE CONFORMIDAD CON LAS DISPOSICIONES JUR¿DICAS QUE, EN MATERIA PRESUPUESTARIA, DE ADQUISICIONES, ARRENDAMIENTOS Y SERVICIOS, SEAN APLICABLES; SIN DESCUIDAR EL CAPITAL DE TRABAJO PARA CUMPLIR CON EL FIN PRINCIPAL DEL FIDEICOMISO",
         "4162"
        ],
        [
         "29",
         "1609",
         "0",
         "4",
         "B. QUE MIENTRAS LOS FONDOS FIDEICOMETIDOS OBREN EN PODER DE LA FIDUCIARIA Y ESTEN PENDIENTES DE APLICARSE AL FIN PRINCIPAL REFERIDO EN EL INCISO QUE ANTECEDE, LA FIDUCIARIA LOS INVIERTA EN VALORES GUBERNAMENTALES QUE LE INSTRUYA EL COMITE TECNICO, QUE OFREZCAN LA MAYOR SEGURIDAD, PROCURANDO OBTENER EL MAYOR RENDIMIENTO POSIBLE Y EN LOS PLAZOS QUE SEAN COMPATIBLES CON LA LIQUIDEZ QUE PRETENDE DARSE A DICHOS FONDOS.",
         "4162"
        ],
        [
         "30",
         "1610",
         "0",
         "5",
         "C. EN CASO DE EXISTIR REMANENTE AL TERMINO DEL FIDEICMMISO, LA FIDUCIARIA, POR INSTRUCCIONES ESCRITAS DEL COMITE TECNICO, LOS ENTREGARA A LA SECRETARIA DE EDUCACI¿N P¿BLICA O BIEN A LA PERSONA FISICA O MORAL QUE EL PROPIO COMITE LE INDIQUE.",
         "4162"
        ],
        [
         "31",
         "1611",
         "0",
         "6",
         "D. EN GENERAL, REALIZAR LOS ACTOS DE CARACTER LEGAL, ADMINISTRATIVO Y FISCAL QUE SE REQUIERAN PARA LA REALIZACION DE LOS FINES DEL FIDEICOMISO.",
         "4162"
        ],
        [
         "32",
         "1612",
         "0",
         "1",
         "A. QUE LA FIDUCIARIA RECIBA LAS APORTACIONES, POR CONDUCTO DE LA FINANCIERA, QUE EFECTUEN LOS FIDEICOMITENTES INICIALES Y ADHERENTES, ASI COMO LAS QUE EFECTUE LA FINANCIERA, EN LOS TERMINOS DEL PRESENTE CONTRATO Y LAS MANTENGA INVERTIDAS EN LOS INSTRUMENTOS QUE LE INSTRUYA EL COMITE TECNICO.",
         "4393"
        ],
        [
         "33",
         "1613",
         "0",
         "2",
         "B. QUE LA FIDUCIARIA ADMINISTRE LOS BIENES FIDEICOMITIDOS Y ENTREGUE A CADA UNO DE LOS FIDEICOMISARIOS EN SEGUNDO LUGAR, POR CONDUCTO DE LA FINANCIERA A TRAVES DE SU DIRECCION DE RECURSOS HUMANOS Y CALIDAD, LOS RENDIMIENTOS QUE LES CORRESPONDEN PROPORCIONALMENTE A LAS APORTACIONES EFECTUADAS AL PATRIMONIO DEL PRESENTE FIDEICOMISO, CONFORME A LO ESTIPULADO EN EL PRESENTE CONTRATO Y EN LA FOMRA Y TERMINOS QUE SE PREVEA EN LAS POLITICAS DEL PEA, O CONFORME A LAS INDICACIONES DEL COMITE TECNICO.",
         "4393"
        ],
        [
         "34",
         "1614",
         "0",
         "3",
         "C. QUE LA FIDUCIARIA REALICE LAS OPERACIONES DE COMPRA Y VENTA DE VALORES, A TRAVES DE LA FINANCIERA, YA SEA EN INSTRUMENTOS DE DEUDA O DE RENTA VARIABLE, SEGUN CORRESPONDA, SIGUIENDO LAS INSTRUCCIONES DE COMITE TECNICO.",
         "4393"
        ],
        [
         "35",
         "1615",
         "0",
         "4",
         "D. QUE, EN CASO DE QUE CONFOMRE A LO SE¿ALADO EN LOS INCISOS ANTERIORES, LA FIDUCIARIA ADQUIERA ACCIONES, EJERCITE LOS DERECHOS ECONOMICOS Y CORPORATIVOS INHERENTES A DICHOS VALORES, DE ACUERDO CON LAS INSTRUCCIONES QUE LE GIRE EL COMITE TECNICO.",
         "4393"
        ],
        [
         "36",
         "1616",
         "0",
         "5",
         "E. QUE LA FIDUCIARIA PRESENTE AL COMITE TECNICO LOS INFORMES QUE ESTE LE REQUIERA PARA VIGILAR LA CORRECTA ADMINISTRACION DE LOS RECURSOS QUE SE LE ENCOMIENDAN.",
         "4393"
        ],
        [
         "37",
         "1617",
         "0",
         "6",
         "F. QUE PREVIA INSTRUCCION DE LA FINANCIERA, LA FIDUCIARIA LE ENTREGUE A SU VENCIMIENTO, EL IMPORTE DEL PEA OTORGADO A CADA UNO DE LOS FIDEICOMISARIOS EN SEGUNDO LUGAR.",
         "4393"
        ],
        [
         "38",
         "1618",
         "0",
         "7",
         "G. QUE LA FIDUCIARIA CELEBRE TODOS LOS ACTOS QUE SE REQUIERAN PARA EL CUMPLIMIENTO DE LOS FINES DEL PRESENTE FIDEICOMISO.",
         "4393"
        ],
        [
         "39",
         "1619",
         "0",
         "1",
         "SON FIDEICOMISARIOS EN EL FIDEICOMISO IRREVOCABLE TRASLATIVO DE DOMINIO A QUE SE REFIEREN LAS CL¿USULAS PRECEDENTES, EL BANCO DE M¿XICO, EL SE¿OR RESTITUTO ENRIQUE RUIZ GARCIA Y LA SE¿ORA BARBEL ANNA DORA NINZYL MARTENS, SIENDO FINES DE ESTE FIDEICOMISO QUE, EN LOS T¿RMINOS DEL PRESENTE CONTRATO, EL PRIMERO ADQUIERA LA PROPIEDAD DE LOS BIENES MATERIA DEL MISMO, SIN QUE POR ELLOS DEBA ENTREGAR CONTRAPRESTACI¿N ALGUNA Y QUE EL SEGUNDO Y LA TERCERA TENGAN EL USO DE LOS MISMOS EN FORMA VITALICIA, ASUMIENDO ESTOS DOS ¿LTIMOS AL EFECTO, LAS OBLIGACIONES SIGUIENTES:",
         "4167"
        ],
        [
         "40",
         "1620",
         "0",
         "2",
         "1. CONSERVAR Y MANTENER EL INMUEBLE Y LA BIBLIOTECA MATERIA DEL FIDEICOMISO A QUE SE REFIEREN LAS  CL¿USULAS PRIMERA Y SEGUNDA, REALIZANDO A SU COSTA TODOS LOS GASTOS QUE PARA ELLO SEAN NECESARIOS. AS¿MISMO, SE OBLIGAN A MANTENER DICHA BIBLIOTECA DENTRO DEL INMUEBLE REFERIDO.",
         "4167"
        ],
        [
         "41",
         "1621",
         "0",
         "3",
         "2. EL SE¿OR RESTITUTO ENRIQUE RUIZ GARCIA Y LA SE¿ORA BARBEL ANNA DORA NINZYL MARTENS DEBER¿N, EN UN PLAZO DE DOS A¿OS CONTADOS A PARTIR DEL OTORGAMIENTO DEL PRESENTE INSTRUMENTO, ENTREGAR A LA FIDUCIARIA Y A BANCO DE M¿XICO, EL INVENTARIO PORMENORIZADO Y DEBIDAMENTE CLASIFICADO PARA EFECTOS BIBLIOGRAFICOS, DEL ACERVO QUE INTEGRA LA BIBLIOTECA MATERIA DEL PRESENTE FIDEICOMISO.",
         "4167"
        ],
        [
         "42",
         "1622",
         "0",
         "4",
         "3. CUBRIR TODAS LAS CONSTRIBUCIONES QUE CORRESPONDAN AL INMUEBLE A QUE SE REFIERE LA CLAUSULA PRIMERA, AS¿ COMO HABITARLO Y NO CELEBRAR RESPECTO DE DICHO INMUEBLE, NING¿N CONTRATO DE ARRENDAMIENTO, COMODATO O ESTABLECER DERECHOS REALES DE USUFRUCTO, O HABITACI¿N, AS¿ COMO NO CELEBRAR NING¿N ACTO QUE PERMITA LA TRANSMISI¿N DEL USO DE DICHO INMUEBLE.",
         "4167"
        ],
        [
         "43",
         "1623",
         "0",
         "5",
         "4. NO CEDER POR NING¿N T¿TULO, NI OFRECER EN GARANT¿A LOS DERECHOS QUE COMO FIDEICOMISARIOS LES CORRESPONDAN RESPECTO DE LOS BIENES MATERIA DEL FIDEICOMISO, AS¿ COMO DAR A CONOCER TANTO A LA INSTITUCI¿N FIDUCIARIA DESIGNADA, COMO AL BANCO DE M¿XICO, DE CUALQUIER HECHO O CIRCUNSTANCIA QUE PUDIERA OCASIONAR UN DA¿O O PERJUICIO A LOS BIENES REFERIDOS.",
         "4167"
        ],
        [
         "44",
         "1624",
         "0",
         "6",
         "5. PERMITIR, CUANDO AS¿ SE LES REQUIERA PREVIAMENTE POR ESCRITO, EL ACCESO A LAS PERSONAS QUE AL EFECTO DESIGNEN LA INSTITUCI¿N FIDUCIARIA O EL BANCO DE M¿XICO, A FIN DE QUE ESTOS PUEDAN VERIFICAR EL DEBIDO MANTENIMIENTO Y CONSERVACI¿N DE LOS BIENES MATERIA DEL FIDEICOMISO. ASIMISMO, SE OBLIGAN A CUMPLIR CON LAS INDICACIONES QUE SOBRE EL PARTICULAR LES HAGAN LAS PERSONAS QUE AL EFECTO DESIGNEN LA INSTITUCI¿N FIDUCIARIA Y EL BANCO DE M¿XICO.",
         "4167"
        ],
        [
         "45",
         "1625",
         "0",
         "7",
         "TAMBI¿N SON FINES DEL PRESENTE FIDEICOMISO QUE  A LA MUERTE DE LOS FIDEICOMISARIOS SE¿OR RESTITUTO ENRIQUE RUIZ GARCIA Y SE¿ORA BARBEL ANNA DORA NINZYL MARTENS, NACIONAL FINANCIERA, SOCIEDAD NACIONAL DE CREDITO, COMO FIDUCIARIA, TRANSMITA AL FIDEICOMISARIO BANCO DE M¿XICO, LA PROPIEDAD DEL INMUEBLE Y DE LA BIBLIOTECA, A QUE SE REFIEREN RESPECTIVAMENTE, LAS CLAUSULAS PRIMERA Y SEGUNDA DE ESTA ESCRITURA, SIN QUE POR ELLO BANCO DE MEXICO DEBA ENTREGAR CONTRAPRESTACI¿N ALGUNA.",
         "4167"
        ],
        [
         "46",
         "1626",
         "0",
         "1",
         "EL MANDATO TENDR¿ COMO FINALIDAD ESPEC¿FICA MANEJAR CON SEGURIDAD Y TRANSPARENCIA LOS RECURSOS QUE SEAN DESTINADOS PARA LAS EXPOSICIONES, AS¿ COMO LOS INGRESOS ADICIONALES PROVENIENTES DE LAS ACTIVIDADES RELACIONADAS CON LAS EXPOSICIONES.",
         "4172"
        ],
        [
         "47",
         "1627",
         "0",
         "2",
         "PARA LA CONSECUCI¿N DE LOS FINES DE ESTE MANDATO, LA MANDATARIA DEBER¿:",
         "4172"
        ],
        [
         "48",
         "1628",
         "0",
         "3",
         "RECIBIR LOS RECURSOS FINANCIEROS QUE LE ENTREGUEN LOS MANDANTES.",
         "4172"
        ],
        [
         "49",
         "1629",
         "0",
         "4",
         "REALIZAR CON CARGO AL PATRIMONIO DEL MANDATO, LAS INVERSIONES, DESEMBOLSOS Y EN GENERAL, CONFERIR LOS APOYOS FINANCIEROS QUE APRUEBE EL COMIT¿ T¿CNICO QUE M¿S ADELANTE SE CONSTITUYE, RELACIONADOS CON EL OBJETO Y OPERACI¿N DE LAS EXPOSICIONES.",
         "4172"
        ]
       ],
       "shape": {
        "columns": 5,
        "rows": 2342
       }
      },
      "text/html": [
       "<div>\n",
       "<style scoped>\n",
       "    .dataframe tbody tr th:only-of-type {\n",
       "        vertical-align: middle;\n",
       "    }\n",
       "\n",
       "    .dataframe tbody tr th {\n",
       "        vertical-align: top;\n",
       "    }\n",
       "\n",
       "    .dataframe thead th {\n",
       "        text-align: right;\n",
       "    }\n",
       "</style>\n",
       "<table border=\"1\" class=\"dataframe\">\n",
       "  <thead>\n",
       "    <tr style=\"text-align: right;\">\n",
       "      <th></th>\n",
       "      <th>OID</th>\n",
       "      <th>OVERSION</th>\n",
       "      <th>CODE</th>\n",
       "      <th>DESCRIPTION</th>\n",
       "      <th>CUSTOMER</th>\n",
       "    </tr>\n",
       "  </thead>\n",
       "  <tbody>\n",
       "    <tr>\n",
       "      <th>0</th>\n",
       "      <td>1580</td>\n",
       "      <td>0</td>\n",
       "      <td>1</td>\n",
       "      <td>A. Que la fiduciaria reciba el patrimonio fide...</td>\n",
       "      <td>4148</td>\n",
       "    </tr>\n",
       "    <tr>\n",
       "      <th>1</th>\n",
       "      <td>1581</td>\n",
       "      <td>0</td>\n",
       "      <td>2</td>\n",
       "      <td>B.  Que la fiduciaria contrate, con cargo al p...</td>\n",
       "      <td>4148</td>\n",
       "    </tr>\n",
       "    <tr>\n",
       "      <th>2</th>\n",
       "      <td>1582</td>\n",
       "      <td>0</td>\n",
       "      <td>3</td>\n",
       "      <td>C. Que la fiduciaria, con cargo al patrimonio ...</td>\n",
       "      <td>4148</td>\n",
       "    </tr>\n",
       "    <tr>\n",
       "      <th>3</th>\n",
       "      <td>1583</td>\n",
       "      <td>0</td>\n",
       "      <td>4</td>\n",
       "      <td>D. Que la fiduciaria, con cargo al patrimonio ...</td>\n",
       "      <td>4148</td>\n",
       "    </tr>\n",
       "    <tr>\n",
       "      <th>4</th>\n",
       "      <td>1584</td>\n",
       "      <td>0</td>\n",
       "      <td>5</td>\n",
       "      <td>E. Que la fiduciaria, con cargo al patrimonio ...</td>\n",
       "      <td>4148</td>\n",
       "    </tr>\n",
       "    <tr>\n",
       "      <th>...</th>\n",
       "      <td>...</td>\n",
       "      <td>...</td>\n",
       "      <td>...</td>\n",
       "      <td>...</td>\n",
       "      <td>...</td>\n",
       "    </tr>\n",
       "    <tr>\n",
       "      <th>2337</th>\n",
       "      <td>6731</td>\n",
       "      <td>0</td>\n",
       "      <td>2.1</td>\n",
       "      <td>C.6.5.3.inciso (13). Retiros.\\nBeneficiario: B...</td>\n",
       "      <td>6678</td>\n",
       "    </tr>\n",
       "    <tr>\n",
       "      <th>2338</th>\n",
       "      <td>6732</td>\n",
       "      <td>0</td>\n",
       "      <td>5.1</td>\n",
       "      <td>C.6.5.3. inciso (14). Retiros\\n\\nBeneficiario:...</td>\n",
       "      <td>6678</td>\n",
       "    </tr>\n",
       "    <tr>\n",
       "      <th>2339</th>\n",
       "      <td>6733</td>\n",
       "      <td>0</td>\n",
       "      <td>2</td>\n",
       "      <td>Cláusula Novena.- De los gastos.- Todos los ga...</td>\n",
       "      <td>4185</td>\n",
       "    </tr>\n",
       "    <tr>\n",
       "      <th>2340</th>\n",
       "      <td>6734</td>\n",
       "      <td>0</td>\n",
       "      <td>3</td>\n",
       "      <td>CLAUSULA CUARTA,- PATRIMONIO DE RESERVA PARA P...</td>\n",
       "      <td>3723</td>\n",
       "    </tr>\n",
       "    <tr>\n",
       "      <th>2341</th>\n",
       "      <td>6735</td>\n",
       "      <td>1</td>\n",
       "      <td>1</td>\n",
       "      <td>\\nCláusula Cuarta. Fines del Fideicomiso. Inci...</td>\n",
       "      <td>3740</td>\n",
       "    </tr>\n",
       "  </tbody>\n",
       "</table>\n",
       "<p>2342 rows × 5 columns</p>\n",
       "</div>"
      ],
      "text/plain": [
       "       OID  OVERSION CODE                                        DESCRIPTION  \\\n",
       "0     1580         0    1  A. Que la fiduciaria reciba el patrimonio fide...   \n",
       "1     1581         0    2  B.  Que la fiduciaria contrate, con cargo al p...   \n",
       "2     1582         0    3  C. Que la fiduciaria, con cargo al patrimonio ...   \n",
       "3     1583         0    4  D. Que la fiduciaria, con cargo al patrimonio ...   \n",
       "4     1584         0    5  E. Que la fiduciaria, con cargo al patrimonio ...   \n",
       "...    ...       ...  ...                                                ...   \n",
       "2337  6731         0  2.1  C.6.5.3.inciso (13). Retiros.\\nBeneficiario: B...   \n",
       "2338  6732         0  5.1  C.6.5.3. inciso (14). Retiros\\n\\nBeneficiario:...   \n",
       "2339  6733         0    2  Cláusula Novena.- De los gastos.- Todos los ga...   \n",
       "2340  6734         0    3  CLAUSULA CUARTA,- PATRIMONIO DE RESERVA PARA P...   \n",
       "2341  6735         1    1  \\nCláusula Cuarta. Fines del Fideicomiso. Inci...   \n",
       "\n",
       "      CUSTOMER  \n",
       "0         4148  \n",
       "1         4148  \n",
       "2         4148  \n",
       "3         4148  \n",
       "4         4148  \n",
       "...        ...  \n",
       "2337      6678  \n",
       "2338      6678  \n",
       "2339      4185  \n",
       "2340      3723  \n",
       "2341      3740  \n",
       "\n",
       "[2342 rows x 5 columns]"
      ]
     },
     "execution_count": 43,
     "metadata": {},
     "output_type": "execute_result"
    }
   ],
   "source": [
    "TRUST_GOAL"
   ]
  },
  {
   "cell_type": "code",
   "execution_count": 40,
   "metadata": {},
   "outputs": [],
   "source": [
    "del TRANSACTION_SUBTYPES"
   ]
  },
  {
   "cell_type": "code",
   "execution_count": 34,
   "metadata": {},
   "outputs": [],
   "source": [
    "df[\"TX_CONCEPT\"] = df[\"TX_CONCEPT\"].apply(lambda x: tx_concept.loc[tx_concept[\"OID\"] == x, \"DESCRIPTION\"].values[0] if pd.notna(x) and not tx_concept.loc[tx_concept[\"OID\"] == x, \"DESCRIPTION\"].empty else x)"
   ]
  },
  {
   "cell_type": "code",
   "execution_count": 44,
   "metadata": {},
   "outputs": [],
   "source": [
    "df[\"TRUST_GOAL\"] = df[\"TRUST_GOAL\"].apply(lambda x: TRUST_GOAL.loc[TRUST_GOAL[\"OID\"] == x, \"DESCRIPTION\"].values[0] if pd.notna(x) and not TRUST_GOAL.loc[TRUST_GOAL[\"OID\"] == x, \"DESCRIPTION\"].empty else x)"
   ]
  },
  {
   "cell_type": "code",
   "execution_count": 47,
   "metadata": {},
   "outputs": [],
   "source": [
    "df.to_csv(\"/home/ale1726/proyects/datalake/clientes/data/productos/SIFC/prod_2_sifc.dat\", index=False)"
   ]
  },
  {
   "cell_type": "code",
   "execution_count": 45,
   "metadata": {},
   "outputs": [
    {
     "data": {
      "application/vnd.microsoft.datawrangler.viewer.v0+json": {
       "columns": [
        {
         "name": "index",
         "rawType": "int64",
         "type": "integer"
        },
        {
         "name": "OID_CUSTOMERS",
         "rawType": "int64",
         "type": "integer"
        },
        {
         "name": "CUSTOMER_ID",
         "rawType": "int64",
         "type": "integer"
        },
        {
         "name": "LEGAL_NAME",
         "rawType": "object",
         "type": "string"
        },
        {
         "name": "DESCRIPTION",
         "rawType": "object",
         "type": "string"
        },
        {
         "name": "RFC",
         "rawType": "object",
         "type": "string"
        },
        {
         "name": "ADDRESS_DUMP",
         "rawType": "object",
         "type": "string"
        },
        {
         "name": "OID_ACCOUNTS",
         "rawType": "int64",
         "type": "integer"
        },
        {
         "name": "RFC2",
         "rawType": "object",
         "type": "string"
        },
        {
         "name": "ID_TRANSACTION",
         "rawType": "int64",
         "type": "integer"
        },
        {
         "name": "ENTRY_DATE",
         "rawType": "object",
         "type": "string"
        },
        {
         "name": "ARRANGEMENT_DATE",
         "rawType": "object",
         "type": "string"
        },
        {
         "name": "SETTLEMENT_DATE",
         "rawType": "object",
         "type": "unknown"
        },
        {
         "name": "PRI_SERIES_AGREEDATE",
         "rawType": "object",
         "type": "string"
        },
        {
         "name": "SEC_SERIES_AGREEDATE",
         "rawType": "object",
         "type": "string"
        },
        {
         "name": "PRI_SERIES_AMOUNT",
         "rawType": "float64",
         "type": "float"
        },
        {
         "name": "COMMISIONS_AMOUNT",
         "rawType": "float64",
         "type": "float"
        },
        {
         "name": "TRANSACTION_END_DATE",
         "rawType": "object",
         "type": "unknown"
        },
        {
         "name": "TRANSACTION_RATE",
         "rawType": "float64",
         "type": "float"
        },
        {
         "name": "TX_COMMENTS",
         "rawType": "object",
         "type": "string"
        },
        {
         "name": "TX_CONCEPT",
         "rawType": "object",
         "type": "string"
        },
        {
         "name": "TRUST_GOAL",
         "rawType": "object",
         "type": "string"
        },
        {
         "name": "TX_SUBTYPE",
         "rawType": "object",
         "type": "string"
        }
       ],
       "conversionMethod": "pd.DataFrame",
       "ref": "bb900ee2-2128-488d-a40d-a00f63219aaa",
       "rows": [
        [
         "1210",
         "3089",
         "11480",
         "Fondo para la Participacion de Riesgos",
         "Fondo para la Participacion de Riesgos",
         "XXXXXXXXXXXXX",
         "1020|||DISTRITO FEDERAL|ALVARO OBREGON |GUADALUPE INN |INSURGENTES SUR |# 1971 TORRE IV PISO 5|||||",
         "34141",
         "NFI3406305T0",
         "341439",
         "2012-10-03 12:11:03",
         "2012-10-03 00:00:00",
         null,
         "2012-10-03 00:00:00",
         "2012-10-03 00:00:00",
         "981495.92",
         "0.0",
         null,
         null,
         "PAGO DE 1 GTIA BANORTE 1317-2-2-4 $995,611.47 Y ABONO COM $12,168.58 IVA $1,946.97 FH-03/10/12",
         "PAGO DE GARANTIAS CON COMISION E IVA",
         "Compartir con las instituciones financieras bancarias y no bancarias INTERMEDIARIOS) que determina el Comité Técnico, el riego crediticio de los financiamientos que estos otorguen a las empresas y personas físicas nacionales, así como participar en el riesgo, con las instituciones afianzadoras del país constituidas conforme la Ley Federal de Instituciones de Fianzas (AFIANZADORAS), mediante la modalidad de subasta a primeras pérdidas en la Garantía de Fianzas en apoyo a las PyMEs proveedoras del Gobierno Federal para que participen en contratos de Proveeduría de bienes, servicios y obra pública.\r\nAsimismo conforme a la CLAUSULA VIGESIMA.- GASTOS, IMPUESTOS, DERECHOS, COMISIONES Y HONORARIOS.- Todos los gastos, impuestos, derechos, comisiones, honorarios y  demás erogaciones que se originen con motivo del ejercicio del FIDEICOMISO, se cubrirán con cargo a su patrimonio. En razón de lo anterior, las obligaciones a cargo del presente FIDEICOMISO, se cumplirán solo con el patrimonio fideicomitido, por lo que si por cualquier causa dicho patrimonio no fuera suficiente para que la FIDUCIARIA lleve a cabo los pagos conforme a este instrumento, la FIDUCIARIA no será responsable de las obligaciones  contraídas con cargo a los recursos del FIDEICOMISO.\r\n",
         "CORTO PLAZO"
        ],
        [
         "1211",
         "3089",
         "11480",
         "Fondo para la Participacion de Riesgos",
         "Fondo para la Participacion de Riesgos",
         "XXXXXXXXXXXXX",
         "1020|||DISTRITO FEDERAL|ALVARO OBREGON |GUADALUPE INN |INSURGENTES SUR |# 1971 TORRE IV PISO 5|||||",
         "34141",
         "NFI3406305T0",
         "340454",
         "2012-10-02 12:01:47",
         "2012-10-02 00:00:00",
         "2012-10-02 00:00:00",
         "2012-10-02 00:00:00",
         "2012-10-02 00:00:00",
         "3102884.97",
         "0.0",
         null,
         null,
         "CANCELACION DE FICHA 287611 POR DUPLICIDAD EN EL DEPOSITO AL FISO 1148-0",
         "PAGO DE ACREEDORES DIVERSOS",
         "Compartir con las instituciones financieras bancarias y no bancarias INTERMEDIARIOS) que determina el Comité Técnico, el riego crediticio de los financiamientos que estos otorguen a las empresas y personas físicas nacionales, así como participar en el riesgo, con las instituciones afianzadoras del país constituidas conforme la Ley Federal de Instituciones de Fianzas (AFIANZADORAS), mediante la modalidad de subasta a primeras pérdidas en la Garantía de Fianzas en apoyo a las PyMEs proveedoras del Gobierno Federal para que participen en contratos de Proveeduría de bienes, servicios y obra pública.\r\nAsimismo conforme a la CLAUSULA VIGESIMA.- GASTOS, IMPUESTOS, DERECHOS, COMISIONES Y HONORARIOS.- Todos los gastos, impuestos, derechos, comisiones, honorarios y  demás erogaciones que se originen con motivo del ejercicio del FIDEICOMISO, se cubrirán con cargo a su patrimonio. En razón de lo anterior, las obligaciones a cargo del presente FIDEICOMISO, se cumplirán solo con el patrimonio fideicomitido, por lo que si por cualquier causa dicho patrimonio no fuera suficiente para que la FIDUCIARIA lleve a cabo los pagos conforme a este instrumento, la FIDUCIARIA no será responsable de las obligaciones  contraídas con cargo a los recursos del FIDEICOMISO.\r\n",
         "CORTO PLAZO"
        ],
        [
         "1212",
         "3089",
         "11480",
         "Fondo para la Participacion de Riesgos",
         "Fondo para la Participacion de Riesgos",
         "XXXXXXXXXXXXX",
         "1020|||DISTRITO FEDERAL|ALVARO OBREGON |GUADALUPE INN |INSURGENTES SUR |# 1971 TORRE IV PISO 5|||||",
         "34141",
         "NFI3406305T0",
         "340455",
         "2012-10-02 12:02:42",
         "2012-10-02 00:00:00",
         "2012-10-02 00:00:00",
         "2012-10-02 00:00:00",
         "2012-10-02 00:00:00",
         "54748.88",
         "0.0",
         null,
         null,
         "CANCELACION DE FICHA 282406 DEL IF BANAMEX DEL 21/09/2012 POR DUCPLICIDAD DE MOVIMIENTO",
         "PAGO DE ACREEDORES DIVERSOS",
         "Compartir con las instituciones financieras bancarias y no bancarias INTERMEDIARIOS) que determina el Comité Técnico, el riego crediticio de los financiamientos que estos otorguen a las empresas y personas físicas nacionales, así como participar en el riesgo, con las instituciones afianzadoras del país constituidas conforme la Ley Federal de Instituciones de Fianzas (AFIANZADORAS), mediante la modalidad de subasta a primeras pérdidas en la Garantía de Fianzas en apoyo a las PyMEs proveedoras del Gobierno Federal para que participen en contratos de Proveeduría de bienes, servicios y obra pública.\r\nAsimismo conforme a la CLAUSULA VIGESIMA.- GASTOS, IMPUESTOS, DERECHOS, COMISIONES Y HONORARIOS.- Todos los gastos, impuestos, derechos, comisiones, honorarios y  demás erogaciones que se originen con motivo del ejercicio del FIDEICOMISO, se cubrirán con cargo a su patrimonio. En razón de lo anterior, las obligaciones a cargo del presente FIDEICOMISO, se cumplirán solo con el patrimonio fideicomitido, por lo que si por cualquier causa dicho patrimonio no fuera suficiente para que la FIDUCIARIA lleve a cabo los pagos conforme a este instrumento, la FIDUCIARIA no será responsable de las obligaciones  contraídas con cargo a los recursos del FIDEICOMISO.\r\n",
         "CORTO PLAZO"
        ],
        [
         "1213",
         "3089",
         "11480",
         "Fondo para la Participacion de Riesgos",
         "Fondo para la Participacion de Riesgos",
         "XXXXXXXXXXXXX",
         "1020|||DISTRITO FEDERAL|ALVARO OBREGON |GUADALUPE INN |INSURGENTES SUR |# 1971 TORRE IV PISO 5|||||",
         "34141",
         "NFI3406305T0",
         "340459",
         "2012-10-02 12:11:01",
         "2012-10-02 00:00:00",
         "2012-10-02 00:00:00",
         "2012-10-02 00:00:00",
         "2012-10-02 00:00:00",
         "922360.15",
         "0.0",
         null,
         null,
         "CANCELACION DE LA FICHA 284410 DE FIDE ",
         "PAGO DE ACREEDORES DIVERSOS",
         "Compartir con las instituciones financieras bancarias y no bancarias INTERMEDIARIOS) que determina el Comité Técnico, el riego crediticio de los financiamientos que estos otorguen a las empresas y personas físicas nacionales, así como participar en el riesgo, con las instituciones afianzadoras del país constituidas conforme la Ley Federal de Instituciones de Fianzas (AFIANZADORAS), mediante la modalidad de subasta a primeras pérdidas en la Garantía de Fianzas en apoyo a las PyMEs proveedoras del Gobierno Federal para que participen en contratos de Proveeduría de bienes, servicios y obra pública.\r\nAsimismo conforme a la CLAUSULA VIGESIMA.- GASTOS, IMPUESTOS, DERECHOS, COMISIONES Y HONORARIOS.- Todos los gastos, impuestos, derechos, comisiones, honorarios y  demás erogaciones que se originen con motivo del ejercicio del FIDEICOMISO, se cubrirán con cargo a su patrimonio. En razón de lo anterior, las obligaciones a cargo del presente FIDEICOMISO, se cumplirán solo con el patrimonio fideicomitido, por lo que si por cualquier causa dicho patrimonio no fuera suficiente para que la FIDUCIARIA lleve a cabo los pagos conforme a este instrumento, la FIDUCIARIA no será responsable de las obligaciones  contraídas con cargo a los recursos del FIDEICOMISO.\r\n",
         "CORTO PLAZO"
        ],
        [
         "1215",
         "3089",
         "11480",
         "Fondo para la Participacion de Riesgos",
         "Fondo para la Participacion de Riesgos",
         "XXXXXXXXXXXXX",
         "1020|||DISTRITO FEDERAL|ALVARO OBREGON |GUADALUPE INN |INSURGENTES SUR |# 1971 TORRE IV PISO 5|||||",
         "34141",
         "NFI3406305T0",
         "341437",
         "2012-10-03 12:08:53",
         "2012-10-03 00:00:00",
         null,
         "2012-10-03 00:00:00",
         "2012-10-03 00:00:00",
         "136745.59",
         "0.0",
         null,
         null,
         "PAGO DE 8 GTIAS BANCO AUTOFIN 1317-2-2-145 $138,739.71 Y ABONO COM $1,719.07 IVA $275.05 FH-03/10/12",
         "PAGO DE GARANTIAS CON COMISION E IVA",
         "Compartir con las instituciones financieras bancarias y no bancarias INTERMEDIARIOS) que determina el Comité Técnico, el riego crediticio de los financiamientos que estos otorguen a las empresas y personas físicas nacionales, así como participar en el riesgo, con las instituciones afianzadoras del país constituidas conforme la Ley Federal de Instituciones de Fianzas (AFIANZADORAS), mediante la modalidad de subasta a primeras pérdidas en la Garantía de Fianzas en apoyo a las PyMEs proveedoras del Gobierno Federal para que participen en contratos de Proveeduría de bienes, servicios y obra pública.\r\nAsimismo conforme a la CLAUSULA VIGESIMA.- GASTOS, IMPUESTOS, DERECHOS, COMISIONES Y HONORARIOS.- Todos los gastos, impuestos, derechos, comisiones, honorarios y  demás erogaciones que se originen con motivo del ejercicio del FIDEICOMISO, se cubrirán con cargo a su patrimonio. En razón de lo anterior, las obligaciones a cargo del presente FIDEICOMISO, se cumplirán solo con el patrimonio fideicomitido, por lo que si por cualquier causa dicho patrimonio no fuera suficiente para que la FIDUCIARIA lleve a cabo los pagos conforme a este instrumento, la FIDUCIARIA no será responsable de las obligaciones  contraídas con cargo a los recursos del FIDEICOMISO.\r\n",
         "CORTO PLAZO"
        ]
       ],
       "shape": {
        "columns": 22,
        "rows": 5
       }
      },
      "text/html": [
       "<div>\n",
       "<style scoped>\n",
       "    .dataframe tbody tr th:only-of-type {\n",
       "        vertical-align: middle;\n",
       "    }\n",
       "\n",
       "    .dataframe tbody tr th {\n",
       "        vertical-align: top;\n",
       "    }\n",
       "\n",
       "    .dataframe thead th {\n",
       "        text-align: right;\n",
       "    }\n",
       "</style>\n",
       "<table border=\"1\" class=\"dataframe\">\n",
       "  <thead>\n",
       "    <tr style=\"text-align: right;\">\n",
       "      <th></th>\n",
       "      <th>OID_CUSTOMERS</th>\n",
       "      <th>CUSTOMER_ID</th>\n",
       "      <th>LEGAL_NAME</th>\n",
       "      <th>DESCRIPTION</th>\n",
       "      <th>RFC</th>\n",
       "      <th>ADDRESS_DUMP</th>\n",
       "      <th>OID_ACCOUNTS</th>\n",
       "      <th>RFC2</th>\n",
       "      <th>ID_TRANSACTION</th>\n",
       "      <th>ENTRY_DATE</th>\n",
       "      <th>...</th>\n",
       "      <th>PRI_SERIES_AGREEDATE</th>\n",
       "      <th>SEC_SERIES_AGREEDATE</th>\n",
       "      <th>PRI_SERIES_AMOUNT</th>\n",
       "      <th>COMMISIONS_AMOUNT</th>\n",
       "      <th>TRANSACTION_END_DATE</th>\n",
       "      <th>TRANSACTION_RATE</th>\n",
       "      <th>TX_COMMENTS</th>\n",
       "      <th>TX_CONCEPT</th>\n",
       "      <th>TRUST_GOAL</th>\n",
       "      <th>TX_SUBTYPE</th>\n",
       "    </tr>\n",
       "  </thead>\n",
       "  <tbody>\n",
       "    <tr>\n",
       "      <th>1210</th>\n",
       "      <td>3089</td>\n",
       "      <td>11480</td>\n",
       "      <td>Fondo para la Participacion de Riesgos</td>\n",
       "      <td>Fondo para la Participacion de Riesgos</td>\n",
       "      <td>XXXXXXXXXXXXX</td>\n",
       "      <td>1020|||DISTRITO FEDERAL|ALVARO OBREGON |GUADAL...</td>\n",
       "      <td>34141</td>\n",
       "      <td>NFI3406305T0</td>\n",
       "      <td>341439</td>\n",
       "      <td>2012-10-03 12:11:03</td>\n",
       "      <td>...</td>\n",
       "      <td>2012-10-03 00:00:00</td>\n",
       "      <td>2012-10-03 00:00:00</td>\n",
       "      <td>981495.92</td>\n",
       "      <td>0.0</td>\n",
       "      <td>NaN</td>\n",
       "      <td>NaN</td>\n",
       "      <td>PAGO DE 1 GTIA BANORTE 1317-2-2-4 $995,611.47 ...</td>\n",
       "      <td>PAGO DE GARANTIAS CON COMISION E IVA</td>\n",
       "      <td>Compartir con las instituciones financieras ba...</td>\n",
       "      <td>CORTO PLAZO</td>\n",
       "    </tr>\n",
       "    <tr>\n",
       "      <th>1211</th>\n",
       "      <td>3089</td>\n",
       "      <td>11480</td>\n",
       "      <td>Fondo para la Participacion de Riesgos</td>\n",
       "      <td>Fondo para la Participacion de Riesgos</td>\n",
       "      <td>XXXXXXXXXXXXX</td>\n",
       "      <td>1020|||DISTRITO FEDERAL|ALVARO OBREGON |GUADAL...</td>\n",
       "      <td>34141</td>\n",
       "      <td>NFI3406305T0</td>\n",
       "      <td>340454</td>\n",
       "      <td>2012-10-02 12:01:47</td>\n",
       "      <td>...</td>\n",
       "      <td>2012-10-02 00:00:00</td>\n",
       "      <td>2012-10-02 00:00:00</td>\n",
       "      <td>3102884.97</td>\n",
       "      <td>0.0</td>\n",
       "      <td>NaN</td>\n",
       "      <td>NaN</td>\n",
       "      <td>CANCELACION DE FICHA 287611 POR DUPLICIDAD EN ...</td>\n",
       "      <td>PAGO DE ACREEDORES DIVERSOS</td>\n",
       "      <td>Compartir con las instituciones financieras ba...</td>\n",
       "      <td>CORTO PLAZO</td>\n",
       "    </tr>\n",
       "    <tr>\n",
       "      <th>1212</th>\n",
       "      <td>3089</td>\n",
       "      <td>11480</td>\n",
       "      <td>Fondo para la Participacion de Riesgos</td>\n",
       "      <td>Fondo para la Participacion de Riesgos</td>\n",
       "      <td>XXXXXXXXXXXXX</td>\n",
       "      <td>1020|||DISTRITO FEDERAL|ALVARO OBREGON |GUADAL...</td>\n",
       "      <td>34141</td>\n",
       "      <td>NFI3406305T0</td>\n",
       "      <td>340455</td>\n",
       "      <td>2012-10-02 12:02:42</td>\n",
       "      <td>...</td>\n",
       "      <td>2012-10-02 00:00:00</td>\n",
       "      <td>2012-10-02 00:00:00</td>\n",
       "      <td>54748.88</td>\n",
       "      <td>0.0</td>\n",
       "      <td>NaN</td>\n",
       "      <td>NaN</td>\n",
       "      <td>CANCELACION DE FICHA 282406 DEL IF BANAMEX DEL...</td>\n",
       "      <td>PAGO DE ACREEDORES DIVERSOS</td>\n",
       "      <td>Compartir con las instituciones financieras ba...</td>\n",
       "      <td>CORTO PLAZO</td>\n",
       "    </tr>\n",
       "    <tr>\n",
       "      <th>1213</th>\n",
       "      <td>3089</td>\n",
       "      <td>11480</td>\n",
       "      <td>Fondo para la Participacion de Riesgos</td>\n",
       "      <td>Fondo para la Participacion de Riesgos</td>\n",
       "      <td>XXXXXXXXXXXXX</td>\n",
       "      <td>1020|||DISTRITO FEDERAL|ALVARO OBREGON |GUADAL...</td>\n",
       "      <td>34141</td>\n",
       "      <td>NFI3406305T0</td>\n",
       "      <td>340459</td>\n",
       "      <td>2012-10-02 12:11:01</td>\n",
       "      <td>...</td>\n",
       "      <td>2012-10-02 00:00:00</td>\n",
       "      <td>2012-10-02 00:00:00</td>\n",
       "      <td>922360.15</td>\n",
       "      <td>0.0</td>\n",
       "      <td>NaN</td>\n",
       "      <td>NaN</td>\n",
       "      <td>CANCELACION DE LA FICHA 284410 DE FIDE</td>\n",
       "      <td>PAGO DE ACREEDORES DIVERSOS</td>\n",
       "      <td>Compartir con las instituciones financieras ba...</td>\n",
       "      <td>CORTO PLAZO</td>\n",
       "    </tr>\n",
       "    <tr>\n",
       "      <th>1215</th>\n",
       "      <td>3089</td>\n",
       "      <td>11480</td>\n",
       "      <td>Fondo para la Participacion de Riesgos</td>\n",
       "      <td>Fondo para la Participacion de Riesgos</td>\n",
       "      <td>XXXXXXXXXXXXX</td>\n",
       "      <td>1020|||DISTRITO FEDERAL|ALVARO OBREGON |GUADAL...</td>\n",
       "      <td>34141</td>\n",
       "      <td>NFI3406305T0</td>\n",
       "      <td>341437</td>\n",
       "      <td>2012-10-03 12:08:53</td>\n",
       "      <td>...</td>\n",
       "      <td>2012-10-03 00:00:00</td>\n",
       "      <td>2012-10-03 00:00:00</td>\n",
       "      <td>136745.59</td>\n",
       "      <td>0.0</td>\n",
       "      <td>NaN</td>\n",
       "      <td>NaN</td>\n",
       "      <td>PAGO DE 8 GTIAS BANCO AUTOFIN 1317-2-2-145 $13...</td>\n",
       "      <td>PAGO DE GARANTIAS CON COMISION E IVA</td>\n",
       "      <td>Compartir con las instituciones financieras ba...</td>\n",
       "      <td>CORTO PLAZO</td>\n",
       "    </tr>\n",
       "  </tbody>\n",
       "</table>\n",
       "<p>5 rows × 22 columns</p>\n",
       "</div>"
      ],
      "text/plain": [
       "      OID_CUSTOMERS  CUSTOMER_ID                              LEGAL_NAME  \\\n",
       "1210           3089        11480  Fondo para la Participacion de Riesgos   \n",
       "1211           3089        11480  Fondo para la Participacion de Riesgos   \n",
       "1212           3089        11480  Fondo para la Participacion de Riesgos   \n",
       "1213           3089        11480  Fondo para la Participacion de Riesgos   \n",
       "1215           3089        11480  Fondo para la Participacion de Riesgos   \n",
       "\n",
       "                                 DESCRIPTION            RFC  \\\n",
       "1210  Fondo para la Participacion de Riesgos  XXXXXXXXXXXXX   \n",
       "1211  Fondo para la Participacion de Riesgos  XXXXXXXXXXXXX   \n",
       "1212  Fondo para la Participacion de Riesgos  XXXXXXXXXXXXX   \n",
       "1213  Fondo para la Participacion de Riesgos  XXXXXXXXXXXXX   \n",
       "1215  Fondo para la Participacion de Riesgos  XXXXXXXXXXXXX   \n",
       "\n",
       "                                           ADDRESS_DUMP  OID_ACCOUNTS  \\\n",
       "1210  1020|||DISTRITO FEDERAL|ALVARO OBREGON |GUADAL...         34141   \n",
       "1211  1020|||DISTRITO FEDERAL|ALVARO OBREGON |GUADAL...         34141   \n",
       "1212  1020|||DISTRITO FEDERAL|ALVARO OBREGON |GUADAL...         34141   \n",
       "1213  1020|||DISTRITO FEDERAL|ALVARO OBREGON |GUADAL...         34141   \n",
       "1215  1020|||DISTRITO FEDERAL|ALVARO OBREGON |GUADAL...         34141   \n",
       "\n",
       "              RFC2  ID_TRANSACTION           ENTRY_DATE  ...  \\\n",
       "1210  NFI3406305T0          341439  2012-10-03 12:11:03  ...   \n",
       "1211  NFI3406305T0          340454  2012-10-02 12:01:47  ...   \n",
       "1212  NFI3406305T0          340455  2012-10-02 12:02:42  ...   \n",
       "1213  NFI3406305T0          340459  2012-10-02 12:11:01  ...   \n",
       "1215  NFI3406305T0          341437  2012-10-03 12:08:53  ...   \n",
       "\n",
       "     PRI_SERIES_AGREEDATE SEC_SERIES_AGREEDATE PRI_SERIES_AMOUNT  \\\n",
       "1210  2012-10-03 00:00:00  2012-10-03 00:00:00         981495.92   \n",
       "1211  2012-10-02 00:00:00  2012-10-02 00:00:00        3102884.97   \n",
       "1212  2012-10-02 00:00:00  2012-10-02 00:00:00          54748.88   \n",
       "1213  2012-10-02 00:00:00  2012-10-02 00:00:00         922360.15   \n",
       "1215  2012-10-03 00:00:00  2012-10-03 00:00:00         136745.59   \n",
       "\n",
       "     COMMISIONS_AMOUNT  TRANSACTION_END_DATE  TRANSACTION_RATE  \\\n",
       "1210               0.0                   NaN               NaN   \n",
       "1211               0.0                   NaN               NaN   \n",
       "1212               0.0                   NaN               NaN   \n",
       "1213               0.0                   NaN               NaN   \n",
       "1215               0.0                   NaN               NaN   \n",
       "\n",
       "                                            TX_COMMENTS  \\\n",
       "1210  PAGO DE 1 GTIA BANORTE 1317-2-2-4 $995,611.47 ...   \n",
       "1211  CANCELACION DE FICHA 287611 POR DUPLICIDAD EN ...   \n",
       "1212  CANCELACION DE FICHA 282406 DEL IF BANAMEX DEL...   \n",
       "1213            CANCELACION DE LA FICHA 284410 DE FIDE    \n",
       "1215  PAGO DE 8 GTIAS BANCO AUTOFIN 1317-2-2-145 $13...   \n",
       "\n",
       "                                TX_CONCEPT  \\\n",
       "1210  PAGO DE GARANTIAS CON COMISION E IVA   \n",
       "1211           PAGO DE ACREEDORES DIVERSOS   \n",
       "1212           PAGO DE ACREEDORES DIVERSOS   \n",
       "1213           PAGO DE ACREEDORES DIVERSOS   \n",
       "1215  PAGO DE GARANTIAS CON COMISION E IVA   \n",
       "\n",
       "                                             TRUST_GOAL   TX_SUBTYPE  \n",
       "1210  Compartir con las instituciones financieras ba...  CORTO PLAZO  \n",
       "1211  Compartir con las instituciones financieras ba...  CORTO PLAZO  \n",
       "1212  Compartir con las instituciones financieras ba...  CORTO PLAZO  \n",
       "1213  Compartir con las instituciones financieras ba...  CORTO PLAZO  \n",
       "1215  Compartir con las instituciones financieras ba...  CORTO PLAZO  \n",
       "\n",
       "[5 rows x 22 columns]"
      ]
     },
     "execution_count": 45,
     "metadata": {},
     "output_type": "execute_result"
    }
   ],
   "source": [
    "df[df[\"TRUST_GOAL\"].notnull()].head(5)\n"
   ]
  }
 ],
 "metadata": {
  "kernelspec": {
   "display_name": "myenv_1",
   "language": "python",
   "name": "python3"
  },
  "language_info": {
   "codemirror_mode": {
    "name": "ipython",
    "version": 3
   },
   "file_extension": ".py",
   "mimetype": "text/x-python",
   "name": "python",
   "nbconvert_exporter": "python",
   "pygments_lexer": "ipython3",
   "version": "3.10.12"
  }
 },
 "nbformat": 4,
 "nbformat_minor": 2
}
