{
 "cells": [
  {
   "cell_type": "code",
   "execution_count": 42,
   "id": "93d425d1",
   "metadata": {},
   "outputs": [],
   "source": [
    "from utils.tf import *\n",
    "from utils.db import *\n",
    "from utils.gd2 import *\n",
    "from utils.clt_repetidos import *\n",
    "from datetime import datetime, time, timedelta\n",
    "import cx_Oracle\n",
    "import pandas as pd\n",
    "import os\n",
    "import plotly.express as px\n",
    "import plotly.graph_objects as go\n",
    "from utils.clt_repetidos import * \n",
    "from ydata_profiling import ProfileReport\n",
    "import dask.dataframe as dd\n",
    "import gc\n",
    "import matplotlib.pyplot as plt\n",
    "from datetime import datetime\n"
   ]
  },
  {
   "cell_type": "code",
   "execution_count": 2,
   "id": "5ca0635b",
   "metadata": {},
   "outputs": [],
   "source": [
    "df_flujo = pd.read_csv(\"/home/ale1726/proyects/datalake/clientes/data/otros/data_informe_20250508.csv\")"
   ]
  },
  {
   "cell_type": "code",
   "execution_count": 4,
   "id": "3d6c9d44",
   "metadata": {},
   "outputs": [],
   "source": [
    "df_flujo[\"Fecha\"] = pd.to_datetime(df_flujo[\"Fecha\"])"
   ]
  },
  {
   "cell_type": "code",
   "execution_count": 8,
   "id": "b54a6620",
   "metadata": {},
   "outputs": [],
   "source": [
    "df_flujo = df_flujo.sort_values(by='Fecha', ascending=False)"
   ]
  },
  {
   "cell_type": "code",
   "execution_count": 32,
   "id": "dc2b2e47",
   "metadata": {},
   "outputs": [
    {
     "data": {
      "text/plain": [
       "20"
      ]
     },
     "execution_count": 32,
     "metadata": {},
     "output_type": "execute_result"
    }
   ],
   "source": [
    "df_flujo[\"SISTEMA\"].nunique()\n"
   ]
  },
  {
   "cell_type": "code",
   "execution_count": null,
   "id": "4f76e118",
   "metadata": {},
   "outputs": [],
   "source": [
    "df_filtred = df_flujo[df_flujo[\"Fecha\"] == df_flujo[\"Fecha\"].max()]\n",
    "len(df_filtred[(df_filtred[\"Acesso\"] == \"SI\") & ((df_filtred[\"Acesso_tabla\"] == \"SI\") | (df_filtred[\"Acesso_tabla\"] == \"N/C\"))])\n",
    "len(df_filtred[(df_filtred[\"Acesso\"] == \"SI\") & (df_filtred[\"Acesso_tabla\"] == \"NO\")])\n",
    "df_filtred[\"Accesso_num\"].eq(0).sum()"
   ]
  },
  {
   "cell_type": "code",
   "execution_count": 43,
   "id": "b31e3649",
   "metadata": {},
   "outputs": [],
   "source": [
    "def mapear_a_horario_mas_cercano(fecha):\n",
    "    fecha_base = fecha.date()\n",
    "    hora_930 = datetime.combine(fecha_base, time(9, 30))\n",
    "    hora_1730 = datetime.combine(fecha_base, time(17, 30))\n",
    "    \n",
    "    # Calcula la diferencia absoluta en tiempo\n",
    "    diff_930 = abs(fecha - hora_930)\n",
    "    diff_1730 = abs(fecha - hora_1730)\n",
    "    \n",
    "    # Retorna el más cercano\n",
    "    return hora_930 if diff_930 < diff_1730 else hora_1730"
   ]
  },
  {
   "cell_type": "code",
   "execution_count": 45,
   "id": "b5a4e609",
   "metadata": {},
   "outputs": [],
   "source": [
    "df_flujo['Fecha_mapeada'] = df_flujo['Fecha'].apply(mapear_a_horario_mas_cercano)"
   ]
  },
  {
   "cell_type": "code",
   "execution_count": 50,
   "id": "852019e0",
   "metadata": {},
   "outputs": [],
   "source": [
    "df_sin_duplicados = df_flujo.drop_duplicates(subset=['Fecha_mapeada', 'SISTEMA'])"
   ]
  },
  {
   "cell_type": "code",
   "execution_count": 63,
   "id": "44b09189",
   "metadata": {},
   "outputs": [],
   "source": [
    "fecha_max = df_sin_duplicados[\"Fecha_mapeada\"].max()\n",
    "fecha_inicio = (fecha_max - pd.Timedelta(days=7)).replace(hour=9, minute=30, second=0)\n",
    "df_filtro_7dias = df_sin_duplicados[(df_sin_duplicados[\"Fecha\"] >= fecha_inicio) & (df_sin_duplicados[\"Fecha\"] <= fecha_max)]"
   ]
  },
  {
   "cell_type": "code",
   "execution_count": 64,
   "id": "a2537179",
   "metadata": {},
   "outputs": [
    {
     "data": {
      "application/vnd.microsoft.datawrangler.viewer.v0+json": {
       "columns": [
        {
         "name": "index",
         "rawType": "int64",
         "type": "integer"
        },
        {
         "name": "SISTEMA",
         "rawType": "object",
         "type": "string"
        },
        {
         "name": "Fecha",
         "rawType": "datetime64[ns]",
         "type": "datetime"
        },
        {
         "name": "Acesso",
         "rawType": "object",
         "type": "string"
        },
        {
         "name": "Acesso_tabla",
         "rawType": "object",
         "type": "string"
        },
        {
         "name": "Tipo_de_error",
         "rawType": "object",
         "type": "string"
        },
        {
         "name": "Accesso_num",
         "rawType": "int64",
         "type": "integer"
        },
        {
         "name": "Fecha_mapeada",
         "rawType": "datetime64[ns]",
         "type": "datetime"
        }
       ],
       "conversionMethod": "pd.DataFrame",
       "ref": "1f1a26b1-8291-464d-95a2-0958f41ef108",
       "rows": [
        [
         "1672",
         "BNC",
         "2025-05-08 17:30:00",
         "SI",
         "N/C",
         "Conexion correcta",
         "1",
         "2025-05-08 17:30:00"
        ],
        [
         "1668",
         "SIAF",
         "2025-05-08 17:30:00",
         "ERROR",
         "NO",
         "ORA-28001: the password has expired",
         "0",
         "2025-05-08 17:30:00"
        ],
        [
         "1676",
         "SCC",
         "2025-05-08 17:30:00",
         "SI",
         "NO",
         "Conexion a la base de datos pero no a la tabla de cliente",
         "1",
         "2025-05-08 17:30:00"
        ],
        [
         "1675",
         "CCBE",
         "2025-05-08 17:30:00",
         "SI",
         "N/C",
         "Conexion correcta",
         "1",
         "2025-05-08 17:30:00"
        ],
        [
         "1674",
         "IMRC",
         "2025-05-08 17:30:00",
         "SI",
         "N/C",
         "Conexion correcta",
         "1",
         "2025-05-08 17:30:00"
        ],
        [
         "1673",
         "GVAL",
         "2025-05-08 17:30:00",
         "SI",
         "N/C",
         "Conexion correcta",
         "1",
         "2025-05-08 17:30:00"
        ],
        [
         "1671",
         "MDC",
         "2025-05-08 17:30:00",
         "SI",
         "N/C",
         "Conexion correcta",
         "1",
         "2025-05-08 17:30:00"
        ],
        [
         "1670",
         "SIRAC",
         "2025-05-08 17:30:00",
         "SI",
         "SI",
         "Conexion correcta",
         "1",
         "2025-05-08 17:30:00"
        ],
        [
         "1669",
         "SORI",
         "2025-05-08 17:30:00",
         "SI",
         "SI",
         "Conexion correcta",
         "1",
         "2025-05-08 17:30:00"
        ],
        [
         "1667",
         "SIAG",
         "2025-05-08 17:30:00",
         "SI",
         "SI",
         "Conexion correcta",
         "1",
         "2025-05-08 17:30:00"
        ],
        [
         "1679",
         "SCALER",
         "2025-05-08 17:30:00",
         "SI",
         "NO",
         "Conexion a la base de datos pero no a la tabla de cliente",
         "1",
         "2025-05-08 17:30:00"
        ],
        [
         "1666",
         "TAS",
         "2025-05-08 17:30:00",
         "SI",
         "SI",
         "Conexion correcta",
         "1",
         "2025-05-08 17:30:00"
        ],
        [
         "1665",
         "SOME",
         "2025-05-08 17:30:00",
         "SI",
         "NO",
         "Conexion a la base de datos pero no a la tabla de cliente",
         "1",
         "2025-05-08 17:30:00"
        ],
        [
         "1664",
         "SOI",
         "2025-05-08 17:30:00",
         "ERROR",
         "NO",
         "ORA-01017: invalid username/password; logon denied",
         "0",
         "2025-05-08 17:30:00"
        ],
        [
         "1663",
         "SIPE",
         "2025-05-08 17:30:00",
         "SI",
         "SI",
         "Conexion correcta",
         "1",
         "2025-05-08 17:30:00"
        ],
        [
         "1662",
         "SIMS",
         "2025-05-08 17:30:00",
         "SI",
         "SI",
         "Conexion correcta",
         "1",
         "2025-05-08 17:30:00"
        ],
        [
         "1661",
         "MECA",
         "2025-05-08 17:30:00",
         "SI",
         "SI",
         "Conexion correcta",
         "1",
         "2025-05-08 17:30:00"
        ],
        [
         "1660",
         "FFON",
         "2025-05-08 17:30:00",
         "SI",
         "N/C",
         "Conexion correcta",
         "1",
         "2025-05-08 17:30:00"
        ],
        [
         "1678",
         "SISEC",
         "2025-05-08 17:30:00",
         "SI",
         "NO",
         "Conexion a la base de datos pero no a la tabla de cliente",
         "1",
         "2025-05-08 17:30:00"
        ],
        [
         "1677",
         "SIRYS",
         "2025-05-08 17:30:00",
         "SI",
         "SI",
         "Conexion correcta",
         "1",
         "2025-05-08 17:30:00"
        ],
        [
         "3018",
         "SISEC",
         "2025-05-08 09:30:00",
         "SI",
         "NO",
         "Conexion a la base de datos pero no a la tabla de cliente",
         "1",
         "2025-05-08 09:30:00"
        ],
        [
         "3009",
         "SORI",
         "2025-05-08 09:30:00",
         "SI",
         "SI",
         "Conexion correcta",
         "1",
         "2025-05-08 09:30:00"
        ],
        [
         "3000",
         "FFON",
         "2025-05-08 09:30:00",
         "SI",
         "N/C",
         "Conexion correcta",
         "1",
         "2025-05-08 09:30:00"
        ],
        [
         "3001",
         "MECA",
         "2025-05-08 09:30:00",
         "SI",
         "SI",
         "Conexion correcta",
         "1",
         "2025-05-08 09:30:00"
        ],
        [
         "3002",
         "SIMS",
         "2025-05-08 09:30:00",
         "SI",
         "SI",
         "Conexion correcta",
         "1",
         "2025-05-08 09:30:00"
        ],
        [
         "3003",
         "SIPE",
         "2025-05-08 09:30:00",
         "SI",
         "SI",
         "Conexion correcta",
         "1",
         "2025-05-08 09:30:00"
        ],
        [
         "3004",
         "SOI",
         "2025-05-08 09:30:00",
         "ERROR",
         "NO",
         "ORA-01017: invalid username/password; logon denied",
         "0",
         "2025-05-08 09:30:00"
        ],
        [
         "3005",
         "SOME",
         "2025-05-08 09:30:00",
         "SI",
         "NO",
         "Conexion a la base de datos pero no a la tabla de cliente",
         "1",
         "2025-05-08 09:30:00"
        ],
        [
         "3019",
         "SCALER",
         "2025-05-08 09:30:00",
         "SI",
         "NO",
         "Conexion a la base de datos pero no a la tabla de cliente",
         "1",
         "2025-05-08 09:30:00"
        ],
        [
         "3007",
         "SIAG",
         "2025-05-08 09:30:00",
         "SI",
         "SI",
         "Conexion correcta",
         "1",
         "2025-05-08 09:30:00"
        ],
        [
         "3008",
         "SIAF",
         "2025-05-08 09:30:00",
         "ERROR",
         "NO",
         "ORA-28001: the password has expired",
         "0",
         "2025-05-08 09:30:00"
        ],
        [
         "3006",
         "TAS",
         "2025-05-08 09:30:00",
         "SI",
         "SI",
         "Conexion correcta",
         "1",
         "2025-05-08 09:30:00"
        ],
        [
         "3010",
         "SIRAC",
         "2025-05-08 09:30:00",
         "SI",
         "SI",
         "Conexion correcta",
         "1",
         "2025-05-08 09:30:00"
        ],
        [
         "3012",
         "BNC",
         "2025-05-08 09:30:00",
         "SI",
         "N/C",
         "Conexion correcta",
         "1",
         "2025-05-08 09:30:00"
        ],
        [
         "3013",
         "GVAL",
         "2025-05-08 09:30:00",
         "SI",
         "N/C",
         "Conexion correcta",
         "1",
         "2025-05-08 09:30:00"
        ],
        [
         "3014",
         "IMRC",
         "2025-05-08 09:30:00",
         "SI",
         "N/C",
         "Conexion correcta",
         "1",
         "2025-05-08 09:30:00"
        ],
        [
         "3015",
         "CCBE",
         "2025-05-08 09:30:00",
         "SI",
         "N/C",
         "Conexion correcta",
         "1",
         "2025-05-08 09:30:00"
        ],
        [
         "3016",
         "SCC",
         "2025-05-08 09:30:00",
         "SI",
         "NO",
         "Conexion a la base de datos pero no a la tabla de cliente",
         "1",
         "2025-05-08 09:30:00"
        ],
        [
         "3017",
         "SIRYS",
         "2025-05-08 09:30:00",
         "SI",
         "SI",
         "Conexion correcta",
         "1",
         "2025-05-08 09:30:00"
        ],
        [
         "3011",
         "MDC",
         "2025-05-08 09:30:00",
         "SI",
         "N/C",
         "Conexion correcta",
         "1",
         "2025-05-08 09:30:00"
        ],
        [
         "4564",
         "SOI",
         "2025-05-07 17:30:00",
         "ERROR",
         "NO",
         "ORA-01017: invalid username/password; logon denied",
         "0",
         "2025-05-07 17:30:00"
        ],
        [
         "4568",
         "SIAF",
         "2025-05-07 17:30:00",
         "ERROR",
         "NO",
         "ORA-28001: the password has expired",
         "0",
         "2025-05-07 17:30:00"
        ],
        [
         "4567",
         "SIAG",
         "2025-05-07 17:30:00",
         "SI",
         "SI",
         "Conexion correcta",
         "1",
         "2025-05-07 17:30:00"
        ],
        [
         "4566",
         "TAS",
         "2025-05-07 17:30:00",
         "SI",
         "SI",
         "Conexion correcta",
         "1",
         "2025-05-07 17:30:00"
        ],
        [
         "4565",
         "SOME",
         "2025-05-07 17:30:00",
         "SI",
         "NO",
         "Conexion a la base de datos pero no a la tabla de cliente",
         "1",
         "2025-05-07 17:30:00"
        ],
        [
         "4560",
         "FFON",
         "2025-05-07 17:30:00",
         "SI",
         "N/C",
         "Conexion correcta",
         "1",
         "2025-05-07 17:30:00"
        ],
        [
         "4563",
         "SIPE",
         "2025-05-07 17:30:00",
         "SI",
         "SI",
         "Conexion correcta",
         "1",
         "2025-05-07 17:30:00"
        ],
        [
         "4562",
         "SIMS",
         "2025-05-07 17:30:00",
         "SI",
         "SI",
         "Conexion correcta",
         "1",
         "2025-05-07 17:30:00"
        ],
        [
         "4561",
         "MECA",
         "2025-05-07 17:30:00",
         "SI",
         "SI",
         "Conexion correcta",
         "1",
         "2025-05-07 17:30:00"
        ],
        [
         "4570",
         "SIRAC",
         "2025-05-07 17:30:00",
         "SI",
         "SI",
         "Conexion correcta",
         "1",
         "2025-05-07 17:30:00"
        ]
       ],
       "shape": {
        "columns": 7,
        "rows": 240
       }
      },
      "text/html": [
       "<div>\n",
       "<style scoped>\n",
       "    .dataframe tbody tr th:only-of-type {\n",
       "        vertical-align: middle;\n",
       "    }\n",
       "\n",
       "    .dataframe tbody tr th {\n",
       "        vertical-align: top;\n",
       "    }\n",
       "\n",
       "    .dataframe thead th {\n",
       "        text-align: right;\n",
       "    }\n",
       "</style>\n",
       "<table border=\"1\" class=\"dataframe\">\n",
       "  <thead>\n",
       "    <tr style=\"text-align: right;\">\n",
       "      <th></th>\n",
       "      <th>SISTEMA</th>\n",
       "      <th>Fecha</th>\n",
       "      <th>Acesso</th>\n",
       "      <th>Acesso_tabla</th>\n",
       "      <th>Tipo_de_error</th>\n",
       "      <th>Accesso_num</th>\n",
       "      <th>Fecha_mapeada</th>\n",
       "    </tr>\n",
       "  </thead>\n",
       "  <tbody>\n",
       "    <tr>\n",
       "      <th>1672</th>\n",
       "      <td>BNC</td>\n",
       "      <td>2025-05-08 17:30:00</td>\n",
       "      <td>SI</td>\n",
       "      <td>N/C</td>\n",
       "      <td>Conexion correcta</td>\n",
       "      <td>1</td>\n",
       "      <td>2025-05-08 17:30:00</td>\n",
       "    </tr>\n",
       "    <tr>\n",
       "      <th>1668</th>\n",
       "      <td>SIAF</td>\n",
       "      <td>2025-05-08 17:30:00</td>\n",
       "      <td>ERROR</td>\n",
       "      <td>NO</td>\n",
       "      <td>ORA-28001: the password has expired</td>\n",
       "      <td>0</td>\n",
       "      <td>2025-05-08 17:30:00</td>\n",
       "    </tr>\n",
       "    <tr>\n",
       "      <th>1676</th>\n",
       "      <td>SCC</td>\n",
       "      <td>2025-05-08 17:30:00</td>\n",
       "      <td>SI</td>\n",
       "      <td>NO</td>\n",
       "      <td>Conexion a la base de datos pero no a la tabla...</td>\n",
       "      <td>1</td>\n",
       "      <td>2025-05-08 17:30:00</td>\n",
       "    </tr>\n",
       "    <tr>\n",
       "      <th>1675</th>\n",
       "      <td>CCBE</td>\n",
       "      <td>2025-05-08 17:30:00</td>\n",
       "      <td>SI</td>\n",
       "      <td>N/C</td>\n",
       "      <td>Conexion correcta</td>\n",
       "      <td>1</td>\n",
       "      <td>2025-05-08 17:30:00</td>\n",
       "    </tr>\n",
       "    <tr>\n",
       "      <th>1674</th>\n",
       "      <td>IMRC</td>\n",
       "      <td>2025-05-08 17:30:00</td>\n",
       "      <td>SI</td>\n",
       "      <td>N/C</td>\n",
       "      <td>Conexion correcta</td>\n",
       "      <td>1</td>\n",
       "      <td>2025-05-08 17:30:00</td>\n",
       "    </tr>\n",
       "    <tr>\n",
       "      <th>...</th>\n",
       "      <td>...</td>\n",
       "      <td>...</td>\n",
       "      <td>...</td>\n",
       "      <td>...</td>\n",
       "      <td>...</td>\n",
       "      <td>...</td>\n",
       "      <td>...</td>\n",
       "    </tr>\n",
       "    <tr>\n",
       "      <th>3745</th>\n",
       "      <td>SOME</td>\n",
       "      <td>2025-05-01 09:30:00</td>\n",
       "      <td>SI</td>\n",
       "      <td>NO</td>\n",
       "      <td>Conexion a la base de datos pero no a la tabla...</td>\n",
       "      <td>1</td>\n",
       "      <td>2025-05-01 09:30:00</td>\n",
       "    </tr>\n",
       "    <tr>\n",
       "      <th>3744</th>\n",
       "      <td>SOI</td>\n",
       "      <td>2025-05-01 09:30:00</td>\n",
       "      <td>ERROR</td>\n",
       "      <td>NO</td>\n",
       "      <td>ORA-01017: invalid username/password; logon de...</td>\n",
       "      <td>0</td>\n",
       "      <td>2025-05-01 09:30:00</td>\n",
       "    </tr>\n",
       "    <tr>\n",
       "      <th>3743</th>\n",
       "      <td>SIPE</td>\n",
       "      <td>2025-05-01 09:30:00</td>\n",
       "      <td>SI</td>\n",
       "      <td>SI</td>\n",
       "      <td>Conexion correcta</td>\n",
       "      <td>1</td>\n",
       "      <td>2025-05-01 09:30:00</td>\n",
       "    </tr>\n",
       "    <tr>\n",
       "      <th>3749</th>\n",
       "      <td>SORI</td>\n",
       "      <td>2025-05-01 09:30:00</td>\n",
       "      <td>SI</td>\n",
       "      <td>SI</td>\n",
       "      <td>Conexion correcta</td>\n",
       "      <td>1</td>\n",
       "      <td>2025-05-01 09:30:00</td>\n",
       "    </tr>\n",
       "    <tr>\n",
       "      <th>3746</th>\n",
       "      <td>TAS</td>\n",
       "      <td>2025-05-01 09:30:00</td>\n",
       "      <td>SI</td>\n",
       "      <td>SI</td>\n",
       "      <td>Conexion correcta</td>\n",
       "      <td>1</td>\n",
       "      <td>2025-05-01 09:30:00</td>\n",
       "    </tr>\n",
       "  </tbody>\n",
       "</table>\n",
       "<p>240 rows × 7 columns</p>\n",
       "</div>"
      ],
      "text/plain": [
       "     SISTEMA               Fecha Acesso Acesso_tabla  \\\n",
       "1672     BNC 2025-05-08 17:30:00     SI          N/C   \n",
       "1668    SIAF 2025-05-08 17:30:00  ERROR           NO   \n",
       "1676     SCC 2025-05-08 17:30:00     SI           NO   \n",
       "1675    CCBE 2025-05-08 17:30:00     SI          N/C   \n",
       "1674    IMRC 2025-05-08 17:30:00     SI          N/C   \n",
       "...      ...                 ...    ...          ...   \n",
       "3745    SOME 2025-05-01 09:30:00     SI           NO   \n",
       "3744     SOI 2025-05-01 09:30:00  ERROR           NO   \n",
       "3743    SIPE 2025-05-01 09:30:00     SI           SI   \n",
       "3749    SORI 2025-05-01 09:30:00     SI           SI   \n",
       "3746     TAS 2025-05-01 09:30:00     SI           SI   \n",
       "\n",
       "                                          Tipo_de_error  Accesso_num  \\\n",
       "1672                                  Conexion correcta            1   \n",
       "1668                ORA-28001: the password has expired            0   \n",
       "1676  Conexion a la base de datos pero no a la tabla...            1   \n",
       "1675                                  Conexion correcta            1   \n",
       "1674                                  Conexion correcta            1   \n",
       "...                                                 ...          ...   \n",
       "3745  Conexion a la base de datos pero no a la tabla...            1   \n",
       "3744  ORA-01017: invalid username/password; logon de...            0   \n",
       "3743                                  Conexion correcta            1   \n",
       "3749                                  Conexion correcta            1   \n",
       "3746                                  Conexion correcta            1   \n",
       "\n",
       "           Fecha_mapeada  \n",
       "1672 2025-05-08 17:30:00  \n",
       "1668 2025-05-08 17:30:00  \n",
       "1676 2025-05-08 17:30:00  \n",
       "1675 2025-05-08 17:30:00  \n",
       "1674 2025-05-08 17:30:00  \n",
       "...                  ...  \n",
       "3745 2025-05-01 09:30:00  \n",
       "3744 2025-05-01 09:30:00  \n",
       "3743 2025-05-01 09:30:00  \n",
       "3749 2025-05-01 09:30:00  \n",
       "3746 2025-05-01 09:30:00  \n",
       "\n",
       "[240 rows x 7 columns]"
      ]
     },
     "execution_count": 64,
     "metadata": {},
     "output_type": "execute_result"
    }
   ],
   "source": [
    "df_filtro_7dias"
   ]
  }
 ],
 "metadata": {
  "kernelspec": {
   "display_name": "myenv_1",
   "language": "python",
   "name": "python3"
  },
  "language_info": {
   "codemirror_mode": {
    "name": "ipython",
    "version": 3
   },
   "file_extension": ".py",
   "mimetype": "text/x-python",
   "name": "python",
   "nbconvert_exporter": "python",
   "pygments_lexer": "ipython3",
   "version": "3.10.12"
  }
 },
 "nbformat": 4,
 "nbformat_minor": 5
}
