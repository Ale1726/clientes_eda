{
 "cells": [
  {
   "cell_type": "markdown",
   "metadata": {},
   "source": [
    "# Obtencion de datos\n"
   ]
  },
  {
   "cell_type": "markdown",
   "metadata": {
    "vscode": {
     "languageId": "plaintext"
    }
   },
   "source": [
    "El objetivo es encotrar la informacion mas posible, y que sea de calidad. De acuerdo a los criterios de PLD.\n",
    "El sistema/base de datos es TAS (SISTEMA DE MERCADO DE DINERO Y CAMBIOS) el cual registra y controla y administra las operaciones que realizan el area de Mercado de Dinero con clientes e intermediarios, refente a comprar y ventas de los diferentes instrumentos del mercado , asi como el registro, control y administracion las operaciones.\n",
    "\n",
    "Para poder describir la informacion de la base de datos, se debe conocer ¿Quien es el cliente?\n",
    "\n",
    "| Información requerida                   | Información obtenida                              |\n",
    "|-----------------------------------------|--------------------------------------------------|\n",
    "| negocio                                 |                                                  |\n",
    "| nombre cliente o razón social           |          \"U##NOMBRE\", NOMBRE, NOMLARGO    |\n",
    "| número cliente                          |          CUENTA                               |\n",
    "| estatus                                 |         FBAJA IS NULL                            |\n",
    "| número contrato                         |                                     |\n",
    "| género                                  |                      N/A                            |\n",
    "| fecha_nacimiento o de constitución      |                                                  |\n",
    "| entidad federativa nacimiento           |                                                  |\n",
    "| país de nacimiento                      |    if INACIONALIDAD == 1 then \"MEXICO\" else \"No se cuenta con la informacion\"                                                |\n",
    "| nacionalidad                            |   INACIONALIDAD  esta columna proviene de un catálogo de la tabla TAS.FNACIONALIDAD                             |\n",
    "| profesión                               |                    IACTIV_ECONO                              |\n",
    "| calle                                   |                                 |\n",
    "| número_exterior                         |                                                  |\n",
    "| número_interior                         |                                                  |\n",
    "| colonia_urbanización                    |                                                  |\n",
    "| delegación_municipio                    |                                                  |\n",
    "| ciudad_población                        |                                                  |\n",
    "| entidad_federativa                      |                                    |\n",
    "| código postal                           |                                                  |\n",
    "| país                                    |                                |\n",
    "| teléfono                                |    TELEFONO1, TELEFONO2                                |\n",
    "| correo_electrónico                      |                    EMAIL                              |\n",
    "| rfc                                     |  RFC   |\n",
    "| curp                                    |  CURP                                                |\n",
    "| fiel                                    |                                                  |\n",
    "| representante legal                     |   Esta informacion esta en la tabla TAS.FAPODERADO se  debe hacer un join                                                |\n",
    "| tipo de persona                         |  TIPINVE esta columa proviene de un catálogo de la tabla TAS.TIPINVER  |\n",
    "| clasificación por grado de riesgo       |                                                  |\n",
    "| pep (persona políticamente expuesta)    |                                                  |\n",
    "| razón                                   |                                                  |\n",
    "| producto contratado                     |                   |\n",
    "| cambios en perfil transaccional         |                                                  |\n",
    "\n",
    "\n",
    "- Esta informacion no se puede obtener de la base de datos, ya que no se cuenta con la descripcion de requerimiento\n",
    "\n",
    "    - clasificacion por grado de riesgo\t\n",
    "    - razon\n",
    "    - cambios en perfil transaccional "
   ]
  },
  {
   "cell_type": "code",
   "execution_count": 112,
   "metadata": {},
   "outputs": [],
   "source": [
    "query = \"\"\"\n",
    "WITH CLIENTES_ACTIVOS AS(\n",
    "\tSELECT * \n",
    "    FROM TAS.CLIENTE cl\n",
    "    WHERE cl.FBAJA IS NULL\n",
    "), \n",
    "CLIENTES_CON_NA AS(\n",
    "\tSELECT CA.*, FN.NNACIONALIDAD NACIONALIDAD\n",
    "\tFROM CLIENTES_ACTIVOS CA\n",
    "\tINNER JOIN TAS.FNACIONALIDAD FN ON CA.INACIONALIDAD = FN.INACIONALIDAD\n",
    "), \n",
    "CLIENTES_CON_TRANS_2024 AS (\n",
    "\tSELECT CCN.*, ft.FOPER, ft.FLIQ, ft.IORDEN, ft.ITINSTR ,ft.IINSTR, \n",
    "\t\t\tft.\"U##IEMISION\", ft.ISERIE, ft.MBRUTO, ft.MCOSTO, ft.NTITULOS\n",
    "\tFROM CLIENTES_CON_NA CCN\n",
    "\tLEFT JOIN TAS.FTRANS ft ON CCN.CUENTA = ft.ICONTRATO\n",
    "\tWHERE FOPER > TO_DATE('2024-01-01', 'YYYY-MM-DD')\n",
    "), \n",
    "CLIENTES_CON_TIP_INV AS (\n",
    "\tSELECT CCT.*, tp.DESCRIP TIPO_DE_PERSONA\n",
    "\tFROM CLIENTES_CON_TRANS_2024 CCT\n",
    "\tLEFT JOIN TAS.TIPINVER tp ON CCT.TIPINVE = tp.TIPINVE\n",
    ") SELECT \n",
    "\t'' NEGOCIO, \n",
    "\t'' NOMBRE_O_RAZON_SOCIAL,\n",
    "\t\"U##NOMBRE\" , NOMBRE, NOMLARGO,\n",
    "\tCUENTA, \n",
    "\t'VIGENTE' ESTATUS, \n",
    "\t'' NUMERO_CONTRATO,\n",
    "\t'' GENERO,  \n",
    "\t'' FECHA_NAC_O_CONST, \n",
    "\t'' ENTIDAD_FEDERATIVA_NACIMIENTO, \n",
    "\t'' PAIS_DE_NACIMIENTO, \n",
    "\tNACIONALIDAD,\n",
    "\tIACTIV_ECONO PROFESION,\n",
    "\t'' CALLE,\n",
    "\t'' NUMERO_EXTERIOR, \n",
    "\t'' NUMERO_INTERIOR, \n",
    "\t'' COLONIA_URBANIZACION, \n",
    "\t'' DELEGACION_MUNICIPIO, \n",
    "\t'' CIUDAD_POBLACION,  \n",
    "\t'' ENTIDAD_FEDERATIVA, \n",
    "\t'' CODIGO_POSTAL, \n",
    "\tIREGIONAL PAIS,\n",
    "\t'' TELEFONO, \n",
    "\tTELEFONO1 , TELEFONO2,\n",
    "\tEMAIL CORREO_ELECTRONICO, \n",
    "\tRFC RFC, \n",
    "\t'' CURP, \n",
    "\t'' FIEL,\n",
    "\t'' REPRESENTANTE_LEGAL,\n",
    "\tTIPO_DE_PERSONA TIPO_PERSONA, \n",
    "\t'' PRODUCTO_CONTRATADO, \n",
    "\tTIPINVE, FOPER, FLIQ, IORDEN, ITINSTR , IINSTR, \"U##IEMISION\", ISERIE, MBRUTO, MCOSTO, NTITULOS, \n",
    "\t'TAS' SISTEMA_ORIGEN\n",
    "FROM CLIENTES_CON_TIP_INV\n",
    "\"\"\"\n",
    "\n",
    "query2 = \"SELECT CUENTA, APE_PAT || ' ' || APE_MAT || ' ' || NOMBRE AS REPRESENTANTE_LEGAL FROM TAS.FAPODERADO\""
   ]
  },
  {
   "cell_type": "code",
   "execution_count": 1,
   "metadata": {},
   "outputs": [],
   "source": [
    "from utils.tf import *\n",
    "from utils.db import *\n",
    "from utils.gd import * \n",
    "from datetime import datetime\n",
    "import cx_Oracle\n",
    "import pandas as pd\n",
    "import os"
   ]
  },
  {
   "cell_type": "code",
   "execution_count": 109,
   "metadata": {},
   "outputs": [],
   "source": [
    "def get_data_tas(database,path_exit, query, query2):\n",
    "    conn = cx_Oracle.connect(user=database['USER'], password=database[\"PSSWD\"], dsn=database[\"DSN\"])\n",
    "    cursor = conn.cursor()\n",
    "    \n",
    "    cursor.execute(query)\n",
    "    columnas_clientes = [columna[0] for columna in cursor.description]\n",
    "    tas_clientes = pd.DataFrame(cursor.fetchall(), columns=columnas_clientes)\n",
    "    \n",
    "    cursor.execute(query2)\n",
    "    columnas_fapoderado = [columna[0] for columna in cursor.description]\n",
    "    fapoderado =   pd.DataFrame(cursor.fetchall(), columns=columnas_fapoderado)\n",
    "\n",
    "    representa_legal = fapoderado.groupby('CUENTA')['REPRESENTANTE_LEGAL'].apply(lambda x: ', '.join(x)).reset_index()\n",
    "    \n",
    "    resultado = pd.merge(tas_clientes, representa_legal, on=\"CUENTA\", how=\"left\")\n",
    "    resultado.to_csv(os.path.join(path_exit,\"Transformacion_clientes_TAS.dat\"),index=False)\n",
    "    \n",
    "    cursor.close()\n",
    "    conn.close()\n",
    "    "
   ]
  },
  {
   "cell_type": "code",
   "execution_count": 110,
   "metadata": {},
   "outputs": [],
   "source": [
    "path_exit = \"/home/ale1726/proyects/datalake/clientes/data\"\n"
   ]
  },
  {
   "cell_type": "code",
   "execution_count": 113,
   "metadata": {},
   "outputs": [],
   "source": [
    "get_data_tas(db_tas, path_exit, query, query2)"
   ]
  },
  {
   "cell_type": "code",
   "execution_count": 2,
   "metadata": {},
   "outputs": [],
   "source": [
    "df = pd.read_csv(\"/home/ale1726/proyects/datalake/clientes/data/Transformacion_clientes_TAS.dat\")"
   ]
  },
  {
   "cell_type": "code",
   "execution_count": null,
   "metadata": {},
   "outputs": [],
   "source": [
    "df"
   ]
  },
  {
   "cell_type": "code",
   "execution_count": 103,
   "metadata": {},
   "outputs": [],
   "source": [
    "df_fitlred = df[df[\"CUENTA\"] == 76000]"
   ]
  },
  {
   "cell_type": "code",
   "execution_count": null,
   "metadata": {},
   "outputs": [],
   "source": []
  },
  {
   "cell_type": "code",
   "execution_count": 104,
   "metadata": {},
   "outputs": [],
   "source": [
    "df_cts_pld = pd.read_csv(\"/home/ale1726/proyects/dash/dash-anlytc_data/data/Acumulado_clientes.csv\")"
   ]
  },
  {
   "cell_type": "code",
   "execution_count": 106,
   "metadata": {},
   "outputs": [
    {
     "data": {
      "text/plain": [
       "producto contratado\n",
       "Contrato de Depósito Bancario de Títulos en Administración y de Comisión Mercantil No Discrecional                                                                          1254\n",
       "Contrato Marco Para Operaciones de Compraventa de Valores y Reporto                                                                                                          697\n",
       "FIDEICOMISO                                                                                                                                                                  539\n",
       "Línea de Crédito                                                                                                                                                              95\n",
       "Programa Primer Piso                                                                                                                                                          57\n",
       "Contrato de Depósito y Garantía Prendaria                                                                                                                                     37\n",
       "Contrato Marco Para Operaciones de Compraventa de Valores y Reporto y Contrato de Depósito Bancario de Títulos en Administración y de Comisión Mercantil No Discrecional      36\n",
       "CERTIFICADOS DE DEPÓSITO                                                                                                                                                      13\n",
       "CONVENIO ESPECIFICO                                                                                                                                                            3\n",
       "GARANTÍA SOBRE FIANZAS                                                                                                                                                         3\n",
       "Contrato Marco Para Operaciones de Compraventa de Valores y Reporto                                                                                                            2\n",
       "Contrato de Intermediación Bursátil                                                                                                                                            2\n",
       "Contrato para Celebrar Operaciones de Depósito Bancario de Dinero, de Reporto, de Compra- Venta y Depósito sobre Títulos Bancarios y Valores                                   2\n",
       "CONTRATO DE MANDATO                                                                                                                                                            1\n",
       "Contrato de Depósito Bancario de Dinero a Plazo                                                                                                                                1\n",
       "Contrato de Valores y Reporto                                                                                                                                                  1\n",
       "Name: count, dtype: int64"
      ]
     },
     "execution_count": 106,
     "metadata": {},
     "output_type": "execute_result"
    }
   ],
   "source": [
    "df_cts_pld.value_counts(\"producto contratado\")"
   ]
  },
  {
   "cell_type": "code",
   "execution_count": 105,
   "metadata": {},
   "outputs": [
    {
     "data": {
      "text/plain": [
       "Index(['negocio', 'nombre cliente o razon social', 'numero cliente', 'estatus',\n",
       "       'numero contrato', 'genero', 'fecha_nacimiento o de constitucion',\n",
       "       'entidad federativa nacimiento', 'pais de nacimiento', 'nacionalidad',\n",
       "       'profesion', 'calle', 'numero_exterior', 'numero_interior',\n",
       "       'colonia_urbanizacion', 'delegacion_municipio', 'ciudad_poblacion',\n",
       "       'entidad_federativa', 'codigopostal', 'pais', 'telefono',\n",
       "       'correo_electronico', 'rfc', 'curp', 'fiel', 'representante legal',\n",
       "       'tipo de persona', 'clasificacion por grado de riesgo',\n",
       "       'pep (persona políticamente expuesta)', 'razon', 'producto contratado',\n",
       "       'cambios en perfil transaccional'],\n",
       "      dtype='object')"
      ]
     },
     "execution_count": 105,
     "metadata": {},
     "output_type": "execute_result"
    }
   ],
   "source": [
    "df_cts_pld.columns"
   ]
  },
  {
   "cell_type": "code",
   "execution_count": null,
   "metadata": {},
   "outputs": [],
   "source": [
    "df_fitlred"
   ]
  },
  {
   "cell_type": "code",
   "execution_count": null,
   "metadata": {},
   "outputs": [
    {
     "data": {
      "text/html": [
       "<div>\n",
       "<style scoped>\n",
       "    .dataframe tbody tr th:only-of-type {\n",
       "        vertical-align: middle;\n",
       "    }\n",
       "\n",
       "    .dataframe tbody tr th {\n",
       "        vertical-align: top;\n",
       "    }\n",
       "\n",
       "    .dataframe thead th {\n",
       "        text-align: right;\n",
       "    }\n",
       "</style>\n",
       "<table border=\"1\" class=\"dataframe\">\n",
       "  <thead>\n",
       "    <tr style=\"text-align: right;\">\n",
       "      <th></th>\n",
       "      <th>CUENTA</th>\n",
       "      <th>U##NOMBRE</th>\n",
       "      <th>NOMBRE</th>\n",
       "      <th>NOMLARGO</th>\n",
       "      <th>ESTATUS</th>\n",
       "      <th>NUMERO DE CONTRATO</th>\n",
       "      <th>INACIONALIDAD</th>\n",
       "      <th>IACTIV_ECONO</th>\n",
       "      <th>TELEFONO1</th>\n",
       "      <th>TELEFONO2</th>\n",
       "      <th>...</th>\n",
       "      <th>FLIQ</th>\n",
       "      <th>IORDEN</th>\n",
       "      <th>ITINSTR</th>\n",
       "      <th>IINSTR</th>\n",
       "      <th>U##IEMISION</th>\n",
       "      <th>ISERIE</th>\n",
       "      <th>MBRUTO</th>\n",
       "      <th>MCOSTO</th>\n",
       "      <th>NTITULOS</th>\n",
       "      <th>REPRESENTANTE_LEGAL</th>\n",
       "    </tr>\n",
       "  </thead>\n",
       "  <tbody>\n",
       "    <tr>\n",
       "      <th>0</th>\n",
       "      <td>76000</td>\n",
       "      <td>SAGAPL</td>\n",
       "      <td>SAGAPL</td>\n",
       "      <td>SAGAPL</td>\n",
       "      <td>1</td>\n",
       "      <td>76000</td>\n",
       "      <td>1</td>\n",
       "      <td>BANCA DE DESARROLLO</td>\n",
       "      <td></td>\n",
       "      <td></td>\n",
       "      <td>...</td>\n",
       "      <td>2024-10-21 00:00:00</td>\n",
       "      <td>136612</td>\n",
       "      <td>GUBERR</td>\n",
       "      <td>BPA182</td>\n",
       "      <td>BPA182</td>\n",
       "      <td>IS300328</td>\n",
       "      <td>5.000000e+09</td>\n",
       "      <td>5.189662e+09</td>\n",
       "      <td>51322766</td>\n",
       "      <td>NaN</td>\n",
       "    </tr>\n",
       "    <tr>\n",
       "      <th>1</th>\n",
       "      <td>76000</td>\n",
       "      <td>SAGAPL</td>\n",
       "      <td>SAGAPL</td>\n",
       "      <td>SAGAPL</td>\n",
       "      <td>1</td>\n",
       "      <td>76000</td>\n",
       "      <td>1</td>\n",
       "      <td>BANCA DE DESARROLLO</td>\n",
       "      <td></td>\n",
       "      <td></td>\n",
       "      <td>...</td>\n",
       "      <td>2024-10-21 00:00:00</td>\n",
       "      <td>136611</td>\n",
       "      <td>GUBERR</td>\n",
       "      <td>BPA182</td>\n",
       "      <td>BPA182</td>\n",
       "      <td>IS300328</td>\n",
       "      <td>5.189662e+09</td>\n",
       "      <td>5.189662e+09</td>\n",
       "      <td>51322766</td>\n",
       "      <td>NaN</td>\n",
       "    </tr>\n",
       "    <tr>\n",
       "      <th>2</th>\n",
       "      <td>76000</td>\n",
       "      <td>SAGAPL</td>\n",
       "      <td>SAGAPL</td>\n",
       "      <td>SAGAPL</td>\n",
       "      <td>1</td>\n",
       "      <td>76000</td>\n",
       "      <td>1</td>\n",
       "      <td>BANCA DE DESARROLLO</td>\n",
       "      <td></td>\n",
       "      <td></td>\n",
       "      <td>...</td>\n",
       "      <td>2024-10-21 00:00:00</td>\n",
       "      <td>136610</td>\n",
       "      <td>GUBERR</td>\n",
       "      <td>BONDESF</td>\n",
       "      <td>BONDESF</td>\n",
       "      <td>LF251023</td>\n",
       "      <td>5.000000e+09</td>\n",
       "      <td>5.082295e+09</td>\n",
       "      <td>50497249</td>\n",
       "      <td>NaN</td>\n",
       "    </tr>\n",
       "    <tr>\n",
       "      <th>3</th>\n",
       "      <td>76000</td>\n",
       "      <td>SAGAPL</td>\n",
       "      <td>SAGAPL</td>\n",
       "      <td>SAGAPL</td>\n",
       "      <td>1</td>\n",
       "      <td>76000</td>\n",
       "      <td>1</td>\n",
       "      <td>BANCA DE DESARROLLO</td>\n",
       "      <td></td>\n",
       "      <td></td>\n",
       "      <td>...</td>\n",
       "      <td>2024-10-21 00:00:00</td>\n",
       "      <td>136609</td>\n",
       "      <td>GUBERR</td>\n",
       "      <td>BONDESF</td>\n",
       "      <td>BONDESF</td>\n",
       "      <td>LF251023</td>\n",
       "      <td>5.082295e+09</td>\n",
       "      <td>5.082295e+09</td>\n",
       "      <td>50497249</td>\n",
       "      <td>NaN</td>\n",
       "    </tr>\n",
       "    <tr>\n",
       "      <th>4</th>\n",
       "      <td>76000</td>\n",
       "      <td>SAGAPL</td>\n",
       "      <td>SAGAPL</td>\n",
       "      <td>SAGAPL</td>\n",
       "      <td>1</td>\n",
       "      <td>76000</td>\n",
       "      <td>1</td>\n",
       "      <td>BANCA DE DESARROLLO</td>\n",
       "      <td></td>\n",
       "      <td></td>\n",
       "      <td>...</td>\n",
       "      <td>2024-10-18 00:00:00</td>\n",
       "      <td>135801</td>\n",
       "      <td>GUBERR</td>\n",
       "      <td>BPAG91</td>\n",
       "      <td>BPAG91</td>\n",
       "      <td>IQ270506</td>\n",
       "      <td>5.000000e+09</td>\n",
       "      <td>5.080935e+09</td>\n",
       "      <td>49963230</td>\n",
       "      <td>NaN</td>\n",
       "    </tr>\n",
       "  </tbody>\n",
       "</table>\n",
       "<p>5 rows × 25 columns</p>\n",
       "</div>"
      ],
      "text/plain": [
       "   CUENTA U##NOMBRE  NOMBRE NOMLARGO  ESTATUS  NUMERO DE CONTRATO  \\\n",
       "0   76000    SAGAPL  SAGAPL   SAGAPL        1               76000   \n",
       "1   76000    SAGAPL  SAGAPL   SAGAPL        1               76000   \n",
       "2   76000    SAGAPL  SAGAPL   SAGAPL        1               76000   \n",
       "3   76000    SAGAPL  SAGAPL   SAGAPL        1               76000   \n",
       "4   76000    SAGAPL  SAGAPL   SAGAPL        1               76000   \n",
       "\n",
       "   INACIONALIDAD         IACTIV_ECONO TELEFONO1 TELEFONO2  ...  \\\n",
       "0              1  BANCA DE DESARROLLO                      ...   \n",
       "1              1  BANCA DE DESARROLLO                      ...   \n",
       "2              1  BANCA DE DESARROLLO                      ...   \n",
       "3              1  BANCA DE DESARROLLO                      ...   \n",
       "4              1  BANCA DE DESARROLLO                      ...   \n",
       "\n",
       "                  FLIQ  IORDEN ITINSTR   IINSTR U##IEMISION    ISERIE  \\\n",
       "0  2024-10-21 00:00:00  136612  GUBERR   BPA182      BPA182  IS300328   \n",
       "1  2024-10-21 00:00:00  136611  GUBERR   BPA182      BPA182  IS300328   \n",
       "2  2024-10-21 00:00:00  136610  GUBERR  BONDESF     BONDESF  LF251023   \n",
       "3  2024-10-21 00:00:00  136609  GUBERR  BONDESF     BONDESF  LF251023   \n",
       "4  2024-10-18 00:00:00  135801  GUBERR   BPAG91      BPAG91  IQ270506   \n",
       "\n",
       "         MBRUTO        MCOSTO  NTITULOS REPRESENTANTE_LEGAL  \n",
       "0  5.000000e+09  5.189662e+09  51322766                 NaN  \n",
       "1  5.189662e+09  5.189662e+09  51322766                 NaN  \n",
       "2  5.000000e+09  5.082295e+09  50497249                 NaN  \n",
       "3  5.082295e+09  5.082295e+09  50497249                 NaN  \n",
       "4  5.000000e+09  5.080935e+09  49963230                 NaN  \n",
       "\n",
       "[5 rows x 25 columns]"
      ]
     },
     "execution_count": 77,
     "metadata": {},
     "output_type": "execute_result"
    }
   ],
   "source": [
    "df.head()"
   ]
  },
  {
   "cell_type": "code",
   "execution_count": null,
   "metadata": {},
   "outputs": [
    {
     "name": "stdout",
     "output_type": "stream",
     "text": [
      "0 0 0\n"
     ]
    }
   ],
   "source": [
    "r1 = len(df[df[\"U##NOMBRE\"].isna()])\n",
    "r2 = len(df[df[\"NOMBRE\"].isna()])\n",
    "r3 = len(df[df[\"NOMBRE\"].isna()])\n",
    "print(r1,r2,r3)"
   ]
  },
  {
   "cell_type": "code",
   "execution_count": 83,
   "metadata": {},
   "outputs": [],
   "source": [
    "df_filtred = df.drop_duplicates(\"NOMLARGO\")\n",
    "df_filtred = df_filtred[[\"U##NOMBRE\", \"NOMBRE\", \"NOMLARGO\"]]\n",
    "df_filtred[\"VERIFICACION\"] = df_filtred.apply(lambda row: row[\"U##NOMBRE\"] == row[\"NOMBRE\"] == row[\"NOMLARGO\"], axis=1)"
   ]
  },
  {
   "cell_type": "code",
   "execution_count": 85,
   "metadata": {},
   "outputs": [
    {
     "data": {
      "text/plain": [
       "VERIFICACION\n",
       "False    520\n",
       "True       5\n",
       "Name: count, dtype: int64"
      ]
     },
     "execution_count": 85,
     "metadata": {},
     "output_type": "execute_result"
    }
   ],
   "source": [
    "df_filtred.value_counts(\"VERIFICACION\")"
   ]
  },
  {
   "cell_type": "code",
   "execution_count": 88,
   "metadata": {},
   "outputs": [],
   "source": [
    "df_ver = df_filtred[df_filtred[\"VERIFICACION\"] == False]"
   ]
  },
  {
   "cell_type": "code",
   "execution_count": 90,
   "metadata": {},
   "outputs": [
    {
     "name": "stderr",
     "output_type": "stream",
     "text": [
      "/tmp/ipykernel_10337/950514676.py:1: SettingWithCopyWarning: \n",
      "A value is trying to be set on a copy of a slice from a DataFrame.\n",
      "Try using .loc[row_indexer,col_indexer] = value instead\n",
      "\n",
      "See the caveats in the documentation: https://pandas.pydata.org/pandas-docs/stable/user_guide/indexing.html#returning-a-view-versus-a-copy\n",
      "  df_ver[\"NOMLARGO\"] = df_ver[\"NOMLARGO\"].apply(lambda x: x.decode('ascii') if isinstance(x, bytes) else x)\n"
     ]
    }
   ],
   "source": [
    "df_ver[\"NOMLARGO\"] = df_ver[\"NOMLARGO\"].apply(lambda x: x.decode('ascii') if isinstance(x, bytes) else x)"
   ]
  },
  {
   "cell_type": "code",
   "execution_count": null,
   "metadata": {},
   "outputs": [
    {
     "name": "stdout",
     "output_type": "stream",
     "text": [
      "Error al codificar el texto con latin1.\n"
     ]
    }
   ],
   "source": [
    "texto_mal_codificado = \"FONDO BBVA M�XICO DEUDA EMPRESAS, S.A. DE C.V. F.I.I.D.\"\n",
    "\n",
    "# Decodificar el texto directamente desde utf-8\n",
    "try:\n",
    "    texto_decodificado = texto_mal_codificado.encode('latin1').decode('utf-8')\n",
    "except UnicodeEncodeError:\n",
    "    print(\"Error al codificar el texto con latin1.\")"
   ]
  },
  {
   "cell_type": "code",
   "execution_count": null,
   "metadata": {},
   "outputs": [],
   "source": [
    "df_ver[\"NOMLARGO\"] = df_ver[\"NOMLARGO\"].apply(lambda x: x.upper())"
   ]
  },
  {
   "cell_type": "code",
   "execution_count": null,
   "metadata": {},
   "outputs": [],
   "source": [
    "df_ver"
   ]
  },
  {
   "cell_type": "code",
   "execution_count": null,
   "metadata": {},
   "outputs": [],
   "source": [
    "def nombre(df):\n",
    "    "
   ]
  }
 ],
 "metadata": {
  "kernelspec": {
   "display_name": "myenv_1",
   "language": "python",
   "name": "python3"
  },
  "language_info": {
   "codemirror_mode": {
    "name": "ipython",
    "version": 3
   },
   "file_extension": ".py",
   "mimetype": "text/x-python",
   "name": "python",
   "nbconvert_exporter": "python",
   "pygments_lexer": "ipython3",
   "version": "3.10.12"
  }
 },
 "nbformat": 4,
 "nbformat_minor": 2
}
