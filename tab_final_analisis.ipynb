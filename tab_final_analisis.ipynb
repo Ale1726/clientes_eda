{
 "cells": [
  {
   "cell_type": "code",
   "execution_count": 1,
   "metadata": {},
   "outputs": [],
   "source": [
    "from utils.tf import *\n",
    "from utils.db import *\n",
    "from utils.gd import * \n",
    "from utils.clt_repetidos import *\n",
    "from datetime import datetime\n",
    "import cx_Oracle\n",
    "import pandas as pd\n",
    "import os\n",
    "import plotly.express as px\n",
    "import plotly.graph_objects as go\n",
    "from utils.clt_repetidos import *"
   ]
  },
  {
   "cell_type": "code",
   "execution_count": 2,
   "metadata": {},
   "outputs": [],
   "source": [
    "path_dir_update = \"/home/ale1726/proyects/datalake/clientes/data/ETL/24_02_2025\"\n",
    "df = pd.read_csv(os.path.join(path_dir_update,\"CLientesT_FINAL_ACTIVOS.csv\"))"
   ]
  },
  {
   "cell_type": "code",
   "execution_count": 126,
   "metadata": {},
   "outputs": [
    {
     "data": {
      "application/vnd.microsoft.datawrangler.viewer.v0+json": {
       "columns": [
        {
         "name": "index",
         "rawType": "object",
         "type": "string"
        },
        {
         "name": "ID_DL",
         "rawType": "float64",
         "type": "float"
        },
        {
         "name": "ENTIDAD_FEDERATIVA_NACIMIENTO",
         "rawType": "float64",
         "type": "float"
        },
        {
         "name": "NUMERO_INTERIOR",
         "rawType": "float64",
         "type": "float"
        },
        {
         "name": "COLONIA_URBANIZACION",
         "rawType": "float64",
         "type": "float"
        },
        {
         "name": "FIEL",
         "rawType": "float64",
         "type": "float"
        },
        {
         "name": "PRODUCTO_CONTRATADO",
         "rawType": "float64",
         "type": "float"
        }
       ],
       "conversionMethod": "pd.DataFrame",
       "ref": "fad56993-993e-46c9-b91c-eb5da2030c9a",
       "rows": [
        [
         "count",
         "6868.0",
         "0.0",
         "0.0",
         "0.0",
         "11.0",
         "0.0"
        ],
        [
         "mean",
         "3434.5",
         null,
         null,
         null,
         "1000000527825012.0",
         null
        ],
        [
         "std",
         "1982.7651567108664",
         null,
         null,
         null,
         "150504394.07324004",
         null
        ],
        [
         "min",
         "1.0",
         null,
         null,
         null,
         "1000000406370820.0",
         null
        ],
        [
         "25%",
         "1717.75",
         null,
         null,
         null,
         "1000000413406276.0",
         null
        ],
        [
         "50%",
         "3434.5",
         null,
         null,
         null,
         "1000000509567930.0",
         null
        ],
        [
         "75%",
         "5151.25",
         null,
         null,
         null,
         "1000000516242025.0",
         null
        ],
        [
         "max",
         "6868.0",
         null,
         null,
         null,
         "1000000900912867.0",
         null
        ]
       ],
       "shape": {
        "columns": 6,
        "rows": 8
       }
      },
      "text/html": [
       "<div>\n",
       "<style scoped>\n",
       "    .dataframe tbody tr th:only-of-type {\n",
       "        vertical-align: middle;\n",
       "    }\n",
       "\n",
       "    .dataframe tbody tr th {\n",
       "        vertical-align: top;\n",
       "    }\n",
       "\n",
       "    .dataframe thead th {\n",
       "        text-align: right;\n",
       "    }\n",
       "</style>\n",
       "<table border=\"1\" class=\"dataframe\">\n",
       "  <thead>\n",
       "    <tr style=\"text-align: right;\">\n",
       "      <th></th>\n",
       "      <th>ID_DL</th>\n",
       "      <th>ENTIDAD_FEDERATIVA_NACIMIENTO</th>\n",
       "      <th>NUMERO_INTERIOR</th>\n",
       "      <th>COLONIA_URBANIZACION</th>\n",
       "      <th>FIEL</th>\n",
       "      <th>PRODUCTO_CONTRATADO</th>\n",
       "    </tr>\n",
       "  </thead>\n",
       "  <tbody>\n",
       "    <tr>\n",
       "      <th>count</th>\n",
       "      <td>6868.000000</td>\n",
       "      <td>0.0</td>\n",
       "      <td>0.0</td>\n",
       "      <td>0.0</td>\n",
       "      <td>1.100000e+01</td>\n",
       "      <td>0.0</td>\n",
       "    </tr>\n",
       "    <tr>\n",
       "      <th>mean</th>\n",
       "      <td>3434.500000</td>\n",
       "      <td>NaN</td>\n",
       "      <td>NaN</td>\n",
       "      <td>NaN</td>\n",
       "      <td>1.000001e+15</td>\n",
       "      <td>NaN</td>\n",
       "    </tr>\n",
       "    <tr>\n",
       "      <th>std</th>\n",
       "      <td>1982.765157</td>\n",
       "      <td>NaN</td>\n",
       "      <td>NaN</td>\n",
       "      <td>NaN</td>\n",
       "      <td>1.505044e+08</td>\n",
       "      <td>NaN</td>\n",
       "    </tr>\n",
       "    <tr>\n",
       "      <th>min</th>\n",
       "      <td>1.000000</td>\n",
       "      <td>NaN</td>\n",
       "      <td>NaN</td>\n",
       "      <td>NaN</td>\n",
       "      <td>1.000000e+15</td>\n",
       "      <td>NaN</td>\n",
       "    </tr>\n",
       "    <tr>\n",
       "      <th>25%</th>\n",
       "      <td>1717.750000</td>\n",
       "      <td>NaN</td>\n",
       "      <td>NaN</td>\n",
       "      <td>NaN</td>\n",
       "      <td>1.000000e+15</td>\n",
       "      <td>NaN</td>\n",
       "    </tr>\n",
       "    <tr>\n",
       "      <th>50%</th>\n",
       "      <td>3434.500000</td>\n",
       "      <td>NaN</td>\n",
       "      <td>NaN</td>\n",
       "      <td>NaN</td>\n",
       "      <td>1.000001e+15</td>\n",
       "      <td>NaN</td>\n",
       "    </tr>\n",
       "    <tr>\n",
       "      <th>75%</th>\n",
       "      <td>5151.250000</td>\n",
       "      <td>NaN</td>\n",
       "      <td>NaN</td>\n",
       "      <td>NaN</td>\n",
       "      <td>1.000001e+15</td>\n",
       "      <td>NaN</td>\n",
       "    </tr>\n",
       "    <tr>\n",
       "      <th>max</th>\n",
       "      <td>6868.000000</td>\n",
       "      <td>NaN</td>\n",
       "      <td>NaN</td>\n",
       "      <td>NaN</td>\n",
       "      <td>1.000001e+15</td>\n",
       "      <td>NaN</td>\n",
       "    </tr>\n",
       "  </tbody>\n",
       "</table>\n",
       "</div>"
      ],
      "text/plain": [
       "             ID_DL  ENTIDAD_FEDERATIVA_NACIMIENTO  NUMERO_INTERIOR  \\\n",
       "count  6868.000000                            0.0              0.0   \n",
       "mean   3434.500000                            NaN              NaN   \n",
       "std    1982.765157                            NaN              NaN   \n",
       "min       1.000000                            NaN              NaN   \n",
       "25%    1717.750000                            NaN              NaN   \n",
       "50%    3434.500000                            NaN              NaN   \n",
       "75%    5151.250000                            NaN              NaN   \n",
       "max    6868.000000                            NaN              NaN   \n",
       "\n",
       "       COLONIA_URBANIZACION          FIEL  PRODUCTO_CONTRATADO  \n",
       "count                   0.0  1.100000e+01                  0.0  \n",
       "mean                    NaN  1.000001e+15                  NaN  \n",
       "std                     NaN  1.505044e+08                  NaN  \n",
       "min                     NaN  1.000000e+15                  NaN  \n",
       "25%                     NaN  1.000000e+15                  NaN  \n",
       "50%                     NaN  1.000001e+15                  NaN  \n",
       "75%                     NaN  1.000001e+15                  NaN  \n",
       "max                     NaN  1.000001e+15                  NaN  "
      ]
     },
     "execution_count": 126,
     "metadata": {},
     "output_type": "execute_result"
    }
   ],
   "source": [
    "df.describe()"
   ]
  },
  {
   "cell_type": "code",
   "execution_count": 118,
   "metadata": {},
   "outputs": [
    {
     "data": {
      "text/plain": [
       "GENERO\n",
       "MASCULINO    1633\n",
       "NO_APLICA    1391\n",
       "FEMENINO     1285\n",
       "Name: count, dtype: int64"
      ]
     },
     "execution_count": 118,
     "metadata": {},
     "output_type": "execute_result"
    }
   ],
   "source": [
    "df.value_counts(\"GENERO\")"
   ]
  },
  {
   "cell_type": "code",
   "execution_count": 119,
   "metadata": {},
   "outputs": [
    {
     "data": {
      "text/plain": [
       "2918"
      ]
     },
     "execution_count": 119,
     "metadata": {},
     "output_type": "execute_result"
    }
   ],
   "source": [
    "1285+1633"
   ]
  },
  {
   "cell_type": "code",
   "execution_count": null,
   "metadata": {},
   "outputs": [],
   "source": [
    "df[\"GENERO\"] = df[\"GENERO\"].apply(lambda x: x if x is not pd.NA else \"NO_APLICA\")"
   ]
  },
  {
   "cell_type": "code",
   "execution_count": 112,
   "metadata": {},
   "outputs": [],
   "source": [
    "total_nulos = df.isnull().sum().sum()\n",
    "total_valores = df.size\n",
    "porcentaje_nulos = (total_nulos / total_valores) * 100"
   ]
  },
  {
   "cell_type": "code",
   "execution_count": null,
   "metadata": {},
   "outputs": [],
   "source": [
    "print(f\"Porcentaje total de valores nulos: {porcentaje_nulos:.2f}%\")"
   ]
  },
  {
   "cell_type": "code",
   "execution_count": 128,
   "metadata": {},
   "outputs": [],
   "source": [
    "registros_unicos = df.nunique(axis=0) "
   ]
  },
  {
   "cell_type": "code",
   "execution_count": 129,
   "metadata": {},
   "outputs": [
    {
     "data": {
      "text/plain": [
       "ID_DL                            6868\n",
       "NEGOCIO                             2\n",
       "NOMBRE_O_RAZON_SOCIAL            6867\n",
       "NUMERO_CLIENTE                   6851\n",
       "ESTATUS                             1\n",
       "NUMERO_CONTRATO                  4309\n",
       "GENERO                              3\n",
       "FECHA_NAC_O_CONST                2647\n",
       "ENTIDAD_FEDERATIVA_NACIMIENTO       0\n",
       "PAIS_DE_NACIMIENTO                  4\n",
       "NACIONALIDAD                       41\n",
       "PROFESION                          33\n",
       "CALLE                             179\n",
       "NUMERO_EXTERIOR                    14\n",
       "NUMERO_INTERIOR                     0\n",
       "COLONIA_URBANIZACION                0\n",
       "DELEGACION_MUNICIPIO               29\n",
       "CIUDAD_POBLACION                   33\n",
       "ENTIDAD_FEDERATIVA                 48\n",
       "CODIGO_POSTAL                      13\n",
       "PAIS                               32\n",
       "TELEFONO                          667\n",
       "CORREO_ELECTRONICO                 22\n",
       "RFC                              5297\n",
       "CURP                              137\n",
       "FIEL                               11\n",
       "REPRESENTANTE_LEGAL               859\n",
       "TIPO_PERSONA                       19\n",
       "PRODUCTO_CONTRATADO                 0\n",
       "SISTEMA_ORIGEN                     30\n",
       "FECHA_DE_ACTUALIZACION              1\n",
       "dtype: int64"
      ]
     },
     "execution_count": 129,
     "metadata": {},
     "output_type": "execute_result"
    }
   ],
   "source": [
    "registros_unicos"
   ]
  },
  {
   "cell_type": "code",
   "execution_count": 130,
   "metadata": {},
   "outputs": [
    {
     "name": "stdout",
     "output_type": "stream",
     "text": [
      "Porcentaje de valores únicos en 'RFC': 77.13%\n"
     ]
    }
   ],
   "source": [
    "total_registros = len(df)\n",
    "registros_unicos = df.nunique(axis=0)  # Cuenta valores únicos por columna\n",
    "\n",
    "# Opcional: Si tienes una columna clave como \"ID_Cliente\", puedes hacer:\n",
    "columna_clave = \"RFC\"  # Reemplaza con la columna relevante\n",
    "unicidad = (df[columna_clave].nunique() / total_registros) * 100\n",
    "\n",
    "print(f\"Porcentaje de valores únicos en '{columna_clave}': {unicidad:.2f}%\")"
   ]
  },
  {
   "cell_type": "code",
   "execution_count": 122,
   "metadata": {},
   "outputs": [
    {
     "name": "stdout",
     "output_type": "stream",
     "text": [
      "Porcentaje de registros duplicados: 0.00%\n"
     ]
    }
   ],
   "source": [
    "total_registros = len(df)\n",
    "duplicados = df.duplicated().sum()\n",
    "porcentaje_duplicados = (duplicados / total_registros) * 100\n",
    "print(f\"Porcentaje de registros duplicados: {porcentaje_duplicados:.2f}%\")\n"
   ]
  },
  {
   "cell_type": "code",
   "execution_count": 123,
   "metadata": {},
   "outputs": [
    {
     "data": {
      "text/plain": [
       "0       False\n",
       "1       False\n",
       "2       False\n",
       "3       False\n",
       "4       False\n",
       "        ...  \n",
       "6863    False\n",
       "6864    False\n",
       "6865    False\n",
       "6866    False\n",
       "6867    False\n",
       "Length: 6868, dtype: bool"
      ]
     },
     "execution_count": 123,
     "metadata": {},
     "output_type": "execute_result"
    }
   ],
   "source": [
    "df.duplicated()"
   ]
  },
  {
   "cell_type": "code",
   "execution_count": 107,
   "metadata": {},
   "outputs": [
    {
     "data": {
      "text/plain": [
       "4309"
      ]
     },
     "execution_count": 107,
     "metadata": {},
     "output_type": "execute_result"
    }
   ],
   "source": [
    "df.value_counts(\"GENERO\").sum()"
   ]
  },
  {
   "cell_type": "code",
   "execution_count": 132,
   "metadata": {},
   "outputs": [
    {
     "data": {
      "text/plain": [
       "0        NAFIN FIDUCIARIO FIDEICOMISO CONTRAGARANTIA F...\n",
       "1                  .+ TASA ACTIVO, S.A. DE C.V., F.I.R.V.\n",
       "2              .+TASA LARGO PLAZO, S.A. DE C.V., F.I.I.D.\n",
       "3              .+TASA PREVISIONAL, S.A. DE C.V., F.I.I.D.\n",
       "4                       .+TASA US, S.A. DE C.V., F.I.I.D.\n",
       "                              ...                        \n",
       "6863    ZURICH SANTANDER SEGUROS MEXICO, S.A. /1365/04...\n",
       "6864    ZURICH SANTANDER SEGUROS MEXICO, S.A. /DESIN 1...\n",
       "6865                ZURICH SANTANDER SEGUROS MaXICO, S.A.\n",
       "6866                ZURICH VIDA COMPAaIA DE SEGUROS, S.A.\n",
       "6867                                 primas de antiguedad\n",
       "Name: NOMBRE_O_RAZON_SOCIAL, Length: 6868, dtype: object"
      ]
     },
     "execution_count": 132,
     "metadata": {},
     "output_type": "execute_result"
    }
   ],
   "source": [
    "df[\"NOMBRE_O_RAZON_SOCIAL\"].str.replace(r'[^\\x00-\\x7F]+', 'a', regex=True)"
   ]
  },
  {
   "cell_type": "code",
   "execution_count": null,
   "metadata": {},
   "outputs": [],
   "source": [
    "df[\"NOMBRE_O_RAZON_SOCIAL\"] = df[\"NOMBRE_O_RAZON_SOCIAL\"].str.replace(r'[^\\x00-\\x7F]+', 'a', regex=True)\n"
   ]
  },
  {
   "cell_type": "code",
   "execution_count": 4,
   "metadata": {},
   "outputs": [],
   "source": [
    "df_copy = df.copy()"
   ]
  },
  {
   "cell_type": "code",
   "execution_count": 5,
   "metadata": {},
   "outputs": [],
   "source": [
    "df_copy[\"S2\"] = df_copy[\"SISTEMA_ORIGEN\"].apply(lambda x: x if len(x.split(',')) <= 1 else x.split(',')[0])"
   ]
  },
  {
   "cell_type": "code",
   "execution_count": 88,
   "metadata": {},
   "outputs": [
    {
     "data": {
      "text/plain": [
       "1"
      ]
     },
     "execution_count": 88,
     "metadata": {},
     "output_type": "execute_result"
    }
   ],
   "source": [
    "len(\"SIRAC\".split(','))"
   ]
  },
  {
   "cell_type": "code",
   "execution_count": 7,
   "metadata": {},
   "outputs": [
    {
     "data": {
      "text/plain": [
       "S2\n",
       "TAS      1958\n",
       "SIRAC    1389\n",
       "MECA      208\n",
       "SIPE      178\n",
       "SIAG      111\n",
       "SIMS       84\n",
       "SOI        22\n",
       "Name: count, dtype: int64"
      ]
     },
     "execution_count": 7,
     "metadata": {},
     "output_type": "execute_result"
    }
   ],
   "source": [
    "df_copy[df_copy[\"TIPO_PERSONA\"] != \"PF\"].value_counts(\"S2\")"
   ]
  },
  {
   "cell_type": "code",
   "execution_count": 103,
   "metadata": {},
   "outputs": [
    {
     "data": {
      "text/plain": [
       "[{'name': 'SIRAC', 'y': 4307},\n",
       " {'name': 'TAS', 'y': 1958},\n",
       " {'name': 'MECA', 'y': 208},\n",
       " {'name': 'SIPE', 'y': 178},\n",
       " {'name': 'SIAG', 'y': 111},\n",
       " {'name': 'SIMS', 'y': 84},\n",
       " {'name': 'SOI', 'y': 22}]"
      ]
     },
     "execution_count": 103,
     "metadata": {},
     "output_type": "execute_result"
    }
   ],
   "source": [
    "[\n",
    "    {'name': sistema, 'y': value}\n",
    "    for sistema, value in df_copy.value_counts(\"S2\").to_dict().items()\n",
    "]"
   ]
  },
  {
   "cell_type": "code",
   "execution_count": null,
   "metadata": {},
   "outputs": [
    {
     "data": {
      "text/plain": [
       "dict_items([('SIRAC', 4307), ('TAS', 1958), ('MECA', 208), ('SIPE', 178), ('SIAG', 111), ('SIMS', 84), ('SOI', 22)])"
      ]
     },
     "execution_count": 102,
     "metadata": {},
     "output_type": "execute_result"
    }
   ],
   "source": []
  },
  {
   "cell_type": "code",
   "execution_count": 85,
   "metadata": {},
   "outputs": [
    {
     "data": {
      "text/plain": [
       "'SIRAC'"
      ]
     },
     "execution_count": 85,
     "metadata": {},
     "output_type": "execute_result"
    }
   ],
   "source": [
    "\"SIRAC, TAS\".split(',')[0]"
   ]
  },
  {
   "cell_type": "code",
   "execution_count": 80,
   "metadata": {},
   "outputs": [
    {
     "data": {
      "text/plain": [
       "SISTEMA_ORIGEN\n",
       "SIRAC                           4278\n",
       "TAS                             1934\n",
       "MECA                             208\n",
       "SIPE                             152\n",
       "SIAG                             107\n",
       "SIMS                              77\n",
       "SOI                               22\n",
       "SIRAC, TAS                        22\n",
       "TAS, MECA                         18\n",
       "SIPE, MECA                         9\n",
       "SIPE, TAS                          7\n",
       "SIPE, MECA, TAS                    5\n",
       "SIRAC, SIAG                        4\n",
       "SIMS, SIPE                         3\n",
       "SIAG, MECA                         3\n",
       "SIMS, TAS                          2\n",
       "TAS, SIAG                          2\n",
       "TAS, SIMS, MECA                    2\n",
       "SIRAC, TAS, SIAG                   2\n",
       "TAS, SIMS, MECA, SIAG              1\n",
       "SIPE, SIRAC                        1\n",
       "SIRAC, MECA, TAS                   1\n",
       "SIPE, TAS, SIAG                    1\n",
       "SIPE, SIMS, MECA                   1\n",
       "SIPE, MECA, TAS, SIAG              1\n",
       "SIPE, MECA, SIAG                   1\n",
       "SIMS, SIAG                         1\n",
       "SIMS, MECA                         1\n",
       "SIAG, SIRAC, SIMS, MECA, TAS       1\n",
       "TAS, SOI, MECA                     1\n",
       "Name: count, dtype: int64"
      ]
     },
     "execution_count": 80,
     "metadata": {},
     "output_type": "execute_result"
    }
   ],
   "source": [
    "df.value_counts(\"SISTEMA_ORIGEN\")"
   ]
  },
  {
   "cell_type": "code",
   "execution_count": 75,
   "metadata": {},
   "outputs": [
    {
     "name": "stdout",
     "output_type": "stream",
     "text": [
      "      ID_DL NEGOCIO                                                    NOMBRE_O_RAZON_SOCIAL                               NUMERO_CLIENTE  ESTATUS NUMERO_CONTRATO GENERO FECHA_NAC_O_CONST  ENTIDAD_FEDERATIVA_NACIMIENTO PAIS_DE_NACIMIENTO NACIONALIDAD                                PROFESION CALLE NUMERO_EXTERIOR  NUMERO_INTERIOR  COLONIA_URBANIZACION DELEGACION_MUNICIPIO CIUDAD_POBLACION ENTIDAD_FEDERATIVA CODIGO_POSTAL PAIS                               TELEFONO CORREO_ELECTRONICO                          RFC CURP  FIEL                                                                                                                                          REPRESENTANTE_LEGAL                TIPO_PERSONA  PRODUCTO_CONTRATADO SISTEMA_ORIGEN FECHA_DE_ACTUALIZACION\n",
      "23       23     NaN                          ABC CAPITAL, S.A. INSTITUCI�N DE BANCA M�LTIPLE                                      1059995  VIGENTE             NaN    NaN               NaN                            NaN                NaN     MEXICANA                           BANCA MULTIPLE   NaN             NaN              NaN                   NaN                  NaN              NaN                NaN           NaN  MEX                              3600 2850                                    BNC061114TQ4  NaN   NaN                                                                                                                                      CARRILLO �GUILA ENRIQUE  Moral Nacional no Gravable                  NaN            TAS               24/02/25\n",
      "120     120     NaN                                         AEROVIAS DE M�XICO, S.A. DE C.V.                                      1065321  VIGENTE             NaN    NaN               NaN                            NaN                NaN     MEXICANA                               TESORERIAS   NaN             NaN              NaN                   NaN                  NaN              NaN                NaN           NaN  MEX                             5591324208                                    AME880912I89  NaN   NaN                                                             HASSEY ARTIGAS CARLOS ANTONIO -- NU�EZ DE LA HUERTA ALICIA CLARA -- SANCHEZ BAKER RICARDO JAVIER     Moral Nacional Gravable                  NaN            TAS               24/02/25\n",
      "492     487     NaN                ASESOR�A FINANCIERA DE M�XICO, S.A. DE C.V. SOFOM, E.N.R.                                      1065754  VIGENTE             NaN    NaN               NaN                            NaN                NaN     MEXICANA                               TESORER�AS   NaN             NaN              NaN                   NaN                  NaN              NaN                NaN           NaN  MEX                           019616147676                                    AFM0403115D3  NaN   NaN                                                                                                                                      COUTI�O ALBORES NICOL�S  Moral Nacional no Gravable                  NaN            TAS               24/02/25\n",
      "507     502     NaN                                      AUDITOR�A SUPERIOR DE LA FEDERACI�N                             1063772, 1060286  VIGENTE             NaN    NaN               NaN                            NaN                NaN     MEXICANA                         GOBIERNO FEDERAL   NaN             NaN              NaN                   NaN                  NaN              NaN                NaN           NaN  MEX                           55 5200 1500                                    ASF001230TS2  NaN   NaN                                                                                                                                        BARRADAS ROMERO ISAAC  Moral Nacional no Gravable                  NaN            TAS               24/02/25\n",
      "560     555     NaN                               BANAMEX SIEFORE B�SICA 60-64, S.A. DE C.V.                                      1060639  VIGENTE             NaN    NaN               NaN                            NaN                NaN     MEXICANA                                   AFORES   NaN             NaN              NaN                   NaN                  NaN              NaN                NaN           NaN  MEX                           55 1226 9781                                    SBB970106EA9  NaN   NaN                                                                                                      ACOSTA ALVAREZ FRANCISCO TOMAS -- DE PAUL MARTINEZ LEON  Moral Nacional no Gravable                  NaN            TAS               24/02/25\n",
      "561     556     NaN                               BANAMEX SIEFORE B�SICA 65-69, S.A. DE C.V.                                      1065562  VIGENTE             NaN    NaN               NaN                            NaN                NaN     MEXICANA                                   AFORES   NaN             NaN              NaN                   NaN                  NaN              NaN                NaN           NaN  MEX                           55 1226 9781                                    CSB190705TT6  NaN   NaN                                                                                                      ACOSTA ALVAREZ FRANCISCO TOMAS -- DE PAUL MARTINEZ LEON  Moral Nacional no Gravable                  NaN            TAS               24/02/25\n",
      "562     557     NaN                               BANAMEX SIEFORE B�SICA 70-74, S.A. DE C.V.                                      1065563  VIGENTE             NaN    NaN               NaN                            NaN                NaN     MEXICANA                                   AFORES   NaN             NaN              NaN                   NaN                  NaN              NaN                NaN           NaN  MEX                           55 1226 9781                                    CSB190705RX4  NaN   NaN                                                                                                      ACOSTA ALVAREZ FRANCISCO TOMAS -- DE PAUL MARTINEZ LEON  Moral Nacional no Gravable                  NaN            TAS               24/02/25\n",
      "563     558     NaN                               BANAMEX SIEFORE B�SICA 75-79, S.A. DE C.V.                                      1064151  VIGENTE             NaN    NaN               NaN                            NaN                NaN     MEXICANA                                   AFORES   NaN             NaN              NaN                   NaN                  NaN              NaN                NaN           NaN  MEX                           55 1226 9781                                    SBB080116RF3  NaN   NaN                                                                                                      ACOSTA ALVAREZ FRANCISCO TOMAS -- DE PAUL MARTINEZ LEON  Moral Nacional no Gravable                  NaN            TAS               24/02/25\n",
      "564     559     NaN                               BANAMEX SIEFORE B�SICA 80-84, S.A. DE C.V.                                      1064153  VIGENTE             NaN    NaN               NaN                            NaN                NaN     MEXICANA                                   AFORES   NaN             NaN              NaN                   NaN                  NaN              NaN                NaN           NaN  MEX                           55 1226 9781                                    SBB080116RW0  NaN   NaN                                                                                                      ACOSTA ALVAREZ FRANCISCO TOMAS -- DE PAUL MARTINEZ LEON  Moral Nacional no Gravable                  NaN            TAS               24/02/25\n",
      "565     560     NaN                               BANAMEX SIEFORE B�SICA 85-89, S.A. DE C.V.                                      1064152  VIGENTE             NaN    NaN               NaN                            NaN                NaN     MEXICANA                                   AFORES   NaN             NaN              NaN                   NaN                  NaN              NaN                NaN           NaN  MEX                           55 1226 9781                                    SBB080116RM0  NaN   NaN                                                                                                      ACOSTA ALVAREZ FRANCISCO TOMAS -- DE PAUL MARTINEZ LEON  Moral Nacional no Gravable                  NaN            TAS               24/02/25\n",
      "566     561     NaN                               BANAMEX SIEFORE B�SICA 90-94, S.A. DE C.V.                                      1063252  VIGENTE             NaN    NaN               NaN                            NaN                NaN     MEXICANA                                   AFORES   NaN             NaN              NaN                   NaN                  NaN              NaN                NaN           NaN  MEX                           55 1226 9781                                    SBA000929N29  NaN   NaN                                                                                                      ACOSTA ALVAREZ FRANCISCO TOMAS -- DE PAUL MARTINEZ LEON  Moral Nacional no Gravable                  NaN            TAS               24/02/25\n",
      "567     562     NaN                               BANAMEX SIEFORE B�SICA 95-99, S.A. DE C.V.                                      1063096  VIGENTE             NaN    NaN               NaN                            NaN                NaN     MEXICANA                                   AFORES   NaN             NaN              NaN                   NaN                  NaN              NaN                NaN           NaN  MEX                           55 1226 9781                                    SBB040721E76  NaN   NaN                                                                                                      ACOSTA ALVAREZ FRANCISCO TOMAS -- DE PAUL MARTINEZ LEON  Moral Nacional no Gravable                  NaN            TAS               24/02/25\n",
      "568     563     NaN                        BANAMEX SIEFORE B�SICA DE PENSIONES, S.A. DE C.V.                                      1065560  VIGENTE             NaN    NaN               NaN                            NaN                NaN     MEXICANA                                   AFORES   NaN             NaN              NaN                   NaN                  NaN              NaN                NaN           NaN  MEX                           55 1226 9781                                    SBB150512TXA  NaN   NaN                                                                                                      ACOSTA ALVAREZ FRANCISCO TOMAS -- DE PAUL MARTINEZ LEON  Moral Nacional no Gravable                  NaN            TAS               24/02/25\n",
      "569     564     NaN                             BANAMEX SIEFORE B�SICA INICIAL, S.A. DE C.V.                                      1065561  VIGENTE             NaN    NaN               NaN                            NaN                NaN     MEXICANA                                   AFORES   NaN             NaN              NaN                   NaN                  NaN              NaN                NaN           NaN  MEX                           55 1226 9781                                    CSB190704VC7  NaN   NaN                                                                                                      ACOSTA ALVAREZ FRANCISCO TOMAS -- DE PAUL MARTINEZ LEON  Moral Nacional no Gravable                  NaN            TAS               24/02/25\n",
      "622     613     NaN   BANCO DE INVERSI�N AFIRME, S.A., INSTITUCI�N DE BANCA MULTIPLE, AFIRME                                      1059977  VIGENTE             NaN    NaN               NaN                            NaN                NaN     MEXICANA                           BANCA MULTIPLE   NaN             NaN              NaN                   NaN                  NaN              NaN                NaN           NaN  MEX                             8183183900                                    UBM061103HX0  NaN   NaN                                                                                                    ARZATE ORTIZ RAUL ROSENDO -- ASMITIA ANCONA JOAB JONATHAN  Moral Nacional no Gravable                  NaN            TAS               24/02/25\n",
      "633     623     NaN          BANCO DEL BIENESTAR, S.N.C., INSTITUCI�N DE BANCA DE DESARROLLO                                      1060537  VIGENTE             NaN    NaN               NaN                            NaN                NaN     MEXICANA                      BANCA DE DESARROLLO   NaN             NaN              NaN                   NaN                  NaN              NaN                NaN           NaN  MEX                               54813300                                    BAN500901167  NaN   NaN                                                                                                                                       RABIELA SOUZA FERNANDO  Moral Nacional no Gravable                  NaN            TAS               24/02/25\n",
      "643     633     NaN       BANCO INBURSA, S.A. INSTITUCI�N DE BANCA M�LTIPLE GRUPO FINANCIERO                                      1064854  VIGENTE             NaN    NaN               NaN                            NaN                NaN     MEXICANA                             FIDEICOMISOS   NaN             NaN              NaN                   NaN                  NaN              NaN                NaN           NaN  MEX                           55 5625 4900                                    BII931004P61  NaN   NaN                                                                                                                             CABALLERO PADILLA GUILLERMO RENE  Moral Nacional no Gravable                  NaN            TAS               24/02/25\n",
      "673     660     NaN  BANCO MONEX, S.A., INSTITUCI�N DE BANCA M�LTIPLE, MONEX GRUPO FINANCIER                                      1059974  VIGENTE             NaN    NaN               NaN                            NaN                NaN     MEXICANA                           BANCA MULTIPLE   NaN             NaN              NaN                   NaN                  NaN              NaN                NaN           NaN  MEX                         55 52 30 02 00                                    BMI9704113PA  NaN   NaN                                                                                                                             MARTINEZ FLORES JACOBO GUADALUPE  Moral Nacional no Gravable                  NaN            TAS               24/02/25\n",
      "687     670     NaN  BANCO REGIONAL S.A., INSTITUCI�N DE BANCA M�LTIPLE, BANREGIO GRUPO FINA                                      1006907  VIGENTE             NaN    NaN               NaN                            NaN                NaN     MEXICANA                           BANCA MULTIPLE   NaN             NaN              NaN                   NaN                  NaN              NaN                NaN           NaN  MEX             9183995007, 0181  83998000                                    BRM940216NRA  NaN   NaN                                                                                                  GRACIA MARTINEZ RUBEN ORLANDO -- LACAVEX VILLARREAL RICARDO  Moral Nacional no Gravable                  NaN            TAS               24/02/25\n",
      "843     790     NaN  BARCLAYS BANK M�XICO, S.A. INSTITUCI�N DE BANCA MULTIPLE, GRUPO FIN BAR                                      1063503  VIGENTE             NaN    NaN               NaN                            NaN                NaN     MEXICANA                           BANCA MULTIPLE   NaN             NaN              NaN                   NaN                  NaN              NaN                NaN           NaN  MEX                            52 41 32 27                                    BBM060102M82  NaN   NaN                                                                                                                                          PASCOE ELIAS HAYDEE  Moral Nacional no Gravable                  NaN            TAS               24/02/25\n",
      "890     836     NaN   BBVA M�XICO, S.A. INSTITUCI�N DE BANCA MULTIPLE, GRUPO FINANCIERO BBVA                                       920095  VIGENTE             NaN    NaN               NaN                            NaN                NaN     MEXICANA                           BANCA MULTIPLE   NaN             NaN              NaN                   NaN                  NaN              NaN                NaN           NaN  MEX                    534-00-34, 56213434                                    BBA830831LJ2  NaN   NaN                                         DIBILDOX VALLS MAURICIO -- FELIX PEREZ MIGUEL ALEJANDRO -- GARCIA LEMUS ILIANA PATRICIA -- RIERA SOLORZANO FRANCISCO  Moral Nacional no Gravable                  NaN            TAS               24/02/25\n",
      "1011    957     NaN      BNP PARIBAS M�XICO, SOCIEDAD AN�NIMA, INSTITUCI�N DE BANCA M�LTIPLE                                      1065860  VIGENTE             NaN    NaN               NaN                            NaN                NaN     MEXICANA                           BANCA MULTIPLE   NaN             NaN              NaN                   NaN                  NaN              NaN                NaN           NaN  MEX                           55 5003 9400                                    ART180426H22  NaN   NaN                                                                                                                  AUGUSTO MANIERO ELIDIO -- MURO POLO ENRIQUE  Moral Nacional no Gravable                  NaN            TAS               24/02/25\n",
      "1258   1201     NaN  CI FONDOS, S.A. DE C.V. S.O.F.I. EN REPRESENTACI�N DE CI INSTITUCIONAL,                                      6009375  VIGENTE             NaN    NaN               NaN                            NaN                NaN     MEXICANA                      FONDOS DE INVERSION   NaN             NaN              NaN                   NaN                  NaN              NaN                NaN           NaN  MEX                             5511031103                                    VUC020221QU7  NaN   NaN                                                                           ARROYO RODRIGUEZ SALVADOR -- PEREZ ESTRADA ROBERTO -- SOTO LARTIGUE HECTOR AUGUSTO  Moral Nacional no Gravable                  NaN            TAS               24/02/25\n",
      "1265   1208     NaN                              CIBANCO, S.A. INSTITUCI�N DE BANCA M�LTIPLE                             6009449, 1059973  VIGENTE             NaN    NaN               NaN                            NaN                NaN     MEXICANA  BANCA MULTIPLE, OPERACIONES FINANCIERAS   NaN             NaN              NaN                   NaN                  NaN              NaN                NaN           NaN  MEX                       , 55 11 03 11 15                                    BNY080206UR9  NaN   NaN                                                     ARROYO RODRIGUEZ SALVADOR -- PEREZ ESTRADA ROBERTO, MACIEL CASTRO MARIO ALBERTO -- PEREZ ESTRADA ROBERTO  Moral Nacional no Gravable                  NaN            TAS               24/02/25\n",
      "1403   1346     NaN     CONAFOR EN SU CAR�CTER DE EJECUTOR DE PROYECTO TF-0A6448 Y TF-0A6533                                      6009425  VIGENTE             NaN    NaN               NaN                            NaN                NaN     MEXICANA                         GOBIERNO FEDERAL   NaN             NaN              NaN                   NaN                  NaN              NaN                NaN           NaN  MEX                             5553256000                                    CNF010405EG1  NaN   NaN                                                                                                                                          CARRANZA NAVA C�SAR  Moral Nacional no Gravable                  NaN            TAS               24/02/25\n",
      "1423   1366     NaN  CONSEJO DE LA JUDICATURA FEDERAL (FONDO DE APOYO A LA ADMINISTRACI�N DE                                      1064764  VIGENTE             NaN    NaN               NaN                            NaN                NaN     MEXICANA                         GOBIERNO FEDERAL   NaN             NaN              NaN                   NaN                  NaN              NaN                NaN           NaN  MEX                           55 5322 1700                                    CJF950204TL0  NaN   NaN                                                                                                                         HERMOSO Y NU�EZ MARIA TERESA ADRIANA  Moral Nacional no Gravable                  NaN            TAS               24/02/25\n",
      "1488   1430     NaN                              CREDIRED UNO UNI�N DE CR�DITO, S.A. DE C.V.                                      1063617  VIGENTE             NaN    NaN               NaN                            NaN                NaN     MEXICANA                               TESORERIAS   NaN             NaN              NaN                   NaN                  NaN              NaN                NaN           NaN  MEX                          83  1232 9420                                    CUU941107UU5  NaN   NaN                                                                                                                                     RUBIO ELOSUA JUAN MIGUEL  Moral Nacional no Gravable                  NaN            TAS               24/02/25\n",
      "1807   1747     NaN                              EL AGUILA COMPA�IA DE SEGUROS, S.A. DE C.V.                             1064178, 6009254  VIGENTE             NaN    NaN               NaN                            NaN                NaN     MEXICANA                             ASEGURADORAS   NaN             NaN              NaN                   NaN                  NaN              NaN                NaN           NaN  MEX                              9177 1000                                    ASE941124NN4  NaN   NaN                                                                                             OCA�A RUIZ DE VELASCO ISABEL -- RIVERA DE LA MORA CARLOS ESTEBAN  Moral Nacional no Gravable                  NaN            TAS               24/02/25\n",
      "1811   1751     NaN                        EL OBSERVATORIO ECON�MICO M�XICO C�MO VAMOS, A.C.                                      1065792  VIGENTE             NaN    NaN               NaN                            NaN                NaN     MEXICANA                               TESORERIAS   NaN             NaN              NaN                   NaN                  NaN              NaN                NaN           NaN  MEX                             5575901756                                    OEM141201DPA  NaN   NaN                                                                                                                                 RAMIREZ AGUILAR SOFIA ISABEL     Moral Nacional Gravable                  NaN            TAS               24/02/25\n",
      "2173   2106     NaN                    FINANCIERA SUSTENTABLE DE M�XICO, S.A. DE C.V. S.F.P.                                      1065707  VIGENTE             NaN    NaN               NaN                            NaN                NaN     MEXICANA                               TESORERIAS   NaN             NaN              NaN                   NaN                  NaN              NaN                NaN           NaN  MEX                           55 5661 4915                                    FSM121019LM6  NaN   NaN                                                                            BARONA GONZALEZ IVAN -- PRIETO STAINES MAURICIO -- ROLDAN PLATAS MARIA DEL CARMEN  Moral Nacional no Gravable                  NaN            TAS               24/02/25\n",
      "2234   2165     NaN                       FONDO BBVA M�XICO BIENESTAR, S.A. DE C.V. F.I.R.V.                                      1063250  VIGENTE             NaN    NaN               NaN                            NaN                NaN     MEXICANA                      FONDOS DE INVERSION   NaN             NaN              NaN                   NaN                  NaN              NaN                NaN           NaN  MEX                             5201 27 30                                    FBB040825EQ2  NaN   NaN                             MONTES MARTINEZ LUIS CARLOS -- RODRIGUEZ AMESTOY LUIS ANGEL -- RODRIGUEZ SANCHEZ VICTOR DANIEL -- SANCHEZ TRUJILLO JULIO ALBERTO  Moral Nacional no Gravable                  NaN            TAS               24/02/25\n",
      "2235   2166     NaN                     FONDO BBVA M�XICO CRECIMIENTO, S.A. DE C.V. F.I.R.V.                                      1060113  VIGENTE             NaN    NaN               NaN                            NaN                NaN     MEXICANA                      FONDOS DE INVERSION   NaN             NaN              NaN                   NaN                  NaN              NaN                NaN           NaN  MEX                                                                           FBB9205131R5  NaN   NaN                             MONTES MARTINEZ LUIS CARLOS -- RODRIGUEZ AMESTOY LUIS ANGEL -- RODRIGUEZ SANCHEZ VICTOR DANIEL -- SANCHEZ TRUJILLO JULIO ALBERTO  Moral Nacional no Gravable                  NaN            TAS               24/02/25\n",
      "2236   2167     NaN                        FONDO BBVA M�XICO DEUDA 10, S.A. DE C.V. F.I.I.D.                                      1060425  VIGENTE             NaN    NaN               NaN                            NaN                NaN     MEXICANA                      FONDOS DE INVERSION   NaN             NaN              NaN                   NaN                  NaN              NaN                NaN           NaN  MEX                                                                           FBB0203154W5  NaN   NaN                             MONTES MARTINEZ LUIS CARLOS -- RODRIGUEZ AMESTOY LUIS ANGEL -- RODRIGUEZ SANCHEZ VICTOR DANIEL -- SANCHEZ TRUJILLO JULIO ALBERTO  Moral Nacional no Gravable                  NaN            TAS               24/02/25\n",
      "2237   2168     NaN                        FONDO BBVA M�XICO DEUDA 11, S.A. DE C.V. F.I.I.D.                                      1064418  VIGENTE             NaN    NaN               NaN                            NaN                NaN     MEXICANA                      FONDOS DE INVERSION   NaN             NaN              NaN                   NaN                  NaN              NaN                NaN           NaN  MEX                               52012830                                    FBB101104LAA  NaN   NaN                             MONTES MARTINEZ LUIS CARLOS -- RODRIGUEZ AMESTOY LUIS ANGEL -- RODRIGUEZ SANCHEZ VICTOR DANIEL -- SANCHEZ TRUJILLO JULIO ALBERTO  Moral Nacional no Gravable                  NaN            TAS               24/02/25\n",
      "2238   2169     NaN                        FONDO BBVA M�XICO DEUDA 12, S.A. DE C.V. F.I.I.D.                                      1065024  VIGENTE             NaN    NaN               NaN                            NaN                NaN     MEXICANA                      FONDOS DE INVERSION   NaN             NaN              NaN                   NaN                  NaN              NaN                NaN           NaN  MEX                    52012830 Y 52012877                                    FBB111028298  NaN   NaN                             MONTES MARTINEZ LUIS CARLOS -- RODRIGUEZ AMESTOY LUIS ANGEL -- RODRIGUEZ SANCHEZ VICTOR DANIEL -- SANCHEZ TRUJILLO JULIO ALBERTO  Moral Nacional no Gravable                  NaN            TAS               24/02/25\n",
      "2239   2170     NaN                        FONDO BBVA M�XICO DEUDA 14, S.A. DE C.V. F.I.I.D.                                      1039351  VIGENTE             NaN    NaN               NaN                            NaN                NaN     MEXICANA                      FONDOS DE INVERSION   NaN             NaN              NaN                   NaN                  NaN              NaN                NaN           NaN  MEX                                                                           FBB9506028LA  NaN   NaN                             MONTES MARTINEZ LUIS CARLOS -- RODRIGUEZ AMESTOY LUIS ANGEL -- RODRIGUEZ SANCHEZ VICTOR DANIEL -- SANCHEZ TRUJILLO JULIO ALBERTO  Moral Nacional no Gravable                  NaN            TAS               24/02/25\n",
      "2240   2171     NaN                        FONDO BBVA M�XICO DEUDA 15, S.A. DE C.V. F.I.I.D.                                      1065246  VIGENTE             NaN    NaN               NaN                            NaN                NaN     MEXICANA                      FONDOS DE INVERSION   NaN             NaN              NaN                   NaN                  NaN              NaN                NaN           NaN  MEX                               52012730                                    FBB161012A61  NaN   NaN                             MONTES MARTINEZ LUIS CARLOS -- RODRIGUEZ AMESTOY LUIS ANGEL -- RODRIGUEZ SANCHEZ VICTOR DANIEL -- SANCHEZ TRUJILLO JULIO ALBERTO  Moral Nacional no Gravable                  NaN            TAS               24/02/25\n",
      "2241   2172     NaN                        FONDO BBVA M�XICO DEUDA 18, S.A. DE C.V. F.I.I.D.                                      1065758  VIGENTE             NaN    NaN               NaN                            NaN                NaN     MEXICANA                      FONDOS DE INVERSION   NaN             NaN              NaN                   NaN                  NaN              NaN                NaN           NaN  MEX                                                                           FBM220322CF6  NaN   NaN                             MONTES MARTINEZ LUIS CARLOS -- RODRIGUEZ AMESTOY LUIS ANGEL -- RODRIGUEZ SANCHEZ VICTOR DANIEL -- SANCHEZ TRUJILLO JULIO ALBERTO  Moral Nacional no Gravable                  NaN            TAS               24/02/25\n",
      "2242   2173     NaN                        FONDO BBVA M�XICO DEUDA 19, S.A. DE C.V. F.I.I.D.                                      1065759  VIGENTE             NaN    NaN               NaN                            NaN                NaN     MEXICANA                      FONDOS DE INVERSION   NaN             NaN              NaN                   NaN                  NaN              NaN                NaN           NaN  MEX                                                                           FBM220322CX1  NaN   NaN                             MONTES MARTINEZ LUIS CARLOS -- RODRIGUEZ AMESTOY LUIS ANGEL -- RODRIGUEZ SANCHEZ VICTOR DANIEL -- SANCHEZ TRUJILLO JULIO ALBERTO  Moral Nacional no Gravable                  NaN            TAS               24/02/25\n",
      "2243   2174     NaN                        FONDO BBVA M�XICO DEUDA 20, S.A. DE C.V. F.I.I.D.                                      1065762  VIGENTE             NaN    NaN               NaN                            NaN                NaN     MEXICANA                      FONDOS DE INVERSION   NaN             NaN              NaN                   NaN                  NaN              NaN                NaN           NaN  MEX                                                                           FBM2211299S8  NaN   NaN                             MONTES MARTINEZ LUIS CARLOS -- RODRIGUEZ AMESTOY LUIS ANGEL -- RODRIGUEZ SANCHEZ VICTOR DANIEL -- SANCHEZ TRUJILLO JULIO ALBERTO  Moral Nacional no Gravable                  NaN            TAS               24/02/25\n",
      "2244   2175     NaN                         FONDO BBVA M�XICO DEUDA 6, S.A. DE C.V. F.I.I.D.                                      1064411  VIGENTE             NaN    NaN               NaN                            NaN                NaN     MEXICANA                      FONDOS DE INVERSION   NaN             NaN              NaN                   NaN                  NaN              NaN                NaN           NaN  MEX                              5201 2830                                    FBB1011037G0  NaN   NaN                             MONTES MARTINEZ LUIS CARLOS -- RODRIGUEZ AMESTOY LUIS ANGEL -- RODRIGUEZ SANCHEZ VICTOR DANIEL -- SANCHEZ TRUJILLO JULIO ALBERTO  Moral Nacional no Gravable                  NaN            TAS               24/02/25\n",
      "2245   2176     NaN                         FONDO BBVA M�XICO DEUDA 7, S.A. DE C.V. F.I.I.D.                                      1064285  VIGENTE             NaN    NaN               NaN                            NaN                NaN     MEXICANA                      FONDOS DE INVERSION   NaN             NaN              NaN                   NaN                  NaN              NaN                NaN           NaN  MEX                              5201 2730                                    FBB080609JKA  NaN   NaN                          MONTES \\t MARTINEZ LUIS CARLOS -- RODRIGUEZ AMESTOY LUIS ANGEL -- RODRIGUEZ SANCHEZ VICTOR DANIEL -- SANCHEZ TRUJILLO JULIO ALBERTO  Moral Nacional no Gravable                  NaN            TAS               24/02/25\n",
      "2246   2177     NaN                         FONDO BBVA M�XICO DEUDA 8, S.A. DE C.V. F.I.I.D.                                      1060443  VIGENTE             NaN    NaN               NaN                            NaN                NaN     MEXICANA                      FONDOS DE INVERSION   NaN             NaN              NaN                   NaN                  NaN              NaN                NaN           NaN  MEX                                                                           FBB970204CN5  NaN   NaN                             MONTES MARTINEZ LUIS CARLOS -- RODRIGUEZ AMESTOY LUIS ANGEL -- RODRIGUEZ SANCHEZ VICTOR DANIEL -- SANCHEZ TRUJILLO JULIO ALBERTO  Moral Nacional no Gravable                  NaN            TAS               24/02/25\n",
      "2247   2178     NaN                         FONDO BBVA M�XICO DEUDA 9, S.A. DE C.V. F.I.I.D.                                      1064291  VIGENTE             NaN    NaN               NaN                            NaN                NaN     MEXICANA                      FONDOS DE INVERSION   NaN             NaN              NaN                   NaN                  NaN              NaN                NaN           NaN  MEX                           55 5201 2420                                    FBB080820GG8  NaN   NaN                             MONTES MARTINEZ LUIS CARLOS -- RODRIGUEZ AMESTOY LUIS ANGEL -- RODRIGUEZ SANCHEZ VICTOR DANIEL -- SANCHEZ TRUJILLO JULIO ALBERTO  Moral Nacional no Gravable                  NaN            TAS               24/02/25\n",
      "2248   2179     NaN                      FONDO BBVA M�XICO DEUDA CAJA, S.A. DE C.V. F.I.I.D.                                      1060424  VIGENTE             NaN    NaN               NaN                            NaN                NaN     MEXICANA                      FONDOS DE INVERSION   NaN             NaN              NaN                   NaN                  NaN              NaN                NaN           NaN  MEX                                                                           FBB970204EG2  NaN   NaN                             MONTES MARTINEZ LUIS CARLOS -- RODRIGUEZ AMESTOY LUIS ANGEL -- RODRIGUEZ SANCHEZ VICTOR DANIEL -- SANCHEZ TRUJILLO JULIO ALBERTO  Moral Nacional no Gravable                  NaN            TAS               24/02/25\n",
      "2249   2180     NaN                   FONDO BBVA M�XICO DEUDA D�LARES, S.A. DE C.V. F.I.I.D.                                      1062952  VIGENTE             NaN    NaN               NaN                            NaN                NaN     MEXICANA                      FONDOS DE INVERSION   NaN             NaN              NaN                   NaN                  NaN              NaN                NaN           NaN  MEX                               52012730                                    FBB990927G54  NaN   NaN                             MONTES MARTINEZ LUIS CARLOS -- RODRIGUEZ AMESTOY LUIS ANGEL -- RODRIGUEZ SANCHEZ VICTOR DANIEL -- SANCHEZ TRUJILLO JULIO ALBERTO  Moral Nacional no Gravable                  NaN            TAS               24/02/25\n",
      "2250   2181     NaN                  FONDO BBVA M�XICO DEUDA EMPRESAS, S.A. DE C.V. F.I.I.D.                                      1038280  VIGENTE             NaN    NaN               NaN                            NaN                NaN     MEXICANA                      FONDOS DE INVERSION   NaN             NaN              NaN                   NaN                  NaN              NaN                NaN           NaN  MEX                                                                           FBB931027P53  NaN   NaN                             MONTES MARTINEZ LUIS CARLOS -- RODRIGUEZ AMESTOY LUIS ANGEL -- RODRIGUEZ SANCHEZ VICTOR DANIEL -- SANCHEZ TRUJILLO JULIO ALBERTO  Moral Nacional no Gravable                  NaN            TAS               24/02/25\n",
      "2251   2182     NaN         FONDO BBVA M�XICO DEUDA INVERSI�N EN MONEDA EXTRANJERA, F.I.I.D.                                      1039317  VIGENTE             NaN    NaN               NaN                            NaN                NaN     MEXICANA                      FONDOS DE INVERSION   NaN             NaN              NaN                   NaN                  NaN              NaN                NaN           NaN  MEX                                                                           FBB931203VAA  NaN   NaN                             MONTES MARTINEZ LUIS CARLOS -- RODRIGUEZ AMESTOY LUIS ANGEL -- RODRIGUEZ SANCHEZ VICTOR DANIEL -- SANCHEZ TRUJILLO JULIO ALBERTO  Moral Nacional no Gravable                  NaN            TAS               24/02/25\n",
      "2252   2183     NaN                     FONDO BBVA M�XICO DEUDA PLAZO, S.A. DE C.V. F.I.I.D.                                      1060438  VIGENTE             NaN    NaN               NaN                            NaN                NaN     MEXICANA                      FONDOS DE INVERSION   NaN             NaN              NaN                   NaN                  NaN              NaN                NaN           NaN  MEX                                                                           FBB961018FB1  NaN   NaN                             MONTES MARTINEZ LUIS CARLOS -- RODRIGUEZ AMESTOY LUIS ANGEL -- RODRIGUEZ SANCHEZ VICTOR DANIEL -- SANCHEZ TRUJILLO JULIO ALBERTO  Moral Nacional no Gravable                  NaN            TAS               24/02/25\n",
      "2253   2184     NaN     FONDO BBVA M�XICO DIVERSIFICADO INTERNACIONAL, S.A. DE C.V. F.I.R.V.                                      1063247  VIGENTE             NaN    NaN               NaN                            NaN                NaN     MEXICANA                      FONDOS DE INVERSION   NaN             NaN              NaN                   NaN                  NaN              NaN                NaN           NaN  MEX                            52 01 27 30                                    FBB040825PL2  NaN   NaN                             MONTES MARTINEZ LUIS CARLOS -- RODRIGUEZ AMESTOY LUIS ANGEL -- RODRIGUEZ SANCHEZ VICTOR DANIEL -- SANCHEZ TRUJILLO JULIO ALBERTO  Moral Nacional no Gravable                  NaN            TAS               24/02/25\n",
      "2254   2185     NaN             FONDO BBVA M�XICO EMPRESAS Y GOBIERNO, S.A. DE C.V. F.I.I.D.                                      1039333  VIGENTE             NaN    NaN               NaN                            NaN                NaN     MEXICANA                      FONDOS DE INVERSION   NaN             NaN              NaN                   NaN                  NaN              NaN                NaN           NaN  MEX                                                                           FBB970521986  NaN   NaN                             MONTES MARTINEZ LUIS CARLOS -- RODRIGUEZ AMESTOY LUIS ANGEL -- RODRIGUEZ SANCHEZ VICTOR DANIEL -- SANCHEZ TRUJILLO JULIO ALBERTO  Moral Nacional no Gravable                  NaN            TAS               24/02/25\n",
      "2255   2186     NaN                     FONDO BBVA M�XICO ESTABILIDAD, S.A. DE C.V. F.I.R.V.                                      1063249  VIGENTE             NaN    NaN               NaN                            NaN                NaN     MEXICANA                      FONDOS DE INVERSION   NaN             NaN              NaN                   NaN                  NaN              NaN                NaN           NaN  MEX                              5201 2730                                    FBB040825ER0  NaN   NaN                             MONTES MARTINEZ LUIS CARLOS -- RODRIGUEZ AMESTOY LUIS ANGEL -- RODRIGUEZ SANCHEZ VICTOR DANIEL -- SANCHEZ TRUJILLO JULIO ALBERTO  Moral Nacional no Gravable                  NaN            TAS               24/02/25\n",
      "2256   2187     NaN            FONDO BBVA M�XICO ESTRATEGIA SELECTA 3, S.A. DE C.V. F.I.I.D.                                      1064408  VIGENTE             NaN    NaN               NaN                            NaN                NaN     MEXICANA                      FONDOS DE INVERSION   NaN             NaN              NaN                   NaN                  NaN              NaN                NaN           NaN  MEX                              5201 2830                                    FBB101103165  NaN   NaN                             MONTES MARTINEZ LUIS CARLOS -- RODRIGUEZ AMESTOY LUIS ANGEL -- RODRIGUEZ SANCHEZ VICTOR DANIEL -- SANCHEZ TRUJILLO JULIO ALBERTO  Moral Nacional no Gravable                  NaN            TAS               24/02/25\n",
      "2257   2188     NaN                         FONDO BBVA M�XICO EUROTOP, S.A. DE C.V. F.I.R.V.                                      1060426  VIGENTE             NaN    NaN               NaN                            NaN                NaN     MEXICANA                      FONDOS DE INVERSION   NaN             NaN              NaN                   NaN                  NaN              NaN                NaN           NaN  MEX                                                                           FBB900713S46  NaN   NaN                             MONTES MARTINEZ LUIS CARLOS -- RODRIGUEZ AMESTOY LUIS ANGEL -- RODRIGUEZ SANCHEZ VICTOR DANIEL -- SANCHEZ TRUJILLO JULIO ALBERTO  Moral Nacional no Gravable                  NaN            TAS               24/02/25\n",
      "2258   2189     NaN                    FONDO BBVA M�XICO RENTABILIDAD, S.A. DE C.V. F.I.R.V.                                      1063248  VIGENTE             NaN    NaN               NaN                            NaN                NaN     MEXICANA                      FONDOS DE INVERSION   NaN             NaN              NaN                   NaN                  NaN              NaN                NaN           NaN  MEX                            52 01 27 30                                    FBB040825T16  NaN   NaN                             MONTES MARTINEZ LUIS CARLOS -- RODRIGUEZ AMESTOY LUIS ANGEL -- RODRIGUEZ SANCHEZ VICTOR DANIEL -- SANCHEZ TRUJILLO JULIO ALBERTO  Moral Nacional no Gravable                  NaN            TAS               24/02/25\n",
      "2259   2190     NaN                             FONDO BBVA M�XICO RV1, S.A. DE C.V. F.I.R.V.                                      1064339  VIGENTE             NaN    NaN               NaN                            NaN                NaN     MEXICANA                      FONDOS DE INVERSION   NaN             NaN              NaN                   NaN                  NaN              NaN                NaN           NaN  MEX                             520 127830                                    FBB1006169F0  NaN   NaN                             MONTES MARTINEZ LUIS CARLOS -- RODRIGUEZ AMESTOY LUIS ANGEL -- RODRIGUEZ SANCHEZ VICTOR DANIEL -- SANCHEZ TRUJILLO JULIO ALBERTO  Moral Nacional no Gravable                  NaN            TAS               24/02/25\n",
      "2260   2191     NaN                            FONDO BBVA M�XICO RV10, S.A. DE C.V. F.I.R.V.                                      1065227  VIGENTE             NaN    NaN               NaN                            NaN                NaN     MEXICANA                      FONDOS DE INVERSION   NaN             NaN              NaN                   NaN                  NaN              NaN                NaN           NaN  MEX                   5201-2877, 5201-2730                                    FBB160912LT5  NaN   NaN                             MONTES MARTINEZ LUIS CARLOS -- RODRIGUEZ AMESTOY LUIS ANGEL -- RODRIGUEZ SANCHEZ VICTOR DANIEL -- SANCHEZ TRUJILLO JULIO ALBERTO  Moral Nacional no Gravable                  NaN            TAS               24/02/25\n",
      "2261   2192     NaN                            FONDO BBVA M�XICO RV11, S.A. DE C.V. F.I.R.V.                                      1065247  VIGENTE             NaN    NaN               NaN                            NaN                NaN     MEXICANA                      FONDOS DE INVERSION   NaN             NaN              NaN                   NaN                  NaN              NaN                NaN           NaN  MEX                   5201-2877, 5201-2730                                    FBB161012LU6  NaN   NaN                             MONTES MARTINEZ LUIS CARLOS -- RODRIGUEZ AMESTOY LUIS ANGEL -- RODRIGUEZ SANCHEZ VICTOR DANIEL -- SANCHEZ TRUJILLO JULIO ALBERTO  Moral Nacional no Gravable                  NaN            TAS               24/02/25\n",
      "2262   2193     NaN                            FONDO BBVA M�XICO RV12, S.A. DE C.V. F.I.R.V.                                      1065248  VIGENTE             NaN    NaN               NaN                            NaN                NaN     MEXICANA                      FONDOS DE INVERSION   NaN             NaN              NaN                   NaN                  NaN              NaN                NaN           NaN  MEX                               52012730                                    FBB161012LX0  NaN   NaN                             MONTES MARTINEZ LUIS CARLOS -- RODRIGUEZ AMESTOY LUIS ANGEL -- RODRIGUEZ SANCHEZ VICTOR DANIEL -- SANCHEZ TRUJILLO JULIO ALBERTO  Moral Nacional no Gravable                  NaN            TAS               24/02/25\n",
      "2263   2194     NaN                            FONDO BBVA M�XICO RV13, S.A. DE C.V. F.I.R.V.                                      1065370  VIGENTE             NaN    NaN               NaN                            NaN                NaN     MEXICANA                      FONDOS DE INVERSION   NaN             NaN              NaN                   NaN                  NaN              NaN                NaN           NaN  MEX                               52012730                                    FBB171026M38  NaN   NaN                             MONTES MARTINEZ LUIS CARLOS -- RODRIGUEZ AMESTOY LUIS ANGEL -- RODRIGUEZ SANCHEZ VICTOR DANIEL -- SANCHEZ TRUJILLO JULIO ALBERTO  Moral Nacional no Gravable                  NaN            TAS               24/02/25\n",
      "2264   2195     NaN                            FONDO BBVA M�XICO RV14, S.A. DE C.V. F.I.R.V.                                      1065371  VIGENTE             NaN    NaN               NaN                            NaN                NaN     MEXICANA                      FONDOS DE INVERSION   NaN             NaN              NaN                   NaN                  NaN              NaN                NaN           NaN  MEX                               52012730                                    FBB171026MA5  NaN   NaN                             MONTES MARTINEZ LUIS CARLOS -- RODRIGUEZ AMESTOY LUIS ANGEL -- RODRIGUEZ SANCHEZ VICTOR DANIEL -- SANCHEZ TRUJILLO JULIO ALBERTO  Moral Nacional no Gravable                  NaN            TAS               24/02/25\n",
      "2265   2196     NaN                            FONDO BBVA M�XICO RV15, S.A. DE C.V. F.I.R.V.                                      1065372  VIGENTE             NaN    NaN               NaN                            NaN                NaN     MEXICANA                      FONDOS DE INVERSION   NaN             NaN              NaN                   NaN                  NaN              NaN                NaN           NaN  MEX                               52012730                                    FBB171026MJ9  NaN   NaN                             MONTES MARTINEZ LUIS CARLOS -- RODRIGUEZ AMESTOY LUIS ANGEL -- RODRIGUEZ SANCHEZ VICTOR DANIEL -- SANCHEZ TRUJILLO JULIO ALBERTO  Moral Nacional no Gravable                  NaN            TAS               24/02/25\n",
      "2266   2197     NaN                            FONDO BBVA M�XICO RV16, S.A. DE C.V. F.I.R.V.                                      1065373  VIGENTE             NaN    NaN               NaN                            NaN                NaN     MEXICANA                      FONDOS DE INVERSION   NaN             NaN              NaN                   NaN                  NaN              NaN                NaN           NaN  MEX                               52012730                                    FBB171026MV5  NaN   NaN                             MONTES MARTINEZ LUIS CARLOS -- RODRIGUEZ AMESTOY LUIS ANGEL -- RODRIGUEZ SANCHEZ VICTOR DANIEL -- SANCHEZ TRUJILLO JULIO ALBERTO  Moral Nacional no Gravable                  NaN            TAS               24/02/25\n",
      "2267   2198     NaN                            FONDO BBVA M�XICO RV17, S.A. DE C.V. F.I.R.V.                                      1065755  VIGENTE             NaN    NaN               NaN                            NaN                NaN     MEXICANA                      FONDOS DE INVERSION   NaN             NaN              NaN                   NaN                  NaN              NaN                NaN           NaN  MEX                                                                           FBB190403N94  NaN   NaN                             MONTES MARTINEZ LUIS CARLOS -- RODRIGUEZ AMESTOY LUIS ANGEL -- RODRIGUEZ SANCHEZ VICTOR DANIEL -- SANCHEZ TRUJILLO JULIO ALBERTO  Moral Nacional no Gravable                  NaN            TAS               24/02/25\n",
      "2268   2199     NaN                            FONDO BBVA M�XICO RV18, S.A. DE C.V. F.I.R.V.                                      1065364  VIGENTE             NaN    NaN               NaN                            NaN                NaN     MEXICANA                      FONDOS DE INVERSION   NaN             NaN              NaN                   NaN                  NaN              NaN                NaN           NaN  MEX                     52012730  52012877                                    FBB171019NP7  NaN   NaN                             MONTES MARTINEZ LUIS CARLOS -- RODRIGUEZ AMESTOY LUIS ANGEL -- RODRIGUEZ SANCHEZ VICTOR DANIEL -- SANCHEZ TRUJILLO JULIO ALBERTO  Moral Nacional no Gravable                  NaN            TAS               24/02/25\n",
      "2269   2200     NaN                            FONDO BBVA M�XICO RV19, S.A. DE C.V. F.I.R.V.                                      1065365  VIGENTE             NaN    NaN               NaN                            NaN                NaN     MEXICANA                      FONDOS DE INVERSION   NaN             NaN              NaN                   NaN                  NaN              NaN                NaN           NaN  MEX                     52012730  52012877                                    FBB171019P73  NaN   NaN                             MONTES MARTINEZ LUIS CARLOS -- RODRIGUEZ AMESTOY LUIS ANGEL -- RODRIGUEZ SANCHEZ VICTOR DANIEL -- SANCHEZ TRUJILLO JULIO ALBERTO  Moral Nacional no Gravable                  NaN            TAS               24/02/25\n",
      "2270   2201     NaN                            FONDO BBVA M�XICO RV20, S.A. DE C.V. F.I.R.V.                                      1065366  VIGENTE             NaN    NaN               NaN                            NaN                NaN     MEXICANA                      FONDOS DE INVERSION   NaN             NaN              NaN                   NaN                  NaN              NaN                NaN           NaN  MEX                     52012730  52012877                                    FBB171019LWA  NaN   NaN                             MONTES MARTINEZ LUIS CARLOS -- RODRIGUEZ AMESTOY LUIS ANGEL -- RODRIGUEZ SANCHEZ VICTOR DANIEL -- SANCHEZ TRUJILLO JULIO ALBERTO  Moral Nacional no Gravable                  NaN            TAS               24/02/25\n",
      "2271   2202     NaN                            FONDO BBVA M�XICO RV21, S.A. DE C.V. F.I.R.V.                                      1065367  VIGENTE             NaN    NaN               NaN                            NaN                NaN     MEXICANA                      FONDOS DE INVERSION   NaN             NaN              NaN                   NaN                  NaN              NaN                NaN           NaN  MEX                    52012730   52012877                                    FBB171019LX8  NaN   NaN                             MONTES MARTINEZ LUIS CARLOS -- RODRIGUEZ AMESTOY LUIS ANGEL -- RODRIGUEZ SANCHEZ VICTOR DANIEL -- SANCHEZ TRUJILLO JULIO ALBERTO  Moral Nacional no Gravable                  NaN            TAS               24/02/25\n",
      "2272   2203     NaN                            FONDO BBVA M�XICO RV22, S.A. DE C.V. F.I.R.V.                                      1065368  VIGENTE             NaN    NaN               NaN                            NaN                NaN     MEXICANA                      FONDOS DE INVERSION   NaN             NaN              NaN                   NaN                  NaN              NaN                NaN           NaN  MEX                               52012730                                    FBB171019M15  NaN   NaN                             MONTES MARTINEZ LUIS CARLOS -- RODRIGUEZ AMESTOY LUIS ANGEL -- RODRIGUEZ SANCHEZ VICTOR DANIEL -- SANCHEZ TRUJILLO JULIO ALBERTO  Moral Nacional no Gravable                  NaN            TAS               24/02/25\n",
      "2273   2204     NaN                            FONDO BBVA M�XICO RV23, S.A. DE C.V. F.I.R.V.                                      1065369  VIGENTE             NaN    NaN               NaN                            NaN                NaN     MEXICANA                      FONDOS DE INVERSION   NaN             NaN              NaN                   NaN                  NaN              NaN                NaN           NaN  MEX                               52012730                                    FBB171019M66  NaN   NaN                             MONTES MARTINEZ LUIS CARLOS -- RODRIGUEZ AMESTOY LUIS ANGEL -- RODRIGUEZ SANCHEZ VICTOR DANIEL -- SANCHEZ TRUJILLO JULIO ALBERTO  Moral Nacional no Gravable                  NaN            TAS               24/02/25\n",
      "2274   2205     NaN                            FONDO BBVA M�XICO RV24, S.A. DE C.V. F.I.R.V.                                      1038779  VIGENTE             NaN    NaN               NaN                            NaN                NaN     MEXICANA                      FONDOS DE INVERSION   NaN             NaN              NaN                   NaN                  NaN              NaN                NaN           NaN  MEX                                                                           FBB931027AP9  NaN   NaN                             MONTES MARTINEZ LUIS CARLOS -- RODRIGUEZ AMESTOY LUIS ANGEL -- RODRIGUEZ SANCHEZ VICTOR DANIEL -- SANCHEZ TRUJILLO JULIO ALBERTO  Moral Nacional no Gravable                  NaN            TAS               24/02/25\n",
      "2275   2206     NaN                            FONDO BBVA M�XICO RV25, S.A. DE C.V. F.I.R.V.                                      1038795  VIGENTE             NaN    NaN               NaN                            NaN                NaN     MEXICANA                      FONDOS DE INVERSION   NaN             NaN              NaN                   NaN                  NaN              NaN                NaN           NaN  MEX                                                                           FBB870923QZ5  NaN   NaN                             MONTES MARTINEZ LUIS CARLOS -- RODRIGUEZ AMESTOY LUIS ANGEL -- RODRIGUEZ SANCHEZ VICTOR DANIEL -- SANCHEZ TRUJILLO JULIO ALBERTO  Moral Nacional no Gravable                  NaN            TAS               24/02/25\n",
      "2276   2207     NaN                            FONDO BBVA M�XICO RV26, S.A. DE C.V. F.I.R.V.                                      1065756  VIGENTE             NaN    NaN               NaN                            NaN                NaN     MEXICANA                      FONDOS DE INVERSION   NaN             NaN              NaN                   NaN                  NaN              NaN                NaN           NaN  MEX                                                                           FBB190403NT6  NaN   NaN                             MONTES MARTINEZ LUIS CARLOS -- RODRIGUEZ AMESTOY LUIS ANGEL -- RODRIGUEZ SANCHEZ VICTOR DANIEL -- SANCHEZ TRUJILLO JULIO ALBERTO  Moral Nacional no Gravable                  NaN            TAS               24/02/25\n",
      "2277   2208     NaN                            FONDO BBVA M�XICO RV27, S.A. DE C.V. F.I.R.V.                                      1065757  VIGENTE             NaN    NaN               NaN                            NaN                NaN     MEXICANA                      FONDOS DE INVERSION   NaN             NaN              NaN                   NaN                  NaN              NaN                NaN           NaN  MEX                                                                           FBB201106NC5  NaN   NaN                             MONTES MARTINEZ LUIS CARLOS -- RODRIGUEZ AMESTOY LUIS ANGEL -- RODRIGUEZ SANCHEZ VICTOR DANIEL -- SANCHEZ TRUJILLO JULIO ALBERTO  Moral Nacional no Gravable                  NaN            TAS               24/02/25\n",
      "2278   2209     NaN                             FONDO BBVA M�XICO RV4, S.A. DE C.V. F.I.R.V.                                      1065029  VIGENTE             NaN    NaN               NaN                            NaN                NaN     MEXICANA                      FONDOS DE INVERSION   NaN             NaN              NaN                   NaN                  NaN              NaN                NaN           NaN  MEX                    52012830 Y 52012877                                    FBB1209069V3  NaN   NaN                             MONTES MARTINEZ LUIS CARLOS -- RODRIGUEZ AMESTOY LUIS ANGEL -- RODRIGUEZ SANCHEZ VICTOR DANIEL -- SANCHEZ TRUJILLO JULIO ALBERTO  Moral Nacional no Gravable                  NaN            TAS               24/02/25\n",
      "2279   2210     NaN                             FONDO BBVA M�XICO RV5, S.A. DE C.V. F.I.R.V.                                      1064412  VIGENTE             NaN    NaN               NaN                            NaN                NaN     MEXICANA                      FONDOS DE INVERSION   NaN             NaN              NaN                   NaN                  NaN              NaN                NaN           NaN  MEX                              5201 2830                                    FBB101104A59  NaN   NaN                             MONTES MARTINEZ LUIS CARLOS -- RODRIGUEZ AMESTOY LUIS ANGEL -- RODRIGUEZ SANCHEZ VICTOR DANIEL -- SANCHEZ TRUJILLO JULIO ALBERTO  Moral Nacional no Gravable                  NaN            TAS               24/02/25\n",
      "2280   2211     NaN                             FONDO BBVA M�XICO RV7, S.A. DE C.V. F.I.R.V.                                      1064419  VIGENTE             NaN    NaN               NaN                            NaN                NaN     MEXICANA                      FONDOS DE INVERSION   NaN             NaN              NaN                   NaN                  NaN              NaN                NaN           NaN  MEX                              5201 2830                                    FBB101104LS5  NaN   NaN                             MONTES MARTINEZ LUIS CARLOS -- RODRIGUEZ AMESTOY LUIS ANGEL -- RODRIGUEZ SANCHEZ VICTOR DANIEL -- SANCHEZ TRUJILLO JULIO ALBERTO  Moral Nacional no Gravable                  NaN            TAS               24/02/25\n",
      "2281   2212     NaN                             FONDO BBVA M�XICO RV8, S.A. DE C.V. F.I.R.V.                                      1064420  VIGENTE             NaN    NaN               NaN                            NaN                NaN     MEXICANA                      FONDOS DE INVERSION   NaN             NaN              NaN                   NaN                  NaN              NaN                NaN           NaN  MEX                               52012830                                    FBB101104JF6  NaN   NaN                             MONTES MARTINEZ LUIS CARLOS -- RODRIGUEZ AMESTOY LUIS ANGEL -- RODRIGUEZ SANCHEZ VICTOR DANIEL -- SANCHEZ TRUJILLO JULIO ALBERTO  Moral Nacional no Gravable                  NaN            TAS               24/02/25\n",
      "2282   2213     NaN                             FONDO BBVA M�XICO RV9, S.A. DE C.V. F.I.R.V.                                      1064406  VIGENTE             NaN    NaN               NaN                            NaN                NaN     MEXICANA                      FONDOS DE INVERSION   NaN             NaN              NaN                   NaN                  NaN              NaN                NaN           NaN  MEX                              5201 2830                                    FBB101104VC6  NaN   NaN                             MONTES MARTINEZ LUIS CARLOS -- RODRIGUEZ AMESTOY LUIS ANGEL -- RODRIGUEZ SANCHEZ VICTOR DANIEL -- SANCHEZ TRUJILLO JULIO ALBERTO  Moral Nacional no Gravable                  NaN            TAS               24/02/25\n",
      "2283   2214     NaN                           FONDO BBVA M�XICO USA 2, S.A. DE C.V. F.I.R.V.                                      1064289  VIGENTE             NaN    NaN               NaN                            NaN                NaN     MEXICANA                      FONDOS DE INVERSION   NaN             NaN              NaN                   NaN                  NaN              NaN                NaN           NaN  MEX                              5201 2730                                    FIU080609H83  NaN   NaN                             MONTES MARTINEZ LUIS CARLOS -- RODRIGUEZ AMESTOY LUIS ANGEL -- RODRIGUEZ SANCHEZ VICTOR DANIEL -- SANCHEZ TRUJILLO JULIO ALBERTO  Moral Nacional no Gravable                  NaN            TAS               24/02/25\n",
      "2284   2215     NaN                             FONDO BBVA M�XICO USA, S.A. DE C.V. F.I.R.V.                                      1038787  VIGENTE             NaN    NaN               NaN                            NaN                NaN     MEXICANA                      FONDOS DE INVERSION   NaN             NaN              NaN                   NaN                  NaN              NaN                NaN           NaN  MEX                                                                           FBB931027C78  NaN   NaN                             MONTES MARTINEZ LUIS CARLOS -- RODRIGUEZ AMESTOY LUIS ANGEL -- RODRIGUEZ SANCHEZ VICTOR DANIEL -- SANCHEZ TRUJILLO JULIO ALBERTO  Moral Nacional no Gravable                  NaN            TAS               24/02/25\n",
      "2305   2236     NaN                       FONDO DIN�MICO VALMEX ALTO, S.A. DE C.V., F.I.R.V.                                      1064315  VIGENTE             NaN    NaN               NaN                            NaN                NaN     MEXICANA                      FONDOS DE INVERSION   NaN             NaN              NaN                   NaN                  NaN              NaN                NaN           NaN  MEX                               52791200                                    FDV050128521  NaN   NaN                                                                                                            ESCOBAR CORTES PLACIDO -- ESTEINOU MADRID ANTONIO  Moral Nacional no Gravable                  NaN            TAS               24/02/25\n",
      "2353   2282     NaN  FONDO SAM DEUDA 13, S.A. DE C.V., FONDO DE INVERSI�N EN INSTRUMENTOS DE                                      1065814  VIGENTE             NaN    NaN               NaN                            NaN                NaN     MEXICANA                      FONDOS DE INVERSION   NaN             NaN              NaN                   NaN                  NaN              NaN                NaN           NaN  MEX                           55 4122 9109                                    FSR220729PX1  NaN   NaN                                                                                                     SANDOVAL MINERO CARLOS RAMON -- TOVAR ACUNA LUIS ANTONIO  Moral Nacional no Gravable                  NaN            TAS               24/02/25\n",
      "2356   2285     NaN  FONDO SAM DEUDA 19, S.A. DE C.V., FONDO DE INVERSI�N EN INSTRUMENTOS DE                                      1065815  VIGENTE             NaN    NaN               NaN                            NaN                NaN     MEXICANA                      FONDOS DE INVERSION   NaN             NaN              NaN                   NaN                  NaN              NaN                NaN           NaN  MEX                           55 4122 9109                                    FSR220729NNA  NaN   NaN                                                                                                     SANDOVAL MINERO CARLOS RAMON -- TOVAR ACUNA LUIS ANTONIO  Moral Nacional no Gravable                  NaN            TAS               24/02/25\n",
      "2418   2347     NaN                FONDO VALMEX ESPA�OL DE CAPITALES, S.A. DE C.V., F.I.R.V.                                      1064310  VIGENTE             NaN    NaN               NaN                            NaN                NaN     MEXICANA                      FONDOS DE INVERSION   NaN             NaN              NaN                   NaN                  NaN              NaN                NaN           NaN  MEX                               52791200                                    FVD031014LL9  NaN   NaN                                                                                                            ESCOBAR CORTES PLACIDO -- ESTEINOU MADRID ANTONIO  Moral Nacional no Gravable                  NaN            TAS               24/02/25\n",
      "2559   2487     NaN               GBM FONDO DE INVERSION EN D�LARES,  S.A. DE C.V., F.I.R.V.                                      1064134  VIGENTE             NaN    NaN               NaN                            NaN                NaN     MEXICANA                      FONDOS DE INVERSION   NaN             NaN              NaN                   NaN                  NaN              NaN                NaN           NaN  MEX                           55 5480 5800                                    GFI990217ED5  NaN   NaN                                                                                                                                      MAZA CASAS JULIO ANDRES  Moral Nacional no Gravable                  NaN            TAS               24/02/25\n",
      "2651   2578     NaN           GOBIERNO FEDERAL A TRAV�S DE LA SHCP POR CONDUCTO DE LA TESOFE                             1022589, 6006143  VIGENTE             NaN    NaN               NaN                            NaN                NaN     MEXICANA                         GOBIERNO FEDERAL   NaN             NaN              NaN                   NaN                  NaN              NaN                NaN           NaN  MEX                           55 3688 5042                                    SHC850101U37  NaN   NaN                                                                                                               RODRIGUEZ NAVA ABIGAIL, RODR�GUEZ NAVA ABIGAIL  Moral Nacional no Gravable                  NaN            TAS               24/02/25\n",
      "2951   2877     NaN                                  IMSS, FONDO DE FOMENTO A LA EDUCACI�N 1                                      1065799  VIGENTE             NaN    NaN               NaN                            NaN                NaN     MEXICANA                         GOBIERNO FEDERAL   NaN             NaN              NaN                   NaN                  NaN              NaN                NaN           NaN  MEX                           55 5211 3186                                    IMS421231I45  NaN   NaN                                                              ALVAREZ CAMPERO JUAN CARLOS -- RUBIO CONCHA MARIA VIANNEY -- VILLAREAL GONZ�LEZ ALFONSO EUTIMIO  Moral Nacional no Gravable                  NaN            TAS               24/02/25\n",
      "2955   2881     NaN               IMSS, RESERVA DEL ART�CULO 302 DE LA LEY DEL SEGURO SOCIAL                                      1065801  VIGENTE             NaN    NaN               NaN                            NaN                NaN     MEXICANA                         GOBIERNO FEDERAL   NaN             NaN              NaN                   NaN                  NaN              NaN                NaN           NaN  MEX                           55 5211 3186                                    IMS421231I45  NaN   NaN                                                              ALVAREZ CAMPERO JUAN CARLOS -- RUBIO CONCHA MARIA VIANNEY -- VILLAREAL GONZ�LEZ ALFONSO EUTIMIO  Moral Nacional no Gravable                  NaN            TAS               24/02/25\n",
      "2966   2892     NaN                               INBURSA SIEFORE B�SICA 60-64, S.A. DE C.V.                                      1063072  VIGENTE             NaN    NaN               NaN                            NaN                NaN     MEXICANA                                   AFORES   NaN             NaN              NaN                   NaN                  NaN              NaN                NaN           NaN  MEX                           55 5625 9000                                    ISI961204F70  NaN   NaN                                                                                                                                  JIMENEZ SANTOS JOSE IGNACIO  Moral Nacional no Gravable                  NaN            TAS               24/02/25\n",
      "2967   2893     NaN                               INBURSA SIEFORE B�SICA 65-69, S.A. DE C.V.                                      1065550  VIGENTE             NaN    NaN               NaN                            NaN                NaN     MEXICANA                                   AFORES   NaN             NaN              NaN                   NaN                  NaN              NaN                NaN           NaN  MEX                           55 5625 9000                                    ISB190702IF1  NaN   NaN                                                                                                                                  JIMENEZ SANTOS JOSE IGNACIO  Moral Nacional no Gravable                  NaN            TAS               24/02/25\n",
      "2968   2894     NaN                               INBURSA SIEFORE B�SICA 70-74, S.A. DE C.V.                                      1065551  VIGENTE             NaN    NaN               NaN                            NaN                NaN     MEXICANA                                   AFORES   NaN             NaN              NaN                   NaN                  NaN              NaN                NaN           NaN  MEX                           55 5625 9000                                    ISB190702GJA  NaN   NaN                                                                                                                                  JIMENEZ SANTOS JOSE IGNACIO  Moral Nacional no Gravable                  NaN            TAS               24/02/25\n",
      "2969   2895     NaN                               INBURSA SIEFORE B�SICA 75-79, S.A. DE C.V.                                      1063785  VIGENTE             NaN    NaN               NaN                            NaN                NaN     MEXICANA                                   AFORES   NaN             NaN              NaN                   NaN                  NaN              NaN                NaN           NaN  MEX                           55 5625 9000                                    ISB080107DG3  NaN   NaN                                                                                                                                  JIMENEZ SANTOS JOSE IGNACIO  Moral Nacional no Gravable                  NaN            TAS               24/02/25\n",
      "2970   2896     NaN                               INBURSA SIEFORE B�SICA 80-84, S.A. DE C.V.                                      1065552  VIGENTE             NaN    NaN               NaN                            NaN                NaN     MEXICANA                                   AFORES   NaN             NaN              NaN                   NaN                  NaN              NaN                NaN           NaN  MEX                           55 5625 9000                                    ISB190702HF4  NaN   NaN                                                                                                                                  JIMENEZ SANTOS JOSE IGNACIO  Moral Nacional no Gravable                  NaN            TAS               24/02/25\n",
      "2971   2897     NaN                               INBURSA SIEFORE B�SICA 85-89, S.A. DE C.V.                                      1063786  VIGENTE             NaN    NaN               NaN                            NaN                NaN     MEXICANA                                   AFORES   NaN             NaN              NaN                   NaN                  NaN              NaN                NaN           NaN  MEX                           55 5625 9000                                    ISB080107DN0  NaN   NaN                                                                                                                                  JIMENEZ SANTOS JOSE IGNACIO  Moral Nacional no Gravable                  NaN            TAS               24/02/25\n",
      "2972   2898     NaN                               INBURSA SIEFORE B�SICA 90-94, S.A. DE C.V.                                      1065553  VIGENTE             NaN    NaN               NaN                            NaN                NaN     MEXICANA                                   AFORES   NaN             NaN              NaN                   NaN                  NaN              NaN                NaN           NaN  MEX                           55 5625 9000                                    ISB190702IS6  NaN   NaN                                                                                                                                  JIMENEZ SANTOS JOSE IGNACIO  Moral Nacional no Gravable                  NaN            TAS               24/02/25\n",
      "2973   2899     NaN                        INBURSA SIEFORE B�SICA DE PENSIONES, S.A. DE C.V.                                      1063787  VIGENTE             NaN    NaN               NaN                            NaN                NaN     MEXICANA                                   AFORES   NaN             NaN              NaN                   NaN                  NaN              NaN                NaN           NaN  MEX                           55 5625 9000                                    ISB080107DX0  NaN   NaN                                                                                                                                  JIMENEZ SANTOS JOSE IGNACIO  Moral Nacional no Gravable                  NaN            TAS               24/02/25\n",
      "2974   2900     NaN                             INBURSA SIEFORE B�SICA INICIAL, S.A. DE C.V.                                      1065549  VIGENTE             NaN    NaN               NaN                            NaN                NaN     MEXICANA                                   AFORES   NaN             NaN              NaN                   NaN                  NaN              NaN                NaN           NaN  MEX                           55 5625 9000                                    ISB190702JY2  NaN   NaN                                                                                                                                  JIMENEZ SANTOS JOSE IGNACIO  Moral Nacional no Gravable                  NaN            TAS               24/02/25\n",
      "4398   4321     NaN                          MERCADO ELECTR�NICO INSTITUCIONAL, S.A. DE C.V.                                      1064822  VIGENTE             NaN    NaN               NaN                            NaN                NaN     MEXICANA                  PRESTACION DE SERVICIOS   NaN             NaN              NaN                   NaN                  NaN              NaN                NaN           NaN  MEX                           55 5284-9600                                    MEI041206FJ6  NaN   NaN                                                                                                                                         QUINZA�OS ORIA BOSCO     Moral Nacional Gravable                  NaN            TAS               24/02/25\n",
      "4567   4489     NaN       MUFG BANK M�XICO S.A., INSTITUCI�N DE BANCA M�LTIPLE FILIAL (MUFG)                              1060019, 992861  VIGENTE             NaN    NaN               NaN                            NaN                NaN     MEXICANA                           BANCA MULTIPLE   NaN             NaN              NaN                   NaN                  NaN              NaN                NaN           NaN  MEX             , 540-88-30-33, 2277001081                     XXXXXXXXXXXXX, BTM950223023  NaN   NaN                                                                                                                                                          NaN  Moral Nacional no Gravable                  NaN            TAS               24/02/25\n",
      "4589   4511     NaN                           M�S PENSI�N SIEFORE B�SICA 60-64, S.A. DE C.V.                                      1064042  VIGENTE             NaN    NaN               NaN                            NaN                NaN     MEXICANA                                   AFORES   NaN             NaN              NaN                   NaN                  NaN              NaN                NaN           NaN  MEX                             5550600500                                    MPS081119NH9  NaN   NaN                                                                                                                                    ARANDA J�UREGUI ALEJANDRO  Moral Nacional no Gravable                  NaN            TAS               24/02/25\n",
      "4590   4512     NaN                           M�S PENSI�N SIEFORE B�SICA 65-69, S.A. DE C.V.                                      1065763  VIGENTE             NaN    NaN               NaN                            NaN                NaN     MEXICANA                                   AFORES   NaN             NaN              NaN                   NaN                  NaN              NaN                NaN           NaN  MEX                             5550600500                                    MPE140430CL2  NaN   NaN                                                                                                                                    ARANDA J�UREGUI ALEJANDRO  Moral Nacional no Gravable                  NaN            TAS               24/02/25\n",
      "4591   4513     NaN                           M�S PENSI�N SIEFORE B�SICA 70-74, S.A. DE C.V.                                      1065764  VIGENTE             NaN    NaN               NaN                            NaN                NaN     MEXICANA                                   AFORES   NaN             NaN              NaN                   NaN                  NaN              NaN                NaN           NaN  MEX                             5550600500                                    MPE1404304X0  NaN   NaN                                                                                                                                    ARANDA J�UREGUI ALEJANDRO  Moral Nacional no Gravable                  NaN            TAS               24/02/25\n",
      "4592   4514     NaN                           M�S PENSI�N SIEFORE B�SICA 75-79, S.A. DE C.V.                                      1064043  VIGENTE             NaN    NaN               NaN                            NaN                NaN     MEXICANA                                   AFORES   NaN             NaN              NaN                   NaN                  NaN              NaN                NaN           NaN  MEX                             5550600500                                    MPS081119NMA  NaN   NaN                                                                                                                                    ARANDA J�UREGUI ALEJANDRO  Moral Nacional no Gravable                  NaN            TAS               24/02/25\n",
      "4593   4515     NaN                           M�S PENSI�N SIEFORE B�SICA 80-84, S.A. DE C.V.                                      1065765  VIGENTE             NaN    NaN               NaN                            NaN                NaN     MEXICANA                                   AFORES   NaN             NaN              NaN                   NaN                  NaN              NaN                NaN           NaN  MEX                             5550600500                                    MPE140430PQ3  NaN   NaN                                                                                                                                    ARANDA J�UREGUI ALEJANDRO  Moral Nacional no Gravable                  NaN            TAS               24/02/25\n",
      "4594   4516     NaN                           M�S PENSI�N SIEFORE B�SICA 85-89, S.A. DE C.V.                                      1064044  VIGENTE             NaN    NaN               NaN                            NaN                NaN     MEXICANA                                   AFORES   NaN             NaN              NaN                   NaN                  NaN              NaN                NaN           NaN  MEX                             5550600500                                    MPS081119P73  NaN   NaN                                                                                                                                    ARANDA J�UREGUI ALEJANDRO  Moral Nacional no Gravable                  NaN            TAS               24/02/25\n",
      "4595   4517     NaN                           M�S PENSI�N SIEFORE B�SICA 90-94, S.A. DE C.V.                                      1065766  VIGENTE             NaN    NaN               NaN                            NaN                NaN     MEXICANA                                   AFORES   NaN             NaN              NaN                   NaN                  NaN              NaN                NaN           NaN  MEX                             5550600500                                    MPS190925TLA  NaN   NaN                                                                                                                                    ARANDA J�UREGUI ALEJANDRO  Moral Nacional no Gravable                  NaN            TAS               24/02/25\n",
      "4596   4518     NaN                         M�S PENSI�N SIEFORE B�SICA INICIAL, S.A. DE C.V.                                      1065767  VIGENTE             NaN    NaN               NaN                            NaN                NaN     MEXICANA                                   AFORES   NaN             NaN              NaN                   NaN                  NaN              NaN                NaN           NaN  MEX                             5550600500                                    MPS190925V53  NaN   NaN                                                                                                                                    ARANDA J�UREGUI ALEJANDRO  Moral Nacional no Gravable                  NaN            TAS               24/02/25\n",
      "4597   4519     NaN                       M�S PENSI�N SIEFORE B�SICA PENSIONES, S.A. DE C.V.                                      1064045  VIGENTE             NaN    NaN               NaN                            NaN                NaN     MEXICANA                                   AFORES   NaN             NaN              NaN                   NaN                  NaN              NaN                NaN           NaN  MEX                             5550600500                                    MPS081119P44  NaN   NaN                                                                                                                                    ARANDA J�UREGUI ALEJANDRO  Moral Nacional no Gravable                  NaN            TAS               24/02/25\n",
      "4645   4566     NaN            NACIONAL FINANCIERA, S.N.C., EN SU CAR�CTER DE FIDUCIARIO DEL  1030131, 1030123, 1030115, 1035745, 6006917  VIGENTE             NaN    NaN               NaN                            NaN                NaN     MEXICANA                             FIDEICOMISOS   NaN             NaN              NaN                   NaN                  NaN              NaN                NaN           NaN  MEX                           55 1719 1600                                    NFI3406305T0  NaN   NaN                                                                                                                                             ORTIZ GOMEZ JOSE  Moral Nacional no Gravable                  NaN            TAS               24/02/25\n",
      "4724   4645     NaN  NAFIN EN SU CARACT DE FIDU DEL FIDE DE CONTRA PARA EL FINAN EMP-ENSE�AN                                      1064579  VIGENTE             NaN    NaN               NaN                            NaN                NaN     MEXICANA                             FIDEICOMISOS   NaN             NaN              NaN                   NaN                  NaN              NaN                NaN           NaN  MEX                               53256048                                    NFI3406305T0  NaN   NaN                                                                                                                                    Datos de la Escritura      Moral Nacional no Gravable                  NaN            TAS               24/02/25\n",
      "4754   4675     NaN                                      NAFIN FID 80139_GARANT�AS 2024_25_1                                      1065832  VIGENTE             NaN    NaN               NaN                            NaN                NaN     MEXICANA                             FIDEICOMISOS   NaN             NaN              NaN                   NaN                  NaN              NaN                NaN           NaN  MEX                           55 5325 6000                                    NFI3406305T0  NaN   NaN                                                                                                                                     HERNANDEZ ANGELES KARINA  Moral Nacional no Gravable                  NaN            TAS               24/02/25\n",
      "4755   4676     NaN                                     NAFIN FID 80139_GARANT�AS 2024_25_10                                      1065841  VIGENTE             NaN    NaN               NaN                            NaN                NaN     MEXICANA                             FIDEICOMISOS   NaN             NaN              NaN                   NaN                  NaN              NaN                NaN           NaN  MEX                           55 5325 6000                                    NFI3406305T0  NaN   NaN                                                                                                                                     HERNANDEZ ANGELES KARINA  Moral Nacional no Gravable                  NaN            TAS               24/02/25\n",
      "4756   4677     NaN                                     NAFIN FID 80139_GARANT�AS 2024_25_11                                      1065842  VIGENTE             NaN    NaN               NaN                            NaN                NaN     MEXICANA                             FIDEICOMISOS   NaN             NaN              NaN                   NaN                  NaN              NaN                NaN           NaN  MEX                           55 5325 6000                                    NFI3406305T0  NaN   NaN                                                                                                                                     HERNANDEZ ANGELES KARINA  Moral Nacional no Gravable                  NaN            TAS               24/02/25\n",
      "4757   4678     NaN                                     NAFIN FID 80139_GARANT�AS 2024_25_12                                      1065843  VIGENTE             NaN    NaN               NaN                            NaN                NaN     MEXICANA                             FIDEICOMISOS   NaN             NaN              NaN                   NaN                  NaN              NaN                NaN           NaN  MEX                           55 5325 6000                                    NFI3406305T0  NaN   NaN                                                                                                                                     HERNANDEZ ANGELES KARINA  Moral Nacional no Gravable                  NaN            TAS               24/02/25\n",
      "4758   4679     NaN                                     NAFIN FID 80139_GARANT�AS 2024_25_13                                      1065844  VIGENTE             NaN    NaN               NaN                            NaN                NaN     MEXICANA                             FIDEICOMISOS   NaN             NaN              NaN                   NaN                  NaN              NaN                NaN           NaN  MEX                           55 5325 6000                                    NFI3406305T0  NaN   NaN                                                                                                                                     HERNANDEZ ANGELES KARINA  Moral Nacional no Gravable                  NaN            TAS               24/02/25\n",
      "4759   4680     NaN                                     NAFIN FID 80139_GARANT�AS 2024_25_14                                      1065845  VIGENTE             NaN    NaN               NaN                            NaN                NaN     MEXICANA                             FIDEICOMISOS   NaN             NaN              NaN                   NaN                  NaN              NaN                NaN           NaN  MEX                           55 5325 6000                                    NFI3406305T0  NaN   NaN                                                                                                                                     HERNANDEZ ANGELES KARINA  Moral Nacional no Gravable                  NaN            TAS               24/02/25\n",
      "4760   4681     NaN                                     NAFIN FID 80139_GARANT�AS 2024_25_15                                      1065846  VIGENTE             NaN    NaN               NaN                            NaN                NaN     MEXICANA                             FIDEICOMISOS   NaN             NaN              NaN                   NaN                  NaN              NaN                NaN           NaN  MEX                           55 5325 6000                                    NFI3406305T0  NaN   NaN                                                                                                                                     HERNANDEZ ANGELES KARINA  Moral Nacional no Gravable                  NaN            TAS               24/02/25\n",
      "4761   4682     NaN                                     NAFIN FID 80139_GARANT�AS 2024_25_16                                      1065847  VIGENTE             NaN    NaN               NaN                            NaN                NaN     MEXICANA                             FIDEICOMISOS   NaN             NaN              NaN                   NaN                  NaN              NaN                NaN           NaN  MEX                           55 5325 6000                                    NFI3406305T0  NaN   NaN                                                                                                                                     HERNANDEZ ANGELES KARINA  Moral Nacional no Gravable                  NaN            TAS               24/02/25\n",
      "4762   4683     NaN                                     NAFIN FID 80139_GARANT�AS 2024_25_17                                      1065848  VIGENTE             NaN    NaN               NaN                            NaN                NaN     MEXICANA                             FIDEICOMISOS   NaN             NaN              NaN                   NaN                  NaN              NaN                NaN           NaN  MEX                           55 5325 6000                                    NFI3406305T0  NaN   NaN                                                                                                                                     HERNANDEZ ANGELES KARINA  Moral Nacional no Gravable                  NaN            TAS               24/02/25\n",
      "4763   4684     NaN                                     NAFIN FID 80139_GARANT�AS 2024_25_18                                      1065849  VIGENTE             NaN    NaN               NaN                            NaN                NaN     MEXICANA                             FIDEICOMISOS   NaN             NaN              NaN                   NaN                  NaN              NaN                NaN           NaN  MEX                           55 5325 6000                                    NFI3406305T0  NaN   NaN                                                                                                                                     HERNANDEZ ANGELES KARINA  Moral Nacional no Gravable                  NaN            TAS               24/02/25\n",
      "4764   4685     NaN                                     NAFIN FID 80139_GARANT�AS 2024_25_19                                      1065850  VIGENTE             NaN    NaN               NaN                            NaN                NaN     MEXICANA                             FIDEICOMISOS   NaN             NaN              NaN                   NaN                  NaN              NaN                NaN           NaN  MEX                           55 5325 6000                                    NFI3406305T0  NaN   NaN                                                                                                                                     HERNANDEZ ANGELES KARINA  Moral Nacional no Gravable                  NaN            TAS               24/02/25\n",
      "4765   4686     NaN                                      NAFIN FID 80139_GARANT�AS 2024_25_2                                      1065833  VIGENTE             NaN    NaN               NaN                            NaN                NaN     MEXICANA                             FIDEICOMISOS   NaN             NaN              NaN                   NaN                  NaN              NaN                NaN           NaN  MEX                           55 5325 6000                                    NFI3406305T0  NaN   NaN                                                                                                                                     HERNANDEZ ANGELES KARINA  Moral Nacional no Gravable                  NaN            TAS               24/02/25\n",
      "4766   4687     NaN                                     NAFIN FID 80139_GARANT�AS 2024_25_20                                      1065851  VIGENTE             NaN    NaN               NaN                            NaN                NaN     MEXICANA                             FIDEICOMISOS   NaN             NaN              NaN                   NaN                  NaN              NaN                NaN           NaN  MEX                           55 5325 6000                                    NFI3406305T0  NaN   NaN                                                                                                                                     HERNANDEZ ANGELES KARINA  Moral Nacional no Gravable                  NaN            TAS               24/02/25\n",
      "4767   4688     NaN                                      NAFIN FID 80139_GARANT�AS 2024_25_3                                      1065834  VIGENTE             NaN    NaN               NaN                            NaN                NaN     MEXICANA                             FIDEICOMISOS   NaN             NaN              NaN                   NaN                  NaN              NaN                NaN           NaN  MEX                           55 5325 6000                                    NFI3406305T0  NaN   NaN                                                                                                                                     HERNANDEZ ANGELES KARINA  Moral Nacional no Gravable                  NaN            TAS               24/02/25\n",
      "4768   4689     NaN                                      NAFIN FID 80139_GARANT�AS 2024_25_4                                      1065835  VIGENTE             NaN    NaN               NaN                            NaN                NaN     MEXICANA                             FIDEICOMISOS   NaN             NaN              NaN                   NaN                  NaN              NaN                NaN           NaN  MEX                           55 5325 6000                                    NFI3406305T0  NaN   NaN                                                                                                                                     HERNANDEZ ANGELES KARINA  Moral Nacional no Gravable                  NaN            TAS               24/02/25\n",
      "4769   4690     NaN                                      NAFIN FID 80139_GARANT�AS 2024_25_5                                      1065836  VIGENTE             NaN    NaN               NaN                            NaN                NaN     MEXICANA                             FIDEICOMISOS   NaN             NaN              NaN                   NaN                  NaN              NaN                NaN           NaN  MEX                           55 5325 6000                                    NFI3406305T0  NaN   NaN                                                                                                                                     HERNANDEZ ANGELES KARINA  Moral Nacional no Gravable                  NaN            TAS               24/02/25\n",
      "4770   4691     NaN                                      NAFIN FID 80139_GARANT�AS 2024_25_6                                      1065837  VIGENTE             NaN    NaN               NaN                            NaN                NaN     MEXICANA                             FIDEICOMISOS   NaN             NaN              NaN                   NaN                  NaN              NaN                NaN           NaN  MEX                           55 5325 6000                                    NFI3406305T0  NaN   NaN                                                                                                                                     HERNANDEZ ANGELES KARINA  Moral Nacional no Gravable                  NaN            TAS               24/02/25\n",
      "4771   4692     NaN                                      NAFIN FID 80139_GARANT�AS 2024_25_7                                      1065838  VIGENTE             NaN    NaN               NaN                            NaN                NaN     MEXICANA                             FIDEICOMISOS   NaN             NaN              NaN                   NaN                  NaN              NaN                NaN           NaN  MEX                           55 5325 6000                                    NFI3406305T0  NaN   NaN                                                                                                                                     HERNANDEZ ANGELES KARINA  Moral Nacional no Gravable                  NaN            TAS               24/02/25\n",
      "4772   4693     NaN                                      NAFIN FID 80139_GARANT�AS 2024_25_8                                      1065839  VIGENTE             NaN    NaN               NaN                            NaN                NaN     MEXICANA                             FIDEICOMISOS   NaN             NaN              NaN                   NaN                  NaN              NaN                NaN           NaN  MEX                           55 5325 6000                                    NFI3406305T0  NaN   NaN                                                                                                                                     HERNANDEZ ANGELES KARINA  Moral Nacional no Gravable                  NaN            TAS               24/02/25\n",
      "4773   4694     NaN                                      NAFIN FID 80139_GARANT�AS 2024_25_9                                      1065840  VIGENTE             NaN    NaN               NaN                            NaN                NaN     MEXICANA                             FIDEICOMISOS   NaN             NaN              NaN                   NaN                  NaN              NaN                NaN           NaN  MEX                           55 5325 6000                                    NFI3406305T0  NaN   NaN                                                                                                                                     HERNANDEZ ANGELES KARINA  Moral Nacional no Gravable                  NaN            TAS               24/02/25\n",
      "4774   4695     NaN  NAFIN FID 80758 CUENTA DE GASTOS DE MANTENIMIENTO MAYOR Y MODERNIZACI�N                                      1065806  VIGENTE             NaN    NaN               NaN                            NaN                NaN     MEXICANA                             FIDEICOMISOS   NaN             NaN              NaN                   NaN                  NaN              NaN                NaN           NaN  MEX                             5553256000                                    FIA1801228N7  NaN   NaN                                                                                                                                     HERNANDEZ ANGELES KARINA  Moral Nacional no Gravable                  NaN            TAS               24/02/25\n",
      "4779   4700     NaN                     NAFIN FID 80758 CUENTA DE OPERACIONES INTERCOMPA�IAS                                      1065813  VIGENTE             NaN    NaN               NaN                            NaN                NaN     MEXICANA                             FIDEICOMISOS   NaN             NaN              NaN                   NaN                  NaN              NaN                NaN           NaN  MEX                             5553256000                                    FIA1801228N7  NaN   NaN                                                                                                                                     HERNANDEZ ANGELES KARINA  Moral Nacional no Gravable                  NaN            TAS               24/02/25\n",
      "4788   4709     NaN                  NAFIN FID 80776 BMZ-2021.6846.6 FONDO DE RENOVACI�N KFW                                      6009434  VIGENTE             NaN    NaN               NaN                            NaN                NaN     MEXICANA                             FIDEICOMISOS   NaN             NaN              NaN                   NaN                  NaN              NaN                NaN           NaN  MEX                             5553256000                                   XAXX010101000  NaN   NaN                                                                                                                                     HERNANDEZ ANGELES KARINA     Moral Nacional Gravable                  NaN            TAS               24/02/25\n",
      "4793   4714     NaN                     NAFIN FID 80776 INICIATIVA P/TRANSP ACCI�N CLIMATICA                                      6009442  VIGENTE             NaN    NaN               NaN                            NaN                NaN     MEXICANA                             FIDEICOMISOS   NaN             NaN              NaN                   NaN                  NaN              NaN                NaN           NaN  MEX                           55 5325 6000                                   XAXX010101000  NaN   NaN                                                                                                                                     HERNANDEZ ANGELES KARINA     Moral Nacional Gravable                  NaN            TAS               24/02/25\n",
      "4978   4899     NaN  NAFIN SNC COMO FIDU DEL FISO 11480 FDO PARA LA PARTICIPACI�N DE RIESGOS                                      6009352  VIGENTE             NaN    NaN               NaN                            NaN                NaN     MEXICANA                             FIDEICOMISOS   NaN             NaN              NaN                   NaN                  NaN              NaN                NaN           NaN  MEX                               53256000                                    NFF971031GC2  NaN   NaN                                                                                                                                VAZQUEZ GASCA MARIA DEL ROCIO  Moral Nacional no Gravable                  NaN            TAS               24/02/25\n",
      "5048   4969     NaN  NAFIN SNC COMO FIDU DEL FISO80139 PORTAFOLIO SUBASTA PRIMERAS P�RDIDAS2                                      1064984  VIGENTE             NaN    NaN               NaN                            NaN                NaN     MEXICANA                             FIDEICOMISOS   NaN             NaN              NaN                   NaN                  NaN              NaN                NaN           NaN  MEX                               53256000                                    NFI3406305T0  NaN   NaN                                                                                                                                VAZQUEZ GASCA MARIA DEL ROCIO  Moral Nacional no Gravable                  NaN            TAS               24/02/25\n",
      "5241   5162     NaN     NAFIN, SNC, IBD, COMO FIDU DEL FISO DE ADMIN Y PAGO SEMAR 80777 USD�                                      6009426  VIGENTE             NaN    NaN               NaN                            NaN                NaN     MEXICANA                             FIDEICOMISOS   NaN             NaN              NaN                   NaN                  NaN              NaN                NaN           NaN  MEX                             5553256000                                    FAP220125ECA  NaN   NaN                                                                                                                                     HERNANDEZ ANGELES KARINA  Moral Nacional no Gravable                  NaN            TAS               24/02/25\n",
      "5331   5236     NaN                                NU M�XICO FINANCIERA, S.A. DE C.V. SOFIPO                             1065866, 1065826  VIGENTE             NaN    NaN               NaN                            NaN                NaN     MEXICANA                   TESORERIAS, TESORER�AS   NaN             NaN              NaN                   NaN                  NaN              NaN                NaN           NaN  MEX                           55 9225 2622                                    AKA060427QP2  NaN   NaN                                                               CAMPOS GOMEZ FERNANDO -- ROUNTREE BEST JESSICA, CAMPOS G�MEZ FERNANDO -- ROUNTREE BEST JESSICA  Moral Nacional no Gravable                  NaN            TAS               24/02/25\n",
      "5427   5331     NaN                                      P.M.I. TRADING M�XICO, S.A. DE C.V.                                      1065778  VIGENTE             NaN    NaN               NaN                            NaN                NaN     MEXICANA                               TESORERIAS   NaN             NaN              NaN                   NaN                  NaN              NaN                NaN           NaN  MEX                           55 1944 0000                                    PTM1611295U4  NaN   NaN                                                                    AGISS LOPEZ MARTHA -- DURAN GALINDO EDGAR GERARDO -- GONZALEZ VILLASANA CHRISTIAN EDUARDO     Moral Nacional Gravable                  NaN            TAS               24/02/25\n",
      "5587   5490     NaN          PRINCIPAL MEXICO COMPA�IA DE SEGUROS   S.A. DE C.V.   CAPITAL T                                      1064304  VIGENTE             NaN    NaN               NaN                            NaN                NaN     MEXICANA                             ASEGURADORAS   NaN             NaN              NaN                   NaN                  NaN              NaN                NaN           NaN  MEX                            83 89 97 29                                    PMS960826N52  NaN   NaN                                                                                                                                                          NaN  Moral Nacional no Gravable                  NaN            TAS               24/02/25\n",
      "5588   5491     NaN                       PRINCIPAL MEXICO COMPA�IA DE SEGUROS, S.A. DE C.V.                                      1062187  VIGENTE             NaN    NaN               NaN                            NaN                NaN     MEXICANA                             ASEGURADORAS   NaN             NaN              NaN                   NaN                  NaN              NaN                NaN           NaN  MEX                         0155  52797900                                    PMS960826N52  NaN   NaN                                                                                                   ELIZONDO RODRIGUEZ ALEJANDRO -- LOEWE KRIEGER GISELA LAURA  Moral Nacional no Gravable                  NaN            TAS               24/02/25\n",
      "5589   5492     NaN         PRINCIPAL MEXICO COMPA�IA DE SEGUROS, SACV (POR CTA DE TERCEROS)                                      1062794  VIGENTE             NaN    NaN               NaN                            NaN                NaN     MEXICANA                             ASEGURADORAS   NaN             NaN              NaN                   NaN                  NaN              NaN                NaN           NaN  MEX                       (0181) 8389 9729                                    PMS960826N52  NaN   NaN                                                                                                    LOEWE KRIEGER GISELA LAURA -- VILLA JASSO FRANCISCO MARIO  Moral Nacional no Gravable                  NaN            TAS               24/02/25\n",
      "5686   5589     NaN                                  PRUDENTIAL SEGUROS M�XICO, S.A. DE C.V.                             6009230, 1063562  VIGENTE             NaN    NaN               NaN                            NaN                NaN     MEXICANA                             ASEGURADORAS   NaN             NaN              NaN                   NaN                  NaN              NaN                NaN           NaN  MEX                  11037000, 11 03 70 00                                    PSM060220M72  NaN   NaN                                                                                                                                 CUESTA RESENDI �NGEL OCTAVIO  Moral Nacional no Gravable                  NaN            TAS               24/02/25\n",
      "6010   5913     NaN                                    Reportos Corporativos MN  Negociaci�n                                        74000  VIGENTE             NaN    NaN               NaN                            NaN                NaN     MEXICANA                      BANCA DE DESARROLLO   NaN             NaN              NaN                   NaN                  NaN              NaN                NaN           NaN  MEX                                                                           NFI3406305T0  NaN   NaN                                                                                                                                                          NaN             Cuentas Propias                  NaN            TAS               24/02/25\n",
      "6307   6198     NaN                                SIEFORE AZTECA B�SICA 95-99, S.A. DE C.V.                                      1063223  VIGENTE             NaN    NaN               NaN                            NaN                NaN     MEXICANA                                   AFORES   NaN             NaN              NaN                   NaN                  NaN              NaN                NaN           NaN  MEX                           55 5241 4300                                    SAB040721H19  NaN   NaN                                                                                                                                 MONTES DE OCA DESACHY XIMENA  Moral Nacional no Gravable                  NaN            TAS               24/02/25\n",
      "6321   6212     NaN                              SIEFORE INVERCAP B�SICA 90-94, S.A. DE C.V.                                      1065533  VIGENTE             NaN    NaN               NaN                            NaN                NaN     MEXICANA                                   AFORES   NaN             NaN              NaN                   NaN                  NaN              NaN                NaN           NaN  MEX                           018188888300                                    SIB190709PL3  NaN   NaN                                                                                                       ESPARZA GARZA ROBERTO LAURO -- SALABURU LLAMAS EDUARDO  Moral Nacional no Gravable                  NaN            TAS               24/02/25\n",
      "6322   6213     NaN                              SIEFORE INVERCAP B�SICA 95-99, S.A. DE C.V.                                      1062752  VIGENTE             NaN    NaN               NaN                            NaN                NaN     MEXICANA                                   AFORES   NaN             NaN              NaN                   NaN                  NaN              NaN                NaN           NaN  MEX                         81 83 68 00 68                                    SIN041110LD1  NaN   NaN                                                                                                       ESPARZA GARZA ROBERTO LAURO -- SALABURU LLAMAS EDUARDO  Moral Nacional no Gravable                  NaN            TAS               24/02/25\n",
      "6844   6721     NaN                                         ZURICH COMPA�IA DE SEGUROS, S.A.                             1064383, 6009264  VIGENTE             NaN    NaN               NaN                            NaN                NaN     MEXICANA                             ASEGURADORAS   NaN             NaN              NaN                   NaN                  NaN              NaN                NaN           NaN  MEX  55 5284 1000 EXT.520744, 55 5284 1000                                    ZSE950306M48  NaN   NaN  DEL RIO . CRISTIAN ALBERTO -- F� RIVERA RICARDO DANIEL -- GIRARD . GUILLLERMO, DEL RIO . CRISTIAN ALBERTO -- FU RIVERA RICARDO DANIEL -- GIRARD . GUILLERMO  Moral Nacional no Gravable                  NaN            TAS               24/02/25\n",
      "6845   6722     NaN                                      ZURICH FIANZAS M�XICO, S.A. DE C.V.                             6009441, 1065073  VIGENTE             NaN    NaN               NaN                            NaN                NaN     MEXICANA                             ASEGURADORAS   NaN             NaN              NaN                   NaN                  NaN              NaN                NaN           NaN  MEX  55 5284 1000 EXT. 520744, 55 52841000                                    ZAM131014HV0  NaN   NaN                                                                                 DEL RIO . CRISTIAN ALBERTO -- FU RIVERA RICARDO DANIEL -- GIRARD . GUILLERMO  Moral Nacional no Gravable                  NaN            TAS               24/02/25\n",
      "6850   6727     NaN            ZURICH SANTANDER SEGUROS MEXICO, S.A. /  ENRIQUE MU�OZ LOZANO                                      1062484  VIGENTE             NaN    NaN               NaN                            NaN                NaN     MEXICANA                             ASEGURADORAS   NaN             NaN              NaN                   NaN                  NaN              NaN                NaN           NaN  MEX                              5140 8200                                    SSG971008QU1  NaN   NaN                                                                                                                                                          NaN     Moral Nacional Gravable                  NaN            TAS               24/02/25\n",
      "6865   6742     NaN                                    ZURICH SANTANDER SEGUROS M�XICO, S.A.                                      1064521  VIGENTE             NaN    NaN               NaN                            NaN                NaN     MEXICANA                             ASEGURADORAS   NaN             NaN              NaN                   NaN                  NaN              NaN                NaN           NaN  MEX                           55 5169 4300                                    SSG971008QUI  NaN   NaN                                                                                                       CUENCA KYFF CLAUDIA -- ROJO PALAVICINI TANIA ALEJANDRA  Moral Nacional no Gravable                  NaN            TAS               24/02/25\n",
      "6866   6743     NaN                                    ZURICH VIDA COMPA�IA DE SEGUROS, S.A.                             1064384, 6009265  VIGENTE             NaN    NaN               NaN                            NaN                NaN     MEXICANA                             ASEGURADORAS   NaN             NaN              NaN                   NaN                  NaN              NaN                NaN           NaN  MEX  55 5284 1000 EXT.520744, 55 5284 1000                                    ZVS941209AH6  NaN   NaN   DEL R�O . CRISTIAN ALBERTO -- F� RIVERA RICARDO DANIEL -- GIRARD . GUILLERMO, DEL RIO . CRISTIAN ALBERTO -- FU RIVERA RICARDO DANIEL -- GIRARD . GUILLERMO  Moral Nacional no Gravable                  NaN            TAS               24/02/25\n"
     ]
    }
   ],
   "source": [
    "print(df[df[\"NOMBRE_O_RAZON_SOCIAL\"].apply(lambda x: \"�\" in x if isinstance(x, str) else False)].to_string(max_cols=None))\n"
   ]
  },
  {
   "cell_type": "code",
   "execution_count": null,
   "metadata": {},
   "outputs": [],
   "source": [
    "df"
   ]
  },
  {
   "cell_type": "code",
   "execution_count": null,
   "metadata": {},
   "outputs": [],
   "source": [
    "# Aplicar la corrección con la codificación detectada\n",
    "df[\"NOMBRE_O_RAZON_SOCIAL\"] = df[\"NOMBRE_O_RAZON_SOCIAL\"].astype(str).apply(lambda x: x.encode(detected_encoding, errors=\"ignore\").decode(\"utf-8\") if isinstance(x, str) else x)\n"
   ]
  },
  {
   "cell_type": "code",
   "execution_count": 42,
   "metadata": {},
   "outputs": [
    {
     "data": {
      "text/plain": [
       "1826      ELECTROTECNIA PLUS SAPI DE CV\n",
       "219               ALFREDO CABADA MORENO\n",
       "1415    CONFECCIONES MODA PIEL SA DE CV\n",
       "3967         MANUEL BARCELATA RODRIGUEZ\n",
       "2622            GILBERTO ENRIQUEZ TREJO\n",
       "3437           JOSE LUIS MARTINEZ NIETO\n",
       "1583              DAVID SANTIAGO NOYOLA\n",
       "3862          LUZ ELENA AVILA HERNANDEZ\n",
       "4247                MARINA PEREZ TORRES\n",
       "3407      JOSE GUADALUPE URRUTIA TORRES\n",
       "Name: NOMBRE_O_RAZON_SOCIAL, dtype: object"
      ]
     },
     "execution_count": 42,
     "metadata": {},
     "output_type": "execute_result"
    }
   ],
   "source": [
    "df.loc[df[\"PAIS\"] == \"MEXICO\", \"NOMBRE_O_RAZON_SOCIAL\"].sample(10)\n"
   ]
  },
  {
   "cell_type": "code",
   "execution_count": 44,
   "metadata": {},
   "outputs": [
    {
     "data": {
      "text/plain": [
       "[{'Cliente': 'OSWALDO CORONA AMADOR'},\n",
       " {'Cliente': 'JENNIFER IXTACCIHUATL CAMPOS VAZQUEZ'},\n",
       " {'Cliente': 'LUCINA MALDONADO VILLANUEVA'},\n",
       " {'Cliente': 'SANTIAGO IX TEC'},\n",
       " {'Cliente': 'PELICULAS Y EMPAQUES ESPECIALES S.A. DE C.V.'},\n",
       " {'Cliente': 'ENRIQUE JESUS LIMA MUÑOZ LEDO'},\n",
       " {'Cliente': 'JOSE ELIAS SAHAB JAIK'},\n",
       " {'Cliente': 'JOSE DE JESUS ROMO CABRERA'},\n",
       " {'Cliente': 'RECURSOS MEDICOS Y TECNOLOGICOS PARA LA SALUD SA'},\n",
       " {'Cliente': 'ARMANDO MELENDEZ GARCIA'}]"
      ]
     },
     "execution_count": 44,
     "metadata": {},
     "output_type": "execute_result"
    }
   ],
   "source": [
    "[\n",
    "    {\"Cliente\": str(fil.NOMBRE_O_RAZON_SOCIAL)}\n",
    "    for fil in df.loc[df[\"PAIS\"] == \"MEXICO\", [\"NOMBRE_O_RAZON_SOCIAL\"]].sample(10).itertuples(index=False)\n",
    "]\n"
   ]
  },
  {
   "cell_type": "code",
   "execution_count": 45,
   "metadata": {},
   "outputs": [
    {
     "data": {
      "application/vnd.microsoft.datawrangler.viewer.v0+json": {
       "columns": [
        {
         "name": "index",
         "rawType": "int64",
         "type": "integer"
        },
        {
         "name": "ID_DL",
         "rawType": "int64",
         "type": "integer"
        },
        {
         "name": "NEGOCIO",
         "rawType": "object",
         "type": "unknown"
        },
        {
         "name": "NOMBRE_O_RAZON_SOCIAL",
         "rawType": "object",
         "type": "string"
        },
        {
         "name": "NUMERO_CLIENTE",
         "rawType": "object",
         "type": "string"
        },
        {
         "name": "ESTATUS",
         "rawType": "object",
         "type": "string"
        },
        {
         "name": "NUMERO_CONTRATO",
         "rawType": "object",
         "type": "unknown"
        },
        {
         "name": "GENERO",
         "rawType": "object",
         "type": "unknown"
        },
        {
         "name": "FECHA_NAC_O_CONST",
         "rawType": "object",
         "type": "unknown"
        },
        {
         "name": "ENTIDAD_FEDERATIVA_NACIMIENTO",
         "rawType": "float64",
         "type": "float"
        },
        {
         "name": "PAIS_DE_NACIMIENTO",
         "rawType": "object",
         "type": "unknown"
        },
        {
         "name": "NACIONALIDAD",
         "rawType": "object",
         "type": "string"
        },
        {
         "name": "PROFESION",
         "rawType": "object",
         "type": "unknown"
        },
        {
         "name": "CALLE",
         "rawType": "object",
         "type": "string"
        },
        {
         "name": "NUMERO_EXTERIOR",
         "rawType": "object",
         "type": "string"
        },
        {
         "name": "NUMERO_INTERIOR",
         "rawType": "float64",
         "type": "float"
        },
        {
         "name": "COLONIA_URBANIZACION",
         "rawType": "float64",
         "type": "float"
        },
        {
         "name": "DELEGACION_MUNICIPIO",
         "rawType": "object",
         "type": "unknown"
        },
        {
         "name": "CIUDAD_POBLACION",
         "rawType": "object",
         "type": "string"
        },
        {
         "name": "ENTIDAD_FEDERATIVA",
         "rawType": "object",
         "type": "string"
        },
        {
         "name": "CODIGO_POSTAL",
         "rawType": "object",
         "type": "string"
        },
        {
         "name": "PAIS",
         "rawType": "object",
         "type": "string"
        },
        {
         "name": "TELEFONO",
         "rawType": "object",
         "type": "unknown"
        },
        {
         "name": "CORREO_ELECTRONICO",
         "rawType": "object",
         "type": "unknown"
        },
        {
         "name": "RFC",
         "rawType": "object",
         "type": "string"
        },
        {
         "name": "CURP",
         "rawType": "object",
         "type": "unknown"
        },
        {
         "name": "FIEL",
         "rawType": "float64",
         "type": "float"
        },
        {
         "name": "REPRESENTANTE_LEGAL",
         "rawType": "object",
         "type": "unknown"
        },
        {
         "name": "TIPO_PERSONA",
         "rawType": "object",
         "type": "string"
        },
        {
         "name": "PRODUCTO_CONTRATADO",
         "rawType": "float64",
         "type": "float"
        },
        {
         "name": "SISTEMA_ORIGEN",
         "rawType": "object",
         "type": "string"
        },
        {
         "name": "FECHA_DE_ACTUALIZACION",
         "rawType": "object",
         "type": "string"
        }
       ],
       "conversionMethod": "pd.DataFrame",
       "ref": "d6d65ec9-ccda-4121-b01d-be0266e33d30",
       "rows": [
        [
         "1468",
         "1411",
         null,
         "CORPORACION ANDINA DE FOMENTO (CAF)",
         "95",
         "VIGENTE",
         null,
         null,
         null,
         null,
         null,
         "CORPORACION ANDINA DE FOMENTO (CAF)",
         null,
         "AV. LUIS ROCHE, TORRE CAF",
         "23504",
         null,
         null,
         null,
         "ALTAMIRA",
         "CARACAS",
         "69012",
         "VENEZUELA",
         null,
         null,
         "XXXXXXXXXXXXX",
         null,
         null,
         null,
         "PM",
         null,
         "SOI",
         "24/02/25"
        ]
       ],
       "shape": {
        "columns": 31,
        "rows": 1
       }
      },
      "text/html": [
       "<div>\n",
       "<style scoped>\n",
       "    .dataframe tbody tr th:only-of-type {\n",
       "        vertical-align: middle;\n",
       "    }\n",
       "\n",
       "    .dataframe tbody tr th {\n",
       "        vertical-align: top;\n",
       "    }\n",
       "\n",
       "    .dataframe thead th {\n",
       "        text-align: right;\n",
       "    }\n",
       "</style>\n",
       "<table border=\"1\" class=\"dataframe\">\n",
       "  <thead>\n",
       "    <tr style=\"text-align: right;\">\n",
       "      <th></th>\n",
       "      <th>ID_DL</th>\n",
       "      <th>NEGOCIO</th>\n",
       "      <th>NOMBRE_O_RAZON_SOCIAL</th>\n",
       "      <th>NUMERO_CLIENTE</th>\n",
       "      <th>ESTATUS</th>\n",
       "      <th>NUMERO_CONTRATO</th>\n",
       "      <th>GENERO</th>\n",
       "      <th>FECHA_NAC_O_CONST</th>\n",
       "      <th>ENTIDAD_FEDERATIVA_NACIMIENTO</th>\n",
       "      <th>PAIS_DE_NACIMIENTO</th>\n",
       "      <th>...</th>\n",
       "      <th>TELEFONO</th>\n",
       "      <th>CORREO_ELECTRONICO</th>\n",
       "      <th>RFC</th>\n",
       "      <th>CURP</th>\n",
       "      <th>FIEL</th>\n",
       "      <th>REPRESENTANTE_LEGAL</th>\n",
       "      <th>TIPO_PERSONA</th>\n",
       "      <th>PRODUCTO_CONTRATADO</th>\n",
       "      <th>SISTEMA_ORIGEN</th>\n",
       "      <th>FECHA_DE_ACTUALIZACION</th>\n",
       "    </tr>\n",
       "  </thead>\n",
       "  <tbody>\n",
       "    <tr>\n",
       "      <th>1468</th>\n",
       "      <td>1411</td>\n",
       "      <td>NaN</td>\n",
       "      <td>CORPORACION ANDINA DE FOMENTO (CAF)</td>\n",
       "      <td>95</td>\n",
       "      <td>VIGENTE</td>\n",
       "      <td>NaN</td>\n",
       "      <td>NaN</td>\n",
       "      <td>NaN</td>\n",
       "      <td>NaN</td>\n",
       "      <td>NaN</td>\n",
       "      <td>...</td>\n",
       "      <td>NaN</td>\n",
       "      <td>NaN</td>\n",
       "      <td>XXXXXXXXXXXXX</td>\n",
       "      <td>NaN</td>\n",
       "      <td>NaN</td>\n",
       "      <td>NaN</td>\n",
       "      <td>PM</td>\n",
       "      <td>NaN</td>\n",
       "      <td>SOI</td>\n",
       "      <td>24/02/25</td>\n",
       "    </tr>\n",
       "  </tbody>\n",
       "</table>\n",
       "<p>1 rows × 31 columns</p>\n",
       "</div>"
      ],
      "text/plain": [
       "      ID_DL NEGOCIO                NOMBRE_O_RAZON_SOCIAL NUMERO_CLIENTE  \\\n",
       "1468   1411     NaN  CORPORACION ANDINA DE FOMENTO (CAF)             95   \n",
       "\n",
       "      ESTATUS NUMERO_CONTRATO GENERO FECHA_NAC_O_CONST  \\\n",
       "1468  VIGENTE             NaN    NaN               NaN   \n",
       "\n",
       "      ENTIDAD_FEDERATIVA_NACIMIENTO PAIS_DE_NACIMIENTO  ... TELEFONO  \\\n",
       "1468                            NaN                NaN  ...      NaN   \n",
       "\n",
       "     CORREO_ELECTRONICO            RFC CURP  FIEL  REPRESENTANTE_LEGAL  \\\n",
       "1468                NaN  XXXXXXXXXXXXX  NaN   NaN                  NaN   \n",
       "\n",
       "     TIPO_PERSONA PRODUCTO_CONTRATADO SISTEMA_ORIGEN FECHA_DE_ACTUALIZACION  \n",
       "1468           PM                 NaN            SOI               24/02/25  \n",
       "\n",
       "[1 rows x 31 columns]"
      ]
     },
     "execution_count": 45,
     "metadata": {},
     "output_type": "execute_result"
    }
   ],
   "source": [
    "df[df[\"PAIS\"] == \"VENEZUELA\"]"
   ]
  },
  {
   "cell_type": "code",
   "execution_count": 49,
   "metadata": {},
   "outputs": [],
   "source": [
    "mapping_pais = {\n",
    "    \"MEX\": \"MEXICO\",\n",
    "    \"U.S.A.\": \"ESTADOS UNIDOS DE AMERICA\",\n",
    "    \"ESTADOS UNIDOS\": \"ESTADOS UNIDOS DE AMERICA\",\n",
    "    \"GRAN BRETA&A\": \"REINO UNIDO\",\n",
    "    \"GRAN BRETA\\A\":\"REINO UNIDO\",\n",
    "    \"ISLAS GRAND CAYMAN\": \"REINO UNIDO\",\n",
    "    \"ESPA\\A\": \"ESPAÑA\",\n",
    "    \"ESPANA\": \"ESPAÑA\",\n",
    "    \"ESPA\\u00d1A\":\"ESPAÑA\",\n",
    "    \"NASSAU\": \"BAHAMAS\"\n",
    "}\n"
   ]
  },
  {
   "cell_type": "code",
   "execution_count": 50,
   "metadata": {},
   "outputs": [],
   "source": [
    "def clean_pais(pais):\n",
    "    if pd.isna(pais):\n",
    "        return pais\n",
    "    if len(pais.split(',')) == 1:\n",
    "        return mapping_pais.get(pais, pais)\n",
    "    else:\n",
    "        cadena_limpia = list(set([clean_pais(p.strip()) for p in pais.split(\",\")])) \n",
    "        return \", \".join(cadena_limpia)\n",
    "    \n",
    "df[\"PAIS\"] =  df[\"PAIS\"].apply(clean_pais)"
   ]
  },
  {
   "cell_type": "code",
   "execution_count": 60,
   "metadata": {},
   "outputs": [
    {
     "data": {
      "text/plain": [
       "[{'Cliente': 'ARTURO MENDEZ DEL CASTILLO'},\n",
       " {'Cliente': 'SALVADOR DOMINGUEZ LOERA'},\n",
       " {'Cliente': 'JUAN ENRIQUE ALDANA ZERMENO'},\n",
       " {'Cliente': 'ANDRES ROJAS FLORES'},\n",
       " {'Cliente': 'PABLO JAHIR SANCHEZ RON'},\n",
       " {'Cliente': 'MA TRINIDAD CHACON GALAVIZ'},\n",
       " {'Cliente': 'RICARDO VALDEZ NAVA'},\n",
       " {'Cliente': 'ANGELES LIZETH SIBAJA ARROYO'},\n",
       " {'Cliente': 'PRIMITIVO ANGUIANO HERNANDEZ'},\n",
       " {'Cliente': 'JOSE DE JESUS DELGADO SANCHEZ'},\n",
       " {'Cliente': 'MAGDALENA CASTILLON PENA'},\n",
       " {'Cliente': 'JOSE LUIS OLIVO CASTILLO'},\n",
       " {'Cliente': 'ROGELIO MENDOZA SAUCEDO'},\n",
       " {'Cliente': 'CESAR PAUL GARCIA FLORES'},\n",
       " {'Cliente': 'ELSA PATRICIA SALAS AYALA'}]"
      ]
     },
     "execution_count": 60,
     "metadata": {},
     "output_type": "execute_result"
    }
   ],
   "source": [
    "[\n",
    "    {\"Cliente\": str(fil.NOMBRE_O_RAZON_SOCIAL)}\n",
    "    for fil in df.loc[(df[\"PAIS\"] == \"MEXICO\") & (df[\"TIPO_PERSONA\"] == \"PF\"), [\"NOMBRE_O_RAZON_SOCIAL\"]]\n",
    "    .sample(15)\n",
    "    .itertuples(index=False)\n",
    "]\n"
   ]
  },
  {
   "cell_type": "code",
   "execution_count": 16,
   "metadata": {},
   "outputs": [
    {
     "data": {
      "text/plain": [
       "TIPO_PERSONA\n",
       "PF                                                         2918\n",
       "PM                                                         1834\n",
       "Moral Nacional no Gravable                                 1571\n",
       "Moral Nacional Gravable                                     314\n",
       "UNIONES DE CREDITO                                          106\n",
       "Moral Nacional no Gravable, PM                               43\n",
       "Cuentas Propias                                              36\n",
       "PM, Moral Nacional Gravable                                  13\n",
       "UNIONES DE CREDITO, PM                                        9\n",
       "Moral Nacional no Gravable, Moral Nacional Gravable           6\n",
       "Moral Nacional no Gravable, PM, UNIONES DE CREDITO            6\n",
       "Moral Nal.No Gravable (Fondos)                                4\n",
       "Moral Nacional no Gravable, UNIONES DE CREDITO                2\n",
       "BANCOS                                                        1\n",
       "Moral Extranjera Pais c/tratad                                1\n",
       "Moral Extranj. Pais s/tratado                                 1\n",
       "Fisica Nacional no Gravable                                   1\n",
       "Cuentas Propias, PM                                           1\n",
       "Moral Nacional no Gravable, Moral Nacional Gravable, PM       1\n",
       "Name: count, dtype: int64"
      ]
     },
     "execution_count": 16,
     "metadata": {},
     "output_type": "execute_result"
    }
   ],
   "source": [
    "col = \"TIPO_PERSONA\"\n",
    "df.value_counts(col)"
   ]
  },
  {
   "cell_type": "code",
   "execution_count": 9,
   "metadata": {},
   "outputs": [
    {
     "data": {
      "text/plain": [
       "SISTEMA_ORIGEN\n",
       "SIRAC                           4278\n",
       "TAS                             1934\n",
       "MECA                             208\n",
       "SIPE                             152\n",
       "SIAG                             107\n",
       "SIMS                              77\n",
       "SOI                               22\n",
       "SIRAC, TAS                        22\n",
       "TAS, MECA                         18\n",
       "SIPE, MECA                         9\n",
       "SIPE, TAS                          7\n",
       "SIPE, MECA, TAS                    5\n",
       "SIRAC, SIAG                        4\n",
       "SIMS, SIPE                         3\n",
       "SIAG, MECA                         3\n",
       "SIMS, TAS                          2\n",
       "TAS, SIAG                          2\n",
       "TAS, SIMS, MECA                    2\n",
       "SIRAC, TAS, SIAG                   2\n",
       "TAS, SIMS, MECA, SIAG              1\n",
       "SIPE, SIRAC                        1\n",
       "SIRAC, MECA, TAS                   1\n",
       "SIPE, TAS, SIAG                    1\n",
       "SIPE, SIMS, MECA                   1\n",
       "SIPE, MECA, TAS, SIAG              1\n",
       "SIPE, MECA, SIAG                   1\n",
       "SIMS, SIAG                         1\n",
       "SIMS, MECA                         1\n",
       "SIAG, SIRAC, SIMS, MECA, TAS       1\n",
       "TAS, SOI, MECA                     1\n",
       "Name: count, dtype: int64"
      ]
     },
     "execution_count": 9,
     "metadata": {},
     "output_type": "execute_result"
    }
   ],
   "source": [
    "df_final.value_counts(\"SISTEMA_ORIGEN\")"
   ]
  },
  {
   "cell_type": "code",
   "execution_count": 7,
   "metadata": {},
   "outputs": [
    {
     "data": {
      "application/vnd.microsoft.datawrangler.viewer.v0+json": {
       "columns": [
        {
         "name": "index",
         "rawType": "int64",
         "type": "integer"
        },
        {
         "name": "ID_DL",
         "rawType": "int64",
         "type": "integer"
        },
        {
         "name": "NEGOCIO",
         "rawType": "object",
         "type": "unknown"
        },
        {
         "name": "NOMBRE_O_RAZON_SOCIAL",
         "rawType": "object",
         "type": "string"
        },
        {
         "name": "NUMERO_CLIENTE",
         "rawType": "object",
         "type": "string"
        },
        {
         "name": "ESTATUS",
         "rawType": "object",
         "type": "string"
        },
        {
         "name": "NUMERO_CONTRATO",
         "rawType": "object",
         "type": "unknown"
        },
        {
         "name": "GENERO",
         "rawType": "object",
         "type": "unknown"
        },
        {
         "name": "FECHA_NAC_O_CONST",
         "rawType": "object",
         "type": "unknown"
        },
        {
         "name": "ENTIDAD_FEDERATIVA_NACIMIENTO",
         "rawType": "float64",
         "type": "float"
        },
        {
         "name": "PAIS_DE_NACIMIENTO",
         "rawType": "object",
         "type": "unknown"
        },
        {
         "name": "NACIONALIDAD",
         "rawType": "object",
         "type": "string"
        },
        {
         "name": "PROFESION",
         "rawType": "object",
         "type": "unknown"
        },
        {
         "name": "CALLE",
         "rawType": "object",
         "type": "unknown"
        },
        {
         "name": "NUMERO_EXTERIOR",
         "rawType": "object",
         "type": "unknown"
        },
        {
         "name": "NUMERO_INTERIOR",
         "rawType": "float64",
         "type": "float"
        },
        {
         "name": "COLONIA_URBANIZACION",
         "rawType": "float64",
         "type": "float"
        },
        {
         "name": "DELEGACION_MUNICIPIO",
         "rawType": "object",
         "type": "unknown"
        },
        {
         "name": "CIUDAD_POBLACION",
         "rawType": "object",
         "type": "unknown"
        },
        {
         "name": "ENTIDAD_FEDERATIVA",
         "rawType": "object",
         "type": "unknown"
        },
        {
         "name": "CODIGO_POSTAL",
         "rawType": "object",
         "type": "unknown"
        },
        {
         "name": "PAIS",
         "rawType": "object",
         "type": "string"
        },
        {
         "name": "TELEFONO",
         "rawType": "object",
         "type": "unknown"
        },
        {
         "name": "CORREO_ELECTRONICO",
         "rawType": "object",
         "type": "unknown"
        },
        {
         "name": "RFC",
         "rawType": "object",
         "type": "string"
        },
        {
         "name": "CURP",
         "rawType": "object",
         "type": "unknown"
        },
        {
         "name": "FIEL",
         "rawType": "float64",
         "type": "float"
        },
        {
         "name": "REPRESENTANTE_LEGAL",
         "rawType": "object",
         "type": "unknown"
        },
        {
         "name": "TIPO_PERSONA",
         "rawType": "object",
         "type": "string"
        },
        {
         "name": "PRODUCTO_CONTRATADO",
         "rawType": "float64",
         "type": "float"
        },
        {
         "name": "SISTEMA_ORIGEN",
         "rawType": "object",
         "type": "string"
        },
        {
         "name": "FECHA_DE_ACTUALIZACION",
         "rawType": "object",
         "type": "string"
        }
       ],
       "conversionMethod": "pd.DataFrame",
       "ref": "89c78e69-e06c-46d7-ac11-d9f14a5fc316",
       "rows": [
        [
         "0",
         "1",
         null,
         " NAFIN FIDUCIARIO FIDEICOMISO CONTRAGARANTIA FIN EMPRESARIAL (FDO CANAC",
         "1063586",
         "VIGENTE",
         null,
         null,
         null,
         null,
         null,
         "MEXICANA",
         "FIDEICOMISOS",
         null,
         null,
         null,
         null,
         null,
         null,
         null,
         null,
         "MEX",
         "5325 6914",
         " ",
         "NFI3406305T0",
         null,
         null,
         "GUERRERO HERRERA RAFAEL GIL",
         "Moral Nacional no Gravable",
         null,
         "TAS",
         "24/02/25"
        ],
        [
         "1",
         "2",
         null,
         ".+ TASA ACTIVO, S.A. DE C.V., F.I.R.V.",
         "1064707",
         "VIGENTE",
         null,
         null,
         null,
         null,
         null,
         "MEXICANA",
         "FONDOS DE INVERSION",
         null,
         null,
         null,
         null,
         null,
         null,
         null,
         null,
         "MEX",
         "55 5033 3341",
         " ",
         "STA130219T22",
         null,
         null,
         "MARQUEZ LARA RENE ALONSO",
         "Moral Nacional no Gravable",
         null,
         "TAS",
         "24/02/25"
        ],
        [
         "2",
         "3",
         null,
         ".+TASA LARGO PLAZO, S.A. DE C.V., F.I.I.D.",
         "1064327",
         "VIGENTE",
         null,
         null,
         null,
         null,
         null,
         "MEXICANA",
         "FONDOS DE INVERSION",
         null,
         null,
         null,
         null,
         null,
         null,
         null,
         null,
         "MEX",
         "55 5033 3341",
         " ",
         "STL100514QG9",
         null,
         null,
         "MARQUEZ LARA RENE ALONSO",
         "Moral Nacional no Gravable",
         null,
         "TAS",
         "24/02/25"
        ],
        [
         "3",
         "4",
         null,
         ".+TASA PREVISIONAL, S.A. DE C.V., F.I.I.D.",
         "1064709",
         "VIGENTE",
         null,
         null,
         null,
         null,
         null,
         "MEXICANA",
         "FONDOS DE INVERSION",
         null,
         null,
         null,
         null,
         null,
         null,
         null,
         null,
         "MEX",
         "55 5033 3341",
         " ",
         "STR130219R32",
         null,
         null,
         "MARQUEZ LARA RENE ALONSO",
         "Moral Nacional no Gravable",
         null,
         "TAS",
         "24/02/25"
        ],
        [
         "4",
         "5",
         null,
         ".+TASA US, S.A. DE C.V., F.I.I.D.",
         "6009236",
         "VIGENTE",
         null,
         null,
         null,
         null,
         null,
         "MEXICANA",
         "FONDOS DE INVERSION",
         null,
         null,
         null,
         null,
         null,
         null,
         null,
         null,
         "MEX",
         "55 5033 3341",
         " ",
         "STU0606078L3",
         null,
         null,
         "MARQUEZ LARA RENE ALONSO",
         "Moral Nacional no Gravable",
         null,
         "TAS",
         "24/02/25"
        ],
        [
         "5",
         "6",
         null,
         ".+TASA, S.A. DE C.V., F.I.I.D.",
         "1063919",
         "VIGENTE",
         null,
         null,
         null,
         null,
         null,
         "MEXICANA",
         "FONDOS DE INVERSION",
         null,
         null,
         null,
         null,
         null,
         null,
         null,
         null,
         "MEX",
         "55 50333 3341",
         " ",
         "STC990818T34",
         null,
         null,
         "MARQUEZ LARA RENE ALONSO",
         "Moral Nacional no Gravable",
         null,
         "TAS",
         "24/02/25"
        ],
        [
         "6",
         "7",
         null,
         "3HC SUMINISTROS Y MAQUINADOS SA DE CV",
         "28769077",
         "VIGENTE",
         "40620983",
         "NO_APLICA",
         null,
         null,
         "MEXICO",
         "MEXICANA",
         null,
         null,
         null,
         null,
         null,
         null,
         null,
         null,
         null,
         "MEXICO",
         null,
         null,
         "HSM180427T54",
         null,
         null,
         "SANTIAGO CARRANZA GARZA",
         "PM",
         null,
         "SIRAC",
         "24/02/25"
        ],
        [
         "7",
         "8",
         null,
         "4M COMERCIALIZADORA SA DE CV",
         "28931908",
         "VIGENTE",
         "39976901",
         "NO_APLICA",
         null,
         null,
         "MEXICO",
         "MEXICANA",
         null,
         null,
         null,
         null,
         null,
         null,
         null,
         null,
         null,
         "MEXICO",
         null,
         null,
         "MCO110407D59",
         null,
         null,
         null,
         "PM",
         null,
         "SIRAC",
         "24/02/25"
        ],
        [
         "8",
         "9",
         null,
         "7HOSES S DE RL DE CV.",
         "28664082",
         "VIGENTE",
         "40604282",
         "NO_APLICA",
         null,
         null,
         "MEXICO",
         "MEXICANA",
         null,
         null,
         null,
         null,
         null,
         null,
         null,
         null,
         null,
         "MEXICO",
         null,
         null,
         "HOS1709285L6",
         null,
         null,
         "MANUEL CELORIO GOMEZ",
         "PM",
         null,
         "SIRAC",
         "24/02/25"
        ],
        [
         "9",
         "10",
         null,
         "80841 MEX-TOL CEBURES/ FONDO DE RESERVA PARA LA FALTA DE INGRESOS  DE P",
         "1065381",
         "VIGENTE",
         null,
         null,
         null,
         null,
         null,
         "MEXICANA",
         "FIDEICOMISOS",
         null,
         null,
         null,
         null,
         null,
         null,
         null,
         null,
         "MEX",
         "53256000",
         " ",
         "PAC8907264G0",
         null,
         null,
         "VAZQUEZ GASCA MARIA DEL ROCIO",
         "Moral Nacional Gravable",
         null,
         "TAS",
         "24/02/25"
        ]
       ],
       "shape": {
        "columns": 31,
        "rows": 10
       }
      },
      "text/html": [
       "<div>\n",
       "<style scoped>\n",
       "    .dataframe tbody tr th:only-of-type {\n",
       "        vertical-align: middle;\n",
       "    }\n",
       "\n",
       "    .dataframe tbody tr th {\n",
       "        vertical-align: top;\n",
       "    }\n",
       "\n",
       "    .dataframe thead th {\n",
       "        text-align: right;\n",
       "    }\n",
       "</style>\n",
       "<table border=\"1\" class=\"dataframe\">\n",
       "  <thead>\n",
       "    <tr style=\"text-align: right;\">\n",
       "      <th></th>\n",
       "      <th>ID_DL</th>\n",
       "      <th>NEGOCIO</th>\n",
       "      <th>NOMBRE_O_RAZON_SOCIAL</th>\n",
       "      <th>NUMERO_CLIENTE</th>\n",
       "      <th>ESTATUS</th>\n",
       "      <th>NUMERO_CONTRATO</th>\n",
       "      <th>GENERO</th>\n",
       "      <th>FECHA_NAC_O_CONST</th>\n",
       "      <th>ENTIDAD_FEDERATIVA_NACIMIENTO</th>\n",
       "      <th>PAIS_DE_NACIMIENTO</th>\n",
       "      <th>...</th>\n",
       "      <th>TELEFONO</th>\n",
       "      <th>CORREO_ELECTRONICO</th>\n",
       "      <th>RFC</th>\n",
       "      <th>CURP</th>\n",
       "      <th>FIEL</th>\n",
       "      <th>REPRESENTANTE_LEGAL</th>\n",
       "      <th>TIPO_PERSONA</th>\n",
       "      <th>PRODUCTO_CONTRATADO</th>\n",
       "      <th>SISTEMA_ORIGEN</th>\n",
       "      <th>FECHA_DE_ACTUALIZACION</th>\n",
       "    </tr>\n",
       "  </thead>\n",
       "  <tbody>\n",
       "    <tr>\n",
       "      <th>0</th>\n",
       "      <td>1</td>\n",
       "      <td>NaN</td>\n",
       "      <td>NAFIN FIDUCIARIO FIDEICOMISO CONTRAGARANTIA F...</td>\n",
       "      <td>1063586</td>\n",
       "      <td>VIGENTE</td>\n",
       "      <td>NaN</td>\n",
       "      <td>NaN</td>\n",
       "      <td>NaN</td>\n",
       "      <td>NaN</td>\n",
       "      <td>NaN</td>\n",
       "      <td>...</td>\n",
       "      <td>5325 6914</td>\n",
       "      <td></td>\n",
       "      <td>NFI3406305T0</td>\n",
       "      <td>NaN</td>\n",
       "      <td>NaN</td>\n",
       "      <td>GUERRERO HERRERA RAFAEL GIL</td>\n",
       "      <td>Moral Nacional no Gravable</td>\n",
       "      <td>NaN</td>\n",
       "      <td>TAS</td>\n",
       "      <td>24/02/25</td>\n",
       "    </tr>\n",
       "    <tr>\n",
       "      <th>1</th>\n",
       "      <td>2</td>\n",
       "      <td>NaN</td>\n",
       "      <td>.+ TASA ACTIVO, S.A. DE C.V., F.I.R.V.</td>\n",
       "      <td>1064707</td>\n",
       "      <td>VIGENTE</td>\n",
       "      <td>NaN</td>\n",
       "      <td>NaN</td>\n",
       "      <td>NaN</td>\n",
       "      <td>NaN</td>\n",
       "      <td>NaN</td>\n",
       "      <td>...</td>\n",
       "      <td>55 5033 3341</td>\n",
       "      <td></td>\n",
       "      <td>STA130219T22</td>\n",
       "      <td>NaN</td>\n",
       "      <td>NaN</td>\n",
       "      <td>MARQUEZ LARA RENE ALONSO</td>\n",
       "      <td>Moral Nacional no Gravable</td>\n",
       "      <td>NaN</td>\n",
       "      <td>TAS</td>\n",
       "      <td>24/02/25</td>\n",
       "    </tr>\n",
       "    <tr>\n",
       "      <th>2</th>\n",
       "      <td>3</td>\n",
       "      <td>NaN</td>\n",
       "      <td>.+TASA LARGO PLAZO, S.A. DE C.V., F.I.I.D.</td>\n",
       "      <td>1064327</td>\n",
       "      <td>VIGENTE</td>\n",
       "      <td>NaN</td>\n",
       "      <td>NaN</td>\n",
       "      <td>NaN</td>\n",
       "      <td>NaN</td>\n",
       "      <td>NaN</td>\n",
       "      <td>...</td>\n",
       "      <td>55 5033 3341</td>\n",
       "      <td></td>\n",
       "      <td>STL100514QG9</td>\n",
       "      <td>NaN</td>\n",
       "      <td>NaN</td>\n",
       "      <td>MARQUEZ LARA RENE ALONSO</td>\n",
       "      <td>Moral Nacional no Gravable</td>\n",
       "      <td>NaN</td>\n",
       "      <td>TAS</td>\n",
       "      <td>24/02/25</td>\n",
       "    </tr>\n",
       "    <tr>\n",
       "      <th>3</th>\n",
       "      <td>4</td>\n",
       "      <td>NaN</td>\n",
       "      <td>.+TASA PREVISIONAL, S.A. DE C.V., F.I.I.D.</td>\n",
       "      <td>1064709</td>\n",
       "      <td>VIGENTE</td>\n",
       "      <td>NaN</td>\n",
       "      <td>NaN</td>\n",
       "      <td>NaN</td>\n",
       "      <td>NaN</td>\n",
       "      <td>NaN</td>\n",
       "      <td>...</td>\n",
       "      <td>55 5033 3341</td>\n",
       "      <td></td>\n",
       "      <td>STR130219R32</td>\n",
       "      <td>NaN</td>\n",
       "      <td>NaN</td>\n",
       "      <td>MARQUEZ LARA RENE ALONSO</td>\n",
       "      <td>Moral Nacional no Gravable</td>\n",
       "      <td>NaN</td>\n",
       "      <td>TAS</td>\n",
       "      <td>24/02/25</td>\n",
       "    </tr>\n",
       "    <tr>\n",
       "      <th>4</th>\n",
       "      <td>5</td>\n",
       "      <td>NaN</td>\n",
       "      <td>.+TASA US, S.A. DE C.V., F.I.I.D.</td>\n",
       "      <td>6009236</td>\n",
       "      <td>VIGENTE</td>\n",
       "      <td>NaN</td>\n",
       "      <td>NaN</td>\n",
       "      <td>NaN</td>\n",
       "      <td>NaN</td>\n",
       "      <td>NaN</td>\n",
       "      <td>...</td>\n",
       "      <td>55 5033 3341</td>\n",
       "      <td></td>\n",
       "      <td>STU0606078L3</td>\n",
       "      <td>NaN</td>\n",
       "      <td>NaN</td>\n",
       "      <td>MARQUEZ LARA RENE ALONSO</td>\n",
       "      <td>Moral Nacional no Gravable</td>\n",
       "      <td>NaN</td>\n",
       "      <td>TAS</td>\n",
       "      <td>24/02/25</td>\n",
       "    </tr>\n",
       "    <tr>\n",
       "      <th>5</th>\n",
       "      <td>6</td>\n",
       "      <td>NaN</td>\n",
       "      <td>.+TASA, S.A. DE C.V., F.I.I.D.</td>\n",
       "      <td>1063919</td>\n",
       "      <td>VIGENTE</td>\n",
       "      <td>NaN</td>\n",
       "      <td>NaN</td>\n",
       "      <td>NaN</td>\n",
       "      <td>NaN</td>\n",
       "      <td>NaN</td>\n",
       "      <td>...</td>\n",
       "      <td>55 50333 3341</td>\n",
       "      <td></td>\n",
       "      <td>STC990818T34</td>\n",
       "      <td>NaN</td>\n",
       "      <td>NaN</td>\n",
       "      <td>MARQUEZ LARA RENE ALONSO</td>\n",
       "      <td>Moral Nacional no Gravable</td>\n",
       "      <td>NaN</td>\n",
       "      <td>TAS</td>\n",
       "      <td>24/02/25</td>\n",
       "    </tr>\n",
       "    <tr>\n",
       "      <th>6</th>\n",
       "      <td>7</td>\n",
       "      <td>NaN</td>\n",
       "      <td>3HC SUMINISTROS Y MAQUINADOS SA DE CV</td>\n",
       "      <td>28769077</td>\n",
       "      <td>VIGENTE</td>\n",
       "      <td>40620983</td>\n",
       "      <td>NO_APLICA</td>\n",
       "      <td>NaN</td>\n",
       "      <td>NaN</td>\n",
       "      <td>MEXICO</td>\n",
       "      <td>...</td>\n",
       "      <td>NaN</td>\n",
       "      <td>NaN</td>\n",
       "      <td>HSM180427T54</td>\n",
       "      <td>NaN</td>\n",
       "      <td>NaN</td>\n",
       "      <td>SANTIAGO CARRANZA GARZA</td>\n",
       "      <td>PM</td>\n",
       "      <td>NaN</td>\n",
       "      <td>SIRAC</td>\n",
       "      <td>24/02/25</td>\n",
       "    </tr>\n",
       "    <tr>\n",
       "      <th>7</th>\n",
       "      <td>8</td>\n",
       "      <td>NaN</td>\n",
       "      <td>4M COMERCIALIZADORA SA DE CV</td>\n",
       "      <td>28931908</td>\n",
       "      <td>VIGENTE</td>\n",
       "      <td>39976901</td>\n",
       "      <td>NO_APLICA</td>\n",
       "      <td>NaN</td>\n",
       "      <td>NaN</td>\n",
       "      <td>MEXICO</td>\n",
       "      <td>...</td>\n",
       "      <td>NaN</td>\n",
       "      <td>NaN</td>\n",
       "      <td>MCO110407D59</td>\n",
       "      <td>NaN</td>\n",
       "      <td>NaN</td>\n",
       "      <td>NaN</td>\n",
       "      <td>PM</td>\n",
       "      <td>NaN</td>\n",
       "      <td>SIRAC</td>\n",
       "      <td>24/02/25</td>\n",
       "    </tr>\n",
       "    <tr>\n",
       "      <th>8</th>\n",
       "      <td>9</td>\n",
       "      <td>NaN</td>\n",
       "      <td>7HOSES S DE RL DE CV.</td>\n",
       "      <td>28664082</td>\n",
       "      <td>VIGENTE</td>\n",
       "      <td>40604282</td>\n",
       "      <td>NO_APLICA</td>\n",
       "      <td>NaN</td>\n",
       "      <td>NaN</td>\n",
       "      <td>MEXICO</td>\n",
       "      <td>...</td>\n",
       "      <td>NaN</td>\n",
       "      <td>NaN</td>\n",
       "      <td>HOS1709285L6</td>\n",
       "      <td>NaN</td>\n",
       "      <td>NaN</td>\n",
       "      <td>MANUEL CELORIO GOMEZ</td>\n",
       "      <td>PM</td>\n",
       "      <td>NaN</td>\n",
       "      <td>SIRAC</td>\n",
       "      <td>24/02/25</td>\n",
       "    </tr>\n",
       "    <tr>\n",
       "      <th>9</th>\n",
       "      <td>10</td>\n",
       "      <td>NaN</td>\n",
       "      <td>80841 MEX-TOL CEBURES/ FONDO DE RESERVA PARA L...</td>\n",
       "      <td>1065381</td>\n",
       "      <td>VIGENTE</td>\n",
       "      <td>NaN</td>\n",
       "      <td>NaN</td>\n",
       "      <td>NaN</td>\n",
       "      <td>NaN</td>\n",
       "      <td>NaN</td>\n",
       "      <td>...</td>\n",
       "      <td>53256000</td>\n",
       "      <td></td>\n",
       "      <td>PAC8907264G0</td>\n",
       "      <td>NaN</td>\n",
       "      <td>NaN</td>\n",
       "      <td>VAZQUEZ GASCA MARIA DEL ROCIO</td>\n",
       "      <td>Moral Nacional Gravable</td>\n",
       "      <td>NaN</td>\n",
       "      <td>TAS</td>\n",
       "      <td>24/02/25</td>\n",
       "    </tr>\n",
       "  </tbody>\n",
       "</table>\n",
       "<p>10 rows × 31 columns</p>\n",
       "</div>"
      ],
      "text/plain": [
       "   ID_DL NEGOCIO                              NOMBRE_O_RAZON_SOCIAL  \\\n",
       "0      1     NaN   NAFIN FIDUCIARIO FIDEICOMISO CONTRAGARANTIA F...   \n",
       "1      2     NaN             .+ TASA ACTIVO, S.A. DE C.V., F.I.R.V.   \n",
       "2      3     NaN         .+TASA LARGO PLAZO, S.A. DE C.V., F.I.I.D.   \n",
       "3      4     NaN         .+TASA PREVISIONAL, S.A. DE C.V., F.I.I.D.   \n",
       "4      5     NaN                  .+TASA US, S.A. DE C.V., F.I.I.D.   \n",
       "5      6     NaN                     .+TASA, S.A. DE C.V., F.I.I.D.   \n",
       "6      7     NaN              3HC SUMINISTROS Y MAQUINADOS SA DE CV   \n",
       "7      8     NaN                       4M COMERCIALIZADORA SA DE CV   \n",
       "8      9     NaN                              7HOSES S DE RL DE CV.   \n",
       "9     10     NaN  80841 MEX-TOL CEBURES/ FONDO DE RESERVA PARA L...   \n",
       "\n",
       "  NUMERO_CLIENTE  ESTATUS NUMERO_CONTRATO     GENERO FECHA_NAC_O_CONST  \\\n",
       "0        1063586  VIGENTE             NaN        NaN               NaN   \n",
       "1        1064707  VIGENTE             NaN        NaN               NaN   \n",
       "2        1064327  VIGENTE             NaN        NaN               NaN   \n",
       "3        1064709  VIGENTE             NaN        NaN               NaN   \n",
       "4        6009236  VIGENTE             NaN        NaN               NaN   \n",
       "5        1063919  VIGENTE             NaN        NaN               NaN   \n",
       "6       28769077  VIGENTE        40620983  NO_APLICA               NaN   \n",
       "7       28931908  VIGENTE        39976901  NO_APLICA               NaN   \n",
       "8       28664082  VIGENTE        40604282  NO_APLICA               NaN   \n",
       "9        1065381  VIGENTE             NaN        NaN               NaN   \n",
       "\n",
       "   ENTIDAD_FEDERATIVA_NACIMIENTO PAIS_DE_NACIMIENTO  ...       TELEFONO  \\\n",
       "0                            NaN                NaN  ...      5325 6914   \n",
       "1                            NaN                NaN  ...   55 5033 3341   \n",
       "2                            NaN                NaN  ...   55 5033 3341   \n",
       "3                            NaN                NaN  ...   55 5033 3341   \n",
       "4                            NaN                NaN  ...   55 5033 3341   \n",
       "5                            NaN                NaN  ...  55 50333 3341   \n",
       "6                            NaN             MEXICO  ...            NaN   \n",
       "7                            NaN             MEXICO  ...            NaN   \n",
       "8                            NaN             MEXICO  ...            NaN   \n",
       "9                            NaN                NaN  ...       53256000   \n",
       "\n",
       "  CORREO_ELECTRONICO           RFC CURP  FIEL            REPRESENTANTE_LEGAL  \\\n",
       "0                     NFI3406305T0  NaN   NaN    GUERRERO HERRERA RAFAEL GIL   \n",
       "1                     STA130219T22  NaN   NaN       MARQUEZ LARA RENE ALONSO   \n",
       "2                     STL100514QG9  NaN   NaN       MARQUEZ LARA RENE ALONSO   \n",
       "3                     STR130219R32  NaN   NaN       MARQUEZ LARA RENE ALONSO   \n",
       "4                     STU0606078L3  NaN   NaN       MARQUEZ LARA RENE ALONSO   \n",
       "5                     STC990818T34  NaN   NaN       MARQUEZ LARA RENE ALONSO   \n",
       "6                NaN  HSM180427T54  NaN   NaN        SANTIAGO CARRANZA GARZA   \n",
       "7                NaN  MCO110407D59  NaN   NaN                            NaN   \n",
       "8                NaN  HOS1709285L6  NaN   NaN           MANUEL CELORIO GOMEZ   \n",
       "9                     PAC8907264G0  NaN   NaN  VAZQUEZ GASCA MARIA DEL ROCIO   \n",
       "\n",
       "                 TIPO_PERSONA PRODUCTO_CONTRATADO SISTEMA_ORIGEN  \\\n",
       "0  Moral Nacional no Gravable                 NaN            TAS   \n",
       "1  Moral Nacional no Gravable                 NaN            TAS   \n",
       "2  Moral Nacional no Gravable                 NaN            TAS   \n",
       "3  Moral Nacional no Gravable                 NaN            TAS   \n",
       "4  Moral Nacional no Gravable                 NaN            TAS   \n",
       "5  Moral Nacional no Gravable                 NaN            TAS   \n",
       "6                          PM                 NaN          SIRAC   \n",
       "7                          PM                 NaN          SIRAC   \n",
       "8                          PM                 NaN          SIRAC   \n",
       "9     Moral Nacional Gravable                 NaN            TAS   \n",
       "\n",
       "  FECHA_DE_ACTUALIZACION  \n",
       "0               24/02/25  \n",
       "1               24/02/25  \n",
       "2               24/02/25  \n",
       "3               24/02/25  \n",
       "4               24/02/25  \n",
       "5               24/02/25  \n",
       "6               24/02/25  \n",
       "7               24/02/25  \n",
       "8               24/02/25  \n",
       "9               24/02/25  \n",
       "\n",
       "[10 rows x 31 columns]"
      ]
     },
     "execution_count": 7,
     "metadata": {},
     "output_type": "execute_result"
    }
   ],
   "source": [
    "df_final.head(10)"
   ]
  },
  {
   "cell_type": "code",
   "execution_count": 5,
   "metadata": {},
   "outputs": [
    {
     "data": {
      "application/vnd.microsoft.datawrangler.viewer.v0+json": {
       "columns": [
        {
         "name": "index",
         "rawType": "object",
         "type": "string"
        },
        {
         "name": "ID_DL",
         "rawType": "float64",
         "type": "float"
        },
        {
         "name": "ENTIDAD_FEDERATIVA_NACIMIENTO",
         "rawType": "float64",
         "type": "float"
        },
        {
         "name": "NUMERO_INTERIOR",
         "rawType": "float64",
         "type": "float"
        },
        {
         "name": "COLONIA_URBANIZACION",
         "rawType": "float64",
         "type": "float"
        },
        {
         "name": "FIEL",
         "rawType": "float64",
         "type": "float"
        },
        {
         "name": "PRODUCTO_CONTRATADO",
         "rawType": "float64",
         "type": "float"
        }
       ],
       "conversionMethod": "pd.DataFrame",
       "ref": "6f4e536a-a01e-4bff-8754-8d6fef66933b",
       "rows": [
        [
         "count",
         "6868.0",
         "0.0",
         "0.0",
         "0.0",
         "11.0",
         "0.0"
        ],
        [
         "mean",
         "3434.5",
         null,
         null,
         null,
         "1000000527825012.0",
         null
        ],
        [
         "std",
         "1982.7651567108664",
         null,
         null,
         null,
         "150504394.07324004",
         null
        ],
        [
         "min",
         "1.0",
         null,
         null,
         null,
         "1000000406370820.0",
         null
        ],
        [
         "25%",
         "1717.75",
         null,
         null,
         null,
         "1000000413406276.0",
         null
        ],
        [
         "50%",
         "3434.5",
         null,
         null,
         null,
         "1000000509567930.0",
         null
        ],
        [
         "75%",
         "5151.25",
         null,
         null,
         null,
         "1000000516242025.0",
         null
        ],
        [
         "max",
         "6868.0",
         null,
         null,
         null,
         "1000000900912867.0",
         null
        ]
       ],
       "shape": {
        "columns": 6,
        "rows": 8
       }
      },
      "text/html": [
       "<div>\n",
       "<style scoped>\n",
       "    .dataframe tbody tr th:only-of-type {\n",
       "        vertical-align: middle;\n",
       "    }\n",
       "\n",
       "    .dataframe tbody tr th {\n",
       "        vertical-align: top;\n",
       "    }\n",
       "\n",
       "    .dataframe thead th {\n",
       "        text-align: right;\n",
       "    }\n",
       "</style>\n",
       "<table border=\"1\" class=\"dataframe\">\n",
       "  <thead>\n",
       "    <tr style=\"text-align: right;\">\n",
       "      <th></th>\n",
       "      <th>ID_DL</th>\n",
       "      <th>ENTIDAD_FEDERATIVA_NACIMIENTO</th>\n",
       "      <th>NUMERO_INTERIOR</th>\n",
       "      <th>COLONIA_URBANIZACION</th>\n",
       "      <th>FIEL</th>\n",
       "      <th>PRODUCTO_CONTRATADO</th>\n",
       "    </tr>\n",
       "  </thead>\n",
       "  <tbody>\n",
       "    <tr>\n",
       "      <th>count</th>\n",
       "      <td>6868.000000</td>\n",
       "      <td>0.0</td>\n",
       "      <td>0.0</td>\n",
       "      <td>0.0</td>\n",
       "      <td>1.100000e+01</td>\n",
       "      <td>0.0</td>\n",
       "    </tr>\n",
       "    <tr>\n",
       "      <th>mean</th>\n",
       "      <td>3434.500000</td>\n",
       "      <td>NaN</td>\n",
       "      <td>NaN</td>\n",
       "      <td>NaN</td>\n",
       "      <td>1.000001e+15</td>\n",
       "      <td>NaN</td>\n",
       "    </tr>\n",
       "    <tr>\n",
       "      <th>std</th>\n",
       "      <td>1982.765157</td>\n",
       "      <td>NaN</td>\n",
       "      <td>NaN</td>\n",
       "      <td>NaN</td>\n",
       "      <td>1.505044e+08</td>\n",
       "      <td>NaN</td>\n",
       "    </tr>\n",
       "    <tr>\n",
       "      <th>min</th>\n",
       "      <td>1.000000</td>\n",
       "      <td>NaN</td>\n",
       "      <td>NaN</td>\n",
       "      <td>NaN</td>\n",
       "      <td>1.000000e+15</td>\n",
       "      <td>NaN</td>\n",
       "    </tr>\n",
       "    <tr>\n",
       "      <th>25%</th>\n",
       "      <td>1717.750000</td>\n",
       "      <td>NaN</td>\n",
       "      <td>NaN</td>\n",
       "      <td>NaN</td>\n",
       "      <td>1.000000e+15</td>\n",
       "      <td>NaN</td>\n",
       "    </tr>\n",
       "    <tr>\n",
       "      <th>50%</th>\n",
       "      <td>3434.500000</td>\n",
       "      <td>NaN</td>\n",
       "      <td>NaN</td>\n",
       "      <td>NaN</td>\n",
       "      <td>1.000001e+15</td>\n",
       "      <td>NaN</td>\n",
       "    </tr>\n",
       "    <tr>\n",
       "      <th>75%</th>\n",
       "      <td>5151.250000</td>\n",
       "      <td>NaN</td>\n",
       "      <td>NaN</td>\n",
       "      <td>NaN</td>\n",
       "      <td>1.000001e+15</td>\n",
       "      <td>NaN</td>\n",
       "    </tr>\n",
       "    <tr>\n",
       "      <th>max</th>\n",
       "      <td>6868.000000</td>\n",
       "      <td>NaN</td>\n",
       "      <td>NaN</td>\n",
       "      <td>NaN</td>\n",
       "      <td>1.000001e+15</td>\n",
       "      <td>NaN</td>\n",
       "    </tr>\n",
       "  </tbody>\n",
       "</table>\n",
       "</div>"
      ],
      "text/plain": [
       "             ID_DL  ENTIDAD_FEDERATIVA_NACIMIENTO  NUMERO_INTERIOR  \\\n",
       "count  6868.000000                            0.0              0.0   \n",
       "mean   3434.500000                            NaN              NaN   \n",
       "std    1982.765157                            NaN              NaN   \n",
       "min       1.000000                            NaN              NaN   \n",
       "25%    1717.750000                            NaN              NaN   \n",
       "50%    3434.500000                            NaN              NaN   \n",
       "75%    5151.250000                            NaN              NaN   \n",
       "max    6868.000000                            NaN              NaN   \n",
       "\n",
       "       COLONIA_URBANIZACION          FIEL  PRODUCTO_CONTRATADO  \n",
       "count                   0.0  1.100000e+01                  0.0  \n",
       "mean                    NaN  1.000001e+15                  NaN  \n",
       "std                     NaN  1.505044e+08                  NaN  \n",
       "min                     NaN  1.000000e+15                  NaN  \n",
       "25%                     NaN  1.000000e+15                  NaN  \n",
       "50%                     NaN  1.000001e+15                  NaN  \n",
       "75%                     NaN  1.000001e+15                  NaN  \n",
       "max                     NaN  1.000001e+15                  NaN  "
      ]
     },
     "execution_count": 5,
     "metadata": {},
     "output_type": "execute_result"
    }
   ],
   "source": [
    "df_final.describe()"
   ]
  }
 ],
 "metadata": {
  "kernelspec": {
   "display_name": "myenv_1",
   "language": "python",
   "name": "python3"
  },
  "language_info": {
   "codemirror_mode": {
    "name": "ipython",
    "version": 3
   },
   "file_extension": ".py",
   "mimetype": "text/x-python",
   "name": "python",
   "nbconvert_exporter": "python",
   "pygments_lexer": "ipython3",
   "version": "3.10.12"
  }
 },
 "nbformat": 4,
 "nbformat_minor": 2
}
