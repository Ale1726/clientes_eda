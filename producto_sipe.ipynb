{
 "cells": [
  {
   "cell_type": "code",
   "execution_count": 3,
   "metadata": {},
   "outputs": [],
   "source": [
    "from utils.tf import *\n",
    "from utils.db import *\n",
    "from utils.gd import * \n",
    "from utils.clt_repetidos import *\n",
    "from datetime import datetime\n",
    "import cx_Oracle\n",
    "import pandas as pd\n",
    "import os\n",
    "import plotly.express as px\n",
    "import plotly.graph_objects as go\n",
    "from utils.clt_repetidos import * \n",
    "from ydata_profiling import ProfileReport\n",
    "import dask.dataframe as dd\n",
    "import gc\n",
    "import matplotlib.pyplot as plt"
   ]
  },
  {
   "cell_type": "markdown",
   "metadata": {},
   "source": [
    "# Get the data and create the output directory (Extraction)"
   ]
  },
  {
   "cell_type": "code",
   "execution_count": 4,
   "metadata": {},
   "outputs": [],
   "source": [
    "path_dir_data = \"/home/ale1726/proyects/datalake/clientes/data/productos/SIPE/data\""
   ]
  },
  {
   "cell_type": "code",
   "execution_count": 5,
   "metadata": {},
   "outputs": [],
   "source": [
    "# Obtenemos la fecha actual para crear un directorio\n",
    "# donde se guardaran los archivos de salida\n",
    "date_now = datetime.now().strftime(\"%d_%m_%Y\") \n",
    "path_dir_today =  os.path.join(path_dir_data, date_now)\n",
    "\n",
    "# Creamos el directorio si no existe\n",
    "os.makedirs(path_dir_today, exist_ok=True)"
   ]
  },
  {
   "cell_type": "code",
   "execution_count": 6,
   "metadata": {},
   "outputs": [],
   "source": [
    "query_productos_sipe = \"\"\" \n",
    "WITH CLIENTES_ACTIVOS AS (\n",
    "    SELECT  BCO_CLAVE_FFON, BCO_CLAVE, BCO_NOMBRE, SPB.SUC_NUMERO\n",
    "    FROM SIPE.SIPE_BANCOS sp\n",
    "  \tLEFT JOIN SIPE.SIPE_SUCURSALES_BANCO SPB ON SP.BCO_CLAVE = SPB.SUC_BCO_CLAVE\n",
    "    WHERE SP.BCO_ESTATUS = 'A'\n",
    "), CLI_CUENTAS_CONTRAPARTE AS (\n",
    "\tSELECT  CA.*, SCC.CIP_DIV_CLAVE, SCC.CIP_TES_CLAVE, SCC.CIP_SUC_NUMERO\n",
    "\tFROM CLIENTES_ACTIVOS CA\n",
    "\tLEFT JOIN SIPE.SIPE_CUENTAS_CONTRAPARTE SCC ON CA.SUC_NUMERO = SCC.CIP_SUC_NUMERO\n",
    "), CLI_INV_PRES AS (\n",
    "\tSELECT CCC.*, SIP.*\n",
    "\tFROM CLI_CUENTAS_CONTRAPARTE CCC\n",
    "\tLEFT JOIN SIPE.SIPE_INVERSIONES_PRESTAMOS SIP ON ( SIP.IPE_SUC_NUMERO = CCC.CIP_SUC_NUMERO AND SIP.IPE_TES_CLAVE = CCC.CIP_TES_CLAVE AND SIP.IPE_DIV_CLAVE = CCC.CIP_DIV_CLAVE )\n",
    ") SELECT * FROM CLI_INV_PRES\n",
    "\"\"\""
   ]
  },
  {
   "cell_type": "code",
   "execution_count": 7,
   "metadata": {},
   "outputs": [],
   "source": [
    "path_dir_productos = get_table(path_dir_today, db_sipe, \"productos_clientes_sipe\", query = query_productos_sipe)"
   ]
  },
  {
   "cell_type": "markdown",
   "metadata": {},
   "source": [
    "# Transform the data and output the transformation"
   ]
  },
  {
   "cell_type": "code",
   "execution_count": 8,
   "metadata": {},
   "outputs": [
    {
     "data": {
      "text/plain": [
       "'/home/ale1726/proyects/datalake/clientes/data/productos/SIPE/agrupados/22_04_2025'"
      ]
     },
     "execution_count": 8,
     "metadata": {},
     "output_type": "execute_result"
    }
   ],
   "source": [
    "path_dir_output_transformation = os.path.join(\"/home/ale1726/proyects/datalake/clientes/data/productos/SIPE/agrupados\", date_now)\n",
    "os.makedirs(path_dir_output_transformation, exist_ok=True)\n",
    "path_dir_output_transformation"
   ]
  },
  {
   "cell_type": "code",
   "execution_count": 38,
   "metadata": {},
   "outputs": [],
   "source": [
    "productos_sipe =  pd.read_csv(path_dir_productos, low_memory=False)"
   ]
  },
  {
   "cell_type": "code",
   "execution_count": 17,
   "metadata": {},
   "outputs": [
    {
     "data": {
      "text/plain": [
       "Index(['BCO_CLAVE_FFON', 'BCO_CLAVE', 'BCO_NOMBRE', 'SUC_NUMERO',\n",
       "       'CIP_DIV_CLAVE', 'CIP_TES_CLAVE', 'CIP_SUC_NUMERO', 'IPE_FOLIO',\n",
       "       'IPE_FECHA_REGISTRO', 'IPE_FECHA_MODIF', 'IPE_DIV_CLAVE', 'IPE_TIPO',\n",
       "       'IPE_USR_CLAVE_REGISTRO', 'IPE_USR_CLAVE_MODIF', 'IPE_TST_CLAVE',\n",
       "       'IPE_TIN_CLAVE', 'IPE_EMI_CLAVE', 'IPE_MIS_SERIE', 'IPE_TES_CLAVE',\n",
       "       'IPE_SUC_NUMERO', 'IPE_FECHA_VALOR', 'IPE_IMPORTE', 'IPE_PLAZO',\n",
       "       'IPE_TASA', 'IPE_FECHA_VENCIMIENTO', 'IPE_FOLIO_ORIGEN',\n",
       "       'IPE_FECHA_CONCERTACION', 'IPE_EVENTO', 'AÑO_FOPE', 'MES_FOPE',\n",
       "       'MES_STR'],\n",
       "      dtype='object')"
      ]
     },
     "execution_count": 17,
     "metadata": {},
     "output_type": "execute_result"
    }
   ],
   "source": [
    "productos_sipe.columns"
   ]
  },
  {
   "cell_type": "code",
   "execution_count": 39,
   "metadata": {},
   "outputs": [],
   "source": [
    "productos_sipe[\"IPE_FECHA_REGISTRO\"] = pd.to_datetime(productos_sipe[\"IPE_FECHA_REGISTRO\"])\n",
    "productos_sipe[\"AÑO_FOPE\"] = productos_sipe[\"IPE_FECHA_REGISTRO\"].dt.year.astype('Int64')\n",
    "productos_sipe[\"MES_FOPE\"] = productos_sipe[\"IPE_FECHA_REGISTRO\"].dt.month\n",
    "productos_sipe[\"MES_STR\"] = productos_sipe[\"IPE_FECHA_REGISTRO\"].dt.month_name()  "
   ]
  },
  {
   "cell_type": "code",
   "execution_count": 40,
   "metadata": {},
   "outputs": [],
   "source": [
    "productos_sipe = productos_sipe[productos_sipe[\"AÑO_FOPE\"] != 2099]"
   ]
  },
  {
   "cell_type": "code",
   "execution_count": 41,
   "metadata": {},
   "outputs": [],
   "source": [
    "agrupado_operaciones_anuales = (\n",
    "    productos_sipe.groupby(['AÑO_FOPE'], as_index=False)\n",
    "    .agg(\n",
    "        num_operaciones=('IPE_FOLIO', 'count'), \n",
    "        monto_anuales_sum=('IPE_IMPORTE', 'sum'), \n",
    "        monto_anuales_min=('IPE_IMPORTE', 'min'), \n",
    "        monto_anuales_max=('IPE_IMPORTE', 'max'), \n",
    "        monto_anuales_mean=('IPE_IMPORTE', 'mean'), \n",
    "        monto_anuales_median=('IPE_IMPORTE', 'median')\n",
    "    ).sort_values(by=['AÑO_FOPE'], ascending=True)\n",
    ")"
   ]
  },
  {
   "cell_type": "code",
   "execution_count": 42,
   "metadata": {},
   "outputs": [],
   "source": [
    "agrupado_operaciones_anuales.to_csv(os.path.join(path_dir_output_transformation, \"agrupado_operaciones_anuales.csv\"), index=False)"
   ]
  },
  {
   "cell_type": "code",
   "execution_count": 43,
   "metadata": {},
   "outputs": [],
   "source": [
    "agrupado_operaciones_anuales_mes = (\n",
    "    productos_sipe.groupby(['AÑO_FOPE','MES_FOPE', 'MES_STR'], as_index=False)\n",
    "    .agg(\n",
    "        num_operaciones=('IPE_FOLIO', 'count'), \n",
    "        monto_anuales_sum=('IPE_IMPORTE', 'sum'), \n",
    "        monto_anuales_min=('IPE_IMPORTE', 'min'), \n",
    "        monto_anuales_max=('IPE_IMPORTE', 'max'), \n",
    "        monto_anuales_mean=('IPE_IMPORTE', 'mean'), \n",
    "        monto_anuales_median=('IPE_IMPORTE', 'median')\n",
    "    ).sort_values(by=['AÑO_FOPE','MES_FOPE'], ascending=True)\n",
    ")"
   ]
  },
  {
   "cell_type": "code",
   "execution_count": 44,
   "metadata": {},
   "outputs": [],
   "source": [
    "agrupado_operaciones_anuales_mes.to_csv(os.path.join(path_dir_output_transformation, \"agrupado_operaciones_anuales_mes.csv\"), index=False)"
   ]
  },
  {
   "cell_type": "code",
   "execution_count": 45,
   "metadata": {},
   "outputs": [],
   "source": [
    "agrupado_plazo_anual = (\n",
    "    productos_sipe.groupby(['AÑO_FOPE'], as_index=False)\n",
    "    .agg(\n",
    "        plazo_mean=('IPE_PLAZO', lambda x: round(x.mean())),\n",
    "        plazo_min=('IPE_PLAZO', 'min'), \n",
    "        plazo_max=('IPE_PLAZO', 'max'),  \n",
    "        plazo_median=('IPE_PLAZO', 'median')\n",
    "    ).sort_values(by=['AÑO_FOPE'], ascending=True)\n",
    ")"
   ]
  },
  {
   "cell_type": "code",
   "execution_count": 46,
   "metadata": {},
   "outputs": [],
   "source": [
    "agrupado_plazo_anual.to_csv(os.path.join(path_dir_output_transformation, \"agrupado_plazo_anual.csv\"), index=False)"
   ]
  },
  {
   "cell_type": "code",
   "execution_count": 50,
   "metadata": {},
   "outputs": [],
   "source": [
    "agrupado_clientes_año = (\n",
    "    productos_sipe.groupby(['BCO_CLAVE','BCO_NOMBRE', 'AÑO_FOPE'], as_index=False)\n",
    "    .agg(\n",
    "        transacciones=('IPE_FOLIO', 'count'),\n",
    "        monto_mean=('IPE_IMPORTE', lambda x: round(x.mean(), 2) if x.mean() != 0 else 0),\n",
    "        plazo_promedio=('IPE_PLAZO', lambda x: f\"{round(x.mean())} Días\"),\n",
    "        tasa_prom=('IPE_TASA', lambda x: f\"{round(x.mean(),2)}%\"),\n",
    "    )\n",
    "    .sort_values(by=['AÑO_FOPE'], ascending=False)\n",
    ")"
   ]
  },
  {
   "cell_type": "code",
   "execution_count": 56,
   "metadata": {},
   "outputs": [
    {
     "data": {
      "application/vnd.microsoft.datawrangler.viewer.v0+json": {
       "columns": [
        {
         "name": "index",
         "rawType": "int64",
         "type": "integer"
        },
        {
         "name": "BCO_CLAVE",
         "rawType": "int64",
         "type": "integer"
        },
        {
         "name": "BCO_NOMBRE",
         "rawType": "object",
         "type": "string"
        },
        {
         "name": "AÑO_FOPE",
         "rawType": "Int64",
         "type": "integer"
        },
        {
         "name": "transacciones",
         "rawType": "int64",
         "type": "integer"
        },
        {
         "name": "monto_mean",
         "rawType": "float64",
         "type": "float"
        },
        {
         "name": "plazo_promedio",
         "rawType": "object",
         "type": "string"
        },
        {
         "name": "tasa_prom",
         "rawType": "object",
         "type": "string"
        }
       ],
       "conversionMethod": "pd.DataFrame",
       "ref": "6882eb7b-4551-466c-b62d-e6853a0f3627",
       "rows": [
        [
         "346",
         "215",
         "THE BANK OF NOVA SCOTIA TORONTO",
         "2025",
         "10",
         "56000000.0",
         "10 Días",
         "4.39%"
        ],
        [
         "640",
         "344",
         "BARCLAYS BANK, MEXICO",
         "2025",
         "41",
         "42560975.61",
         "1 Días",
         "4.22%"
        ],
        [
         "655",
         "350",
         "MIZUHO BANK MEXICO S. A., I. B. M.",
         "2025",
         "44",
         "16090909.09",
         "1 Días",
         "4.22%"
        ],
        [
         "581",
         "310",
         "BANCO AZTECA, S.A.",
         "2025",
         "232",
         "47437385.88",
         "1 Días",
         "4.22%"
        ],
        [
         "153",
         "17",
         "MUFG BANK MEXICO, S.A.",
         "2025",
         "25",
         "41600000.0",
         "1 Días",
         "4.22%"
        ],
        [
         "597",
         "323",
         "SOCIEDAD HIPOTECARIA FEDERAL SNC",
         "2025",
         "68",
         "10547647.06",
         "2 Días",
         "4.3%"
        ],
        [
         "374",
         "216",
         "NAFIN SUCURSAL LONDRES",
         "2025",
         "60",
         "21984267.5",
         "136 Días",
         "4.27%"
        ],
        [
         "649",
         "348",
         "BANCO SABADELL, S.A., IBM",
         "2025",
         "48",
         "83125000.0",
         "2 Días",
         "4.22%"
        ],
        [
         "623",
         "339",
         "BANK OF AMERICA MEXICO",
         "2025",
         "1",
         "25000000.0",
         "1 Días",
         "4.22%"
        ],
        [
         "547",
         "300",
         "SUMITOMO MITSUI BANKING CORP",
         "2025",
         "2",
         "50000000.0",
         "63 Días",
         "4.39%"
        ],
        [
         "646",
         "347",
         "BANCO SHINHAN DE MEXICO, S. A., IBM",
         "2025",
         "51",
         "20412289.24",
         "1 Días",
         "4.22%"
        ],
        [
         "117",
         "10",
         "STANDARD CHARTERED BANK",
         "2025",
         "1",
         "100000000.0",
         "31 Días",
         "4.38%"
        ],
        [
         "566",
         "309",
         "MIZUHO CORPORATE BANK LTD, NEW YORK",
         "2025",
         "4",
         "62500000.0",
         "38 Días",
         "4.4%"
        ],
        [
         "458",
         "256",
         "CREDIT AGRICOLE CIB, NEW YORK",
         "2025",
         "45",
         "248283728.87",
         "1 Días",
         "4.33%"
        ],
        [
         "631",
         "340",
         "INDUSTRIAL & COMMERCIAL BANK CHINA",
         "2025",
         "45",
         "10000000.0",
         "1 Días",
         "4.22%"
        ],
        [
         "546",
         "300",
         "SUMITOMO MITSUI BANKING CORP",
         "2024",
         "13",
         "76153846.15",
         "7 Días",
         "5.27%"
        ],
        [
         "656",
         "354",
         "CIBANCO S.A. INSTITUCION DE BANCA M",
         "2024",
         "20",
         "44205000.0",
         "2 Días",
         "4.99%"
        ],
        [
         "630",
         "340",
         "INDUSTRIAL & COMMERCIAL BANK CHINA",
         "2024",
         "199",
         "18273869.35",
         "1 Días",
         "5.02%"
        ],
        [
         "565",
         "309",
         "MIZUHO CORPORATE BANK LTD, NEW YORK",
         "2024",
         "88",
         "100454545.45",
         "3 Días",
         "5.21%"
        ],
        [
         "345",
         "215",
         "THE BANK OF NOVA SCOTIA TORONTO",
         "2024",
         "632",
         "81722805.38",
         "4 Días",
         "5.23%"
        ],
        [
         "152",
         "17",
         "MUFG BANK MEXICO, S.A.",
         "2024",
         "197",
         "59307106.6",
         "2 Días",
         "5.1%"
        ],
        [
         "622",
         "339",
         "BANK OF AMERICA MEXICO",
         "2024",
         "5",
         "28600000.0",
         "1 Días",
         "4.87%"
        ],
        [
         "580",
         "310",
         "BANCO AZTECA, S.A.",
         "2024",
         "945",
         "44432830.78",
         "2 Días",
         "4.97%"
        ],
        [
         "201",
         "24",
         "BANOBRAS",
         "2024",
         "30",
         "39300000.0",
         "3 Días",
         "5.38%"
        ],
        [
         "488",
         "271",
         "BANCOMEXT MEXICO",
         "2024",
         "122",
         "112797992.82",
         "36 Días",
         "5.28%"
        ],
        [
         "645",
         "347",
         "BANCO SHINHAN DE MEXICO, S. A., IBM",
         "2024",
         "252",
         "17166104.94",
         "2 Días",
         "5.15%"
        ],
        [
         "457",
         "256",
         "CREDIT AGRICOLE CIB, NEW YORK",
         "2024",
         "303",
         "165722728.82",
         "2 Días",
         "5.05%"
        ],
        [
         "654",
         "350",
         "MIZUHO BANK MEXICO S. A., I. B. M.",
         "2024",
         "86",
         "24881395.35",
         "2 Días",
         "5.04%"
        ],
        [
         "373",
         "216",
         "NAFIN SUCURSAL LONDRES",
         "2024",
         "339",
         "18871882.3",
         "116 Días",
         "5.13%"
        ],
        [
         "648",
         "348",
         "BANCO SABADELL, S.A., IBM",
         "2024",
         "84",
         "45595238.1",
         "2 Días",
         "4.82%"
        ],
        [
         "596",
         "323",
         "SOCIEDAD HIPOTECARIA FEDERAL SNC",
         "2024",
         "425",
         "11249082.35",
         "2 Días",
         "5.25%"
        ],
        [
         "639",
         "344",
         "BARCLAYS BANK, MEXICO",
         "2024",
         "238",
         "112294117.65",
         "2 Días",
         "5.04%"
        ],
        [
         "116",
         "10",
         "STANDARD CHARTERED BANK",
         "2024",
         "37",
         "99459459.46",
         "5 Días",
         "5.23%"
        ],
        [
         "551",
         "306",
         "BANCA AFIRME, S.A.",
         "2023",
         "5",
         "2202400.0",
         "1 Días",
         "5.22%"
        ],
        [
         "564",
         "309",
         "MIZUHO CORPORATE BANK LTD, NEW YORK",
         "2023",
         "241",
         "103484693.06",
         "1 Días",
         "4.99%"
        ],
        [
         "484",
         "270",
         "BANCOMEXT, GRAND CAYMAN",
         "2023",
         "1",
         "60000000.0",
         "1 Días",
         "3.49%"
        ],
        [
         "487",
         "271",
         "BANCOMEXT MEXICO",
         "2023",
         "64",
         "94921875.0",
         "75 Días",
         "5.54%"
        ],
        [
         "545",
         "300",
         "SUMITOMO MITSUI BANKING CORP",
         "2023",
         "89",
         "63820224.72",
         "10 Días",
         "5.04%"
        ],
        [
         "456",
         "256",
         "CREDIT AGRICOLE CIB, NEW YORK",
         "2023",
         "249",
         "126935976.66",
         "2 Días",
         "5.0%"
        ],
        [
         "579",
         "310",
         "BANCO AZTECA, S.A.",
         "2023",
         "1267",
         "37107740.63",
         "2 Días",
         "4.9%"
        ],
        [
         "372",
         "216",
         "NAFIN SUCURSAL LONDRES",
         "2023",
         "469",
         "16623424.74",
         "103 Días",
         "5.09%"
        ],
        [
         "115",
         "10",
         "STANDARD CHARTERED BANK",
         "2023",
         "49",
         "56124489.8",
         "23 Días",
         "5.18%"
        ],
        [
         "200",
         "24",
         "BANOBRAS",
         "2023",
         "146",
         "39506849.32",
         "2 Días",
         "5.04%"
        ],
        [
         "595",
         "323",
         "SOCIEDAD HIPOTECARIA FEDERAL SNC",
         "2023",
         "445",
         "15036122.48",
         "2 Días",
         "5.02%"
        ],
        [
         "344",
         "215",
         "THE BANK OF NOVA SCOTIA TORONTO",
         "2023",
         "170",
         "51705882.35",
         "14 Días",
         "5.4%"
        ],
        [
         "151",
         "17",
         "MUFG BANK MEXICO, S.A.",
         "2023",
         "150",
         "58446666.67",
         "2 Días",
         "4.99%"
        ],
        [
         "629",
         "340",
         "INDUSTRIAL & COMMERCIAL BANK CHINA",
         "2023",
         "271",
         "26333948.34",
         "1 Días",
         "4.94%"
        ],
        [
         "644",
         "347",
         "BANCO SHINHAN DE MEXICO, S. A., IBM",
         "2023",
         "227",
         "9618816.35",
         "2 Días",
         "4.93%"
        ],
        [
         "621",
         "339",
         "BANK OF AMERICA MEXICO",
         "2023",
         "14",
         "35500000.0",
         "2 Días",
         "4.93%"
        ],
        [
         "653",
         "350",
         "MIZUHO BANK MEXICO S. A., I. B. M.",
         "2023",
         "246",
         "46979674.8",
         "2 Días",
         "4.91%"
        ]
       ],
       "shape": {
        "columns": 7,
        "rows": 657
       }
      },
      "text/html": [
       "<div>\n",
       "<style scoped>\n",
       "    .dataframe tbody tr th:only-of-type {\n",
       "        vertical-align: middle;\n",
       "    }\n",
       "\n",
       "    .dataframe tbody tr th {\n",
       "        vertical-align: top;\n",
       "    }\n",
       "\n",
       "    .dataframe thead th {\n",
       "        text-align: right;\n",
       "    }\n",
       "</style>\n",
       "<table border=\"1\" class=\"dataframe\">\n",
       "  <thead>\n",
       "    <tr style=\"text-align: right;\">\n",
       "      <th></th>\n",
       "      <th>BCO_CLAVE</th>\n",
       "      <th>BCO_NOMBRE</th>\n",
       "      <th>AÑO_FOPE</th>\n",
       "      <th>transacciones</th>\n",
       "      <th>monto_mean</th>\n",
       "      <th>plazo_promedio</th>\n",
       "      <th>tasa_prom</th>\n",
       "    </tr>\n",
       "  </thead>\n",
       "  <tbody>\n",
       "    <tr>\n",
       "      <th>346</th>\n",
       "      <td>215</td>\n",
       "      <td>THE BANK OF NOVA SCOTIA TORONTO</td>\n",
       "      <td>2025</td>\n",
       "      <td>10</td>\n",
       "      <td>5.600000e+07</td>\n",
       "      <td>10 Días</td>\n",
       "      <td>4.39%</td>\n",
       "    </tr>\n",
       "    <tr>\n",
       "      <th>640</th>\n",
       "      <td>344</td>\n",
       "      <td>BARCLAYS BANK, MEXICO</td>\n",
       "      <td>2025</td>\n",
       "      <td>41</td>\n",
       "      <td>4.256098e+07</td>\n",
       "      <td>1 Días</td>\n",
       "      <td>4.22%</td>\n",
       "    </tr>\n",
       "    <tr>\n",
       "      <th>655</th>\n",
       "      <td>350</td>\n",
       "      <td>MIZUHO BANK MEXICO S. A., I. B. M.</td>\n",
       "      <td>2025</td>\n",
       "      <td>44</td>\n",
       "      <td>1.609091e+07</td>\n",
       "      <td>1 Días</td>\n",
       "      <td>4.22%</td>\n",
       "    </tr>\n",
       "    <tr>\n",
       "      <th>581</th>\n",
       "      <td>310</td>\n",
       "      <td>BANCO AZTECA, S.A.</td>\n",
       "      <td>2025</td>\n",
       "      <td>232</td>\n",
       "      <td>4.743739e+07</td>\n",
       "      <td>1 Días</td>\n",
       "      <td>4.22%</td>\n",
       "    </tr>\n",
       "    <tr>\n",
       "      <th>153</th>\n",
       "      <td>17</td>\n",
       "      <td>MUFG BANK MEXICO, S.A.</td>\n",
       "      <td>2025</td>\n",
       "      <td>25</td>\n",
       "      <td>4.160000e+07</td>\n",
       "      <td>1 Días</td>\n",
       "      <td>4.22%</td>\n",
       "    </tr>\n",
       "    <tr>\n",
       "      <th>...</th>\n",
       "      <td>...</td>\n",
       "      <td>...</td>\n",
       "      <td>...</td>\n",
       "      <td>...</td>\n",
       "      <td>...</td>\n",
       "      <td>...</td>\n",
       "      <td>...</td>\n",
       "    </tr>\n",
       "    <tr>\n",
       "      <th>314</th>\n",
       "      <td>83</td>\n",
       "      <td>NAFINSA HOLDING, CORP.</td>\n",
       "      <td>1997</td>\n",
       "      <td>4</td>\n",
       "      <td>6.250000e+06</td>\n",
       "      <td>2 Días</td>\n",
       "      <td>4.69%</td>\n",
       "    </tr>\n",
       "    <tr>\n",
       "      <th>304</th>\n",
       "      <td>82</td>\n",
       "      <td>ROYAL BANK OF SCOTLAND, N.Y.</td>\n",
       "      <td>1997</td>\n",
       "      <td>133</td>\n",
       "      <td>1.780342e+08</td>\n",
       "      <td>2 Días</td>\n",
       "      <td>5.53%</td>\n",
       "    </tr>\n",
       "    <tr>\n",
       "      <th>302</th>\n",
       "      <td>81</td>\n",
       "      <td>JP MORGAN</td>\n",
       "      <td>1997</td>\n",
       "      <td>179</td>\n",
       "      <td>2.388972e+08</td>\n",
       "      <td>1 Días</td>\n",
       "      <td>5.54%</td>\n",
       "    </tr>\n",
       "    <tr>\n",
       "      <th>301</th>\n",
       "      <td>78</td>\n",
       "      <td>BANCO DE ORIENTE, S.A.</td>\n",
       "      <td>1997</td>\n",
       "      <td>2</td>\n",
       "      <td>2.000000e+06</td>\n",
       "      <td>46 Días</td>\n",
       "      <td>6.75%</td>\n",
       "    </tr>\n",
       "    <tr>\n",
       "      <th>0</th>\n",
       "      <td>1</td>\n",
       "      <td>BANK OF TOKYO-MITSUBISHI</td>\n",
       "      <td>1997</td>\n",
       "      <td>236</td>\n",
       "      <td>1.874158e+08</td>\n",
       "      <td>2 Días</td>\n",
       "      <td>5.41%</td>\n",
       "    </tr>\n",
       "  </tbody>\n",
       "</table>\n",
       "<p>657 rows × 7 columns</p>\n",
       "</div>"
      ],
      "text/plain": [
       "     BCO_CLAVE                          BCO_NOMBRE  AÑO_FOPE  transacciones  \\\n",
       "346        215     THE BANK OF NOVA SCOTIA TORONTO      2025             10   \n",
       "640        344               BARCLAYS BANK, MEXICO      2025             41   \n",
       "655        350  MIZUHO BANK MEXICO S. A., I. B. M.      2025             44   \n",
       "581        310                  BANCO AZTECA, S.A.      2025            232   \n",
       "153         17              MUFG BANK MEXICO, S.A.      2025             25   \n",
       "..         ...                                 ...       ...            ...   \n",
       "314         83              NAFINSA HOLDING, CORP.      1997              4   \n",
       "304         82        ROYAL BANK OF SCOTLAND, N.Y.      1997            133   \n",
       "302         81                           JP MORGAN      1997            179   \n",
       "301         78              BANCO DE ORIENTE, S.A.      1997              2   \n",
       "0            1            BANK OF TOKYO-MITSUBISHI      1997            236   \n",
       "\n",
       "       monto_mean plazo_promedio tasa_prom  \n",
       "346  5.600000e+07        10 Días     4.39%  \n",
       "640  4.256098e+07         1 Días     4.22%  \n",
       "655  1.609091e+07         1 Días     4.22%  \n",
       "581  4.743739e+07         1 Días     4.22%  \n",
       "153  4.160000e+07         1 Días     4.22%  \n",
       "..            ...            ...       ...  \n",
       "314  6.250000e+06         2 Días     4.69%  \n",
       "304  1.780342e+08         2 Días     5.53%  \n",
       "302  2.388972e+08         1 Días     5.54%  \n",
       "301  2.000000e+06        46 Días     6.75%  \n",
       "0    1.874158e+08         2 Días     5.41%  \n",
       "\n",
       "[657 rows x 7 columns]"
      ]
     },
     "execution_count": 56,
     "metadata": {},
     "output_type": "execute_result"
    }
   ],
   "source": [
    "agrupado_clientes_año"
   ]
  },
  {
   "cell_type": "code",
   "execution_count": 49,
   "metadata": {},
   "outputs": [],
   "source": [
    "agrupado_clientes_año.to_csv(os.path.join(path_dir_output_transformation, \"agrupado_clientes_año.csv\"), index=False)"
   ]
  },
  {
   "cell_type": "code",
   "execution_count": 51,
   "metadata": {},
   "outputs": [],
   "source": [
    "agrupado_clientes_tra_monto = (\n",
    "    productos_sipe.groupby(['BCO_NOMBRE'], as_index=False)\n",
    "    .agg(\n",
    "        transacciones=('IPE_FOLIO', 'count'),\n",
    "        montos=('IPE_IMPORTE', lambda x: round(x.mean(), 2))\n",
    "    )\n",
    "    .sort_values(by='BCO_NOMBRE', ascending=False)\n",
    ")"
   ]
  },
  {
   "cell_type": "code",
   "execution_count": null,
   "metadata": {},
   "outputs": [],
   "source": [
    "agrupado_clientes_tra_monto.to_csv(os.path.join(path_dir_output_transformation, \"agrupado_clientes_tra_monto.csv\"), index=False)"
   ]
  },
  {
   "cell_type": "code",
   "execution_count": 54,
   "metadata": {},
   "outputs": [],
   "source": [
    "agrupado_clientes_tra_monto_año = (\n",
    "    productos_sipe.groupby(['AÑO_FOPE','BCO_NOMBRE'], as_index=False)\n",
    "    .agg(\n",
    "        transacciones=('IPE_FOLIO', 'count'),\n",
    "        montos=('IPE_IMPORTE', lambda x: round(x.mean(), 2))\n",
    "    )\n",
    "    .sort_values(by='AÑO_FOPE', ascending=False)\n",
    ")"
   ]
  },
  {
   "cell_type": "code",
   "execution_count": null,
   "metadata": {},
   "outputs": [],
   "source": [
    "agrupado_clientes_tra_monto.to_csv(os.path.join(path_dir_output_transformation, \"agrupado_clientes_tra_monto.csv\"), index=False)"
   ]
  }
 ],
 "metadata": {
  "kernelspec": {
   "display_name": "myenv_1",
   "language": "python",
   "name": "python3"
  },
  "language_info": {
   "codemirror_mode": {
    "name": "ipython",
    "version": 3
   },
   "file_extension": ".py",
   "mimetype": "text/x-python",
   "name": "python",
   "nbconvert_exporter": "python",
   "pygments_lexer": "ipython3",
   "version": "3.10.12"
  }
 },
 "nbformat": 4,
 "nbformat_minor": 2
}
