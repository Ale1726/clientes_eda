{
 "cells": [
  {
   "cell_type": "markdown",
   "metadata": {
    "vscode": {
     "languageId": "plaintext"
    }
   },
   "source": [
    "EN ESTE SISTEMA SE ENCONTRO OPERACIONES\n",
    "\n",
    "| Información requerida                   | Información obtenida                              |\n",
    "|-----------------------------------------|--------------------------------------------------|\n",
    "| negocio                                 |             INFORMACION NO ENCONTRADA                                    |\n",
    "| nombre cliente o razón social           |            NOMBRE                                |\n",
    "| número cliente                          |              CLAVE                             |\n",
    "| estatus                                 | WHERE NOMBRE NOT LIKE '%INACTI%' AND NOMBRE NOT LIKE '%APLICA%'  |    \n",
    "| número contrato                         |                      FOLIO DE OPERACION                |\n",
    "| género                                  |                    N/A                              |\n",
    "| fecha_nacimiento o de constitución      |                     DESCONOCIDO                             |\n",
    "| entidad federativa nacimiento           |                 CVE_CIUDAD                                 |\n",
    "| país de nacimiento                      |          CVE_PAIS                                        |\n",
    "| nacionalidad                            |              SE MAPEA CON PAIS              |\n",
    "| profesión                               |                  INFORMACION NO ENCONTRADA                               |\n",
    "| calle                                   |                 DIRECCION                |\n",
    "| número_exterior                         |                    DIRECCION                                  |\n",
    "| número_interior                         |                        DIRECCION                              |\n",
    "| colonia_urbanización                    |                      DIRECCION                                |\n",
    "| delegación_municipio                    |                     DIRECCION                                 |\n",
    "| ciudad_población                        |                         CIUDAD                         |\n",
    "| entidad_federativa                      |    INFORMACION NO ENCONTRADA                               |\n",
    "| código postal                           |INFORMACION NO ENCONTRADA|\n",
    "| país                                    |       INFORMACION NO ENCONTRADA                         |\n",
    "| teléfono                                |    TELEFONO                                |\n",
    "| correo_electrónico                      |              FAX                                    |\n",
    "| rfc                                     |   INFORMACION NO ENCONTRADA  |\n",
    "| curp                                    |              INFORMACION NO ENCONTRADA                                    |\n",
    "| fiel                                    |                         INFORMACION NO ENCONTRADA                         |\n",
    "| representante legal                     |     INFORMACION NO ENCONTRADA                                             |\n",
    "| tipo de persona                         |            PM/SON BANCOS                         |\n",
    "| producto contratado                     |         A DEFINIR POR OPERACIONES          |\n"
   ]
  },
  {
   "cell_type": "code",
   "execution_count": 11,
   "metadata": {},
   "outputs": [],
   "source": [
    "from utils.tf import *\n",
    "from utils.db import *\n",
    "from utils.gd import * \n",
    "from datetime import datetime\n",
    "import cx_Oracle\n",
    "import pandas as pd\n",
    "import os\n"
   ]
  },
  {
   "cell_type": "code",
   "execution_count": 15,
   "metadata": {},
   "outputs": [],
   "source": [
    "df = pd.read_csv(\"/home/ale1726/proyects/datalake/clientes/data/Clientes_activos_SIMS.dat\")"
   ]
  },
  {
   "cell_type": "code",
   "execution_count": 16,
   "metadata": {},
   "outputs": [
    {
     "data": {
      "text/plain": [
       "Index(['NEGOCIO', 'NOMBRE_O_RAZON_SOCIAL', 'NUMERO_CLIENTE', 'ESTATUS',\n",
       "       'NUMERO_CONTRATO', 'GENERO', 'FECHA_NAC_O_CONST',\n",
       "       'ENTIDAD_FEDERATIVA_NACIMIENTO', 'PAIS_DE_NACIMIENTO', 'NACIONALIDAD',\n",
       "       'PROFESION', 'CALLE', 'NUMERO_EXTERIOR', 'NUMERO_INTERIOR',\n",
       "       'COLONIA_URBANIZACION', 'DELEGACION_MUNICIPIO', 'CIUDAD_POBLACION',\n",
       "       'CVE_CIUDAD', 'ENTIDAD_FEDERATIVA', 'CODIGO_POSTAL', 'PAIS', 'TELEFONO',\n",
       "       'CORREO_ELECTRONICO', 'RFC', 'CURP', 'FIEL', 'REPRESENTANTE_LEGAL',\n",
       "       'TIPO_PERSONA', 'PRODUCTO_CONTRATADO', 'SISTEMA_ORIGEN'],\n",
       "      dtype='object')"
      ]
     },
     "execution_count": 16,
     "metadata": {},
     "output_type": "execute_result"
    }
   ],
   "source": [
    "df.columns"
   ]
  },
  {
   "cell_type": "code",
   "execution_count": 20,
   "metadata": {},
   "outputs": [],
   "source": [
    "df[\"CORREO_ELECTRONICO\"] = df[\"CORREO_ELECTRONICO\"].astype(str).apply(lambda x: x if \"@\" in x else pd.NA)"
   ]
  },
  {
   "cell_type": "code",
   "execution_count": 23,
   "metadata": {},
   "outputs": [],
   "source": [
    "df[\"CIUDAD_POBLACION\"] = df.apply(lambda row: \"NEW YORK , N.Y.\" if row[\"CVE_CIUDAD\"] == \"N.Y\" else row[\"CIUDAD_POBLACION\"], axis= 1)"
   ]
  },
  {
   "cell_type": "code",
   "execution_count": 24,
   "metadata": {},
   "outputs": [],
   "source": [
    "df = df.drop(columns=['CVE_CIUDAD'])"
   ]
  },
  {
   "cell_type": "code",
   "execution_count": 33,
   "metadata": {},
   "outputs": [],
   "source": [
    "pais_a_nacionalidad = {\n",
    "    \"ESTADOS UNIDOS\": \"ESTADOUNIDENSE\",\n",
    "    \"MEXICO\": \"MEXICANO\",\n",
    "    \"GRAN BRETA&A\": \"BRITÁNICO\",\n",
    "    \"FRANCIA\": \"FRANCÉS\",\n",
    "    \"HONG KONG\": \"HONGKONÉS\",\n",
    "    \"LUXEMBURGO\": \"LUXEMBURGUÉS\"\n",
    "}"
   ]
  },
  {
   "cell_type": "code",
   "execution_count": 34,
   "metadata": {},
   "outputs": [],
   "source": [
    "df[\"NACIONALIDAD\"] =  df[\"PAIS\"].apply(lambda x: pais_a_nacionalidad[x] if x in pais_a_nacionalidad.keys() else pd.NA)"
   ]
  },
  {
   "cell_type": "code",
   "execution_count": 32,
   "metadata": {},
   "outputs": [
    {
     "data": {
      "text/plain": [
       "PAIS\n",
       "ESTADOS UNIDOS    59\n",
       "MEXICO            17\n",
       "GRAN BRETA&A       7\n",
       "FRANCIA            1\n",
       "HONG KONG          1\n",
       "LUXEMBURGO         1\n",
       "Name: count, dtype: int64"
      ]
     },
     "execution_count": 32,
     "metadata": {},
     "output_type": "execute_result"
    }
   ],
   "source": [
    "df.value_counts('PAIS')"
   ]
  },
  {
   "cell_type": "code",
   "execution_count": null,
   "metadata": {},
   "outputs": [],
   "source": [
    "df"
   ]
  },
  {
   "cell_type": "code",
   "execution_count": 14,
   "metadata": {},
   "outputs": [],
   "source": [
    "NOMBRE_NO_VALIDOS = [\"NO APLICA\", \"N/A\"]"
   ]
  }
 ],
 "metadata": {
  "kernelspec": {
   "display_name": "myenv_1",
   "language": "python",
   "name": "python3"
  },
  "language_info": {
   "codemirror_mode": {
    "name": "ipython",
    "version": 3
   },
   "file_extension": ".py",
   "mimetype": "text/x-python",
   "name": "python",
   "nbconvert_exporter": "python",
   "pygments_lexer": "ipython3",
   "version": "3.10.12"
  }
 },
 "nbformat": 4,
 "nbformat_minor": 2
}
