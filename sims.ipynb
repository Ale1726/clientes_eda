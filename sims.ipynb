{
 "cells": [
  {
   "cell_type": "markdown",
   "metadata": {
    "vscode": {
     "languageId": "plaintext"
    }
   },
   "source": [
    "EN ESTE SISTEMA SE ENCONTRO OPERACIONES\n",
    "\n",
    "| Información requerida                   | Información obtenida                              |\n",
    "|-----------------------------------------|--------------------------------------------------|\n",
    "| negocio                                 |             INFORMACION NO ENCONTRADA                                    |\n",
    "| nombre cliente o razón social           |            NOMBRE                                |\n",
    "| número cliente                          |              CLAVE                             |\n",
    "| estatus                                 | WHERE NOMBRE NOT LIKE '%INACTI%' AND NOMBRE NOT LIKE '%APLICA%'  |    \n",
    "| número contrato                         |                      FOLIO DE OPERACION                |\n",
    "| género                                  |                    N/A                              |\n",
    "| fecha_nacimiento o de constitución      |                     DESCONOCIDO                             |\n",
    "| entidad federativa nacimiento           |                 CVE_CIUDAD                                 |\n",
    "| país de nacimiento                      |          CVE_PAIS                                        |\n",
    "| nacionalidad                            |              SE MAPEA CON PAIS              |\n",
    "| profesión                               |                  INFORMACION NO ENCONTRADA                               |\n",
    "| calle                                   |                 DIRECCION                |\n",
    "| número_exterior                         |                    DIRECCION                                  |\n",
    "| número_interior                         |                        DIRECCION                              |\n",
    "| colonia_urbanización                    |                      DIRECCION                                |\n",
    "| delegación_municipio                    |                     DIRECCION                                 |\n",
    "| ciudad_población                        |                         CIUDAD                         |\n",
    "| entidad_federativa                      |    INFORMACION NO ENCONTRADA                               |\n",
    "| código postal                           |INFORMACION NO ENCONTRADA|\n",
    "| país                                    |       INFORMACION NO ENCONTRADA                         |\n",
    "| teléfono                                |    TELEFONO                                |\n",
    "| correo_electrónico                      |              FAX                                    |\n",
    "| rfc                                     |   INFORMACION NO ENCONTRADA  |\n",
    "| curp                                    |              INFORMACION NO ENCONTRADA                                    |\n",
    "| fiel                                    |                         INFORMACION NO ENCONTRADA                         |\n",
    "| representante legal                     |     INFORMACION NO ENCONTRADA                                             |\n",
    "| tipo de persona                         |            PM/SON BANCOS                         |\n",
    "| producto contratado                     |         A DEFINIR POR OPERACIONES          |\n"
   ]
  },
  {
   "cell_type": "code",
   "execution_count": 3,
   "metadata": {},
   "outputs": [],
   "source": [
    "from utils.tf import *\n",
    "from utils.db import *\n",
    "from utils.gd import * \n",
    "from utils.clt_repetidos import *\n",
    "from datetime import datetime\n",
    "import cx_Oracle\n",
    "import pandas as pd\n",
    "import os\n",
    "from rapidfuzz import process, fuzz\n",
    "import numpy as np\n"
   ]
  },
  {
   "cell_type": "code",
   "execution_count": 12,
   "metadata": {},
   "outputs": [],
   "source": [
    "df = pd.read_csv(\"/home/ale1726/proyects/datalake/clientes/data/Clientes_activos_SIMS.dat\")"
   ]
  },
  {
   "cell_type": "code",
   "execution_count": 13,
   "metadata": {},
   "outputs": [],
   "source": [
    "df[\"RFC\"] = df[\"RFC\"].apply(lambda x: x if pd.notna(x) else \"XXXXXXXXXXXXX\")"
   ]
  },
  {
   "cell_type": "code",
   "execution_count": 5,
   "metadata": {},
   "outputs": [
    {
     "data": {
      "text/plain": [
       "Index(['NEGOCIO', 'NOMBRE_O_RAZON_SOCIAL', 'NUMERO_CLIENTE', 'ESTATUS',\n",
       "       'NUMERO_CONTRATO', 'GENERO', 'FECHA_NAC_O_CONST',\n",
       "       'ENTIDAD_FEDERATIVA_NACIMIENTO', 'PAIS_DE_NACIMIENTO', 'NACIONALIDAD',\n",
       "       'PROFESION', 'CALLE', 'NUMERO_EXTERIOR', 'NUMERO_INTERIOR',\n",
       "       'COLONIA_URBANIZACION', 'DELEGACION_MUNICIPIO', 'CIUDAD_POBLACION',\n",
       "       'CVE_CIUDAD', 'ENTIDAD_FEDERATIVA', 'CODIGO_POSTAL', 'PAIS', 'TELEFONO',\n",
       "       'CORREO_ELECTRONICO', 'RFC', 'CURP', 'FIEL', 'REPRESENTANTE_LEGAL',\n",
       "       'TIPO_PERSONA', 'PRODUCTO_CONTRATADO', 'SISTEMA_ORIGEN'],\n",
       "      dtype='object')"
      ]
     },
     "execution_count": 5,
     "metadata": {},
     "output_type": "execute_result"
    }
   ],
   "source": [
    "df.columns"
   ]
  },
  {
   "cell_type": "code",
   "execution_count": 14,
   "metadata": {},
   "outputs": [],
   "source": [
    "df[\"CORREO_ELECTRONICO\"] = df[\"CORREO_ELECTRONICO\"].astype(str).apply(lambda x: x if \"@\" in x else pd.NA)"
   ]
  },
  {
   "cell_type": "code",
   "execution_count": 15,
   "metadata": {},
   "outputs": [],
   "source": [
    "df[\"CIUDAD_POBLACION\"] = df.apply(lambda row: \"NEW YORK , N.Y.\" if row[\"CVE_CIUDAD\"] == \"N.Y\" else row[\"CIUDAD_POBLACION\"], axis= 1)"
   ]
  },
  {
   "cell_type": "code",
   "execution_count": 16,
   "metadata": {},
   "outputs": [],
   "source": [
    "df = df.drop(columns=['CVE_CIUDAD'])"
   ]
  },
  {
   "cell_type": "code",
   "execution_count": 17,
   "metadata": {},
   "outputs": [],
   "source": [
    "pais_a_nacionalidad = {\n",
    "    \"ESTADOS UNIDOS\": \"ESTADOUNIDENSE\",\n",
    "    \"MEXICO\": \"MEXICANO\",\n",
    "    \"GRAN BRETA&A\": \"BRITÁNICO\",\n",
    "    \"FRANCIA\": \"FRANCÉS\",\n",
    "    \"HONG KONG\": \"HONGKONÉS\",\n",
    "    \"LUXEMBURGO\": \"LUXEMBURGUÉS\"\n",
    "}"
   ]
  },
  {
   "cell_type": "code",
   "execution_count": 18,
   "metadata": {},
   "outputs": [],
   "source": [
    "df[\"NACIONALIDAD\"] =  df[\"PAIS\"].apply(lambda x: pais_a_nacionalidad[x] if x in pais_a_nacionalidad.keys() else pd.NA)"
   ]
  },
  {
   "cell_type": "code",
   "execution_count": 19,
   "metadata": {},
   "outputs": [
    {
     "data": {
      "text/plain": [
       "PAIS\n",
       "ESTADOS UNIDOS    59\n",
       "MEXICO            17\n",
       "GRAN BRETA&A       7\n",
       "FRANCIA            1\n",
       "HONG KONG          1\n",
       "LUXEMBURGO         1\n",
       "Name: count, dtype: int64"
      ]
     },
     "execution_count": 19,
     "metadata": {},
     "output_type": "execute_result"
    }
   ],
   "source": [
    "df.value_counts('PAIS')"
   ]
  },
  {
   "cell_type": "code",
   "execution_count": 23,
   "metadata": {},
   "outputs": [],
   "source": [
    "df[\"TELEFONO\"] = df[\"TELEFONO\"].apply(lambda x: x.replace(\"-\", \"\") if pd.notna(x) else x)"
   ]
  },
  {
   "cell_type": "code",
   "execution_count": 8,
   "metadata": {},
   "outputs": [
    {
     "name": "stdout",
     "output_type": "stream",
     "text": [
      "NOMBRE_O_RAZON_SOCIAL\n",
      "BANCO NACIONAL DE MEXICO, S.A.                   2\n",
      "INDEVAL, NAFIN                                   2\n",
      "NAFIN/CEDEL                                      2\n",
      "BANCO BILVAO VISCAYA                             1\n",
      "NAFIN, LONDON                                    1\n",
      "SCOTIA BANK                                      1\n",
      "FIRST UNION BANK                                 1\n",
      "BANCO NACIONAL DE COMERCIO EXTERIOR,SNC          1\n",
      "BANCOMER GEOGETOWN                               1\n",
      "AJG INVESTMENTS HONG KONG LTD (MERRILL LYNCH)    1\n",
      "SOCIETE GENERALE PARIS  - SFI -                  1\n",
      "CBI ( PERSHING)                                  1\n",
      "BANK OF BOSTON, BOSTON                           1\n",
      "PRUDENCIAL SEC.                                  1\n",
      "BANCO MEXICANO SA GEORGETOWN                     1\n",
      "DOMINION SECURITIES, TORONTO                     1\n",
      "BANCO INBURSA                                    1\n",
      "FIRST CAPITAL SECURITIES                         1\n",
      "EURO BROKERS                                     1\n",
      "ENLACE INT SA DE CV                              1\n",
      "ING AMSTERDAM HOLANDA                            1\n",
      "DEUTCHE BANK                                     1\n",
      "UBS AG                                           1\n",
      "BANCA SERFIN SA , NEW YORK                       1\n",
      "BANKERS TRUST COMPANY, NEW YORK                  1\n",
      "LEHMAN BROTHERS, NEW YORK                        1\n",
      "CHASE MANHATTAN BANK, NEW YORK                   1\n",
      "PAINE WEBBER, NEW YORK                           1\n",
      "SWISS BANK, NEW YORK                             1\n",
      "NAFIN SECURITIES, NEW YORK                       1\n",
      "MORGAN STANLEY & CO. INCORPORATED,  NEW YORK     1\n",
      "BEAR STEARNS, NEW YORK                           1\n",
      "MORGAN GRENFELL, NEW YORK                        1\n",
      "MERRILL LYNCH, NEW YORK                          1\n",
      "GOLDMAN SACHS & CO. LLC                          1\n",
      "BANKERS TRUST, N.Y.                              1\n",
      "SALOMON BROTHERS & SMITH AND BARNEY              1\n",
      "SMITH BARNEY, NEW YORK                           1\n",
      "DAIWA SECURITIES, NEW YORK                       1\n",
      "CREDIT SUISSE FIRST BOSTON, MEXICO               1\n",
      "ING BARING, NEW YORK                             1\n",
      "WEST MERCHANT, NEW YORK                          1\n",
      "JP MORGAN, NEW YORK                              1\n",
      "CREDIT LYONEE,NEW YORK                           1\n",
      "BANK OF AMERICA MERILL LYCH, MEXICO              1\n",
      "SANTANDER MEXICO                                 1\n",
      "BARCLAYS BANK, PLC LONDON                        1\n",
      "REPUBLIC NATIONAL BANK OF NEW YORK               1\n",
      "WEST LANDESBANK                                  1\n",
      "REFCO SECURITIES INC.                            1\n",
      "BCO.BILBAO VISCAYA N.Y.                          1\n",
      "BARCLAYS BANK, BBPLC, NEW YORK                   1\n",
      "STANDARD, NEW YORK                               1\n",
      "CHELSEA FINANCIAL SERVICES L.L.C.                1\n",
      "GARBAN INTERCAPITAL                              1\n",
      "OPPENHEIMER & C.                                 1\n",
      "TRADITION NORTH AMERICA                          1\n",
      "JEFFERIES & CO. INC                              1\n",
      "HSBC MEXICO                                      1\n",
      "BNP PARIBAS, NEW YORK                            1\n",
      "MIZUHO SECURITIES USA INC.                       1\n",
      "DRESDNER BANK                                    1\n",
      "BANCO NACIONAL MEXICO, LONDON                    1\n",
      "CHASE SECURITIES, NEW YORK                       1\n",
      "BANK OF MONTREAL                                 1\n",
      "GLOBAL CURRENCIES LIMITED                        1\n",
      "BANK OF MONTREAL, LONDRES                        1\n",
      "DEUTSCHE BANK                                    1\n",
      "BANK OF NEW YORK                                 1\n",
      "PETROLEOS MEXICANOS                              1\n",
      "BANCO INTERNACIONAL -CUSTODIO M.EUROCL.-         1\n",
      "EMISOR PEMEX                                     1\n",
      "MONEX CASA DE BOLSA C.A. DE C.V.                 1\n",
      "BCP SECURITIES, LLC                              1\n",
      "CASA DE BOLSA FINAMEX S.A.B. DE C.V.             1\n",
      "NACIONAL FINANCIERA SNC                          1\n",
      "EMISOR MEXCAT                                    1\n",
      "BARCLAYS BANK MÉXICO                             1\n",
      "BANK OF AMERICA MERRIL LYNCH SEC                 1\n",
      "BULLTICK CAPITAL MARKETS                         1\n",
      "ULTRALAT CORP US                                 1\n",
      "BANK OF AMERICA SECURITIES LLC, MIAMI            1\n",
      "VECTORGLOBAL WMG                                 1\n",
      "INVEX INC, MIAMI                                 1\n",
      "VESTRUST SEC.                                    1\n",
      "ICAP CORPORATES LLC                              1\n",
      "ABN AMRO BANK, AMSTERDAM                         1\n",
      "CITIBANK, NEW YORK                               1\n",
      "BANCOMER, S.A. -CUSTODIO M.EUROCLEAR-            1\n",
      "BANCO INVERLAT -CUSTODIO M.EUROCLEAR-            1\n",
      "CANTOR FITZGERALD, NEW YORK                      1\n"
     ]
    }
   ],
   "source": [
    "print(df[\"NOMBRE_O_RAZON_SOCIAL\"].value_counts().to_string(max_rows=None))"
   ]
  },
  {
   "cell_type": "code",
   "execution_count": 14,
   "metadata": {},
   "outputs": [],
   "source": [
    "NOMBRE_NO_VALIDOS = [\"NO APLICA\", \"N/A\"]"
   ]
  },
  {
   "cell_type": "code",
   "execution_count": 24,
   "metadata": {},
   "outputs": [
    {
     "name": "stderr",
     "output_type": "stream",
     "text": [
      "/home/ale1726/proyects/datalake/clientes/clientes_eda/utils/clt_repetidos.py:182: FutureWarning: Downcasting behavior in `replace` is deprecated and will be removed in a future version. To retain the old behavior, explicitly call `result.infer_objects(copy=False)`. To opt-in to the future behavior, set `pd.set_option('future.no_silent_downcasting', True)`\n",
      "  df_resul = df_resul.replace(\"-\", np.nan)\n"
     ]
    }
   ],
   "source": [
    "clt_repetidos = compara_nombres(df, df, \"NOMBRE_O_RAZON_SOCIAL\", \"NOMBRE_O_RAZON_SOCIAL\",\"NUMERO_CLIENTE\",\"NUMERO_CLIENTE\", 95)\n",
    "df_resul, drops_ids = agregar_asociaciones_clientes(clt_repetidos,df)"
   ]
  },
  {
   "cell_type": "code",
   "execution_count": 25,
   "metadata": {},
   "outputs": [
    {
     "data": {
      "text/html": [
       "<div>\n",
       "<style scoped>\n",
       "    .dataframe tbody tr th:only-of-type {\n",
       "        vertical-align: middle;\n",
       "    }\n",
       "\n",
       "    .dataframe tbody tr th {\n",
       "        vertical-align: top;\n",
       "    }\n",
       "\n",
       "    .dataframe thead th {\n",
       "        text-align: right;\n",
       "    }\n",
       "</style>\n",
       "<table border=\"1\" class=\"dataframe\">\n",
       "  <thead>\n",
       "    <tr style=\"text-align: right;\">\n",
       "      <th></th>\n",
       "      <th>ID1</th>\n",
       "      <th>NUM_CLIENTE_1</th>\n",
       "      <th>CLIENTE_1</th>\n",
       "      <th>ID2</th>\n",
       "      <th>NUM_CLIENTE_2</th>\n",
       "      <th>CLIENTE_2</th>\n",
       "    </tr>\n",
       "  </thead>\n",
       "  <tbody>\n",
       "    <tr>\n",
       "      <th>22</th>\n",
       "      <td>21</td>\n",
       "      <td>DEUTSC</td>\n",
       "      <td>DEUTSCHE BANK</td>\n",
       "      <td>50</td>\n",
       "      <td>DEUT</td>\n",
       "      <td>DEUTCHE BANK</td>\n",
       "    </tr>\n",
       "    <tr>\n",
       "      <th>48</th>\n",
       "      <td>46</td>\n",
       "      <td>BANMEX</td>\n",
       "      <td>BANCO NACIONAL DE MEXICO, S.A.</td>\n",
       "      <td>57</td>\n",
       "      <td>BANAME</td>\n",
       "      <td>BANCO NACIONAL DE MEXICO, S.A.</td>\n",
       "    </tr>\n",
       "    <tr>\n",
       "      <th>51</th>\n",
       "      <td>48</td>\n",
       "      <td>8330</td>\n",
       "      <td>INDEVAL, NAFIN</td>\n",
       "      <td>49</td>\n",
       "      <td>8326</td>\n",
       "      <td>INDEVAL, NAFIN</td>\n",
       "    </tr>\n",
       "    <tr>\n",
       "      <th>61</th>\n",
       "      <td>55</td>\n",
       "      <td>29653</td>\n",
       "      <td>NAFIN/CEDEL</td>\n",
       "      <td>62</td>\n",
       "      <td>37575</td>\n",
       "      <td>NAFIN/CEDEL</td>\n",
       "    </tr>\n",
       "  </tbody>\n",
       "</table>\n",
       "</div>"
      ],
      "text/plain": [
       "    ID1 NUM_CLIENTE_1                       CLIENTE_1  ID2 NUM_CLIENTE_2  \\\n",
       "22   21        DEUTSC                   DEUTSCHE BANK   50          DEUT   \n",
       "48   46        BANMEX  BANCO NACIONAL DE MEXICO, S.A.   57        BANAME   \n",
       "51   48          8330                  INDEVAL, NAFIN   49          8326   \n",
       "61   55         29653                     NAFIN/CEDEL   62         37575   \n",
       "\n",
       "                         CLIENTE_2  \n",
       "22                    DEUTCHE BANK  \n",
       "48  BANCO NACIONAL DE MEXICO, S.A.  \n",
       "51                  INDEVAL, NAFIN  \n",
       "61                     NAFIN/CEDEL  "
      ]
     },
     "execution_count": 25,
     "metadata": {},
     "output_type": "execute_result"
    }
   ],
   "source": [
    "clt_repetidos"
   ]
  },
  {
   "cell_type": "code",
   "execution_count": 26,
   "metadata": {},
   "outputs": [
    {
     "data": {
      "text/html": [
       "<div>\n",
       "<style scoped>\n",
       "    .dataframe tbody tr th:only-of-type {\n",
       "        vertical-align: middle;\n",
       "    }\n",
       "\n",
       "    .dataframe tbody tr th {\n",
       "        vertical-align: top;\n",
       "    }\n",
       "\n",
       "    .dataframe thead th {\n",
       "        text-align: right;\n",
       "    }\n",
       "</style>\n",
       "<table border=\"1\" class=\"dataframe\">\n",
       "  <thead>\n",
       "    <tr style=\"text-align: right;\">\n",
       "      <th></th>\n",
       "      <th>NEGOCIO</th>\n",
       "      <th>NOMBRE_O_RAZON_SOCIAL</th>\n",
       "      <th>NUMERO_CLIENTE</th>\n",
       "      <th>ESTATUS</th>\n",
       "      <th>NUMERO_CONTRATO</th>\n",
       "      <th>GENERO</th>\n",
       "      <th>FECHA_NAC_O_CONST</th>\n",
       "      <th>ENTIDAD_FEDERATIVA_NACIMIENTO</th>\n",
       "      <th>PAIS_DE_NACIMIENTO</th>\n",
       "      <th>NACIONALIDAD</th>\n",
       "      <th>...</th>\n",
       "      <th>PAIS</th>\n",
       "      <th>TELEFONO</th>\n",
       "      <th>CORREO_ELECTRONICO</th>\n",
       "      <th>RFC</th>\n",
       "      <th>CURP</th>\n",
       "      <th>FIEL</th>\n",
       "      <th>REPRESENTANTE_LEGAL</th>\n",
       "      <th>TIPO_PERSONA</th>\n",
       "      <th>PRODUCTO_CONTRATADO</th>\n",
       "      <th>SISTEMA_ORIGEN</th>\n",
       "    </tr>\n",
       "  </thead>\n",
       "  <tbody>\n",
       "    <tr>\n",
       "      <th>0</th>\n",
       "      <td>NaN</td>\n",
       "      <td>DEUTSCHE BANK</td>\n",
       "      <td>DEUTSC, DEUT</td>\n",
       "      <td>VIGENTE</td>\n",
       "      <td>NaN</td>\n",
       "      <td>NaN</td>\n",
       "      <td>NaN</td>\n",
       "      <td>NaN</td>\n",
       "      <td>NaN</td>\n",
       "      <td>MEXICANO, ESTADOUNIDENSE</td>\n",
       "      <td>...</td>\n",
       "      <td>MEXICO, ESTADOS UNIDOS</td>\n",
       "      <td>52018148</td>\n",
       "      <td>NaN</td>\n",
       "      <td>XXXXXXXXXXXXX</td>\n",
       "      <td>NaN</td>\n",
       "      <td>NaN</td>\n",
       "      <td>NaN</td>\n",
       "      <td>PM</td>\n",
       "      <td>NaN</td>\n",
       "      <td>SIMS</td>\n",
       "    </tr>\n",
       "    <tr>\n",
       "      <th>1</th>\n",
       "      <td>NaN</td>\n",
       "      <td>BANCO NACIONAL DE MEXICO, S.A.</td>\n",
       "      <td>BANMEX, BANAME</td>\n",
       "      <td>VIGENTE</td>\n",
       "      <td>NaN</td>\n",
       "      <td>NaN</td>\n",
       "      <td>NaN</td>\n",
       "      <td>NaN</td>\n",
       "      <td>NaN</td>\n",
       "      <td>MEXICANO</td>\n",
       "      <td>...</td>\n",
       "      <td>MEXICO</td>\n",
       "      <td>12263664, 12263177</td>\n",
       "      <td>sduarte@banamex.com, yannick.polaco@citi.com</td>\n",
       "      <td>XXXXXXXXXXXXX</td>\n",
       "      <td>NaN</td>\n",
       "      <td>NaN</td>\n",
       "      <td>NaN</td>\n",
       "      <td>PM</td>\n",
       "      <td>NaN</td>\n",
       "      <td>SIMS</td>\n",
       "    </tr>\n",
       "    <tr>\n",
       "      <th>2</th>\n",
       "      <td>NaN</td>\n",
       "      <td>INDEVAL, NAFIN</td>\n",
       "      <td>8330, 8326</td>\n",
       "      <td>VIGENTE</td>\n",
       "      <td>NaN</td>\n",
       "      <td>NaN</td>\n",
       "      <td>NaN</td>\n",
       "      <td>NaN</td>\n",
       "      <td>NaN</td>\n",
       "      <td>MEXICANO</td>\n",
       "      <td>...</td>\n",
       "      <td>MEXICO</td>\n",
       "      <td>NaN</td>\n",
       "      <td>NaN</td>\n",
       "      <td>XXXXXXXXXXXXX</td>\n",
       "      <td>NaN</td>\n",
       "      <td>NaN</td>\n",
       "      <td>NaN</td>\n",
       "      <td>PM</td>\n",
       "      <td>NaN</td>\n",
       "      <td>SIMS</td>\n",
       "    </tr>\n",
       "    <tr>\n",
       "      <th>3</th>\n",
       "      <td>NaN</td>\n",
       "      <td>NAFIN/CEDEL</td>\n",
       "      <td>29653, 37575</td>\n",
       "      <td>VIGENTE</td>\n",
       "      <td>NaN</td>\n",
       "      <td>NaN</td>\n",
       "      <td>NaN</td>\n",
       "      <td>NaN</td>\n",
       "      <td>NaN</td>\n",
       "      <td>MEXICANO</td>\n",
       "      <td>...</td>\n",
       "      <td>MEXICO</td>\n",
       "      <td>NaN</td>\n",
       "      <td>NaN</td>\n",
       "      <td>XXXXXXXXXXXXX</td>\n",
       "      <td>NaN</td>\n",
       "      <td>NaN</td>\n",
       "      <td>NaN</td>\n",
       "      <td>PM</td>\n",
       "      <td>NaN</td>\n",
       "      <td>SIMS</td>\n",
       "    </tr>\n",
       "  </tbody>\n",
       "</table>\n",
       "<p>4 rows × 29 columns</p>\n",
       "</div>"
      ],
      "text/plain": [
       "   NEGOCIO           NOMBRE_O_RAZON_SOCIAL  NUMERO_CLIENTE  ESTATUS  \\\n",
       "0      NaN                   DEUTSCHE BANK    DEUTSC, DEUT  VIGENTE   \n",
       "1      NaN  BANCO NACIONAL DE MEXICO, S.A.  BANMEX, BANAME  VIGENTE   \n",
       "2      NaN                  INDEVAL, NAFIN      8330, 8326  VIGENTE   \n",
       "3      NaN                     NAFIN/CEDEL    29653, 37575  VIGENTE   \n",
       "\n",
       "   NUMERO_CONTRATO  GENERO  FECHA_NAC_O_CONST  ENTIDAD_FEDERATIVA_NACIMIENTO  \\\n",
       "0              NaN     NaN                NaN                            NaN   \n",
       "1              NaN     NaN                NaN                            NaN   \n",
       "2              NaN     NaN                NaN                            NaN   \n",
       "3              NaN     NaN                NaN                            NaN   \n",
       "\n",
       "   PAIS_DE_NACIMIENTO              NACIONALIDAD  ...                    PAIS  \\\n",
       "0                 NaN  MEXICANO, ESTADOUNIDENSE  ...  MEXICO, ESTADOS UNIDOS   \n",
       "1                 NaN                  MEXICANO  ...                  MEXICO   \n",
       "2                 NaN                  MEXICANO  ...                  MEXICO   \n",
       "3                 NaN                  MEXICANO  ...                  MEXICO   \n",
       "\n",
       "             TELEFONO                            CORREO_ELECTRONICO  \\\n",
       "0            52018148                                           NaN   \n",
       "1  12263664, 12263177  sduarte@banamex.com, yannick.polaco@citi.com   \n",
       "2                 NaN                                           NaN   \n",
       "3                 NaN                                           NaN   \n",
       "\n",
       "             RFC  CURP  FIEL REPRESENTANTE_LEGAL  TIPO_PERSONA  \\\n",
       "0  XXXXXXXXXXXXX   NaN   NaN                 NaN            PM   \n",
       "1  XXXXXXXXXXXXX   NaN   NaN                 NaN            PM   \n",
       "2  XXXXXXXXXXXXX   NaN   NaN                 NaN            PM   \n",
       "3  XXXXXXXXXXXXX   NaN   NaN                 NaN            PM   \n",
       "\n",
       "   PRODUCTO_CONTRATADO SISTEMA_ORIGEN  \n",
       "0                  NaN           SIMS  \n",
       "1                  NaN           SIMS  \n",
       "2                  NaN           SIMS  \n",
       "3                  NaN           SIMS  \n",
       "\n",
       "[4 rows x 29 columns]"
      ]
     },
     "execution_count": 26,
     "metadata": {},
     "output_type": "execute_result"
    }
   ],
   "source": [
    "df_resul"
   ]
  },
  {
   "cell_type": "code",
   "execution_count": 27,
   "metadata": {},
   "outputs": [
    {
     "name": "stderr",
     "output_type": "stream",
     "text": [
      "/home/ale1726/proyects/datalake/clientes/clientes_eda/utils/clt_repetidos.py:182: FutureWarning: Downcasting behavior in `replace` is deprecated and will be removed in a future version. To retain the old behavior, explicitly call `result.infer_objects(copy=False)`. To opt-in to the future behavior, set `pd.set_option('future.no_silent_downcasting', True)`\n",
      "  df_resul = df_resul.replace(\"-\", np.nan)\n"
     ]
    }
   ],
   "source": [
    "clt_repetidos = compara_nombres(df, df, \"NOMBRE_O_RAZON_SOCIAL\", \"NOMBRE_O_RAZON_SOCIAL\",\"NUMERO_CLIENTE\",\"NUMERO_CLIENTE\", 95)\n",
    "df_resul, drops_ids = agregar_asociaciones_clientes(clt_repetidos,df)\n",
    "df = df.drop(drops_ids)\n",
    "df = pd.concat([df, df_resul], ignore_index=True)\n",
    "df = df.sort_values(\"NOMBRE_O_RAZON_SOCIAL\")"
   ]
  },
  {
   "cell_type": "code",
   "execution_count": 28,
   "metadata": {},
   "outputs": [],
   "source": [
    "name_archivo = os.path.join(\"/home/ale1726/proyects/datalake/clientes/data/ETL\",\"CLientesT_SIMS.csv\")\n",
    "df.to_csv(name_archivo,index=False)"
   ]
  }
 ],
 "metadata": {
  "kernelspec": {
   "display_name": "myenv_1",
   "language": "python",
   "name": "python3"
  },
  "language_info": {
   "codemirror_mode": {
    "name": "ipython",
    "version": 3
   },
   "file_extension": ".py",
   "mimetype": "text/x-python",
   "name": "python",
   "nbconvert_exporter": "python",
   "pygments_lexer": "ipython3",
   "version": "3.10.12"
  }
 },
 "nbformat": 4,
 "nbformat_minor": 2
}
