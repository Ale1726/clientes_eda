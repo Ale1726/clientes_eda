{
 "cells": [
  {
   "cell_type": "code",
   "execution_count": 3,
   "metadata": {},
   "outputs": [],
   "source": [
    "from utils.tf import *\n",
    "from utils.db import *\n",
    "from utils.gd import * \n",
    "from utils.clt_repetidos import *\n",
    "from datetime import datetime\n",
    "import cx_Oracle\n",
    "import pandas as pd\n",
    "import os\n",
    "import plotly.express as px\n",
    "import plotly.graph_objects as go\n",
    "from utils.clt_repetidos import * \n",
    "from ydata_profiling import ProfileReport\n",
    "import dask.dataframe as dd\n",
    "import gc\n",
    "import matplotlib.pyplot as plt"
   ]
  },
  {
   "cell_type": "markdown",
   "metadata": {},
   "source": [
    "# Get the data and create the output directory (Extraction)"
   ]
  },
  {
   "cell_type": "code",
   "execution_count": 1,
   "metadata": {},
   "outputs": [],
   "source": [
    "path_dir_data = \"/home/ale1726/proyects/datalake/clientes/data/productos/SIMS/data\""
   ]
  },
  {
   "cell_type": "code",
   "execution_count": 4,
   "metadata": {},
   "outputs": [],
   "source": [
    "# Obtenemos la fecha actual para crear un directorio\n",
    "# donde se guardaran los archivos de salida\n",
    "date_now = datetime.now().strftime(\"%d_%m_%Y\") \n",
    "path_dir_today =  os.path.join(path_dir_data, date_now)\n",
    "\n",
    "# Creamos el directorio si no existe\n",
    "os.makedirs(path_dir_today, exist_ok=True)"
   ]
  },
  {
   "cell_type": "code",
   "execution_count": 5,
   "metadata": {},
   "outputs": [],
   "source": [
    "query_productos_sims = \"\"\" \n",
    "WITH CLIENTES_ACTIVOS AS (\n",
    "    SELECT CLAVE, NOMBRE\n",
    "    FROM SIMS.SIMS_CONTRAPARTES \n",
    "    WHERE NOMBRE NOT LIKE '%INACTI%' AND NOMBRE NOT LIKE '%APLICA%'\n",
    "), MOVIMIENTO AS (\n",
    "    SELECT SM.*, CAT.DESCRIPCION MOVIMIENTO\n",
    "    FROM SIMS.SIMS_MOVIMIENTOS SM\n",
    "    LEFT JOIN SIMS.SIMS_TIPOS_MOVTOS CAT ON CAT.CLAVE = SM.TIPO_MOVTO\n",
    "),  MOVIMIENTO_C2 AS (\n",
    "    SELECT SM.*, CAT.DESCRIPCION PORTAFOLIO\n",
    "    FROM MOVIMIENTO SM\n",
    "    LEFT JOIN SIMS.SIMS_TIPOS_PORTAFOLIOS CAT ON CAT.TIPO = SM.TIPO_PORTAFOLIO\n",
    "), MOVIMENTO_C3 AS (\n",
    "\tSELECT SM.*, CAT.DESCRIPCION VAR_MOVIMIENTO\n",
    "    FROM MOVIMIENTO_C2 SM\n",
    "    LEFT JOIN SIMS.SIMS_VARIANTES_MOVTOS CAT ON ( CAT.TIPO = SM.TIPO_MOVTO  AND CAT.CLAVE = SM.VARIANTE_MOVTO)\n",
    "), TAB_FINAL AS (\n",
    "\tSELECT CLAVE,NOMBRE,FOLIO,TIPO_MOVTO,MOVIMIENTO, TIPO_PORTAFOLIO, PORTAFOLIO, VARIANTE_MOVTO, VAR_MOVIMIENTO, FECHA_OPERACION,FECHA_VALOR,NUMERO_EMISION,\n",
    "\tFECHA_CUPON_ACTUAL,TASA,DIAS,PRECIO,VALOR_NOMINAL,VALOR_NOMINAL_AMORTIZADO,VALOR_COSTO,INTERESES_ACUMULADOS,\n",
    "\tMONTO_MOVIMIENTO,MONTO_VRR,VALOR_NOMINAL_DISPONIBLE,INTERESES_ANTICIPADOS,INTERESES_PROVISIONADOS,INTERESES_COMPLEMENTO,\n",
    "\tUTILIDAD,PERDIDA,FOLIO_COMPRA,SUBFOLIO_COMPRA,ESTATUS_MOVTO,TIPO_CAMBIO_COMPRA,TIPO_CAMBIO_VENTA,TITULOS_VENCIMIENTO,\n",
    "\tFECHA_LIQUIDA,NUMERO_TITULOS,PRECIO_SUCIO,FECHA_LIQUIDACION\n",
    "\tFROM CLIENTES_ACTIVOS AC\n",
    "\tLEFT JOIN MOVIMENTO_C3 MV ON MV.CLAVE_CONTRAPARTE = AC.CLAVE\n",
    ") SELECT * FROM TAB_FINAL\n",
    "\"\"\""
   ]
  },
  {
   "cell_type": "code",
   "execution_count": 6,
   "metadata": {},
   "outputs": [],
   "source": [
    "path_dir_productos = get_table(path_dir_today, db_sims, \"productos_clientes_sims\", query = query_productos_sims)"
   ]
  },
  {
   "cell_type": "markdown",
   "metadata": {},
   "source": [
    "# Transform the data and output the transformation"
   ]
  },
  {
   "cell_type": "code",
   "execution_count": 8,
   "metadata": {},
   "outputs": [
    {
     "data": {
      "text/plain": [
       "'/home/ale1726/proyects/datalake/clientes/data/productos/SIMS/agrupados/21_04_2025'"
      ]
     },
     "execution_count": 8,
     "metadata": {},
     "output_type": "execute_result"
    }
   ],
   "source": [
    "path_dir_output_transformation = os.path.join(\"/home/ale1726/proyects/datalake/clientes/data/productos/SIMS/agrupados\", date_now)\n",
    "os.makedirs(path_dir_output_transformation, exist_ok=True)\n",
    "path_dir_output_transformation"
   ]
  },
  {
   "cell_type": "code",
   "execution_count": 9,
   "metadata": {},
   "outputs": [],
   "source": [
    "productos_sims =  pd.read_csv(path_dir_productos, low_memory=False)"
   ]
  },
  {
   "cell_type": "code",
   "execution_count": 11,
   "metadata": {},
   "outputs": [],
   "source": [
    "productos_sims[\"FECHA_OPERACION\"] = pd.to_datetime(productos_sims[\"FECHA_OPERACION\"])\n"
   ]
  },
  {
   "cell_type": "code",
   "execution_count": 39,
   "metadata": {},
   "outputs": [],
   "source": [
    "productos_sims[\"AÑO_FOPE\"] = productos_sims[\"FECHA_OPERACION\"].dt.year.astype('Int64')\n",
    "productos_sims[\"MES_FOPE\"] = productos_sims[\"FECHA_OPERACION\"].dt.month\n",
    "productos_sims[\"MES_FOPE_STR\"] = productos_sims[\"FECHA_OPERACION\"].dt.month_name()        \n",
    "\n",
    "#productos_meca[\"MES\"] = productos_meca[\"OPE_FECHA_ALTA\"].dt.monthv"
   ]
  },
  {
   "cell_type": "code",
   "execution_count": 31,
   "metadata": {},
   "outputs": [
    {
     "data": {
      "text/plain": [
       "Index(['CLAVE', 'NOMBRE', 'FOLIO', 'TIPO_MOVTO', 'MOVIMIENTO',\n",
       "       'TIPO_PORTAFOLIO', 'PORTAFOLIO', 'VARIANTE_MOVTO', 'VAR_MOVIMIENTO',\n",
       "       'FECHA_OPERACION', 'FECHA_VALOR', 'NUMERO_EMISION',\n",
       "       'FECHA_CUPON_ACTUAL', 'TASA', 'DIAS', 'PRECIO', 'VALOR_NOMINAL',\n",
       "       'VALOR_NOMINAL_AMORTIZADO', 'VALOR_COSTO', 'INTERESES_ACUMULADOS',\n",
       "       'MONTO_MOVIMIENTO', 'MONTO_VRR', 'VALOR_NOMINAL_DISPONIBLE',\n",
       "       'INTERESES_ANTICIPADOS', 'INTERESES_PROVISIONADOS',\n",
       "       'INTERESES_COMPLEMENTO', 'UTILIDAD', 'PERDIDA', 'FOLIO_COMPRA',\n",
       "       'SUBFOLIO_COMPRA', 'ESTATUS_MOVTO', 'TIPO_CAMBIO_COMPRA',\n",
       "       'TIPO_CAMBIO_VENTA', 'TITULOS_VENCIMIENTO', 'FECHA_LIQUIDA',\n",
       "       'NUMERO_TITULOS', 'PRECIO_SUCIO', 'FECHA_LIQUIDACION', 'AÑO_FOPE',\n",
       "       'MES_FOPE', 'MES_FOPE_STR'],\n",
       "      dtype='object')"
      ]
     },
     "execution_count": 31,
     "metadata": {},
     "output_type": "execute_result"
    }
   ],
   "source": [
    "productos_sims.columns"
   ]
  },
  {
   "cell_type": "code",
   "execution_count": 71,
   "metadata": {},
   "outputs": [
    {
     "data": {
      "text/plain": [
       "NUMERO_TITULOS\n",
       "1000.0       212\n",
       "2000.0       122\n",
       "5000.0        99\n",
       "10000.0       53\n",
       "500.0         44\n",
       "            ... \n",
       "3750.0         1\n",
       "3938.0         1\n",
       "4023.0         1\n",
       "23.0           1\n",
       "2500000.0      1\n",
       "Name: count, Length: 61, dtype: int64"
      ]
     },
     "execution_count": 71,
     "metadata": {},
     "output_type": "execute_result"
    }
   ],
   "source": [
    "productos_sims.value_counts(\"NUMERO_TITULOS\")"
   ]
  },
  {
   "cell_type": "code",
   "execution_count": 76,
   "metadata": {},
   "outputs": [],
   "source": [
    "agrupado_test = (\n",
    "    productos_sims.groupby(['AÑO_FOPE'], as_index=False)\n",
    "    .agg(\n",
    "        descripcion=('NUMERO_TITULOS', 'sum'), \n",
    "    ).sort_values(by=['AÑO_FOPE'], ascending=True)\n",
    ")"
   ]
  },
  {
   "cell_type": "code",
   "execution_count": 77,
   "metadata": {},
   "outputs": [
    {
     "data": {
      "application/vnd.microsoft.datawrangler.viewer.v0+json": {
       "columns": [
        {
         "name": "index",
         "rawType": "int64",
         "type": "integer"
        },
        {
         "name": "AÑO_FOPE",
         "rawType": "Int64",
         "type": "integer"
        },
        {
         "name": "descripcion",
         "rawType": "float64",
         "type": "float"
        }
       ],
       "conversionMethod": "pd.DataFrame",
       "ref": "cfe850c6-008b-4ad7-b56d-51a480a6abcb",
       "rows": [
        [
         "0",
         "1992",
         "0.0"
        ],
        [
         "1",
         "1995",
         "0.0"
        ],
        [
         "2",
         "1996",
         "0.0"
        ],
        [
         "3",
         "1997",
         "0.0"
        ],
        [
         "4",
         "1998",
         "0.0"
        ],
        [
         "5",
         "1999",
         "0.0"
        ],
        [
         "6",
         "2000",
         "0.0"
        ],
        [
         "7",
         "2001",
         "0.0"
        ],
        [
         "8",
         "2002",
         "0.0"
        ],
        [
         "9",
         "2003",
         "0.0"
        ],
        [
         "10",
         "2004",
         "0.0"
        ],
        [
         "11",
         "2005",
         "0.0"
        ],
        [
         "12",
         "2006",
         "0.0"
        ],
        [
         "13",
         "2007",
         "0.0"
        ],
        [
         "14",
         "2008",
         "0.0"
        ],
        [
         "15",
         "2009",
         "0.0"
        ],
        [
         "16",
         "2010",
         "0.0"
        ],
        [
         "17",
         "2011",
         "0.0"
        ],
        [
         "18",
         "2012",
         "0.0"
        ],
        [
         "19",
         "2013",
         "1000.0"
        ],
        [
         "20",
         "2014",
         "124150.0"
        ],
        [
         "21",
         "2015",
         "134000.0"
        ],
        [
         "22",
         "2016",
         "116000.0"
        ],
        [
         "23",
         "2017",
         "424700.0"
        ],
        [
         "24",
         "2018",
         "311508.0"
        ],
        [
         "25",
         "2019",
         "204345.0"
        ],
        [
         "26",
         "2020",
         "170464.0"
        ],
        [
         "27",
         "2021",
         "378500.0"
        ],
        [
         "28",
         "2022",
         "20000.0"
        ],
        [
         "29",
         "2023",
         "85500.0"
        ],
        [
         "30",
         "2024",
         "13680000.0"
        ],
        [
         "31",
         "2025",
         "6744000.0"
        ]
       ],
       "shape": {
        "columns": 2,
        "rows": 32
       }
      },
      "text/html": [
       "<div>\n",
       "<style scoped>\n",
       "    .dataframe tbody tr th:only-of-type {\n",
       "        vertical-align: middle;\n",
       "    }\n",
       "\n",
       "    .dataframe tbody tr th {\n",
       "        vertical-align: top;\n",
       "    }\n",
       "\n",
       "    .dataframe thead th {\n",
       "        text-align: right;\n",
       "    }\n",
       "</style>\n",
       "<table border=\"1\" class=\"dataframe\">\n",
       "  <thead>\n",
       "    <tr style=\"text-align: right;\">\n",
       "      <th></th>\n",
       "      <th>AÑO_FOPE</th>\n",
       "      <th>descripcion</th>\n",
       "    </tr>\n",
       "  </thead>\n",
       "  <tbody>\n",
       "    <tr>\n",
       "      <th>0</th>\n",
       "      <td>1992</td>\n",
       "      <td>0.0</td>\n",
       "    </tr>\n",
       "    <tr>\n",
       "      <th>1</th>\n",
       "      <td>1995</td>\n",
       "      <td>0.0</td>\n",
       "    </tr>\n",
       "    <tr>\n",
       "      <th>2</th>\n",
       "      <td>1996</td>\n",
       "      <td>0.0</td>\n",
       "    </tr>\n",
       "    <tr>\n",
       "      <th>3</th>\n",
       "      <td>1997</td>\n",
       "      <td>0.0</td>\n",
       "    </tr>\n",
       "    <tr>\n",
       "      <th>4</th>\n",
       "      <td>1998</td>\n",
       "      <td>0.0</td>\n",
       "    </tr>\n",
       "    <tr>\n",
       "      <th>5</th>\n",
       "      <td>1999</td>\n",
       "      <td>0.0</td>\n",
       "    </tr>\n",
       "    <tr>\n",
       "      <th>6</th>\n",
       "      <td>2000</td>\n",
       "      <td>0.0</td>\n",
       "    </tr>\n",
       "    <tr>\n",
       "      <th>7</th>\n",
       "      <td>2001</td>\n",
       "      <td>0.0</td>\n",
       "    </tr>\n",
       "    <tr>\n",
       "      <th>8</th>\n",
       "      <td>2002</td>\n",
       "      <td>0.0</td>\n",
       "    </tr>\n",
       "    <tr>\n",
       "      <th>9</th>\n",
       "      <td>2003</td>\n",
       "      <td>0.0</td>\n",
       "    </tr>\n",
       "    <tr>\n",
       "      <th>10</th>\n",
       "      <td>2004</td>\n",
       "      <td>0.0</td>\n",
       "    </tr>\n",
       "    <tr>\n",
       "      <th>11</th>\n",
       "      <td>2005</td>\n",
       "      <td>0.0</td>\n",
       "    </tr>\n",
       "    <tr>\n",
       "      <th>12</th>\n",
       "      <td>2006</td>\n",
       "      <td>0.0</td>\n",
       "    </tr>\n",
       "    <tr>\n",
       "      <th>13</th>\n",
       "      <td>2007</td>\n",
       "      <td>0.0</td>\n",
       "    </tr>\n",
       "    <tr>\n",
       "      <th>14</th>\n",
       "      <td>2008</td>\n",
       "      <td>0.0</td>\n",
       "    </tr>\n",
       "    <tr>\n",
       "      <th>15</th>\n",
       "      <td>2009</td>\n",
       "      <td>0.0</td>\n",
       "    </tr>\n",
       "    <tr>\n",
       "      <th>16</th>\n",
       "      <td>2010</td>\n",
       "      <td>0.0</td>\n",
       "    </tr>\n",
       "    <tr>\n",
       "      <th>17</th>\n",
       "      <td>2011</td>\n",
       "      <td>0.0</td>\n",
       "    </tr>\n",
       "    <tr>\n",
       "      <th>18</th>\n",
       "      <td>2012</td>\n",
       "      <td>0.0</td>\n",
       "    </tr>\n",
       "    <tr>\n",
       "      <th>19</th>\n",
       "      <td>2013</td>\n",
       "      <td>1000.0</td>\n",
       "    </tr>\n",
       "    <tr>\n",
       "      <th>20</th>\n",
       "      <td>2014</td>\n",
       "      <td>124150.0</td>\n",
       "    </tr>\n",
       "    <tr>\n",
       "      <th>21</th>\n",
       "      <td>2015</td>\n",
       "      <td>134000.0</td>\n",
       "    </tr>\n",
       "    <tr>\n",
       "      <th>22</th>\n",
       "      <td>2016</td>\n",
       "      <td>116000.0</td>\n",
       "    </tr>\n",
       "    <tr>\n",
       "      <th>23</th>\n",
       "      <td>2017</td>\n",
       "      <td>424700.0</td>\n",
       "    </tr>\n",
       "    <tr>\n",
       "      <th>24</th>\n",
       "      <td>2018</td>\n",
       "      <td>311508.0</td>\n",
       "    </tr>\n",
       "    <tr>\n",
       "      <th>25</th>\n",
       "      <td>2019</td>\n",
       "      <td>204345.0</td>\n",
       "    </tr>\n",
       "    <tr>\n",
       "      <th>26</th>\n",
       "      <td>2020</td>\n",
       "      <td>170464.0</td>\n",
       "    </tr>\n",
       "    <tr>\n",
       "      <th>27</th>\n",
       "      <td>2021</td>\n",
       "      <td>378500.0</td>\n",
       "    </tr>\n",
       "    <tr>\n",
       "      <th>28</th>\n",
       "      <td>2022</td>\n",
       "      <td>20000.0</td>\n",
       "    </tr>\n",
       "    <tr>\n",
       "      <th>29</th>\n",
       "      <td>2023</td>\n",
       "      <td>85500.0</td>\n",
       "    </tr>\n",
       "    <tr>\n",
       "      <th>30</th>\n",
       "      <td>2024</td>\n",
       "      <td>13680000.0</td>\n",
       "    </tr>\n",
       "    <tr>\n",
       "      <th>31</th>\n",
       "      <td>2025</td>\n",
       "      <td>6744000.0</td>\n",
       "    </tr>\n",
       "  </tbody>\n",
       "</table>\n",
       "</div>"
      ],
      "text/plain": [
       "    AÑO_FOPE  descripcion\n",
       "0       1992          0.0\n",
       "1       1995          0.0\n",
       "2       1996          0.0\n",
       "3       1997          0.0\n",
       "4       1998          0.0\n",
       "5       1999          0.0\n",
       "6       2000          0.0\n",
       "7       2001          0.0\n",
       "8       2002          0.0\n",
       "9       2003          0.0\n",
       "10      2004          0.0\n",
       "11      2005          0.0\n",
       "12      2006          0.0\n",
       "13      2007          0.0\n",
       "14      2008          0.0\n",
       "15      2009          0.0\n",
       "16      2010          0.0\n",
       "17      2011          0.0\n",
       "18      2012          0.0\n",
       "19      2013       1000.0\n",
       "20      2014     124150.0\n",
       "21      2015     134000.0\n",
       "22      2016     116000.0\n",
       "23      2017     424700.0\n",
       "24      2018     311508.0\n",
       "25      2019     204345.0\n",
       "26      2020     170464.0\n",
       "27      2021     378500.0\n",
       "28      2022      20000.0\n",
       "29      2023      85500.0\n",
       "30      2024   13680000.0\n",
       "31      2025    6744000.0"
      ]
     },
     "execution_count": 77,
     "metadata": {},
     "output_type": "execute_result"
    }
   ],
   "source": [
    "agrupado_test"
   ]
  },
  {
   "cell_type": "code",
   "execution_count": 94,
   "metadata": {},
   "outputs": [],
   "source": [
    "agrupado_portafolio = (\n",
    "    productos_sims.groupby(['PORTAFOLIO'], as_index=False)\n",
    "    .agg(\n",
    "        valor=('FOLIO', 'count'), \n",
    "    ).sort_values(by=['PORTAFOLIO'], ascending=True)\n",
    ")"
   ]
  },
  {
   "cell_type": "code",
   "execution_count": 95,
   "metadata": {},
   "outputs": [],
   "source": [
    "agrupado_portafolio.to_csv(os.path.join(path_dir_output_transformation, \"agrupado_portafolio.csv\"), index=False)"
   ]
  },
  {
   "cell_type": "code",
   "execution_count": 89,
   "metadata": {},
   "outputs": [],
   "source": [
    "agrupado_año_portafolio = (\n",
    "    productos_sims.groupby(['AÑO_FOPE'], as_index=False)\n",
    "    .agg(\n",
    "        valor=('PORTAFOLIO', 'nunique'), \n",
    "    ).sort_values(by=['AÑO_FOPE'], ascending=True)\n",
    ")"
   ]
  },
  {
   "cell_type": "code",
   "execution_count": 90,
   "metadata": {},
   "outputs": [
    {
     "data": {
      "application/vnd.microsoft.datawrangler.viewer.v0+json": {
       "columns": [
        {
         "name": "index",
         "rawType": "int64",
         "type": "integer"
        },
        {
         "name": "AÑO_FOPE",
         "rawType": "Int64",
         "type": "integer"
        },
        {
         "name": "valor",
         "rawType": "int64",
         "type": "integer"
        }
       ],
       "conversionMethod": "pd.DataFrame",
       "ref": "a3e27d4d-311b-41dc-90aa-5023003b3647",
       "rows": [
        [
         "0",
         "1992",
         "1"
        ],
        [
         "1",
         "1995",
         "1"
        ],
        [
         "2",
         "1996",
         "2"
        ],
        [
         "3",
         "1997",
         "2"
        ],
        [
         "4",
         "1998",
         "2"
        ],
        [
         "5",
         "1999",
         "4"
        ],
        [
         "6",
         "2000",
         "4"
        ],
        [
         "7",
         "2001",
         "4"
        ],
        [
         "8",
         "2002",
         "4"
        ],
        [
         "9",
         "2003",
         "4"
        ],
        [
         "10",
         "2004",
         "3"
        ],
        [
         "11",
         "2005",
         "2"
        ],
        [
         "12",
         "2006",
         "2"
        ],
        [
         "13",
         "2007",
         "1"
        ],
        [
         "14",
         "2008",
         "2"
        ],
        [
         "15",
         "2009",
         "1"
        ],
        [
         "16",
         "2010",
         "2"
        ],
        [
         "17",
         "2011",
         "1"
        ],
        [
         "18",
         "2012",
         "2"
        ],
        [
         "19",
         "2013",
         "2"
        ],
        [
         "20",
         "2014",
         "2"
        ],
        [
         "21",
         "2015",
         "2"
        ],
        [
         "22",
         "2016",
         "2"
        ],
        [
         "23",
         "2017",
         "2"
        ],
        [
         "24",
         "2018",
         "1"
        ],
        [
         "25",
         "2019",
         "2"
        ],
        [
         "26",
         "2020",
         "1"
        ],
        [
         "27",
         "2021",
         "1"
        ],
        [
         "28",
         "2022",
         "1"
        ],
        [
         "29",
         "2023",
         "1"
        ],
        [
         "30",
         "2024",
         "2"
        ],
        [
         "31",
         "2025",
         "1"
        ]
       ],
       "shape": {
        "columns": 2,
        "rows": 32
       }
      },
      "text/html": [
       "<div>\n",
       "<style scoped>\n",
       "    .dataframe tbody tr th:only-of-type {\n",
       "        vertical-align: middle;\n",
       "    }\n",
       "\n",
       "    .dataframe tbody tr th {\n",
       "        vertical-align: top;\n",
       "    }\n",
       "\n",
       "    .dataframe thead th {\n",
       "        text-align: right;\n",
       "    }\n",
       "</style>\n",
       "<table border=\"1\" class=\"dataframe\">\n",
       "  <thead>\n",
       "    <tr style=\"text-align: right;\">\n",
       "      <th></th>\n",
       "      <th>AÑO_FOPE</th>\n",
       "      <th>valor</th>\n",
       "    </tr>\n",
       "  </thead>\n",
       "  <tbody>\n",
       "    <tr>\n",
       "      <th>0</th>\n",
       "      <td>1992</td>\n",
       "      <td>1</td>\n",
       "    </tr>\n",
       "    <tr>\n",
       "      <th>1</th>\n",
       "      <td>1995</td>\n",
       "      <td>1</td>\n",
       "    </tr>\n",
       "    <tr>\n",
       "      <th>2</th>\n",
       "      <td>1996</td>\n",
       "      <td>2</td>\n",
       "    </tr>\n",
       "    <tr>\n",
       "      <th>3</th>\n",
       "      <td>1997</td>\n",
       "      <td>2</td>\n",
       "    </tr>\n",
       "    <tr>\n",
       "      <th>4</th>\n",
       "      <td>1998</td>\n",
       "      <td>2</td>\n",
       "    </tr>\n",
       "    <tr>\n",
       "      <th>5</th>\n",
       "      <td>1999</td>\n",
       "      <td>4</td>\n",
       "    </tr>\n",
       "    <tr>\n",
       "      <th>6</th>\n",
       "      <td>2000</td>\n",
       "      <td>4</td>\n",
       "    </tr>\n",
       "    <tr>\n",
       "      <th>7</th>\n",
       "      <td>2001</td>\n",
       "      <td>4</td>\n",
       "    </tr>\n",
       "    <tr>\n",
       "      <th>8</th>\n",
       "      <td>2002</td>\n",
       "      <td>4</td>\n",
       "    </tr>\n",
       "    <tr>\n",
       "      <th>9</th>\n",
       "      <td>2003</td>\n",
       "      <td>4</td>\n",
       "    </tr>\n",
       "    <tr>\n",
       "      <th>10</th>\n",
       "      <td>2004</td>\n",
       "      <td>3</td>\n",
       "    </tr>\n",
       "    <tr>\n",
       "      <th>11</th>\n",
       "      <td>2005</td>\n",
       "      <td>2</td>\n",
       "    </tr>\n",
       "    <tr>\n",
       "      <th>12</th>\n",
       "      <td>2006</td>\n",
       "      <td>2</td>\n",
       "    </tr>\n",
       "    <tr>\n",
       "      <th>13</th>\n",
       "      <td>2007</td>\n",
       "      <td>1</td>\n",
       "    </tr>\n",
       "    <tr>\n",
       "      <th>14</th>\n",
       "      <td>2008</td>\n",
       "      <td>2</td>\n",
       "    </tr>\n",
       "    <tr>\n",
       "      <th>15</th>\n",
       "      <td>2009</td>\n",
       "      <td>1</td>\n",
       "    </tr>\n",
       "    <tr>\n",
       "      <th>16</th>\n",
       "      <td>2010</td>\n",
       "      <td>2</td>\n",
       "    </tr>\n",
       "    <tr>\n",
       "      <th>17</th>\n",
       "      <td>2011</td>\n",
       "      <td>1</td>\n",
       "    </tr>\n",
       "    <tr>\n",
       "      <th>18</th>\n",
       "      <td>2012</td>\n",
       "      <td>2</td>\n",
       "    </tr>\n",
       "    <tr>\n",
       "      <th>19</th>\n",
       "      <td>2013</td>\n",
       "      <td>2</td>\n",
       "    </tr>\n",
       "    <tr>\n",
       "      <th>20</th>\n",
       "      <td>2014</td>\n",
       "      <td>2</td>\n",
       "    </tr>\n",
       "    <tr>\n",
       "      <th>21</th>\n",
       "      <td>2015</td>\n",
       "      <td>2</td>\n",
       "    </tr>\n",
       "    <tr>\n",
       "      <th>22</th>\n",
       "      <td>2016</td>\n",
       "      <td>2</td>\n",
       "    </tr>\n",
       "    <tr>\n",
       "      <th>23</th>\n",
       "      <td>2017</td>\n",
       "      <td>2</td>\n",
       "    </tr>\n",
       "    <tr>\n",
       "      <th>24</th>\n",
       "      <td>2018</td>\n",
       "      <td>1</td>\n",
       "    </tr>\n",
       "    <tr>\n",
       "      <th>25</th>\n",
       "      <td>2019</td>\n",
       "      <td>2</td>\n",
       "    </tr>\n",
       "    <tr>\n",
       "      <th>26</th>\n",
       "      <td>2020</td>\n",
       "      <td>1</td>\n",
       "    </tr>\n",
       "    <tr>\n",
       "      <th>27</th>\n",
       "      <td>2021</td>\n",
       "      <td>1</td>\n",
       "    </tr>\n",
       "    <tr>\n",
       "      <th>28</th>\n",
       "      <td>2022</td>\n",
       "      <td>1</td>\n",
       "    </tr>\n",
       "    <tr>\n",
       "      <th>29</th>\n",
       "      <td>2023</td>\n",
       "      <td>1</td>\n",
       "    </tr>\n",
       "    <tr>\n",
       "      <th>30</th>\n",
       "      <td>2024</td>\n",
       "      <td>2</td>\n",
       "    </tr>\n",
       "    <tr>\n",
       "      <th>31</th>\n",
       "      <td>2025</td>\n",
       "      <td>1</td>\n",
       "    </tr>\n",
       "  </tbody>\n",
       "</table>\n",
       "</div>"
      ],
      "text/plain": [
       "    AÑO_FOPE  valor\n",
       "0       1992      1\n",
       "1       1995      1\n",
       "2       1996      2\n",
       "3       1997      2\n",
       "4       1998      2\n",
       "5       1999      4\n",
       "6       2000      4\n",
       "7       2001      4\n",
       "8       2002      4\n",
       "9       2003      4\n",
       "10      2004      3\n",
       "11      2005      2\n",
       "12      2006      2\n",
       "13      2007      1\n",
       "14      2008      2\n",
       "15      2009      1\n",
       "16      2010      2\n",
       "17      2011      1\n",
       "18      2012      2\n",
       "19      2013      2\n",
       "20      2014      2\n",
       "21      2015      2\n",
       "22      2016      2\n",
       "23      2017      2\n",
       "24      2018      1\n",
       "25      2019      2\n",
       "26      2020      1\n",
       "27      2021      1\n",
       "28      2022      1\n",
       "29      2023      1\n",
       "30      2024      2\n",
       "31      2025      1"
      ]
     },
     "execution_count": 90,
     "metadata": {},
     "output_type": "execute_result"
    }
   ],
   "source": [
    "agrupado_año_portafolio"
   ]
  },
  {
   "cell_type": "code",
   "execution_count": 93,
   "metadata": {},
   "outputs": [],
   "source": [
    "agrupado_año_portafolio.to_csv(os.path.join(path_dir_output_transformation, \"agrupado_año_portafolio.csv\"), index=False)"
   ]
  },
  {
   "cell_type": "code",
   "execution_count": 20,
   "metadata": {},
   "outputs": [],
   "source": [
    "agrupado_operaciones_anuales = (\n",
    "    productos_sims.groupby(['AÑO_FOPE'], as_index=False)\n",
    "    .agg(\n",
    "        num_operaciones=('FOLIO', 'count'), \n",
    "        monto_anuales_sum=('MONTO_MOVIMIENTO', 'sum'), \n",
    "        monto_anuales_min=('MONTO_MOVIMIENTO', 'min'), \n",
    "        monto_anuales_max=('MONTO_MOVIMIENTO', 'max'), \n",
    "        monto_anuales_mean=('MONTO_MOVIMIENTO', 'mean'), \n",
    "        monto_anuales_median=('MONTO_MOVIMIENTO', 'median')\n",
    "    ).sort_values(by=['AÑO_FOPE'], ascending=True)\n",
    ")"
   ]
  },
  {
   "cell_type": "code",
   "execution_count": 21,
   "metadata": {},
   "outputs": [],
   "source": [
    "agrupado_operaciones_anuales.to_csv(os.path.join(path_dir_output_transformation, \"agrupado_operaciones_anuales.csv\"), index=False)"
   ]
  },
  {
   "cell_type": "code",
   "execution_count": 23,
   "metadata": {},
   "outputs": [],
   "source": [
    "agrupado_operaciones_anuales_mes = (\n",
    "    productos_sims.groupby(['AÑO_FOPE','MES_FOPE','MES_FOPE_STR'], as_index=False)\n",
    "    .agg(\n",
    "        num_operaciones=('FOLIO', 'count'), \n",
    "        monto_anuales_sum=('MONTO_MOVIMIENTO', 'sum'), \n",
    "        monto_anuales_min=('MONTO_MOVIMIENTO', 'min'), \n",
    "        monto_anuales_max=('MONTO_MOVIMIENTO', 'max'), \n",
    "        monto_anuales_mean=('MONTO_MOVIMIENTO', 'mean'), \n",
    "        monto_anuales_median=('MONTO_MOVIMIENTO', 'median')\n",
    "    ).sort_values(by=['AÑO_FOPE','MES_FOPE'], ascending=True)\n",
    ")"
   ]
  },
  {
   "cell_type": "code",
   "execution_count": 24,
   "metadata": {},
   "outputs": [],
   "source": [
    "agrupado_operaciones_anuales_mes.to_csv(os.path.join(path_dir_output_transformation, \"agrupado_operaciones_anuales_mes.csv\"), index=False)"
   ]
  },
  {
   "cell_type": "code",
   "execution_count": 42,
   "metadata": {},
   "outputs": [],
   "source": [
    "agrupado_plazo_anual = (\n",
    "    productos_sims.groupby(['AÑO_FOPE'], as_index=False)\n",
    "    .agg(\n",
    "        plazo_mean=('DIAS', lambda x: round(x.mean())),\n",
    "        plazo_min=('DIAS', 'min'), \n",
    "        plazo_max=('DIAS', 'max'),  \n",
    "        plazo_median=('DIAS', 'median')\n",
    "    ).sort_values(by=['AÑO_FOPE'], ascending=True)\n",
    ")"
   ]
  },
  {
   "cell_type": "code",
   "execution_count": 44,
   "metadata": {},
   "outputs": [],
   "source": [
    "agrupado_plazo_anual.to_csv(os.path.join(path_dir_output_transformation, \"agrupado_plazo_anual.csv\"), index=False)"
   ]
  }
 ],
 "metadata": {
  "kernelspec": {
   "display_name": "myenv_1",
   "language": "python",
   "name": "python3"
  },
  "language_info": {
   "codemirror_mode": {
    "name": "ipython",
    "version": 3
   },
   "file_extension": ".py",
   "mimetype": "text/x-python",
   "name": "python",
   "nbconvert_exporter": "python",
   "pygments_lexer": "ipython3",
   "version": "3.10.12"
  }
 },
 "nbformat": 4,
 "nbformat_minor": 2
}
