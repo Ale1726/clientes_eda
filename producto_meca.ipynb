{
 "cells": [
  {
   "cell_type": "markdown",
   "metadata": {},
   "source": [
    "MECA.MECA_MOVIMIENTOS\n",
    "MECA.CAPF_CLIENTES\n",
    "MECA.MECA_CARTERAS\n",
    "MECA.MECA_CONCEPTOS\n",
    "MECA.MECA_OPERACIONES\n",
    "MECA.MECA_SERIES\n",
    "MECA.MECA_SECTORES\n",
    "MECA.MECA_EMISORAS"
   ]
  }
 ],
 "metadata": {
  "language_info": {
   "name": "python"
  }
 },
 "nbformat": 4,
 "nbformat_minor": 2
}
