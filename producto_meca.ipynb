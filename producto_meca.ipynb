{
 "cells": [
  {
   "cell_type": "markdown",
   "metadata": {},
   "source": [
    "MECA.MECA_MOVIMIENTOS\n",
    "MECA.CAPF_CLIENTES\n",
    "MECA.MECA_CARTERAS\n",
    "MECA.MECA_CONCEPTOS\n",
    "MECA.MECA_OPERACIONES\n",
    "MECA.MECA_SERIES\n",
    "MECA.MECA_SECTORES\n",
    "MECA.MECA_EMISORAS"
   ]
  },
  {
   "cell_type": "code",
   "execution_count": 1,
   "metadata": {},
   "outputs": [],
   "source": [
    "from utils.tf import *\n",
    "from utils.db import *\n",
    "from utils.gd import * \n",
    "from utils.clt_repetidos import *\n",
    "from datetime import datetime\n",
    "import cx_Oracle\n",
    "import pandas as pd\n",
    "import os\n",
    "import plotly.express as px\n",
    "import plotly.graph_objects as go\n",
    "from utils.clt_repetidos import * \n",
    "from ydata_profiling import ProfileReport\n",
    "import dask.dataframe as dd\n",
    "import gc\n",
    "import matplotlib.pyplot as plt"
   ]
  },
  {
   "cell_type": "markdown",
   "metadata": {},
   "source": [
    "# Get the data and create the output directory (Extraction)"
   ]
  },
  {
   "cell_type": "code",
   "execution_count": 6,
   "metadata": {},
   "outputs": [],
   "source": [
    "path_dir_data = \"/home/ale1726/proyects/datalake/clientes/data/productos/MECA/data\""
   ]
  },
  {
   "cell_type": "code",
   "execution_count": null,
   "metadata": {},
   "outputs": [],
   "source": [
    "# Obtenemos la fecha actual para crear un directorio\n",
    "# donde se guardaran los archivos de salida\n",
    "date_now = datetime.now().strftime(\"%d_%m_%Y\") \n",
    "path_dir_today =  os.path.join(path_dir_data, date_now)\n",
    "\n",
    "# Creamos el directorio si no existe\n",
    "os.makedirs(path_dir_today, exist_ok=True)"
   ]
  },
  {
   "cell_type": "code",
   "execution_count": 18,
   "metadata": {},
   "outputs": [],
   "source": [
    "query_productos_meca = \"\"\" \n",
    "WITH CLIENTES_VIG AS (\n",
    "    SELECT CFCL.CLI_CLAVE_FFON, CFCL.CLI_CLAVE, CFCL.CLI_NOMBRE, CTDC.TDC_DESCRIPCION AS TIPO_CLIENTE\n",
    "\tFROM MECA.CAPF_CLIENTES CFCL\n",
    "\tLEFT JOIN MECA.CAPF_TIPOS_DE_CLIENTES CTDC ON CFCL.CLI_TDC_CLAVE = CTDC.TDC_CLAVE\n",
    "\tWHERE CFCL.CLI_EST_CLAVE = 'VIG' AND CFCL.CLI_NOMBRE != '0'\n",
    "), OPE_C1 AS (\n",
    "\tSELECT MO.*, MI.INS_DESCRIPCION INSTRUMENTO\n",
    "\tFROM MECA.MECA_OPERACIONES MO\n",
    "\tLEFT JOIN MECA.MECA_INSTRUMENTOS MI ON MO.OPE_INS_CLAVE = MI.INS_CLAVE\n",
    "), OPE_C2 AS (\n",
    "\tSELECT OP.*, CAT.TMO_DESCRIPCION TIPO_MOVIMIENTO\n",
    "\tFROM OPE_C1 OP\n",
    "\tLEFT JOIN MECA.MECA_TIPOS_MOVIMIENTO CAT ON OP.OPE_TMO_CLAVE = CAT.TMO_CLAVE\n",
    "), TAB_OPE AS(\n",
    "\tSELECT OPE_FOLIO, OPE_TYPE, OPE_INS_CLAVE ,INSTRUMENTO, OPE_SER_NUM_SERIE, OPE_SER_EMI_CLAVE, \n",
    "\t\tOPE_TMO_CLAVE, TIPO_MOVIMIENTO, OPE_CLI_CLAVE, OPE_DIV_CLAVE_SWIFT, OPE_NUM_TITULOS, OPE_PRECIO_POSTURA\n",
    "\t\tOPE_IMPORTE_TITULOS, OPE_FECHA_PACTADA, OPE_FECHA_SALDADA, OPE_FECHA_ALTA, OPE_FECHA_VENCIMIENTO, OPE_TIPO_PRESTAMO,\n",
    "\t\tOPE_TIPO_CAMBIO, OPE_TASA_PRESTAMO, OPE_DESCUENTO_PREST, OPE_PLAZO, OPE_PORC_COMISION, OPE_PORC_IVA, OPE_IMPORTE_COMISION,\n",
    "\t\tOPE_IMPORTE_TOTAL, OPE_IMPORTE_PRIMA, OPE_PRECIO_PRESTAMO, OPE_PRECIO_PACTADA\n",
    "\tFROM OPE_C2\n",
    "), TAB_FINAL AS (\n",
    "\tSELECT CV.*, TAOP.*\n",
    "\tFROM CLIENTES_VIG CV\n",
    "\tLEFT JOIN TAB_OPE TAOP ON TAOP.OPE_CLI_CLAVE = CV.CLI_CLAVE\n",
    ") SELECT * FROM TAB_FINAL\n",
    "\"\"\""
   ]
  },
  {
   "cell_type": "code",
   "execution_count": 19,
   "metadata": {},
   "outputs": [],
   "source": [
    "path_dir_productos = get_table(path_dir_today, db_meca, \"productos_clientes_meca\", query = query_productos_meca)"
   ]
  },
  {
   "cell_type": "markdown",
   "metadata": {},
   "source": [
    "# Transform the data and output the transformation"
   ]
  },
  {
   "cell_type": "code",
   "execution_count": 55,
   "metadata": {},
   "outputs": [
    {
     "data": {
      "text/plain": [
       "'/home/ale1726/proyects/datalake/clientes/data/productos/MECA/agrupados/21_04_2025'"
      ]
     },
     "execution_count": 55,
     "metadata": {},
     "output_type": "execute_result"
    }
   ],
   "source": [
    "path_dir_output_transformation = os.path.join(\"/home/ale1726/proyects/datalake/clientes/data/productos/MECA/agrupados\", date_now)\n",
    "os.makedirs(path_dir_output_transformation, exist_ok=True)\n",
    "path_dir_output_transformation"
   ]
  },
  {
   "cell_type": "code",
   "execution_count": 3,
   "metadata": {},
   "outputs": [],
   "source": [
    "path_dir_output_transformation = '/home/ale1726/proyects/datalake/clientes/data/productos/MECA/agrupados/21_04_2025'"
   ]
  },
  {
   "cell_type": "code",
   "execution_count": 2,
   "metadata": {},
   "outputs": [],
   "source": [
    "path_dir_data ='/home/ale1726/proyects/datalake/clientes/data/productos/MECA/agrupados/21_04_2025'"
   ]
  },
  {
   "cell_type": "code",
   "execution_count": 5,
   "metadata": {},
   "outputs": [],
   "source": [
    "path_dir_productos = \"/home/ale1726/proyects/datalake/clientes/data/productos/MECA/data/21_04_2025/productos_clientes_meca.dat\""
   ]
  },
  {
   "cell_type": "code",
   "execution_count": 6,
   "metadata": {},
   "outputs": [],
   "source": [
    "productos_meca =  pd.read_csv(path_dir_productos, low_memory=False)"
   ]
  },
  {
   "cell_type": "code",
   "execution_count": 7,
   "metadata": {},
   "outputs": [],
   "source": [
    "productos_meca[\"OPE_FECHA_ALTA\"] = pd.to_datetime(productos_meca[\"OPE_FECHA_ALTA\"])\n",
    "productos_meca[\"OPE_FECHA_PACTADA\"] = pd.to_datetime(productos_meca[\"OPE_FECHA_PACTADA\"])\n",
    "productos_meca[\"OPE_FECHA_SALDADA\"] = pd.to_datetime(productos_meca[\"OPE_FECHA_SALDADA\"])\n",
    "productos_meca[\"OPE_FECHA_VENCIMIENTO\"] = pd.to_datetime(productos_meca[\"OPE_FECHA_VENCIMIENTO\"])"
   ]
  },
  {
   "cell_type": "code",
   "execution_count": 8,
   "metadata": {},
   "outputs": [],
   "source": [
    "productos_meca[\"AÑO_FALTA\"] = productos_meca[\"OPE_FECHA_ALTA\"].dt.year.astype('Int64')\n",
    "productos_meca[\"AÑO_FPACTADA\"] = productos_meca[\"OPE_FECHA_PACTADA\"].dt.year.astype('Int64')\n",
    "productos_meca[\"AÑO_FSALDADA\"] = productos_meca[\"OPE_FECHA_SALDADA\"].dt.year.astype('Int64')\n",
    "productos_meca[\"AÑO_FVENCIMIENTO\"] = productos_meca[\"OPE_FECHA_VENCIMIENTO\"].dt.year.astype('Int64')\n",
    "\n",
    "productos_meca[\"MES_FALTA\"] = productos_meca[\"OPE_FECHA_ALTA\"].dt.month\n",
    "productos_meca[\"MES_FALTA_STR\"] = productos_meca[\"OPE_FECHA_ALTA\"].dt.month_name()        \n",
    "productos_meca[\"MES_FPACTADA\"] = productos_meca[\"OPE_FECHA_PACTADA\"].dt.month\n",
    "productos_meca[\"MES_FSALDADA\"] = productos_meca[\"OPE_FECHA_SALDADA\"].dt.month\n",
    "productos_meca[\"MES_FVENCIMIENTO\"] = productos_meca[\"OPE_FECHA_VENCIMIENTO\"].dt.month\n",
    "\n",
    "#productos_meca[\"MES\"] = productos_meca[\"OPE_FECHA_ALTA\"].dt.month\n",
    "#productos_meca[\"MES\"] = productos_meca[\"OPE_FECHA_ALTA\"].dt.month_name()        "
   ]
  },
  {
   "cell_type": "code",
   "execution_count": 94,
   "metadata": {},
   "outputs": [],
   "source": [
    "agrupado_tipo_cliente = (\n",
    "    productos_meca.groupby(['TIPO_CLIENTE'], as_index=False)\n",
    "    .agg(\n",
    "        valor=('OPE_FOLIO', 'count'), \n",
    "    ).sort_values(by=['valor'], ascending=True)\n",
    ")"
   ]
  },
  {
   "cell_type": "code",
   "execution_count": 95,
   "metadata": {},
   "outputs": [],
   "source": [
    "agrupado_tipo_cliente.to_csv(os.path.join(path_dir_output_transformation, \"agrupado_tipo_cliente.csv\"), index=False)"
   ]
  },
  {
   "cell_type": "code",
   "execution_count": 96,
   "metadata": {},
   "outputs": [],
   "source": [
    "agrupado_portafolio = (\n",
    "    productos_meca.groupby(['INSTRUMENTO'], as_index=False)\n",
    "    .agg(\n",
    "        valor=('OPE_FOLIO', 'count'), \n",
    "    ).sort_values(by=['INSTRUMENTO'], ascending=True)\n",
    ")"
   ]
  },
  {
   "cell_type": "code",
   "execution_count": 97,
   "metadata": {},
   "outputs": [],
   "source": [
    "agrupado_portafolio.to_csv(os.path.join(path_dir_output_transformation, \"agrupado_portafolio.csv\"), index=False)"
   ]
  },
  {
   "cell_type": "code",
   "execution_count": 14,
   "metadata": {},
   "outputs": [],
   "source": [
    "agrupado_año_portafolio = (\n",
    "    productos_meca.groupby(['AÑO_FALTA'], as_index=False)\n",
    "    .agg(\n",
    "        valor=('INSTRUMENTO', 'nunique'),\n",
    "        instru = ('INSTRUMENTO', 'unique'), \n",
    "    ).sort_values(by=['valor'], ascending=False)\n",
    ")"
   ]
  },
  {
   "cell_type": "code",
   "execution_count": null,
   "metadata": {},
   "outputs": [],
   "source": [
    "agrupado_clt_anual = (\n",
    "    productos_meca.groupby(['AÑO_FALTA'], as_index=False)\n",
    "    .agg(\n",
    "        valor=('INSTRUMENTO', 'nunique'),\n",
    "        instru = ('INSTRUMENTO', 'unique'), \n",
    "    ).sort_values(by=['valor'], ascending=False)  \n",
    ")"
   ]
  },
  {
   "cell_type": "code",
   "execution_count": 15,
   "metadata": {},
   "outputs": [
    {
     "data": {
      "application/vnd.microsoft.datawrangler.viewer.v0+json": {
       "columns": [
        {
         "name": "index",
         "rawType": "int64",
         "type": "integer"
        },
        {
         "name": "AÑO_FALTA",
         "rawType": "Int64",
         "type": "integer"
        },
        {
         "name": "valor",
         "rawType": "int64",
         "type": "integer"
        },
        {
         "name": "instru",
         "rawType": "object",
         "type": "unknown"
        }
       ],
       "conversionMethod": "pd.DataFrame",
       "ref": "6268a582-464a-4069-9782-7349fd06f9bc",
       "rows": [
        [
         "0",
         "1998",
         "3",
         "['ACCIONES' \"ADS'S\" \"ADR'S\"]"
        ],
        [
         "2",
         "2000",
         "3",
         "['ACCIONES' \"ADS'S\" \"ADR'S\"]"
        ],
        [
         "1",
         "1999",
         "3",
         "['ACCIONES' \"ADS'S\" \"ADR'S\"]"
        ],
        [
         "9",
         "2007",
         "2",
         "['ACCIONES' \"ADS'S\"]"
        ],
        [
         "13",
         "2011",
         "2",
         "[\"ADS'S\" 'ACCIONES']"
        ],
        [
         "12",
         "2010",
         "2",
         "['ACCIONES' \"ADS'S\"]"
        ],
        [
         "11",
         "2009",
         "2",
         "['ACCIONES' \"ADS'S\"]"
        ],
        [
         "10",
         "2008",
         "2",
         "['ACCIONES' \"ADS'S\"]"
        ],
        [
         "14",
         "2012",
         "2",
         "['ACCIONES' \"ADS'S\"]"
        ],
        [
         "8",
         "2006",
         "2",
         "['ACCIONES' \"ADS'S\"]"
        ],
        [
         "6",
         "2004",
         "2",
         "['ACCIONES' \"ADS'S\"]"
        ],
        [
         "5",
         "2003",
         "2",
         "['ACCIONES' \"ADS'S\"]"
        ],
        [
         "4",
         "2002",
         "2",
         "['ACCIONES' \"ADS'S\"]"
        ],
        [
         "3",
         "2001",
         "2",
         "['ACCIONES' \"ADS'S\"]"
        ],
        [
         "7",
         "2005",
         "2",
         "['ACCIONES' \"ADS'S\"]"
        ],
        [
         "21",
         "2019",
         "1",
         "['ACCIONES']"
        ],
        [
         "26",
         "2024",
         "1",
         "['ACCIONES']"
        ],
        [
         "25",
         "2023",
         "1",
         "['ACCIONES']"
        ],
        [
         "24",
         "2022",
         "1",
         "['ACCIONES']"
        ],
        [
         "23",
         "2021",
         "1",
         "['ACCIONES']"
        ],
        [
         "22",
         "2020",
         "1",
         "['ACCIONES']"
        ],
        [
         "18",
         "2016",
         "1",
         "['ACCIONES']"
        ],
        [
         "20",
         "2018",
         "1",
         "['ACCIONES']"
        ],
        [
         "19",
         "2017",
         "1",
         "['ACCIONES']"
        ],
        [
         "17",
         "2015",
         "1",
         "['ACCIONES']"
        ],
        [
         "16",
         "2014",
         "1",
         "['ACCIONES']"
        ],
        [
         "15",
         "2013",
         "1",
         "['ACCIONES']"
        ],
        [
         "27",
         "2025",
         "1",
         "['ACCIONES']"
        ]
       ],
       "shape": {
        "columns": 3,
        "rows": 28
       }
      },
      "text/html": [
       "<div>\n",
       "<style scoped>\n",
       "    .dataframe tbody tr th:only-of-type {\n",
       "        vertical-align: middle;\n",
       "    }\n",
       "\n",
       "    .dataframe tbody tr th {\n",
       "        vertical-align: top;\n",
       "    }\n",
       "\n",
       "    .dataframe thead th {\n",
       "        text-align: right;\n",
       "    }\n",
       "</style>\n",
       "<table border=\"1\" class=\"dataframe\">\n",
       "  <thead>\n",
       "    <tr style=\"text-align: right;\">\n",
       "      <th></th>\n",
       "      <th>AÑO_FALTA</th>\n",
       "      <th>valor</th>\n",
       "      <th>instru</th>\n",
       "    </tr>\n",
       "  </thead>\n",
       "  <tbody>\n",
       "    <tr>\n",
       "      <th>0</th>\n",
       "      <td>1998</td>\n",
       "      <td>3</td>\n",
       "      <td>[ACCIONES, ADS'S, ADR'S]</td>\n",
       "    </tr>\n",
       "    <tr>\n",
       "      <th>2</th>\n",
       "      <td>2000</td>\n",
       "      <td>3</td>\n",
       "      <td>[ACCIONES, ADS'S, ADR'S]</td>\n",
       "    </tr>\n",
       "    <tr>\n",
       "      <th>1</th>\n",
       "      <td>1999</td>\n",
       "      <td>3</td>\n",
       "      <td>[ACCIONES, ADS'S, ADR'S]</td>\n",
       "    </tr>\n",
       "    <tr>\n",
       "      <th>9</th>\n",
       "      <td>2007</td>\n",
       "      <td>2</td>\n",
       "      <td>[ACCIONES, ADS'S]</td>\n",
       "    </tr>\n",
       "    <tr>\n",
       "      <th>13</th>\n",
       "      <td>2011</td>\n",
       "      <td>2</td>\n",
       "      <td>[ADS'S, ACCIONES]</td>\n",
       "    </tr>\n",
       "    <tr>\n",
       "      <th>12</th>\n",
       "      <td>2010</td>\n",
       "      <td>2</td>\n",
       "      <td>[ACCIONES, ADS'S]</td>\n",
       "    </tr>\n",
       "    <tr>\n",
       "      <th>11</th>\n",
       "      <td>2009</td>\n",
       "      <td>2</td>\n",
       "      <td>[ACCIONES, ADS'S]</td>\n",
       "    </tr>\n",
       "    <tr>\n",
       "      <th>10</th>\n",
       "      <td>2008</td>\n",
       "      <td>2</td>\n",
       "      <td>[ACCIONES, ADS'S]</td>\n",
       "    </tr>\n",
       "    <tr>\n",
       "      <th>14</th>\n",
       "      <td>2012</td>\n",
       "      <td>2</td>\n",
       "      <td>[ACCIONES, ADS'S]</td>\n",
       "    </tr>\n",
       "    <tr>\n",
       "      <th>8</th>\n",
       "      <td>2006</td>\n",
       "      <td>2</td>\n",
       "      <td>[ACCIONES, ADS'S]</td>\n",
       "    </tr>\n",
       "    <tr>\n",
       "      <th>6</th>\n",
       "      <td>2004</td>\n",
       "      <td>2</td>\n",
       "      <td>[ACCIONES, ADS'S]</td>\n",
       "    </tr>\n",
       "    <tr>\n",
       "      <th>5</th>\n",
       "      <td>2003</td>\n",
       "      <td>2</td>\n",
       "      <td>[ACCIONES, ADS'S]</td>\n",
       "    </tr>\n",
       "    <tr>\n",
       "      <th>4</th>\n",
       "      <td>2002</td>\n",
       "      <td>2</td>\n",
       "      <td>[ACCIONES, ADS'S]</td>\n",
       "    </tr>\n",
       "    <tr>\n",
       "      <th>3</th>\n",
       "      <td>2001</td>\n",
       "      <td>2</td>\n",
       "      <td>[ACCIONES, ADS'S]</td>\n",
       "    </tr>\n",
       "    <tr>\n",
       "      <th>7</th>\n",
       "      <td>2005</td>\n",
       "      <td>2</td>\n",
       "      <td>[ACCIONES, ADS'S]</td>\n",
       "    </tr>\n",
       "    <tr>\n",
       "      <th>21</th>\n",
       "      <td>2019</td>\n",
       "      <td>1</td>\n",
       "      <td>[ACCIONES]</td>\n",
       "    </tr>\n",
       "    <tr>\n",
       "      <th>26</th>\n",
       "      <td>2024</td>\n",
       "      <td>1</td>\n",
       "      <td>[ACCIONES]</td>\n",
       "    </tr>\n",
       "    <tr>\n",
       "      <th>25</th>\n",
       "      <td>2023</td>\n",
       "      <td>1</td>\n",
       "      <td>[ACCIONES]</td>\n",
       "    </tr>\n",
       "    <tr>\n",
       "      <th>24</th>\n",
       "      <td>2022</td>\n",
       "      <td>1</td>\n",
       "      <td>[ACCIONES]</td>\n",
       "    </tr>\n",
       "    <tr>\n",
       "      <th>23</th>\n",
       "      <td>2021</td>\n",
       "      <td>1</td>\n",
       "      <td>[ACCIONES]</td>\n",
       "    </tr>\n",
       "    <tr>\n",
       "      <th>22</th>\n",
       "      <td>2020</td>\n",
       "      <td>1</td>\n",
       "      <td>[ACCIONES]</td>\n",
       "    </tr>\n",
       "    <tr>\n",
       "      <th>18</th>\n",
       "      <td>2016</td>\n",
       "      <td>1</td>\n",
       "      <td>[ACCIONES]</td>\n",
       "    </tr>\n",
       "    <tr>\n",
       "      <th>20</th>\n",
       "      <td>2018</td>\n",
       "      <td>1</td>\n",
       "      <td>[ACCIONES]</td>\n",
       "    </tr>\n",
       "    <tr>\n",
       "      <th>19</th>\n",
       "      <td>2017</td>\n",
       "      <td>1</td>\n",
       "      <td>[ACCIONES]</td>\n",
       "    </tr>\n",
       "    <tr>\n",
       "      <th>17</th>\n",
       "      <td>2015</td>\n",
       "      <td>1</td>\n",
       "      <td>[ACCIONES]</td>\n",
       "    </tr>\n",
       "    <tr>\n",
       "      <th>16</th>\n",
       "      <td>2014</td>\n",
       "      <td>1</td>\n",
       "      <td>[ACCIONES]</td>\n",
       "    </tr>\n",
       "    <tr>\n",
       "      <th>15</th>\n",
       "      <td>2013</td>\n",
       "      <td>1</td>\n",
       "      <td>[ACCIONES]</td>\n",
       "    </tr>\n",
       "    <tr>\n",
       "      <th>27</th>\n",
       "      <td>2025</td>\n",
       "      <td>1</td>\n",
       "      <td>[ACCIONES]</td>\n",
       "    </tr>\n",
       "  </tbody>\n",
       "</table>\n",
       "</div>"
      ],
      "text/plain": [
       "    AÑO_FALTA  valor                    instru\n",
       "0        1998      3  [ACCIONES, ADS'S, ADR'S]\n",
       "2        2000      3  [ACCIONES, ADS'S, ADR'S]\n",
       "1        1999      3  [ACCIONES, ADS'S, ADR'S]\n",
       "9        2007      2         [ACCIONES, ADS'S]\n",
       "13       2011      2         [ADS'S, ACCIONES]\n",
       "12       2010      2         [ACCIONES, ADS'S]\n",
       "11       2009      2         [ACCIONES, ADS'S]\n",
       "10       2008      2         [ACCIONES, ADS'S]\n",
       "14       2012      2         [ACCIONES, ADS'S]\n",
       "8        2006      2         [ACCIONES, ADS'S]\n",
       "6        2004      2         [ACCIONES, ADS'S]\n",
       "5        2003      2         [ACCIONES, ADS'S]\n",
       "4        2002      2         [ACCIONES, ADS'S]\n",
       "3        2001      2         [ACCIONES, ADS'S]\n",
       "7        2005      2         [ACCIONES, ADS'S]\n",
       "21       2019      1                [ACCIONES]\n",
       "26       2024      1                [ACCIONES]\n",
       "25       2023      1                [ACCIONES]\n",
       "24       2022      1                [ACCIONES]\n",
       "23       2021      1                [ACCIONES]\n",
       "22       2020      1                [ACCIONES]\n",
       "18       2016      1                [ACCIONES]\n",
       "20       2018      1                [ACCIONES]\n",
       "19       2017      1                [ACCIONES]\n",
       "17       2015      1                [ACCIONES]\n",
       "16       2014      1                [ACCIONES]\n",
       "15       2013      1                [ACCIONES]\n",
       "27       2025      1                [ACCIONES]"
      ]
     },
     "execution_count": 15,
     "metadata": {},
     "output_type": "execute_result"
    }
   ],
   "source": [
    "agrupado_año_portafolio"
   ]
  },
  {
   "cell_type": "code",
   "execution_count": 16,
   "metadata": {},
   "outputs": [],
   "source": [
    "agrupado_año_portafolio.to_csv(os.path.join(path_dir_output_transformation, \"agrupado_año_portafolio.csv\"), index=False)"
   ]
  },
  {
   "cell_type": "code",
   "execution_count": 17,
   "metadata": {},
   "outputs": [],
   "source": [
    "agrupado_operaciones_anuales = (\n",
    "    productos_meca.groupby(['AÑO_FALTA'], as_index=False)\n",
    "    .agg(\n",
    "        num_operaciones=('OPE_FOLIO', 'count'), \n",
    "        num_clts = (\"CLI_NOMBRE\",\"nunique\"),\n",
    "        monto_anuales_sum=('OPE_IMPORTE_TOTAL', 'sum'), \n",
    "        monto_anuales_min=('OPE_IMPORTE_TOTAL', 'min'), \n",
    "        monto_anuales_max=('OPE_IMPORTE_TOTAL', 'max'), \n",
    "        monto_anuales_mean=('OPE_IMPORTE_TOTAL', 'mean'), \n",
    "        monto_anuales_median=('OPE_IMPORTE_TOTAL', 'median')\n",
    "    ).sort_values(by=['AÑO_FALTA'], ascending=True)\n",
    ")"
   ]
  },
  {
   "cell_type": "code",
   "execution_count": 18,
   "metadata": {},
   "outputs": [],
   "source": [
    "agrupado_operaciones_anuales.to_csv(os.path.join(path_dir_output_transformation, \"agrupado_operaciones_anuales.csv\"), index=False)"
   ]
  },
  {
   "cell_type": "code",
   "execution_count": 100,
   "metadata": {},
   "outputs": [],
   "source": [
    "agrupado_operaciones_anuales_mes = (\n",
    "    productos_meca.groupby(['AÑO_FALTA','MES_FALTA','MES_FALTA_STR'], as_index=False)\n",
    "    .agg(\n",
    "        num_operaciones=('OPE_FOLIO', 'count'), \n",
    "        monto_anuales_sum=('OPE_IMPORTE_TOTAL', 'sum'), \n",
    "        monto_anuales_min=('OPE_IMPORTE_TOTAL', 'min'), \n",
    "        monto_anuales_max=('OPE_IMPORTE_TOTAL', 'max'), \n",
    "        monto_anuales_mean=('OPE_IMPORTE_TOTAL', 'mean'), \n",
    "        monto_anuales_median=('OPE_IMPORTE_TOTAL', 'median')\n",
    "    ).sort_values(by=['AÑO_FALTA','MES_FALTA'], ascending=True)\n",
    ")"
   ]
  },
  {
   "cell_type": "code",
   "execution_count": 101,
   "metadata": {},
   "outputs": [],
   "source": [
    "agrupado_operaciones_anuales_mes.to_csv(os.path.join(path_dir_output_transformation, \"agrupado_operaciones_anuales_mes.csv\"), index=False)"
   ]
  },
  {
   "cell_type": "code",
   "execution_count": 104,
   "metadata": {},
   "outputs": [],
   "source": [
    "agrupado_clientes_año = (\n",
    "    productos_meca.groupby(['AÑO_FALTA','CLI_CLAVE','CLI_NOMBRE', ], as_index=False)\n",
    "    .agg(\n",
    "        transacciones=('OPE_FOLIO', 'count'),\n",
    "        num_productos=('INSTRUMENTO', 'nunique'),\n",
    "        monto_mean=('OPE_IMPORTE_TOTAL', lambda x: round(x.mean(), 2) if x.mean() != 0 else 0),\n",
    "    )\n",
    "    .sort_values(by=['AÑO_FALTA'], ascending=False)\n",
    ")\n"
   ]
  },
  {
   "cell_type": "code",
   "execution_count": 107,
   "metadata": {},
   "outputs": [],
   "source": [
    "agrupado_clientes_año.to_csv(os.path.join(path_dir_output_transformation, \"agrupado_clientes_año.csv\"), index=False)"
   ]
  },
  {
   "cell_type": "code",
   "execution_count": 112,
   "metadata": {},
   "outputs": [],
   "source": [
    "agrupado_clientes_tra_monto = (\n",
    "    productos_meca.groupby(['CLI_NOMBRE'], as_index=False)\n",
    "    .agg(\n",
    "        transacciones=('OPE_FOLIO', 'count'),\n",
    "        montos=('OPE_IMPORTE_TOTAL', lambda x: round(x.mean(), 2))\n",
    "    )\n",
    "    .sort_values(by='CLI_NOMBRE', ascending=False)\n",
    ")"
   ]
  },
  {
   "cell_type": "code",
   "execution_count": 113,
   "metadata": {},
   "outputs": [],
   "source": [
    "agrupado_clientes_tra_monto = agrupado_clientes_tra_monto[agrupado_clientes_tra_monto[\"transacciones\"] > 1]\n",
    "agrupado_clientes_tra_monto[\"montos\"] = agrupado_clientes_tra_monto[\"montos\"].fillna(0)"
   ]
  },
  {
   "cell_type": "code",
   "execution_count": 120,
   "metadata": {},
   "outputs": [],
   "source": [
    "agrupado_clientes_tra_monto.to_csv(os.path.join(path_dir_output_transformation, \"agrupado_clientes_tra_monto.csv\"), index=False)"
   ]
  },
  {
   "cell_type": "code",
   "execution_count": 117,
   "metadata": {},
   "outputs": [],
   "source": [
    "agrupado_clientes_tra_monto_año = (\n",
    "    productos_meca.groupby(['AÑO_FALTA','CLI_NOMBRE'], as_index=False)\n",
    "    .agg(\n",
    "        transacciones=('OPE_FOLIO', 'count'),\n",
    "        montos=('OPE_IMPORTE_TOTAL', lambda x: round(x.mean(), 2))\n",
    "    )\n",
    "    .sort_values(by='AÑO_FALTA', ascending=False)\n",
    ")"
   ]
  },
  {
   "cell_type": "code",
   "execution_count": null,
   "metadata": {},
   "outputs": [],
   "source": [
    "agrupado_clientes_tra_monto_año = agrupado_clientes_tra_monto_año[agrupado_clientes_tra_monto_año[\"transacciones\"] > 1]\n",
    "agrupado_clientes_tra_monto_año[\"montos\"] = agrupado_clientes_tra_monto_año[\"montos\"].fillna(0)"
   ]
  },
  {
   "cell_type": "code",
   "execution_count": 121,
   "metadata": {},
   "outputs": [],
   "source": [
    "agrupado_clientes_tra_monto_año.to_csv(os.path.join(path_dir_output_transformation, \"agrupado_clientes_tra_monto_año.csv\"), index=False)"
   ]
  },
  {
   "cell_type": "code",
   "execution_count": 122,
   "metadata": {},
   "outputs": [],
   "source": [
    "agrupado_año_seg_clt = (\n",
    "    productos_meca.groupby(['AÑO_FALTA'], as_index=False)\n",
    "    .agg(\n",
    "        clientes=('CLI_NOMBRE', 'nunique'),\n",
    "        clientes_unique=('CLI_NOMBRE', 'unique'),\n",
    "    )\n",
    "    .sort_values(by=['AÑO_FALTA'], ascending=False)\n",
    ")"
   ]
  },
  {
   "cell_type": "code",
   "execution_count": 124,
   "metadata": {},
   "outputs": [],
   "source": [
    "agrupado_año_seg_clt.to_csv(os.path.join(path_dir_output_transformation, \"agrupado_año_seg_clt.csv\"), index=False)"
   ]
  }
 ],
 "metadata": {
  "kernelspec": {
   "display_name": "myenv_1",
   "language": "python",
   "name": "python3"
  },
  "language_info": {
   "codemirror_mode": {
    "name": "ipython",
    "version": 3
   },
   "file_extension": ".py",
   "mimetype": "text/x-python",
   "name": "python",
   "nbconvert_exporter": "python",
   "pygments_lexer": "ipython3",
   "version": "3.10.12"
  }
 },
 "nbformat": 4,
 "nbformat_minor": 2
}
