{
 "cells": [
  {
   "cell_type": "markdown",
   "metadata": {},
   "source": [
    "MECA.MECA_MOVIMIENTOS\n",
    "MECA.CAPF_CLIENTES\n",
    "MECA.MECA_CARTERAS\n",
    "MECA.MECA_CONCEPTOS\n",
    "MECA.MECA_OPERACIONES\n",
    "MECA.MECA_SERIES\n",
    "MECA.MECA_SECTORES\n",
    "MECA.MECA_EMISORAS"
   ]
  },
  {
   "cell_type": "code",
   "execution_count": 1,
   "metadata": {},
   "outputs": [],
   "source": [
    "from utils.tf import *\n",
    "from utils.db import *\n",
    "from utils.gd import * \n",
    "from utils.clt_repetidos import *\n",
    "from datetime import datetime\n",
    "import cx_Oracle\n",
    "import pandas as pd\n",
    "import os\n",
    "import plotly.express as px\n",
    "import plotly.graph_objects as go\n",
    "from utils.clt_repetidos import * \n",
    "from ydata_profiling import ProfileReport\n",
    "import dask.dataframe as dd\n",
    "import gc\n",
    "import matplotlib.pyplot as plt"
   ]
  },
  {
   "cell_type": "markdown",
   "metadata": {},
   "source": [
    "# Get the data and create the output directory (Extraction)"
   ]
  },
  {
   "cell_type": "code",
   "execution_count": 6,
   "metadata": {},
   "outputs": [],
   "source": [
    "path_dir_data = \"/home/ale1726/proyects/datalake/clientes/data/productos/MECA/data\""
   ]
  },
  {
   "cell_type": "code",
   "execution_count": null,
   "metadata": {},
   "outputs": [],
   "source": [
    "# Obtenemos la fecha actual para crear un directorio\n",
    "# donde se guardaran los archivos de salida\n",
    "date_now = datetime.now().strftime(\"%d_%m_%Y\") \n",
    "path_dir_today =  os.path.join(path_dir_data, date_now)\n",
    "\n",
    "# Creamos el directorio si no existe\n",
    "os.makedirs(path_dir_today, exist_ok=True)"
   ]
  },
  {
   "cell_type": "code",
   "execution_count": 18,
   "metadata": {},
   "outputs": [],
   "source": [
    "query_productos_meca = \"\"\" \n",
    "WITH CLIENTES_VIG AS (\n",
    "    SELECT CFCL.CLI_CLAVE_FFON, CFCL.CLI_CLAVE, CFCL.CLI_NOMBRE, CTDC.TDC_DESCRIPCION AS TIPO_CLIENTE\n",
    "\tFROM MECA.CAPF_CLIENTES CFCL\n",
    "\tLEFT JOIN MECA.CAPF_TIPOS_DE_CLIENTES CTDC ON CFCL.CLI_TDC_CLAVE = CTDC.TDC_CLAVE\n",
    "\tWHERE CFCL.CLI_EST_CLAVE = 'VIG' AND CFCL.CLI_NOMBRE != '0'\n",
    "), OPE_C1 AS (\n",
    "\tSELECT MO.*, MI.INS_DESCRIPCION INSTRUMENTO\n",
    "\tFROM MECA.MECA_OPERACIONES MO\n",
    "\tLEFT JOIN MECA.MECA_INSTRUMENTOS MI ON MO.OPE_INS_CLAVE = MI.INS_CLAVE\n",
    "), OPE_C2 AS (\n",
    "\tSELECT OP.*, CAT.TMO_DESCRIPCION TIPO_MOVIMIENTO\n",
    "\tFROM OPE_C1 OP\n",
    "\tLEFT JOIN MECA.MECA_TIPOS_MOVIMIENTO CAT ON OP.OPE_TMO_CLAVE = CAT.TMO_CLAVE\n",
    "), TAB_OPE AS(\n",
    "\tSELECT OPE_FOLIO, OPE_TYPE, OPE_INS_CLAVE ,INSTRUMENTO, OPE_SER_NUM_SERIE, OPE_SER_EMI_CLAVE, \n",
    "\t\tOPE_TMO_CLAVE, TIPO_MOVIMIENTO, OPE_CLI_CLAVE, OPE_DIV_CLAVE_SWIFT, OPE_NUM_TITULOS, OPE_PRECIO_POSTURA\n",
    "\t\tOPE_IMPORTE_TITULOS, OPE_FECHA_PACTADA, OPE_FECHA_SALDADA, OPE_FECHA_ALTA, OPE_FECHA_VENCIMIENTO, OPE_TIPO_PRESTAMO,\n",
    "\t\tOPE_TIPO_CAMBIO, OPE_TASA_PRESTAMO, OPE_DESCUENTO_PREST, OPE_PLAZO, OPE_PORC_COMISION, OPE_PORC_IVA, OPE_IMPORTE_COMISION,\n",
    "\t\tOPE_IMPORTE_TOTAL, OPE_IMPORTE_PRIMA, OPE_PRECIO_PRESTAMO, OPE_PRECIO_PACTADA\n",
    "\tFROM OPE_C2\n",
    "), TAB_FINAL AS (\n",
    "\tSELECT CV.*, TAOP.*\n",
    "\tFROM CLIENTES_VIG CV\n",
    "\tLEFT JOIN TAB_OPE TAOP ON TAOP.OPE_CLI_CLAVE = CV.CLI_CLAVE\n",
    ") SELECT * FROM TAB_FINAL\n",
    "\"\"\""
   ]
  },
  {
   "cell_type": "code",
   "execution_count": 19,
   "metadata": {},
   "outputs": [],
   "source": [
    "path_dir_productos = get_table(path_dir_today, db_meca, \"productos_clientes_meca\", query = query_productos_meca)"
   ]
  },
  {
   "cell_type": "markdown",
   "metadata": {},
   "source": [
    "# Transform the data and output the transformation"
   ]
  },
  {
   "cell_type": "code",
   "execution_count": 55,
   "metadata": {},
   "outputs": [
    {
     "data": {
      "text/plain": [
       "'/home/ale1726/proyects/datalake/clientes/data/productos/MECA/agrupados/21_04_2025'"
      ]
     },
     "execution_count": 55,
     "metadata": {},
     "output_type": "execute_result"
    }
   ],
   "source": [
    "path_dir_output_transformation = os.path.join(\"/home/ale1726/proyects/datalake/clientes/data/productos/MECA/agrupados\", date_now)\n",
    "os.makedirs(path_dir_output_transformation, exist_ok=True)\n",
    "path_dir_output_transformation"
   ]
  },
  {
   "cell_type": "code",
   "execution_count": null,
   "metadata": {},
   "outputs": [],
   "source": [
    "\"\"\" \n",
    "agrupaddo_anual_mensual = (\n",
    "    informacion_garantia\n",
    "    .groupby(['AÑO', 'MES'], as_index=False)\n",
    "    .agg(\n",
    "        INTERMEDIARIOS=('CLIENTE', 'nunique'),  # Número de clientes distintos\n",
    "        GARANTIAS=('NUMERO_DE_GARANTIA', 'count'),  # Número total de garantías\n",
    "        SUMA_MENSUAL_MONTO_GARANTIZADO = ('MONTO_GARANTIZADO', 'sum'),\n",
    "        TOTAL_MENSUAL_GANANCIA = ('GANANCIA','sum'),\n",
    "        PROMEDIO_MENSUAL_COMISION = ('PORCENTAJE_COMISION',lambda x: round(x.mean() , 4))\n",
    "    )\n",
    "    .assign(PROMEDIO_GARANTIAS_X_INTERMEDIARIO = lambda df: round(df['GARANTIAS'] / df['INTERMEDIARIOS']),\n",
    "            PROMEDIO_MENSUAL_MONTO_GARANTIZADO_X_GARANTIA = lambda df: round(df['SUMA_MENSUAL_MONTO_GARANTIZADO']/ df['GARANTIAS']))  # Calculo del promedio\n",
    "    .sort_values(by=['AÑO', 'MES'])\n",
    ")\n",
    "\n",
    "\"\"\""
   ]
  },
  {
   "cell_type": "code",
   "execution_count": 38,
   "metadata": {},
   "outputs": [],
   "source": [
    "productos_meca =  pd.read_csv(path_dir_productos, low_memory=False)"
   ]
  },
  {
   "cell_type": "code",
   "execution_count": 39,
   "metadata": {},
   "outputs": [],
   "source": [
    "productos_meca[\"OPE_FECHA_ALTA\"] = pd.to_datetime(productos_meca[\"OPE_FECHA_ALTA\"])\n",
    "productos_meca[\"OPE_FECHA_PACTADA\"] = pd.to_datetime(productos_meca[\"OPE_FECHA_PACTADA\"])\n",
    "productos_meca[\"OPE_FECHA_SALDADA\"] = pd.to_datetime(productos_meca[\"OPE_FECHA_SALDADA\"])\n",
    "productos_meca[\"OPE_FECHA_VENCIMIENTO\"] = pd.to_datetime(productos_meca[\"OPE_FECHA_VENCIMIENTO\"])"
   ]
  },
  {
   "cell_type": "code",
   "execution_count": 64,
   "metadata": {},
   "outputs": [],
   "source": [
    "productos_meca[\"AÑO_FALTA\"] = productos_meca[\"OPE_FECHA_ALTA\"].dt.year\n",
    "productos_meca[\"AÑO_FPACTADA\"] = productos_meca[\"OPE_FECHA_PACTADA\"].dt.year\n",
    "productos_meca[\"AÑO_FSALDADA\"] = productos_meca[\"OPE_FECHA_SALDADA\"].dt.year\n",
    "productos_meca[\"AÑO_FVENCIMIENTO\"] = productos_meca[\"OPE_FECHA_VENCIMIENTO\"].dt.year\n",
    "productos_meca[\"MES_FALTA\"] = productos_meca[\"OPE_FECHA_ALTA\"].dt.month\n",
    "productos_meca[\"MES_FALTA_STR\"] = productos_meca[\"OPE_FECHA_ALTA\"].dt.month_name()        \n",
    "\n",
    "\n",
    "productos_meca[\"MES_FPACTADA\"] = productos_meca[\"OPE_FECHA_PACTADA\"].dt.month\n",
    "productos_meca[\"MES_FSALDADA\"] = productos_meca[\"OPE_FECHA_SALDADA\"].dt.month\n",
    "productos_meca[\"MES_FVENCIMIENTO\"] = productos_meca[\"OPE_FECHA_VENCIMIENTO\"].dt.month\n",
    "\n",
    "#productos_meca[\"MES\"] = productos_meca[\"OPE_FECHA_ALTA\"].dt.month\n",
    "#productos_meca[\"MES\"] = productos_meca[\"OPE_FECHA_ALTA\"].dt.month_name()        "
   ]
  },
  {
   "cell_type": "code",
   "execution_count": 35,
   "metadata": {},
   "outputs": [
    {
     "data": {
      "text/plain": [
       "Index(['CLI_CLAVE_FFON', 'CLI_CLAVE', 'CLI_NOMBRE', 'TIPO_CLIENTE',\n",
       "       'OPE_FOLIO', 'OPE_TYPE', 'OPE_INS_CLAVE', 'INSTRUMENTO',\n",
       "       'OPE_SER_NUM_SERIE', 'OPE_SER_EMI_CLAVE', 'OPE_TMO_CLAVE',\n",
       "       'TIPO_MOVIMIENTO', 'OPE_CLI_CLAVE', 'OPE_DIV_CLAVE_SWIFT',\n",
       "       'OPE_NUM_TITULOS', 'OPE_IMPORTE_TITULOS', 'OPE_FECHA_PACTADA',\n",
       "       'OPE_FECHA_SALDADA', 'OPE_FECHA_ALTA', 'OPE_FECHA_VENCIMIENTO',\n",
       "       'OPE_TIPO_PRESTAMO', 'OPE_TIPO_CAMBIO', 'OPE_TASA_PRESTAMO',\n",
       "       'OPE_DESCUENTO_PREST', 'OPE_PLAZO', 'OPE_PORC_COMISION', 'OPE_PORC_IVA',\n",
       "       'OPE_IMPORTE_COMISION', 'OPE_IMPORTE_TOTAL', 'OPE_IMPORTE_PRIMA',\n",
       "       'OPE_PRECIO_PRESTAMO', 'OPE_PRECIO_PACTADA', 'AÑO_FALTA',\n",
       "       'AÑO_FPACTADA', 'AÑO_FSALDADA', 'AÑO_FVENCIMIENTO', 'MES_FALTA',\n",
       "       'MES_FPACTADA', 'MES_FSALDADA', 'MES_FVENCIMIENTO'],\n",
       "      dtype='object')"
      ]
     },
     "execution_count": 35,
     "metadata": {},
     "output_type": "execute_result"
    }
   ],
   "source": [
    "productos_meca.columns"
   ]
  },
  {
   "cell_type": "code",
   "execution_count": 71,
   "metadata": {},
   "outputs": [
    {
     "data": {
      "text/plain": [
       "TIPO_CLIENTE\n",
       "CASA DE BOLSA                156118\n",
       "BANCO                           426\n",
       "CLIENTES CORPORATIVOS            41\n",
       "CASA DE CAMBIO                   14\n",
       "AREAS NAFIN                       9\n",
       "PERSONA FISICA                    4\n",
       "SUCURSAL                          4\n",
       "PERSONA MORAL                     2\n",
       "PERSONA MORAL BANCOMER 22         1\n",
       "Name: count, dtype: int64"
      ]
     },
     "execution_count": 71,
     "metadata": {},
     "output_type": "execute_result"
    }
   ],
   "source": [
    "productos_meca.value_counts('TIPO_CLIENTE')"
   ]
  },
  {
   "cell_type": "code",
   "execution_count": 52,
   "metadata": {},
   "outputs": [],
   "source": [
    "agrupado_operaciones_anuales = (\n",
    "    productos_meca.groupby(['AÑO_FALTA'], as_index=False)\n",
    "    .agg(\n",
    "        num_operaciones=('OPE_FOLIO', 'count'), \n",
    "        monto_anuales_sum=('OPE_IMPORTE_TOTAL', 'sum'), \n",
    "        monto_anuales_min=('OPE_IMPORTE_TOTAL', 'min'), \n",
    "        monto_anuales_max=('OPE_IMPORTE_TOTAL', 'max'), \n",
    "        monto_anuales_mean=('OPE_IMPORTE_TOTAL', 'mean'), \n",
    "        monto_anuales_median=('OPE_IMPORTE_TOTAL', 'median')\n",
    "    ).sort_values(by=['AÑO_FALTA'], ascending=True)\n",
    ")"
   ]
  },
  {
   "cell_type": "code",
   "execution_count": 54,
   "metadata": {},
   "outputs": [],
   "source": [
    "agrupado_operaciones_anuales.to_csv(os.path.join(path_dir_output_transformation, \"agrupado_operaciones_anuales.csv\"), index=False)"
   ]
  },
  {
   "cell_type": "code",
   "execution_count": 65,
   "metadata": {},
   "outputs": [],
   "source": [
    "agrupado_operaciones_anuales_mes = (\n",
    "    productos_meca.groupby(['AÑO_FALTA','MES_FALTA','MES_FALTA_STR'], as_index=False)\n",
    "    .agg(\n",
    "        num_operaciones=('OPE_FOLIO', 'count'), \n",
    "        monto_anuales_sum=('OPE_IMPORTE_TOTAL', 'sum'), \n",
    "        monto_anuales_min=('OPE_IMPORTE_TOTAL', 'min'), \n",
    "        monto_anuales_max=('OPE_IMPORTE_TOTAL', 'max'), \n",
    "        monto_anuales_mean=('OPE_IMPORTE_TOTAL', 'mean'), \n",
    "        monto_anuales_median=('OPE_IMPORTE_TOTAL', 'median')\n",
    "    ).sort_values(by=['AÑO_FALTA','MES_FALTA'], ascending=True)\n",
    ")"
   ]
  },
  {
   "cell_type": "code",
   "execution_count": 68,
   "metadata": {},
   "outputs": [],
   "source": [
    "agrupado_operaciones_anuales_mes.to_csv(os.path.join(path_dir_output_transformation, \"agrupado_operaciones_anuales_mes.csv\"), index=False)"
   ]
  }
 ],
 "metadata": {
  "kernelspec": {
   "display_name": "myenv_1",
   "language": "python",
   "name": "python3"
  },
  "language_info": {
   "codemirror_mode": {
    "name": "ipython",
    "version": 3
   },
   "file_extension": ".py",
   "mimetype": "text/x-python",
   "name": "python",
   "nbconvert_exporter": "python",
   "pygments_lexer": "ipython3",
   "version": "3.10.12"
  }
 },
 "nbformat": 4,
 "nbformat_minor": 2
}
