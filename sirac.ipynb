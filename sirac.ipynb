{
 "cells": [
  {
   "cell_type": "markdown",
   "metadata": {
    "vscode": {
     "languageId": "plaintext"
    }
   },
   "source": [
    "El objetivo es encotrar la informacion mas posible, y que sea de calidad. De acuerdo a los criterios de PLD\n",
    "La tabla de clientes es\n",
    "\n",
    "| Información requerida                   | Información obtenida                              |\n",
    "|-----------------------------------------|--------------------------------------------------|\n",
    "| negocio                                 |                                                  |\n",
    "| nombre cliente o razón social           |    NOMBRES, PRIMER_APELLIDO, SEGUNDO_APELLIDO, RAZON_SOCIAL, NOMBRE_COMERCIAL |\n",
    "| número cliente                          |    codigo_cliente                                         |\n",
    "| estatus                                 |      Por movimientos                             |    \n",
    "| número contrato                         | NUMERO DE CONTRADO ORIGEN: PR_CONTRATOS          |\n",
    "| género                                  |     SEXO IF PF ELSE N/A |\n",
    "| fecha_nacimiento o de constitución      |   FECHA_DE_NACIMIENTO                            |\n",
    "| entidad federativa nacimiento           |                                   |\n",
    "| país de nacimiento                      |           PAIS_NACIMIENTO                                       |\n",
    "| nacionalidad                            |    SE OBTIENE DE MG_PAISES|\n",
    "| profesión                               |    CODIGO_PROFESION                                              |\n",
    "| calle                                   |                                 |\n",
    "| número_exterior                         |                                                  |\n",
    "| número_interior                         |                                                  |\n",
    "| colonia_urbanización                    |                                                  |\n",
    "| delegación_municipio                    |          CODIGO_MUNICIPIO                                        |\n",
    "| ciudad_población                        |                                                  |\n",
    "| entidad_federativa                      |          CODIGO_DEPARTAMENTO                          |\n",
    "| código postal                           |                                                  |\n",
    "| país                                    |       CODIGO_PAIS                         |\n",
    "| teléfono                                |                                    |\n",
    "| correo_electrónico                      |                                                  |\n",
    "| rfc                                     | NUMERO_IDENTIFICACION     |\n",
    "| curp                                    |       CURP                                           |\n",
    "| fiel                                    |          FIEL                                        |\n",
    "| representante legal                     |    REPRESENTANTE_LEGAL                                              |\n",
    "| tipo de persona                         |   CODIGO_TIPO_IDENTIFICACION       5:PF 7:PM   |\n",
    "| clasificación por grado de riesgo       |                                                  |\n",
    "| pep (persona políticamente expuesta)    |                                                  |\n",
    "| razón                                   |                                                  |\n",
    "| producto contratado                     |                   |\n",
    "| cambios en perfil transaccional         |          INFORMACION NO ENCONTRADA                                        |"
   ]
  }
 ],
 "metadata": {
  "kernelspec": {
   "display_name": "myenv_1",
   "language": "python",
   "name": "python3"
  },
  "language_info": {
   "name": "python",
   "version": "3.10.12"
  }
 },
 "nbformat": 4,
 "nbformat_minor": 2
}
