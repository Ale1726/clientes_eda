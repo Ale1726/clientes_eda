{
 "cells": [
  {
   "cell_type": "markdown",
   "metadata": {},
   "source": [
    "| Información requerida                   | Información obtenida                                     |\n",
    "|-----------------------------------------|----------------------------------------------------------|\n",
    "| negocio                                 |                             |\n",
    "| nombre cliente o razón social           |                       DESCRIPCION                        |\n",
    "| número cliente                          |                       CLAVE                              |      \n",
    "| estatus                                 | WHERE ESTATUS_GARANTIA IS NULL OR ESTATUS_GARANTIA = 'R' |\n",
    "| número contrato                         |                      CLAVE DE GARANTIA                   |\n",
    "| género                                  |                          |\n",
    "| fecha_nacimiento o de constitución      |                          |\n",
    "| entidad federativa nacimiento           |                          |\n",
    "| país de nacimiento                      |                          |\n",
    "| nacionalidad                            |                          |\n",
    "| profesión                               |                          |\n",
    "| calle                                   |                          |\n",
    "| número_exterior                         |                          |\n",
    "| número_interior                         |                          |\n",
    "| colonia_urbanización                    |                          |\n",
    "| delegación_municipio                    |                          |\n",
    "| ciudad_población                        |                          |\n",
    "| entidad_federativa                      |                          |\n",
    "| código postal                           |                          |\n",
    "| país                                    |                          |\n",
    "| teléfono                                |             GIA_FUNCIONARIOS_FACULTADOS                  |\n",
    "| correo_electrónico                      |                          |\n",
    "| rfc                                     |                  CLAVE_INTERMEDIARIO_SIFC                |\n",
    "| curp                                    |                          |\n",
    "| fiel                                    |                          |\n",
    "| representante legal                     |                          |\n",
    "| tipo de persona                         |                          |    \n",
    "| clasificación por grado de riesgo       |                          |\n",
    "| pep (persona políticamente expuesta)    |                          |\n",
    "| razón                                   |                          |\n",
    "| producto contratado                     |                 GARANTIA: GIA.SIAG_PRODUCTOESPECIFICO  |\n",
    "| cambios en perfil transaccional         |                          |\n",
    "\n",
    "\n",
    "- SE TOMA EL ESTATUS DEL CLIENTE, CUANDO LA GARANTIA EN SU TABLA LA COLUMNA ESTATUS GARANTIA ESTÉ EN NULL O SEA 'R' REINSTALADA\n",
    "- TELEFENO SE OBTIENE POR LA TABLA GIA_FUNCIONARIO INTER_CLAVE \n",
    "¿MONTO DEL CREDITO A GARANTIA?\n",
    "¿PLAZO DEL CREDITO ?\n",
    "¿TASA DE INTERES DEL CREDITO ? \n",
    "¿PORCENTAJE GARANTIZADO POR NAIFN?\n",
    "¿MONTO GARANTIZADO POR NAIFN?\n",
    "¿PORCENTAJE_COMISION'\n",
    "MONTO_COMISION \n",
    "MONTO_CREDITO,  IMPORTE_DISPOSICION, PLAZO, GRACIA, TASA_INTERES, PORCENTAJE_GARANTIZADO, MONTO_GARANTIZADO, PORCENTAJE_COMISION,\n",
    "CVE_CARTERA, CVE_PORTAFOLIO, "
   ]
  },
  {
   "cell_type": "code",
   "execution_count": 35,
   "metadata": {},
   "outputs": [],
   "source": [
    "from utils.tf import *\n",
    "from utils.db import *\n",
    "from utils.gd import * \n",
    "from utils.clt_repetidos import *\n",
    "from datetime import datetime\n",
    "import cx_Oracle\n",
    "import pandas as pd\n",
    "import os\n",
    "import plotly.express as px\n",
    "import plotly.graph_objects as go\n",
    "from utils.clt_repetidos import *"
   ]
  },
  {
   "cell_type": "code",
   "execution_count": 24,
   "metadata": {},
   "outputs": [],
   "source": [
    "df = pd.read_csv(\"/home/ale1726/proyects/datalake/clientes/data/Clientes_activos_SIAG.dat\")"
   ]
  },
  {
   "cell_type": "code",
   "execution_count": 36,
   "metadata": {},
   "outputs": [],
   "source": [
    "df[\"TELEFONO\"] = df[\"TELEFONO\"].apply(lambda x: \" -- \".join(sorted(set(c.strip() for c in x.split(\"--\") if c.strip() != 'NA'))) if \"--\" in str(x) else x)\n"
   ]
  },
  {
   "cell_type": "code",
   "execution_count": 37,
   "metadata": {},
   "outputs": [],
   "source": [
    "df[\"RFC\"] = df[\"RFC\"].apply(lambda x: normalizar_RFC(x) if pd.notna(x) and verificar_rfc(normalizar_RFC(x)) else \"XXXXXXXXXXXXX\")"
   ]
  },
  {
   "cell_type": "code",
   "execution_count": 38,
   "metadata": {},
   "outputs": [],
   "source": [
    "df['FECHA_DE_ACTUALIZACION'] = datetime.now().strftime('%d/%m/%y')\n",
    "col_final = ['NEGOCIO', 'NOMBRE_O_RAZON_SOCIAL', 'NUMERO_CLIENTE', 'ESTATUS',\n",
    "           'NUMERO_CONTRATO', 'GENERO', 'FECHA_NAC_O_CONST',\n",
    "           'ENTIDAD_FEDERATIVA_NACIMIENTO', 'PAIS_DE_NACIMIENTO', 'NACIONALIDAD',\n",
    "           'PROFESION', 'CALLE', 'NUMERO_EXTERIOR', 'NUMERO_INTERIOR',\n",
    "           'COLONIA_URBANIZACION', 'DELEGACION_MUNICIPIO', 'CIUDAD_POBLACION',\n",
    "           'ENTIDAD_FEDERATIVA', 'CODIGO_POSTAL', 'PAIS', 'TELEFONO',\n",
    "           'CORREO_ELECTRONICO', 'RFC', 'CURP', 'FIEL', 'REPRESENTANTE_LEGAL',\n",
    "           'TIPO_PERSONA', 'PRODUCTO_CONTRATADO',\n",
    "           'SISTEMA_ORIGEN', 'FECHA_DE_ACTUALIZACION']\n",
    "df = df[col_final]"
   ]
  },
  {
   "cell_type": "code",
   "execution_count": 28,
   "metadata": {},
   "outputs": [],
   "source": [
    "clt_repetidos = compara_nombres(df, df, \"NOMBRE_O_RAZON_SOCIAL\", \"NOMBRE_O_RAZON_SOCIAL\",\"NUMERO_CLIENTE\",\"NUMERO_CLIENTE\", 95)\n",
    "if not clt_repetidos.empty:\n",
    "    df_resul, drops_ids = agregar_asociaciones_clientes(clt_repetidos,df)\n",
    "    df = df.drop(drops_ids)\n",
    "    df = pd.concat([df, df_resul], ignore_index=True)\n",
    "    df = df.sort_values(\"NOMBRE_O_RAZON_SOCIAL\")"
   ]
  },
  {
   "cell_type": "code",
   "execution_count": 39,
   "metadata": {},
   "outputs": [],
   "source": [
    "tipo_financiera_sirac = {\n",
    "    1: 'BANCOS',\n",
    "    2: 'UNIONES DE CREDITO',\n",
    "    3: 'ENTIDADES DE FOMENTO',\n",
    "    4: 'EMP. DE FACTORAJE BANCARIAS',\n",
    "    5: 'EMP. DE FACTORAJE NO BANCARIAS',\n",
    "    6: 'ARRENDADORAS BANCARIAS',\n",
    "    7: 'ARRENDADORAS NO BANCARIAS',\n",
    "    8: 'AFIANZADORAS',\n",
    "    9: 'FIDEICOMISO AAA',\n",
    "    10: 'SOCIEDADES DE OBJETO LIMITADO',\n",
    "    11: 'EMP. FACT. NO BANCARIAS PLUS',\n",
    "    12: 'ARRENDAD. NO BANCARIAS PLUS',\n",
    "    13: 'SOC. DE OBJETO LIMITADO PLUS',\n",
    "    14: 'BANCOS 1ER. PISO',\n",
    "    15: 'EMP FACT BANCARI C/CTA SOBGIRO',\n",
    "    16: 'ORG. AUX. DE CREDITO 1ER. PISO',\n",
    "    17: 'EMP. FACTORAJE 1ER. PISO',\n",
    "    18: 'MANDATOS 1ER. PISO',\n",
    "    19: 'SOC FIN OBJETO MULT 1PISO PLUS',\n",
    "    20: 'FIDEICOMISOS 1ER. PISO',\n",
    "    21: 'IFNB ESPECIALES',\n",
    "    22: 'SOCIEDAD FINANCIERA POPULAR',\n",
    "    23: 'SOC. FINAN. DE OBJETO MULTIPLE',\n",
    "    24: 'FIDEICOMISO',\n",
    "    25: 'ALMACENADORAS',\n",
    "    26: 'DIRECTOS',\n",
    "    27: 'COMISIONISTA',\n",
    "    28: 'SINDICATO BANCARIO',\n",
    "    29: 'SOC. COOPERATIVAS AHORRO PREST',\n",
    "    30: 'SOCIEDAD ANONIMA PROMOTORA INV'\n",
    "}"
   ]
  },
  {
   "cell_type": "code",
   "execution_count": 40,
   "metadata": {},
   "outputs": [],
   "source": [
    "df[\"TIPO_PERSONA\"] = df[\"TIPO_PERSONA\"].apply(lambda x: tipo_financiera_sirac.get(x,x))"
   ]
  },
  {
   "cell_type": "code",
   "execution_count": 42,
   "metadata": {},
   "outputs": [],
   "source": [
    "name_archivo = os.path.join(\"/home/ale1726/proyects/datalake/clientes/data/ETL\",\"CLientesT_SIAG.csv\")\n",
    "df.to_csv(name_archivo,index=False)"
   ]
  }
 ],
 "metadata": {
  "kernelspec": {
   "display_name": "myenv_1",
   "language": "python",
   "name": "python3"
  },
  "language_info": {
   "codemirror_mode": {
    "name": "ipython",
    "version": 3
   },
   "file_extension": ".py",
   "mimetype": "text/x-python",
   "name": "python",
   "nbconvert_exporter": "python",
   "pygments_lexer": "ipython3",
   "version": "3.10.12"
  }
 },
 "nbformat": 4,
 "nbformat_minor": 2
}
