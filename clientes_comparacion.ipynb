{
 "cells": [
  {
   "cell_type": "code",
   "execution_count": 5,
   "id": "eb371904",
   "metadata": {},
   "outputs": [],
   "source": [
    "from utils.tf import *\n",
    "from utils.db import *\n",
    "from utils.gd2 import *\n",
    "from utils.clt_repetidos import *\n",
    "from datetime import datetime, time, timedelta\n",
    "import cx_Oracle\n",
    "import pandas as pd\n",
    "import os\n",
    "from utils.clt_repetidos import * \n",
    "from datetime import datetime\n",
    "import re\n",
    "import polars as pl\n",
    "import gc\n",
    "import polars as pl\n",
    "from rapidfuzz import fuzz\n",
    "from multiprocessing import Pool, cpu_count"
   ]
  },
  {
   "cell_type": "code",
   "execution_count": 6,
   "id": "022eacd3",
   "metadata": {},
   "outputs": [],
   "source": [
    "def comparar_filas(args):\n",
    "    idx1, nombre1, df2, col2, id2, umbral = args\n",
    "    coincidencias = []\n",
    "\n",
    "    for row in df2.iter_rows(named=True):\n",
    "        nombre2 = row[col2]\n",
    "        sim = fuzz.ratio(nombre1, nombre2)\n",
    "        if sim >= umbral:\n",
    "            coincidencias.append({\n",
    "                \"id_1\": idx1,\n",
    "                \"nombre_1\": nombre1,\n",
    "                \"id_2\": row[id2],\n",
    "                \"nombre_2\": nombre2,\n",
    "                \"score\": sim\n",
    "            })\n",
    "    return coincidencias\n",
    "\n",
    "def comparar_dataframes_polars(df1: pl.DataFrame, col1: str, id1: str,\n",
    "                                df2: pl.DataFrame, col2: str, id2: str,\n",
    "                                umbral: int = 90, n_procesos: int = None) -> pl.DataFrame:\n",
    "    if n_procesos is None:\n",
    "        n_procesos = max(cpu_count() - 1, 1)\n",
    "\n",
    "    df2_rows = df2[[col2, id2]].clone()\n",
    "\n",
    "    # Empaquetar argumentos para cada fila de df1\n",
    "    argumentos = [\n",
    "        (row[id1], row[col1], df2_rows, col2, id2, umbral)\n",
    "        for row in df1.iter_rows(named=True)\n",
    "    ]\n",
    "\n",
    "    with Pool(n_procesos) as pool:\n",
    "        resultados = pool.map(comparar_filas, argumentos)\n",
    "\n",
    "    # Aplanar lista de listas\n",
    "    coincidencias = [item for sublist in resultados for item in sublist]\n",
    "\n",
    "    if not coincidencias:\n",
    "        return pl.DataFrame()\n",
    "\n",
    "    return pl.DataFrame(coincidencias)\n"
   ]
  },
  {
   "cell_type": "markdown",
   "id": "75d4456b",
   "metadata": {},
   "source": [
    "# Pasar de excel a csv"
   ]
  },
  {
   "cell_type": "code",
   "execution_count": null,
   "id": "e5731c31",
   "metadata": {},
   "outputs": [],
   "source": [
    "df_clientes_pld = pd.read_excel(\n",
    "    \"/home/ale1726/proyects/datalake/clientes/data/BASE ÚNICA DE CLIENTES 2.xlsx\",\n",
    "    sheet_name=\"CONSOLIDADO FINAL LIMPIO\",\n",
    "    header=1\n",
    ")"
   ]
  },
  {
   "cell_type": "code",
   "execution_count": null,
   "id": "5a3e97a9",
   "metadata": {},
   "outputs": [],
   "source": [
    "df_clientes_pld.to_csv(\n",
    "    \"/home/ale1726/proyects/datalake/clientes/data/BASE ÚNICA DE CLIENTES 2.csv\",\n",
    "    index=False,\n",
    "    encoding=\"utf-8\",\n",
    "    sep=\";\"\n",
    ")\n"
   ]
  },
  {
   "cell_type": "markdown",
   "id": "6a3522f9",
   "metadata": {},
   "source": [
    "# Comparación"
   ]
  },
  {
   "cell_type": "code",
   "execution_count": 7,
   "id": "b74f4c11",
   "metadata": {},
   "outputs": [],
   "source": [
    "df_clientes =  pl.read_csv(\"/home/ale1726/proyects/datalake/clientes/data/test/data/transformar/30_05_2025/CLientesT_FINAL_ACTIVOS.csv\")"
   ]
  },
  {
   "cell_type": "code",
   "execution_count": 8,
   "id": "b7cb69f7",
   "metadata": {},
   "outputs": [],
   "source": [
    "\n",
    "df_clientes_pld = pl.read_csv(\n",
    "    \"/home/ale1726/proyects/datalake/clientes/data/BASE ÚNICA DE CLIENTES 2.csv\",\n",
    "    encoding=\"utf8-lossy\",             # tolerante a caracteres raros\n",
    "    separator=\";\",                     # si usaste `sep=\";\"` al guardar\n",
    "    ignore_errors=True,                # ignora filas malformadas\n",
    "    truncate_ragged_lines=True         # completa filas cortadas con valores nulos\n",
    ")\n"
   ]
  },
  {
   "cell_type": "code",
   "execution_count": null,
   "id": "1c4a3a21",
   "metadata": {},
   "outputs": [],
   "source": [
    "df_clientes_pld.filter(col = \"Número\" )"
   ]
  },
  {
   "cell_type": "code",
   "execution_count": 14,
   "id": "82ae2ad9",
   "metadata": {},
   "outputs": [],
   "source": [
    "df_80139 = df_clientes_pld.filter(pl.col(\"Número PLD\") == \"80139\")"
   ]
  },
  {
   "cell_type": "code",
   "execution_count": 16,
   "id": "720092e9",
   "metadata": {},
   "outputs": [
    {
     "data": {
      "text/html": [
       "<div><style>\n",
       ".dataframe > thead > tr,\n",
       ".dataframe > tbody > tr {\n",
       "  text-align: right;\n",
       "  white-space: pre-wrap;\n",
       "}\n",
       "</style>\n",
       "<small>shape: (3, 1)</small><table border=\"1\" class=\"dataframe\"><thead><tr><th>RFC</th></tr><tr><td>struct[2]</td></tr></thead><tbody><tr><td>{&quot;FDA050428177&quot;,1}</td></tr><tr><td>{&quot;NFI3406305T0&quot;,525}</td></tr><tr><td>{&quot;-&quot;,1}</td></tr></tbody></table></div>"
      ],
      "text/plain": [
       "shape: (3, 1)\n",
       "┌──────────────────────┐\n",
       "│ RFC                  │\n",
       "│ ---                  │\n",
       "│ struct[2]            │\n",
       "╞══════════════════════╡\n",
       "│ {\"FDA050428177\",1}   │\n",
       "│ {\"NFI3406305T0\",525} │\n",
       "│ {\"-\",1}              │\n",
       "└──────────────────────┘"
      ]
     },
     "execution_count": 16,
     "metadata": {},
     "output_type": "execute_result"
    }
   ],
   "source": [
    "df_80139.select(pl.col(\"RFC\").value_counts())\n"
   ]
  },
  {
   "cell_type": "code",
   "execution_count": null,
   "id": "97287c3c",
   "metadata": {},
   "outputs": [
    {
     "data": {
      "text/html": [
       "<div><style>\n",
       ".dataframe > thead > tr,\n",
       ".dataframe > tbody > tr {\n",
       "  text-align: right;\n",
       "  white-space: pre-wrap;\n",
       "}\n",
       "</style>\n",
       "<small>shape: (527, 11)</small><table border=\"1\" class=\"dataframe\"><thead><tr><th>Dirección</th><th>Producto</th><th>Número Fiso</th><th>Número PLD</th><th>Cuenta/Contrato</th><th>Cliente</th><th>Intermediario</th><th>RFC</th><th>NOMBRE DE DIFM</th><th>NOMBRE FINAL</th><th>comentario</th></tr><tr><td>str</td><td>str</td><td>str</td><td>str</td><td>i64</td><td>str</td><td>str</td><td>str</td><td>str</td><td>str</td><td>str</td></tr></thead><tbody><tr><td>&quot;DAPM&quot;</td><td>&quot;SERVICIOS DE INVERSIÓN&quot;</td><td>&quot;F80139&quot;</td><td>&quot;80139&quot;</td><td>1063586</td><td>null</td><td>null</td><td>&quot;NFI3406305T0&quot;</td><td>&quot; NAFIN FIDUCIARIO FIDEICOMISO …</td><td>&quot;NACIONAL FINANCIERA SNC EN SU …</td><td>null</td></tr><tr><td>&quot;DAPM&quot;</td><td>&quot;SERVICIOS DE INVERSIÓN&quot;</td><td>&quot;F80139&quot;</td><td>&quot;80139&quot;</td><td>1064792</td><td>null</td><td>null</td><td>&quot;NFI3406305T0&quot;</td><td>&quot;AFIN FISO CONTRAGTIA FIN EMP F…</td><td>&quot;NACIONAL FINANCIERA SNC EN SU …</td><td>null</td></tr><tr><td>&quot;FISO&quot;</td><td>&quot;SERVICIOS FIDUCIARIOS&quot;</td><td>&quot;F80139&quot;</td><td>&quot;80139&quot;</td><td>null</td><td>null</td><td>null</td><td>&quot;-&quot;</td><td>&quot;CONTRAGARANTIA PARA EL FINANCI…</td><td>&quot;NACIONAL FINANCIERA SNC EN SU …</td><td>null</td></tr><tr><td>&quot;DAPM&quot;</td><td>&quot;SERVICIOS DE INVERSIÓN&quot;</td><td>&quot;F80139&quot;</td><td>&quot;80139&quot;</td><td>1060824</td><td>null</td><td>null</td><td>&quot;NFI3406305T0&quot;</td><td>&quot;DIRECCION DE FIDEICOMISOS |FIS…</td><td>&quot;NACIONAL FINANCIERA SNC EN SU …</td><td>null</td></tr><tr><td>&quot;DAPM&quot;</td><td>&quot;SERVICIOS DE INVERSIÓN&quot;</td><td>&quot;F80139&quot;</td><td>&quot;80139&quot;</td><td>1062592</td><td>null</td><td>null</td><td>&quot;NFI3406305T0&quot;</td><td>&quot;DIRECCION DE FIDEICOMISOS 8013…</td><td>&quot;DIRECCION DE FIDEICOMISOS 8013…</td><td>null</td></tr><tr><td>&hellip;</td><td>&hellip;</td><td>&hellip;</td><td>&hellip;</td><td>&hellip;</td><td>&hellip;</td><td>&hellip;</td><td>&hellip;</td><td>&hellip;</td><td>&hellip;</td><td>&hellip;</td></tr><tr><td>&quot;DAPM&quot;</td><td>&quot;SERVICIOS DE INVERSIÓN&quot;</td><td>&quot;F80139&quot;</td><td>&quot;80139&quot;</td><td>1064767</td><td>null</td><td>null</td><td>&quot;NFI3406305T0&quot;</td><td>&quot;NAFIN SNC FIDU FISO CONTRAGARA…</td><td>&quot;NACIONAL FINANCIERA SNC EN SU …</td><td>null</td></tr><tr><td>&quot;DAPM&quot;</td><td>&quot;SERVICIOS DE INVERSIÓN&quot;</td><td>&quot;F80139&quot;</td><td>&quot;80139&quot;</td><td>1064791</td><td>null</td><td>null</td><td>&quot;NFI3406305T0&quot;</td><td>&quot;NAFIN, FISO CGTIA FINANCIAMIEN…</td><td>&quot;NACIONAL FINANCIERA SNC EN SU …</td><td>null</td></tr><tr><td>&quot;DAPM&quot;</td><td>&quot;SERVICIOS DE INVERSIÓN&quot;</td><td>&quot;F80139&quot;</td><td>&quot;80139&quot;</td><td>1064461</td><td>null</td><td>null</td><td>&quot;NFI3406305T0&quot;</td><td>&quot;NAFIN, S.N.C EN SU CARACTER DE…</td><td>&quot;NACIONAL FINANCIERA SNC EN SU …</td><td>null</td></tr><tr><td>&quot;DAPM&quot;</td><td>&quot;SERVICIOS DE INVERSIÓN&quot;</td><td>&quot;F80139&quot;</td><td>&quot;80139&quot;</td><td>1064472</td><td>null</td><td>null</td><td>&quot;NFI3406305T0&quot;</td><td>&quot;NAFIN, S.N.C. EM SU CARACTE DE…</td><td>&quot;NACIONAL FINANCIERA SNC EN SU …</td><td>null</td></tr><tr><td>&quot;DAPM&quot;</td><td>&quot;SERVICIOS DE INVERSIÓN&quot;</td><td>&quot;F80139&quot;</td><td>&quot;80139&quot;</td><td>1056114</td><td>null</td><td>null</td><td>&quot;NFI3406305T0&quot;</td><td>&quot;PROG. FINANC. PROVEEDORES SECT…</td><td>&quot;NACIONAL FINANCIERA SNC EN SU …</td><td>null</td></tr></tbody></table></div>"
      ],
      "text/plain": [
       "shape: (527, 11)\n",
       "┌───────────┬───────────┬───────────┬───────────┬───┬───────────┬───────────┬───────────┬──────────┐\n",
       "│ Dirección ┆ Producto  ┆ Número    ┆ Número    ┆ … ┆ RFC       ┆ NOMBRE DE ┆ NOMBRE    ┆ comentar │\n",
       "│ ---       ┆ ---       ┆ Fiso      ┆ PLD       ┆   ┆ ---       ┆ DIFM      ┆ FINAL     ┆ io       │\n",
       "│ str       ┆ str       ┆ ---       ┆ ---       ┆   ┆ str       ┆ ---       ┆ ---       ┆ ---      │\n",
       "│           ┆           ┆ str       ┆ str       ┆   ┆           ┆ str       ┆ str       ┆ str      │\n",
       "╞═══════════╪═══════════╪═══════════╪═══════════╪═══╪═══════════╪═══════════╪═══════════╪══════════╡\n",
       "│ DAPM      ┆ SERVICIOS ┆ F80139    ┆ 80139     ┆ … ┆ NFI340630 ┆ NAFIN FID ┆ NACIONAL  ┆ null     │\n",
       "│           ┆ DE        ┆           ┆           ┆   ┆ 5T0       ┆ UCIARIO   ┆ FINANCIER ┆          │\n",
       "│           ┆ INVERSIÓN ┆           ┆           ┆   ┆           ┆ FIDEICOMI ┆ A SNC EN  ┆          │\n",
       "│           ┆           ┆           ┆           ┆   ┆           ┆ SO …      ┆ SU …      ┆          │\n",
       "│ DAPM      ┆ SERVICIOS ┆ F80139    ┆ 80139     ┆ … ┆ NFI340630 ┆ AFIN FISO ┆ NACIONAL  ┆ null     │\n",
       "│           ┆ DE        ┆           ┆           ┆   ┆ 5T0       ┆ CONTRAGTI ┆ FINANCIER ┆          │\n",
       "│           ┆ INVERSIÓN ┆           ┆           ┆   ┆           ┆ A FIN EMP ┆ A SNC EN  ┆          │\n",
       "│           ┆           ┆           ┆           ┆   ┆           ┆ F…        ┆ SU …      ┆          │\n",
       "│ FISO      ┆ SERVICIOS ┆ F80139    ┆ 80139     ┆ … ┆ -         ┆ CONTRAGAR ┆ NACIONAL  ┆ null     │\n",
       "│           ┆ FIDUCIARI ┆           ┆           ┆   ┆           ┆ ANTIA     ┆ FINANCIER ┆          │\n",
       "│           ┆ OS        ┆           ┆           ┆   ┆           ┆ PARA EL   ┆ A SNC EN  ┆          │\n",
       "│           ┆           ┆           ┆           ┆   ┆           ┆ FINANCI…  ┆ SU …      ┆          │\n",
       "│ DAPM      ┆ SERVICIOS ┆ F80139    ┆ 80139     ┆ … ┆ NFI340630 ┆ DIRECCION ┆ NACIONAL  ┆ null     │\n",
       "│           ┆ DE        ┆           ┆           ┆   ┆ 5T0       ┆ DE FIDEIC ┆ FINANCIER ┆          │\n",
       "│           ┆ INVERSIÓN ┆           ┆           ┆   ┆           ┆ OMISOS    ┆ A SNC EN  ┆          │\n",
       "│           ┆           ┆           ┆           ┆   ┆           ┆ |FIS…     ┆ SU …      ┆          │\n",
       "│ DAPM      ┆ SERVICIOS ┆ F80139    ┆ 80139     ┆ … ┆ NFI340630 ┆ DIRECCION ┆ DIRECCION ┆ null     │\n",
       "│           ┆ DE        ┆           ┆           ┆   ┆ 5T0       ┆ DE FIDEIC ┆ DE FIDEIC ┆          │\n",
       "│           ┆ INVERSIÓN ┆           ┆           ┆   ┆           ┆ OMISOS    ┆ OMISOS    ┆          │\n",
       "│           ┆           ┆           ┆           ┆   ┆           ┆ 8013…     ┆ 8013…     ┆          │\n",
       "│ …         ┆ …         ┆ …         ┆ …         ┆ … ┆ …         ┆ …         ┆ …         ┆ …        │\n",
       "│ DAPM      ┆ SERVICIOS ┆ F80139    ┆ 80139     ┆ … ┆ NFI340630 ┆ NAFIN SNC ┆ NACIONAL  ┆ null     │\n",
       "│           ┆ DE        ┆           ┆           ┆   ┆ 5T0       ┆ FIDU FISO ┆ FINANCIER ┆          │\n",
       "│           ┆ INVERSIÓN ┆           ┆           ┆   ┆           ┆ CONTRAGAR ┆ A SNC EN  ┆          │\n",
       "│           ┆           ┆           ┆           ┆   ┆           ┆ A…        ┆ SU …      ┆          │\n",
       "│ DAPM      ┆ SERVICIOS ┆ F80139    ┆ 80139     ┆ … ┆ NFI340630 ┆ NAFIN,    ┆ NACIONAL  ┆ null     │\n",
       "│           ┆ DE        ┆           ┆           ┆   ┆ 5T0       ┆ FISO      ┆ FINANCIER ┆          │\n",
       "│           ┆ INVERSIÓN ┆           ┆           ┆   ┆           ┆ CGTIA FIN ┆ A SNC EN  ┆          │\n",
       "│           ┆           ┆           ┆           ┆   ┆           ┆ ANCIAMIEN ┆ SU …      ┆          │\n",
       "│           ┆           ┆           ┆           ┆   ┆           ┆ …         ┆           ┆          │\n",
       "│ DAPM      ┆ SERVICIOS ┆ F80139    ┆ 80139     ┆ … ┆ NFI340630 ┆ NAFIN,    ┆ NACIONAL  ┆ null     │\n",
       "│           ┆ DE        ┆           ┆           ┆   ┆ 5T0       ┆ S.N.C EN  ┆ FINANCIER ┆          │\n",
       "│           ┆ INVERSIÓN ┆           ┆           ┆   ┆           ┆ SU        ┆ A SNC EN  ┆          │\n",
       "│           ┆           ┆           ┆           ┆   ┆           ┆ CARACTER  ┆ SU …      ┆          │\n",
       "│           ┆           ┆           ┆           ┆   ┆           ┆ DE…       ┆           ┆          │\n",
       "│ DAPM      ┆ SERVICIOS ┆ F80139    ┆ 80139     ┆ … ┆ NFI340630 ┆ NAFIN,    ┆ NACIONAL  ┆ null     │\n",
       "│           ┆ DE        ┆           ┆           ┆   ┆ 5T0       ┆ S.N.C. EM ┆ FINANCIER ┆          │\n",
       "│           ┆ INVERSIÓN ┆           ┆           ┆   ┆           ┆ SU        ┆ A SNC EN  ┆          │\n",
       "│           ┆           ┆           ┆           ┆   ┆           ┆ CARACTE   ┆ SU …      ┆          │\n",
       "│           ┆           ┆           ┆           ┆   ┆           ┆ DE…       ┆           ┆          │\n",
       "│ DAPM      ┆ SERVICIOS ┆ F80139    ┆ 80139     ┆ … ┆ NFI340630 ┆ PROG.     ┆ NACIONAL  ┆ null     │\n",
       "│           ┆ DE        ┆           ┆           ┆   ┆ 5T0       ┆ FINANC.   ┆ FINANCIER ┆          │\n",
       "│           ┆ INVERSIÓN ┆           ┆           ┆   ┆           ┆ PROVEEDOR ┆ A SNC EN  ┆          │\n",
       "│           ┆           ┆           ┆           ┆   ┆           ┆ ES SECT…  ┆ SU …      ┆          │\n",
       "└───────────┴───────────┴───────────┴───────────┴───┴───────────┴───────────┴───────────┴──────────┘"
      ]
     },
     "execution_count": 15,
     "metadata": {},
     "output_type": "execute_result"
    }
   ],
   "source": [
    "df_80139"
   ]
  },
  {
   "cell_type": "code",
   "execution_count": null,
   "id": "cd787da4",
   "metadata": {},
   "outputs": [
    {
     "data": {
      "text/html": [
       "<div><style>\n",
       ".dataframe > thead > tr,\n",
       ".dataframe > tbody > tr {\n",
       "  text-align: right;\n",
       "  white-space: pre-wrap;\n",
       "}\n",
       "</style>\n",
       "<small>shape: (1_189, 1)</small><table border=\"1\" class=\"dataframe\"><thead><tr><th>Número PLD</th></tr><tr><td>str</td></tr></thead><tbody><tr><td>&quot;10000352&quot;</td></tr><tr><td>&quot;80293&quot;</td></tr><tr><td>&quot;10000749&quot;</td></tr><tr><td>&quot;10000549&quot;</td></tr><tr><td>&quot;10000185&quot;</td></tr><tr><td>&hellip;</td></tr><tr><td>&quot;10000167&quot;</td></tr><tr><td>&quot;3017&quot;</td></tr><tr><td>&quot;10000926&quot;</td></tr><tr><td>&quot;10000379&quot;</td></tr><tr><td>&quot;10000816&quot;</td></tr></tbody></table></div>"
      ],
      "text/plain": [
       "shape: (1_189, 1)\n",
       "┌────────────┐\n",
       "│ Número PLD │\n",
       "│ ---        │\n",
       "│ str        │\n",
       "╞════════════╡\n",
       "│ 10000352   │\n",
       "│ 80293      │\n",
       "│ 10000749   │\n",
       "│ 10000549   │\n",
       "│ 10000185   │\n",
       "│ …          │\n",
       "│ 10000167   │\n",
       "│ 3017       │\n",
       "│ 10000926   │\n",
       "│ 10000379   │\n",
       "│ 10000816   │\n",
       "└────────────┘"
      ]
     },
     "execution_count": 13,
     "metadata": {},
     "output_type": "execute_result"
    }
   ],
   "source": [
    "df_clientes_pld.select(pl.col(\"Número PLD\").unique())"
   ]
  },
  {
   "cell_type": "code",
   "execution_count": null,
   "id": "2017d278",
   "metadata": {},
   "outputs": [],
   "source": [
    "\t"
   ]
  },
  {
   "cell_type": "code",
   "execution_count": null,
   "id": "0cb1c1f2",
   "metadata": {},
   "outputs": [],
   "source": [
    "df_clientes_pld.unique(\"\")"
   ]
  },
  {
   "cell_type": "code",
   "execution_count": 12,
   "id": "5dc4bb51",
   "metadata": {},
   "outputs": [
    {
     "data": {
      "text/html": [
       "<div><style>\n",
       ".dataframe > thead > tr,\n",
       ".dataframe > tbody > tr {\n",
       "  text-align: right;\n",
       "  white-space: pre-wrap;\n",
       "}\n",
       "</style>\n",
       "<small>shape: (2_355, 11)</small><table border=\"1\" class=\"dataframe\"><thead><tr><th>Dirección</th><th>Producto</th><th>Número Fiso</th><th>Número PLD</th><th>Cuenta/Contrato</th><th>Cliente</th><th>Intermediario</th><th>RFC</th><th>NOMBRE DE DIFM</th><th>NOMBRE FINAL</th><th>comentario</th></tr><tr><td>str</td><td>str</td><td>str</td><td>str</td><td>i64</td><td>str</td><td>str</td><td>str</td><td>str</td><td>str</td><td>str</td></tr></thead><tbody><tr><td>&quot;DPSYFC&quot;</td><td>&quot;PROGRAMA PRIMER PISO&quot;</td><td>&quot;-&quot;</td><td>&quot;10000009&quot;</td><td>28594176</td><td>null</td><td>null</td><td>&quot;IEM020102LK6&quot;</td><td>&quot;-&quot;</td><td>&quot;EMERGING AMERICA INMOBILIARIA,…</td><td>null</td></tr><tr><td>&quot;FISO&quot;</td><td>&quot;SERVICIOS FIDUCIARIOS&quot;</td><td>&quot;F80449&quot;</td><td>&quot;80449&quot;</td><td>null</td><td>null</td><td>null</td><td>&quot;FDA050428177&quot;</td><td>&quot;-&quot;</td><td>&quot;NAFIN FIDUCIARIO FIDEICOMISO A…</td><td>null</td></tr><tr><td>&quot;DAPM&quot;</td><td>&quot;SERVICIOS DE INVERSIÓN&quot;</td><td>&quot;F80139&quot;</td><td>&quot;80139&quot;</td><td>1063586</td><td>null</td><td>null</td><td>&quot;NFI3406305T0&quot;</td><td>&quot; NAFIN FIDUCIARIO FIDEICOMISO …</td><td>&quot;NACIONAL FINANCIERA SNC EN SU …</td><td>null</td></tr><tr><td>&quot;DAPM&quot;</td><td>&quot;SERVICIOS DE INVERSIÓN&quot;</td><td>&quot;-&quot;</td><td>&quot;10000821&quot;</td><td>1064707</td><td>null</td><td>null</td><td>&quot;STA130219T22&quot;</td><td>&quot;.+ TASA ACTIVO, S.A. DE C.V., …</td><td>&quot;.+ TASA ACTIVO, S.A. DE C.V., …</td><td>null</td></tr><tr><td>&quot;DAPM&quot;</td><td>&quot;SERVICIOS DE INVERSIÓN&quot;</td><td>&quot;-&quot;</td><td>&quot;10000823&quot;</td><td>1064327</td><td>null</td><td>null</td><td>&quot;STL100514QG9&quot;</td><td>&quot;.+TASA LARGO PLAZO, S.A. DE C.…</td><td>&quot;.+TASA LARGO PLAZO, S.A. DE C.…</td><td>null</td></tr><tr><td>&hellip;</td><td>&hellip;</td><td>&hellip;</td><td>&hellip;</td><td>&hellip;</td><td>&hellip;</td><td>&hellip;</td><td>&hellip;</td><td>&hellip;</td><td>&hellip;</td><td>&hellip;</td></tr><tr><td>&quot;DAPM&quot;</td><td>&quot;SERVICIOS DE INVERSIÓN&quot;</td><td>&quot;-&quot;</td><td>&quot;10000860&quot;</td><td>6009441</td><td>null</td><td>null</td><td>&quot;ZAM131014HV0&quot;</td><td>&quot;ZURICH FIANZAS MÉXICO, S.A. DE…</td><td>&quot;ZURICH FIANZAS MÉXICO, S.A. DE…</td><td>null</td></tr><tr><td>&quot;DAPM&quot;</td><td>&quot;SERVICIOS DE INVERSIÓN&quot;</td><td>&quot;-&quot;</td><td>&quot;10000860&quot;</td><td>1065073</td><td>null</td><td>null</td><td>&quot;ZAM131014HV0&quot;</td><td>&quot;ZURICH FIANZAS MÉXICO, S.A. DE…</td><td>&quot;ZURICH FIANZAS MÉXICO, S.A. DE…</td><td>null</td></tr><tr><td>&quot;DAPM&quot;</td><td>&quot;SERVICIOS DE INVERSIÓN&quot;</td><td>&quot;-&quot;</td><td>&quot;10000816&quot;</td><td>1064521</td><td>null</td><td>null</td><td>&quot;SSG971008QUI&quot;</td><td>&quot;ZURICH SANTANDER SEGUROS MÉXIC…</td><td>&quot;ZURICH SANTANDER SEGUROS MEXIC…</td><td>null</td></tr><tr><td>&quot;DAPM&quot;</td><td>&quot;SERVICIOS DE INVERSIÓN&quot;</td><td>&quot;-&quot;</td><td>&quot;10000872&quot;</td><td>6009265</td><td>null</td><td>null</td><td>&quot;ZVS941209AH6&quot;</td><td>&quot;ZURICH VIDA COMPAÑIA DE SEGURO…</td><td>&quot;ZURICH VIDA COMPAÑIA DE SEGURO…</td><td>null</td></tr><tr><td>&quot;DAPM&quot;</td><td>&quot;SERVICIOS DE INVERSIÓN&quot;</td><td>&quot;-&quot;</td><td>&quot;10000872&quot;</td><td>1064384</td><td>null</td><td>null</td><td>&quot;ZVS941209AH6&quot;</td><td>&quot;ZURICH VIDA COMPAÑIA DE SEGURO…</td><td>&quot;ZURICH VIDA COMPAÑIA DE SEGURO…</td><td>null</td></tr></tbody></table></div>"
      ],
      "text/plain": [
       "shape: (2_355, 11)\n",
       "┌───────────┬───────────┬───────────┬───────────┬───┬───────────┬───────────┬───────────┬──────────┐\n",
       "│ Dirección ┆ Producto  ┆ Número    ┆ Número    ┆ … ┆ RFC       ┆ NOMBRE DE ┆ NOMBRE    ┆ comentar │\n",
       "│ ---       ┆ ---       ┆ Fiso      ┆ PLD       ┆   ┆ ---       ┆ DIFM      ┆ FINAL     ┆ io       │\n",
       "│ str       ┆ str       ┆ ---       ┆ ---       ┆   ┆ str       ┆ ---       ┆ ---       ┆ ---      │\n",
       "│           ┆           ┆ str       ┆ str       ┆   ┆           ┆ str       ┆ str       ┆ str      │\n",
       "╞═══════════╪═══════════╪═══════════╪═══════════╪═══╪═══════════╪═══════════╪═══════════╪══════════╡\n",
       "│ DPSYFC    ┆ PROGRAMA  ┆ -         ┆ 10000009  ┆ … ┆ IEM020102 ┆ -         ┆ EMERGING  ┆ null     │\n",
       "│           ┆ PRIMER    ┆           ┆           ┆   ┆ LK6       ┆           ┆ AMERICA   ┆          │\n",
       "│           ┆ PISO      ┆           ┆           ┆   ┆           ┆           ┆ INMOBILIA ┆          │\n",
       "│           ┆           ┆           ┆           ┆   ┆           ┆           ┆ RIA,…     ┆          │\n",
       "│ FISO      ┆ SERVICIOS ┆ F80449    ┆ 80449     ┆ … ┆ FDA050428 ┆ -         ┆ NAFIN FID ┆ null     │\n",
       "│           ┆ FIDUCIARI ┆           ┆           ┆   ┆ 177       ┆           ┆ UCIARIO   ┆          │\n",
       "│           ┆ OS        ┆           ┆           ┆   ┆           ┆           ┆ FIDEICOMI ┆          │\n",
       "│           ┆           ┆           ┆           ┆   ┆           ┆           ┆ SO A…     ┆          │\n",
       "│ DAPM      ┆ SERVICIOS ┆ F80139    ┆ 80139     ┆ … ┆ NFI340630 ┆ NAFIN FID ┆ NACIONAL  ┆ null     │\n",
       "│           ┆ DE        ┆           ┆           ┆   ┆ 5T0       ┆ UCIARIO   ┆ FINANCIER ┆          │\n",
       "│           ┆ INVERSIÓN ┆           ┆           ┆   ┆           ┆ FIDEICOMI ┆ A SNC EN  ┆          │\n",
       "│           ┆           ┆           ┆           ┆   ┆           ┆ SO …      ┆ SU …      ┆          │\n",
       "│ DAPM      ┆ SERVICIOS ┆ -         ┆ 10000821  ┆ … ┆ STA130219 ┆ .+ TASA   ┆ .+ TASA   ┆ null     │\n",
       "│           ┆ DE        ┆           ┆           ┆   ┆ T22       ┆ ACTIVO,   ┆ ACTIVO,   ┆          │\n",
       "│           ┆ INVERSIÓN ┆           ┆           ┆   ┆           ┆ S.A. DE   ┆ S.A. DE   ┆          │\n",
       "│           ┆           ┆           ┆           ┆   ┆           ┆ C.V., …   ┆ C.V., …   ┆          │\n",
       "│ DAPM      ┆ SERVICIOS ┆ -         ┆ 10000823  ┆ … ┆ STL100514 ┆ .+TASA    ┆ .+TASA    ┆ null     │\n",
       "│           ┆ DE        ┆           ┆           ┆   ┆ QG9       ┆ LARGO     ┆ LARGO     ┆          │\n",
       "│           ┆ INVERSIÓN ┆           ┆           ┆   ┆           ┆ PLAZO,    ┆ PLAZO,    ┆          │\n",
       "│           ┆           ┆           ┆           ┆   ┆           ┆ S.A. DE   ┆ S.A. DE   ┆          │\n",
       "│           ┆           ┆           ┆           ┆   ┆           ┆ C.…       ┆ C.…       ┆          │\n",
       "│ …         ┆ …         ┆ …         ┆ …         ┆ … ┆ …         ┆ …         ┆ …         ┆ …        │\n",
       "│ DAPM      ┆ SERVICIOS ┆ -         ┆ 10000860  ┆ … ┆ ZAM131014 ┆ ZURICH    ┆ ZURICH    ┆ null     │\n",
       "│           ┆ DE        ┆           ┆           ┆   ┆ HV0       ┆ FIANZAS   ┆ FIANZAS   ┆          │\n",
       "│           ┆ INVERSIÓN ┆           ┆           ┆   ┆           ┆ MÉXICO,   ┆ MÉXICO,   ┆          │\n",
       "│           ┆           ┆           ┆           ┆   ┆           ┆ S.A. DE…  ┆ S.A. DE…  ┆          │\n",
       "│ DAPM      ┆ SERVICIOS ┆ -         ┆ 10000860  ┆ … ┆ ZAM131014 ┆ ZURICH    ┆ ZURICH    ┆ null     │\n",
       "│           ┆ DE        ┆           ┆           ┆   ┆ HV0       ┆ FIANZAS   ┆ FIANZAS   ┆          │\n",
       "│           ┆ INVERSIÓN ┆           ┆           ┆   ┆           ┆ MÉXICO,   ┆ MÉXICO,   ┆          │\n",
       "│           ┆           ┆           ┆           ┆   ┆           ┆ S.A. DE…  ┆ S.A. DE…  ┆          │\n",
       "│ DAPM      ┆ SERVICIOS ┆ -         ┆ 10000816  ┆ … ┆ SSG971008 ┆ ZURICH    ┆ ZURICH    ┆ null     │\n",
       "│           ┆ DE        ┆           ┆           ┆   ┆ QUI       ┆ SANTANDER ┆ SANTANDER ┆          │\n",
       "│           ┆ INVERSIÓN ┆           ┆           ┆   ┆           ┆ SEGUROS   ┆ SEGUROS   ┆          │\n",
       "│           ┆           ┆           ┆           ┆   ┆           ┆ MÉXIC…    ┆ MEXIC…    ┆          │\n",
       "│ DAPM      ┆ SERVICIOS ┆ -         ┆ 10000872  ┆ … ┆ ZVS941209 ┆ ZURICH    ┆ ZURICH    ┆ null     │\n",
       "│           ┆ DE        ┆           ┆           ┆   ┆ AH6       ┆ VIDA      ┆ VIDA      ┆          │\n",
       "│           ┆ INVERSIÓN ┆           ┆           ┆   ┆           ┆ COMPAÑIA  ┆ COMPAÑIA  ┆          │\n",
       "│           ┆           ┆           ┆           ┆   ┆           ┆ DE        ┆ DE        ┆          │\n",
       "│           ┆           ┆           ┆           ┆   ┆           ┆ SEGURO…   ┆ SEGURO…   ┆          │\n",
       "│ DAPM      ┆ SERVICIOS ┆ -         ┆ 10000872  ┆ … ┆ ZVS941209 ┆ ZURICH    ┆ ZURICH    ┆ null     │\n",
       "│           ┆ DE        ┆           ┆           ┆   ┆ AH6       ┆ VIDA      ┆ VIDA      ┆          │\n",
       "│           ┆ INVERSIÓN ┆           ┆           ┆   ┆           ┆ COMPAÑIA  ┆ COMPAÑIA  ┆          │\n",
       "│           ┆           ┆           ┆           ┆   ┆           ┆ DE        ┆ DE        ┆          │\n",
       "│           ┆           ┆           ┆           ┆   ┆           ┆ SEGURO…   ┆ SEGURO…   ┆          │\n",
       "└───────────┴───────────┴───────────┴───────────┴───┴───────────┴───────────┴───────────┴──────────┘"
      ]
     },
     "execution_count": 12,
     "metadata": {},
     "output_type": "execute_result"
    }
   ],
   "source": [
    "df_clientes_pld"
   ]
  },
  {
   "cell_type": "code",
   "execution_count": 11,
   "id": "4835804e",
   "metadata": {},
   "outputs": [
    {
     "name": "stdout",
     "output_type": "stream",
     "text": [
      "shape: (1_424, 5)\n",
      "┌──────┬─────────────────────────────────┬──────────┬─────────────────────────────────┬───────────┐\n",
      "│ id_1 ┆ nombre_1                        ┆ id_2     ┆ nombre_2                        ┆ score     │\n",
      "│ ---  ┆ ---                             ┆ ---      ┆ ---                             ┆ ---       │\n",
      "│ i64  ┆ str                             ┆ str      ┆ str                             ┆ f64       │\n",
      "╞══════╪═════════════════════════════════╪══════════╪═════════════════════════════════╪═══════════╡\n",
      "│ 594  ┆ .+ TASA ACTIVO, S.A. DE C.V., … ┆ 10000821 ┆ .+ TASA ACTIVO, S.A. DE C.V., … ┆ 100.0     │\n",
      "│ 595  ┆ .+TASA LARGO PLAZO, S.A. DE C.… ┆ 10000823 ┆ .+TASA LARGO PLAZO, S.A. DE C.… ┆ 100.0     │\n",
      "│ 596  ┆ .+TASA PREVISIONAL, S.A. DE C.… ┆ 10000825 ┆ .+TASA PREVISIONAL, S.A. DE C.… ┆ 100.0     │\n",
      "│ 597  ┆ .+TASA US, S.A. DE C.V., F.I.I… ┆ 10000828 ┆ .+TASA US, S.A. DE C.V., F.I.I… ┆ 100.0     │\n",
      "│ 598  ┆ .+TASA, S.A. DE C.V., F.I.I.D.  ┆ 10000822 ┆ .+TASA, S.A. DE C.V., F.I.I.D.  ┆ 100.0     │\n",
      "│ …    ┆ …                               ┆ …        ┆ …                               ┆ …         │\n",
      "│ 2529 ┆ ZURICH FIANZAS MÉXICO, S.A. DE… ┆ 10000860 ┆ ZURICH FIANZAS MÉXICO, S.A. DE… ┆ 100.0     │\n",
      "│ 2529 ┆ ZURICH FIANZAS MÉXICO, S.A. DE… ┆ 10000860 ┆ ZURICH FIANZAS MÉXICO, S.A. DE… ┆ 100.0     │\n",
      "│ 2549 ┆ ZURICH SANTANDER SEGUROS MÉXIC… ┆ 10000816 ┆ ZURICH SANTANDER SEGUROS MEXIC… ┆ 97.297297 │\n",
      "│ 2550 ┆ ZURICH VIDA COMPAÑIA DE SEGURO… ┆ 10000872 ┆ ZURICH VIDA COMPAÑIA DE SEGURO… ┆ 100.0     │\n",
      "│ 2550 ┆ ZURICH VIDA COMPAÑIA DE SEGURO… ┆ 10000872 ┆ ZURICH VIDA COMPAÑIA DE SEGURO… ┆ 100.0     │\n",
      "└──────┴─────────────────────────────────┴──────────┴─────────────────────────────────┴───────────┘\n"
     ]
    }
   ],
   "source": [
    "resultado = comparar_dataframes_polars(\n",
    "    df_clientes, \"NOMBRE_O_RAZON_SOCIAL\", \"ID_DL\",\n",
    "    df_clientes_pld, \"NOMBRE FINAL\", \"Número PLD\",\n",
    "    umbral=96\n",
    ")\n",
    "\n",
    "print(resultado)"
   ]
  },
  {
   "cell_type": "code",
   "execution_count": 10,
   "id": "a0971f67",
   "metadata": {},
   "outputs": [],
   "source": [
    "df_joined = df_clientes.join(\n",
    "    df_clientes_pld,\n",
    "    left_on=\"NOMBRE_O_RAZON_SOCIAL\",\n",
    "    right_on=\"NOMBRE DE DIFM\",\n",
    "    how=\"inner\"\n",
    ")"
   ]
  },
  {
   "cell_type": "code",
   "execution_count": 51,
   "id": "97516783",
   "metadata": {},
   "outputs": [
    {
     "data": {
      "text/html": [
       "<div><style>\n",
       ".dataframe > thead > tr,\n",
       ".dataframe > tbody > tr {\n",
       "  text-align: right;\n",
       "  white-space: pre-wrap;\n",
       "}\n",
       "</style>\n",
       "<small>shape: (400, 42)</small><table border=\"1\" class=\"dataframe\"><thead><tr><th>ID_DL</th><th>NEGOCIO</th><th>NOMBRE_O_RAZON_SOCIAL</th><th>NUMERO_CLIENTE</th><th>ESTATUS</th><th>NUMERO_CONTRATO</th><th>GENERO</th><th>FECHA_NAC_O_CONST</th><th>ENTIDAD_FEDERATIVA_NACIMIENTO</th><th>PAIS_DE_NACIMIENTO</th><th>NACIONALIDAD</th><th>PROFESION</th><th>CALLE</th><th>NUMERO_EXTERIOR</th><th>NUMERO_INTERIOR</th><th>COLONIA_URBANIZACION</th><th>DELEGACION_MUNICIPIO</th><th>CIUDAD_POBLACION</th><th>ENTIDAD_FEDERATIVA</th><th>CODIGO_POSTAL</th><th>PAIS</th><th>TELEFONO</th><th>CORREO_ELECTRONICO</th><th>RFC</th><th>CURP</th><th>FIEL</th><th>REPRESENTANTE_LEGAL</th><th>TIPO_PERSONA</th><th>PRODUCTO_CONTRATADO</th><th>SISTEMA_ORIGEN</th><th>FECHA_DE_ACTUALIZACION</th><th>map_ids</th><th>Dirección</th><th>Producto</th><th>Número Fiso</th><th>Número PLD</th><th>Cuenta/Contrato</th><th>Cliente</th><th>Intermediario</th><th>RFC_right</th><th>NOMBRE FINAL</th><th>comentario</th></tr><tr><td>i64</td><td>str</td><td>str</td><td>str</td><td>str</td><td>str</td><td>str</td><td>str</td><td>str</td><td>str</td><td>str</td><td>str</td><td>str</td><td>str</td><td>str</td><td>str</td><td>str</td><td>str</td><td>str</td><td>str</td><td>str</td><td>str</td><td>str</td><td>str</td><td>str</td><td>str</td><td>str</td><td>str</td><td>str</td><td>str</td><td>str</td><td>str</td><td>str</td><td>str</td><td>str</td><td>str</td><td>i64</td><td>str</td><td>str</td><td>str</td><td>str</td><td>str</td></tr></thead><tbody><tr><td>600</td><td>&quot;Sin información&quot;</td><td>&quot;AAA HERFIN /10892&quot;</td><td>&quot;965201&quot;</td><td>&quot;VIGENTE&quot;</td><td>&quot;Sin información&quot;</td><td>&quot;NO APLICA&quot;</td><td>&quot;Sin información&quot;</td><td>&quot;Sin información&quot;</td><td>&quot;Sin información&quot;</td><td>&quot;MEXICANA&quot;</td><td>&quot;FIDEICOMISOS&quot;</td><td>&quot;Sin información&quot;</td><td>&quot;Sin información&quot;</td><td>&quot;Sin información&quot;</td><td>&quot;Sin información&quot;</td><td>&quot;Sin información&quot;</td><td>&quot;Sin información&quot;</td><td>&quot;Sin información&quot;</td><td>&quot;Sin información&quot;</td><td>&quot;MÉXICO&quot;</td><td>&quot;Sin información&quot;</td><td>&quot;Sin información&quot;</td><td>&quot;FAH931108RY9&quot;</td><td>&quot;Sin información&quot;</td><td>&quot;Sin información&quot;</td><td>&quot;OTERO HERNANDEZ JOSE MANUEL&quot;</td><td>&quot;MORAL NACIONAL GRAVABLE&quot;</td><td>&quot;Sin información&quot;</td><td>&quot;TAS&quot;</td><td>&quot;30/05/25&quot;</td><td>&quot;[TAS, 965201]&quot;</td><td>&quot;DAPM&quot;</td><td>&quot;SERVICIOS DE INVERSIÓN&quot;</td><td>&quot;F10892&quot;</td><td>&quot;10892&quot;</td><td>965201</td><td>null</td><td>null</td><td>&quot;FAH931108RY9&quot;</td><td>&quot;AAA HERFIN | FISO No.10892&quot;</td><td>null</td></tr><tr><td>601</td><td>&quot;Sin información&quot;</td><td>&quot;AAA LIVERPOOL /11786&quot;</td><td>&quot;1042271&quot;</td><td>&quot;VIGENTE&quot;</td><td>&quot;Sin información&quot;</td><td>&quot;NO APLICA&quot;</td><td>&quot;Sin información&quot;</td><td>&quot;Sin información&quot;</td><td>&quot;Sin información&quot;</td><td>&quot;MEXICANA&quot;</td><td>&quot;FIDEICOMISOS&quot;</td><td>&quot;Sin información&quot;</td><td>&quot;Sin información&quot;</td><td>&quot;Sin información&quot;</td><td>&quot;Sin información&quot;</td><td>&quot;Sin información&quot;</td><td>&quot;Sin información&quot;</td><td>&quot;Sin información&quot;</td><td>&quot;Sin información&quot;</td><td>&quot;MÉXICO&quot;</td><td>&quot;Sin información&quot;</td><td>&quot;Sin información&quot;</td><td>&quot;NFF990922JZ4&quot;</td><td>&quot;Sin información&quot;</td><td>&quot;Sin información&quot;</td><td>&quot;OTERO HERNANDEZ JOSE MANUEL&quot;</td><td>&quot;MORAL NACIONAL GRAVABLE&quot;</td><td>&quot;Sin información&quot;</td><td>&quot;TAS&quot;</td><td>&quot;30/05/25&quot;</td><td>&quot;[TAS, 1042271]&quot;</td><td>&quot;DAPM&quot;</td><td>&quot;SERVICIOS DE INVERSIÓN&quot;</td><td>&quot;F11786&quot;</td><td>&quot;11786&quot;</td><td>1042271</td><td>&quot;N.A&quot;</td><td>&quot;N.A&quot;</td><td>&quot;NFF990922JZ4&quot;</td><td>&quot;AAA LIVERPOOL | FISO No.11786&quot;</td><td>null</td></tr><tr><td>609</td><td>&quot;Sin información&quot;</td><td>&quot;ACE SEGUROS, S.A.&quot;</td><td>&quot;1064177, 6009249&quot;</td><td>&quot;VIGENTE&quot;</td><td>&quot;Sin información&quot;</td><td>&quot;NO APLICA&quot;</td><td>&quot;Sin información&quot;</td><td>&quot;Sin información&quot;</td><td>&quot;Sin información&quot;</td><td>&quot;MEXICANA&quot;</td><td>&quot;ASEGURADORAS&quot;</td><td>&quot;Sin información&quot;</td><td>&quot;Sin información&quot;</td><td>&quot;Sin información&quot;</td><td>&quot;Sin información&quot;</td><td>&quot;Sin información&quot;</td><td>&quot;Sin información&quot;</td><td>&quot;Sin información&quot;</td><td>&quot;Sin información&quot;</td><td>&quot;MÉXICO&quot;</td><td>&quot;Sin información&quot;</td><td>&quot;Sin información&quot;</td><td>&quot;ASE901221SM4&quot;</td><td>&quot;Sin información&quot;</td><td>&quot;Sin información&quot;</td><td>&quot;OCA�A RUIZ&nbsp;&nbsp;DE VELASCO ISABEL,…</td><td>&quot;MORAL NACIONAL NO GRAVABLE&quot;</td><td>&quot;Sin información&quot;</td><td>&quot;TAS&quot;</td><td>&quot;30/05/25&quot;</td><td>&quot;[TAS, 1064177], [TAS, 6009249]&quot;</td><td>&quot;DAPM&quot;</td><td>&quot;SERVICIOS DE INVERSIÓN&quot;</td><td>&quot;-&quot;</td><td>&quot;10000170&quot;</td><td>6009249</td><td>null</td><td>null</td><td>&quot;ASE901221SM4&quot;</td><td>&quot;ACE SEGUROS, S.A.&quot;</td><td>null</td></tr><tr><td>610</td><td>&quot;Sin información&quot;</td><td>&quot;ACTICOBER, S.A. DE C.V. SOC&nbsp;&nbsp;D…</td><td>&quot;1063229&quot;</td><td>&quot;VIGENTE&quot;</td><td>&quot;Sin información&quot;</td><td>&quot;NO APLICA&quot;</td><td>&quot;Sin información&quot;</td><td>&quot;Sin información&quot;</td><td>&quot;Sin información&quot;</td><td>&quot;MEXICANA&quot;</td><td>&quot;FONDOS DE INVERSION&quot;</td><td>&quot;Sin información&quot;</td><td>&quot;Sin información&quot;</td><td>&quot;Sin información&quot;</td><td>&quot;Sin información&quot;</td><td>&quot;Sin información&quot;</td><td>&quot;Sin información&quot;</td><td>&quot;Sin información&quot;</td><td>&quot;Sin información&quot;</td><td>&quot;MÉXICO&quot;</td><td>&quot;Sin información&quot;</td><td>&quot;Sin información&quot;</td><td>&quot;AII990517TT8&quot;</td><td>&quot;Sin información&quot;</td><td>&quot;Sin información&quot;</td><td>&quot;MADERO RIVERO ALVARO, MADERO R…</td><td>&quot;MORAL NACIONAL NO GRAVABLE&quot;</td><td>&quot;Sin información&quot;</td><td>&quot;TAS&quot;</td><td>&quot;30/05/25&quot;</td><td>&quot;[TAS, 1063229]&quot;</td><td>&quot;DAPM&quot;</td><td>&quot;SERVICIOS DE INVERSIÓN&quot;</td><td>&quot;-&quot;</td><td>&quot;10000154&quot;</td><td>1063229</td><td>null</td><td>null</td><td>&quot;AII990517TT8&quot;</td><td>&quot;ACTICOBER, S.A. DE C.V. SOC&nbsp;&nbsp;D…</td><td>null</td></tr><tr><td>611</td><td>&quot;Sin información&quot;</td><td>&quot;ACTICORP, S.A. DE C.V. SOC DE …</td><td>&quot;1063225&quot;</td><td>&quot;VIGENTE&quot;</td><td>&quot;Sin información&quot;</td><td>&quot;NO APLICA&quot;</td><td>&quot;Sin información&quot;</td><td>&quot;Sin información&quot;</td><td>&quot;Sin información&quot;</td><td>&quot;MEXICANA&quot;</td><td>&quot;FONDOS DE INVERSION&quot;</td><td>&quot;Sin información&quot;</td><td>&quot;Sin información&quot;</td><td>&quot;Sin información&quot;</td><td>&quot;Sin información&quot;</td><td>&quot;Sin información&quot;</td><td>&quot;Sin información&quot;</td><td>&quot;Sin información&quot;</td><td>&quot;Sin información&quot;</td><td>&quot;MÉXICO&quot;</td><td>&quot;Sin información&quot;</td><td>&quot;Sin información&quot;</td><td>&quot;ACI0001148V6&quot;</td><td>&quot;Sin información&quot;</td><td>&quot;Sin información&quot;</td><td>&quot;MADERO RIVERO ALVARO, MADERO R…</td><td>&quot;MORAL NACIONAL NO GRAVABLE&quot;</td><td>&quot;Sin información&quot;</td><td>&quot;TAS&quot;</td><td>&quot;30/05/25&quot;</td><td>&quot;[TAS, 1063225]&quot;</td><td>&quot;DAPM&quot;</td><td>&quot;SERVICIOS DE INVERSIÓN&quot;</td><td>&quot;-&quot;</td><td>&quot;10000124&quot;</td><td>1063225</td><td>null</td><td>null</td><td>&quot;ACI0001148V6&quot;</td><td>&quot;ACTICORP, S.A. DE C.V. SOC DE …</td><td>null</td></tr><tr><td>&hellip;</td><td>&hellip;</td><td>&hellip;</td><td>&hellip;</td><td>&hellip;</td><td>&hellip;</td><td>&hellip;</td><td>&hellip;</td><td>&hellip;</td><td>&hellip;</td><td>&hellip;</td><td>&hellip;</td><td>&hellip;</td><td>&hellip;</td><td>&hellip;</td><td>&hellip;</td><td>&hellip;</td><td>&hellip;</td><td>&hellip;</td><td>&hellip;</td><td>&hellip;</td><td>&hellip;</td><td>&hellip;</td><td>&hellip;</td><td>&hellip;</td><td>&hellip;</td><td>&hellip;</td><td>&hellip;</td><td>&hellip;</td><td>&hellip;</td><td>&hellip;</td><td>&hellip;</td><td>&hellip;</td><td>&hellip;</td><td>&hellip;</td><td>&hellip;</td><td>&hellip;</td><td>&hellip;</td><td>&hellip;</td><td>&hellip;</td><td>&hellip;</td><td>&hellip;</td></tr><tr><td>2514</td><td>&quot;Sin información&quot;</td><td>&quot;XIGNUX S.A. DE .C.&quot;</td><td>&quot;1053859&quot;</td><td>&quot;VIGENTE&quot;</td><td>&quot;Sin información&quot;</td><td>&quot;NO APLICA&quot;</td><td>&quot;Sin información&quot;</td><td>&quot;Sin información&quot;</td><td>&quot;Sin información&quot;</td><td>&quot;MEXICANA&quot;</td><td>&quot;TESORERIAS&quot;</td><td>&quot;Sin información&quot;</td><td>&quot;Sin información&quot;</td><td>&quot;Sin información&quot;</td><td>&quot;Sin información&quot;</td><td>&quot;Sin información&quot;</td><td>&quot;Sin información&quot;</td><td>&quot;Sin información&quot;</td><td>&quot;Sin información&quot;</td><td>&quot;MÉXICO&quot;</td><td>&quot;Sin información&quot;</td><td>&quot;Sin información&quot;</td><td>&quot;XIG8105258S5&quot;</td><td>&quot;Sin información&quot;</td><td>&quot;Sin información&quot;</td><td>&quot;CANTU COBO JOSE JAVIER, SOTOMA…</td><td>&quot;MORAL NACIONAL GRAVABLE&quot;</td><td>&quot;Sin información&quot;</td><td>&quot;TAS&quot;</td><td>&quot;30/05/25&quot;</td><td>&quot;[TAS, 1053859]&quot;</td><td>&quot;DAPM&quot;</td><td>&quot;SERVICIOS DE INVERSIÓN&quot;</td><td>&quot;-&quot;</td><td>&quot;10000859&quot;</td><td>1053859</td><td>null</td><td>null</td><td>&quot;XIG8105258S5&quot;</td><td>&quot;XIGNUX S.A. DE .C.&quot;</td><td>null</td></tr><tr><td>2527</td><td>&quot;Sin información&quot;</td><td>&quot;ZURICH CAPABILITY CENTER MEXIC…</td><td>&quot;6009454&quot;</td><td>&quot;VIGENTE&quot;</td><td>&quot;Sin información&quot;</td><td>&quot;NO APLICA&quot;</td><td>&quot;Sin información&quot;</td><td>&quot;Sin información&quot;</td><td>&quot;Sin información&quot;</td><td>&quot;MEXICANA&quot;</td><td>&quot;TESORERIAS&quot;</td><td>&quot;Sin información&quot;</td><td>&quot;Sin información&quot;</td><td>&quot;Sin información&quot;</td><td>&quot;Sin información&quot;</td><td>&quot;Sin información&quot;</td><td>&quot;Sin información&quot;</td><td>&quot;Sin información&quot;</td><td>&quot;Sin información&quot;</td><td>&quot;MÉXICO&quot;</td><td>&quot;5552841000&quot;</td><td>&quot;Sin información&quot;</td><td>&quot;MSE041015KS0&quot;</td><td>&quot;Sin información&quot;</td><td>&quot;Sin información&quot;</td><td>&quot;ALBERTO DEL RIO CRISTIAN, JAIM…</td><td>&quot;MORAL NACIONAL GRAVABLE&quot;</td><td>&quot;Sin información&quot;</td><td>&quot;TAS&quot;</td><td>&quot;30/05/25&quot;</td><td>&quot;[TAS, 6009454]&quot;</td><td>&quot;DAPM&quot;</td><td>&quot;SERVICIOS DE INVERSIÓN&quot;</td><td>&quot;-&quot;</td><td>&quot;10000630&quot;</td><td>6009454</td><td>null</td><td>null</td><td>&quot;MSE041015KS0&quot;</td><td>&quot;ZURICH CAPABILITY CENTER MEXIC…</td><td>null</td></tr><tr><td>2529</td><td>&quot;Sin información&quot;</td><td>&quot;ZURICH FIANZAS MÉXICO, S.A. DE…</td><td>&quot;6009441, 1065073&quot;</td><td>&quot;VIGENTE&quot;</td><td>&quot;Sin información&quot;</td><td>&quot;NO APLICA&quot;</td><td>&quot;Sin información&quot;</td><td>&quot;Sin información&quot;</td><td>&quot;Sin información&quot;</td><td>&quot;MEXICANA&quot;</td><td>&quot;ASEGURADORAS&quot;</td><td>&quot;Sin información&quot;</td><td>&quot;Sin información&quot;</td><td>&quot;Sin información&quot;</td><td>&quot;Sin información&quot;</td><td>&quot;Sin información&quot;</td><td>&quot;Sin información&quot;</td><td>&quot;Sin información&quot;</td><td>&quot;Sin información&quot;</td><td>&quot;MÉXICO&quot;</td><td>&quot;5552841000&quot;</td><td>&quot;Sin información&quot;</td><td>&quot;ZAM131014HV0&quot;</td><td>&quot;Sin información&quot;</td><td>&quot;Sin información&quot;</td><td>&quot;DEL RIO . CRISTIAN ALBERTO, FU…</td><td>&quot;MORAL NACIONAL NO GRAVABLE&quot;</td><td>&quot;Sin información&quot;</td><td>&quot;TAS&quot;</td><td>&quot;30/05/25&quot;</td><td>&quot;[TAS, 1065073], [TAS, 6009441]&quot;</td><td>&quot;DAPM&quot;</td><td>&quot;SERVICIOS DE INVERSIÓN&quot;</td><td>&quot;-&quot;</td><td>&quot;10000860&quot;</td><td>6009441</td><td>null</td><td>null</td><td>&quot;ZAM131014HV0&quot;</td><td>&quot;ZURICH FIANZAS MÉXICO, S.A. DE…</td><td>null</td></tr><tr><td>2549</td><td>&quot;Sin información&quot;</td><td>&quot;ZURICH SANTANDER SEGUROS MÉXIC…</td><td>&quot;1064521&quot;</td><td>&quot;VIGENTE&quot;</td><td>&quot;Sin información&quot;</td><td>&quot;NO APLICA&quot;</td><td>&quot;Sin información&quot;</td><td>&quot;Sin información&quot;</td><td>&quot;Sin información&quot;</td><td>&quot;MEXICANA&quot;</td><td>&quot;ASEGURADORAS&quot;</td><td>&quot;Sin información&quot;</td><td>&quot;Sin información&quot;</td><td>&quot;Sin información&quot;</td><td>&quot;Sin información&quot;</td><td>&quot;Sin información&quot;</td><td>&quot;Sin información&quot;</td><td>&quot;Sin información&quot;</td><td>&quot;Sin información&quot;</td><td>&quot;MÉXICO&quot;</td><td>&quot;5551694300&quot;</td><td>&quot;Sin información&quot;</td><td>&quot;SSG971008QUI&quot;</td><td>&quot;Sin información&quot;</td><td>&quot;Sin información&quot;</td><td>&quot;CUENCA KYFF CLAUDIA, ROJO PALA…</td><td>&quot;MORAL NACIONAL NO GRAVABLE&quot;</td><td>&quot;Sin información&quot;</td><td>&quot;TAS&quot;</td><td>&quot;30/05/25&quot;</td><td>&quot;[TAS, 1064521]&quot;</td><td>&quot;DAPM&quot;</td><td>&quot;SERVICIOS DE INVERSIÓN&quot;</td><td>&quot;-&quot;</td><td>&quot;10000816&quot;</td><td>1064521</td><td>null</td><td>null</td><td>&quot;SSG971008QUI&quot;</td><td>&quot;ZURICH SANTANDER SEGUROS MEXIC…</td><td>null</td></tr><tr><td>2550</td><td>&quot;Sin información&quot;</td><td>&quot;ZURICH VIDA COMPAÑIA DE SEGURO…</td><td>&quot;1064384, 6009265&quot;</td><td>&quot;VIGENTE&quot;</td><td>&quot;Sin información&quot;</td><td>&quot;NO APLICA&quot;</td><td>&quot;Sin información&quot;</td><td>&quot;Sin información&quot;</td><td>&quot;Sin información&quot;</td><td>&quot;MEXICANA&quot;</td><td>&quot;ASEGURADORAS&quot;</td><td>&quot;Sin información&quot;</td><td>&quot;Sin información&quot;</td><td>&quot;Sin información&quot;</td><td>&quot;Sin información&quot;</td><td>&quot;Sin información&quot;</td><td>&quot;Sin información&quot;</td><td>&quot;Sin información&quot;</td><td>&quot;Sin información&quot;</td><td>&quot;MÉXICO&quot;</td><td>&quot;5552841000&quot;</td><td>&quot;Sin información&quot;</td><td>&quot;ZVS941209AH6&quot;</td><td>&quot;Sin información&quot;</td><td>&quot;Sin información&quot;</td><td>&quot;DEL R�O . CRISTIAN ALBERTO, F�…</td><td>&quot;MORAL NACIONAL NO GRAVABLE&quot;</td><td>&quot;Sin información&quot;</td><td>&quot;TAS&quot;</td><td>&quot;30/05/25&quot;</td><td>&quot;[TAS, 6009265], [TAS, 1064384]&quot;</td><td>&quot;DAPM&quot;</td><td>&quot;SERVICIOS DE INVERSIÓN&quot;</td><td>&quot;-&quot;</td><td>&quot;10000872&quot;</td><td>6009265</td><td>null</td><td>null</td><td>&quot;ZVS941209AH6&quot;</td><td>&quot;ZURICH VIDA COMPAÑIA DE SEGURO…</td><td>null</td></tr></tbody></table></div>"
      ],
      "text/plain": [
       "shape: (400, 42)\n",
       "┌───────┬────────────┬────────────┬────────────┬───┬───────────┬───────────┬───────────┬───────────┐\n",
       "│ ID_DL ┆ NEGOCIO    ┆ NOMBRE_O_R ┆ NUMERO_CLI ┆ … ┆ Intermedi ┆ RFC_right ┆ NOMBRE    ┆ comentari │\n",
       "│ ---   ┆ ---        ┆ AZON_SOCIA ┆ ENTE       ┆   ┆ ario      ┆ ---       ┆ FINAL     ┆ o         │\n",
       "│ i64   ┆ str        ┆ L          ┆ ---        ┆   ┆ ---       ┆ str       ┆ ---       ┆ ---       │\n",
       "│       ┆            ┆ ---        ┆ str        ┆   ┆ str       ┆           ┆ str       ┆ str       │\n",
       "│       ┆            ┆ str        ┆            ┆   ┆           ┆           ┆           ┆           │\n",
       "╞═══════╪════════════╪════════════╪════════════╪═══╪═══════════╪═══════════╪═══════════╪═══════════╡\n",
       "│ 600   ┆ Sin inform ┆ AAA HERFIN ┆ 965201     ┆ … ┆ null      ┆ FAH931108 ┆ AAA       ┆ null      │\n",
       "│       ┆ ación      ┆ /10892     ┆            ┆   ┆           ┆ RY9       ┆ HERFIN |  ┆           │\n",
       "│       ┆            ┆            ┆            ┆   ┆           ┆           ┆ FISO      ┆           │\n",
       "│       ┆            ┆            ┆            ┆   ┆           ┆           ┆ No.10892  ┆           │\n",
       "│ 601   ┆ Sin inform ┆ AAA        ┆ 1042271    ┆ … ┆ N.A       ┆ NFF990922 ┆ AAA       ┆ null      │\n",
       "│       ┆ ación      ┆ LIVERPOOL  ┆            ┆   ┆           ┆ JZ4       ┆ LIVERPOOL ┆           │\n",
       "│       ┆            ┆ /11786     ┆            ┆   ┆           ┆           ┆ | FISO    ┆           │\n",
       "│       ┆            ┆            ┆            ┆   ┆           ┆           ┆ No.11786  ┆           │\n",
       "│ 609   ┆ Sin inform ┆ ACE        ┆ 1064177,   ┆ … ┆ null      ┆ ASE901221 ┆ ACE       ┆ null      │\n",
       "│       ┆ ación      ┆ SEGUROS,   ┆ 6009249    ┆   ┆           ┆ SM4       ┆ SEGUROS,  ┆           │\n",
       "│       ┆            ┆ S.A.       ┆            ┆   ┆           ┆           ┆ S.A.      ┆           │\n",
       "│ 610   ┆ Sin inform ┆ ACTICOBER, ┆ 1063229    ┆ … ┆ null      ┆ AII990517 ┆ ACTICOBER ┆ null      │\n",
       "│       ┆ ación      ┆ S.A. DE    ┆            ┆   ┆           ┆ TT8       ┆ , S.A. DE ┆           │\n",
       "│       ┆            ┆ C.V. SOC   ┆            ┆   ┆           ┆           ┆ C.V. SOC  ┆           │\n",
       "│       ┆            ┆ D…         ┆            ┆   ┆           ┆           ┆ D…        ┆           │\n",
       "│ 611   ┆ Sin inform ┆ ACTICORP,  ┆ 1063225    ┆ … ┆ null      ┆ ACI000114 ┆ ACTICORP, ┆ null      │\n",
       "│       ┆ ación      ┆ S.A. DE    ┆            ┆   ┆           ┆ 8V6       ┆ S.A. DE   ┆           │\n",
       "│       ┆            ┆ C.V. SOC   ┆            ┆   ┆           ┆           ┆ C.V. SOC  ┆           │\n",
       "│       ┆            ┆ DE …       ┆            ┆   ┆           ┆           ┆ DE …      ┆           │\n",
       "│ …     ┆ …          ┆ …          ┆ …          ┆ … ┆ …         ┆ …         ┆ …         ┆ …         │\n",
       "│ 2514  ┆ Sin inform ┆ XIGNUX     ┆ 1053859    ┆ … ┆ null      ┆ XIG810525 ┆ XIGNUX    ┆ null      │\n",
       "│       ┆ ación      ┆ S.A. DE    ┆            ┆   ┆           ┆ 8S5       ┆ S.A. DE   ┆           │\n",
       "│       ┆            ┆ .C.        ┆            ┆   ┆           ┆           ┆ .C.       ┆           │\n",
       "│ 2527  ┆ Sin inform ┆ ZURICH     ┆ 6009454    ┆ … ┆ null      ┆ MSE041015 ┆ ZURICH    ┆ null      │\n",
       "│       ┆ ación      ┆ CAPABILITY ┆            ┆   ┆           ┆ KS0       ┆ CAPABILIT ┆           │\n",
       "│       ┆            ┆ CENTER     ┆            ┆   ┆           ┆           ┆ Y CENTER  ┆           │\n",
       "│       ┆            ┆ MEXIC…     ┆            ┆   ┆           ┆           ┆ MEXIC…    ┆           │\n",
       "│ 2529  ┆ Sin inform ┆ ZURICH     ┆ 6009441,   ┆ … ┆ null      ┆ ZAM131014 ┆ ZURICH    ┆ null      │\n",
       "│       ┆ ación      ┆ FIANZAS    ┆ 1065073    ┆   ┆           ┆ HV0       ┆ FIANZAS   ┆           │\n",
       "│       ┆            ┆ MÉXICO,    ┆            ┆   ┆           ┆           ┆ MÉXICO,   ┆           │\n",
       "│       ┆            ┆ S.A. DE…   ┆            ┆   ┆           ┆           ┆ S.A. DE…  ┆           │\n",
       "│ 2549  ┆ Sin inform ┆ ZURICH     ┆ 1064521    ┆ … ┆ null      ┆ SSG971008 ┆ ZURICH    ┆ null      │\n",
       "│       ┆ ación      ┆ SANTANDER  ┆            ┆   ┆           ┆ QUI       ┆ SANTANDER ┆           │\n",
       "│       ┆            ┆ SEGUROS    ┆            ┆   ┆           ┆           ┆ SEGUROS   ┆           │\n",
       "│       ┆            ┆ MÉXIC…     ┆            ┆   ┆           ┆           ┆ MEXIC…    ┆           │\n",
       "│ 2550  ┆ Sin inform ┆ ZURICH     ┆ 1064384,   ┆ … ┆ null      ┆ ZVS941209 ┆ ZURICH    ┆ null      │\n",
       "│       ┆ ación      ┆ VIDA       ┆ 6009265    ┆   ┆           ┆ AH6       ┆ VIDA      ┆           │\n",
       "│       ┆            ┆ COMPAÑIA   ┆            ┆   ┆           ┆           ┆ COMPAÑIA  ┆           │\n",
       "│       ┆            ┆ DE SEGURO… ┆            ┆   ┆           ┆           ┆ DE        ┆           │\n",
       "│       ┆            ┆            ┆            ┆   ┆           ┆           ┆ SEGURO…   ┆           │\n",
       "└───────┴────────────┴────────────┴────────────┴───┴───────────┴───────────┴───────────┴───────────┘"
      ]
     },
     "execution_count": 51,
     "metadata": {},
     "output_type": "execute_result"
    }
   ],
   "source": [
    "df_joined"
   ]
  },
  {
   "cell_type": "code",
   "execution_count": 48,
   "id": "5b09bb6a",
   "metadata": {},
   "outputs": [
    {
     "name": "stdout",
     "output_type": "stream",
     "text": [
      "shape: (3, 11)\n",
      "┌───────────┬───────────┬───────────┬───────────┬───┬───────────┬───────────┬───────────┬──────────┐\n",
      "│ Dirección ┆ Producto  ┆ Número    ┆ Número    ┆ … ┆ RFC       ┆ NOMBRE DE ┆ NOMBRE    ┆ comentar │\n",
      "│ ---       ┆ ---       ┆ Fiso      ┆ PLD       ┆   ┆ ---       ┆ DIFM      ┆ FINAL     ┆ io       │\n",
      "│ str       ┆ str       ┆ ---       ┆ ---       ┆   ┆ str       ┆ ---       ┆ ---       ┆ ---      │\n",
      "│           ┆           ┆ str       ┆ str       ┆   ┆           ┆ str       ┆ str       ┆ str      │\n",
      "╞═══════════╪═══════════╪═══════════╪═══════════╪═══╪═══════════╪═══════════╪═══════════╪══════════╡\n",
      "│ DAPM      ┆ SERVICIOS ┆ -         ┆ 10000171  ┆ … ┆ ASE931116 ┆ AXA       ┆ AXA       ┆ null     │\n",
      "│           ┆ DE        ┆           ┆           ┆   ┆ 231       ┆ SEGUROS   ┆ SEGUROS   ┆          │\n",
      "│           ┆ INVERSIÓN ┆           ┆           ┆   ┆           ┆ SA DE CV  ┆ SA DE CV  ┆          │\n",
      "│ DAPM      ┆ SERVICIOS ┆ -         ┆ 10000171  ┆ … ┆ ASE931116 ┆ AXA       ┆ AXA       ┆ null     │\n",
      "│           ┆ DE        ┆           ┆           ┆   ┆ 231       ┆ SEGUROS,  ┆ SEGUROS   ┆          │\n",
      "│           ┆ INVERSIÓN ┆           ┆           ┆   ┆           ┆ S.A. DE   ┆ SA DE CV  ┆          │\n",
      "│           ┆           ┆           ┆           ┆   ┆           ┆ C.V. |    ┆           ┆          │\n",
      "│           ┆           ┆           ┆           ┆   ┆           ┆ IN…       ┆           ┆          │\n",
      "│ DAPM      ┆ SERVICIOS ┆ -         ┆ 10000171  ┆ … ┆ ASE931116 ┆ AXA       ┆ AXA       ┆ null     │\n",
      "│           ┆ DE        ┆           ┆           ┆   ┆ 231       ┆ SEGUROS,  ┆ SEGUROS   ┆          │\n",
      "│           ┆ INVERSIÓN ┆           ┆           ┆   ┆           ┆ S.A. DE   ┆ SA DE CV  ┆          │\n",
      "│           ┆           ┆           ┆           ┆   ┆           ┆ C.V. |    ┆           ┆          │\n",
      "│           ┆           ┆           ┆           ┆   ┆           ┆ IN…       ┆           ┆          │\n",
      "└───────────┴───────────┴───────────┴───────────┴───┴───────────┴───────────┴───────────┴──────────┘\n"
     ]
    }
   ],
   "source": [
    "print(df_clientes_pld.filter(pl.col(\"NOMBRE FINAL\").str.contains(\"AXA SEGUROS SA DE CV\")))\n"
   ]
  },
  {
   "cell_type": "code",
   "execution_count": 37,
   "id": "e576138e",
   "metadata": {},
   "outputs": [],
   "source": [
    "import polars as pl\n",
    "\n",
    "# Simulamos un archivo CSV con datos\n",
    "datos = pl.DataFrame({\n",
    "    \"cliente_id\": [1, 2, 3, 4, 5],\n",
    "    \"pais\": [\"México\", \"Argentina\", \"México\", \"Chile\", \"México\"],\n",
    "    \"ventas_2024\": [1000, 2000, 1500, 1800, 1700],\n",
    "})\n",
    "\n",
    "# Guardamos los datos como si fuera un archivo real\n",
    "datos.write_csv(\"clientes.csv\")"
   ]
  },
  {
   "cell_type": "code",
   "execution_count": 46,
   "id": "e63f4a40",
   "metadata": {},
   "outputs": [],
   "source": [
    "# Leemos el archivo en modo lazy\n",
    "df_lazy = pl.read_csv(\"clientes.csv\").lazy()"
   ]
  },
  {
   "cell_type": "code",
   "execution_count": 47,
   "id": "49f0c5a8",
   "metadata": {},
   "outputs": [
    {
     "data": {
      "text/html": [
       "<i>naive plan: (run <b>LazyFrame.explain(optimized=True)</b> to see the optimized plan)</i>\n",
       "    <p></p>\n",
       "    <div>DF [\"cliente_id\", \"pais\", \"ventas_2024\"]; PROJECT */3 COLUMNS</div>"
      ],
      "text/plain": [
       "<LazyFrame at 0x7FE608470E50>"
      ]
     },
     "execution_count": 47,
     "metadata": {},
     "output_type": "execute_result"
    }
   ],
   "source": [
    "df_lazy"
   ]
  },
  {
   "cell_type": "code",
   "execution_count": 45,
   "id": "98b4f03b",
   "metadata": {},
   "outputs": [],
   "source": [
    "del df_lazy"
   ]
  },
  {
   "cell_type": "code",
   "execution_count": null,
   "id": "6902c476",
   "metadata": {},
   "outputs": [],
   "source": [
    "# Creamos el pipeline: filtramos y seleccionamos columnas\n",
    "resultado = (\n",
    "    df_lazy\n",
    "    .filter(pl.col(\"pais\") == \"México\")\n",
    "    .select([\"cliente_id\", \"ventas_2024\"])\n",
    "    .collect()\n",
    ")"
   ]
  },
  {
   "cell_type": "code",
   "execution_count": 43,
   "id": "6ca86309",
   "metadata": {},
   "outputs": [
    {
     "name": "stdout",
     "output_type": "stream",
     "text": [
      "Resultado (ya evaluado):\n",
      "shape: (3, 2)\n",
      "┌────────────┬─────────────┐\n",
      "│ cliente_id ┆ ventas_2024 │\n",
      "│ ---        ┆ ---         │\n",
      "│ i64        ┆ i64         │\n",
      "╞════════════╪═════════════╡\n",
      "│ 1          ┆ 1000        │\n",
      "│ 3          ┆ 1500        │\n",
      "│ 5          ┆ 1700        │\n",
      "└────────────┴─────────────┘\n",
      "\n",
      "Tipo del resultado: <class 'polars.dataframe.frame.DataFrame'>\n"
     ]
    }
   ],
   "source": [
    "# Imprimimos los resultados\n",
    "print(\"Resultado (ya evaluado):\")\n",
    "print(resultado)\n",
    "\n",
    "# Verificamos tipo para confirmar que está en memoria\n",
    "print(\"\\nTipo del resultado:\", type(resultado))\n"
   ]
  }
 ],
 "metadata": {
  "kernelspec": {
   "display_name": "myenv_1",
   "language": "python",
   "name": "python3"
  },
  "language_info": {
   "codemirror_mode": {
    "name": "ipython",
    "version": 3
   },
   "file_extension": ".py",
   "mimetype": "text/x-python",
   "name": "python",
   "nbconvert_exporter": "python",
   "pygments_lexer": "ipython3",
   "version": "3.10.12"
  }
 },
 "nbformat": 4,
 "nbformat_minor": 5
}
