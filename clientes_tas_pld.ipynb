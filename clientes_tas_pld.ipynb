{
 "cells": [
  {
   "cell_type": "code",
   "execution_count": 1,
   "id": "081f33ef",
   "metadata": {},
   "outputs": [],
   "source": [
    "from utils.tf import *\n",
    "from utils.db import *\n",
    "from utils.gd2 import *\n",
    "from utils.clt_repetidos import *\n",
    "from datetime import datetime, time, timedelta\n",
    "import cx_Oracle\n",
    "import pandas as pd\n",
    "import os\n",
    "from utils.clt_repetidos import * \n",
    "from datetime import datetime\n",
    "import re\n",
    "import polars as pl\n",
    "import gc\n",
    "import polars as pl\n",
    "from rapidfuzz import fuzz\n",
    "from multiprocessing import Pool, cpu_count"
   ]
  },
  {
   "cell_type": "markdown",
   "id": "f8f25b69",
   "metadata": {},
   "source": [
    "# CLIENTES TAS"
   ]
  },
  {
   "cell_type": "code",
   "execution_count": 2,
   "id": "48d41e74",
   "metadata": {},
   "outputs": [],
   "source": [
    "df_tas = pd.read_csv(\"/home/ale1726/proyects/datalake/clientes/data/test/data/extraer/30_05_2025/Clientes_activos_TAS.dat\")"
   ]
  },
  {
   "cell_type": "code",
   "execution_count": 68,
   "id": "2f37b97c",
   "metadata": {},
   "outputs": [
    {
     "data": {
      "application/vnd.microsoft.datawrangler.viewer.v0+json": {
       "columns": [
        {
         "name": "index",
         "rawType": "int64",
         "type": "integer"
        },
        {
         "name": "NEGOCIO",
         "rawType": "float64",
         "type": "float"
        },
        {
         "name": "NOMBRE_O_RAZON_SOCIAL",
         "rawType": "float64",
         "type": "float"
        },
        {
         "name": "U##NOMBRE",
         "rawType": "object",
         "type": "string"
        },
        {
         "name": "NOMBRE",
         "rawType": "object",
         "type": "string"
        },
        {
         "name": "NOMLARGO",
         "rawType": "object",
         "type": "string"
        },
        {
         "name": "NUMERO_CLIENTE",
         "rawType": "int64",
         "type": "integer"
        },
        {
         "name": "ESTATUS",
         "rawType": "object",
         "type": "string"
        },
        {
         "name": "NUMERO_CONTRATO",
         "rawType": "float64",
         "type": "float"
        },
        {
         "name": "GENERO",
         "rawType": "float64",
         "type": "float"
        },
        {
         "name": "FECHA_NAC_O_CONST",
         "rawType": "float64",
         "type": "float"
        },
        {
         "name": "ENTIDAD_FEDERATIVA_NACIMIENTO",
         "rawType": "float64",
         "type": "float"
        },
        {
         "name": "PAIS_DE_NACIMIENTO",
         "rawType": "float64",
         "type": "float"
        },
        {
         "name": "NACIONALIDAD",
         "rawType": "object",
         "type": "string"
        },
        {
         "name": "PROFESION",
         "rawType": "object",
         "type": "string"
        },
        {
         "name": "CALLE",
         "rawType": "float64",
         "type": "float"
        },
        {
         "name": "NUMERO_EXTERIOR",
         "rawType": "float64",
         "type": "float"
        },
        {
         "name": "NUMERO_INTERIOR",
         "rawType": "float64",
         "type": "float"
        },
        {
         "name": "COLONIA_URBANIZACION",
         "rawType": "float64",
         "type": "float"
        },
        {
         "name": "DELEGACION_MUNICIPIO",
         "rawType": "float64",
         "type": "float"
        },
        {
         "name": "CIUDAD_POBLACION",
         "rawType": "float64",
         "type": "float"
        },
        {
         "name": "ENTIDAD_FEDERATIVA",
         "rawType": "float64",
         "type": "float"
        },
        {
         "name": "CODIGO_POSTAL",
         "rawType": "float64",
         "type": "float"
        },
        {
         "name": "PAIS",
         "rawType": "object",
         "type": "string"
        },
        {
         "name": "TELEFONO",
         "rawType": "float64",
         "type": "float"
        },
        {
         "name": "TELEFONO1",
         "rawType": "object",
         "type": "string"
        },
        {
         "name": "TELEFONO2",
         "rawType": "object",
         "type": "string"
        },
        {
         "name": "CORREO_ELECTRONICO",
         "rawType": "object",
         "type": "string"
        },
        {
         "name": "RFC",
         "rawType": "object",
         "type": "string"
        },
        {
         "name": "CURP",
         "rawType": "float64",
         "type": "float"
        },
        {
         "name": "FIEL",
         "rawType": "float64",
         "type": "float"
        },
        {
         "name": "REPRESENTANTE_LEGAL",
         "rawType": "float64",
         "type": "float"
        },
        {
         "name": "TIPO_PERSONA",
         "rawType": "object",
         "type": "string"
        },
        {
         "name": "PRODUCTO_CONTRATADO",
         "rawType": "float64",
         "type": "float"
        },
        {
         "name": "SISTEMA_ORIGEN",
         "rawType": "object",
         "type": "string"
        }
       ],
       "ref": "6b64fba9-3385-4c18-b29c-1f9edc17ce10",
       "rows": [
        [
         "143",
         null,
         null,
         "FISO 80672 CHIH FDO RVA F",
         "FISO 80672 CHIH FDO RVA F",
         "FONDO RESERVA TASA FIJA  NACIONAL FINANCIERA FIDEICOMISO 80672",
         "1064750",
         "VIGENTE",
         null,
         null,
         null,
         null,
         null,
         "MEXICANA",
         "FIDEICOMISOS",
         null,
         null,
         null,
         null,
         null,
         null,
         null,
         null,
         "MEX",
         null,
         " ",
         "(614)4293312 Y 4293313",
         " ",
         "FEC151125BQ8",
         null,
         null,
         null,
         "Moral Nacional Gravable",
         null,
         "TAS"
        ],
        [
         "144",
         null,
         null,
         "FISO 80672 CHIH EMI T FIJA",
         "FISO 80672 CHIH EMI T FIJA",
         "CUENTA EMISIONES TASA FIJA  NAFIN FIDEICOMISO 80672",
         "1064749",
         "VIGENTE",
         null,
         null,
         null,
         null,
         null,
         "MEXICANA",
         "FIDEICOMISOS",
         null,
         null,
         null,
         null,
         null,
         null,
         null,
         null,
         "MEX",
         null,
         " ",
         "(614)4193312 Y 4293313",
         " ",
         "FEC151125BQ8",
         null,
         null,
         null,
         "Moral Nacional Gravable",
         null,
         "TAS"
        ],
        [
         "148",
         null,
         null,
         "FISO80672 CHIH FDO RVA T V",
         "FISO80672 CHIH FDO RVA T V",
         "FONDO RESERVA TASA VARIABLE NACIONAL FINANCIERA FIDU DEL FISO 80672",
         "1064752",
         "VIGENTE",
         null,
         null,
         null,
         null,
         null,
         "MEXICANA",
         "FIDEICOMISOS",
         null,
         null,
         null,
         null,
         null,
         null,
         null,
         null,
         "MEX",
         null,
         "429 3313",
         "614 429 3312",
         " ",
         "FEC151125BQ8",
         null,
         null,
         null,
         "Moral Nacional Gravable",
         null,
         "TAS"
        ],
        [
         "149",
         null,
         null,
         "FISO80672 CHIHCTA TASA VAR",
         "FISO80672 CHIHCTA TASA VAR",
         "CUENTA EMISIONES TASA VAR  NACIONAL FIANCIERA EN SU CARACTER DE FIDU",
         "1064751",
         "VIGENTE",
         null,
         null,
         null,
         null,
         null,
         "MEXICANA",
         "FIDEICOMISOS",
         null,
         null,
         null,
         null,
         null,
         null,
         null,
         null,
         "MEX",
         null,
         " ",
         "53256048",
         " ",
         "FEC151125BQ8",
         null,
         null,
         null,
         "Moral Nacional Gravable",
         null,
         "TAS"
        ],
        [
         "540",
         null,
         null,
         "TEMPLETON DEUDA TASA REAL",
         "TEMPLETON DEUDA TASA REAL",
         "FRANKLIN TEMPLETON ASSET MANAGEMENT MEXICO TEMPLETON DEUDA TASA REAL",
         "1065079",
         "VIGENTE",
         null,
         null,
         null,
         null,
         null,
         "MEXICANA",
         "FONDOS DE INVERSION",
         null,
         null,
         null,
         null,
         null,
         null,
         null,
         null,
         "MEX",
         null,
         " ",
         "50020676",
         " ",
         "FTD150831QD9",
         null,
         null,
         null,
         "Moral Nacional no Gravable",
         null,
         "TAS"
        ],
        [
         "596",
         null,
         null,
         "FDO +TASAA1",
         "Fdo +TASAA1",
         ".+ TASA ACTIVO, S.A. DE C.V., F.I.R.V.",
         "1064707",
         "VIGENTE",
         null,
         null,
         null,
         null,
         null,
         "MEXICANA",
         "FONDOS DE INVERSION",
         null,
         null,
         null,
         null,
         null,
         null,
         null,
         null,
         "MEX",
         null,
         " ",
         "55 5033 3341",
         " ",
         "STA130219T22",
         null,
         null,
         null,
         "Moral Nacional no Gravable",
         null,
         "TAS"
        ],
        [
         "1267",
         null,
         null,
         "VALMX17",
         "VALMX17",
         "FONDO VALMEX 17 EN INSTRUMENTOS DE DEUDA EN TASA REAL, S.A. DE C.V., F.",
         "1064158",
         "VIGENTE",
         null,
         null,
         null,
         null,
         null,
         "MEXICANA",
         "FONDOS DE INVERSION",
         null,
         null,
         null,
         null,
         null,
         null,
         null,
         null,
         "MEX",
         null,
         " ",
         "52791200",
         " ",
         "FVD031015CH7",
         null,
         null,
         null,
         "Moral Nacional no Gravable",
         null,
         "TAS"
        ],
        [
         "1268",
         null,
         null,
         "VALMX15",
         "VALMX15",
         "FONDO VALMEX 15 EN BONOS DE TASA FIJA, S.A. DE C.V., F.I.I.D.",
         "1064157",
         "VIGENTE",
         null,
         null,
         null,
         null,
         null,
         "MEXICANA",
         "FONDOS DE INVERSION",
         null,
         null,
         null,
         null,
         null,
         null,
         null,
         null,
         "MEX",
         null,
         " ",
         "52791200",
         " ",
         "FVQ031015G42",
         null,
         null,
         null,
         "Moral Nacional no Gravable",
         null,
         "TAS"
        ]
       ],
       "shape": {
        "columns": 34,
        "rows": 8
       }
      },
      "text/html": [
       "<div>\n",
       "<style scoped>\n",
       "    .dataframe tbody tr th:only-of-type {\n",
       "        vertical-align: middle;\n",
       "    }\n",
       "\n",
       "    .dataframe tbody tr th {\n",
       "        vertical-align: top;\n",
       "    }\n",
       "\n",
       "    .dataframe thead th {\n",
       "        text-align: right;\n",
       "    }\n",
       "</style>\n",
       "<table border=\"1\" class=\"dataframe\">\n",
       "  <thead>\n",
       "    <tr style=\"text-align: right;\">\n",
       "      <th></th>\n",
       "      <th>NEGOCIO</th>\n",
       "      <th>NOMBRE_O_RAZON_SOCIAL</th>\n",
       "      <th>U##NOMBRE</th>\n",
       "      <th>NOMBRE</th>\n",
       "      <th>NOMLARGO</th>\n",
       "      <th>NUMERO_CLIENTE</th>\n",
       "      <th>ESTATUS</th>\n",
       "      <th>NUMERO_CONTRATO</th>\n",
       "      <th>GENERO</th>\n",
       "      <th>FECHA_NAC_O_CONST</th>\n",
       "      <th>...</th>\n",
       "      <th>TELEFONO1</th>\n",
       "      <th>TELEFONO2</th>\n",
       "      <th>CORREO_ELECTRONICO</th>\n",
       "      <th>RFC</th>\n",
       "      <th>CURP</th>\n",
       "      <th>FIEL</th>\n",
       "      <th>REPRESENTANTE_LEGAL</th>\n",
       "      <th>TIPO_PERSONA</th>\n",
       "      <th>PRODUCTO_CONTRATADO</th>\n",
       "      <th>SISTEMA_ORIGEN</th>\n",
       "    </tr>\n",
       "  </thead>\n",
       "  <tbody>\n",
       "    <tr>\n",
       "      <th>143</th>\n",
       "      <td>NaN</td>\n",
       "      <td>NaN</td>\n",
       "      <td>FISO 80672 CHIH FDO RVA F</td>\n",
       "      <td>FISO 80672 CHIH FDO RVA F</td>\n",
       "      <td>FONDO RESERVA TASA FIJA  NACIONAL FINANCIERA F...</td>\n",
       "      <td>1064750</td>\n",
       "      <td>VIGENTE</td>\n",
       "      <td>NaN</td>\n",
       "      <td>NaN</td>\n",
       "      <td>NaN</td>\n",
       "      <td>...</td>\n",
       "      <td></td>\n",
       "      <td>(614)4293312 Y 4293313</td>\n",
       "      <td></td>\n",
       "      <td>FEC151125BQ8</td>\n",
       "      <td>NaN</td>\n",
       "      <td>NaN</td>\n",
       "      <td>NaN</td>\n",
       "      <td>Moral Nacional Gravable</td>\n",
       "      <td>NaN</td>\n",
       "      <td>TAS</td>\n",
       "    </tr>\n",
       "    <tr>\n",
       "      <th>144</th>\n",
       "      <td>NaN</td>\n",
       "      <td>NaN</td>\n",
       "      <td>FISO 80672 CHIH EMI T FIJA</td>\n",
       "      <td>FISO 80672 CHIH EMI T FIJA</td>\n",
       "      <td>CUENTA EMISIONES TASA FIJA  NAFIN FIDEICOMISO ...</td>\n",
       "      <td>1064749</td>\n",
       "      <td>VIGENTE</td>\n",
       "      <td>NaN</td>\n",
       "      <td>NaN</td>\n",
       "      <td>NaN</td>\n",
       "      <td>...</td>\n",
       "      <td></td>\n",
       "      <td>(614)4193312 Y 4293313</td>\n",
       "      <td></td>\n",
       "      <td>FEC151125BQ8</td>\n",
       "      <td>NaN</td>\n",
       "      <td>NaN</td>\n",
       "      <td>NaN</td>\n",
       "      <td>Moral Nacional Gravable</td>\n",
       "      <td>NaN</td>\n",
       "      <td>TAS</td>\n",
       "    </tr>\n",
       "    <tr>\n",
       "      <th>148</th>\n",
       "      <td>NaN</td>\n",
       "      <td>NaN</td>\n",
       "      <td>FISO80672 CHIH FDO RVA T V</td>\n",
       "      <td>FISO80672 CHIH FDO RVA T V</td>\n",
       "      <td>FONDO RESERVA TASA VARIABLE NACIONAL FINANCIER...</td>\n",
       "      <td>1064752</td>\n",
       "      <td>VIGENTE</td>\n",
       "      <td>NaN</td>\n",
       "      <td>NaN</td>\n",
       "      <td>NaN</td>\n",
       "      <td>...</td>\n",
       "      <td>429 3313</td>\n",
       "      <td>614 429 3312</td>\n",
       "      <td></td>\n",
       "      <td>FEC151125BQ8</td>\n",
       "      <td>NaN</td>\n",
       "      <td>NaN</td>\n",
       "      <td>NaN</td>\n",
       "      <td>Moral Nacional Gravable</td>\n",
       "      <td>NaN</td>\n",
       "      <td>TAS</td>\n",
       "    </tr>\n",
       "    <tr>\n",
       "      <th>149</th>\n",
       "      <td>NaN</td>\n",
       "      <td>NaN</td>\n",
       "      <td>FISO80672 CHIHCTA TASA VAR</td>\n",
       "      <td>FISO80672 CHIHCTA TASA VAR</td>\n",
       "      <td>CUENTA EMISIONES TASA VAR  NACIONAL FIANCIERA ...</td>\n",
       "      <td>1064751</td>\n",
       "      <td>VIGENTE</td>\n",
       "      <td>NaN</td>\n",
       "      <td>NaN</td>\n",
       "      <td>NaN</td>\n",
       "      <td>...</td>\n",
       "      <td></td>\n",
       "      <td>53256048</td>\n",
       "      <td></td>\n",
       "      <td>FEC151125BQ8</td>\n",
       "      <td>NaN</td>\n",
       "      <td>NaN</td>\n",
       "      <td>NaN</td>\n",
       "      <td>Moral Nacional Gravable</td>\n",
       "      <td>NaN</td>\n",
       "      <td>TAS</td>\n",
       "    </tr>\n",
       "    <tr>\n",
       "      <th>540</th>\n",
       "      <td>NaN</td>\n",
       "      <td>NaN</td>\n",
       "      <td>TEMPLETON DEUDA TASA REAL</td>\n",
       "      <td>TEMPLETON DEUDA TASA REAL</td>\n",
       "      <td>FRANKLIN TEMPLETON ASSET MANAGEMENT MEXICO TEM...</td>\n",
       "      <td>1065079</td>\n",
       "      <td>VIGENTE</td>\n",
       "      <td>NaN</td>\n",
       "      <td>NaN</td>\n",
       "      <td>NaN</td>\n",
       "      <td>...</td>\n",
       "      <td></td>\n",
       "      <td>50020676</td>\n",
       "      <td></td>\n",
       "      <td>FTD150831QD9</td>\n",
       "      <td>NaN</td>\n",
       "      <td>NaN</td>\n",
       "      <td>NaN</td>\n",
       "      <td>Moral Nacional no Gravable</td>\n",
       "      <td>NaN</td>\n",
       "      <td>TAS</td>\n",
       "    </tr>\n",
       "    <tr>\n",
       "      <th>596</th>\n",
       "      <td>NaN</td>\n",
       "      <td>NaN</td>\n",
       "      <td>FDO +TASAA1</td>\n",
       "      <td>Fdo +TASAA1</td>\n",
       "      <td>.+ TASA ACTIVO, S.A. DE C.V., F.I.R.V.</td>\n",
       "      <td>1064707</td>\n",
       "      <td>VIGENTE</td>\n",
       "      <td>NaN</td>\n",
       "      <td>NaN</td>\n",
       "      <td>NaN</td>\n",
       "      <td>...</td>\n",
       "      <td></td>\n",
       "      <td>55 5033 3341</td>\n",
       "      <td></td>\n",
       "      <td>STA130219T22</td>\n",
       "      <td>NaN</td>\n",
       "      <td>NaN</td>\n",
       "      <td>NaN</td>\n",
       "      <td>Moral Nacional no Gravable</td>\n",
       "      <td>NaN</td>\n",
       "      <td>TAS</td>\n",
       "    </tr>\n",
       "    <tr>\n",
       "      <th>1267</th>\n",
       "      <td>NaN</td>\n",
       "      <td>NaN</td>\n",
       "      <td>VALMX17</td>\n",
       "      <td>VALMX17</td>\n",
       "      <td>FONDO VALMEX 17 EN INSTRUMENTOS DE DEUDA EN TA...</td>\n",
       "      <td>1064158</td>\n",
       "      <td>VIGENTE</td>\n",
       "      <td>NaN</td>\n",
       "      <td>NaN</td>\n",
       "      <td>NaN</td>\n",
       "      <td>...</td>\n",
       "      <td></td>\n",
       "      <td>52791200</td>\n",
       "      <td></td>\n",
       "      <td>FVD031015CH7</td>\n",
       "      <td>NaN</td>\n",
       "      <td>NaN</td>\n",
       "      <td>NaN</td>\n",
       "      <td>Moral Nacional no Gravable</td>\n",
       "      <td>NaN</td>\n",
       "      <td>TAS</td>\n",
       "    </tr>\n",
       "    <tr>\n",
       "      <th>1268</th>\n",
       "      <td>NaN</td>\n",
       "      <td>NaN</td>\n",
       "      <td>VALMX15</td>\n",
       "      <td>VALMX15</td>\n",
       "      <td>FONDO VALMEX 15 EN BONOS DE TASA FIJA, S.A. DE...</td>\n",
       "      <td>1064157</td>\n",
       "      <td>VIGENTE</td>\n",
       "      <td>NaN</td>\n",
       "      <td>NaN</td>\n",
       "      <td>NaN</td>\n",
       "      <td>...</td>\n",
       "      <td></td>\n",
       "      <td>52791200</td>\n",
       "      <td></td>\n",
       "      <td>FVQ031015G42</td>\n",
       "      <td>NaN</td>\n",
       "      <td>NaN</td>\n",
       "      <td>NaN</td>\n",
       "      <td>Moral Nacional no Gravable</td>\n",
       "      <td>NaN</td>\n",
       "      <td>TAS</td>\n",
       "    </tr>\n",
       "  </tbody>\n",
       "</table>\n",
       "<p>8 rows × 34 columns</p>\n",
       "</div>"
      ],
      "text/plain": [
       "      NEGOCIO  NOMBRE_O_RAZON_SOCIAL                   U##NOMBRE  \\\n",
       "143       NaN                    NaN   FISO 80672 CHIH FDO RVA F   \n",
       "144       NaN                    NaN  FISO 80672 CHIH EMI T FIJA   \n",
       "148       NaN                    NaN  FISO80672 CHIH FDO RVA T V   \n",
       "149       NaN                    NaN  FISO80672 CHIHCTA TASA VAR   \n",
       "540       NaN                    NaN   TEMPLETON DEUDA TASA REAL   \n",
       "596       NaN                    NaN                 FDO +TASAA1   \n",
       "1267      NaN                    NaN                     VALMX17   \n",
       "1268      NaN                    NaN                     VALMX15   \n",
       "\n",
       "                          NOMBRE  \\\n",
       "143    FISO 80672 CHIH FDO RVA F   \n",
       "144   FISO 80672 CHIH EMI T FIJA   \n",
       "148   FISO80672 CHIH FDO RVA T V   \n",
       "149   FISO80672 CHIHCTA TASA VAR   \n",
       "540    TEMPLETON DEUDA TASA REAL   \n",
       "596                  Fdo +TASAA1   \n",
       "1267                     VALMX17   \n",
       "1268                     VALMX15   \n",
       "\n",
       "                                               NOMLARGO  NUMERO_CLIENTE  \\\n",
       "143   FONDO RESERVA TASA FIJA  NACIONAL FINANCIERA F...         1064750   \n",
       "144   CUENTA EMISIONES TASA FIJA  NAFIN FIDEICOMISO ...         1064749   \n",
       "148   FONDO RESERVA TASA VARIABLE NACIONAL FINANCIER...         1064752   \n",
       "149   CUENTA EMISIONES TASA VAR  NACIONAL FIANCIERA ...         1064751   \n",
       "540   FRANKLIN TEMPLETON ASSET MANAGEMENT MEXICO TEM...         1065079   \n",
       "596              .+ TASA ACTIVO, S.A. DE C.V., F.I.R.V.         1064707   \n",
       "1267  FONDO VALMEX 17 EN INSTRUMENTOS DE DEUDA EN TA...         1064158   \n",
       "1268  FONDO VALMEX 15 EN BONOS DE TASA FIJA, S.A. DE...         1064157   \n",
       "\n",
       "      ESTATUS  NUMERO_CONTRATO  GENERO  FECHA_NAC_O_CONST  ...  TELEFONO1  \\\n",
       "143   VIGENTE              NaN     NaN                NaN  ...              \n",
       "144   VIGENTE              NaN     NaN                NaN  ...              \n",
       "148   VIGENTE              NaN     NaN                NaN  ...   429 3313   \n",
       "149   VIGENTE              NaN     NaN                NaN  ...              \n",
       "540   VIGENTE              NaN     NaN                NaN  ...              \n",
       "596   VIGENTE              NaN     NaN                NaN  ...              \n",
       "1267  VIGENTE              NaN     NaN                NaN  ...              \n",
       "1268  VIGENTE              NaN     NaN                NaN  ...              \n",
       "\n",
       "                   TELEFONO2 CORREO_ELECTRONICO           RFC  CURP  FIEL  \\\n",
       "143   (614)4293312 Y 4293313                     FEC151125BQ8   NaN   NaN   \n",
       "144   (614)4193312 Y 4293313                     FEC151125BQ8   NaN   NaN   \n",
       "148             614 429 3312                     FEC151125BQ8   NaN   NaN   \n",
       "149                 53256048                     FEC151125BQ8   NaN   NaN   \n",
       "540                 50020676                     FTD150831QD9   NaN   NaN   \n",
       "596             55 5033 3341                     STA130219T22   NaN   NaN   \n",
       "1267                52791200                     FVD031015CH7   NaN   NaN   \n",
       "1268                52791200                     FVQ031015G42   NaN   NaN   \n",
       "\n",
       "      REPRESENTANTE_LEGAL                TIPO_PERSONA  PRODUCTO_CONTRATADO  \\\n",
       "143                   NaN     Moral Nacional Gravable                  NaN   \n",
       "144                   NaN     Moral Nacional Gravable                  NaN   \n",
       "148                   NaN     Moral Nacional Gravable                  NaN   \n",
       "149                   NaN     Moral Nacional Gravable                  NaN   \n",
       "540                   NaN  Moral Nacional no Gravable                  NaN   \n",
       "596                   NaN  Moral Nacional no Gravable                  NaN   \n",
       "1267                  NaN  Moral Nacional no Gravable                  NaN   \n",
       "1268                  NaN  Moral Nacional no Gravable                  NaN   \n",
       "\n",
       "      SISTEMA_ORIGEN  \n",
       "143              TAS  \n",
       "144              TAS  \n",
       "148              TAS  \n",
       "149              TAS  \n",
       "540              TAS  \n",
       "596              TAS  \n",
       "1267             TAS  \n",
       "1268             TAS  \n",
       "\n",
       "[8 rows x 34 columns]"
      ]
     },
     "execution_count": 68,
     "metadata": {},
     "output_type": "execute_result"
    }
   ],
   "source": [
    "df_tas[df_tas[\"NOMLARGO\"].str.contains(\".+ TASA \")]"
   ]
  },
  {
   "cell_type": "code",
   "execution_count": 69,
   "id": "273bc964",
   "metadata": {},
   "outputs": [],
   "source": [
    "df_tas_tran = pl.read_csv(\"/home/ale1726/proyects/datalake/clientes/data/test/data/productos/TAS/data_origen/21_05_2025/productos_clientes_TAS.dat\")"
   ]
  },
  {
   "cell_type": "markdown",
   "id": "fe3ca7cc",
   "metadata": {},
   "source": [
    "# fideicomisos"
   ]
  },
  {
   "cell_type": "code",
   "execution_count": null,
   "id": "c075c6f3",
   "metadata": {},
   "outputs": [],
   "source": [
    "#fideicomisos = df_tas[(df_tas[\"RFC\"].str.contains(\"NFI3406305T0\"))]"
   ]
  },
  {
   "cell_type": "code",
   "execution_count": 137,
   "id": "9b8523c4",
   "metadata": {},
   "outputs": [],
   "source": [
    "fideicomisos = df_tas[df_tas[\"PROFESION\"] == 'FIDEICOMISOS']"
   ]
  },
  {
   "cell_type": "code",
   "execution_count": 152,
   "id": "5ba0e991",
   "metadata": {},
   "outputs": [
    {
     "name": "stderr",
     "output_type": "stream",
     "text": [
      "/tmp/ipykernel_2502/3654158293.py:1: SettingWithCopyWarning: \n",
      "A value is trying to be set on a copy of a slice from a DataFrame.\n",
      "Try using .loc[row_indexer,col_indexer] = value instead\n",
      "\n",
      "See the caveats in the documentation: https://pandas.pydata.org/pandas-docs/stable/user_guide/indexing.html#returning-a-view-versus-a-copy\n",
      "  fideicomisos[\"numero_fiso\"] = fideicomisos[\"NOMBRE\"].str.extract(r\"^(\\d{1,5})\")\n"
     ]
    }
   ],
   "source": [
    "fideicomisos[\"numero_fiso\"] = fideicomisos[\"NOMBRE\"].str.extract(r\"^(\\d{1,5})\")"
   ]
  },
  {
   "cell_type": "code",
   "execution_count": null,
   "id": "eef2c5cd",
   "metadata": {},
   "outputs": [],
   "source": [
    "fideicomisos"
   ]
  },
  {
   "cell_type": "code",
   "execution_count": 153,
   "id": "565f2b4b",
   "metadata": {},
   "outputs": [
    {
     "data": {
      "application/vnd.microsoft.datawrangler.viewer.v0+json": {
       "columns": [
        {
         "name": "numero_fiso",
         "rawType": "object",
         "type": "string"
        },
        {
         "name": "count",
         "rawType": "int64",
         "type": "integer"
        }
       ],
       "ref": "c3826191-4793-4a1f-80d3-d67b3a1aa118",
       "rows": [
        [
         "80139",
         "209"
        ],
        [
         "80280",
         "20"
        ],
        [
         "80758",
         "11"
        ],
        [
         "80773",
         "8"
        ],
        [
         "9738",
         "6"
        ],
        [
         "80627",
         "5"
        ],
        [
         "80745",
         "4"
        ],
        [
         "80728",
         "4"
        ],
        [
         "80776",
         "3"
        ],
        [
         "80732",
         "3"
        ],
        [
         "80722",
         "3"
        ],
        [
         "80714",
         "3"
        ],
        [
         "80686",
         "3"
        ],
        [
         "80681",
         "3"
        ],
        [
         "80748",
         "2"
        ],
        [
         "80664",
         "2"
        ],
        [
         "80724",
         "2"
        ],
        [
         "11480",
         "2"
        ],
        [
         "80581",
         "2"
        ],
        [
         "80460",
         "2"
        ],
        [
         "80736",
         "1"
        ],
        [
         "80841",
         "1"
        ],
        [
         "80784",
         "1"
        ],
        [
         "2935",
         "1"
        ],
        [
         "80774",
         "1"
        ],
        [
         "30139",
         "1"
        ],
        [
         "80760",
         "1"
        ],
        [
         "80005",
         "1"
        ],
        [
         "80752",
         "1"
        ],
        [
         "80098",
         "1"
        ],
        [
         "80105",
         "1"
        ],
        [
         "80741",
         "1"
        ],
        [
         "80739",
         "1"
        ],
        [
         "80734",
         "1"
        ],
        [
         "80525",
         "1"
        ],
        [
         "80733",
         "1"
        ],
        [
         "80370",
         "1"
        ],
        [
         "80730",
         "1"
        ],
        [
         "80449",
         "1"
        ],
        [
         "80469",
         "1"
        ],
        [
         "80715",
         "1"
        ],
        [
         "80479",
         "1"
        ],
        [
         "11701",
         "1"
        ],
        [
         "80703",
         "1"
        ],
        [
         "80702",
         "1"
        ],
        [
         "80698",
         "1"
        ],
        [
         "80710",
         "1"
        ]
       ],
       "shape": {
        "columns": 1,
        "rows": 47
       }
      },
      "text/plain": [
       "numero_fiso\n",
       "80139    209\n",
       "80280     20\n",
       "80758     11\n",
       "80773      8\n",
       "9738       6\n",
       "80627      5\n",
       "80745      4\n",
       "80728      4\n",
       "80776      3\n",
       "80732      3\n",
       "80722      3\n",
       "80714      3\n",
       "80686      3\n",
       "80681      3\n",
       "80748      2\n",
       "80664      2\n",
       "80724      2\n",
       "11480      2\n",
       "80581      2\n",
       "80460      2\n",
       "80736      1\n",
       "80841      1\n",
       "80784      1\n",
       "2935       1\n",
       "80774      1\n",
       "30139      1\n",
       "80760      1\n",
       "80005      1\n",
       "80752      1\n",
       "80098      1\n",
       "80105      1\n",
       "80741      1\n",
       "80739      1\n",
       "80734      1\n",
       "80525      1\n",
       "80733      1\n",
       "80370      1\n",
       "80730      1\n",
       "80449      1\n",
       "80469      1\n",
       "80715      1\n",
       "80479      1\n",
       "11701      1\n",
       "80703      1\n",
       "80702      1\n",
       "80698      1\n",
       "80710      1\n",
       "Name: count, dtype: int64"
      ]
     },
     "execution_count": 153,
     "metadata": {},
     "output_type": "execute_result"
    }
   ],
   "source": [
    "fideicomisos.value_counts(\"numero_fiso\")"
   ]
  },
  {
   "cell_type": "code",
   "execution_count": 138,
   "id": "473d32af",
   "metadata": {},
   "outputs": [],
   "source": [
    "fideicomiso_80139 = fideicomisos[\n",
    "    (fideicomisos[\"NOMLARGO\"].str.contains(\"80139\", case=False, na=False)) | \n",
    "    (fideicomisos[\"NOMBRE\"].str.contains(\"80139\", case=False, na=False))\n",
    "]\n",
    "\n",
    "fideicomiso_80776 = fideicomisos[\n",
    "    (fideicomisos[\"NOMLARGO\"].str.contains(\"80776\", case=False, na=False)) | \n",
    "    (fideicomisos[\"NOMBRE\"].str.contains(\"80776\", case=False, na=False))\n",
    "]\n",
    "\n",
    "\n",
    "fideicomiso_80280 = fideicomisos[\n",
    "    (fideicomisos[\"NOMLARGO\"].str.contains(\"80280\", case=False, na=False)) | \n",
    "    (fideicomisos[\"NOMBRE\"].str.contains(\"80280\", case=False, na=False))\n",
    "]"
   ]
  },
  {
   "cell_type": "code",
   "execution_count": 139,
   "id": "9c9f093d",
   "metadata": {},
   "outputs": [],
   "source": [
    "fideicomiso_complemento = fideicomisos[\n",
    "    ~(\n",
    "        (fideicomisos[\"NOMLARGO\"].str.contains(\"80139\", case=False, na=False)) | \n",
    "        (fideicomisos[\"NOMBRE\"].str.contains(\"80139\", case=False, na=False))\n",
    "    )\n",
    "]\n",
    "\n",
    "\n",
    "fideicomiso_complemento = fideicomiso_complemento[\n",
    "    ~(\n",
    "        (fideicomiso_complemento[\"NOMLARGO\"].str.contains(\"80776\", case=False, na=False)) | \n",
    "        (fideicomiso_complemento[\"NOMBRE\"].str.contains(\"80776\", case=False, na=False))\n",
    "    )\n",
    "]\n",
    "\n",
    "fideicomiso_complemento = fideicomiso_complemento[\n",
    "    ~(\n",
    "        (fideicomiso_complemento[\"NOMLARGO\"].str.contains(\"80280\", case=False, na=False)) | \n",
    "        (fideicomiso_complemento[\"NOMBRE\"].str.contains(\"80280\", case=False, na=False))\n",
    "    )\n",
    "]"
   ]
  },
  {
   "cell_type": "code",
   "execution_count": 140,
   "id": "923f44bb",
   "metadata": {},
   "outputs": [],
   "source": [
    "fideicomiso_complemento = fideicomiso_complemento.sort_values(by=\"NOMBRE\")"
   ]
  },
  {
   "cell_type": "code",
   "execution_count": 143,
   "id": "26bd5a8e",
   "metadata": {},
   "outputs": [],
   "source": [
    "df_filtrado = fideicomiso_complemento[fideicomiso_complemento[\"NOMBRE\"].str.contains(r\"^\\d\", na=False)]"
   ]
  },
  {
   "cell_type": "code",
   "execution_count": 145,
   "id": "f400b099",
   "metadata": {},
   "outputs": [],
   "source": [
    "df_filtrado = df_filtrado.sort_values(by=\"NOMBRE\")"
   ]
  },
  {
   "cell_type": "code",
   "execution_count": 147,
   "id": "f591c6d8",
   "metadata": {},
   "outputs": [],
   "source": [
    "df_filtrado[\"numero_fiso\"] = df_filtrado[\"NOMBRE\"].str.extract(r\"^(\\d{1,5})\")"
   ]
  },
  {
   "cell_type": "code",
   "execution_count": 148,
   "id": "170ab32d",
   "metadata": {},
   "outputs": [],
   "source": [
    "df_filtrado = df_filtrado.sort_values(by=\"NOMBRE\")"
   ]
  },
  {
   "cell_type": "code",
   "execution_count": 154,
   "id": "14e290e7",
   "metadata": {},
   "outputs": [
    {
     "data": {
      "application/vnd.microsoft.datawrangler.viewer.v0+json": {
       "columns": [
        {
         "name": "numero_fiso",
         "rawType": "object",
         "type": "string"
        },
        {
         "name": "count",
         "rawType": "int64",
         "type": "integer"
        }
       ],
       "ref": "3b4c5c8c-fa53-426f-8f19-323477d42035",
       "rows": [
        [
         "80758",
         "11"
        ],
        [
         "80773",
         "8"
        ],
        [
         "9738",
         "6"
        ],
        [
         "80627",
         "5"
        ],
        [
         "80745",
         "4"
        ],
        [
         "80728",
         "4"
        ],
        [
         "80732",
         "3"
        ],
        [
         "80722",
         "3"
        ],
        [
         "80686",
         "3"
        ],
        [
         "80681",
         "3"
        ],
        [
         "80714",
         "3"
        ],
        [
         "11480",
         "2"
        ],
        [
         "80581",
         "2"
        ],
        [
         "80664",
         "2"
        ],
        [
         "80460",
         "2"
        ],
        [
         "80724",
         "2"
        ],
        [
         "80748",
         "2"
        ],
        [
         "80752",
         "1"
        ],
        [
         "80739",
         "1"
        ],
        [
         "80741",
         "1"
        ],
        [
         "80005",
         "1"
        ],
        [
         "80760",
         "1"
        ],
        [
         "30139",
         "1"
        ],
        [
         "80734",
         "1"
        ],
        [
         "2935",
         "1"
        ],
        [
         "80774",
         "1"
        ],
        [
         "80784",
         "1"
        ],
        [
         "80841",
         "1"
        ],
        [
         "80736",
         "1"
        ],
        [
         "80479",
         "1"
        ],
        [
         "80733",
         "1"
        ],
        [
         "80098",
         "1"
        ],
        [
         "80525",
         "1"
        ],
        [
         "80105",
         "1"
        ],
        [
         "80370",
         "1"
        ],
        [
         "80715",
         "1"
        ],
        [
         "11701",
         "1"
        ],
        [
         "80710",
         "1"
        ],
        [
         "80703",
         "1"
        ],
        [
         "80702",
         "1"
        ],
        [
         "80698",
         "1"
        ],
        [
         "80449",
         "1"
        ],
        [
         "80469",
         "1"
        ],
        [
         "80730",
         "1"
        ]
       ],
       "shape": {
        "columns": 1,
        "rows": 44
       }
      },
      "text/plain": [
       "numero_fiso\n",
       "80758    11\n",
       "80773     8\n",
       "9738      6\n",
       "80627     5\n",
       "80745     4\n",
       "80728     4\n",
       "80732     3\n",
       "80722     3\n",
       "80686     3\n",
       "80681     3\n",
       "80714     3\n",
       "11480     2\n",
       "80581     2\n",
       "80664     2\n",
       "80460     2\n",
       "80724     2\n",
       "80748     2\n",
       "80752     1\n",
       "80739     1\n",
       "80741     1\n",
       "80005     1\n",
       "80760     1\n",
       "30139     1\n",
       "80734     1\n",
       "2935      1\n",
       "80774     1\n",
       "80784     1\n",
       "80841     1\n",
       "80736     1\n",
       "80479     1\n",
       "80733     1\n",
       "80098     1\n",
       "80525     1\n",
       "80105     1\n",
       "80370     1\n",
       "80715     1\n",
       "11701     1\n",
       "80710     1\n",
       "80703     1\n",
       "80702     1\n",
       "80698     1\n",
       "80449     1\n",
       "80469     1\n",
       "80730     1\n",
       "Name: count, dtype: int64"
      ]
     },
     "execution_count": 154,
     "metadata": {},
     "output_type": "execute_result"
    }
   ],
   "source": [
    "df_filtrado.value_counts(\"numero_fiso\")"
   ]
  },
  {
   "cell_type": "markdown",
   "id": "78c138e7",
   "metadata": {},
   "source": [
    "# personas morales"
   ]
  },
  {
   "cell_type": "code",
   "execution_count": 102,
   "id": "6470c1df",
   "metadata": {},
   "outputs": [],
   "source": [
    "personas_morales = df_tas[df_tas[\"PROFESION\"] != 'FIDEICOMISOS']"
   ]
  },
  {
   "cell_type": "code",
   "execution_count": 35,
   "id": "da86c085",
   "metadata": {},
   "outputs": [],
   "source": [
    "personas_morales = personas_morales[personas_morales[\"RFC\"] != 'NFI3406305T0']"
   ]
  },
  {
   "cell_type": "code",
   "execution_count": 103,
   "id": "321068fd",
   "metadata": {},
   "outputs": [],
   "source": [
    "personas_morales_filtred = personas_morales[personas_morales[\"RFC\"] != 'XXXXXXXXXXXXX']\n",
    "personas_morales_complemento = personas_morales[personas_morales[\"RFC\"] == 'XXXXXXXXXXXXX']"
   ]
  },
  {
   "cell_type": "code",
   "execution_count": null,
   "id": "21271186",
   "metadata": {},
   "outputs": [],
   "source": [
    "filtred_ctl_rep_mor = (\n",
    "    personas_morales_filtred\n",
    "    .groupby(\"RFC\", as_index=False)\n",
    "    .agg({\n",
    "        col: (lambda x: ', '.join(map(str, sorted(set(x.dropna()))))) \n",
    "        for col in personas_morales_filtred.columns if col != \"RFC\"\n",
    "    })\n",
    ")\n",
    "\n",
    "filtred_clt_rep_reordenado = filtred_ctl_rep_mor[personas_morales_complemento.columns]\n",
    "\n",
    "\n",
    "data_pm =  pd.concat([personas_morales_complemento, filtred_ctl_rep_mor], ignore_index=True)\n"
   ]
  },
  {
   "cell_type": "code",
   "execution_count": null,
   "id": "74e54416",
   "metadata": {},
   "outputs": [],
   "source": [
    "data_pm"
   ]
  }
 ],
 "metadata": {
  "kernelspec": {
   "display_name": "myenv_1",
   "language": "python",
   "name": "python3"
  },
  "language_info": {
   "codemirror_mode": {
    "name": "ipython",
    "version": 3
   },
   "file_extension": ".py",
   "mimetype": "text/x-python",
   "name": "python",
   "nbconvert_exporter": "python",
   "pygments_lexer": "ipython3",
   "version": "3.10.12"
  }
 },
 "nbformat": 4,
 "nbformat_minor": 5
}
