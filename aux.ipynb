{
 "cells": [
  {
   "cell_type": "markdown",
   "metadata": {
    "vscode": {
     "languageId": "plaintext"
    }
   },
   "source": [
    "El objetivo es encotrar la informacion mas posible, y que sea de calidad. De acuerdo a los criterios de PLD\n",
    "\n",
    "| Información requerida                   | Información obtenida                              |\n",
    "|-----------------------------------------|--------------------------------------------------|\n",
    "| negocio                                 | MECA.CAPF_CLIENTES_POR_AREA relacionar con esta tabla |\n",
    "| nombre cliente o razón social           | CLI_NOMBRE                                       |\n",
    "| número cliente                          | CLI_CLAVE                                        |\n",
    "| estatus                                 | CLI_EST_CLAVE                                    |\n",
    "| número contrato                         |                                                  |\n",
    "| género                                  |                                                  |\n",
    "| fecha_nacimiento o de constitución      |                                                  |\n",
    "| entidad federativa nacimiento           |                                                  |\n",
    "| país de nacimiento                      |                                                  | \n",
    "| nacionalidad                            | CLI_NACIONALIDAD                                 |\n",
    "| profesión                               |                                                  |\n",
    "| calle                                   | CLI_DIRECCION                                    |\n",
    "| número_exterior                         |                                                  |\n",
    "| número_interior                         |                                                  |\n",
    "| colonia_urbanización                    |                                                  |\n",
    "| delegación_municipio                    |                                                  |\n",
    "| ciudad_población                        |                                                  |\n",
    "| entidad_federativa                      | CLI_EDO_CLAVE                                    |\n",
    "| código postal                           |                                                  |\n",
    "| país                                    | CLI_EDO_PAI_CLAVE                                |\n",
    "| teléfono                                | CLI_TELEFONO                                     |\n",
    "| correo_electrónico                      |                                                  |\n",
    "| rfc                                     | CLI_RFC_LETRAS, CLI_RFC_FECHA, CLI_RFC_HOMO      |\n",
    "| curp                                    |                                                  |\n",
    "| fiel                                    |                                                  |\n",
    "| representante legal                     |                                                  |\n",
    "| tipo de persona                         | CLI_TDC_CLAVE                                    |\n",
    "| clasificación por grado de riesgo       |                                                  |\n",
    "| pep (persona políticamente expuesta)    |                                                  |\n",
    "| razón                                   |                                                  |\n",
    "| producto contratado                     | por movimientos y operaciones                    |\n",
    "| cambios en perfil transaccional         |                                                  |"
   ]
  }
 ],
 "metadata": {
  "language_info": {
   "name": "python"
  }
 },
 "nbformat": 4,
 "nbformat_minor": 2
}
