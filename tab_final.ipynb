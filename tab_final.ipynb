{
 "cells": [
  {
   "cell_type": "markdown",
   "metadata": {},
   "source": [
    "\n",
    "| COLUNNA                  | DESCRIPCION                            | VALORES |\n",
    "|--------------------------|----------------------------------------|----------------------------------------|\n",
    "| NEGOCIO                  | ÁREA O SECTOR DE NEGOCIO DEL CLIENTE   |                           |\n",
    "| NOMBRE_O_RAZON_SOCIAL    | NOMBRE DEL CLIENTE O RAZÓN SOCIAL      ||\n",
    "| NUMERO_CLIENTE          | CLAVE O ID DEL CLIENTE EN SU TABLA DE ORIGEN ||\n",
    "| ESTATUS                  | ESTADO ACTUAL DEL CLIENTE ( VIGENTE, NO VIGENTE) |    VIGENTE / NO VIGENTE |\n",
    "| NÚMERO_CONTRATO          | NÚMERO DE CONTRATO REFERENTE AL CLIENTE |              |\n",
    "| GENERO                   | GÉNERO DEL CLIENTE, SI APLICA  |F: FEMENINO - M: MASCULINO - N: NO APLICA |\n",
    "| FECHA_NAC_O_CONST| FECHA DE NACIMIENTO DEL CLIENTE O DE CONSTITUCIÓN DE LA EMPRESA |\n",
    "| ENTIDAD_FEDERATIVA_NACIMIENTO| ENTIDAD FEDERATIVA DE NACIMIENTO DEL CLIENTE |    |\n",
    "| PAIS_DE_NACIMIENTO     | PAÍS DE NACIMIENTO DEL CLIENTE         |                   |\n",
    "| NACIONALIDAD             | NACIONALIDAD DEL CLIENTE               |                   |\n",
    "| PROFESIÓN                | PROFESIÓN  DEL CLIENTE O ACTIVIDAD ECONOMICA|                  |\n",
    "| CALLE                    | CALLE DE LA DIRECCIÓN DEL CLIENTE      |   | \n",
    "| NUMERO_EXTERIOR          | NÚMERO EXTERIOR DE LA DIRECCIÓN DEL CLIENTE |  |\n",
    "| NUMERO_INTERIOR          | NÚMERO INTERIOR DE LA DIRECCIÓN DEL CLIENTE |  |\n",
    "| COLONIA_URBANIZACIÓN     | COLONIA O URBANIZACIÓN DE LA DIRECCIÓN DEL CLIENTE |  |\n",
    "| DELEGACION_MUNICIPIO     | DELEGACIÓN O MUNICIPIO DE LA DIRECCIÓN DEL CLIENTE | |\n",
    "| CIUDAD_POBLACIÓN         | CIUDAD O POBLACIÓN DE LA DIRECCIÓN DEL CLIENTE | |\n",
    "| ENTIDAD_FEDERATIVA       | ENTIDAD FEDERATIVA DE LA DIRECCIÓN DEL CLIENTE | |\n",
    "| CODIGO_POSTAL            | CÓDIGO POSTAL DE LA DIRECCIÓN DEL CLIENTE ||\n",
    "| PAÍS                     | PAÍS DE LA DIRECCIÓN DEL CLIENTE       ||\n",
    "| TELÉFONO                 | NÚMERO DE TELÉFONO DEL CLIENTE         ||\n",
    "| CORREO_ELECTRÓNICO       | CORREO ELECTRÓNICO DEL CLIENTE         ||\n",
    "| RFC                      | REGISTRO FEDERAL DE CONTRIBUYENTES DEL CLIENTE |GENERICO: XXXXXXXXXXXXX|\n",
    "| CURP                     | CLAVE ÚNICA DE REGISTRO DE POBLACIÓN DEL CLIENTE | |\n",
    "| FIEL                     | FIRMA ELECTRÓNICA AVANZADA DEL CLIENTE | |\n",
    "| REPRESENTANTE_LEGAL      | NOMBRE DEL REPRESENTANTE LEGAL DEL CLIENTE | |\n",
    "| TIPO_PERSONA          | TIPO DE PERSONA (FÍSICA O MORAL)       | PM: PERSONA MORAL - PF: PERSONA FÍSICA |\n",
    "| PRODUCTO_CONTRATADO      | PRODUCTO O SERVICIO CONTRATADO POR EL CLIENTE ||\n",
    "| SISTEMA_ORIGEN | SISTEMA DE DONDE SE ORIGINAN LOS DATOS DEL CLIENTE ||\n",
    "| FECHA DE ACTUALIZACIÓN   | FECHA DE LA ÚLTIMA ACTUALIZACIÓN DE LOS DATOS DEL CLIENTE |DD/MM/AA|\n",
    "|                         |                                        |\n",
    "\n"
   ]
  },
  {
   "cell_type": "markdown",
   "metadata": {},
   "source": [
    "COLUMNAS: <br>\n",
    "NEGOCIO, <br> NOMBRE_O_RAZON_SOCIAL,<br> NUMERO_CLIENTE, <br> ESTATUS, <br> NÚMERO_CONTRATO, <br> GENERO,<br> FECHA_NAC_O_CONST,<br> ENTIDAD_FEDERATIVA_NACIMIENTO,<br>\n",
    "PAIS_DE_NACIMIENTO, <br>NACIONALIDAD, <br>PROFESION, <br>CALLE, NUMERO_EXTERIOR, <br>NUMERO_INTERIOR, <br>COLONIA_URBANIZACIÓN, <br>DELEGACION_MUNICIPIO, <br>\n",
    "CIUDAD_POBLACION, <br>ENTIDAD_FEDERATIVA, <br>CÓDIGO_POSTAL,<br> PAIS,<br> TELEFONO,<br>CORREO_ELECTRÓNICO,<br> RFC, <br>CURP, <br>FIEL, <br>REPRESENTANTE_LEGAL,<br> TIPO_PERSONA,<br> PRODUCTO_CONTRATADO,<br> SISTEMA_ORIGEN, <br>FECHA_DE_ACTUALIZACION"
   ]
  },
  {
   "cell_type": "code",
   "execution_count": 1,
   "metadata": {},
   "outputs": [],
   "source": [
    "from utils.tf import *\n",
    "from utils.db import *\n",
    "from utils.gd import * \n",
    "from datetime import datetime\n",
    "import cx_Oracle\n",
    "import pandas as pd\n",
    "import os\n",
    "import plotly.express as px\n",
    "import plotly.graph_objects as go"
   ]
  },
  {
   "cell_type": "code",
   "execution_count": 58,
   "metadata": {},
   "outputs": [],
   "source": [
    "df_meca = pd.read_csv(\"/home/ale1726/proyects/datalake/clientes/data/Clientes_activos_MECA.dat\")\n",
    "df_sims = pd.read_csv(\"/home/ale1726/proyects/datalake/clientes/data/Clientes_activos_SIMS.dat\")\n",
    "df_sipe = pd.read_csv(\"/home/ale1726/proyects/datalake/clientes/data/Clientes_activos_SIPE.dat\")\n",
    "df_sirac  = pd.read_csv(\"/home/ale1726/proyects/datalake/clientes/data/Clientes_activos_SIRAC.dat\")\n",
    "df_soi  = pd.read_csv(\"/home/ale1726/proyects/datalake/clientes/data/Clientes_activos_SOI.dat\")\n",
    "df_tas  = pd.read_csv(\"/home/ale1726/proyects/datalake/clientes/data/Clientes_activos_TAS.dat\")"
   ]
  },
  {
   "cell_type": "code",
   "execution_count": 59,
   "metadata": {},
   "outputs": [],
   "source": [
    "df_meca[\"CLI_RFC_LETRAS\"]= df_meca[\"CLI_RFC_LETRAS\"].apply(lambda x: x.upper() if pd.notna(x) else \"XXX\")\n",
    "df_meca[\"CLI_RFC_FECHA\"] = df_meca[\"CLI_RFC_FECHA\"].apply(lambda x: int(x) if pd.notna(x) else \"XXXXXX\") \n",
    "df_meca[\"CLI_RFC_HOMO\"] = df_meca[\"CLI_RFC_HOMO\"].apply(lambda x: x.upper() if pd.notna(x) else \"XXX\") \n",
    "df_meca[\"RFC\"] = df_meca.apply(lambda row: f'{row[\"CLI_RFC_LETRAS\"]}{row[\"CLI_RFC_FECHA\"]}{row[\"CLI_RFC_HOMO\"]}',axis=1)"
   ]
  },
  {
   "cell_type": "code",
   "execution_count": 60,
   "metadata": {},
   "outputs": [],
   "source": [
    "df_sipe[\"RFC\"] = df_sipe[\"RFC\"].apply(lambda x: normalizar_RFC(x) if pd.notna(x) else \"XXXXXXXXXXXXX\")\n",
    "df_sipe[\"RFC\"] = df_sipe[\"RFC\"].apply(lambda x: x if verificar_rfc(x) else \"XXXXXXXXXXXXX\")"
   ]
  },
  {
   "cell_type": "code",
   "execution_count": 61,
   "metadata": {},
   "outputs": [],
   "source": [
    "df_sims[\"RFC\"] = df_sims[\"RFC\"].apply(lambda x: x if pd.notna(x) else \"XXXXXXXXXXXXX\")"
   ]
  },
  {
   "cell_type": "code",
   "execution_count": 62,
   "metadata": {},
   "outputs": [],
   "source": [
    "df_sirac[\"NOMBRE_O_RAZON_SOCIAL\"] = df_sirac.apply(lambda row:(\n",
    "                                                    row[\"RAZON_SOCIAL\"] if row[\"TIPO_PERSONA\"] == 7\n",
    "                                                    else f'{row[\"NOMBRES\"]} {row[\"PRIMER_APELLIDO\"]} {row[\"SEGUNDO_APELLIDO\"]}'\n",
    "                                                    ),axis=1)\n",
    "df_tas[\"NOMBRE_O_RAZON_SOCIAL\"] = df_tas[\"NOMLARGO\"]\n"
   ]
  },
  {
   "cell_type": "code",
   "execution_count": null,
   "metadata": {},
   "outputs": [],
   "source": [
    "df_sirac[\"FECHA_NAC_O_CONST\"] = df_sirac.apply(lambda row: fecha_de_nacimiento(row[\"NUMERO_IDENTIFICACION\"].split(\"-\")[1]) if row[\"RFC_GEN\"] == \"N\" else pd.NaT\n",
    "                                               , axis=1)"
   ]
  },
  {
   "cell_type": "code",
   "execution_count": null,
   "metadata": {},
   "outputs": [],
   "source": [
    "df_sirac[\"RFC\"] = df_sirac[\"NUMERO_IDENTIFICACION\"]\n",
    "df_sirac[\"RFC\"] = df_sirac[\"RFC\"].apply(normalizar_RFC)\n"
   ]
  },
  {
   "cell_type": "code",
   "execution_count": null,
   "metadata": {},
   "outputs": [],
   "source": [
    "def rfc_soi(x):\n",
    "    dict_rfc = {}\n",
    "    if pd.notna(x):\n",
    "        for rfcs in x.split(\"--\"):\n",
    "            if verificar_rfc(normalizar_RFC(rfcs)) is True:\n",
    "                dict_rfc[True]= normalizar_RFC(rfcs)\n",
    "            else:\n",
    "                dict_rfc[False] = \"XXXXXXXXXXXXX\"\n",
    "        return dict_rfc[True] if True in dict_rfc else dict_rfc[False]\n",
    "    else:\n",
    "        return \"XXXXXXXXXXXXX\"\n",
    "\n",
    "df_soi[\"RFC\"] = df_soi[\"RFC\"].apply(rfc_soi)"
   ]
  },
  {
   "cell_type": "code",
   "execution_count": 105,
   "metadata": {},
   "outputs": [],
   "source": [
    "df_tas[\"RFC\"] =  df_tas[\"RFC\"].apply(lambda x: normalizar_RFC(x) if verificar_rfc(normalizar_RFC(x)) is True and pd.notna(x) else \"XXXXXXXXXXXXX\")"
   ]
  },
  {
   "cell_type": "code",
   "execution_count": null,
   "metadata": {},
   "outputs": [],
   "source": [
    "from multiprocessing import Pool\n",
    "from fuzzywuzzy import fuzz\n",
    "\n",
    "def busqueda_cliente(df,num_cliente):\n",
    "    return df[df[\"NUMERO_CLIENTE\"] == num_cliente]\n",
    "\n",
    "def compara_filas(args):\n",
    "    id1, clt1, TAB2, A2, U1 = args\n",
    "    resultados = [[], [], [], []]\n",
    "    for id2, clt2 in zip(TAB2[\"NUMERO_CLIENTE\"], TAB2[A2]):\n",
    "        if fuzz.ratio(normalizar_cadena(clt1), normalizar_cadena(clt2)) >= U1:\n",
    "            resultados[0].append(clt1)\n",
    "            resultados[1].append(clt2)\n",
    "            resultados[2].append(id1)\n",
    "            resultados[3].append(id2)\n",
    "    return resultados\n",
    "\n",
    "def compara_nombres(TAB1, TAB2, A1, A2, U1):\n",
    "    \"\"\"\n",
    "    Compara clientes entre dos tablas utilizando un criterio de similitud.\n",
    "\n",
    "    Args:\n",
    "        TAB1 (pd.DataFrame): Primera tabla de clientes.\n",
    "        TAB2 (pd.DataFrame): Segunda tabla de clientes.\n",
    "        A1 (str): Columna de TAB1 a comparar.\n",
    "        A2 (str): Columna de TAB2 a comparar.\n",
    "        U1 (int): Umbral de similitud para la columna.\n",
    "\n",
    "    Returns:\n",
    "        list: Listas de resultados con las coincidencias encontradas.\n",
    "    \"\"\"\n",
    "    CR = [[], [], [], []]\n",
    "\n",
    "    with Pool(processes=10) as pool:\n",
    "        args = [(id1, clt1, TAB2, A2, U1) for id1, clt1 in zip(TAB1[\"NUMERO_CLIENTE\"], TAB1[A1])]\n",
    "        resultados = pool.map(compara_filas, args)\n",
    "    \n",
    "    for resultado in resultados:\n",
    "        for i in range(4):\n",
    "            CR[i].extend(resultado[i])\n",
    "            \n",
    "    df_comp = pd.DataFrame(\n",
    "        {\n",
    "            \"NUM_CLIENTE_1\": CR[2],\n",
    "            \"CLIENTE_1\" : CR[0],\n",
    "            \"NUM_CLIENTE_2\": CR[3],\n",
    "            \"CLIENTE_2\" : CR[1]\n",
    "        }\n",
    "    )\n",
    "    #print(df_comp.to_string(max_cols=None))\n",
    "    df_comp[\"SISTEMA_ORIGEN_1\"] = df_comp[\"NUM_CLIENTE_1\"].apply(lambda x: TAB1[\"SISTEMA_ORIGEN\"][TAB1[\"NUMERO_CLIENTE\"]==x].iloc[0])\n",
    "    df_comp[\"SISTEMA_ORIGEN_2\"] = df_comp[\"NUM_CLIENTE_2\"].apply(lambda x: TAB2[\"SISTEMA_ORIGEN\"][TAB2[\"NUMERO_CLIENTE\"]==x].iloc[0])\n",
    "    df_comp[\"DIR_1\"] = df_comp[\"NUM_CLIENTE_1\"].apply(lambda x: TAB1[\"CALLE\"][TAB1[\"NUMERO_CLIENTE\"]==x].iloc[0])\n",
    "    df_comp[\"RFC_1\"] = df_comp[\"NUM_CLIENTE_1\"].apply(lambda x: TAB1[\"RFC\"][TAB1[\"NUMERO_CLIENTE\"]==x].iloc[0])\n",
    "    df_comp[\"DIR_2\"] = df_comp[\"NUM_CLIENTE_2\"].apply(lambda x: TAB2[\"CALLE\"][TAB2[\"NUMERO_CLIENTE\"]==x].iloc[0]) \n",
    "    df_comp[\"RFC_2\"] = df_comp[\"NUM_CLIENTE_2\"].apply(lambda x: TAB2[\"RFC\"][TAB2[\"NUMERO_CLIENTE\"]==x].iloc[0])    \n",
    "    return df_comp\n",
    "\n"
   ]
  },
  {
   "cell_type": "code",
   "execution_count": 148,
   "metadata": {},
   "outputs": [],
   "source": [
    "\n",
    "def clts_repetidos(df_bus, dfs_comp, nombre_col, umbral_similitud, title):\n",
    "    dfs_compara = []\n",
    "    for df in dfs_comp:\n",
    "        dfs_compara.append(compara_nombres(df_bus, df, nombre_col, nombre_col, umbral_similitud))\n",
    "    \n",
    "    dfs_compara = pd.concat(dfs_compara, axis=0, ignore_index=True)\n",
    "\n",
    "    # Agrupar por NUM_CLIENTE_1 y concatenar los valores de NUM_CLIENTE_2 y SISTEMA_ORIGEN_2\n",
    "    grouped_df = dfs_compara.groupby(\"NUM_CLIENTE_1\").agg({\n",
    "        \"NUM_CLIENTE_2\": list,\n",
    "        \"SISTEMA_ORIGEN_2\": lambda x: ','.join(x),\n",
    "        \"CLIENTE_2\": list, \n",
    "        \"DIR_2\": list,\n",
    "        \"RFC_2\": list\n",
    "    }).reset_index()\n",
    "\n",
    "    grouped_df[\"NUM_CLIENTE_2\"]\n",
    "    # Agregar columna de conteo\n",
    "    grouped_df[\"count\"] = grouped_df[\"NUM_CLIENTE_2\"].apply(lambda x: len(x))\n",
    "\n",
    "    # Renombrar columnas\n",
    "    grouped_df = grouped_df.rename(columns={\n",
    "        \"NUM_CLIENTE_1\": \"ID_ORIGEN\",\n",
    "        \"NUM_CLIENTE_2\": \"ID_X_SISTEMA\",\n",
    "        \"SISTEMA_ORIGEN_2\": \"SISTEMAS_ORIGENES_EXT\",\n",
    "        \"DIR_2\": \"DIRECCIONES_EXT\",\n",
    "        \"RFC_2\": \"RFC\",\n",
    "        \"CLIENTE_2\": \"CLIENTES_EXT\"\n",
    "    })\n",
    "\n",
    "    # Agregar columna NOMBRE_O_RAZON_SOCIAL\n",
    "    grouped_df[\"NOMBRE_O_RAZON_SOCIAL\"] = grouped_df[\"ID_ORIGEN\"].apply(\n",
    "        lambda x: df_bus.loc[df_bus[\"NUMERO_CLIENTE\"] == x, \"NOMBRE_O_RAZON_SOCIAL\"].iloc[0]\n",
    "    )\n",
    "    \n",
    "    grouped_df[\"DIRRECION_ORIGEN\"] = grouped_df[\"ID_ORIGEN\"].apply(\n",
    "        lambda x: df_bus.loc[df_bus[\"NUMERO_CLIENTE\"] == x, \"CALLE\"].iloc[0]\n",
    "    )\n",
    "    \n",
    "    grouped_df[\"RFC_ORIGEN\"] = grouped_df[\"ID_ORIGEN\"].apply(\n",
    "        lambda x: df_bus.loc[df_bus[\"NUMERO_CLIENTE\"] == x, \"RFC\"].iloc[0]\n",
    "    )\n",
    "    grouped_df[\"SISTEMA_ORIGEN\"] = dfs_compara['SISTEMA_ORIGEN_1'].unique()[0]\n",
    "      \n",
    "    if not grouped_df.empty:\n",
    "        grouped_df[\"text\"] = grouped_df.apply(lambda row: (\n",
    "                                    f\"{row['NOMBRE_O_RAZON_SOCIAL']} <br>\" +\n",
    "                                    f\"SISTEMAS PRESENTES: {row['SISTEMAS_ORIGENES_EXT']},{row['SISTEMA_ORIGEN']}<br>\" +\n",
    "                                    f\"NUMERO DE CLIENTES: {row['ID_X_SISTEMA'] + [row['ID_ORIGEN']]}  <br>\"  +\n",
    "                                    f\"DIRECCIONES: {row['DIRECCIONES_EXT'] + [row['DIRRECION_ORIGEN']]}  <br> \"  +\n",
    "                                    f\"RFCS: {row['RFC'] + [row['RFC_ORIGEN']]} \"                      \n",
    "                                        ), axis=1)\n",
    "    \n",
    "        fig = go.Figure()\n",
    "        grouped_df[\"ID_ORIGEN_STR\"] = grouped_df[\"ID_ORIGEN\"].astype(str)\n",
    "        fig.add_trace(go.Scatter(\n",
    "            x=grouped_df[\"ID_ORIGEN_STR\"],\n",
    "            y=grouped_df[\"count\"],\n",
    "            mode='markers',\n",
    "            text=grouped_df[\"text\"],\n",
    "            marker=dict(size=10,\n",
    "                        color='blue'),\n",
    "            hovertemplate='%{text}'\n",
    "        ))\n",
    "        \n",
    "        fig.update_layout(title=f\"Dispersión de clientes y sistemas {title}\",\n",
    "                          xaxis_title=\"ID_ORIGEN\",\n",
    "                          yaxis_title=\"Count\")\n",
    "        \n",
    "        fig.show()\n",
    "    return grouped_df[[\"NOMBRE_O_RAZON_SOCIAL\",\"CLIENTES_EXT\",\"ID_ORIGEN\",\"ID_X_SISTEMA\",\"SISTEMA_ORIGEN\",\"SISTEMAS_ORIGENES_EXT\",\"count\", \"DIRECCIONES_EXT\", \"DIRRECION_ORIGEN\", \"RFC\", \"RFC_ORIGEN\"]], dfs_compara"
   ]
  },
  {
   "cell_type": "markdown",
   "metadata": {},
   "source": [
    "# MECA VS LOS SISTEMAS TRANSACCIONALES"
   ]
  },
  {
   "cell_type": "code",
   "execution_count": 149,
   "metadata": {},
   "outputs": [
    {
     "data": {
      "application/vnd.plotly.v1+json": {
       "config": {
        "plotlyServerURL": "https://plot.ly"
       },
       "data": [
        {
         "hovertemplate": "%{text}",
         "marker": {
          "color": "blue",
          "size": 10
         },
         "mode": "markers",
         "text": [
          "BANCO DEL ATLANTICO, S.A. <br>SISTEMAS PRESENTES: SIPE,MECA<br>NUMERO DE CLIENTES: [20, 'ATLAN']  <br>DIRECCIONES: [nan, 'NO SE TIENE REGISTRADA LA INFORMACION']  <br> RFCS: ['XXXXXXXXXXXXX', 'XXXXXXXXXXXX'] ",
          "BANCO DEL BAJIO <br>SISTEMAS PRESENTES: SIPE,TAS,TAS,MECA<br>NUMERO DE CLIENTES: [209, 1060022, 999899, 'BANJIO']  <br>DIRECCIONES: [nan, nan, nan, 'NO SE TIENE REGISTRADA LA INFORMACION']  <br> RFCS: ['XXXXXXXXXXXXX', 'XXXXXXXXXXXXX', 'BBA940707IE1', 'XXXXXXXXXXXX'] ",
          "BANK OF AMERICA MEXICO <br>SISTEMAS PRESENTES: SIPE,TAS,MECA<br>NUMERO DE CLIENTES: [339, 1060026, 'BANKAM']  <br>DIRECCIONES: ['PEDREGAL #24, PISO 22, MOLINO DEL REY, MIGUEL HIDALGO, 11040', nan, 'PASEO DE LA REFORMA 116']  <br> RFCS: ['XXXXXXXXXXXXX', 'XXXXXXXXXXXXX', 'XXXXXXXXXXXX'] ",
          "BANK OF NEW YORK <br>SISTEMAS PRESENTES: SIMS,SIPE,MECA<br>NUMERO DE CLIENTES: ['BKOFNY', 287, 'BANKNY']  <br>DIRECCIONES: [nan, '32 OLD SLIP ROAD NY, NY 10179', 'NO SE TIENE REGISTRADA LA INFORMACION']  <br> RFCS: ['XXXXXXXXXXXXX', 'XXXXXXXXXXXXX', 'XXXXXXXXXXXX'] ",
          "BANOBRAS <br>SISTEMAS PRESENTES: SIPE,MECA<br>NUMERO DE CLIENTES: [24, 'BANOB']  <br>DIRECCIONES: ['JAVIER BARROS SIERA 515, LOMAS DE SANTA FE, MEXICO', 'NO SE TIENE REGISTRADA LA INFORMACION']  <br> RFCS: ['BNO670315CDO', 'XXXXXXXXXXXX'] ",
          "BANRURAL <br>SISTEMAS PRESENTES: TAS,MECA<br>NUMERO DE CLIENTES: [1060002, 'BANRU']  <br>DIRECCIONES: [nan, 'NO SE TIENE REGISTRADA LA INFORMACION']  <br> RFCS: ['XXXXXXXXXXXXX', 'XXXXXXXXXXXX'] ",
          "BARCLAYS CAPITAL CASA DE BOLSA, S.A. DE C.V. <br>SISTEMAS PRESENTES: TAS,MECA<br>NUMERO DE CLIENTES: [1057503, 'BARCAP']  <br>DIRECCIONES: [nan, 'AV. PASEO DE LA REFORMA N° 505, PISO 41, COL. CUAUHTÉMOC, C.P. 06500 MÉXICO, D.F.']  <br> RFCS: ['BCC06031613A', 'BCC6031613A'] ",
          "CASA DE BOLSA BBVA BANCOMER, S.A. DE C.V. <br>SISTEMAS PRESENTES: TAS,TAS,MECA<br>NUMERO DE CLIENTES: [1057498, 1057505, 'BBVA']  <br>DIRECCIONES: [nan, nan, 'MONTES URALES #424 PISO 3, COLONIA LOMAS DE CHAPULTEPEC C.P. 11000']  <br> RFCS: ['CBB960628D41', 'CBB960628D41', 'CBB960628JY9'] ",
          "BANCO BILBAO VIZCAYA MEXICO,S.A. <br>SISTEMAS PRESENTES: SIPE,MECA<br>NUMERO DE CLIENTES: [247, 'BBVI']  <br>DIRECCIONES: [nan, 'NO SE TIENE REGISTRADA LA INFORMACION']  <br> RFCS: ['XXXXXXXXXXXXX', 'XXXXXXXXXXXX'] ",
          "BANCA CREMI,S.A. <br>SISTEMAS PRESENTES: SIPE,MECA<br>NUMERO DE CLIENTES: [77, 'BCDI']  <br>DIRECCIONES: [nan, 'NO SE TIENE REGISTRADA LA INFORMACION']  <br> RFCS: ['XXXXXXXXXXXXX', 'XXXXXXXXXXXX'] ",
          "BANCO DEL CENTRO,S.A. <br>SISTEMAS PRESENTES: SIPE,MECA<br>NUMERO DE CLIENTES: [21, 'BCDM']  <br>DIRECCIONES: [nan, 'NO SE TIENE REGISTRADA LA INFORMACION']  <br> RFCS: ['XXXXXXXXXXXXX', 'XXXXXXXXXXXX'] ",
          "BANCO NACIONAL DE COMERCIO EXTERIOR <br>SISTEMAS PRESENTES: SIMS,SIRAC,TAS,TAS,MECA<br>NUMERO DE CLIENTES: ['BCOMXT', 5970070, 1060008, 997861, 'BCOMEX']  <br>DIRECCIONES: [nan, nan, nan, nan, 'NO SE TIENE REGISTRADA LA INFORMACION']  <br> RFCS: ['XXXXXXXXXXXXX', 'BNC8507311M4', 'XXXXXXXXXXXXX', 'BNC8507311M4', 'XXXXXXXXXXXX'] ",
          "BANCO MIFEL,S.A. <br>SISTEMAS PRESENTES: TAS,MECA<br>NUMERO DE CLIENTES: [1060020, 'BCOMIF']  <br>DIRECCIONES: [nan, 'NO SE TIENE REGISTRADA LA INFORMACION']  <br> RFCS: ['XXXXXXXXXXXXX', 'XXXXXXXXXXXX'] ",
          "BANK OF MONTREAL CHICAGO <br>SISTEMAS PRESENTES: SIPE,MECA<br>NUMERO DE CLIENTES: [257, 'BKMONT']  <br>DIRECCIONES: [nan, '115 SOUTH LA SALLE STREET 19TH FLOOR W.']  <br> RFCS: ['XXXXXXXXXXXXX', 'XXXXXXXXXXXX'] ",
          "BANCO MERCANTIL DEL NORTE,SA <br>SISTEMAS PRESENTES: SIPE,MECA<br>NUMERO DE CLIENTES: [22, 'BMNO']  <br>DIRECCIONES: ['ZARAGOZA 920 SUR MONTERREY NUEVO LEON', 'NO SE TIENE REGISTRADA LA INFORMACION']  <br> RFCS: ['XXXXXXXXXXXXX', 'XXX123456XXX'] ",
          "BANCO NACIONAL DE MEXICO,S.A. <br>SISTEMAS PRESENTES: SIMS,SIMS,TAS,MECA<br>NUMERO DE CLIENTES: ['BANMEX', 'BANAME', 1060005, 'BNMX']  <br>DIRECCIONES: ['INSURGENTES SUR', nan, nan, 'NO SE TIENE REGISTRADA LA INFORMACION']  <br> RFCS: ['XXXXXXXXXXXXX', 'XXXXXXXXXXXXX', 'XXXXXXXXXXXXX', 'XXXXXXXXXXXX'] ",
          "CASA DE BOLSA BANORTE, S.A. DE C.V <br>SISTEMAS PRESENTES: TAS,MECA<br>NUMERO DE CLIENTES: [1057507, 'BNORT']  <br>DIRECCIONES: [nan, 'P']  <br> RFCS: ['ICB950503QH4', 'XXX123456XXX'] ",
          "BANK OF AMERICA MEXICO, S.A. <br>SISTEMAS PRESENTES: SIPE,TAS,MECA<br>NUMERO DE CLIENTES: [339, 1060026, 'BOFA']  <br>DIRECCIONES: ['PEDREGAL #24, PISO 22, MOLINO DEL REY, MIGUEL HIDALGO, 11040', nan, 'NO SE TIENE REGISTRADA LA INFORMACION']  <br> RFCS: ['XXXXXXXXXXXXX', 'XXXXXXXXXXXXX', 'XXXXXXXXXXXX'] ",
          "BANK OF AMERICA SAN FRANCISCO <br>SISTEMAS PRESENTES: SIPE,MECA<br>NUMERO DE CLIENTES: [40, 'BOFAS']  <br>DIRECCIONES: ['GATEWAY 1850 BLVD. CONCORD CALIFORNIA', 'NO SE TIENE REGISTRADA LA INFORMACION']  <br> RFCS: ['XXXXXXXXXXXXX', 'XXXXXXXXXXXX'] ",
          "BANCO DE ORIENTE <br>SISTEMAS PRESENTES: SIPE,MECA<br>NUMERO DE CLIENTES: [78, 'BORI']  <br>DIRECCIONES: [nan, 'NO SE TIENE REGISTRADA LA INFORMACION']  <br> RFCS: ['XXXXXXXXXXXXX', 'XXXXXXXXXXXX'] ",
          "BANK OF BOSTON MEXICO <br>SISTEMAS PRESENTES: SIPE,TAS,MECA<br>NUMERO DE CLIENTES: [246, 1060000, 'BOSTON']  <br>DIRECCIONES: [nan, nan, 'NO SE TIENE REGISTRADA LA INFORMACION']  <br> RFCS: ['XXXXXXXXXXXXX', 'XXXXXXXXXXXXX', 'XXXXXXXXXXXX'] ",
          "BEAR STEARNS CO. INC. <br>SISTEMAS PRESENTES: SIPE,MECA<br>NUMERO DE CLIENTES: [288, 'BSTEAR']  <br>DIRECCIONES: ['383 MADISON AVENUE NY, NY 10179', 'P']  <br> RFCS: ['XXXXXXXXXXXXX', 'XXX123456XXX'] ",
          "BANCO DE MEXICO <br>SISTEMAS PRESENTES: SIPE,TAS,MECA<br>NUMERO DE CLIENTES: [220, 1040153, 'BXICO']  <br>DIRECCIONES: ['AV. 5 DE MAYO 2 COLONIA CENTRO DELEGACION CUAUHTEMOC.CP06000', nan, 'NO SE TIENE REGISTRADA LA INFORMACION']  <br> RFCS: ['XXXXXXXXXXXXX', 'BNM840515VB2', 'XXXXXXXXXXXX'] ",
          "CASA DE BOLSA VE POR MAS, S.A. DE C. V. <br>SISTEMAS PRESENTES: TAS,MECA<br>NUMERO DE CLIENTES: [1057504, 'BXMAS']  <br>DIRECCIONES: [nan, 'EMILIO CASTELAR # 75 COL. CHAPULTEPEC CP 11560']  <br> RFCS: ['CBA8701315HB', 'CBA8701315H8'] ",
          "CITIBANK MEXICO <br>SISTEMAS PRESENTES: SIPE,MECA<br>NUMERO DE CLIENTES: [221, 'CBMX']  <br>DIRECCIONES: ['REFORMA 390 COL. JUAREZ CP 06695 MEXICO, DF', 'NO SE TIENE REGISTRADA LA INFORMACION']  <br> RFCS: ['XXXXXXXXXXXXX', 'XXXXXXXXXXXX'] ",
          "CITIBANK NEW YORK <br>SISTEMAS PRESENTES: SIMS,SIPE,SIPE,MECA<br>NUMERO DE CLIENTES: ['CITI', 250, 315, 'CITINY']  <br>DIRECCIONES: [nan, nan, nan, 'NO SE TIENE REGISTRADA LA INFORMACION']  <br> RFCS: ['XXXXXXXXXXXXX', 'XXXXXXXXXXXXX', 'XXXXXXXXXXXXX', 'XXXXXXXXXXXX'] ",
          "DEUTSCHE BANK AG FRANKFURT <br>SISTEMAS PRESENTES: SIPE,MECA<br>NUMERO DE CLIENTES: [312, 'DEUTCH']  <br>DIRECCIONES: [nan, 'FRANKFURT ALEMANIA']  <br> RFCS: ['XXXXXXXXXXXXX', 'XXXXXXXXXXXX'] ",
          "DRESDNER BANK MEXICO <br>SISTEMAS PRESENTES: SIPE,MECA<br>NUMERO DE CLIENTES: [248, 'DRESBK']  <br>DIRECCIONES: [nan, 'BOSQUE DE ALISOS 47B - PISO 4']  <br> RFCS: ['XXXXXXXXXXXXX', 'XXXXXXXXXXXX'] ",
          "EVERCORE CASA DE BOLSA, S.A. DE C.V. <br>SISTEMAS PRESENTES: TAS,MECA<br>NUMERO DE CLIENTES: [1057537, 'EVERCO']  <br>DIRECCIONES: [nan, 'MANUEL AVILA CAMACHO 36 - PISO 22, COL. LOMAS DE CHAPULTEPEC, CP 11000, DEL. MIGUEL HIDALGO']  <br> RFCS: ['PCB050107CP2', 'PCB50107CP2'] ",
          "HSBC CASA DE BOLSA, S.A. DE .C.V. GRUPO FINANCIERO HSBC <br>SISTEMAS PRESENTES: TAS,MECA<br>NUMERO DE CLIENTES: [1057496, 'HSBC']  <br>DIRECCIONES: [nan, 'AV. PASEO DE LA REFORMA N.243 PISO 10 TORRE A COL CUAUHTEMOC DEL CUAUHTEMOC 06500 MEX D.F.']  <br> RFCS: ['HCB950125897', 'HCB950125897'] ",
          "BANCO INBURSA <br>SISTEMAS PRESENTES: SIMS,TAS,MECA<br>NUMERO DE CLIENTES: ['36957', 969647, 'INBUR']  <br>DIRECCIONES: [nan, nan, 'NO SE TIENE REGISTRADA LA INFORMACION']  <br> RFCS: ['XXXXXXXXXXXXX', 'BII931004P61', 'XXXXXXXXXXXX'] ",
          "BANCO INDUSTRIAL,S.A. <br>SISTEMAS PRESENTES: SIPE,TAS,MECA<br>NUMERO DE CLIENTES: [104, 1060031, 'INDUS']  <br>DIRECCIONES: [nan, nan, 'NO SE TIENE REGISTRADA LA INFORMACION']  <br> RFCS: ['XXXXXXXXXXXXX', 'XXXXXXXXXXXXX', 'XXXXXXXXXXXX'] ",
          "INTERACCIONES, CASA DE BOLSA, SA <br>SISTEMAS PRESENTES: TAS,MECA<br>NUMERO DE CLIENTES: [1057512, 'INTER']  <br>DIRECCIONES: [nan, 'PASEO DE LA REFORMA #383 PISO 14 COL. CUAUHTEMOC CP 06500']  <br> RFCS: ['ICB870422BS8', 'ICB8704225X7'] ",
          "BANCO INTERACCIONES,S.A. <br>SISTEMAS PRESENTES: SIPE,TAS,MECA<br>NUMERO DE CLIENTES: [13, 1060001, 'INTERA']  <br>DIRECCIONES: ['PASEO DE LA REFORMA 383 PISO 14 COL CUAHTEMOC CP 06500', nan, 'NO SE TIENE REGISTRADA LA INFORMACION']  <br> RFCS: ['BIN931011519', 'XXXXXXXXXXXXX', 'XXXXXXXXXXXX'] ",
          "INVEX, CASA DE BOLSA, S.A. DE C.V <br>SISTEMAS PRESENTES: TAS,MECA<br>NUMERO DE CLIENTES: [929440, 'INVEX']  <br>DIRECCIONES: [nan, 'PENDIENTE']  <br> RFCS: ['ICB911029V38', 'XXX123456XXX'] ",
          "IXE BANCO, S.A. <br>SISTEMAS PRESENTES: SIPE,TAS,TAS,MECA<br>NUMERO DE CLIENTES: [304, 1060028, 1037284, 'IXE']  <br>DIRECCIONES: ['AV. PAE DE LA REFORMA 505 PISO 47, COLONIA CUAUHTEMOC CP 065', nan, nan, 'JOSE LUIS LAGRANGE 103']  <br> RFCS: ['XXXXXXXXXXXXX', 'XXXXXXXXXXXXX', 'IBA950503GTA', 'XXXXXXXXXXXX'] ",
          "BANCO JP MORGAN,S.A.(MEXICO) <br>SISTEMAS PRESENTES: SIPE,TAS,MECA<br>NUMERO DE CLIENTES: [327, 987671, 'JPMOR']  <br>DIRECCIONES: ['PASEO DE LAS PALMAS NUM 405 PISO 16 LOMAS DE CHAPULTEPEC', nan, 'NO SE TIENE REGISTRADA LA INFORMACION']  <br> RFCS: ['TME840315KT6', 'BJP950104LJ5', 'XXXXXXXXXXXX'] ",
          "J.P. MORGAN, CASA DE BOLSA, S.A. DE C.V. <br>SISTEMAS PRESENTES: TAS,MECA<br>NUMERO DE CLIENTES: [1057514, 'JPMORG']  <br>DIRECCIONES: [nan, 'PASEO DE LAS PALMAS 405 PISO 16, LOMAS DE CHAPULTEPEC, CP 11000 DF']  <br> RFCS: ['JPM960506G57', 'JPM960506G57'] ",
          "BANCO MIFEL, S.A. <br>SISTEMAS PRESENTES: TAS,MECA<br>NUMERO DE CLIENTES: [1060020, 'MIFEL']  <br>DIRECCIONES: [nan, 'ALJANDRO FINKLER']  <br> RFCS: ['XXXXXXXXXXXXX', 'XXXXXXXXXXXX'] ",
          "MERRILL LYNCH MEXICO, S.A. DE C.V. CASA DE BOLSA <br>SISTEMAS PRESENTES: TAS,TAS,MECA<br>NUMERO DE CLIENTES: [1057516, 1062062, 'MLYNCH']  <br>DIRECCIONES: [nan, nan, 'P']  <br> RFCS: ['MLM950112GG3', 'MLM950112GG3', 'XXX123456XXX'] ",
          "MONEX CASA DE BOLSA, S.A. DE C.V. <br>SISTEMAS PRESENTES: SIMS,TAS,MECA<br>NUMERO DE CLIENTES: ['MONEXM', 1057517, 'MONEX']  <br>DIRECCIONES: ['AVENIDA PASEO DE LA REFORMA 284 PISO 15', nan, 'INSURGENTES SUR 1886 COL.FLORIDA']  <br> RFCS: ['XXXXXXXXXXXXX', 'MCB860313CD6', 'XXX123456XXX'] ",
          "BANCO BILBAO VISCAYA S.A. <br>SISTEMAS PRESENTES: TAS,MECA<br>NUMERO DE CLIENTES: [910456, 'MPPX']  <br>DIRECCIONES: [nan, 'NO SE TIENE REGISTRADA LA INFORMACION']  <br> RFCS: ['BBA830831LJ2', 'XXXXXXXXXXXX'] ",
          "CASA DE BOLSA MULTIVA, S.A. DE C.V. GRUPO FINANCIERO MULTIVA <br>SISTEMAS PRESENTES: TAS,MECA<br>NUMERO DE CLIENTES: [102, 'MULTIV']  <br>DIRECCIONES: [nan, 'NO SE TIENE REGISTRADA LA INFORMACION']  <br> RFCS: ['MCB9809105S1', 'XXX123456XXX'] ",
          "NACIONAL FINANCIERA, S.N.C. <br>SISTEMAS PRESENTES: SOI,SIMS,TAS,MECA<br>NUMERO DE CLIENTES: [12066, 'NAFIN', 100177, 'NAFIN']  <br>DIRECCIONES: ['INSURGENTES SUR', 'INSURGENTES SUR 1971, GUADALUPE INN', nan, 'INSURGENTES SUR 1971']  <br> RFCS: ['NFI3406305T0', 'XXXXXXXXXXXXX', 'NFI3406305T0', 'NFI3406305TO'] ",
          "NAFINSA SECURITIES <br>SISTEMAS PRESENTES: SIPE,MECA<br>NUMERO DE CLIENTES: [28, 'NAFSEC']  <br>DIRECCIONES: [nan, 'NO SE TIENE REGISTRADA LA INFORMACION']  <br> RFCS: ['XXXXXXXXXXXXX', 'XXXXXXXXXXXX'] ",
          "PETROLEOS MEXICANOS <br>SISTEMAS PRESENTES: SIMS,SIRAC,TAS,TAS,MECA<br>NUMERO DE CLIENTES: ['PEMEX', 4092904, 1065306, 1048332, 'PEMEX']  <br>DIRECCIONES: ['MARINA NACIONAL', nan, nan, nan, 'MARINA NACIONAL']  <br> RFCS: ['XXXXXXXXXXXXX', 'PME380607P35', 'PME380607P35', 'PME380607P35', 'XXXXXXXXXXXX'] ",
          "PUNTO CASA DE BOLSA, S.A. DE C.V <br>SISTEMAS PRESENTES: TAS,TAS,MECA<br>NUMERO DE CLIENTES: [1057500, 1057522, 'PNTOCB']  <br>DIRECCIONES: [nan, nan, 'FERROCARRIL DE RIO FRIO NO. 419 B 16, COLONIA CUCHILLA DE MORAL, MEXICO, D.F., DELEGACION IZTAPALAPA']  <br> RFCS: ['PCB111011816', 'PCB111011816', 'PCB111011816'] ",
          "BANCO SANTANDER DE NEGOCIOS MEXICO S.A. <br>SISTEMAS PRESENTES: TAS,MECA<br>NUMERO DE CLIENTES: [989141, 'SANTAN']  <br>DIRECCIONES: [nan, '328 82 26']  <br> RFCS: ['BSM941122TE6', 'XXXXXXXXXXXX'] ",
          "SCOTIA INVERLAT CASA DE BOLSA, S.A. DE C.V. <br>SISTEMAS PRESENTES: TAS,MECA<br>NUMERO DE CLIENTES: [1057518, 'SCOTI']  <br>DIRECCIONES: [nan, 'BOSQUE DE CIRUELOS 120, BOSQUES DE LAS LOMAS C.P. 11700, MEXICO, D.F.']  <br> RFCS: ['SIN941202514', 'XXX123456XXX'] ",
          "NAFIN SECURITIES <br>SISTEMAS PRESENTES: SIPE,MECA<br>NUMERO DE CLIENTES: [28, 'SECURI']  <br>DIRECCIONES: [nan, 'P']  <br> RFCS: ['XXXXXXXXXXXXX', 'XXX123456XXX'] ",
          "BANCO DEL SURESTE,S.A. <br>SISTEMAS PRESENTES: TAS,MECA<br>NUMERO DE CLIENTES: [1060025, 'SURE']  <br>DIRECCIONES: [nan, 'NO SE TIENE REGISTRADA LA INFORMACION']  <br> RFCS: ['XXXXXXXXXXXXX', 'XXXXXXXXXXXX'] ",
          "SWISS BANK CORP.N.Y. <br>SISTEMAS PRESENTES: SOI,MECA<br>NUMERO DE CLIENTES: [10429, 'SWISS']  <br>DIRECCIONES: [nan, 'NO SE TIENE REGISTRADA LA INFORMACION']  <br> RFCS: ['XXXXXXXXXXXXX', 'XXXXXXXXXXXX'] ",
          "UNION BANK OF SWITZERLAND <br>SISTEMAS PRESENTES: SOI,SIPE,MECA<br>NUMERO DE CLIENTES: [10459, 5, 'UBS']  <br>DIRECCIONES: [nan, '299 PARK AVENUE, NEW YORK, NY 10171-0026', 'NO SE TIENE REGISTRADA LA INFORMACION']  <br> RFCS: ['XXXXXXXXXXXXX', 'XXXXXXXXXXXXX', 'XXXXXXXXXXXX'] ",
          "VALORES MEXICANOS CASA DE BOLSA, S.A. DE C.V. <br>SISTEMAS PRESENTES: TAS,TAS,MECA<br>NUMERO DE CLIENTES: [1057519, 315, 'VALMEX']  <br>DIRECCIONES: [nan, nan, 'MARIO']  <br> RFCS: ['VMC930101JS6', 'CBC79081421A', 'XXX123456XXX'] ",
          "VECTOR, CASA DE BOLSA, S.A DECV <br>SISTEMAS PRESENTES: TAS,TAS,TAS,MECA<br>NUMERO DE CLIENTES: [1057520, 1057533, 412, 'VECT']  <br>DIRECCIONES: [nan, nan, nan, 'P']  <br> RFCS: ['VCB870729PH6', 'VCB870729PH6', 'SMB740206001', 'XXX123456XXX'] "
         ],
         "type": "scatter",
         "x": [
          "ATLAN",
          "BANJIO",
          "BANKAM",
          "BANKNY",
          "BANOB",
          "BANRU",
          "BARCAP",
          "BBVA",
          "BBVI",
          "BCDI",
          "BCDM",
          "BCOMEX",
          "BCOMIF",
          "BKMONT",
          "BMNO",
          "BNMX",
          "BNORT",
          "BOFA",
          "BOFAS",
          "BORI",
          "BOSTON",
          "BSTEAR",
          "BXICO",
          "BXMAS",
          "CBMX",
          "CITINY",
          "DEUTCH",
          "DRESBK",
          "EVERCO",
          "HSBC",
          "INBUR",
          "INDUS",
          "INTER",
          "INTERA",
          "INVEX",
          "IXE",
          "JPMOR",
          "JPMORG",
          "MIFEL",
          "MLYNCH",
          "MONEX",
          "MPPX",
          "MULTIV",
          "NAFIN",
          "NAFSEC",
          "PEMEX",
          "PNTOCB",
          "SANTAN",
          "SCOTI",
          "SECURI",
          "SURE",
          "SWISS",
          "UBS",
          "VALMEX",
          "VECT"
         ],
         "y": [
          1,
          3,
          2,
          2,
          1,
          1,
          1,
          2,
          1,
          1,
          1,
          4,
          1,
          1,
          1,
          3,
          1,
          2,
          1,
          1,
          2,
          1,
          2,
          1,
          1,
          3,
          1,
          1,
          1,
          1,
          2,
          2,
          1,
          2,
          1,
          3,
          2,
          1,
          1,
          2,
          2,
          1,
          1,
          3,
          1,
          4,
          2,
          1,
          1,
          1,
          1,
          1,
          2,
          2,
          3
         ]
        }
       ],
       "layout": {
        "template": {
         "data": {
          "bar": [
           {
            "error_x": {
             "color": "#2a3f5f"
            },
            "error_y": {
             "color": "#2a3f5f"
            },
            "marker": {
             "line": {
              "color": "#E5ECF6",
              "width": 0.5
             },
             "pattern": {
              "fillmode": "overlay",
              "size": 10,
              "solidity": 0.2
             }
            },
            "type": "bar"
           }
          ],
          "barpolar": [
           {
            "marker": {
             "line": {
              "color": "#E5ECF6",
              "width": 0.5
             },
             "pattern": {
              "fillmode": "overlay",
              "size": 10,
              "solidity": 0.2
             }
            },
            "type": "barpolar"
           }
          ],
          "carpet": [
           {
            "aaxis": {
             "endlinecolor": "#2a3f5f",
             "gridcolor": "white",
             "linecolor": "white",
             "minorgridcolor": "white",
             "startlinecolor": "#2a3f5f"
            },
            "baxis": {
             "endlinecolor": "#2a3f5f",
             "gridcolor": "white",
             "linecolor": "white",
             "minorgridcolor": "white",
             "startlinecolor": "#2a3f5f"
            },
            "type": "carpet"
           }
          ],
          "choropleth": [
           {
            "colorbar": {
             "outlinewidth": 0,
             "ticks": ""
            },
            "type": "choropleth"
           }
          ],
          "contour": [
           {
            "colorbar": {
             "outlinewidth": 0,
             "ticks": ""
            },
            "colorscale": [
             [
              0,
              "#0d0887"
             ],
             [
              0.1111111111111111,
              "#46039f"
             ],
             [
              0.2222222222222222,
              "#7201a8"
             ],
             [
              0.3333333333333333,
              "#9c179e"
             ],
             [
              0.4444444444444444,
              "#bd3786"
             ],
             [
              0.5555555555555556,
              "#d8576b"
             ],
             [
              0.6666666666666666,
              "#ed7953"
             ],
             [
              0.7777777777777778,
              "#fb9f3a"
             ],
             [
              0.8888888888888888,
              "#fdca26"
             ],
             [
              1,
              "#f0f921"
             ]
            ],
            "type": "contour"
           }
          ],
          "contourcarpet": [
           {
            "colorbar": {
             "outlinewidth": 0,
             "ticks": ""
            },
            "type": "contourcarpet"
           }
          ],
          "heatmap": [
           {
            "colorbar": {
             "outlinewidth": 0,
             "ticks": ""
            },
            "colorscale": [
             [
              0,
              "#0d0887"
             ],
             [
              0.1111111111111111,
              "#46039f"
             ],
             [
              0.2222222222222222,
              "#7201a8"
             ],
             [
              0.3333333333333333,
              "#9c179e"
             ],
             [
              0.4444444444444444,
              "#bd3786"
             ],
             [
              0.5555555555555556,
              "#d8576b"
             ],
             [
              0.6666666666666666,
              "#ed7953"
             ],
             [
              0.7777777777777778,
              "#fb9f3a"
             ],
             [
              0.8888888888888888,
              "#fdca26"
             ],
             [
              1,
              "#f0f921"
             ]
            ],
            "type": "heatmap"
           }
          ],
          "heatmapgl": [
           {
            "colorbar": {
             "outlinewidth": 0,
             "ticks": ""
            },
            "colorscale": [
             [
              0,
              "#0d0887"
             ],
             [
              0.1111111111111111,
              "#46039f"
             ],
             [
              0.2222222222222222,
              "#7201a8"
             ],
             [
              0.3333333333333333,
              "#9c179e"
             ],
             [
              0.4444444444444444,
              "#bd3786"
             ],
             [
              0.5555555555555556,
              "#d8576b"
             ],
             [
              0.6666666666666666,
              "#ed7953"
             ],
             [
              0.7777777777777778,
              "#fb9f3a"
             ],
             [
              0.8888888888888888,
              "#fdca26"
             ],
             [
              1,
              "#f0f921"
             ]
            ],
            "type": "heatmapgl"
           }
          ],
          "histogram": [
           {
            "marker": {
             "pattern": {
              "fillmode": "overlay",
              "size": 10,
              "solidity": 0.2
             }
            },
            "type": "histogram"
           }
          ],
          "histogram2d": [
           {
            "colorbar": {
             "outlinewidth": 0,
             "ticks": ""
            },
            "colorscale": [
             [
              0,
              "#0d0887"
             ],
             [
              0.1111111111111111,
              "#46039f"
             ],
             [
              0.2222222222222222,
              "#7201a8"
             ],
             [
              0.3333333333333333,
              "#9c179e"
             ],
             [
              0.4444444444444444,
              "#bd3786"
             ],
             [
              0.5555555555555556,
              "#d8576b"
             ],
             [
              0.6666666666666666,
              "#ed7953"
             ],
             [
              0.7777777777777778,
              "#fb9f3a"
             ],
             [
              0.8888888888888888,
              "#fdca26"
             ],
             [
              1,
              "#f0f921"
             ]
            ],
            "type": "histogram2d"
           }
          ],
          "histogram2dcontour": [
           {
            "colorbar": {
             "outlinewidth": 0,
             "ticks": ""
            },
            "colorscale": [
             [
              0,
              "#0d0887"
             ],
             [
              0.1111111111111111,
              "#46039f"
             ],
             [
              0.2222222222222222,
              "#7201a8"
             ],
             [
              0.3333333333333333,
              "#9c179e"
             ],
             [
              0.4444444444444444,
              "#bd3786"
             ],
             [
              0.5555555555555556,
              "#d8576b"
             ],
             [
              0.6666666666666666,
              "#ed7953"
             ],
             [
              0.7777777777777778,
              "#fb9f3a"
             ],
             [
              0.8888888888888888,
              "#fdca26"
             ],
             [
              1,
              "#f0f921"
             ]
            ],
            "type": "histogram2dcontour"
           }
          ],
          "mesh3d": [
           {
            "colorbar": {
             "outlinewidth": 0,
             "ticks": ""
            },
            "type": "mesh3d"
           }
          ],
          "parcoords": [
           {
            "line": {
             "colorbar": {
              "outlinewidth": 0,
              "ticks": ""
             }
            },
            "type": "parcoords"
           }
          ],
          "pie": [
           {
            "automargin": true,
            "type": "pie"
           }
          ],
          "scatter": [
           {
            "fillpattern": {
             "fillmode": "overlay",
             "size": 10,
             "solidity": 0.2
            },
            "type": "scatter"
           }
          ],
          "scatter3d": [
           {
            "line": {
             "colorbar": {
              "outlinewidth": 0,
              "ticks": ""
             }
            },
            "marker": {
             "colorbar": {
              "outlinewidth": 0,
              "ticks": ""
             }
            },
            "type": "scatter3d"
           }
          ],
          "scattercarpet": [
           {
            "marker": {
             "colorbar": {
              "outlinewidth": 0,
              "ticks": ""
             }
            },
            "type": "scattercarpet"
           }
          ],
          "scattergeo": [
           {
            "marker": {
             "colorbar": {
              "outlinewidth": 0,
              "ticks": ""
             }
            },
            "type": "scattergeo"
           }
          ],
          "scattergl": [
           {
            "marker": {
             "colorbar": {
              "outlinewidth": 0,
              "ticks": ""
             }
            },
            "type": "scattergl"
           }
          ],
          "scattermapbox": [
           {
            "marker": {
             "colorbar": {
              "outlinewidth": 0,
              "ticks": ""
             }
            },
            "type": "scattermapbox"
           }
          ],
          "scatterpolar": [
           {
            "marker": {
             "colorbar": {
              "outlinewidth": 0,
              "ticks": ""
             }
            },
            "type": "scatterpolar"
           }
          ],
          "scatterpolargl": [
           {
            "marker": {
             "colorbar": {
              "outlinewidth": 0,
              "ticks": ""
             }
            },
            "type": "scatterpolargl"
           }
          ],
          "scatterternary": [
           {
            "marker": {
             "colorbar": {
              "outlinewidth": 0,
              "ticks": ""
             }
            },
            "type": "scatterternary"
           }
          ],
          "surface": [
           {
            "colorbar": {
             "outlinewidth": 0,
             "ticks": ""
            },
            "colorscale": [
             [
              0,
              "#0d0887"
             ],
             [
              0.1111111111111111,
              "#46039f"
             ],
             [
              0.2222222222222222,
              "#7201a8"
             ],
             [
              0.3333333333333333,
              "#9c179e"
             ],
             [
              0.4444444444444444,
              "#bd3786"
             ],
             [
              0.5555555555555556,
              "#d8576b"
             ],
             [
              0.6666666666666666,
              "#ed7953"
             ],
             [
              0.7777777777777778,
              "#fb9f3a"
             ],
             [
              0.8888888888888888,
              "#fdca26"
             ],
             [
              1,
              "#f0f921"
             ]
            ],
            "type": "surface"
           }
          ],
          "table": [
           {
            "cells": {
             "fill": {
              "color": "#EBF0F8"
             },
             "line": {
              "color": "white"
             }
            },
            "header": {
             "fill": {
              "color": "#C8D4E3"
             },
             "line": {
              "color": "white"
             }
            },
            "type": "table"
           }
          ]
         },
         "layout": {
          "annotationdefaults": {
           "arrowcolor": "#2a3f5f",
           "arrowhead": 0,
           "arrowwidth": 1
          },
          "autotypenumbers": "strict",
          "coloraxis": {
           "colorbar": {
            "outlinewidth": 0,
            "ticks": ""
           }
          },
          "colorscale": {
           "diverging": [
            [
             0,
             "#8e0152"
            ],
            [
             0.1,
             "#c51b7d"
            ],
            [
             0.2,
             "#de77ae"
            ],
            [
             0.3,
             "#f1b6da"
            ],
            [
             0.4,
             "#fde0ef"
            ],
            [
             0.5,
             "#f7f7f7"
            ],
            [
             0.6,
             "#e6f5d0"
            ],
            [
             0.7,
             "#b8e186"
            ],
            [
             0.8,
             "#7fbc41"
            ],
            [
             0.9,
             "#4d9221"
            ],
            [
             1,
             "#276419"
            ]
           ],
           "sequential": [
            [
             0,
             "#0d0887"
            ],
            [
             0.1111111111111111,
             "#46039f"
            ],
            [
             0.2222222222222222,
             "#7201a8"
            ],
            [
             0.3333333333333333,
             "#9c179e"
            ],
            [
             0.4444444444444444,
             "#bd3786"
            ],
            [
             0.5555555555555556,
             "#d8576b"
            ],
            [
             0.6666666666666666,
             "#ed7953"
            ],
            [
             0.7777777777777778,
             "#fb9f3a"
            ],
            [
             0.8888888888888888,
             "#fdca26"
            ],
            [
             1,
             "#f0f921"
            ]
           ],
           "sequentialminus": [
            [
             0,
             "#0d0887"
            ],
            [
             0.1111111111111111,
             "#46039f"
            ],
            [
             0.2222222222222222,
             "#7201a8"
            ],
            [
             0.3333333333333333,
             "#9c179e"
            ],
            [
             0.4444444444444444,
             "#bd3786"
            ],
            [
             0.5555555555555556,
             "#d8576b"
            ],
            [
             0.6666666666666666,
             "#ed7953"
            ],
            [
             0.7777777777777778,
             "#fb9f3a"
            ],
            [
             0.8888888888888888,
             "#fdca26"
            ],
            [
             1,
             "#f0f921"
            ]
           ]
          },
          "colorway": [
           "#636efa",
           "#EF553B",
           "#00cc96",
           "#ab63fa",
           "#FFA15A",
           "#19d3f3",
           "#FF6692",
           "#B6E880",
           "#FF97FF",
           "#FECB52"
          ],
          "font": {
           "color": "#2a3f5f"
          },
          "geo": {
           "bgcolor": "white",
           "lakecolor": "white",
           "landcolor": "#E5ECF6",
           "showlakes": true,
           "showland": true,
           "subunitcolor": "white"
          },
          "hoverlabel": {
           "align": "left"
          },
          "hovermode": "closest",
          "mapbox": {
           "style": "light"
          },
          "paper_bgcolor": "white",
          "plot_bgcolor": "#E5ECF6",
          "polar": {
           "angularaxis": {
            "gridcolor": "white",
            "linecolor": "white",
            "ticks": ""
           },
           "bgcolor": "#E5ECF6",
           "radialaxis": {
            "gridcolor": "white",
            "linecolor": "white",
            "ticks": ""
           }
          },
          "scene": {
           "xaxis": {
            "backgroundcolor": "#E5ECF6",
            "gridcolor": "white",
            "gridwidth": 2,
            "linecolor": "white",
            "showbackground": true,
            "ticks": "",
            "zerolinecolor": "white"
           },
           "yaxis": {
            "backgroundcolor": "#E5ECF6",
            "gridcolor": "white",
            "gridwidth": 2,
            "linecolor": "white",
            "showbackground": true,
            "ticks": "",
            "zerolinecolor": "white"
           },
           "zaxis": {
            "backgroundcolor": "#E5ECF6",
            "gridcolor": "white",
            "gridwidth": 2,
            "linecolor": "white",
            "showbackground": true,
            "ticks": "",
            "zerolinecolor": "white"
           }
          },
          "shapedefaults": {
           "line": {
            "color": "#2a3f5f"
           }
          },
          "ternary": {
           "aaxis": {
            "gridcolor": "white",
            "linecolor": "white",
            "ticks": ""
           },
           "baxis": {
            "gridcolor": "white",
            "linecolor": "white",
            "ticks": ""
           },
           "bgcolor": "#E5ECF6",
           "caxis": {
            "gridcolor": "white",
            "linecolor": "white",
            "ticks": ""
           }
          },
          "title": {
           "x": 0.05
          },
          "xaxis": {
           "automargin": true,
           "gridcolor": "white",
           "linecolor": "white",
           "ticks": "",
           "title": {
            "standoff": 15
           },
           "zerolinecolor": "white",
           "zerolinewidth": 2
          },
          "yaxis": {
           "automargin": true,
           "gridcolor": "white",
           "linecolor": "white",
           "ticks": "",
           "title": {
            "standoff": 15
           },
           "zerolinecolor": "white",
           "zerolinewidth": 2
          }
         }
        },
        "title": {
         "text": "Dispersión de clientes y sistemas MECA y sistemas"
        },
        "xaxis": {
         "title": {
          "text": "ID_ORIGEN"
         }
        },
        "yaxis": {
         "title": {
          "text": "Count"
         }
        }
       }
      },
      "text/html": [
       "<div>                            <div id=\"0530d117-08c6-4798-addf-6f54e609304f\" class=\"plotly-graph-div\" style=\"height:525px; width:100%;\"></div>            <script type=\"text/javascript\">                require([\"plotly\"], function(Plotly) {                    window.PLOTLYENV=window.PLOTLYENV || {};                                    if (document.getElementById(\"0530d117-08c6-4798-addf-6f54e609304f\")) {                    Plotly.newPlot(                        \"0530d117-08c6-4798-addf-6f54e609304f\",                        [{\"hovertemplate\":\"%{text}\",\"marker\":{\"color\":\"blue\",\"size\":10},\"mode\":\"markers\",\"text\":[\"BANCO DEL ATLANTICO, S.A. \\u003cbr\\u003eSISTEMAS PRESENTES: SIPE,MECA\\u003cbr\\u003eNUMERO DE CLIENTES: [20, 'ATLAN']  \\u003cbr\\u003eDIRECCIONES: [nan, 'NO SE TIENE REGISTRADA LA INFORMACION']  \\u003cbr\\u003e RFCS: ['XXXXXXXXXXXXX', 'XXXXXXXXXXXX'] \",\"BANCO DEL BAJIO \\u003cbr\\u003eSISTEMAS PRESENTES: SIPE,TAS,TAS,MECA\\u003cbr\\u003eNUMERO DE CLIENTES: [209, 1060022, 999899, 'BANJIO']  \\u003cbr\\u003eDIRECCIONES: [nan, nan, nan, 'NO SE TIENE REGISTRADA LA INFORMACION']  \\u003cbr\\u003e RFCS: ['XXXXXXXXXXXXX', 'XXXXXXXXXXXXX', 'BBA940707IE1', 'XXXXXXXXXXXX'] \",\"BANK OF AMERICA MEXICO \\u003cbr\\u003eSISTEMAS PRESENTES: SIPE,TAS,MECA\\u003cbr\\u003eNUMERO DE CLIENTES: [339, 1060026, 'BANKAM']  \\u003cbr\\u003eDIRECCIONES: ['PEDREGAL #24, PISO 22, MOLINO DEL REY, MIGUEL HIDALGO, 11040', nan, 'PASEO DE LA REFORMA 116']  \\u003cbr\\u003e RFCS: ['XXXXXXXXXXXXX', 'XXXXXXXXXXXXX', 'XXXXXXXXXXXX'] \",\"BANK OF NEW YORK \\u003cbr\\u003eSISTEMAS PRESENTES: SIMS,SIPE,MECA\\u003cbr\\u003eNUMERO DE CLIENTES: ['BKOFNY', 287, 'BANKNY']  \\u003cbr\\u003eDIRECCIONES: [nan, '32 OLD SLIP ROAD NY, NY 10179', 'NO SE TIENE REGISTRADA LA INFORMACION']  \\u003cbr\\u003e RFCS: ['XXXXXXXXXXXXX', 'XXXXXXXXXXXXX', 'XXXXXXXXXXXX'] \",\"BANOBRAS \\u003cbr\\u003eSISTEMAS PRESENTES: SIPE,MECA\\u003cbr\\u003eNUMERO DE CLIENTES: [24, 'BANOB']  \\u003cbr\\u003eDIRECCIONES: ['JAVIER BARROS SIERA 515, LOMAS DE SANTA FE, MEXICO', 'NO SE TIENE REGISTRADA LA INFORMACION']  \\u003cbr\\u003e RFCS: ['BNO670315CDO', 'XXXXXXXXXXXX'] \",\"BANRURAL \\u003cbr\\u003eSISTEMAS PRESENTES: TAS,MECA\\u003cbr\\u003eNUMERO DE CLIENTES: [1060002, 'BANRU']  \\u003cbr\\u003eDIRECCIONES: [nan, 'NO SE TIENE REGISTRADA LA INFORMACION']  \\u003cbr\\u003e RFCS: ['XXXXXXXXXXXXX', 'XXXXXXXXXXXX'] \",\"BARCLAYS CAPITAL CASA DE BOLSA, S.A. DE C.V. \\u003cbr\\u003eSISTEMAS PRESENTES: TAS,MECA\\u003cbr\\u003eNUMERO DE CLIENTES: [1057503, 'BARCAP']  \\u003cbr\\u003eDIRECCIONES: [nan, 'AV. PASEO DE LA REFORMA N\\u00b0 505, PISO 41, COL. CUAUHT\\u00c9MOC, C.P. 06500 M\\u00c9XICO, D.F.']  \\u003cbr\\u003e RFCS: ['BCC06031613A', 'BCC6031613A'] \",\"CASA DE BOLSA BBVA BANCOMER, S.A. DE C.V. \\u003cbr\\u003eSISTEMAS PRESENTES: TAS,TAS,MECA\\u003cbr\\u003eNUMERO DE CLIENTES: [1057498, 1057505, 'BBVA']  \\u003cbr\\u003eDIRECCIONES: [nan, nan, 'MONTES URALES #424 PISO 3, COLONIA LOMAS DE CHAPULTEPEC C.P. 11000']  \\u003cbr\\u003e RFCS: ['CBB960628D41', 'CBB960628D41', 'CBB960628JY9'] \",\"BANCO BILBAO VIZCAYA MEXICO,S.A. \\u003cbr\\u003eSISTEMAS PRESENTES: SIPE,MECA\\u003cbr\\u003eNUMERO DE CLIENTES: [247, 'BBVI']  \\u003cbr\\u003eDIRECCIONES: [nan, 'NO SE TIENE REGISTRADA LA INFORMACION']  \\u003cbr\\u003e RFCS: ['XXXXXXXXXXXXX', 'XXXXXXXXXXXX'] \",\"BANCA CREMI,S.A. \\u003cbr\\u003eSISTEMAS PRESENTES: SIPE,MECA\\u003cbr\\u003eNUMERO DE CLIENTES: [77, 'BCDI']  \\u003cbr\\u003eDIRECCIONES: [nan, 'NO SE TIENE REGISTRADA LA INFORMACION']  \\u003cbr\\u003e RFCS: ['XXXXXXXXXXXXX', 'XXXXXXXXXXXX'] \",\"BANCO DEL CENTRO,S.A. \\u003cbr\\u003eSISTEMAS PRESENTES: SIPE,MECA\\u003cbr\\u003eNUMERO DE CLIENTES: [21, 'BCDM']  \\u003cbr\\u003eDIRECCIONES: [nan, 'NO SE TIENE REGISTRADA LA INFORMACION']  \\u003cbr\\u003e RFCS: ['XXXXXXXXXXXXX', 'XXXXXXXXXXXX'] \",\"BANCO NACIONAL DE COMERCIO EXTERIOR \\u003cbr\\u003eSISTEMAS PRESENTES: SIMS,SIRAC,TAS,TAS,MECA\\u003cbr\\u003eNUMERO DE CLIENTES: ['BCOMXT', 5970070, 1060008, 997861, 'BCOMEX']  \\u003cbr\\u003eDIRECCIONES: [nan, nan, nan, nan, 'NO SE TIENE REGISTRADA LA INFORMACION']  \\u003cbr\\u003e RFCS: ['XXXXXXXXXXXXX', 'BNC8507311M4', 'XXXXXXXXXXXXX', 'BNC8507311M4', 'XXXXXXXXXXXX'] \",\"BANCO MIFEL,S.A. \\u003cbr\\u003eSISTEMAS PRESENTES: TAS,MECA\\u003cbr\\u003eNUMERO DE CLIENTES: [1060020, 'BCOMIF']  \\u003cbr\\u003eDIRECCIONES: [nan, 'NO SE TIENE REGISTRADA LA INFORMACION']  \\u003cbr\\u003e RFCS: ['XXXXXXXXXXXXX', 'XXXXXXXXXXXX'] \",\"BANK OF MONTREAL CHICAGO \\u003cbr\\u003eSISTEMAS PRESENTES: SIPE,MECA\\u003cbr\\u003eNUMERO DE CLIENTES: [257, 'BKMONT']  \\u003cbr\\u003eDIRECCIONES: [nan, '115 SOUTH LA SALLE STREET 19TH FLOOR W.']  \\u003cbr\\u003e RFCS: ['XXXXXXXXXXXXX', 'XXXXXXXXXXXX'] \",\"BANCO MERCANTIL DEL NORTE,SA \\u003cbr\\u003eSISTEMAS PRESENTES: SIPE,MECA\\u003cbr\\u003eNUMERO DE CLIENTES: [22, 'BMNO']  \\u003cbr\\u003eDIRECCIONES: ['ZARAGOZA 920 SUR MONTERREY NUEVO LEON', 'NO SE TIENE REGISTRADA LA INFORMACION']  \\u003cbr\\u003e RFCS: ['XXXXXXXXXXXXX', 'XXX123456XXX'] \",\"BANCO NACIONAL DE MEXICO,S.A. \\u003cbr\\u003eSISTEMAS PRESENTES: SIMS,SIMS,TAS,MECA\\u003cbr\\u003eNUMERO DE CLIENTES: ['BANMEX', 'BANAME', 1060005, 'BNMX']  \\u003cbr\\u003eDIRECCIONES: ['INSURGENTES SUR', nan, nan, 'NO SE TIENE REGISTRADA LA INFORMACION']  \\u003cbr\\u003e RFCS: ['XXXXXXXXXXXXX', 'XXXXXXXXXXXXX', 'XXXXXXXXXXXXX', 'XXXXXXXXXXXX'] \",\"CASA DE BOLSA BANORTE, S.A. DE C.V \\u003cbr\\u003eSISTEMAS PRESENTES: TAS,MECA\\u003cbr\\u003eNUMERO DE CLIENTES: [1057507, 'BNORT']  \\u003cbr\\u003eDIRECCIONES: [nan, 'P']  \\u003cbr\\u003e RFCS: ['ICB950503QH4', 'XXX123456XXX'] \",\"BANK OF AMERICA MEXICO, S.A. \\u003cbr\\u003eSISTEMAS PRESENTES: SIPE,TAS,MECA\\u003cbr\\u003eNUMERO DE CLIENTES: [339, 1060026, 'BOFA']  \\u003cbr\\u003eDIRECCIONES: ['PEDREGAL #24, PISO 22, MOLINO DEL REY, MIGUEL HIDALGO, 11040', nan, 'NO SE TIENE REGISTRADA LA INFORMACION']  \\u003cbr\\u003e RFCS: ['XXXXXXXXXXXXX', 'XXXXXXXXXXXXX', 'XXXXXXXXXXXX'] \",\"BANK OF AMERICA SAN FRANCISCO \\u003cbr\\u003eSISTEMAS PRESENTES: SIPE,MECA\\u003cbr\\u003eNUMERO DE CLIENTES: [40, 'BOFAS']  \\u003cbr\\u003eDIRECCIONES: ['GATEWAY 1850 BLVD. CONCORD CALIFORNIA', 'NO SE TIENE REGISTRADA LA INFORMACION']  \\u003cbr\\u003e RFCS: ['XXXXXXXXXXXXX', 'XXXXXXXXXXXX'] \",\"BANCO DE ORIENTE \\u003cbr\\u003eSISTEMAS PRESENTES: SIPE,MECA\\u003cbr\\u003eNUMERO DE CLIENTES: [78, 'BORI']  \\u003cbr\\u003eDIRECCIONES: [nan, 'NO SE TIENE REGISTRADA LA INFORMACION']  \\u003cbr\\u003e RFCS: ['XXXXXXXXXXXXX', 'XXXXXXXXXXXX'] \",\"BANK OF BOSTON MEXICO \\u003cbr\\u003eSISTEMAS PRESENTES: SIPE,TAS,MECA\\u003cbr\\u003eNUMERO DE CLIENTES: [246, 1060000, 'BOSTON']  \\u003cbr\\u003eDIRECCIONES: [nan, nan, 'NO SE TIENE REGISTRADA LA INFORMACION']  \\u003cbr\\u003e RFCS: ['XXXXXXXXXXXXX', 'XXXXXXXXXXXXX', 'XXXXXXXXXXXX'] \",\"BEAR STEARNS CO. INC. \\u003cbr\\u003eSISTEMAS PRESENTES: SIPE,MECA\\u003cbr\\u003eNUMERO DE CLIENTES: [288, 'BSTEAR']  \\u003cbr\\u003eDIRECCIONES: ['383 MADISON AVENUE NY, NY 10179', 'P']  \\u003cbr\\u003e RFCS: ['XXXXXXXXXXXXX', 'XXX123456XXX'] \",\"BANCO DE MEXICO \\u003cbr\\u003eSISTEMAS PRESENTES: SIPE,TAS,MECA\\u003cbr\\u003eNUMERO DE CLIENTES: [220, 1040153, 'BXICO']  \\u003cbr\\u003eDIRECCIONES: ['AV. 5 DE MAYO 2 COLONIA CENTRO DELEGACION CUAUHTEMOC.CP06000', nan, 'NO SE TIENE REGISTRADA LA INFORMACION']  \\u003cbr\\u003e RFCS: ['XXXXXXXXXXXXX', 'BNM840515VB2', 'XXXXXXXXXXXX'] \",\"CASA DE BOLSA VE POR MAS, S.A. DE C. V. \\u003cbr\\u003eSISTEMAS PRESENTES: TAS,MECA\\u003cbr\\u003eNUMERO DE CLIENTES: [1057504, 'BXMAS']  \\u003cbr\\u003eDIRECCIONES: [nan, 'EMILIO CASTELAR # 75 COL. CHAPULTEPEC CP 11560']  \\u003cbr\\u003e RFCS: ['CBA8701315HB', 'CBA8701315H8'] \",\"CITIBANK MEXICO \\u003cbr\\u003eSISTEMAS PRESENTES: SIPE,MECA\\u003cbr\\u003eNUMERO DE CLIENTES: [221, 'CBMX']  \\u003cbr\\u003eDIRECCIONES: ['REFORMA 390 COL. JUAREZ CP 06695 MEXICO, DF', 'NO SE TIENE REGISTRADA LA INFORMACION']  \\u003cbr\\u003e RFCS: ['XXXXXXXXXXXXX', 'XXXXXXXXXXXX'] \",\"CITIBANK NEW YORK \\u003cbr\\u003eSISTEMAS PRESENTES: SIMS,SIPE,SIPE,MECA\\u003cbr\\u003eNUMERO DE CLIENTES: ['CITI', 250, 315, 'CITINY']  \\u003cbr\\u003eDIRECCIONES: [nan, nan, nan, 'NO SE TIENE REGISTRADA LA INFORMACION']  \\u003cbr\\u003e RFCS: ['XXXXXXXXXXXXX', 'XXXXXXXXXXXXX', 'XXXXXXXXXXXXX', 'XXXXXXXXXXXX'] \",\"DEUTSCHE BANK AG FRANKFURT \\u003cbr\\u003eSISTEMAS PRESENTES: SIPE,MECA\\u003cbr\\u003eNUMERO DE CLIENTES: [312, 'DEUTCH']  \\u003cbr\\u003eDIRECCIONES: [nan, 'FRANKFURT ALEMANIA']  \\u003cbr\\u003e RFCS: ['XXXXXXXXXXXXX', 'XXXXXXXXXXXX'] \",\"DRESDNER BANK MEXICO \\u003cbr\\u003eSISTEMAS PRESENTES: SIPE,MECA\\u003cbr\\u003eNUMERO DE CLIENTES: [248, 'DRESBK']  \\u003cbr\\u003eDIRECCIONES: [nan, 'BOSQUE DE ALISOS 47B - PISO 4']  \\u003cbr\\u003e RFCS: ['XXXXXXXXXXXXX', 'XXXXXXXXXXXX'] \",\"EVERCORE CASA DE BOLSA, S.A. DE C.V. \\u003cbr\\u003eSISTEMAS PRESENTES: TAS,MECA\\u003cbr\\u003eNUMERO DE CLIENTES: [1057537, 'EVERCO']  \\u003cbr\\u003eDIRECCIONES: [nan, 'MANUEL AVILA CAMACHO 36 - PISO 22, COL. LOMAS DE CHAPULTEPEC, CP 11000, DEL. MIGUEL HIDALGO']  \\u003cbr\\u003e RFCS: ['PCB050107CP2', 'PCB50107CP2'] \",\"HSBC CASA DE BOLSA, S.A. DE .C.V. GRUPO FINANCIERO HSBC \\u003cbr\\u003eSISTEMAS PRESENTES: TAS,MECA\\u003cbr\\u003eNUMERO DE CLIENTES: [1057496, 'HSBC']  \\u003cbr\\u003eDIRECCIONES: [nan, 'AV. PASEO DE LA REFORMA N.243 PISO 10 TORRE A COL CUAUHTEMOC DEL CUAUHTEMOC 06500 MEX D.F.']  \\u003cbr\\u003e RFCS: ['HCB950125897', 'HCB950125897'] \",\"BANCO INBURSA \\u003cbr\\u003eSISTEMAS PRESENTES: SIMS,TAS,MECA\\u003cbr\\u003eNUMERO DE CLIENTES: ['36957', 969647, 'INBUR']  \\u003cbr\\u003eDIRECCIONES: [nan, nan, 'NO SE TIENE REGISTRADA LA INFORMACION']  \\u003cbr\\u003e RFCS: ['XXXXXXXXXXXXX', 'BII931004P61', 'XXXXXXXXXXXX'] \",\"BANCO INDUSTRIAL,S.A. \\u003cbr\\u003eSISTEMAS PRESENTES: SIPE,TAS,MECA\\u003cbr\\u003eNUMERO DE CLIENTES: [104, 1060031, 'INDUS']  \\u003cbr\\u003eDIRECCIONES: [nan, nan, 'NO SE TIENE REGISTRADA LA INFORMACION']  \\u003cbr\\u003e RFCS: ['XXXXXXXXXXXXX', 'XXXXXXXXXXXXX', 'XXXXXXXXXXXX'] \",\"INTERACCIONES, CASA DE BOLSA, SA \\u003cbr\\u003eSISTEMAS PRESENTES: TAS,MECA\\u003cbr\\u003eNUMERO DE CLIENTES: [1057512, 'INTER']  \\u003cbr\\u003eDIRECCIONES: [nan, 'PASEO DE LA REFORMA #383 PISO 14 COL. CUAUHTEMOC CP 06500']  \\u003cbr\\u003e RFCS: ['ICB870422BS8', 'ICB8704225X7'] \",\"BANCO INTERACCIONES,S.A. \\u003cbr\\u003eSISTEMAS PRESENTES: SIPE,TAS,MECA\\u003cbr\\u003eNUMERO DE CLIENTES: [13, 1060001, 'INTERA']  \\u003cbr\\u003eDIRECCIONES: ['PASEO DE LA REFORMA 383 PISO 14 COL CUAHTEMOC CP 06500', nan, 'NO SE TIENE REGISTRADA LA INFORMACION']  \\u003cbr\\u003e RFCS: ['BIN931011519', 'XXXXXXXXXXXXX', 'XXXXXXXXXXXX'] \",\"INVEX, CASA DE BOLSA, S.A. DE C.V \\u003cbr\\u003eSISTEMAS PRESENTES: TAS,MECA\\u003cbr\\u003eNUMERO DE CLIENTES: [929440, 'INVEX']  \\u003cbr\\u003eDIRECCIONES: [nan, 'PENDIENTE']  \\u003cbr\\u003e RFCS: ['ICB911029V38', 'XXX123456XXX'] \",\"IXE BANCO, S.A. \\u003cbr\\u003eSISTEMAS PRESENTES: SIPE,TAS,TAS,MECA\\u003cbr\\u003eNUMERO DE CLIENTES: [304, 1060028, 1037284, 'IXE']  \\u003cbr\\u003eDIRECCIONES: ['AV. PAE DE LA REFORMA 505 PISO 47, COLONIA CUAUHTEMOC CP 065', nan, nan, 'JOSE LUIS LAGRANGE 103']  \\u003cbr\\u003e RFCS: ['XXXXXXXXXXXXX', 'XXXXXXXXXXXXX', 'IBA950503GTA', 'XXXXXXXXXXXX'] \",\"BANCO JP MORGAN,S.A.(MEXICO) \\u003cbr\\u003eSISTEMAS PRESENTES: SIPE,TAS,MECA\\u003cbr\\u003eNUMERO DE CLIENTES: [327, 987671, 'JPMOR']  \\u003cbr\\u003eDIRECCIONES: ['PASEO DE LAS PALMAS NUM 405 PISO 16 LOMAS DE CHAPULTEPEC', nan, 'NO SE TIENE REGISTRADA LA INFORMACION']  \\u003cbr\\u003e RFCS: ['TME840315KT6', 'BJP950104LJ5', 'XXXXXXXXXXXX'] \",\"J.P. MORGAN, CASA DE BOLSA, S.A. DE C.V. \\u003cbr\\u003eSISTEMAS PRESENTES: TAS,MECA\\u003cbr\\u003eNUMERO DE CLIENTES: [1057514, 'JPMORG']  \\u003cbr\\u003eDIRECCIONES: [nan, 'PASEO DE LAS PALMAS 405 PISO 16, LOMAS DE CHAPULTEPEC, CP 11000 DF']  \\u003cbr\\u003e RFCS: ['JPM960506G57', 'JPM960506G57'] \",\"BANCO MIFEL, S.A. \\u003cbr\\u003eSISTEMAS PRESENTES: TAS,MECA\\u003cbr\\u003eNUMERO DE CLIENTES: [1060020, 'MIFEL']  \\u003cbr\\u003eDIRECCIONES: [nan, 'ALJANDRO FINKLER']  \\u003cbr\\u003e RFCS: ['XXXXXXXXXXXXX', 'XXXXXXXXXXXX'] \",\"MERRILL LYNCH MEXICO, S.A. DE C.V. CASA DE BOLSA \\u003cbr\\u003eSISTEMAS PRESENTES: TAS,TAS,MECA\\u003cbr\\u003eNUMERO DE CLIENTES: [1057516, 1062062, 'MLYNCH']  \\u003cbr\\u003eDIRECCIONES: [nan, nan, 'P']  \\u003cbr\\u003e RFCS: ['MLM950112GG3', 'MLM950112GG3', 'XXX123456XXX'] \",\"MONEX CASA DE BOLSA, S.A. DE C.V. \\u003cbr\\u003eSISTEMAS PRESENTES: SIMS,TAS,MECA\\u003cbr\\u003eNUMERO DE CLIENTES: ['MONEXM', 1057517, 'MONEX']  \\u003cbr\\u003eDIRECCIONES: ['AVENIDA PASEO DE LA REFORMA 284 PISO 15', nan, 'INSURGENTES SUR 1886 COL.FLORIDA']  \\u003cbr\\u003e RFCS: ['XXXXXXXXXXXXX', 'MCB860313CD6', 'XXX123456XXX'] \",\"BANCO BILBAO VISCAYA S.A. \\u003cbr\\u003eSISTEMAS PRESENTES: TAS,MECA\\u003cbr\\u003eNUMERO DE CLIENTES: [910456, 'MPPX']  \\u003cbr\\u003eDIRECCIONES: [nan, 'NO SE TIENE REGISTRADA LA INFORMACION']  \\u003cbr\\u003e RFCS: ['BBA830831LJ2', 'XXXXXXXXXXXX'] \",\"CASA DE BOLSA MULTIVA, S.A. DE C.V. GRUPO FINANCIERO MULTIVA \\u003cbr\\u003eSISTEMAS PRESENTES: TAS,MECA\\u003cbr\\u003eNUMERO DE CLIENTES: [102, 'MULTIV']  \\u003cbr\\u003eDIRECCIONES: [nan, 'NO SE TIENE REGISTRADA LA INFORMACION']  \\u003cbr\\u003e RFCS: ['MCB9809105S1', 'XXX123456XXX'] \",\"NACIONAL FINANCIERA, S.N.C. \\u003cbr\\u003eSISTEMAS PRESENTES: SOI,SIMS,TAS,MECA\\u003cbr\\u003eNUMERO DE CLIENTES: [12066, 'NAFIN', 100177, 'NAFIN']  \\u003cbr\\u003eDIRECCIONES: ['INSURGENTES SUR', 'INSURGENTES SUR 1971, GUADALUPE INN', nan, 'INSURGENTES SUR 1971']  \\u003cbr\\u003e RFCS: ['NFI3406305T0', 'XXXXXXXXXXXXX', 'NFI3406305T0', 'NFI3406305TO'] \",\"NAFINSA SECURITIES \\u003cbr\\u003eSISTEMAS PRESENTES: SIPE,MECA\\u003cbr\\u003eNUMERO DE CLIENTES: [28, 'NAFSEC']  \\u003cbr\\u003eDIRECCIONES: [nan, 'NO SE TIENE REGISTRADA LA INFORMACION']  \\u003cbr\\u003e RFCS: ['XXXXXXXXXXXXX', 'XXXXXXXXXXXX'] \",\"PETROLEOS MEXICANOS \\u003cbr\\u003eSISTEMAS PRESENTES: SIMS,SIRAC,TAS,TAS,MECA\\u003cbr\\u003eNUMERO DE CLIENTES: ['PEMEX', 4092904, 1065306, 1048332, 'PEMEX']  \\u003cbr\\u003eDIRECCIONES: ['MARINA NACIONAL', nan, nan, nan, 'MARINA NACIONAL']  \\u003cbr\\u003e RFCS: ['XXXXXXXXXXXXX', 'PME380607P35', 'PME380607P35', 'PME380607P35', 'XXXXXXXXXXXX'] \",\"PUNTO CASA DE BOLSA, S.A. DE C.V \\u003cbr\\u003eSISTEMAS PRESENTES: TAS,TAS,MECA\\u003cbr\\u003eNUMERO DE CLIENTES: [1057500, 1057522, 'PNTOCB']  \\u003cbr\\u003eDIRECCIONES: [nan, nan, 'FERROCARRIL DE RIO FRIO NO. 419 B 16, COLONIA CUCHILLA DE MORAL, MEXICO, D.F., DELEGACION IZTAPALAPA']  \\u003cbr\\u003e RFCS: ['PCB111011816', 'PCB111011816', 'PCB111011816'] \",\"BANCO SANTANDER DE NEGOCIOS MEXICO S.A. \\u003cbr\\u003eSISTEMAS PRESENTES: TAS,MECA\\u003cbr\\u003eNUMERO DE CLIENTES: [989141, 'SANTAN']  \\u003cbr\\u003eDIRECCIONES: [nan, '328 82 26']  \\u003cbr\\u003e RFCS: ['BSM941122TE6', 'XXXXXXXXXXXX'] \",\"SCOTIA INVERLAT CASA DE BOLSA, S.A. DE C.V. \\u003cbr\\u003eSISTEMAS PRESENTES: TAS,MECA\\u003cbr\\u003eNUMERO DE CLIENTES: [1057518, 'SCOTI']  \\u003cbr\\u003eDIRECCIONES: [nan, 'BOSQUE DE CIRUELOS 120, BOSQUES DE LAS LOMAS C.P. 11700, MEXICO, D.F.']  \\u003cbr\\u003e RFCS: ['SIN941202514', 'XXX123456XXX'] \",\"NAFIN SECURITIES \\u003cbr\\u003eSISTEMAS PRESENTES: SIPE,MECA\\u003cbr\\u003eNUMERO DE CLIENTES: [28, 'SECURI']  \\u003cbr\\u003eDIRECCIONES: [nan, 'P']  \\u003cbr\\u003e RFCS: ['XXXXXXXXXXXXX', 'XXX123456XXX'] \",\"BANCO DEL SURESTE,S.A. \\u003cbr\\u003eSISTEMAS PRESENTES: TAS,MECA\\u003cbr\\u003eNUMERO DE CLIENTES: [1060025, 'SURE']  \\u003cbr\\u003eDIRECCIONES: [nan, 'NO SE TIENE REGISTRADA LA INFORMACION']  \\u003cbr\\u003e RFCS: ['XXXXXXXXXXXXX', 'XXXXXXXXXXXX'] \",\"SWISS BANK CORP.N.Y. \\u003cbr\\u003eSISTEMAS PRESENTES: SOI,MECA\\u003cbr\\u003eNUMERO DE CLIENTES: [10429, 'SWISS']  \\u003cbr\\u003eDIRECCIONES: [nan, 'NO SE TIENE REGISTRADA LA INFORMACION']  \\u003cbr\\u003e RFCS: ['XXXXXXXXXXXXX', 'XXXXXXXXXXXX'] \",\"UNION BANK OF SWITZERLAND \\u003cbr\\u003eSISTEMAS PRESENTES: SOI,SIPE,MECA\\u003cbr\\u003eNUMERO DE CLIENTES: [10459, 5, 'UBS']  \\u003cbr\\u003eDIRECCIONES: [nan, '299 PARK AVENUE, NEW YORK, NY 10171-0026', 'NO SE TIENE REGISTRADA LA INFORMACION']  \\u003cbr\\u003e RFCS: ['XXXXXXXXXXXXX', 'XXXXXXXXXXXXX', 'XXXXXXXXXXXX'] \",\"VALORES MEXICANOS CASA DE BOLSA, S.A. DE C.V. \\u003cbr\\u003eSISTEMAS PRESENTES: TAS,TAS,MECA\\u003cbr\\u003eNUMERO DE CLIENTES: [1057519, 315, 'VALMEX']  \\u003cbr\\u003eDIRECCIONES: [nan, nan, 'MARIO']  \\u003cbr\\u003e RFCS: ['VMC930101JS6', 'CBC79081421A', 'XXX123456XXX'] \",\"VECTOR, CASA DE BOLSA, S.A DECV \\u003cbr\\u003eSISTEMAS PRESENTES: TAS,TAS,TAS,MECA\\u003cbr\\u003eNUMERO DE CLIENTES: [1057520, 1057533, 412, 'VECT']  \\u003cbr\\u003eDIRECCIONES: [nan, nan, nan, 'P']  \\u003cbr\\u003e RFCS: ['VCB870729PH6', 'VCB870729PH6', 'SMB740206001', 'XXX123456XXX'] \"],\"x\":[\"ATLAN\",\"BANJIO\",\"BANKAM\",\"BANKNY\",\"BANOB\",\"BANRU\",\"BARCAP\",\"BBVA\",\"BBVI\",\"BCDI\",\"BCDM\",\"BCOMEX\",\"BCOMIF\",\"BKMONT\",\"BMNO\",\"BNMX\",\"BNORT\",\"BOFA\",\"BOFAS\",\"BORI\",\"BOSTON\",\"BSTEAR\",\"BXICO\",\"BXMAS\",\"CBMX\",\"CITINY\",\"DEUTCH\",\"DRESBK\",\"EVERCO\",\"HSBC\",\"INBUR\",\"INDUS\",\"INTER\",\"INTERA\",\"INVEX\",\"IXE\",\"JPMOR\",\"JPMORG\",\"MIFEL\",\"MLYNCH\",\"MONEX\",\"MPPX\",\"MULTIV\",\"NAFIN\",\"NAFSEC\",\"PEMEX\",\"PNTOCB\",\"SANTAN\",\"SCOTI\",\"SECURI\",\"SURE\",\"SWISS\",\"UBS\",\"VALMEX\",\"VECT\"],\"y\":[1,3,2,2,1,1,1,2,1,1,1,4,1,1,1,3,1,2,1,1,2,1,2,1,1,3,1,1,1,1,2,2,1,2,1,3,2,1,1,2,2,1,1,3,1,4,2,1,1,1,1,1,2,2,3],\"type\":\"scatter\"}],                        {\"template\":{\"data\":{\"histogram2dcontour\":[{\"type\":\"histogram2dcontour\",\"colorbar\":{\"outlinewidth\":0,\"ticks\":\"\"},\"colorscale\":[[0.0,\"#0d0887\"],[0.1111111111111111,\"#46039f\"],[0.2222222222222222,\"#7201a8\"],[0.3333333333333333,\"#9c179e\"],[0.4444444444444444,\"#bd3786\"],[0.5555555555555556,\"#d8576b\"],[0.6666666666666666,\"#ed7953\"],[0.7777777777777778,\"#fb9f3a\"],[0.8888888888888888,\"#fdca26\"],[1.0,\"#f0f921\"]]}],\"choropleth\":[{\"type\":\"choropleth\",\"colorbar\":{\"outlinewidth\":0,\"ticks\":\"\"}}],\"histogram2d\":[{\"type\":\"histogram2d\",\"colorbar\":{\"outlinewidth\":0,\"ticks\":\"\"},\"colorscale\":[[0.0,\"#0d0887\"],[0.1111111111111111,\"#46039f\"],[0.2222222222222222,\"#7201a8\"],[0.3333333333333333,\"#9c179e\"],[0.4444444444444444,\"#bd3786\"],[0.5555555555555556,\"#d8576b\"],[0.6666666666666666,\"#ed7953\"],[0.7777777777777778,\"#fb9f3a\"],[0.8888888888888888,\"#fdca26\"],[1.0,\"#f0f921\"]]}],\"heatmap\":[{\"type\":\"heatmap\",\"colorbar\":{\"outlinewidth\":0,\"ticks\":\"\"},\"colorscale\":[[0.0,\"#0d0887\"],[0.1111111111111111,\"#46039f\"],[0.2222222222222222,\"#7201a8\"],[0.3333333333333333,\"#9c179e\"],[0.4444444444444444,\"#bd3786\"],[0.5555555555555556,\"#d8576b\"],[0.6666666666666666,\"#ed7953\"],[0.7777777777777778,\"#fb9f3a\"],[0.8888888888888888,\"#fdca26\"],[1.0,\"#f0f921\"]]}],\"heatmapgl\":[{\"type\":\"heatmapgl\",\"colorbar\":{\"outlinewidth\":0,\"ticks\":\"\"},\"colorscale\":[[0.0,\"#0d0887\"],[0.1111111111111111,\"#46039f\"],[0.2222222222222222,\"#7201a8\"],[0.3333333333333333,\"#9c179e\"],[0.4444444444444444,\"#bd3786\"],[0.5555555555555556,\"#d8576b\"],[0.6666666666666666,\"#ed7953\"],[0.7777777777777778,\"#fb9f3a\"],[0.8888888888888888,\"#fdca26\"],[1.0,\"#f0f921\"]]}],\"contourcarpet\":[{\"type\":\"contourcarpet\",\"colorbar\":{\"outlinewidth\":0,\"ticks\":\"\"}}],\"contour\":[{\"type\":\"contour\",\"colorbar\":{\"outlinewidth\":0,\"ticks\":\"\"},\"colorscale\":[[0.0,\"#0d0887\"],[0.1111111111111111,\"#46039f\"],[0.2222222222222222,\"#7201a8\"],[0.3333333333333333,\"#9c179e\"],[0.4444444444444444,\"#bd3786\"],[0.5555555555555556,\"#d8576b\"],[0.6666666666666666,\"#ed7953\"],[0.7777777777777778,\"#fb9f3a\"],[0.8888888888888888,\"#fdca26\"],[1.0,\"#f0f921\"]]}],\"surface\":[{\"type\":\"surface\",\"colorbar\":{\"outlinewidth\":0,\"ticks\":\"\"},\"colorscale\":[[0.0,\"#0d0887\"],[0.1111111111111111,\"#46039f\"],[0.2222222222222222,\"#7201a8\"],[0.3333333333333333,\"#9c179e\"],[0.4444444444444444,\"#bd3786\"],[0.5555555555555556,\"#d8576b\"],[0.6666666666666666,\"#ed7953\"],[0.7777777777777778,\"#fb9f3a\"],[0.8888888888888888,\"#fdca26\"],[1.0,\"#f0f921\"]]}],\"mesh3d\":[{\"type\":\"mesh3d\",\"colorbar\":{\"outlinewidth\":0,\"ticks\":\"\"}}],\"scatter\":[{\"fillpattern\":{\"fillmode\":\"overlay\",\"size\":10,\"solidity\":0.2},\"type\":\"scatter\"}],\"parcoords\":[{\"type\":\"parcoords\",\"line\":{\"colorbar\":{\"outlinewidth\":0,\"ticks\":\"\"}}}],\"scatterpolargl\":[{\"type\":\"scatterpolargl\",\"marker\":{\"colorbar\":{\"outlinewidth\":0,\"ticks\":\"\"}}}],\"bar\":[{\"error_x\":{\"color\":\"#2a3f5f\"},\"error_y\":{\"color\":\"#2a3f5f\"},\"marker\":{\"line\":{\"color\":\"#E5ECF6\",\"width\":0.5},\"pattern\":{\"fillmode\":\"overlay\",\"size\":10,\"solidity\":0.2}},\"type\":\"bar\"}],\"scattergeo\":[{\"type\":\"scattergeo\",\"marker\":{\"colorbar\":{\"outlinewidth\":0,\"ticks\":\"\"}}}],\"scatterpolar\":[{\"type\":\"scatterpolar\",\"marker\":{\"colorbar\":{\"outlinewidth\":0,\"ticks\":\"\"}}}],\"histogram\":[{\"marker\":{\"pattern\":{\"fillmode\":\"overlay\",\"size\":10,\"solidity\":0.2}},\"type\":\"histogram\"}],\"scattergl\":[{\"type\":\"scattergl\",\"marker\":{\"colorbar\":{\"outlinewidth\":0,\"ticks\":\"\"}}}],\"scatter3d\":[{\"type\":\"scatter3d\",\"line\":{\"colorbar\":{\"outlinewidth\":0,\"ticks\":\"\"}},\"marker\":{\"colorbar\":{\"outlinewidth\":0,\"ticks\":\"\"}}}],\"scattermapbox\":[{\"type\":\"scattermapbox\",\"marker\":{\"colorbar\":{\"outlinewidth\":0,\"ticks\":\"\"}}}],\"scatterternary\":[{\"type\":\"scatterternary\",\"marker\":{\"colorbar\":{\"outlinewidth\":0,\"ticks\":\"\"}}}],\"scattercarpet\":[{\"type\":\"scattercarpet\",\"marker\":{\"colorbar\":{\"outlinewidth\":0,\"ticks\":\"\"}}}],\"carpet\":[{\"aaxis\":{\"endlinecolor\":\"#2a3f5f\",\"gridcolor\":\"white\",\"linecolor\":\"white\",\"minorgridcolor\":\"white\",\"startlinecolor\":\"#2a3f5f\"},\"baxis\":{\"endlinecolor\":\"#2a3f5f\",\"gridcolor\":\"white\",\"linecolor\":\"white\",\"minorgridcolor\":\"white\",\"startlinecolor\":\"#2a3f5f\"},\"type\":\"carpet\"}],\"table\":[{\"cells\":{\"fill\":{\"color\":\"#EBF0F8\"},\"line\":{\"color\":\"white\"}},\"header\":{\"fill\":{\"color\":\"#C8D4E3\"},\"line\":{\"color\":\"white\"}},\"type\":\"table\"}],\"barpolar\":[{\"marker\":{\"line\":{\"color\":\"#E5ECF6\",\"width\":0.5},\"pattern\":{\"fillmode\":\"overlay\",\"size\":10,\"solidity\":0.2}},\"type\":\"barpolar\"}],\"pie\":[{\"automargin\":true,\"type\":\"pie\"}]},\"layout\":{\"autotypenumbers\":\"strict\",\"colorway\":[\"#636efa\",\"#EF553B\",\"#00cc96\",\"#ab63fa\",\"#FFA15A\",\"#19d3f3\",\"#FF6692\",\"#B6E880\",\"#FF97FF\",\"#FECB52\"],\"font\":{\"color\":\"#2a3f5f\"},\"hovermode\":\"closest\",\"hoverlabel\":{\"align\":\"left\"},\"paper_bgcolor\":\"white\",\"plot_bgcolor\":\"#E5ECF6\",\"polar\":{\"bgcolor\":\"#E5ECF6\",\"angularaxis\":{\"gridcolor\":\"white\",\"linecolor\":\"white\",\"ticks\":\"\"},\"radialaxis\":{\"gridcolor\":\"white\",\"linecolor\":\"white\",\"ticks\":\"\"}},\"ternary\":{\"bgcolor\":\"#E5ECF6\",\"aaxis\":{\"gridcolor\":\"white\",\"linecolor\":\"white\",\"ticks\":\"\"},\"baxis\":{\"gridcolor\":\"white\",\"linecolor\":\"white\",\"ticks\":\"\"},\"caxis\":{\"gridcolor\":\"white\",\"linecolor\":\"white\",\"ticks\":\"\"}},\"coloraxis\":{\"colorbar\":{\"outlinewidth\":0,\"ticks\":\"\"}},\"colorscale\":{\"sequential\":[[0.0,\"#0d0887\"],[0.1111111111111111,\"#46039f\"],[0.2222222222222222,\"#7201a8\"],[0.3333333333333333,\"#9c179e\"],[0.4444444444444444,\"#bd3786\"],[0.5555555555555556,\"#d8576b\"],[0.6666666666666666,\"#ed7953\"],[0.7777777777777778,\"#fb9f3a\"],[0.8888888888888888,\"#fdca26\"],[1.0,\"#f0f921\"]],\"sequentialminus\":[[0.0,\"#0d0887\"],[0.1111111111111111,\"#46039f\"],[0.2222222222222222,\"#7201a8\"],[0.3333333333333333,\"#9c179e\"],[0.4444444444444444,\"#bd3786\"],[0.5555555555555556,\"#d8576b\"],[0.6666666666666666,\"#ed7953\"],[0.7777777777777778,\"#fb9f3a\"],[0.8888888888888888,\"#fdca26\"],[1.0,\"#f0f921\"]],\"diverging\":[[0,\"#8e0152\"],[0.1,\"#c51b7d\"],[0.2,\"#de77ae\"],[0.3,\"#f1b6da\"],[0.4,\"#fde0ef\"],[0.5,\"#f7f7f7\"],[0.6,\"#e6f5d0\"],[0.7,\"#b8e186\"],[0.8,\"#7fbc41\"],[0.9,\"#4d9221\"],[1,\"#276419\"]]},\"xaxis\":{\"gridcolor\":\"white\",\"linecolor\":\"white\",\"ticks\":\"\",\"title\":{\"standoff\":15},\"zerolinecolor\":\"white\",\"automargin\":true,\"zerolinewidth\":2},\"yaxis\":{\"gridcolor\":\"white\",\"linecolor\":\"white\",\"ticks\":\"\",\"title\":{\"standoff\":15},\"zerolinecolor\":\"white\",\"automargin\":true,\"zerolinewidth\":2},\"scene\":{\"xaxis\":{\"backgroundcolor\":\"#E5ECF6\",\"gridcolor\":\"white\",\"linecolor\":\"white\",\"showbackground\":true,\"ticks\":\"\",\"zerolinecolor\":\"white\",\"gridwidth\":2},\"yaxis\":{\"backgroundcolor\":\"#E5ECF6\",\"gridcolor\":\"white\",\"linecolor\":\"white\",\"showbackground\":true,\"ticks\":\"\",\"zerolinecolor\":\"white\",\"gridwidth\":2},\"zaxis\":{\"backgroundcolor\":\"#E5ECF6\",\"gridcolor\":\"white\",\"linecolor\":\"white\",\"showbackground\":true,\"ticks\":\"\",\"zerolinecolor\":\"white\",\"gridwidth\":2}},\"shapedefaults\":{\"line\":{\"color\":\"#2a3f5f\"}},\"annotationdefaults\":{\"arrowcolor\":\"#2a3f5f\",\"arrowhead\":0,\"arrowwidth\":1},\"geo\":{\"bgcolor\":\"white\",\"landcolor\":\"#E5ECF6\",\"subunitcolor\":\"white\",\"showland\":true,\"showlakes\":true,\"lakecolor\":\"white\"},\"title\":{\"x\":0.05},\"mapbox\":{\"style\":\"light\"}}},\"title\":{\"text\":\"Dispersi\\u00f3n de clientes y sistemas MECA y sistemas\"},\"xaxis\":{\"title\":{\"text\":\"ID_ORIGEN\"}},\"yaxis\":{\"title\":{\"text\":\"Count\"}}},                        {\"responsive\": true}                    ).then(function(){\n",
       "                            \n",
       "var gd = document.getElementById('0530d117-08c6-4798-addf-6f54e609304f');\n",
       "var x = new MutationObserver(function (mutations, observer) {{\n",
       "        var display = window.getComputedStyle(gd).display;\n",
       "        if (!display || display === 'none') {{\n",
       "            console.log([gd, 'removed!']);\n",
       "            Plotly.purge(gd);\n",
       "            observer.disconnect();\n",
       "        }}\n",
       "}});\n",
       "\n",
       "// Listen for the removal of the full notebook cells\n",
       "var notebookContainer = gd.closest('#notebook-container');\n",
       "if (notebookContainer) {{\n",
       "    x.observe(notebookContainer, {childList: true});\n",
       "}}\n",
       "\n",
       "// Listen for the clearing of the current output cell\n",
       "var outputEl = gd.closest('.output');\n",
       "if (outputEl) {{\n",
       "    x.observe(outputEl, {childList: true});\n",
       "}}\n",
       "\n",
       "                        })                };                });            </script>        </div>"
      ]
     },
     "metadata": {},
     "output_type": "display_data"
    }
   ],
   "source": [
    "dfs_comp = [df_soi ,df_sims , df_sirac , df_sipe ,df_tas]\n",
    "grouped_df_meca, comparacion_meca = clts_repetidos( df_meca, dfs_comp, \"NOMBRE_O_RAZON_SOCIAL\", 93, \"MECA y sistemas\")"
   ]
  },
  {
   "cell_type": "code",
   "execution_count": null,
   "metadata": {},
   "outputs": [],
   "source": [
    "grouped_df_meca"
   ]
  },
  {
   "cell_type": "markdown",
   "metadata": {},
   "source": [
    "# SIMS VS LOS SISTEMAS TRANSACCIONALES"
   ]
  },
  {
   "cell_type": "code",
   "execution_count": 150,
   "metadata": {},
   "outputs": [
    {
     "data": {
      "application/vnd.plotly.v1+json": {
       "config": {
        "plotlyServerURL": "https://plot.ly"
       },
       "data": [
        {
         "hovertemplate": "%{text}",
         "marker": {
          "color": "blue",
          "size": 10
         },
         "mode": "markers",
         "text": [
          "BANCO INBURSA <br>SISTEMAS PRESENTES: MECA,TAS,SIMS<br>NUMERO DE CLIENTES: ['INBUR', 969647, '36957']  <br>DIRECCIONES: ['NO SE TIENE REGISTRADA LA INFORMACION', nan, nan]  <br> RFCS: ['XXXXXXXXXXXX', 'BII931004P61', 'XXXXXXXXXXXXX'] ",
          "BANCO NACIONAL DE MEXICO, S.A. <br>SISTEMAS PRESENTES: MECA,TAS,SIMS<br>NUMERO DE CLIENTES: ['BNMX', 1060005, 'BANAME']  <br>DIRECCIONES: ['NO SE TIENE REGISTRADA LA INFORMACION', nan, nan]  <br> RFCS: ['XXXXXXXXXXXX', 'XXXXXXXXXXXXX', 'XXXXXXXXXXXXX'] ",
          "BANCO NACIONAL DE MEXICO, S.A. <br>SISTEMAS PRESENTES: MECA,TAS,SIMS<br>NUMERO DE CLIENTES: ['BNMX', 1060005, 'BANMEX']  <br>DIRECCIONES: ['NO SE TIENE REGISTRADA LA INFORMACION', nan, 'INSURGENTES SUR']  <br> RFCS: ['XXXXXXXXXXXX', 'XXXXXXXXXXXXX', 'XXXXXXXXXXXXX'] ",
          "BARCLAYS BANK, BBPLC, NEW YORK <br>SISTEMAS PRESENTES: SIPE,SIMS<br>NUMERO DE CLIENTES: [319, 'BARC']  <br>DIRECCIONES: [nan, nan]  <br> RFCS: ['XXXXXXXXXXXXX', 'XXXXXXXXXXXXX'] ",
          "BARCLAYS BANK MÉXICO <br>SISTEMAS PRESENTES: SIPE,SIPE,SIMS<br>NUMERO DE CLIENTES: [344, 345, 'BARC-M']  <br>DIRECCIONES: ['PASEO DE LA REFORMA NUM.505 PISO 41 COL. CUAUHTEMOC 06500', 'AV. PASEO DE LA REFORMA 505 COL. CUAHUTEMOC', 'PASEO DE LA REFORMA 5052, PISO 41, CUAUHTÉMOC']  <br> RFCS: ['BBM060102M82', 'BBM060102M82', 'XXXXXXXXXXXXX'] ",
          "BANCO NACIONAL DE COMERCIO EXTERIOR,SNC <br>SISTEMAS PRESENTES: MECA,SIRAC,TAS,TAS,SIMS<br>NUMERO DE CLIENTES: ['BCOMEX', 5970070, 1060008, 997861, 'BCOMXT']  <br>DIRECCIONES: ['NO SE TIENE REGISTRADA LA INFORMACION', nan, nan, nan, nan]  <br> RFCS: ['XXXXXXXXXXXX', 'BNC8507311M4', 'XXXXXXXXXXXXX', 'BNC8507311M4', 'XXXXXXXXXXXXX'] ",
          "BANK OF MONTREAL <br>SISTEMAS PRESENTES: SIPE,SIMS<br>NUMERO DE CLIENTES: [4, 'BKOFMO']  <br>DIRECCIONES: ['115 SOUTH LASALLE STREET CHICAGO, ILLINOIS 60603', nan]  <br> RFCS: ['XXXXXXXXXXXXX', 'XXXXXXXXXXXXX'] ",
          "BANK OF NEW YORK <br>SISTEMAS PRESENTES: MECA,SIPE,SIMS<br>NUMERO DE CLIENTES: ['BANKNY', 287, 'BKOFNY']  <br>DIRECCIONES: ['NO SE TIENE REGISTRADA LA INFORMACION', '32 OLD SLIP ROAD NY, NY 10179', nan]  <br> RFCS: ['XXXXXXXXXXXX', 'XXXXXXXXXXXXX', 'XXXXXXXXXXXXX'] ",
          "CITIBANK, NEW YORK <br>SISTEMAS PRESENTES: MECA,SIPE,SIPE,SIMS<br>NUMERO DE CLIENTES: ['CITINY', 250, 315, 'CITI']  <br>DIRECCIONES: ['NO SE TIENE REGISTRADA LA INFORMACION', nan, nan, nan]  <br> RFCS: ['XXXXXXXXXXXX', 'XXXXXXXXXXXXX', 'XXXXXXXXXXXXX', 'XXXXXXXXXXXXX'] ",
          "ENLACE INT SA DE CV <br>SISTEMAS PRESENTES: TAS,SIMS<br>NUMERO DE CLIENTES: [1064950, 'ENLACE']  <br>DIRECCIONES: [nan, 'TORRE ESMERALDA II,BLVD AVILA CAMACHO 36-1805']  <br> RFCS: ['EIN961028182', 'XXXXXXXXXXXXX'] ",
          "CASA DE BOLSA FINAMEX S.A.B. DE C.V. <br>SISTEMAS PRESENTES: TAS,TAS,SIMS<br>NUMERO DE CLIENTES: [1057506, 1057538, 'FINMX']  <br>DIRECCIONES: [nan, nan, 'AVENIDA AMÉRICAS 1545 PISO18 Y19']  <br> RFCS: ['CBF920629BVO', 'CBF920629BV0', 'XXXXXXXXXXXXX'] ",
          "MONEX CASA DE BOLSA C.A. DE C.V. <br>SISTEMAS PRESENTES: MECA,TAS,SIMS<br>NUMERO DE CLIENTES: ['MONEX', 1057517, 'MONEXM']  <br>DIRECCIONES: ['INSURGENTES SUR 1886 COL.FLORIDA', nan, 'AVENIDA PASEO DE LA REFORMA 284 PISO 15']  <br> RFCS: ['XXX123456XXX', 'MCB860313CD6', 'XXXXXXXXXXXXX'] ",
          "NACIONAL FINANCIERA SNC <br>SISTEMAS PRESENTES: SOI,MECA,TAS,SIMS<br>NUMERO DE CLIENTES: [12066, 'NAFIN', 100177, 'NAFIN']  <br>DIRECCIONES: ['INSURGENTES SUR', 'INSURGENTES SUR 1971', nan, 'INSURGENTES SUR 1971, GUADALUPE INN']  <br> RFCS: ['NFI3406305T0', 'NFI3406305TO', 'NFI3406305T0', 'XXXXXXXXXXXXX'] ",
          "PETROLEOS MEXICANOS <br>SISTEMAS PRESENTES: MECA,SIRAC,TAS,TAS,SIMS<br>NUMERO DE CLIENTES: ['PEMEX', 4092904, 1065306, 1048332, 'PEMEX']  <br>DIRECCIONES: ['MARINA NACIONAL', nan, nan, nan, 'MARINA NACIONAL']  <br> RFCS: ['XXXXXXXXXXXX', 'PME380607P35', 'PME380607P35', 'PME380607P35', 'XXXXXXXXXXXXX'] "
         ],
         "type": "scatter",
         "x": [
          "36957",
          "BANAME",
          "BANMEX",
          "BARC",
          "BARC-M",
          "BCOMXT",
          "BKOFMO",
          "BKOFNY",
          "CITI",
          "ENLACE",
          "FINMX",
          "MONEXM",
          "NAFIN",
          "PEMEX"
         ],
         "y": [
          2,
          2,
          2,
          1,
          2,
          4,
          1,
          2,
          3,
          1,
          2,
          2,
          3,
          4
         ]
        }
       ],
       "layout": {
        "template": {
         "data": {
          "bar": [
           {
            "error_x": {
             "color": "#2a3f5f"
            },
            "error_y": {
             "color": "#2a3f5f"
            },
            "marker": {
             "line": {
              "color": "#E5ECF6",
              "width": 0.5
             },
             "pattern": {
              "fillmode": "overlay",
              "size": 10,
              "solidity": 0.2
             }
            },
            "type": "bar"
           }
          ],
          "barpolar": [
           {
            "marker": {
             "line": {
              "color": "#E5ECF6",
              "width": 0.5
             },
             "pattern": {
              "fillmode": "overlay",
              "size": 10,
              "solidity": 0.2
             }
            },
            "type": "barpolar"
           }
          ],
          "carpet": [
           {
            "aaxis": {
             "endlinecolor": "#2a3f5f",
             "gridcolor": "white",
             "linecolor": "white",
             "minorgridcolor": "white",
             "startlinecolor": "#2a3f5f"
            },
            "baxis": {
             "endlinecolor": "#2a3f5f",
             "gridcolor": "white",
             "linecolor": "white",
             "minorgridcolor": "white",
             "startlinecolor": "#2a3f5f"
            },
            "type": "carpet"
           }
          ],
          "choropleth": [
           {
            "colorbar": {
             "outlinewidth": 0,
             "ticks": ""
            },
            "type": "choropleth"
           }
          ],
          "contour": [
           {
            "colorbar": {
             "outlinewidth": 0,
             "ticks": ""
            },
            "colorscale": [
             [
              0,
              "#0d0887"
             ],
             [
              0.1111111111111111,
              "#46039f"
             ],
             [
              0.2222222222222222,
              "#7201a8"
             ],
             [
              0.3333333333333333,
              "#9c179e"
             ],
             [
              0.4444444444444444,
              "#bd3786"
             ],
             [
              0.5555555555555556,
              "#d8576b"
             ],
             [
              0.6666666666666666,
              "#ed7953"
             ],
             [
              0.7777777777777778,
              "#fb9f3a"
             ],
             [
              0.8888888888888888,
              "#fdca26"
             ],
             [
              1,
              "#f0f921"
             ]
            ],
            "type": "contour"
           }
          ],
          "contourcarpet": [
           {
            "colorbar": {
             "outlinewidth": 0,
             "ticks": ""
            },
            "type": "contourcarpet"
           }
          ],
          "heatmap": [
           {
            "colorbar": {
             "outlinewidth": 0,
             "ticks": ""
            },
            "colorscale": [
             [
              0,
              "#0d0887"
             ],
             [
              0.1111111111111111,
              "#46039f"
             ],
             [
              0.2222222222222222,
              "#7201a8"
             ],
             [
              0.3333333333333333,
              "#9c179e"
             ],
             [
              0.4444444444444444,
              "#bd3786"
             ],
             [
              0.5555555555555556,
              "#d8576b"
             ],
             [
              0.6666666666666666,
              "#ed7953"
             ],
             [
              0.7777777777777778,
              "#fb9f3a"
             ],
             [
              0.8888888888888888,
              "#fdca26"
             ],
             [
              1,
              "#f0f921"
             ]
            ],
            "type": "heatmap"
           }
          ],
          "heatmapgl": [
           {
            "colorbar": {
             "outlinewidth": 0,
             "ticks": ""
            },
            "colorscale": [
             [
              0,
              "#0d0887"
             ],
             [
              0.1111111111111111,
              "#46039f"
             ],
             [
              0.2222222222222222,
              "#7201a8"
             ],
             [
              0.3333333333333333,
              "#9c179e"
             ],
             [
              0.4444444444444444,
              "#bd3786"
             ],
             [
              0.5555555555555556,
              "#d8576b"
             ],
             [
              0.6666666666666666,
              "#ed7953"
             ],
             [
              0.7777777777777778,
              "#fb9f3a"
             ],
             [
              0.8888888888888888,
              "#fdca26"
             ],
             [
              1,
              "#f0f921"
             ]
            ],
            "type": "heatmapgl"
           }
          ],
          "histogram": [
           {
            "marker": {
             "pattern": {
              "fillmode": "overlay",
              "size": 10,
              "solidity": 0.2
             }
            },
            "type": "histogram"
           }
          ],
          "histogram2d": [
           {
            "colorbar": {
             "outlinewidth": 0,
             "ticks": ""
            },
            "colorscale": [
             [
              0,
              "#0d0887"
             ],
             [
              0.1111111111111111,
              "#46039f"
             ],
             [
              0.2222222222222222,
              "#7201a8"
             ],
             [
              0.3333333333333333,
              "#9c179e"
             ],
             [
              0.4444444444444444,
              "#bd3786"
             ],
             [
              0.5555555555555556,
              "#d8576b"
             ],
             [
              0.6666666666666666,
              "#ed7953"
             ],
             [
              0.7777777777777778,
              "#fb9f3a"
             ],
             [
              0.8888888888888888,
              "#fdca26"
             ],
             [
              1,
              "#f0f921"
             ]
            ],
            "type": "histogram2d"
           }
          ],
          "histogram2dcontour": [
           {
            "colorbar": {
             "outlinewidth": 0,
             "ticks": ""
            },
            "colorscale": [
             [
              0,
              "#0d0887"
             ],
             [
              0.1111111111111111,
              "#46039f"
             ],
             [
              0.2222222222222222,
              "#7201a8"
             ],
             [
              0.3333333333333333,
              "#9c179e"
             ],
             [
              0.4444444444444444,
              "#bd3786"
             ],
             [
              0.5555555555555556,
              "#d8576b"
             ],
             [
              0.6666666666666666,
              "#ed7953"
             ],
             [
              0.7777777777777778,
              "#fb9f3a"
             ],
             [
              0.8888888888888888,
              "#fdca26"
             ],
             [
              1,
              "#f0f921"
             ]
            ],
            "type": "histogram2dcontour"
           }
          ],
          "mesh3d": [
           {
            "colorbar": {
             "outlinewidth": 0,
             "ticks": ""
            },
            "type": "mesh3d"
           }
          ],
          "parcoords": [
           {
            "line": {
             "colorbar": {
              "outlinewidth": 0,
              "ticks": ""
             }
            },
            "type": "parcoords"
           }
          ],
          "pie": [
           {
            "automargin": true,
            "type": "pie"
           }
          ],
          "scatter": [
           {
            "fillpattern": {
             "fillmode": "overlay",
             "size": 10,
             "solidity": 0.2
            },
            "type": "scatter"
           }
          ],
          "scatter3d": [
           {
            "line": {
             "colorbar": {
              "outlinewidth": 0,
              "ticks": ""
             }
            },
            "marker": {
             "colorbar": {
              "outlinewidth": 0,
              "ticks": ""
             }
            },
            "type": "scatter3d"
           }
          ],
          "scattercarpet": [
           {
            "marker": {
             "colorbar": {
              "outlinewidth": 0,
              "ticks": ""
             }
            },
            "type": "scattercarpet"
           }
          ],
          "scattergeo": [
           {
            "marker": {
             "colorbar": {
              "outlinewidth": 0,
              "ticks": ""
             }
            },
            "type": "scattergeo"
           }
          ],
          "scattergl": [
           {
            "marker": {
             "colorbar": {
              "outlinewidth": 0,
              "ticks": ""
             }
            },
            "type": "scattergl"
           }
          ],
          "scattermapbox": [
           {
            "marker": {
             "colorbar": {
              "outlinewidth": 0,
              "ticks": ""
             }
            },
            "type": "scattermapbox"
           }
          ],
          "scatterpolar": [
           {
            "marker": {
             "colorbar": {
              "outlinewidth": 0,
              "ticks": ""
             }
            },
            "type": "scatterpolar"
           }
          ],
          "scatterpolargl": [
           {
            "marker": {
             "colorbar": {
              "outlinewidth": 0,
              "ticks": ""
             }
            },
            "type": "scatterpolargl"
           }
          ],
          "scatterternary": [
           {
            "marker": {
             "colorbar": {
              "outlinewidth": 0,
              "ticks": ""
             }
            },
            "type": "scatterternary"
           }
          ],
          "surface": [
           {
            "colorbar": {
             "outlinewidth": 0,
             "ticks": ""
            },
            "colorscale": [
             [
              0,
              "#0d0887"
             ],
             [
              0.1111111111111111,
              "#46039f"
             ],
             [
              0.2222222222222222,
              "#7201a8"
             ],
             [
              0.3333333333333333,
              "#9c179e"
             ],
             [
              0.4444444444444444,
              "#bd3786"
             ],
             [
              0.5555555555555556,
              "#d8576b"
             ],
             [
              0.6666666666666666,
              "#ed7953"
             ],
             [
              0.7777777777777778,
              "#fb9f3a"
             ],
             [
              0.8888888888888888,
              "#fdca26"
             ],
             [
              1,
              "#f0f921"
             ]
            ],
            "type": "surface"
           }
          ],
          "table": [
           {
            "cells": {
             "fill": {
              "color": "#EBF0F8"
             },
             "line": {
              "color": "white"
             }
            },
            "header": {
             "fill": {
              "color": "#C8D4E3"
             },
             "line": {
              "color": "white"
             }
            },
            "type": "table"
           }
          ]
         },
         "layout": {
          "annotationdefaults": {
           "arrowcolor": "#2a3f5f",
           "arrowhead": 0,
           "arrowwidth": 1
          },
          "autotypenumbers": "strict",
          "coloraxis": {
           "colorbar": {
            "outlinewidth": 0,
            "ticks": ""
           }
          },
          "colorscale": {
           "diverging": [
            [
             0,
             "#8e0152"
            ],
            [
             0.1,
             "#c51b7d"
            ],
            [
             0.2,
             "#de77ae"
            ],
            [
             0.3,
             "#f1b6da"
            ],
            [
             0.4,
             "#fde0ef"
            ],
            [
             0.5,
             "#f7f7f7"
            ],
            [
             0.6,
             "#e6f5d0"
            ],
            [
             0.7,
             "#b8e186"
            ],
            [
             0.8,
             "#7fbc41"
            ],
            [
             0.9,
             "#4d9221"
            ],
            [
             1,
             "#276419"
            ]
           ],
           "sequential": [
            [
             0,
             "#0d0887"
            ],
            [
             0.1111111111111111,
             "#46039f"
            ],
            [
             0.2222222222222222,
             "#7201a8"
            ],
            [
             0.3333333333333333,
             "#9c179e"
            ],
            [
             0.4444444444444444,
             "#bd3786"
            ],
            [
             0.5555555555555556,
             "#d8576b"
            ],
            [
             0.6666666666666666,
             "#ed7953"
            ],
            [
             0.7777777777777778,
             "#fb9f3a"
            ],
            [
             0.8888888888888888,
             "#fdca26"
            ],
            [
             1,
             "#f0f921"
            ]
           ],
           "sequentialminus": [
            [
             0,
             "#0d0887"
            ],
            [
             0.1111111111111111,
             "#46039f"
            ],
            [
             0.2222222222222222,
             "#7201a8"
            ],
            [
             0.3333333333333333,
             "#9c179e"
            ],
            [
             0.4444444444444444,
             "#bd3786"
            ],
            [
             0.5555555555555556,
             "#d8576b"
            ],
            [
             0.6666666666666666,
             "#ed7953"
            ],
            [
             0.7777777777777778,
             "#fb9f3a"
            ],
            [
             0.8888888888888888,
             "#fdca26"
            ],
            [
             1,
             "#f0f921"
            ]
           ]
          },
          "colorway": [
           "#636efa",
           "#EF553B",
           "#00cc96",
           "#ab63fa",
           "#FFA15A",
           "#19d3f3",
           "#FF6692",
           "#B6E880",
           "#FF97FF",
           "#FECB52"
          ],
          "font": {
           "color": "#2a3f5f"
          },
          "geo": {
           "bgcolor": "white",
           "lakecolor": "white",
           "landcolor": "#E5ECF6",
           "showlakes": true,
           "showland": true,
           "subunitcolor": "white"
          },
          "hoverlabel": {
           "align": "left"
          },
          "hovermode": "closest",
          "mapbox": {
           "style": "light"
          },
          "paper_bgcolor": "white",
          "plot_bgcolor": "#E5ECF6",
          "polar": {
           "angularaxis": {
            "gridcolor": "white",
            "linecolor": "white",
            "ticks": ""
           },
           "bgcolor": "#E5ECF6",
           "radialaxis": {
            "gridcolor": "white",
            "linecolor": "white",
            "ticks": ""
           }
          },
          "scene": {
           "xaxis": {
            "backgroundcolor": "#E5ECF6",
            "gridcolor": "white",
            "gridwidth": 2,
            "linecolor": "white",
            "showbackground": true,
            "ticks": "",
            "zerolinecolor": "white"
           },
           "yaxis": {
            "backgroundcolor": "#E5ECF6",
            "gridcolor": "white",
            "gridwidth": 2,
            "linecolor": "white",
            "showbackground": true,
            "ticks": "",
            "zerolinecolor": "white"
           },
           "zaxis": {
            "backgroundcolor": "#E5ECF6",
            "gridcolor": "white",
            "gridwidth": 2,
            "linecolor": "white",
            "showbackground": true,
            "ticks": "",
            "zerolinecolor": "white"
           }
          },
          "shapedefaults": {
           "line": {
            "color": "#2a3f5f"
           }
          },
          "ternary": {
           "aaxis": {
            "gridcolor": "white",
            "linecolor": "white",
            "ticks": ""
           },
           "baxis": {
            "gridcolor": "white",
            "linecolor": "white",
            "ticks": ""
           },
           "bgcolor": "#E5ECF6",
           "caxis": {
            "gridcolor": "white",
            "linecolor": "white",
            "ticks": ""
           }
          },
          "title": {
           "x": 0.05
          },
          "xaxis": {
           "automargin": true,
           "gridcolor": "white",
           "linecolor": "white",
           "ticks": "",
           "title": {
            "standoff": 15
           },
           "zerolinecolor": "white",
           "zerolinewidth": 2
          },
          "yaxis": {
           "automargin": true,
           "gridcolor": "white",
           "linecolor": "white",
           "ticks": "",
           "title": {
            "standoff": 15
           },
           "zerolinecolor": "white",
           "zerolinewidth": 2
          }
         }
        },
        "title": {
         "text": "Dispersión de clientes y sistemas SIMS y sistemas"
        },
        "xaxis": {
         "title": {
          "text": "ID_ORIGEN"
         }
        },
        "yaxis": {
         "title": {
          "text": "Count"
         }
        }
       }
      },
      "text/html": [
       "<div>                            <div id=\"5155d948-2c8d-478b-92b8-6047316abfe1\" class=\"plotly-graph-div\" style=\"height:525px; width:100%;\"></div>            <script type=\"text/javascript\">                require([\"plotly\"], function(Plotly) {                    window.PLOTLYENV=window.PLOTLYENV || {};                                    if (document.getElementById(\"5155d948-2c8d-478b-92b8-6047316abfe1\")) {                    Plotly.newPlot(                        \"5155d948-2c8d-478b-92b8-6047316abfe1\",                        [{\"hovertemplate\":\"%{text}\",\"marker\":{\"color\":\"blue\",\"size\":10},\"mode\":\"markers\",\"text\":[\"BANCO INBURSA \\u003cbr\\u003eSISTEMAS PRESENTES: MECA,TAS,SIMS\\u003cbr\\u003eNUMERO DE CLIENTES: ['INBUR', 969647, '36957']  \\u003cbr\\u003eDIRECCIONES: ['NO SE TIENE REGISTRADA LA INFORMACION', nan, nan]  \\u003cbr\\u003e RFCS: ['XXXXXXXXXXXX', 'BII931004P61', 'XXXXXXXXXXXXX'] \",\"BANCO NACIONAL DE MEXICO, S.A. \\u003cbr\\u003eSISTEMAS PRESENTES: MECA,TAS,SIMS\\u003cbr\\u003eNUMERO DE CLIENTES: ['BNMX', 1060005, 'BANAME']  \\u003cbr\\u003eDIRECCIONES: ['NO SE TIENE REGISTRADA LA INFORMACION', nan, nan]  \\u003cbr\\u003e RFCS: ['XXXXXXXXXXXX', 'XXXXXXXXXXXXX', 'XXXXXXXXXXXXX'] \",\"BANCO NACIONAL DE MEXICO, S.A. \\u003cbr\\u003eSISTEMAS PRESENTES: MECA,TAS,SIMS\\u003cbr\\u003eNUMERO DE CLIENTES: ['BNMX', 1060005, 'BANMEX']  \\u003cbr\\u003eDIRECCIONES: ['NO SE TIENE REGISTRADA LA INFORMACION', nan, 'INSURGENTES SUR']  \\u003cbr\\u003e RFCS: ['XXXXXXXXXXXX', 'XXXXXXXXXXXXX', 'XXXXXXXXXXXXX'] \",\"BARCLAYS BANK, BBPLC, NEW YORK \\u003cbr\\u003eSISTEMAS PRESENTES: SIPE,SIMS\\u003cbr\\u003eNUMERO DE CLIENTES: [319, 'BARC']  \\u003cbr\\u003eDIRECCIONES: [nan, nan]  \\u003cbr\\u003e RFCS: ['XXXXXXXXXXXXX', 'XXXXXXXXXXXXX'] \",\"BARCLAYS BANK M\\u00c9XICO \\u003cbr\\u003eSISTEMAS PRESENTES: SIPE,SIPE,SIMS\\u003cbr\\u003eNUMERO DE CLIENTES: [344, 345, 'BARC-M']  \\u003cbr\\u003eDIRECCIONES: ['PASEO DE LA REFORMA NUM.505 PISO 41 COL. CUAUHTEMOC 06500', 'AV. PASEO DE LA REFORMA 505 COL. CUAHUTEMOC', 'PASEO DE LA REFORMA 5052, PISO 41, CUAUHT\\u00c9MOC']  \\u003cbr\\u003e RFCS: ['BBM060102M82', 'BBM060102M82', 'XXXXXXXXXXXXX'] \",\"BANCO NACIONAL DE COMERCIO EXTERIOR,SNC \\u003cbr\\u003eSISTEMAS PRESENTES: MECA,SIRAC,TAS,TAS,SIMS\\u003cbr\\u003eNUMERO DE CLIENTES: ['BCOMEX', 5970070, 1060008, 997861, 'BCOMXT']  \\u003cbr\\u003eDIRECCIONES: ['NO SE TIENE REGISTRADA LA INFORMACION', nan, nan, nan, nan]  \\u003cbr\\u003e RFCS: ['XXXXXXXXXXXX', 'BNC8507311M4', 'XXXXXXXXXXXXX', 'BNC8507311M4', 'XXXXXXXXXXXXX'] \",\"BANK OF MONTREAL \\u003cbr\\u003eSISTEMAS PRESENTES: SIPE,SIMS\\u003cbr\\u003eNUMERO DE CLIENTES: [4, 'BKOFMO']  \\u003cbr\\u003eDIRECCIONES: ['115 SOUTH LASALLE STREET CHICAGO, ILLINOIS 60603', nan]  \\u003cbr\\u003e RFCS: ['XXXXXXXXXXXXX', 'XXXXXXXXXXXXX'] \",\"BANK OF NEW YORK \\u003cbr\\u003eSISTEMAS PRESENTES: MECA,SIPE,SIMS\\u003cbr\\u003eNUMERO DE CLIENTES: ['BANKNY', 287, 'BKOFNY']  \\u003cbr\\u003eDIRECCIONES: ['NO SE TIENE REGISTRADA LA INFORMACION', '32 OLD SLIP ROAD NY, NY 10179', nan]  \\u003cbr\\u003e RFCS: ['XXXXXXXXXXXX', 'XXXXXXXXXXXXX', 'XXXXXXXXXXXXX'] \",\"CITIBANK, NEW YORK \\u003cbr\\u003eSISTEMAS PRESENTES: MECA,SIPE,SIPE,SIMS\\u003cbr\\u003eNUMERO DE CLIENTES: ['CITINY', 250, 315, 'CITI']  \\u003cbr\\u003eDIRECCIONES: ['NO SE TIENE REGISTRADA LA INFORMACION', nan, nan, nan]  \\u003cbr\\u003e RFCS: ['XXXXXXXXXXXX', 'XXXXXXXXXXXXX', 'XXXXXXXXXXXXX', 'XXXXXXXXXXXXX'] \",\"ENLACE INT SA DE CV \\u003cbr\\u003eSISTEMAS PRESENTES: TAS,SIMS\\u003cbr\\u003eNUMERO DE CLIENTES: [1064950, 'ENLACE']  \\u003cbr\\u003eDIRECCIONES: [nan, 'TORRE ESMERALDA II,BLVD AVILA CAMACHO 36-1805']  \\u003cbr\\u003e RFCS: ['EIN961028182', 'XXXXXXXXXXXXX'] \",\"CASA DE BOLSA FINAMEX S.A.B. DE C.V. \\u003cbr\\u003eSISTEMAS PRESENTES: TAS,TAS,SIMS\\u003cbr\\u003eNUMERO DE CLIENTES: [1057506, 1057538, 'FINMX']  \\u003cbr\\u003eDIRECCIONES: [nan, nan, 'AVENIDA AM\\u00c9RICAS 1545 PISO18 Y19']  \\u003cbr\\u003e RFCS: ['CBF920629BVO', 'CBF920629BV0', 'XXXXXXXXXXXXX'] \",\"MONEX CASA DE BOLSA C.A. DE C.V. \\u003cbr\\u003eSISTEMAS PRESENTES: MECA,TAS,SIMS\\u003cbr\\u003eNUMERO DE CLIENTES: ['MONEX', 1057517, 'MONEXM']  \\u003cbr\\u003eDIRECCIONES: ['INSURGENTES SUR 1886 COL.FLORIDA', nan, 'AVENIDA PASEO DE LA REFORMA 284 PISO 15']  \\u003cbr\\u003e RFCS: ['XXX123456XXX', 'MCB860313CD6', 'XXXXXXXXXXXXX'] \",\"NACIONAL FINANCIERA SNC \\u003cbr\\u003eSISTEMAS PRESENTES: SOI,MECA,TAS,SIMS\\u003cbr\\u003eNUMERO DE CLIENTES: [12066, 'NAFIN', 100177, 'NAFIN']  \\u003cbr\\u003eDIRECCIONES: ['INSURGENTES SUR', 'INSURGENTES SUR 1971', nan, 'INSURGENTES SUR 1971, GUADALUPE INN']  \\u003cbr\\u003e RFCS: ['NFI3406305T0', 'NFI3406305TO', 'NFI3406305T0', 'XXXXXXXXXXXXX'] \",\"PETROLEOS MEXICANOS \\u003cbr\\u003eSISTEMAS PRESENTES: MECA,SIRAC,TAS,TAS,SIMS\\u003cbr\\u003eNUMERO DE CLIENTES: ['PEMEX', 4092904, 1065306, 1048332, 'PEMEX']  \\u003cbr\\u003eDIRECCIONES: ['MARINA NACIONAL', nan, nan, nan, 'MARINA NACIONAL']  \\u003cbr\\u003e RFCS: ['XXXXXXXXXXXX', 'PME380607P35', 'PME380607P35', 'PME380607P35', 'XXXXXXXXXXXXX'] \"],\"x\":[\"36957\",\"BANAME\",\"BANMEX\",\"BARC\",\"BARC-M\",\"BCOMXT\",\"BKOFMO\",\"BKOFNY\",\"CITI\",\"ENLACE\",\"FINMX\",\"MONEXM\",\"NAFIN\",\"PEMEX\"],\"y\":[2,2,2,1,2,4,1,2,3,1,2,2,3,4],\"type\":\"scatter\"}],                        {\"template\":{\"data\":{\"histogram2dcontour\":[{\"type\":\"histogram2dcontour\",\"colorbar\":{\"outlinewidth\":0,\"ticks\":\"\"},\"colorscale\":[[0.0,\"#0d0887\"],[0.1111111111111111,\"#46039f\"],[0.2222222222222222,\"#7201a8\"],[0.3333333333333333,\"#9c179e\"],[0.4444444444444444,\"#bd3786\"],[0.5555555555555556,\"#d8576b\"],[0.6666666666666666,\"#ed7953\"],[0.7777777777777778,\"#fb9f3a\"],[0.8888888888888888,\"#fdca26\"],[1.0,\"#f0f921\"]]}],\"choropleth\":[{\"type\":\"choropleth\",\"colorbar\":{\"outlinewidth\":0,\"ticks\":\"\"}}],\"histogram2d\":[{\"type\":\"histogram2d\",\"colorbar\":{\"outlinewidth\":0,\"ticks\":\"\"},\"colorscale\":[[0.0,\"#0d0887\"],[0.1111111111111111,\"#46039f\"],[0.2222222222222222,\"#7201a8\"],[0.3333333333333333,\"#9c179e\"],[0.4444444444444444,\"#bd3786\"],[0.5555555555555556,\"#d8576b\"],[0.6666666666666666,\"#ed7953\"],[0.7777777777777778,\"#fb9f3a\"],[0.8888888888888888,\"#fdca26\"],[1.0,\"#f0f921\"]]}],\"heatmap\":[{\"type\":\"heatmap\",\"colorbar\":{\"outlinewidth\":0,\"ticks\":\"\"},\"colorscale\":[[0.0,\"#0d0887\"],[0.1111111111111111,\"#46039f\"],[0.2222222222222222,\"#7201a8\"],[0.3333333333333333,\"#9c179e\"],[0.4444444444444444,\"#bd3786\"],[0.5555555555555556,\"#d8576b\"],[0.6666666666666666,\"#ed7953\"],[0.7777777777777778,\"#fb9f3a\"],[0.8888888888888888,\"#fdca26\"],[1.0,\"#f0f921\"]]}],\"heatmapgl\":[{\"type\":\"heatmapgl\",\"colorbar\":{\"outlinewidth\":0,\"ticks\":\"\"},\"colorscale\":[[0.0,\"#0d0887\"],[0.1111111111111111,\"#46039f\"],[0.2222222222222222,\"#7201a8\"],[0.3333333333333333,\"#9c179e\"],[0.4444444444444444,\"#bd3786\"],[0.5555555555555556,\"#d8576b\"],[0.6666666666666666,\"#ed7953\"],[0.7777777777777778,\"#fb9f3a\"],[0.8888888888888888,\"#fdca26\"],[1.0,\"#f0f921\"]]}],\"contourcarpet\":[{\"type\":\"contourcarpet\",\"colorbar\":{\"outlinewidth\":0,\"ticks\":\"\"}}],\"contour\":[{\"type\":\"contour\",\"colorbar\":{\"outlinewidth\":0,\"ticks\":\"\"},\"colorscale\":[[0.0,\"#0d0887\"],[0.1111111111111111,\"#46039f\"],[0.2222222222222222,\"#7201a8\"],[0.3333333333333333,\"#9c179e\"],[0.4444444444444444,\"#bd3786\"],[0.5555555555555556,\"#d8576b\"],[0.6666666666666666,\"#ed7953\"],[0.7777777777777778,\"#fb9f3a\"],[0.8888888888888888,\"#fdca26\"],[1.0,\"#f0f921\"]]}],\"surface\":[{\"type\":\"surface\",\"colorbar\":{\"outlinewidth\":0,\"ticks\":\"\"},\"colorscale\":[[0.0,\"#0d0887\"],[0.1111111111111111,\"#46039f\"],[0.2222222222222222,\"#7201a8\"],[0.3333333333333333,\"#9c179e\"],[0.4444444444444444,\"#bd3786\"],[0.5555555555555556,\"#d8576b\"],[0.6666666666666666,\"#ed7953\"],[0.7777777777777778,\"#fb9f3a\"],[0.8888888888888888,\"#fdca26\"],[1.0,\"#f0f921\"]]}],\"mesh3d\":[{\"type\":\"mesh3d\",\"colorbar\":{\"outlinewidth\":0,\"ticks\":\"\"}}],\"scatter\":[{\"fillpattern\":{\"fillmode\":\"overlay\",\"size\":10,\"solidity\":0.2},\"type\":\"scatter\"}],\"parcoords\":[{\"type\":\"parcoords\",\"line\":{\"colorbar\":{\"outlinewidth\":0,\"ticks\":\"\"}}}],\"scatterpolargl\":[{\"type\":\"scatterpolargl\",\"marker\":{\"colorbar\":{\"outlinewidth\":0,\"ticks\":\"\"}}}],\"bar\":[{\"error_x\":{\"color\":\"#2a3f5f\"},\"error_y\":{\"color\":\"#2a3f5f\"},\"marker\":{\"line\":{\"color\":\"#E5ECF6\",\"width\":0.5},\"pattern\":{\"fillmode\":\"overlay\",\"size\":10,\"solidity\":0.2}},\"type\":\"bar\"}],\"scattergeo\":[{\"type\":\"scattergeo\",\"marker\":{\"colorbar\":{\"outlinewidth\":0,\"ticks\":\"\"}}}],\"scatterpolar\":[{\"type\":\"scatterpolar\",\"marker\":{\"colorbar\":{\"outlinewidth\":0,\"ticks\":\"\"}}}],\"histogram\":[{\"marker\":{\"pattern\":{\"fillmode\":\"overlay\",\"size\":10,\"solidity\":0.2}},\"type\":\"histogram\"}],\"scattergl\":[{\"type\":\"scattergl\",\"marker\":{\"colorbar\":{\"outlinewidth\":0,\"ticks\":\"\"}}}],\"scatter3d\":[{\"type\":\"scatter3d\",\"line\":{\"colorbar\":{\"outlinewidth\":0,\"ticks\":\"\"}},\"marker\":{\"colorbar\":{\"outlinewidth\":0,\"ticks\":\"\"}}}],\"scattermapbox\":[{\"type\":\"scattermapbox\",\"marker\":{\"colorbar\":{\"outlinewidth\":0,\"ticks\":\"\"}}}],\"scatterternary\":[{\"type\":\"scatterternary\",\"marker\":{\"colorbar\":{\"outlinewidth\":0,\"ticks\":\"\"}}}],\"scattercarpet\":[{\"type\":\"scattercarpet\",\"marker\":{\"colorbar\":{\"outlinewidth\":0,\"ticks\":\"\"}}}],\"carpet\":[{\"aaxis\":{\"endlinecolor\":\"#2a3f5f\",\"gridcolor\":\"white\",\"linecolor\":\"white\",\"minorgridcolor\":\"white\",\"startlinecolor\":\"#2a3f5f\"},\"baxis\":{\"endlinecolor\":\"#2a3f5f\",\"gridcolor\":\"white\",\"linecolor\":\"white\",\"minorgridcolor\":\"white\",\"startlinecolor\":\"#2a3f5f\"},\"type\":\"carpet\"}],\"table\":[{\"cells\":{\"fill\":{\"color\":\"#EBF0F8\"},\"line\":{\"color\":\"white\"}},\"header\":{\"fill\":{\"color\":\"#C8D4E3\"},\"line\":{\"color\":\"white\"}},\"type\":\"table\"}],\"barpolar\":[{\"marker\":{\"line\":{\"color\":\"#E5ECF6\",\"width\":0.5},\"pattern\":{\"fillmode\":\"overlay\",\"size\":10,\"solidity\":0.2}},\"type\":\"barpolar\"}],\"pie\":[{\"automargin\":true,\"type\":\"pie\"}]},\"layout\":{\"autotypenumbers\":\"strict\",\"colorway\":[\"#636efa\",\"#EF553B\",\"#00cc96\",\"#ab63fa\",\"#FFA15A\",\"#19d3f3\",\"#FF6692\",\"#B6E880\",\"#FF97FF\",\"#FECB52\"],\"font\":{\"color\":\"#2a3f5f\"},\"hovermode\":\"closest\",\"hoverlabel\":{\"align\":\"left\"},\"paper_bgcolor\":\"white\",\"plot_bgcolor\":\"#E5ECF6\",\"polar\":{\"bgcolor\":\"#E5ECF6\",\"angularaxis\":{\"gridcolor\":\"white\",\"linecolor\":\"white\",\"ticks\":\"\"},\"radialaxis\":{\"gridcolor\":\"white\",\"linecolor\":\"white\",\"ticks\":\"\"}},\"ternary\":{\"bgcolor\":\"#E5ECF6\",\"aaxis\":{\"gridcolor\":\"white\",\"linecolor\":\"white\",\"ticks\":\"\"},\"baxis\":{\"gridcolor\":\"white\",\"linecolor\":\"white\",\"ticks\":\"\"},\"caxis\":{\"gridcolor\":\"white\",\"linecolor\":\"white\",\"ticks\":\"\"}},\"coloraxis\":{\"colorbar\":{\"outlinewidth\":0,\"ticks\":\"\"}},\"colorscale\":{\"sequential\":[[0.0,\"#0d0887\"],[0.1111111111111111,\"#46039f\"],[0.2222222222222222,\"#7201a8\"],[0.3333333333333333,\"#9c179e\"],[0.4444444444444444,\"#bd3786\"],[0.5555555555555556,\"#d8576b\"],[0.6666666666666666,\"#ed7953\"],[0.7777777777777778,\"#fb9f3a\"],[0.8888888888888888,\"#fdca26\"],[1.0,\"#f0f921\"]],\"sequentialminus\":[[0.0,\"#0d0887\"],[0.1111111111111111,\"#46039f\"],[0.2222222222222222,\"#7201a8\"],[0.3333333333333333,\"#9c179e\"],[0.4444444444444444,\"#bd3786\"],[0.5555555555555556,\"#d8576b\"],[0.6666666666666666,\"#ed7953\"],[0.7777777777777778,\"#fb9f3a\"],[0.8888888888888888,\"#fdca26\"],[1.0,\"#f0f921\"]],\"diverging\":[[0,\"#8e0152\"],[0.1,\"#c51b7d\"],[0.2,\"#de77ae\"],[0.3,\"#f1b6da\"],[0.4,\"#fde0ef\"],[0.5,\"#f7f7f7\"],[0.6,\"#e6f5d0\"],[0.7,\"#b8e186\"],[0.8,\"#7fbc41\"],[0.9,\"#4d9221\"],[1,\"#276419\"]]},\"xaxis\":{\"gridcolor\":\"white\",\"linecolor\":\"white\",\"ticks\":\"\",\"title\":{\"standoff\":15},\"zerolinecolor\":\"white\",\"automargin\":true,\"zerolinewidth\":2},\"yaxis\":{\"gridcolor\":\"white\",\"linecolor\":\"white\",\"ticks\":\"\",\"title\":{\"standoff\":15},\"zerolinecolor\":\"white\",\"automargin\":true,\"zerolinewidth\":2},\"scene\":{\"xaxis\":{\"backgroundcolor\":\"#E5ECF6\",\"gridcolor\":\"white\",\"linecolor\":\"white\",\"showbackground\":true,\"ticks\":\"\",\"zerolinecolor\":\"white\",\"gridwidth\":2},\"yaxis\":{\"backgroundcolor\":\"#E5ECF6\",\"gridcolor\":\"white\",\"linecolor\":\"white\",\"showbackground\":true,\"ticks\":\"\",\"zerolinecolor\":\"white\",\"gridwidth\":2},\"zaxis\":{\"backgroundcolor\":\"#E5ECF6\",\"gridcolor\":\"white\",\"linecolor\":\"white\",\"showbackground\":true,\"ticks\":\"\",\"zerolinecolor\":\"white\",\"gridwidth\":2}},\"shapedefaults\":{\"line\":{\"color\":\"#2a3f5f\"}},\"annotationdefaults\":{\"arrowcolor\":\"#2a3f5f\",\"arrowhead\":0,\"arrowwidth\":1},\"geo\":{\"bgcolor\":\"white\",\"landcolor\":\"#E5ECF6\",\"subunitcolor\":\"white\",\"showland\":true,\"showlakes\":true,\"lakecolor\":\"white\"},\"title\":{\"x\":0.05},\"mapbox\":{\"style\":\"light\"}}},\"title\":{\"text\":\"Dispersi\\u00f3n de clientes y sistemas SIMS y sistemas\"},\"xaxis\":{\"title\":{\"text\":\"ID_ORIGEN\"}},\"yaxis\":{\"title\":{\"text\":\"Count\"}}},                        {\"responsive\": true}                    ).then(function(){\n",
       "                            \n",
       "var gd = document.getElementById('5155d948-2c8d-478b-92b8-6047316abfe1');\n",
       "var x = new MutationObserver(function (mutations, observer) {{\n",
       "        var display = window.getComputedStyle(gd).display;\n",
       "        if (!display || display === 'none') {{\n",
       "            console.log([gd, 'removed!']);\n",
       "            Plotly.purge(gd);\n",
       "            observer.disconnect();\n",
       "        }}\n",
       "}});\n",
       "\n",
       "// Listen for the removal of the full notebook cells\n",
       "var notebookContainer = gd.closest('#notebook-container');\n",
       "if (notebookContainer) {{\n",
       "    x.observe(notebookContainer, {childList: true});\n",
       "}}\n",
       "\n",
       "// Listen for the clearing of the current output cell\n",
       "var outputEl = gd.closest('.output');\n",
       "if (outputEl) {{\n",
       "    x.observe(outputEl, {childList: true});\n",
       "}}\n",
       "\n",
       "                        })                };                });            </script>        </div>"
      ]
     },
     "metadata": {},
     "output_type": "display_data"
    }
   ],
   "source": [
    "dfs_comp = [df_soi ,df_meca , df_sirac , df_sipe ,df_tas]\n",
    "grouped_df_sims, comparacion_sims = clts_repetidos( df_sims, dfs_comp, \"NOMBRE_O_RAZON_SOCIAL\", 93, \"SIMS y sistemas\")"
   ]
  },
  {
   "cell_type": "code",
   "execution_count": null,
   "metadata": {},
   "outputs": [],
   "source": [
    "grouped_df_sims"
   ]
  },
  {
   "cell_type": "markdown",
   "metadata": {},
   "source": [
    "# SIPE VS LOS SISTEMAS TRANSACCIONALES"
   ]
  },
  {
   "cell_type": "code",
   "execution_count": 151,
   "metadata": {},
   "outputs": [
    {
     "data": {
      "application/vnd.plotly.v1+json": {
       "config": {
        "plotlyServerURL": "https://plot.ly"
       },
       "data": [
        {
         "hovertemplate": "%{text}",
         "marker": {
          "color": "blue",
          "size": 10
         },
         "mode": "markers",
         "text": [
          "BANK OF MONTREAL <br>SISTEMAS PRESENTES: SIMS,SIPE<br>NUMERO DE CLIENTES: ['BKOFMO', 4]  <br>DIRECCIONES: [nan, '115 SOUTH LASALLE STREET CHICAGO, ILLINOIS 60603']  <br> RFCS: ['XXXXXXXXXXXXX', 'XXXXXXXXXXXXX'] ",
          "UNION BANK OF SWITZERLAND <br>SISTEMAS PRESENTES: SOI,MECA,SIPE<br>NUMERO DE CLIENTES: [10459, 'UBS', 5]  <br>DIRECCIONES: [nan, 'NO SE TIENE REGISTRADA LA INFORMACION', '299 PARK AVENUE, NEW YORK, NY 10171-0026']  <br> RFCS: ['XXXXXXXXXXXXX', 'XXXXXXXXXXXX', 'XXXXXXXXXXXXX'] ",
          "STANDARD CHARTERED BANK <br>SISTEMAS PRESENTES: SOI,SIPE<br>NUMERO DE CLIENTES: [10463, 10]  <br>DIRECCIONES: ['AVENUE OF THE AMERICAS -- AVENUE OF THE AMERICAS', '160 WATER STREET, NEW YORK, NY. 10038-4995']  <br> RFCS: ['XXXXXXXXXXXXX', 'XXXXXXXXXXXXX'] ",
          "BANCO INTERACCIONES, S.A <br>SISTEMAS PRESENTES: MECA,TAS,SIPE<br>NUMERO DE CLIENTES: ['INTERA', 1060001, 13]  <br>DIRECCIONES: ['NO SE TIENE REGISTRADA LA INFORMACION', nan, 'PASEO DE LA REFORMA 383 PISO 14 COL CUAHTEMOC CP 06500']  <br> RFCS: ['XXXXXXXXXXXX', 'XXXXXXXXXXXXX', 'BIN931011519'] ",
          "BANCO SANTANDER MEXICANO <br>SISTEMAS PRESENTES: TAS,SIPE<br>NUMERO DE CLIENTES: [1060010, 14]  <br>DIRECCIONES: [nan, '235 5TH AVENUE NEW YORK, NY 10016']  <br> RFCS: ['XXXXXXXXXXXXX', 'XXXXXXXXXXXXX'] ",
          "BANCO SANTANDER MEXICO <br>SISTEMAS PRESENTES: SIRAC,SIPE<br>NUMERO DE CLIENTES: [23422459, 18]  <br>DIRECCIONES: [nan, 'PROL. PASEO DE LA REFORMA 500, COL. LOMAS DE SANTA FE']  <br> RFCS: ['BSM970519DU8', 'BSM970519DU8'] ",
          "BANCO DEL ATLANTICO <br>SISTEMAS PRESENTES: MECA,SIPE<br>NUMERO DE CLIENTES: ['ATLAN', 20]  <br>DIRECCIONES: ['NO SE TIENE REGISTRADA LA INFORMACION', nan]  <br> RFCS: ['XXXXXXXXXXXX', 'XXXXXXXXXXXXX'] ",
          "BANCO DEL CENTRO <br>SISTEMAS PRESENTES: MECA,SIPE<br>NUMERO DE CLIENTES: ['BCDM', 21]  <br>DIRECCIONES: ['NO SE TIENE REGISTRADA LA INFORMACION', nan]  <br> RFCS: ['XXXXXXXXXXXX', 'XXXXXXXXXXXXX'] ",
          "BANCO MERCANTIL DEL NORTE <br>SISTEMAS PRESENTES: MECA,SIPE<br>NUMERO DE CLIENTES: ['BMNO', 22]  <br>DIRECCIONES: ['NO SE TIENE REGISTRADA LA INFORMACION', 'ZARAGOZA 920 SUR MONTERREY NUEVO LEON']  <br> RFCS: ['XXX123456XXX', 'XXXXXXXXXXXXX'] ",
          "BANCO INBURSA, S.A. <br>SISTEMAS PRESENTES: TAS,SIPE<br>NUMERO DE CLIENTES: [1060016, 23]  <br>DIRECCIONES: [nan, 'PASEO DE LAS PALMAS 736 LOMAS DE CHAPULTEPEC CP 11000']  <br> RFCS: ['XXXXXXXXXXXXX', 'XXXXXXXXXXXXX'] ",
          "BANOBRAS <br>SISTEMAS PRESENTES: MECA,SIPE<br>NUMERO DE CLIENTES: ['BANOB', 24]  <br>DIRECCIONES: ['NO SE TIENE REGISTRADA LA INFORMACION', 'JAVIER BARROS SIERA 515, LOMAS DE SANTA FE, MEXICO']  <br> RFCS: ['XXXXXXXXXXXX', 'BNO670315CDO'] ",
          "NAFIN SECURITIES <br>SISTEMAS PRESENTES: MECA,MECA,SIPE<br>NUMERO DE CLIENTES: ['SECURI', 'NAFSEC', 28]  <br>DIRECCIONES: ['P', 'NO SE TIENE REGISTRADA LA INFORMACION', nan]  <br> RFCS: ['XXX123456XXX', 'XXXXXXXXXXXX', 'XXXXXXXXXXXXX'] ",
          "COMISION FEDERAL ELECTRICIDAD <br>SISTEMAS PRESENTES: TAS,TAS,SIPE<br>NUMERO DE CLIENTES: [6009267, 1064268, 39]  <br>DIRECCIONES: [nan, nan, nan]  <br> RFCS: ['CFE370814QI0', 'CFE370814QI0', 'XXXXXXXXXXXXX'] ",
          "BANK OF AMERICA SAN FRANCISCO <br>SISTEMAS PRESENTES: MECA,SIPE<br>NUMERO DE CLIENTES: ['BOFAS', 40]  <br>DIRECCIONES: ['NO SE TIENE REGISTRADA LA INFORMACION', 'GATEWAY 1850 BLVD. CONCORD CALIFORNIA']  <br> RFCS: ['XXXXXXXXXXXX', 'XXXXXXXXXXXXX'] ",
          "BANCA CREMI, S.A. <br>SISTEMAS PRESENTES: MECA,SIPE<br>NUMERO DE CLIENTES: ['BCDI', 77]  <br>DIRECCIONES: ['NO SE TIENE REGISTRADA LA INFORMACION', nan]  <br> RFCS: ['XXXXXXXXXXXX', 'XXXXXXXXXXXXX'] ",
          "BANCO DE ORIENTE, S.A. <br>SISTEMAS PRESENTES: MECA,SIPE<br>NUMERO DE CLIENTES: ['BORI', 78]  <br>DIRECCIONES: ['NO SE TIENE REGISTRADA LA INFORMACION', nan]  <br> RFCS: ['XXXXXXXXXXXX', 'XXXXXXXXXXXXX'] ",
          "BANCO INDUSTRIAL, S.A. <br>SISTEMAS PRESENTES: MECA,TAS,SIPE<br>NUMERO DE CLIENTES: ['INDUS', 1060031, 104]  <br>DIRECCIONES: ['NO SE TIENE REGISTRADA LA INFORMACION', nan, nan]  <br> RFCS: ['XXXXXXXXXXXX', 'XXXXXXXXXXXXX', 'XXXXXXXXXXXXX'] ",
          "BANCO DEL BAJIO, S.A. <br>SISTEMAS PRESENTES: MECA,TAS,TAS,SIPE<br>NUMERO DE CLIENTES: ['BANJIO', 1060022, 999899, 209]  <br>DIRECCIONES: ['NO SE TIENE REGISTRADA LA INFORMACION', nan, nan, nan]  <br> RFCS: ['XXXXXXXXXXXX', 'XXXXXXXXXXXXX', 'BBA940707IE1', 'XXXXXXXXXXXXX'] ",
          "BANCO DE MEXICO <br>SISTEMAS PRESENTES: MECA,TAS,SIPE<br>NUMERO DE CLIENTES: ['BXICO', 1040153, 220]  <br>DIRECCIONES: ['NO SE TIENE REGISTRADA LA INFORMACION', nan, 'AV. 5 DE MAYO 2 COLONIA CENTRO DELEGACION CUAUHTEMOC.CP06000']  <br> RFCS: ['XXXXXXXXXXXX', 'BNM840515VB2', 'XXXXXXXXXXXXX'] ",
          "CITIBANK MEXICO, S.A. <br>SISTEMAS PRESENTES: MECA,SIPE<br>NUMERO DE CLIENTES: ['CBMX', 221]  <br>DIRECCIONES: ['NO SE TIENE REGISTRADA LA INFORMACION', 'REFORMA 390 COL. JUAREZ CP 06695 MEXICO, DF']  <br> RFCS: ['XXXXXXXXXXXX', 'XXXXXXXXXXXXX'] ",
          "BANK BOSTON MEXICO <br>SISTEMAS PRESENTES: MECA,TAS,SIPE<br>NUMERO DE CLIENTES: ['BOSTON', 1060000, 246]  <br>DIRECCIONES: ['NO SE TIENE REGISTRADA LA INFORMACION', nan, nan]  <br> RFCS: ['XXXXXXXXXXXX', 'XXXXXXXXXXXXX', 'XXXXXXXXXXXXX'] ",
          "BANCO BILBAO VIZCAYA MEXICO <br>SISTEMAS PRESENTES: MECA,SIPE<br>NUMERO DE CLIENTES: ['BBVI', 247]  <br>DIRECCIONES: ['NO SE TIENE REGISTRADA LA INFORMACION', nan]  <br> RFCS: ['XXXXXXXXXXXX', 'XXXXXXXXXXXXX'] ",
          "DRESDNER BANK, MEXICO <br>SISTEMAS PRESENTES: MECA,SIPE<br>NUMERO DE CLIENTES: ['DRESBK', 248]  <br>DIRECCIONES: ['BOSQUE DE ALISOS 47B - PISO 4', nan]  <br> RFCS: ['XXXXXXXXXXXX', 'XXXXXXXXXXXXX'] ",
          "CITIBANK NEW YORK <br>SISTEMAS PRESENTES: MECA,SIMS,SIPE<br>NUMERO DE CLIENTES: ['CITINY', 'CITI', 250]  <br>DIRECCIONES: ['NO SE TIENE REGISTRADA LA INFORMACION', nan, nan]  <br> RFCS: ['XXXXXXXXXXXX', 'XXXXXXXXXXXXX', 'XXXXXXXXXXXXX'] ",
          "GOBIERNO FEDERAL <br>SISTEMAS PRESENTES: TAS,SIPE<br>NUMERO DE CLIENTES: [100003, 254]  <br>DIRECCIONES: [nan, nan]  <br> RFCS: ['NFI3406305T0', 'XXXXXXXXXXXXX'] ",
          "BANK OF MONTREAL, CHICAGO  M <br>SISTEMAS PRESENTES: MECA,SIPE<br>NUMERO DE CLIENTES: ['BKMONT', 257]  <br>DIRECCIONES: ['115 SOUTH LA SALLE STREET 19TH FLOOR W.', nan]  <br> RFCS: ['XXXXXXXXXXXX', 'XXXXXXXXXXXXX'] ",
          "GE CAPITAL BANK, S.A. <br>SISTEMAS PRESENTES: TAS,SIPE<br>NUMERO DE CLIENTES: [1060032, 278]  <br>DIRECCIONES: [nan, 'AV. STA. FE 495 COL. CRUZ MANCA CUAJIMALPA 05349 MEX. D.F.']  <br> RFCS: ['XXXXXXXXXXXXX', 'XXXXXXXXXXXXX'] ",
          "BANK OF NEW YORK CO. <br>SISTEMAS PRESENTES: MECA,SIMS,SIPE<br>NUMERO DE CLIENTES: ['BANKNY', 'BKOFNY', 287]  <br>DIRECCIONES: ['NO SE TIENE REGISTRADA LA INFORMACION', nan, '32 OLD SLIP ROAD NY, NY 10179']  <br> RFCS: ['XXXXXXXXXXXX', 'XXXXXXXXXXXXX', 'XXXXXXXXXXXXX'] ",
          "BEAR STEARNS & CO. INC. <br>SISTEMAS PRESENTES: MECA,SIPE<br>NUMERO DE CLIENTES: ['BSTEAR', 288]  <br>DIRECCIONES: ['P', '383 MADISON AVENUE NY, NY 10179']  <br> RFCS: ['XXX123456XXX', 'XXXXXXXXXXXXX'] ",
          "NATEXIS BANQUES POPULAIRES NY <br>SISTEMAS PRESENTES: SOI,SIPE<br>NUMERO DE CLIENTES: [9005, 291]  <br>DIRECCIONES: ['AVENUE PIRRE MENDES FRANC -- RUE SAINT DOMINIQUE', '1251 AV OF THE AMERICAS 34TH FLOOR NY NY 10020']  <br> RFCS: ['XXXXXXXXXXXXX', 'XXXXXXXXXXXXX'] ",
          "BANCO VE POR MAS, S.A. <br>SISTEMAS PRESENTES: SIRAC,SIPE<br>NUMERO DE CLIENTES: [3912912, 302]  <br>DIRECCIONES: [nan, 'AV. PASEO DE LA REFORMA 365 PISO 2 COL CUAUHTEMOC DF 06500']  <br> RFCS: ['BVM951002LX0', 'XXXXXXXXXXXXX'] ",
          "IXE BANCO S.A. <br>SISTEMAS PRESENTES: MECA,TAS,TAS,SIPE<br>NUMERO DE CLIENTES: ['IXE', 1060028, 1037284, 304]  <br>DIRECCIONES: ['JOSE LUIS LAGRANGE 103', nan, nan, 'AV. PAE DE LA REFORMA 505 PISO 47, COLONIA CUAUHTEMOC CP 065']  <br> RFCS: ['XXXXXXXXXXXX', 'XXXXXXXXXXXXX', 'IBA950503GTA', 'XXXXXXXXXXXXX'] ",
          "BANCA AFIRME, S.A. <br>SISTEMAS PRESENTES: TAS,SIPE<br>NUMERO DE CLIENTES: [1041222, 306]  <br>DIRECCIONES: [nan, 'JUÁREZ SUR 800 PISO 9 COL. CENTRO MONTERREY NUEVO LEÓN 64000']  <br> RFCS: ['BAF950102JP5', 'BAF950102JP5'] ",
          "MIZUHO CORPORATE BANK LTD, NEW YORK <br>SISTEMAS PRESENTES: SOI,SIPE<br>NUMERO DE CLIENTES: [9041, 309]  <br>DIRECCIONES: ['AV. AMERICAS PISO 31 -- AV. LAS AMERICAS PISO 31 -- NA', '1251 AVENUE OF THE AMERICAS NEW YORK, NEW YORK 10020']  <br> RFCS: ['XXXXXXXXXXXXX', 'XXXXXXXXXXXXX'] ",
          "DEUTSCHE BANK FRANKFURT <br>SISTEMAS PRESENTES: MECA,SIPE<br>NUMERO DE CLIENTES: ['DEUTCH', 312]  <br>DIRECCIONES: ['FRANKFURT ALEMANIA', nan]  <br> RFCS: ['XXXXXXXXXXXX', 'XXXXXXXXXXXXX'] ",
          "STANDARD CHARTERED BANK <br>SISTEMAS PRESENTES: SOI,SIPE<br>NUMERO DE CLIENTES: [10463, 314]  <br>DIRECCIONES: ['AVENUE OF THE AMERICAS -- AVENUE OF THE AMERICAS', nan]  <br> RFCS: ['XXXXXXXXXXXXX', 'XXXXXXXXXXXXX'] ",
          "CITIBANK N.A. NEW YORK <br>SISTEMAS PRESENTES: MECA,SIMS,SIPE<br>NUMERO DE CLIENTES: ['CITINY', 'CITI', 315]  <br>DIRECCIONES: ['NO SE TIENE REGISTRADA LA INFORMACION', nan, nan]  <br> RFCS: ['XXXXXXXXXXXX', 'XXXXXXXXXXXXX', 'XXXXXXXXXXXXX'] ",
          "BARCLAYS BANK  PLC NEW YORK <br>SISTEMAS PRESENTES: SIMS,SIPE<br>NUMERO DE CLIENTES: ['BARC', 319]  <br>DIRECCIONES: [nan, nan]  <br> RFCS: ['XXXXXXXXXXXXX', 'XXXXXXXXXXXXX'] ",
          "HSBC MEXICO, S.A. <br>SISTEMAS PRESENTES: TAS,SIPE<br>NUMERO DE CLIENTES: [1060036, 320]  <br>DIRECCIONES: [nan, 'REFORMA 156-PISO 3,  MEXICO, D.F.']  <br> RFCS: ['XXXXXXXXXXXXX', 'HMI950125KG8'] ",
          "BANK OF AMERICA, N.A. <br>SISTEMAS PRESENTES: SOI,SIPE<br>NUMERO DE CLIENTES: [7912, 325]  <br>DIRECCIONES: ['ONE BRYANT PARK -- ONE BRYANT PARK', nan]  <br> RFCS: ['XXXXXXXXXXXXX', 'XXXXXXXXXXXXX'] ",
          "BANCO J.P. MORGAN MEXICO <br>SISTEMAS PRESENTES: MECA,TAS,SIPE<br>NUMERO DE CLIENTES: ['JPMOR', 987671, 327]  <br>DIRECCIONES: ['NO SE TIENE REGISTRADA LA INFORMACION', nan, 'PASEO DE LAS PALMAS NUM 405 PISO 16 LOMAS DE CHAPULTEPEC']  <br> RFCS: ['XXXXXXXXXXXX', 'BJP950104LJ5', 'TME840315KT6'] ",
          "BANK OF AMERICA MEXICO <br>SISTEMAS PRESENTES: MECA,MECA,TAS,SIPE<br>NUMERO DE CLIENTES: ['BANKAM', 'BOFA', 1060026, 339]  <br>DIRECCIONES: ['PASEO DE LA REFORMA 116', 'NO SE TIENE REGISTRADA LA INFORMACION', nan, 'PEDREGAL #24, PISO 22, MOLINO DEL REY, MIGUEL HIDALGO, 11040']  <br> RFCS: ['XXXXXXXXXXXX', 'XXXXXXXXXXXX', 'XXXXXXXXXXXXX', 'XXXXXXXXXXXXX'] ",
          "BANK OF NEW YORK MELLON <br>SISTEMAS PRESENTES: SOI,SIPE<br>NUMERO DE CLIENTES: [90432, 341]  <br>DIRECCIONES: ['BARCLAY STREET -- BARCLAY STREET -- BARCLAY STREET', 'NEW YORK']  <br> RFCS: ['XXXXXXXXXXXXX', 'XXXXXXXXXXXXX'] ",
          "BANK OF NEW YORK MELLON <br>SISTEMAS PRESENTES: SOI,SIPE<br>NUMERO DE CLIENTES: [90432, 343]  <br>DIRECCIONES: ['BARCLAY STREET -- BARCLAY STREET -- BARCLAY STREET', '225 LIBERTY STREET']  <br> RFCS: ['XXXXXXXXXXXXX', 'XXXXXXXXXXXXX'] ",
          "BARCLAYS BANK, MEXICO <br>SISTEMAS PRESENTES: SIMS,SIPE<br>NUMERO DE CLIENTES: ['BARC-M', 344]  <br>DIRECCIONES: ['PASEO DE LA REFORMA 5052, PISO 41, CUAUHTÉMOC', 'PASEO DE LA REFORMA NUM.505 PISO 41 COL. CUAUHTEMOC 06500']  <br> RFCS: ['XXXXXXXXXXXXX', 'BBM060102M82'] ",
          "BARCLAYS BANK MEXICO <br>SISTEMAS PRESENTES: SIMS,SIPE<br>NUMERO DE CLIENTES: ['BARC-M', 345]  <br>DIRECCIONES: ['PASEO DE LA REFORMA 5052, PISO 41, CUAUHTÉMOC', 'AV. PASEO DE LA REFORMA 505 COL. CUAHUTEMOC']  <br> RFCS: ['XXXXXXXXXXXXX', 'BBM060102M82'] "
         ],
         "type": "scatter",
         "x": [
          "4",
          "5",
          "10",
          "13",
          "14",
          "18",
          "20",
          "21",
          "22",
          "23",
          "24",
          "28",
          "39",
          "40",
          "77",
          "78",
          "104",
          "209",
          "220",
          "221",
          "246",
          "247",
          "248",
          "250",
          "254",
          "257",
          "278",
          "287",
          "288",
          "291",
          "302",
          "304",
          "306",
          "309",
          "312",
          "314",
          "315",
          "319",
          "320",
          "325",
          "327",
          "339",
          "341",
          "343",
          "344",
          "345"
         ],
         "y": [
          1,
          2,
          1,
          2,
          1,
          1,
          1,
          1,
          1,
          1,
          1,
          2,
          2,
          1,
          1,
          1,
          2,
          3,
          2,
          1,
          2,
          1,
          1,
          2,
          1,
          1,
          1,
          2,
          1,
          1,
          1,
          3,
          1,
          1,
          1,
          1,
          2,
          1,
          1,
          1,
          2,
          3,
          1,
          1,
          1,
          1
         ]
        }
       ],
       "layout": {
        "template": {
         "data": {
          "bar": [
           {
            "error_x": {
             "color": "#2a3f5f"
            },
            "error_y": {
             "color": "#2a3f5f"
            },
            "marker": {
             "line": {
              "color": "#E5ECF6",
              "width": 0.5
             },
             "pattern": {
              "fillmode": "overlay",
              "size": 10,
              "solidity": 0.2
             }
            },
            "type": "bar"
           }
          ],
          "barpolar": [
           {
            "marker": {
             "line": {
              "color": "#E5ECF6",
              "width": 0.5
             },
             "pattern": {
              "fillmode": "overlay",
              "size": 10,
              "solidity": 0.2
             }
            },
            "type": "barpolar"
           }
          ],
          "carpet": [
           {
            "aaxis": {
             "endlinecolor": "#2a3f5f",
             "gridcolor": "white",
             "linecolor": "white",
             "minorgridcolor": "white",
             "startlinecolor": "#2a3f5f"
            },
            "baxis": {
             "endlinecolor": "#2a3f5f",
             "gridcolor": "white",
             "linecolor": "white",
             "minorgridcolor": "white",
             "startlinecolor": "#2a3f5f"
            },
            "type": "carpet"
           }
          ],
          "choropleth": [
           {
            "colorbar": {
             "outlinewidth": 0,
             "ticks": ""
            },
            "type": "choropleth"
           }
          ],
          "contour": [
           {
            "colorbar": {
             "outlinewidth": 0,
             "ticks": ""
            },
            "colorscale": [
             [
              0,
              "#0d0887"
             ],
             [
              0.1111111111111111,
              "#46039f"
             ],
             [
              0.2222222222222222,
              "#7201a8"
             ],
             [
              0.3333333333333333,
              "#9c179e"
             ],
             [
              0.4444444444444444,
              "#bd3786"
             ],
             [
              0.5555555555555556,
              "#d8576b"
             ],
             [
              0.6666666666666666,
              "#ed7953"
             ],
             [
              0.7777777777777778,
              "#fb9f3a"
             ],
             [
              0.8888888888888888,
              "#fdca26"
             ],
             [
              1,
              "#f0f921"
             ]
            ],
            "type": "contour"
           }
          ],
          "contourcarpet": [
           {
            "colorbar": {
             "outlinewidth": 0,
             "ticks": ""
            },
            "type": "contourcarpet"
           }
          ],
          "heatmap": [
           {
            "colorbar": {
             "outlinewidth": 0,
             "ticks": ""
            },
            "colorscale": [
             [
              0,
              "#0d0887"
             ],
             [
              0.1111111111111111,
              "#46039f"
             ],
             [
              0.2222222222222222,
              "#7201a8"
             ],
             [
              0.3333333333333333,
              "#9c179e"
             ],
             [
              0.4444444444444444,
              "#bd3786"
             ],
             [
              0.5555555555555556,
              "#d8576b"
             ],
             [
              0.6666666666666666,
              "#ed7953"
             ],
             [
              0.7777777777777778,
              "#fb9f3a"
             ],
             [
              0.8888888888888888,
              "#fdca26"
             ],
             [
              1,
              "#f0f921"
             ]
            ],
            "type": "heatmap"
           }
          ],
          "heatmapgl": [
           {
            "colorbar": {
             "outlinewidth": 0,
             "ticks": ""
            },
            "colorscale": [
             [
              0,
              "#0d0887"
             ],
             [
              0.1111111111111111,
              "#46039f"
             ],
             [
              0.2222222222222222,
              "#7201a8"
             ],
             [
              0.3333333333333333,
              "#9c179e"
             ],
             [
              0.4444444444444444,
              "#bd3786"
             ],
             [
              0.5555555555555556,
              "#d8576b"
             ],
             [
              0.6666666666666666,
              "#ed7953"
             ],
             [
              0.7777777777777778,
              "#fb9f3a"
             ],
             [
              0.8888888888888888,
              "#fdca26"
             ],
             [
              1,
              "#f0f921"
             ]
            ],
            "type": "heatmapgl"
           }
          ],
          "histogram": [
           {
            "marker": {
             "pattern": {
              "fillmode": "overlay",
              "size": 10,
              "solidity": 0.2
             }
            },
            "type": "histogram"
           }
          ],
          "histogram2d": [
           {
            "colorbar": {
             "outlinewidth": 0,
             "ticks": ""
            },
            "colorscale": [
             [
              0,
              "#0d0887"
             ],
             [
              0.1111111111111111,
              "#46039f"
             ],
             [
              0.2222222222222222,
              "#7201a8"
             ],
             [
              0.3333333333333333,
              "#9c179e"
             ],
             [
              0.4444444444444444,
              "#bd3786"
             ],
             [
              0.5555555555555556,
              "#d8576b"
             ],
             [
              0.6666666666666666,
              "#ed7953"
             ],
             [
              0.7777777777777778,
              "#fb9f3a"
             ],
             [
              0.8888888888888888,
              "#fdca26"
             ],
             [
              1,
              "#f0f921"
             ]
            ],
            "type": "histogram2d"
           }
          ],
          "histogram2dcontour": [
           {
            "colorbar": {
             "outlinewidth": 0,
             "ticks": ""
            },
            "colorscale": [
             [
              0,
              "#0d0887"
             ],
             [
              0.1111111111111111,
              "#46039f"
             ],
             [
              0.2222222222222222,
              "#7201a8"
             ],
             [
              0.3333333333333333,
              "#9c179e"
             ],
             [
              0.4444444444444444,
              "#bd3786"
             ],
             [
              0.5555555555555556,
              "#d8576b"
             ],
             [
              0.6666666666666666,
              "#ed7953"
             ],
             [
              0.7777777777777778,
              "#fb9f3a"
             ],
             [
              0.8888888888888888,
              "#fdca26"
             ],
             [
              1,
              "#f0f921"
             ]
            ],
            "type": "histogram2dcontour"
           }
          ],
          "mesh3d": [
           {
            "colorbar": {
             "outlinewidth": 0,
             "ticks": ""
            },
            "type": "mesh3d"
           }
          ],
          "parcoords": [
           {
            "line": {
             "colorbar": {
              "outlinewidth": 0,
              "ticks": ""
             }
            },
            "type": "parcoords"
           }
          ],
          "pie": [
           {
            "automargin": true,
            "type": "pie"
           }
          ],
          "scatter": [
           {
            "fillpattern": {
             "fillmode": "overlay",
             "size": 10,
             "solidity": 0.2
            },
            "type": "scatter"
           }
          ],
          "scatter3d": [
           {
            "line": {
             "colorbar": {
              "outlinewidth": 0,
              "ticks": ""
             }
            },
            "marker": {
             "colorbar": {
              "outlinewidth": 0,
              "ticks": ""
             }
            },
            "type": "scatter3d"
           }
          ],
          "scattercarpet": [
           {
            "marker": {
             "colorbar": {
              "outlinewidth": 0,
              "ticks": ""
             }
            },
            "type": "scattercarpet"
           }
          ],
          "scattergeo": [
           {
            "marker": {
             "colorbar": {
              "outlinewidth": 0,
              "ticks": ""
             }
            },
            "type": "scattergeo"
           }
          ],
          "scattergl": [
           {
            "marker": {
             "colorbar": {
              "outlinewidth": 0,
              "ticks": ""
             }
            },
            "type": "scattergl"
           }
          ],
          "scattermapbox": [
           {
            "marker": {
             "colorbar": {
              "outlinewidth": 0,
              "ticks": ""
             }
            },
            "type": "scattermapbox"
           }
          ],
          "scatterpolar": [
           {
            "marker": {
             "colorbar": {
              "outlinewidth": 0,
              "ticks": ""
             }
            },
            "type": "scatterpolar"
           }
          ],
          "scatterpolargl": [
           {
            "marker": {
             "colorbar": {
              "outlinewidth": 0,
              "ticks": ""
             }
            },
            "type": "scatterpolargl"
           }
          ],
          "scatterternary": [
           {
            "marker": {
             "colorbar": {
              "outlinewidth": 0,
              "ticks": ""
             }
            },
            "type": "scatterternary"
           }
          ],
          "surface": [
           {
            "colorbar": {
             "outlinewidth": 0,
             "ticks": ""
            },
            "colorscale": [
             [
              0,
              "#0d0887"
             ],
             [
              0.1111111111111111,
              "#46039f"
             ],
             [
              0.2222222222222222,
              "#7201a8"
             ],
             [
              0.3333333333333333,
              "#9c179e"
             ],
             [
              0.4444444444444444,
              "#bd3786"
             ],
             [
              0.5555555555555556,
              "#d8576b"
             ],
             [
              0.6666666666666666,
              "#ed7953"
             ],
             [
              0.7777777777777778,
              "#fb9f3a"
             ],
             [
              0.8888888888888888,
              "#fdca26"
             ],
             [
              1,
              "#f0f921"
             ]
            ],
            "type": "surface"
           }
          ],
          "table": [
           {
            "cells": {
             "fill": {
              "color": "#EBF0F8"
             },
             "line": {
              "color": "white"
             }
            },
            "header": {
             "fill": {
              "color": "#C8D4E3"
             },
             "line": {
              "color": "white"
             }
            },
            "type": "table"
           }
          ]
         },
         "layout": {
          "annotationdefaults": {
           "arrowcolor": "#2a3f5f",
           "arrowhead": 0,
           "arrowwidth": 1
          },
          "autotypenumbers": "strict",
          "coloraxis": {
           "colorbar": {
            "outlinewidth": 0,
            "ticks": ""
           }
          },
          "colorscale": {
           "diverging": [
            [
             0,
             "#8e0152"
            ],
            [
             0.1,
             "#c51b7d"
            ],
            [
             0.2,
             "#de77ae"
            ],
            [
             0.3,
             "#f1b6da"
            ],
            [
             0.4,
             "#fde0ef"
            ],
            [
             0.5,
             "#f7f7f7"
            ],
            [
             0.6,
             "#e6f5d0"
            ],
            [
             0.7,
             "#b8e186"
            ],
            [
             0.8,
             "#7fbc41"
            ],
            [
             0.9,
             "#4d9221"
            ],
            [
             1,
             "#276419"
            ]
           ],
           "sequential": [
            [
             0,
             "#0d0887"
            ],
            [
             0.1111111111111111,
             "#46039f"
            ],
            [
             0.2222222222222222,
             "#7201a8"
            ],
            [
             0.3333333333333333,
             "#9c179e"
            ],
            [
             0.4444444444444444,
             "#bd3786"
            ],
            [
             0.5555555555555556,
             "#d8576b"
            ],
            [
             0.6666666666666666,
             "#ed7953"
            ],
            [
             0.7777777777777778,
             "#fb9f3a"
            ],
            [
             0.8888888888888888,
             "#fdca26"
            ],
            [
             1,
             "#f0f921"
            ]
           ],
           "sequentialminus": [
            [
             0,
             "#0d0887"
            ],
            [
             0.1111111111111111,
             "#46039f"
            ],
            [
             0.2222222222222222,
             "#7201a8"
            ],
            [
             0.3333333333333333,
             "#9c179e"
            ],
            [
             0.4444444444444444,
             "#bd3786"
            ],
            [
             0.5555555555555556,
             "#d8576b"
            ],
            [
             0.6666666666666666,
             "#ed7953"
            ],
            [
             0.7777777777777778,
             "#fb9f3a"
            ],
            [
             0.8888888888888888,
             "#fdca26"
            ],
            [
             1,
             "#f0f921"
            ]
           ]
          },
          "colorway": [
           "#636efa",
           "#EF553B",
           "#00cc96",
           "#ab63fa",
           "#FFA15A",
           "#19d3f3",
           "#FF6692",
           "#B6E880",
           "#FF97FF",
           "#FECB52"
          ],
          "font": {
           "color": "#2a3f5f"
          },
          "geo": {
           "bgcolor": "white",
           "lakecolor": "white",
           "landcolor": "#E5ECF6",
           "showlakes": true,
           "showland": true,
           "subunitcolor": "white"
          },
          "hoverlabel": {
           "align": "left"
          },
          "hovermode": "closest",
          "mapbox": {
           "style": "light"
          },
          "paper_bgcolor": "white",
          "plot_bgcolor": "#E5ECF6",
          "polar": {
           "angularaxis": {
            "gridcolor": "white",
            "linecolor": "white",
            "ticks": ""
           },
           "bgcolor": "#E5ECF6",
           "radialaxis": {
            "gridcolor": "white",
            "linecolor": "white",
            "ticks": ""
           }
          },
          "scene": {
           "xaxis": {
            "backgroundcolor": "#E5ECF6",
            "gridcolor": "white",
            "gridwidth": 2,
            "linecolor": "white",
            "showbackground": true,
            "ticks": "",
            "zerolinecolor": "white"
           },
           "yaxis": {
            "backgroundcolor": "#E5ECF6",
            "gridcolor": "white",
            "gridwidth": 2,
            "linecolor": "white",
            "showbackground": true,
            "ticks": "",
            "zerolinecolor": "white"
           },
           "zaxis": {
            "backgroundcolor": "#E5ECF6",
            "gridcolor": "white",
            "gridwidth": 2,
            "linecolor": "white",
            "showbackground": true,
            "ticks": "",
            "zerolinecolor": "white"
           }
          },
          "shapedefaults": {
           "line": {
            "color": "#2a3f5f"
           }
          },
          "ternary": {
           "aaxis": {
            "gridcolor": "white",
            "linecolor": "white",
            "ticks": ""
           },
           "baxis": {
            "gridcolor": "white",
            "linecolor": "white",
            "ticks": ""
           },
           "bgcolor": "#E5ECF6",
           "caxis": {
            "gridcolor": "white",
            "linecolor": "white",
            "ticks": ""
           }
          },
          "title": {
           "x": 0.05
          },
          "xaxis": {
           "automargin": true,
           "gridcolor": "white",
           "linecolor": "white",
           "ticks": "",
           "title": {
            "standoff": 15
           },
           "zerolinecolor": "white",
           "zerolinewidth": 2
          },
          "yaxis": {
           "automargin": true,
           "gridcolor": "white",
           "linecolor": "white",
           "ticks": "",
           "title": {
            "standoff": 15
           },
           "zerolinecolor": "white",
           "zerolinewidth": 2
          }
         }
        },
        "title": {
         "text": "Dispersión de clientes y sistemas SIPE y sistemas"
        },
        "xaxis": {
         "title": {
          "text": "ID_ORIGEN"
         }
        },
        "yaxis": {
         "title": {
          "text": "Count"
         }
        }
       }
      },
      "text/html": [
       "<div>                            <div id=\"67bdd792-50d2-4e41-b6c4-3321fbdd2c75\" class=\"plotly-graph-div\" style=\"height:525px; width:100%;\"></div>            <script type=\"text/javascript\">                require([\"plotly\"], function(Plotly) {                    window.PLOTLYENV=window.PLOTLYENV || {};                                    if (document.getElementById(\"67bdd792-50d2-4e41-b6c4-3321fbdd2c75\")) {                    Plotly.newPlot(                        \"67bdd792-50d2-4e41-b6c4-3321fbdd2c75\",                        [{\"hovertemplate\":\"%{text}\",\"marker\":{\"color\":\"blue\",\"size\":10},\"mode\":\"markers\",\"text\":[\"BANK OF MONTREAL \\u003cbr\\u003eSISTEMAS PRESENTES: SIMS,SIPE\\u003cbr\\u003eNUMERO DE CLIENTES: ['BKOFMO', 4]  \\u003cbr\\u003eDIRECCIONES: [nan, '115 SOUTH LASALLE STREET CHICAGO, ILLINOIS 60603']  \\u003cbr\\u003e RFCS: ['XXXXXXXXXXXXX', 'XXXXXXXXXXXXX'] \",\"UNION BANK OF SWITZERLAND \\u003cbr\\u003eSISTEMAS PRESENTES: SOI,MECA,SIPE\\u003cbr\\u003eNUMERO DE CLIENTES: [10459, 'UBS', 5]  \\u003cbr\\u003eDIRECCIONES: [nan, 'NO SE TIENE REGISTRADA LA INFORMACION', '299 PARK AVENUE, NEW YORK, NY 10171-0026']  \\u003cbr\\u003e RFCS: ['XXXXXXXXXXXXX', 'XXXXXXXXXXXX', 'XXXXXXXXXXXXX'] \",\"STANDARD CHARTERED BANK \\u003cbr\\u003eSISTEMAS PRESENTES: SOI,SIPE\\u003cbr\\u003eNUMERO DE CLIENTES: [10463, 10]  \\u003cbr\\u003eDIRECCIONES: ['AVENUE OF THE AMERICAS -- AVENUE OF THE AMERICAS', '160 WATER STREET, NEW YORK, NY. 10038-4995']  \\u003cbr\\u003e RFCS: ['XXXXXXXXXXXXX', 'XXXXXXXXXXXXX'] \",\"BANCO INTERACCIONES, S.A \\u003cbr\\u003eSISTEMAS PRESENTES: MECA,TAS,SIPE\\u003cbr\\u003eNUMERO DE CLIENTES: ['INTERA', 1060001, 13]  \\u003cbr\\u003eDIRECCIONES: ['NO SE TIENE REGISTRADA LA INFORMACION', nan, 'PASEO DE LA REFORMA 383 PISO 14 COL CUAHTEMOC CP 06500']  \\u003cbr\\u003e RFCS: ['XXXXXXXXXXXX', 'XXXXXXXXXXXXX', 'BIN931011519'] \",\"BANCO SANTANDER MEXICANO \\u003cbr\\u003eSISTEMAS PRESENTES: TAS,SIPE\\u003cbr\\u003eNUMERO DE CLIENTES: [1060010, 14]  \\u003cbr\\u003eDIRECCIONES: [nan, '235 5TH AVENUE NEW YORK, NY 10016']  \\u003cbr\\u003e RFCS: ['XXXXXXXXXXXXX', 'XXXXXXXXXXXXX'] \",\"BANCO SANTANDER MEXICO \\u003cbr\\u003eSISTEMAS PRESENTES: SIRAC,SIPE\\u003cbr\\u003eNUMERO DE CLIENTES: [23422459, 18]  \\u003cbr\\u003eDIRECCIONES: [nan, 'PROL. PASEO DE LA REFORMA 500, COL. LOMAS DE SANTA FE']  \\u003cbr\\u003e RFCS: ['BSM970519DU8', 'BSM970519DU8'] \",\"BANCO DEL ATLANTICO \\u003cbr\\u003eSISTEMAS PRESENTES: MECA,SIPE\\u003cbr\\u003eNUMERO DE CLIENTES: ['ATLAN', 20]  \\u003cbr\\u003eDIRECCIONES: ['NO SE TIENE REGISTRADA LA INFORMACION', nan]  \\u003cbr\\u003e RFCS: ['XXXXXXXXXXXX', 'XXXXXXXXXXXXX'] \",\"BANCO DEL CENTRO \\u003cbr\\u003eSISTEMAS PRESENTES: MECA,SIPE\\u003cbr\\u003eNUMERO DE CLIENTES: ['BCDM', 21]  \\u003cbr\\u003eDIRECCIONES: ['NO SE TIENE REGISTRADA LA INFORMACION', nan]  \\u003cbr\\u003e RFCS: ['XXXXXXXXXXXX', 'XXXXXXXXXXXXX'] \",\"BANCO MERCANTIL DEL NORTE \\u003cbr\\u003eSISTEMAS PRESENTES: MECA,SIPE\\u003cbr\\u003eNUMERO DE CLIENTES: ['BMNO', 22]  \\u003cbr\\u003eDIRECCIONES: ['NO SE TIENE REGISTRADA LA INFORMACION', 'ZARAGOZA 920 SUR MONTERREY NUEVO LEON']  \\u003cbr\\u003e RFCS: ['XXX123456XXX', 'XXXXXXXXXXXXX'] \",\"BANCO INBURSA, S.A. \\u003cbr\\u003eSISTEMAS PRESENTES: TAS,SIPE\\u003cbr\\u003eNUMERO DE CLIENTES: [1060016, 23]  \\u003cbr\\u003eDIRECCIONES: [nan, 'PASEO DE LAS PALMAS 736 LOMAS DE CHAPULTEPEC CP 11000']  \\u003cbr\\u003e RFCS: ['XXXXXXXXXXXXX', 'XXXXXXXXXXXXX'] \",\"BANOBRAS \\u003cbr\\u003eSISTEMAS PRESENTES: MECA,SIPE\\u003cbr\\u003eNUMERO DE CLIENTES: ['BANOB', 24]  \\u003cbr\\u003eDIRECCIONES: ['NO SE TIENE REGISTRADA LA INFORMACION', 'JAVIER BARROS SIERA 515, LOMAS DE SANTA FE, MEXICO']  \\u003cbr\\u003e RFCS: ['XXXXXXXXXXXX', 'BNO670315CDO'] \",\"NAFIN SECURITIES \\u003cbr\\u003eSISTEMAS PRESENTES: MECA,MECA,SIPE\\u003cbr\\u003eNUMERO DE CLIENTES: ['SECURI', 'NAFSEC', 28]  \\u003cbr\\u003eDIRECCIONES: ['P', 'NO SE TIENE REGISTRADA LA INFORMACION', nan]  \\u003cbr\\u003e RFCS: ['XXX123456XXX', 'XXXXXXXXXXXX', 'XXXXXXXXXXXXX'] \",\"COMISION FEDERAL ELECTRICIDAD \\u003cbr\\u003eSISTEMAS PRESENTES: TAS,TAS,SIPE\\u003cbr\\u003eNUMERO DE CLIENTES: [6009267, 1064268, 39]  \\u003cbr\\u003eDIRECCIONES: [nan, nan, nan]  \\u003cbr\\u003e RFCS: ['CFE370814QI0', 'CFE370814QI0', 'XXXXXXXXXXXXX'] \",\"BANK OF AMERICA SAN FRANCISCO \\u003cbr\\u003eSISTEMAS PRESENTES: MECA,SIPE\\u003cbr\\u003eNUMERO DE CLIENTES: ['BOFAS', 40]  \\u003cbr\\u003eDIRECCIONES: ['NO SE TIENE REGISTRADA LA INFORMACION', 'GATEWAY 1850 BLVD. CONCORD CALIFORNIA']  \\u003cbr\\u003e RFCS: ['XXXXXXXXXXXX', 'XXXXXXXXXXXXX'] \",\"BANCA CREMI, S.A. \\u003cbr\\u003eSISTEMAS PRESENTES: MECA,SIPE\\u003cbr\\u003eNUMERO DE CLIENTES: ['BCDI', 77]  \\u003cbr\\u003eDIRECCIONES: ['NO SE TIENE REGISTRADA LA INFORMACION', nan]  \\u003cbr\\u003e RFCS: ['XXXXXXXXXXXX', 'XXXXXXXXXXXXX'] \",\"BANCO DE ORIENTE, S.A. \\u003cbr\\u003eSISTEMAS PRESENTES: MECA,SIPE\\u003cbr\\u003eNUMERO DE CLIENTES: ['BORI', 78]  \\u003cbr\\u003eDIRECCIONES: ['NO SE TIENE REGISTRADA LA INFORMACION', nan]  \\u003cbr\\u003e RFCS: ['XXXXXXXXXXXX', 'XXXXXXXXXXXXX'] \",\"BANCO INDUSTRIAL, S.A. \\u003cbr\\u003eSISTEMAS PRESENTES: MECA,TAS,SIPE\\u003cbr\\u003eNUMERO DE CLIENTES: ['INDUS', 1060031, 104]  \\u003cbr\\u003eDIRECCIONES: ['NO SE TIENE REGISTRADA LA INFORMACION', nan, nan]  \\u003cbr\\u003e RFCS: ['XXXXXXXXXXXX', 'XXXXXXXXXXXXX', 'XXXXXXXXXXXXX'] \",\"BANCO DEL BAJIO, S.A. \\u003cbr\\u003eSISTEMAS PRESENTES: MECA,TAS,TAS,SIPE\\u003cbr\\u003eNUMERO DE CLIENTES: ['BANJIO', 1060022, 999899, 209]  \\u003cbr\\u003eDIRECCIONES: ['NO SE TIENE REGISTRADA LA INFORMACION', nan, nan, nan]  \\u003cbr\\u003e RFCS: ['XXXXXXXXXXXX', 'XXXXXXXXXXXXX', 'BBA940707IE1', 'XXXXXXXXXXXXX'] \",\"BANCO DE MEXICO \\u003cbr\\u003eSISTEMAS PRESENTES: MECA,TAS,SIPE\\u003cbr\\u003eNUMERO DE CLIENTES: ['BXICO', 1040153, 220]  \\u003cbr\\u003eDIRECCIONES: ['NO SE TIENE REGISTRADA LA INFORMACION', nan, 'AV. 5 DE MAYO 2 COLONIA CENTRO DELEGACION CUAUHTEMOC.CP06000']  \\u003cbr\\u003e RFCS: ['XXXXXXXXXXXX', 'BNM840515VB2', 'XXXXXXXXXXXXX'] \",\"CITIBANK MEXICO, S.A. \\u003cbr\\u003eSISTEMAS PRESENTES: MECA,SIPE\\u003cbr\\u003eNUMERO DE CLIENTES: ['CBMX', 221]  \\u003cbr\\u003eDIRECCIONES: ['NO SE TIENE REGISTRADA LA INFORMACION', 'REFORMA 390 COL. JUAREZ CP 06695 MEXICO, DF']  \\u003cbr\\u003e RFCS: ['XXXXXXXXXXXX', 'XXXXXXXXXXXXX'] \",\"BANK BOSTON MEXICO \\u003cbr\\u003eSISTEMAS PRESENTES: MECA,TAS,SIPE\\u003cbr\\u003eNUMERO DE CLIENTES: ['BOSTON', 1060000, 246]  \\u003cbr\\u003eDIRECCIONES: ['NO SE TIENE REGISTRADA LA INFORMACION', nan, nan]  \\u003cbr\\u003e RFCS: ['XXXXXXXXXXXX', 'XXXXXXXXXXXXX', 'XXXXXXXXXXXXX'] \",\"BANCO BILBAO VIZCAYA MEXICO \\u003cbr\\u003eSISTEMAS PRESENTES: MECA,SIPE\\u003cbr\\u003eNUMERO DE CLIENTES: ['BBVI', 247]  \\u003cbr\\u003eDIRECCIONES: ['NO SE TIENE REGISTRADA LA INFORMACION', nan]  \\u003cbr\\u003e RFCS: ['XXXXXXXXXXXX', 'XXXXXXXXXXXXX'] \",\"DRESDNER BANK, MEXICO \\u003cbr\\u003eSISTEMAS PRESENTES: MECA,SIPE\\u003cbr\\u003eNUMERO DE CLIENTES: ['DRESBK', 248]  \\u003cbr\\u003eDIRECCIONES: ['BOSQUE DE ALISOS 47B - PISO 4', nan]  \\u003cbr\\u003e RFCS: ['XXXXXXXXXXXX', 'XXXXXXXXXXXXX'] \",\"CITIBANK NEW YORK \\u003cbr\\u003eSISTEMAS PRESENTES: MECA,SIMS,SIPE\\u003cbr\\u003eNUMERO DE CLIENTES: ['CITINY', 'CITI', 250]  \\u003cbr\\u003eDIRECCIONES: ['NO SE TIENE REGISTRADA LA INFORMACION', nan, nan]  \\u003cbr\\u003e RFCS: ['XXXXXXXXXXXX', 'XXXXXXXXXXXXX', 'XXXXXXXXXXXXX'] \",\"GOBIERNO FEDERAL \\u003cbr\\u003eSISTEMAS PRESENTES: TAS,SIPE\\u003cbr\\u003eNUMERO DE CLIENTES: [100003, 254]  \\u003cbr\\u003eDIRECCIONES: [nan, nan]  \\u003cbr\\u003e RFCS: ['NFI3406305T0', 'XXXXXXXXXXXXX'] \",\"BANK OF MONTREAL, CHICAGO  M \\u003cbr\\u003eSISTEMAS PRESENTES: MECA,SIPE\\u003cbr\\u003eNUMERO DE CLIENTES: ['BKMONT', 257]  \\u003cbr\\u003eDIRECCIONES: ['115 SOUTH LA SALLE STREET 19TH FLOOR W.', nan]  \\u003cbr\\u003e RFCS: ['XXXXXXXXXXXX', 'XXXXXXXXXXXXX'] \",\"GE CAPITAL BANK, S.A. \\u003cbr\\u003eSISTEMAS PRESENTES: TAS,SIPE\\u003cbr\\u003eNUMERO DE CLIENTES: [1060032, 278]  \\u003cbr\\u003eDIRECCIONES: [nan, 'AV. STA. FE 495 COL. CRUZ MANCA CUAJIMALPA 05349 MEX. D.F.']  \\u003cbr\\u003e RFCS: ['XXXXXXXXXXXXX', 'XXXXXXXXXXXXX'] \",\"BANK OF NEW YORK CO. \\u003cbr\\u003eSISTEMAS PRESENTES: MECA,SIMS,SIPE\\u003cbr\\u003eNUMERO DE CLIENTES: ['BANKNY', 'BKOFNY', 287]  \\u003cbr\\u003eDIRECCIONES: ['NO SE TIENE REGISTRADA LA INFORMACION', nan, '32 OLD SLIP ROAD NY, NY 10179']  \\u003cbr\\u003e RFCS: ['XXXXXXXXXXXX', 'XXXXXXXXXXXXX', 'XXXXXXXXXXXXX'] \",\"BEAR STEARNS & CO. INC. \\u003cbr\\u003eSISTEMAS PRESENTES: MECA,SIPE\\u003cbr\\u003eNUMERO DE CLIENTES: ['BSTEAR', 288]  \\u003cbr\\u003eDIRECCIONES: ['P', '383 MADISON AVENUE NY, NY 10179']  \\u003cbr\\u003e RFCS: ['XXX123456XXX', 'XXXXXXXXXXXXX'] \",\"NATEXIS BANQUES POPULAIRES NY \\u003cbr\\u003eSISTEMAS PRESENTES: SOI,SIPE\\u003cbr\\u003eNUMERO DE CLIENTES: [9005, 291]  \\u003cbr\\u003eDIRECCIONES: ['AVENUE PIRRE MENDES FRANC -- RUE SAINT DOMINIQUE', '1251 AV OF THE AMERICAS 34TH FLOOR NY NY 10020']  \\u003cbr\\u003e RFCS: ['XXXXXXXXXXXXX', 'XXXXXXXXXXXXX'] \",\"BANCO VE POR MAS, S.A. \\u003cbr\\u003eSISTEMAS PRESENTES: SIRAC,SIPE\\u003cbr\\u003eNUMERO DE CLIENTES: [3912912, 302]  \\u003cbr\\u003eDIRECCIONES: [nan, 'AV. PASEO DE LA REFORMA 365 PISO 2 COL CUAUHTEMOC DF 06500']  \\u003cbr\\u003e RFCS: ['BVM951002LX0', 'XXXXXXXXXXXXX'] \",\"IXE BANCO S.A. \\u003cbr\\u003eSISTEMAS PRESENTES: MECA,TAS,TAS,SIPE\\u003cbr\\u003eNUMERO DE CLIENTES: ['IXE', 1060028, 1037284, 304]  \\u003cbr\\u003eDIRECCIONES: ['JOSE LUIS LAGRANGE 103', nan, nan, 'AV. PAE DE LA REFORMA 505 PISO 47, COLONIA CUAUHTEMOC CP 065']  \\u003cbr\\u003e RFCS: ['XXXXXXXXXXXX', 'XXXXXXXXXXXXX', 'IBA950503GTA', 'XXXXXXXXXXXXX'] \",\"BANCA AFIRME, S.A. \\u003cbr\\u003eSISTEMAS PRESENTES: TAS,SIPE\\u003cbr\\u003eNUMERO DE CLIENTES: [1041222, 306]  \\u003cbr\\u003eDIRECCIONES: [nan, 'JU\\u00c1REZ SUR 800 PISO 9 COL. CENTRO MONTERREY NUEVO LE\\u00d3N 64000']  \\u003cbr\\u003e RFCS: ['BAF950102JP5', 'BAF950102JP5'] \",\"MIZUHO CORPORATE BANK LTD, NEW YORK \\u003cbr\\u003eSISTEMAS PRESENTES: SOI,SIPE\\u003cbr\\u003eNUMERO DE CLIENTES: [9041, 309]  \\u003cbr\\u003eDIRECCIONES: ['AV. AMERICAS PISO 31 -- AV. LAS AMERICAS PISO 31 -- NA', '1251 AVENUE OF THE AMERICAS NEW YORK, NEW YORK 10020']  \\u003cbr\\u003e RFCS: ['XXXXXXXXXXXXX', 'XXXXXXXXXXXXX'] \",\"DEUTSCHE BANK FRANKFURT \\u003cbr\\u003eSISTEMAS PRESENTES: MECA,SIPE\\u003cbr\\u003eNUMERO DE CLIENTES: ['DEUTCH', 312]  \\u003cbr\\u003eDIRECCIONES: ['FRANKFURT ALEMANIA', nan]  \\u003cbr\\u003e RFCS: ['XXXXXXXXXXXX', 'XXXXXXXXXXXXX'] \",\"STANDARD CHARTERED BANK \\u003cbr\\u003eSISTEMAS PRESENTES: SOI,SIPE\\u003cbr\\u003eNUMERO DE CLIENTES: [10463, 314]  \\u003cbr\\u003eDIRECCIONES: ['AVENUE OF THE AMERICAS -- AVENUE OF THE AMERICAS', nan]  \\u003cbr\\u003e RFCS: ['XXXXXXXXXXXXX', 'XXXXXXXXXXXXX'] \",\"CITIBANK N.A. NEW YORK \\u003cbr\\u003eSISTEMAS PRESENTES: MECA,SIMS,SIPE\\u003cbr\\u003eNUMERO DE CLIENTES: ['CITINY', 'CITI', 315]  \\u003cbr\\u003eDIRECCIONES: ['NO SE TIENE REGISTRADA LA INFORMACION', nan, nan]  \\u003cbr\\u003e RFCS: ['XXXXXXXXXXXX', 'XXXXXXXXXXXXX', 'XXXXXXXXXXXXX'] \",\"BARCLAYS BANK  PLC NEW YORK \\u003cbr\\u003eSISTEMAS PRESENTES: SIMS,SIPE\\u003cbr\\u003eNUMERO DE CLIENTES: ['BARC', 319]  \\u003cbr\\u003eDIRECCIONES: [nan, nan]  \\u003cbr\\u003e RFCS: ['XXXXXXXXXXXXX', 'XXXXXXXXXXXXX'] \",\"HSBC MEXICO, S.A. \\u003cbr\\u003eSISTEMAS PRESENTES: TAS,SIPE\\u003cbr\\u003eNUMERO DE CLIENTES: [1060036, 320]  \\u003cbr\\u003eDIRECCIONES: [nan, 'REFORMA 156-PISO 3,  MEXICO, D.F.']  \\u003cbr\\u003e RFCS: ['XXXXXXXXXXXXX', 'HMI950125KG8'] \",\"BANK OF AMERICA, N.A. \\u003cbr\\u003eSISTEMAS PRESENTES: SOI,SIPE\\u003cbr\\u003eNUMERO DE CLIENTES: [7912, 325]  \\u003cbr\\u003eDIRECCIONES: ['ONE BRYANT PARK -- ONE BRYANT PARK', nan]  \\u003cbr\\u003e RFCS: ['XXXXXXXXXXXXX', 'XXXXXXXXXXXXX'] \",\"BANCO J.P. MORGAN MEXICO \\u003cbr\\u003eSISTEMAS PRESENTES: MECA,TAS,SIPE\\u003cbr\\u003eNUMERO DE CLIENTES: ['JPMOR', 987671, 327]  \\u003cbr\\u003eDIRECCIONES: ['NO SE TIENE REGISTRADA LA INFORMACION', nan, 'PASEO DE LAS PALMAS NUM 405 PISO 16 LOMAS DE CHAPULTEPEC']  \\u003cbr\\u003e RFCS: ['XXXXXXXXXXXX', 'BJP950104LJ5', 'TME840315KT6'] \",\"BANK OF AMERICA MEXICO \\u003cbr\\u003eSISTEMAS PRESENTES: MECA,MECA,TAS,SIPE\\u003cbr\\u003eNUMERO DE CLIENTES: ['BANKAM', 'BOFA', 1060026, 339]  \\u003cbr\\u003eDIRECCIONES: ['PASEO DE LA REFORMA 116', 'NO SE TIENE REGISTRADA LA INFORMACION', nan, 'PEDREGAL #24, PISO 22, MOLINO DEL REY, MIGUEL HIDALGO, 11040']  \\u003cbr\\u003e RFCS: ['XXXXXXXXXXXX', 'XXXXXXXXXXXX', 'XXXXXXXXXXXXX', 'XXXXXXXXXXXXX'] \",\"BANK OF NEW YORK MELLON \\u003cbr\\u003eSISTEMAS PRESENTES: SOI,SIPE\\u003cbr\\u003eNUMERO DE CLIENTES: [90432, 341]  \\u003cbr\\u003eDIRECCIONES: ['BARCLAY STREET -- BARCLAY STREET -- BARCLAY STREET', 'NEW YORK']  \\u003cbr\\u003e RFCS: ['XXXXXXXXXXXXX', 'XXXXXXXXXXXXX'] \",\"BANK OF NEW YORK MELLON \\u003cbr\\u003eSISTEMAS PRESENTES: SOI,SIPE\\u003cbr\\u003eNUMERO DE CLIENTES: [90432, 343]  \\u003cbr\\u003eDIRECCIONES: ['BARCLAY STREET -- BARCLAY STREET -- BARCLAY STREET', '225 LIBERTY STREET']  \\u003cbr\\u003e RFCS: ['XXXXXXXXXXXXX', 'XXXXXXXXXXXXX'] \",\"BARCLAYS BANK, MEXICO \\u003cbr\\u003eSISTEMAS PRESENTES: SIMS,SIPE\\u003cbr\\u003eNUMERO DE CLIENTES: ['BARC-M', 344]  \\u003cbr\\u003eDIRECCIONES: ['PASEO DE LA REFORMA 5052, PISO 41, CUAUHT\\u00c9MOC', 'PASEO DE LA REFORMA NUM.505 PISO 41 COL. CUAUHTEMOC 06500']  \\u003cbr\\u003e RFCS: ['XXXXXXXXXXXXX', 'BBM060102M82'] \",\"BARCLAYS BANK MEXICO \\u003cbr\\u003eSISTEMAS PRESENTES: SIMS,SIPE\\u003cbr\\u003eNUMERO DE CLIENTES: ['BARC-M', 345]  \\u003cbr\\u003eDIRECCIONES: ['PASEO DE LA REFORMA 5052, PISO 41, CUAUHT\\u00c9MOC', 'AV. PASEO DE LA REFORMA 505 COL. CUAHUTEMOC']  \\u003cbr\\u003e RFCS: ['XXXXXXXXXXXXX', 'BBM060102M82'] \"],\"x\":[\"4\",\"5\",\"10\",\"13\",\"14\",\"18\",\"20\",\"21\",\"22\",\"23\",\"24\",\"28\",\"39\",\"40\",\"77\",\"78\",\"104\",\"209\",\"220\",\"221\",\"246\",\"247\",\"248\",\"250\",\"254\",\"257\",\"278\",\"287\",\"288\",\"291\",\"302\",\"304\",\"306\",\"309\",\"312\",\"314\",\"315\",\"319\",\"320\",\"325\",\"327\",\"339\",\"341\",\"343\",\"344\",\"345\"],\"y\":[1,2,1,2,1,1,1,1,1,1,1,2,2,1,1,1,2,3,2,1,2,1,1,2,1,1,1,2,1,1,1,3,1,1,1,1,2,1,1,1,2,3,1,1,1,1],\"type\":\"scatter\"}],                        {\"template\":{\"data\":{\"histogram2dcontour\":[{\"type\":\"histogram2dcontour\",\"colorbar\":{\"outlinewidth\":0,\"ticks\":\"\"},\"colorscale\":[[0.0,\"#0d0887\"],[0.1111111111111111,\"#46039f\"],[0.2222222222222222,\"#7201a8\"],[0.3333333333333333,\"#9c179e\"],[0.4444444444444444,\"#bd3786\"],[0.5555555555555556,\"#d8576b\"],[0.6666666666666666,\"#ed7953\"],[0.7777777777777778,\"#fb9f3a\"],[0.8888888888888888,\"#fdca26\"],[1.0,\"#f0f921\"]]}],\"choropleth\":[{\"type\":\"choropleth\",\"colorbar\":{\"outlinewidth\":0,\"ticks\":\"\"}}],\"histogram2d\":[{\"type\":\"histogram2d\",\"colorbar\":{\"outlinewidth\":0,\"ticks\":\"\"},\"colorscale\":[[0.0,\"#0d0887\"],[0.1111111111111111,\"#46039f\"],[0.2222222222222222,\"#7201a8\"],[0.3333333333333333,\"#9c179e\"],[0.4444444444444444,\"#bd3786\"],[0.5555555555555556,\"#d8576b\"],[0.6666666666666666,\"#ed7953\"],[0.7777777777777778,\"#fb9f3a\"],[0.8888888888888888,\"#fdca26\"],[1.0,\"#f0f921\"]]}],\"heatmap\":[{\"type\":\"heatmap\",\"colorbar\":{\"outlinewidth\":0,\"ticks\":\"\"},\"colorscale\":[[0.0,\"#0d0887\"],[0.1111111111111111,\"#46039f\"],[0.2222222222222222,\"#7201a8\"],[0.3333333333333333,\"#9c179e\"],[0.4444444444444444,\"#bd3786\"],[0.5555555555555556,\"#d8576b\"],[0.6666666666666666,\"#ed7953\"],[0.7777777777777778,\"#fb9f3a\"],[0.8888888888888888,\"#fdca26\"],[1.0,\"#f0f921\"]]}],\"heatmapgl\":[{\"type\":\"heatmapgl\",\"colorbar\":{\"outlinewidth\":0,\"ticks\":\"\"},\"colorscale\":[[0.0,\"#0d0887\"],[0.1111111111111111,\"#46039f\"],[0.2222222222222222,\"#7201a8\"],[0.3333333333333333,\"#9c179e\"],[0.4444444444444444,\"#bd3786\"],[0.5555555555555556,\"#d8576b\"],[0.6666666666666666,\"#ed7953\"],[0.7777777777777778,\"#fb9f3a\"],[0.8888888888888888,\"#fdca26\"],[1.0,\"#f0f921\"]]}],\"contourcarpet\":[{\"type\":\"contourcarpet\",\"colorbar\":{\"outlinewidth\":0,\"ticks\":\"\"}}],\"contour\":[{\"type\":\"contour\",\"colorbar\":{\"outlinewidth\":0,\"ticks\":\"\"},\"colorscale\":[[0.0,\"#0d0887\"],[0.1111111111111111,\"#46039f\"],[0.2222222222222222,\"#7201a8\"],[0.3333333333333333,\"#9c179e\"],[0.4444444444444444,\"#bd3786\"],[0.5555555555555556,\"#d8576b\"],[0.6666666666666666,\"#ed7953\"],[0.7777777777777778,\"#fb9f3a\"],[0.8888888888888888,\"#fdca26\"],[1.0,\"#f0f921\"]]}],\"surface\":[{\"type\":\"surface\",\"colorbar\":{\"outlinewidth\":0,\"ticks\":\"\"},\"colorscale\":[[0.0,\"#0d0887\"],[0.1111111111111111,\"#46039f\"],[0.2222222222222222,\"#7201a8\"],[0.3333333333333333,\"#9c179e\"],[0.4444444444444444,\"#bd3786\"],[0.5555555555555556,\"#d8576b\"],[0.6666666666666666,\"#ed7953\"],[0.7777777777777778,\"#fb9f3a\"],[0.8888888888888888,\"#fdca26\"],[1.0,\"#f0f921\"]]}],\"mesh3d\":[{\"type\":\"mesh3d\",\"colorbar\":{\"outlinewidth\":0,\"ticks\":\"\"}}],\"scatter\":[{\"fillpattern\":{\"fillmode\":\"overlay\",\"size\":10,\"solidity\":0.2},\"type\":\"scatter\"}],\"parcoords\":[{\"type\":\"parcoords\",\"line\":{\"colorbar\":{\"outlinewidth\":0,\"ticks\":\"\"}}}],\"scatterpolargl\":[{\"type\":\"scatterpolargl\",\"marker\":{\"colorbar\":{\"outlinewidth\":0,\"ticks\":\"\"}}}],\"bar\":[{\"error_x\":{\"color\":\"#2a3f5f\"},\"error_y\":{\"color\":\"#2a3f5f\"},\"marker\":{\"line\":{\"color\":\"#E5ECF6\",\"width\":0.5},\"pattern\":{\"fillmode\":\"overlay\",\"size\":10,\"solidity\":0.2}},\"type\":\"bar\"}],\"scattergeo\":[{\"type\":\"scattergeo\",\"marker\":{\"colorbar\":{\"outlinewidth\":0,\"ticks\":\"\"}}}],\"scatterpolar\":[{\"type\":\"scatterpolar\",\"marker\":{\"colorbar\":{\"outlinewidth\":0,\"ticks\":\"\"}}}],\"histogram\":[{\"marker\":{\"pattern\":{\"fillmode\":\"overlay\",\"size\":10,\"solidity\":0.2}},\"type\":\"histogram\"}],\"scattergl\":[{\"type\":\"scattergl\",\"marker\":{\"colorbar\":{\"outlinewidth\":0,\"ticks\":\"\"}}}],\"scatter3d\":[{\"type\":\"scatter3d\",\"line\":{\"colorbar\":{\"outlinewidth\":0,\"ticks\":\"\"}},\"marker\":{\"colorbar\":{\"outlinewidth\":0,\"ticks\":\"\"}}}],\"scattermapbox\":[{\"type\":\"scattermapbox\",\"marker\":{\"colorbar\":{\"outlinewidth\":0,\"ticks\":\"\"}}}],\"scatterternary\":[{\"type\":\"scatterternary\",\"marker\":{\"colorbar\":{\"outlinewidth\":0,\"ticks\":\"\"}}}],\"scattercarpet\":[{\"type\":\"scattercarpet\",\"marker\":{\"colorbar\":{\"outlinewidth\":0,\"ticks\":\"\"}}}],\"carpet\":[{\"aaxis\":{\"endlinecolor\":\"#2a3f5f\",\"gridcolor\":\"white\",\"linecolor\":\"white\",\"minorgridcolor\":\"white\",\"startlinecolor\":\"#2a3f5f\"},\"baxis\":{\"endlinecolor\":\"#2a3f5f\",\"gridcolor\":\"white\",\"linecolor\":\"white\",\"minorgridcolor\":\"white\",\"startlinecolor\":\"#2a3f5f\"},\"type\":\"carpet\"}],\"table\":[{\"cells\":{\"fill\":{\"color\":\"#EBF0F8\"},\"line\":{\"color\":\"white\"}},\"header\":{\"fill\":{\"color\":\"#C8D4E3\"},\"line\":{\"color\":\"white\"}},\"type\":\"table\"}],\"barpolar\":[{\"marker\":{\"line\":{\"color\":\"#E5ECF6\",\"width\":0.5},\"pattern\":{\"fillmode\":\"overlay\",\"size\":10,\"solidity\":0.2}},\"type\":\"barpolar\"}],\"pie\":[{\"automargin\":true,\"type\":\"pie\"}]},\"layout\":{\"autotypenumbers\":\"strict\",\"colorway\":[\"#636efa\",\"#EF553B\",\"#00cc96\",\"#ab63fa\",\"#FFA15A\",\"#19d3f3\",\"#FF6692\",\"#B6E880\",\"#FF97FF\",\"#FECB52\"],\"font\":{\"color\":\"#2a3f5f\"},\"hovermode\":\"closest\",\"hoverlabel\":{\"align\":\"left\"},\"paper_bgcolor\":\"white\",\"plot_bgcolor\":\"#E5ECF6\",\"polar\":{\"bgcolor\":\"#E5ECF6\",\"angularaxis\":{\"gridcolor\":\"white\",\"linecolor\":\"white\",\"ticks\":\"\"},\"radialaxis\":{\"gridcolor\":\"white\",\"linecolor\":\"white\",\"ticks\":\"\"}},\"ternary\":{\"bgcolor\":\"#E5ECF6\",\"aaxis\":{\"gridcolor\":\"white\",\"linecolor\":\"white\",\"ticks\":\"\"},\"baxis\":{\"gridcolor\":\"white\",\"linecolor\":\"white\",\"ticks\":\"\"},\"caxis\":{\"gridcolor\":\"white\",\"linecolor\":\"white\",\"ticks\":\"\"}},\"coloraxis\":{\"colorbar\":{\"outlinewidth\":0,\"ticks\":\"\"}},\"colorscale\":{\"sequential\":[[0.0,\"#0d0887\"],[0.1111111111111111,\"#46039f\"],[0.2222222222222222,\"#7201a8\"],[0.3333333333333333,\"#9c179e\"],[0.4444444444444444,\"#bd3786\"],[0.5555555555555556,\"#d8576b\"],[0.6666666666666666,\"#ed7953\"],[0.7777777777777778,\"#fb9f3a\"],[0.8888888888888888,\"#fdca26\"],[1.0,\"#f0f921\"]],\"sequentialminus\":[[0.0,\"#0d0887\"],[0.1111111111111111,\"#46039f\"],[0.2222222222222222,\"#7201a8\"],[0.3333333333333333,\"#9c179e\"],[0.4444444444444444,\"#bd3786\"],[0.5555555555555556,\"#d8576b\"],[0.6666666666666666,\"#ed7953\"],[0.7777777777777778,\"#fb9f3a\"],[0.8888888888888888,\"#fdca26\"],[1.0,\"#f0f921\"]],\"diverging\":[[0,\"#8e0152\"],[0.1,\"#c51b7d\"],[0.2,\"#de77ae\"],[0.3,\"#f1b6da\"],[0.4,\"#fde0ef\"],[0.5,\"#f7f7f7\"],[0.6,\"#e6f5d0\"],[0.7,\"#b8e186\"],[0.8,\"#7fbc41\"],[0.9,\"#4d9221\"],[1,\"#276419\"]]},\"xaxis\":{\"gridcolor\":\"white\",\"linecolor\":\"white\",\"ticks\":\"\",\"title\":{\"standoff\":15},\"zerolinecolor\":\"white\",\"automargin\":true,\"zerolinewidth\":2},\"yaxis\":{\"gridcolor\":\"white\",\"linecolor\":\"white\",\"ticks\":\"\",\"title\":{\"standoff\":15},\"zerolinecolor\":\"white\",\"automargin\":true,\"zerolinewidth\":2},\"scene\":{\"xaxis\":{\"backgroundcolor\":\"#E5ECF6\",\"gridcolor\":\"white\",\"linecolor\":\"white\",\"showbackground\":true,\"ticks\":\"\",\"zerolinecolor\":\"white\",\"gridwidth\":2},\"yaxis\":{\"backgroundcolor\":\"#E5ECF6\",\"gridcolor\":\"white\",\"linecolor\":\"white\",\"showbackground\":true,\"ticks\":\"\",\"zerolinecolor\":\"white\",\"gridwidth\":2},\"zaxis\":{\"backgroundcolor\":\"#E5ECF6\",\"gridcolor\":\"white\",\"linecolor\":\"white\",\"showbackground\":true,\"ticks\":\"\",\"zerolinecolor\":\"white\",\"gridwidth\":2}},\"shapedefaults\":{\"line\":{\"color\":\"#2a3f5f\"}},\"annotationdefaults\":{\"arrowcolor\":\"#2a3f5f\",\"arrowhead\":0,\"arrowwidth\":1},\"geo\":{\"bgcolor\":\"white\",\"landcolor\":\"#E5ECF6\",\"subunitcolor\":\"white\",\"showland\":true,\"showlakes\":true,\"lakecolor\":\"white\"},\"title\":{\"x\":0.05},\"mapbox\":{\"style\":\"light\"}}},\"title\":{\"text\":\"Dispersi\\u00f3n de clientes y sistemas SIPE y sistemas\"},\"xaxis\":{\"title\":{\"text\":\"ID_ORIGEN\"}},\"yaxis\":{\"title\":{\"text\":\"Count\"}}},                        {\"responsive\": true}                    ).then(function(){\n",
       "                            \n",
       "var gd = document.getElementById('67bdd792-50d2-4e41-b6c4-3321fbdd2c75');\n",
       "var x = new MutationObserver(function (mutations, observer) {{\n",
       "        var display = window.getComputedStyle(gd).display;\n",
       "        if (!display || display === 'none') {{\n",
       "            console.log([gd, 'removed!']);\n",
       "            Plotly.purge(gd);\n",
       "            observer.disconnect();\n",
       "        }}\n",
       "}});\n",
       "\n",
       "// Listen for the removal of the full notebook cells\n",
       "var notebookContainer = gd.closest('#notebook-container');\n",
       "if (notebookContainer) {{\n",
       "    x.observe(notebookContainer, {childList: true});\n",
       "}}\n",
       "\n",
       "// Listen for the clearing of the current output cell\n",
       "var outputEl = gd.closest('.output');\n",
       "if (outputEl) {{\n",
       "    x.observe(outputEl, {childList: true});\n",
       "}}\n",
       "\n",
       "                        })                };                });            </script>        </div>"
      ]
     },
     "metadata": {},
     "output_type": "display_data"
    }
   ],
   "source": [
    "dfs_comp = [df_soi ,df_meca , df_sirac , df_sims, df_tas]\n",
    "grouped_df_sipe, comparacion_sipe = clts_repetidos(df_sipe , dfs_comp, \"NOMBRE_O_RAZON_SOCIAL\", 93, \"SIPE y sistemas\")"
   ]
  },
  {
   "cell_type": "code",
   "execution_count": null,
   "metadata": {},
   "outputs": [],
   "source": [
    "grouped_df_sipe"
   ]
  },
  {
   "cell_type": "markdown",
   "metadata": {},
   "source": [
    "# SIRAC VS LOS SISTEMAS TRANSACCIONALES"
   ]
  },
  {
   "cell_type": "code",
   "execution_count": 152,
   "metadata": {},
   "outputs": [
    {
     "data": {
      "application/vnd.plotly.v1+json": {
       "config": {
        "plotlyServerURL": "https://plot.ly"
       },
       "data": [
        {
         "hovertemplate": "%{text}",
         "marker": {
          "color": "blue",
          "size": 10
         },
         "mode": "markers",
         "text": [
          "BANCO AZTECA, S. A. INSTITUCION DE BANCA MULTIPL <br>SISTEMAS PRESENTES: TAS,SIRAC<br>NUMERO DE CLIENTES: [1060754, 3912903.0]  <br>DIRECCIONES: [nan, nan]  <br> RFCS: ['BAI0205236Y8', 'BAI0205236Y8'] ",
          "BANCO VE POR MAS, S.A. <br>SISTEMAS PRESENTES: SIPE,SIRAC<br>NUMERO DE CLIENTES: [302, 3912912.0]  <br>DIRECCIONES: ['AV. PASEO DE LA REFORMA 365 PISO 2 COL CUAUHTEMOC DF 06500', nan]  <br> RFCS: ['XXXXXXXXXXXXX', 'BVM951002LX0'] ",
          "BANCO NACIONAL DE OBRAS Y SERVICIOS PUBLICOS <br>SISTEMAS PRESENTES: TAS,SIRAC<br>NUMERO DE CLIENTES: [907471, 3970056.0]  <br>DIRECCIONES: [nan, nan]  <br> RFCS: ['BNO770315001', 'BNO670315DC0'] ",
          "PETROLEOS MEXICANOS <br>SISTEMAS PRESENTES: MECA,SIMS,TAS,TAS,SIRAC<br>NUMERO DE CLIENTES: ['PEMEX', 'PEMEX', 1065306, 1048332, 4092904.0]  <br>DIRECCIONES: ['MARINA NACIONAL', 'MARINA NACIONAL', nan, nan, nan]  <br> RFCS: ['XXXXXXXXXXXX', 'XXXXXXXXXXXXX', 'PME380607P35', 'PME380607P35', 'PME380607P35'] ",
          "BANCO NACIONAL DE COMERCIO EXTERIOR, S.N.C <br>SISTEMAS PRESENTES: MECA,SIMS,TAS,TAS,SIRAC<br>NUMERO DE CLIENTES: ['BCOMEX', 'BCOMXT', 1060008, 997861, 5970070.0]  <br>DIRECCIONES: ['NO SE TIENE REGISTRADA LA INFORMACION', nan, nan, nan, nan]  <br> RFCS: ['XXXXXXXXXXXX', 'XXXXXXXXXXXXX', 'XXXXXXXXXXXXX', 'BNC8507311M4', 'BNC8507311M4'] ",
          "GRUPO CONSULTOR PARA LA MICROEMPRESA, S.A. DE C.V. SOFOM, ENR <br>SISTEMAS PRESENTES: TAS,SIRAC<br>NUMERO DE CLIENTES: [1065125, 10172806.0]  <br>DIRECCIONES: [nan, nan]  <br> RFCS: ['GCM060905AC9', 'GCM060905AC9'] ",
          "CREDICAM, S.A. DE C.V., SOFOM, E.N.R. <br>SISTEMAS PRESENTES: TAS,SIRAC<br>NUMERO DE CLIENTES: [1065502, 10177936.0]  <br>DIRECCIONES: [nan, nan]  <br> RFCS: ['CRE9503205J3', 'CRE9503205J3'] ",
          "BANCO AUTOFIN MEXICO SA <br>SISTEMAS PRESENTES: TAS,SIRAC<br>NUMERO DE CLIENTES: [1059997, 10281162.0]  <br>DIRECCIONES: [nan, nan]  <br> RFCS: ['BAM0511076B3', 'BAM0511076B3'] ",
          "FINANCIERA SUMATE S.A. DE C.V. SOFIPO <br>SISTEMAS PRESENTES: TAS,SIRAC<br>NUMERO DE CLIENTES: [1063872, 10286078.0]  <br>DIRECCIONES: [nan, nan]  <br> RFCS: ['FSU030606GW3', 'FSU030606GW3'] ",
          "RED DE SERVICIOS FINANCIEROS SA DE CV SOFOM ENR <br>SISTEMAS PRESENTES: TAS,SIRAC<br>NUMERO DE CLIENTES: [1065045, 10333123.0]  <br>DIRECCIONES: [nan, nan]  <br> RFCS: ['RSF050920LP2', 'RSF050920LP2'] ",
          "CEMEX SAB DE CV <br>SISTEMAS PRESENTES: TAS,SIRAC<br>NUMERO DE CLIENTES: [1064434, 10335210.0]  <br>DIRECCIONES: [nan, nan]  <br> RFCS: ['CEM880726UZA', 'CEM880726UZA'] ",
          "SERFIMEX CAPITAL S.A.P.I.  DE C.V., SOFOM, E.N.R. <br>SISTEMAS PRESENTES: TAS,SIRAC<br>NUMERO DE CLIENTES: [1065257, 14841326.0]  <br>DIRECCIONES: [nan, nan]  <br> RFCS: ['SCA090311Q29', 'SCA090311Q29'] ",
          "APOYO ECONOMICO FAMILIAR SA DE CV SOFOM ENR <br>SISTEMAS PRESENTES: TAS,SIRAC<br>NUMERO DE CLIENTES: [1064485, 22336018.0]  <br>DIRECCIONES: [nan, nan]  <br> RFCS: ['AEF050221TY2', 'AEF050221TY2'] ",
          "BANCO SANTANDER MEXICO, S.A. <br>SISTEMAS PRESENTES: SIPE,TAS,SIRAC<br>NUMERO DE CLIENTES: [18, 1060010, 23422459.0]  <br>DIRECCIONES: ['PROL. PASEO DE LA REFORMA 500, COL. LOMAS DE SANTA FE', nan, nan]  <br> RFCS: ['BSM970519DU8', 'XXXXXXXXXXXXX', 'BSM970519DU8'] ",
          "FINACTIV SA DE CV SOFOM ENR <br>SISTEMAS PRESENTES: TAS,SIRAC<br>NUMERO DE CLIENTES: [1065651, 25287629.0]  <br>DIRECCIONES: [nan, nan]  <br> RFCS: ['FIN080630IS4', 'FIN080630IS4'] ",
          "FINANCIERA LABOR SAPI DE CV SOFOM ENR <br>SISTEMAS PRESENTES: TAS,SIRAC<br>NUMERO DE CLIENTES: [1064759, 28120570.0]  <br>DIRECCIONES: [nan, nan]  <br> RFCS: ['FLA080115FZ6', 'FLA080115FZ6'] ",
          "PROAKTIVA SAPI DE CV SOFOM ENR <br>SISTEMAS PRESENTES: TAS,SIRAC<br>NUMERO DE CLIENTES: [1065224, 28455530.0]  <br>DIRECCIONES: [nan, nan]  <br> RFCS: ['PRO080306UD8', 'PRO080306UD8'] ",
          "ION FINANCIERA, S.A.P.I. DE C.V., SOFOM, ER <br>SISTEMAS PRESENTES: TAS,SIRAC<br>NUMERO DE CLIENTES: [1065657, 28462568.0]  <br>DIRECCIONES: [nan, nan]  <br> RFCS: ['QCO110616EI8', 'QCO110616EI8'] ",
          "NATURAEXTRACTA SA DE CV <br>SISTEMAS PRESENTES: TAS,SIRAC<br>NUMERO DE CLIENTES: [1065820, 28545693.0]  <br>DIRECCIONES: [nan, nan]  <br> RFCS: ['NAT050819576', 'NAT050819576'] ",
          "BANCO SABADELL,S.A., INSTITUCION DE BANCA MULTIPLE <br>SISTEMAS PRESENTES: TAS,TAS,SIRAC<br>NUMERO DE CLIENTES: [1059981, 1065710, 28561148.0]  <br>DIRECCIONES: [nan, nan, nan]  <br> RFCS: ['DCS150115331', 'DCS150115331', 'DCS150115331'] ",
          "AFIX SERVICIOS FINANCIEROS, S.A.P.I. DE C.V. SOFOM, E.N.R. <br>SISTEMAS PRESENTES: TAS,SIRAC<br>NUMERO DE CLIENTES: [1065491, 28563824.0]  <br>DIRECCIONES: [nan, nan]  <br> RFCS: ['ASF0901169V3', 'ASF0901169V3'] ",
          "ALSOL CONTIGO, S.A. DE C.V., SOFOM, E.N.R. <br>SISTEMAS PRESENTES: TAS,TAS,SIRAC<br>NUMERO DE CLIENTES: [1065418, 1065564, 28627541.0]  <br>DIRECCIONES: [nan, nan, nan]  <br> RFCS: ['ACO090216551', 'ACO090216551', 'ACO090216551'] ",
          "FONDO ESPECIAL PARA FINANCIAMIENTOS AGROPECUARIOS <br>SISTEMAS PRESENTES: TAS,SIRAC<br>NUMERO DE CLIENTES: [1064799, 28729842.0]  <br>DIRECCIONES: [nan, nan]  <br> RFCS: ['FEF650826K41', 'FEF650826K41'] ",
          "FINPO SA DE CV SOFOM ENR <br>SISTEMAS PRESENTES: TAS,SIRAC<br>NUMERO DE CLIENTES: [1065603, 28743362.0]  <br>DIRECCIONES: [nan, nan]  <br> RFCS: ['FIN0810067T0', 'FIN0810067T0'] ",
          "COFINE, SAPI DE CV SOFOM ENR <br>SISTEMAS PRESENTES: TAS,SIRAC<br>NUMERO DE CLIENTES: [1065656, 28778950.0]  <br>DIRECCIONES: [nan, nan]  <br> RFCS: ['COF9803047E9', 'COF9803047E9'] ",
          "FACTOR EXPRES SAPI DE CV SOFOM ENR <br>SISTEMAS PRESENTES: TAS,SIRAC<br>NUMERO DE CLIENTES: [1065676, 28785906.0]  <br>DIRECCIONES: [nan, nan]  <br> RFCS: ['FEX130430JX1', 'FEX130430JX1'] ",
          "P.M.I. TRADING DESIGNATED ACTIVITY COMPANY <br>SISTEMAS PRESENTES: TAS,TAS,SIRAC<br>NUMERO DE CLIENTES: [6009402, 1065415, 28820233.0]  <br>DIRECCIONES: [nan, nan, nan]  <br> RFCS: ['PMI9105174FA', 'PMI9105174FA', 'PMI9105174FA'] ",
          "CREDIPLATA SAPI DE CV SOFOM ENR <br>SISTEMAS PRESENTES: TAS,SIRAC<br>NUMERO DE CLIENTES: [1065780, 28892040.0]  <br>DIRECCIONES: [nan, nan]  <br> RFCS: ['CRE130903KD7', 'CRE130903KD7'] ",
          "FINANCIERA CEFEMEX, S.A. DE C.V., SOFOM, E.N.R. <br>SISTEMAS PRESENTES: TAS,SIRAC<br>NUMERO DE CLIENTES: [1065798, 28907819.0]  <br>DIRECCIONES: [nan, nan]  <br> RFCS: ['CEF010505N86', 'CEF010505N86'] ",
          "SOFIPA CORPORATION, S.A.P.I. DE C.V., SOFOM E.N.R. <br>SISTEMAS PRESENTES: TAS,SIRAC<br>NUMERO DE CLIENTES: [1065803, 28917282.0]  <br>DIRECCIONES: [nan, nan]  <br> RFCS: ['FIN080623RZ8', 'FIN080623RZ8'] "
         ],
         "type": "scatter",
         "x": [
          "3912903.0",
          "3912912.0",
          "3970056.0",
          "4092904.0",
          "5970070.0",
          "10172806.0",
          "10177936.0",
          "10281162.0",
          "10286078.0",
          "10333123.0",
          "10335210.0",
          "14841326.0",
          "22336018.0",
          "23422459.0",
          "25287629.0",
          "28120570.0",
          "28455530.0",
          "28462568.0",
          "28545693.0",
          "28561148.0",
          "28563824.0",
          "28627541.0",
          "28729842.0",
          "28743362.0",
          "28778950.0",
          "28785906.0",
          "28820233.0",
          "28892040.0",
          "28907819.0",
          "28917282.0"
         ],
         "y": [
          1,
          1,
          1,
          4,
          4,
          1,
          1,
          1,
          1,
          1,
          1,
          1,
          1,
          2,
          1,
          1,
          1,
          1,
          1,
          2,
          1,
          2,
          1,
          1,
          1,
          1,
          2,
          1,
          1,
          1
         ]
        }
       ],
       "layout": {
        "template": {
         "data": {
          "bar": [
           {
            "error_x": {
             "color": "#2a3f5f"
            },
            "error_y": {
             "color": "#2a3f5f"
            },
            "marker": {
             "line": {
              "color": "#E5ECF6",
              "width": 0.5
             },
             "pattern": {
              "fillmode": "overlay",
              "size": 10,
              "solidity": 0.2
             }
            },
            "type": "bar"
           }
          ],
          "barpolar": [
           {
            "marker": {
             "line": {
              "color": "#E5ECF6",
              "width": 0.5
             },
             "pattern": {
              "fillmode": "overlay",
              "size": 10,
              "solidity": 0.2
             }
            },
            "type": "barpolar"
           }
          ],
          "carpet": [
           {
            "aaxis": {
             "endlinecolor": "#2a3f5f",
             "gridcolor": "white",
             "linecolor": "white",
             "minorgridcolor": "white",
             "startlinecolor": "#2a3f5f"
            },
            "baxis": {
             "endlinecolor": "#2a3f5f",
             "gridcolor": "white",
             "linecolor": "white",
             "minorgridcolor": "white",
             "startlinecolor": "#2a3f5f"
            },
            "type": "carpet"
           }
          ],
          "choropleth": [
           {
            "colorbar": {
             "outlinewidth": 0,
             "ticks": ""
            },
            "type": "choropleth"
           }
          ],
          "contour": [
           {
            "colorbar": {
             "outlinewidth": 0,
             "ticks": ""
            },
            "colorscale": [
             [
              0,
              "#0d0887"
             ],
             [
              0.1111111111111111,
              "#46039f"
             ],
             [
              0.2222222222222222,
              "#7201a8"
             ],
             [
              0.3333333333333333,
              "#9c179e"
             ],
             [
              0.4444444444444444,
              "#bd3786"
             ],
             [
              0.5555555555555556,
              "#d8576b"
             ],
             [
              0.6666666666666666,
              "#ed7953"
             ],
             [
              0.7777777777777778,
              "#fb9f3a"
             ],
             [
              0.8888888888888888,
              "#fdca26"
             ],
             [
              1,
              "#f0f921"
             ]
            ],
            "type": "contour"
           }
          ],
          "contourcarpet": [
           {
            "colorbar": {
             "outlinewidth": 0,
             "ticks": ""
            },
            "type": "contourcarpet"
           }
          ],
          "heatmap": [
           {
            "colorbar": {
             "outlinewidth": 0,
             "ticks": ""
            },
            "colorscale": [
             [
              0,
              "#0d0887"
             ],
             [
              0.1111111111111111,
              "#46039f"
             ],
             [
              0.2222222222222222,
              "#7201a8"
             ],
             [
              0.3333333333333333,
              "#9c179e"
             ],
             [
              0.4444444444444444,
              "#bd3786"
             ],
             [
              0.5555555555555556,
              "#d8576b"
             ],
             [
              0.6666666666666666,
              "#ed7953"
             ],
             [
              0.7777777777777778,
              "#fb9f3a"
             ],
             [
              0.8888888888888888,
              "#fdca26"
             ],
             [
              1,
              "#f0f921"
             ]
            ],
            "type": "heatmap"
           }
          ],
          "heatmapgl": [
           {
            "colorbar": {
             "outlinewidth": 0,
             "ticks": ""
            },
            "colorscale": [
             [
              0,
              "#0d0887"
             ],
             [
              0.1111111111111111,
              "#46039f"
             ],
             [
              0.2222222222222222,
              "#7201a8"
             ],
             [
              0.3333333333333333,
              "#9c179e"
             ],
             [
              0.4444444444444444,
              "#bd3786"
             ],
             [
              0.5555555555555556,
              "#d8576b"
             ],
             [
              0.6666666666666666,
              "#ed7953"
             ],
             [
              0.7777777777777778,
              "#fb9f3a"
             ],
             [
              0.8888888888888888,
              "#fdca26"
             ],
             [
              1,
              "#f0f921"
             ]
            ],
            "type": "heatmapgl"
           }
          ],
          "histogram": [
           {
            "marker": {
             "pattern": {
              "fillmode": "overlay",
              "size": 10,
              "solidity": 0.2
             }
            },
            "type": "histogram"
           }
          ],
          "histogram2d": [
           {
            "colorbar": {
             "outlinewidth": 0,
             "ticks": ""
            },
            "colorscale": [
             [
              0,
              "#0d0887"
             ],
             [
              0.1111111111111111,
              "#46039f"
             ],
             [
              0.2222222222222222,
              "#7201a8"
             ],
             [
              0.3333333333333333,
              "#9c179e"
             ],
             [
              0.4444444444444444,
              "#bd3786"
             ],
             [
              0.5555555555555556,
              "#d8576b"
             ],
             [
              0.6666666666666666,
              "#ed7953"
             ],
             [
              0.7777777777777778,
              "#fb9f3a"
             ],
             [
              0.8888888888888888,
              "#fdca26"
             ],
             [
              1,
              "#f0f921"
             ]
            ],
            "type": "histogram2d"
           }
          ],
          "histogram2dcontour": [
           {
            "colorbar": {
             "outlinewidth": 0,
             "ticks": ""
            },
            "colorscale": [
             [
              0,
              "#0d0887"
             ],
             [
              0.1111111111111111,
              "#46039f"
             ],
             [
              0.2222222222222222,
              "#7201a8"
             ],
             [
              0.3333333333333333,
              "#9c179e"
             ],
             [
              0.4444444444444444,
              "#bd3786"
             ],
             [
              0.5555555555555556,
              "#d8576b"
             ],
             [
              0.6666666666666666,
              "#ed7953"
             ],
             [
              0.7777777777777778,
              "#fb9f3a"
             ],
             [
              0.8888888888888888,
              "#fdca26"
             ],
             [
              1,
              "#f0f921"
             ]
            ],
            "type": "histogram2dcontour"
           }
          ],
          "mesh3d": [
           {
            "colorbar": {
             "outlinewidth": 0,
             "ticks": ""
            },
            "type": "mesh3d"
           }
          ],
          "parcoords": [
           {
            "line": {
             "colorbar": {
              "outlinewidth": 0,
              "ticks": ""
             }
            },
            "type": "parcoords"
           }
          ],
          "pie": [
           {
            "automargin": true,
            "type": "pie"
           }
          ],
          "scatter": [
           {
            "fillpattern": {
             "fillmode": "overlay",
             "size": 10,
             "solidity": 0.2
            },
            "type": "scatter"
           }
          ],
          "scatter3d": [
           {
            "line": {
             "colorbar": {
              "outlinewidth": 0,
              "ticks": ""
             }
            },
            "marker": {
             "colorbar": {
              "outlinewidth": 0,
              "ticks": ""
             }
            },
            "type": "scatter3d"
           }
          ],
          "scattercarpet": [
           {
            "marker": {
             "colorbar": {
              "outlinewidth": 0,
              "ticks": ""
             }
            },
            "type": "scattercarpet"
           }
          ],
          "scattergeo": [
           {
            "marker": {
             "colorbar": {
              "outlinewidth": 0,
              "ticks": ""
             }
            },
            "type": "scattergeo"
           }
          ],
          "scattergl": [
           {
            "marker": {
             "colorbar": {
              "outlinewidth": 0,
              "ticks": ""
             }
            },
            "type": "scattergl"
           }
          ],
          "scattermapbox": [
           {
            "marker": {
             "colorbar": {
              "outlinewidth": 0,
              "ticks": ""
             }
            },
            "type": "scattermapbox"
           }
          ],
          "scatterpolar": [
           {
            "marker": {
             "colorbar": {
              "outlinewidth": 0,
              "ticks": ""
             }
            },
            "type": "scatterpolar"
           }
          ],
          "scatterpolargl": [
           {
            "marker": {
             "colorbar": {
              "outlinewidth": 0,
              "ticks": ""
             }
            },
            "type": "scatterpolargl"
           }
          ],
          "scatterternary": [
           {
            "marker": {
             "colorbar": {
              "outlinewidth": 0,
              "ticks": ""
             }
            },
            "type": "scatterternary"
           }
          ],
          "surface": [
           {
            "colorbar": {
             "outlinewidth": 0,
             "ticks": ""
            },
            "colorscale": [
             [
              0,
              "#0d0887"
             ],
             [
              0.1111111111111111,
              "#46039f"
             ],
             [
              0.2222222222222222,
              "#7201a8"
             ],
             [
              0.3333333333333333,
              "#9c179e"
             ],
             [
              0.4444444444444444,
              "#bd3786"
             ],
             [
              0.5555555555555556,
              "#d8576b"
             ],
             [
              0.6666666666666666,
              "#ed7953"
             ],
             [
              0.7777777777777778,
              "#fb9f3a"
             ],
             [
              0.8888888888888888,
              "#fdca26"
             ],
             [
              1,
              "#f0f921"
             ]
            ],
            "type": "surface"
           }
          ],
          "table": [
           {
            "cells": {
             "fill": {
              "color": "#EBF0F8"
             },
             "line": {
              "color": "white"
             }
            },
            "header": {
             "fill": {
              "color": "#C8D4E3"
             },
             "line": {
              "color": "white"
             }
            },
            "type": "table"
           }
          ]
         },
         "layout": {
          "annotationdefaults": {
           "arrowcolor": "#2a3f5f",
           "arrowhead": 0,
           "arrowwidth": 1
          },
          "autotypenumbers": "strict",
          "coloraxis": {
           "colorbar": {
            "outlinewidth": 0,
            "ticks": ""
           }
          },
          "colorscale": {
           "diverging": [
            [
             0,
             "#8e0152"
            ],
            [
             0.1,
             "#c51b7d"
            ],
            [
             0.2,
             "#de77ae"
            ],
            [
             0.3,
             "#f1b6da"
            ],
            [
             0.4,
             "#fde0ef"
            ],
            [
             0.5,
             "#f7f7f7"
            ],
            [
             0.6,
             "#e6f5d0"
            ],
            [
             0.7,
             "#b8e186"
            ],
            [
             0.8,
             "#7fbc41"
            ],
            [
             0.9,
             "#4d9221"
            ],
            [
             1,
             "#276419"
            ]
           ],
           "sequential": [
            [
             0,
             "#0d0887"
            ],
            [
             0.1111111111111111,
             "#46039f"
            ],
            [
             0.2222222222222222,
             "#7201a8"
            ],
            [
             0.3333333333333333,
             "#9c179e"
            ],
            [
             0.4444444444444444,
             "#bd3786"
            ],
            [
             0.5555555555555556,
             "#d8576b"
            ],
            [
             0.6666666666666666,
             "#ed7953"
            ],
            [
             0.7777777777777778,
             "#fb9f3a"
            ],
            [
             0.8888888888888888,
             "#fdca26"
            ],
            [
             1,
             "#f0f921"
            ]
           ],
           "sequentialminus": [
            [
             0,
             "#0d0887"
            ],
            [
             0.1111111111111111,
             "#46039f"
            ],
            [
             0.2222222222222222,
             "#7201a8"
            ],
            [
             0.3333333333333333,
             "#9c179e"
            ],
            [
             0.4444444444444444,
             "#bd3786"
            ],
            [
             0.5555555555555556,
             "#d8576b"
            ],
            [
             0.6666666666666666,
             "#ed7953"
            ],
            [
             0.7777777777777778,
             "#fb9f3a"
            ],
            [
             0.8888888888888888,
             "#fdca26"
            ],
            [
             1,
             "#f0f921"
            ]
           ]
          },
          "colorway": [
           "#636efa",
           "#EF553B",
           "#00cc96",
           "#ab63fa",
           "#FFA15A",
           "#19d3f3",
           "#FF6692",
           "#B6E880",
           "#FF97FF",
           "#FECB52"
          ],
          "font": {
           "color": "#2a3f5f"
          },
          "geo": {
           "bgcolor": "white",
           "lakecolor": "white",
           "landcolor": "#E5ECF6",
           "showlakes": true,
           "showland": true,
           "subunitcolor": "white"
          },
          "hoverlabel": {
           "align": "left"
          },
          "hovermode": "closest",
          "mapbox": {
           "style": "light"
          },
          "paper_bgcolor": "white",
          "plot_bgcolor": "#E5ECF6",
          "polar": {
           "angularaxis": {
            "gridcolor": "white",
            "linecolor": "white",
            "ticks": ""
           },
           "bgcolor": "#E5ECF6",
           "radialaxis": {
            "gridcolor": "white",
            "linecolor": "white",
            "ticks": ""
           }
          },
          "scene": {
           "xaxis": {
            "backgroundcolor": "#E5ECF6",
            "gridcolor": "white",
            "gridwidth": 2,
            "linecolor": "white",
            "showbackground": true,
            "ticks": "",
            "zerolinecolor": "white"
           },
           "yaxis": {
            "backgroundcolor": "#E5ECF6",
            "gridcolor": "white",
            "gridwidth": 2,
            "linecolor": "white",
            "showbackground": true,
            "ticks": "",
            "zerolinecolor": "white"
           },
           "zaxis": {
            "backgroundcolor": "#E5ECF6",
            "gridcolor": "white",
            "gridwidth": 2,
            "linecolor": "white",
            "showbackground": true,
            "ticks": "",
            "zerolinecolor": "white"
           }
          },
          "shapedefaults": {
           "line": {
            "color": "#2a3f5f"
           }
          },
          "ternary": {
           "aaxis": {
            "gridcolor": "white",
            "linecolor": "white",
            "ticks": ""
           },
           "baxis": {
            "gridcolor": "white",
            "linecolor": "white",
            "ticks": ""
           },
           "bgcolor": "#E5ECF6",
           "caxis": {
            "gridcolor": "white",
            "linecolor": "white",
            "ticks": ""
           }
          },
          "title": {
           "x": 0.05
          },
          "xaxis": {
           "automargin": true,
           "gridcolor": "white",
           "linecolor": "white",
           "ticks": "",
           "title": {
            "standoff": 15
           },
           "zerolinecolor": "white",
           "zerolinewidth": 2
          },
          "yaxis": {
           "automargin": true,
           "gridcolor": "white",
           "linecolor": "white",
           "ticks": "",
           "title": {
            "standoff": 15
           },
           "zerolinecolor": "white",
           "zerolinewidth": 2
          }
         }
        },
        "title": {
         "text": "Dispersión de clientes y sistemas SIRAC y sistemas"
        },
        "xaxis": {
         "title": {
          "text": "ID_ORIGEN"
         }
        },
        "yaxis": {
         "title": {
          "text": "Count"
         }
        }
       }
      },
      "text/html": [
       "<div>                            <div id=\"38100e66-e99f-4dab-b9f2-aab7eecb326c\" class=\"plotly-graph-div\" style=\"height:525px; width:100%;\"></div>            <script type=\"text/javascript\">                require([\"plotly\"], function(Plotly) {                    window.PLOTLYENV=window.PLOTLYENV || {};                                    if (document.getElementById(\"38100e66-e99f-4dab-b9f2-aab7eecb326c\")) {                    Plotly.newPlot(                        \"38100e66-e99f-4dab-b9f2-aab7eecb326c\",                        [{\"hovertemplate\":\"%{text}\",\"marker\":{\"color\":\"blue\",\"size\":10},\"mode\":\"markers\",\"text\":[\"BANCO AZTECA, S. A. INSTITUCION DE BANCA MULTIPL \\u003cbr\\u003eSISTEMAS PRESENTES: TAS,SIRAC\\u003cbr\\u003eNUMERO DE CLIENTES: [1060754, 3912903.0]  \\u003cbr\\u003eDIRECCIONES: [nan, nan]  \\u003cbr\\u003e RFCS: ['BAI0205236Y8', 'BAI0205236Y8'] \",\"BANCO VE POR MAS, S.A. \\u003cbr\\u003eSISTEMAS PRESENTES: SIPE,SIRAC\\u003cbr\\u003eNUMERO DE CLIENTES: [302, 3912912.0]  \\u003cbr\\u003eDIRECCIONES: ['AV. PASEO DE LA REFORMA 365 PISO 2 COL CUAUHTEMOC DF 06500', nan]  \\u003cbr\\u003e RFCS: ['XXXXXXXXXXXXX', 'BVM951002LX0'] \",\"BANCO NACIONAL DE OBRAS Y SERVICIOS PUBLICOS \\u003cbr\\u003eSISTEMAS PRESENTES: TAS,SIRAC\\u003cbr\\u003eNUMERO DE CLIENTES: [907471, 3970056.0]  \\u003cbr\\u003eDIRECCIONES: [nan, nan]  \\u003cbr\\u003e RFCS: ['BNO770315001', 'BNO670315DC0'] \",\"PETROLEOS MEXICANOS \\u003cbr\\u003eSISTEMAS PRESENTES: MECA,SIMS,TAS,TAS,SIRAC\\u003cbr\\u003eNUMERO DE CLIENTES: ['PEMEX', 'PEMEX', 1065306, 1048332, 4092904.0]  \\u003cbr\\u003eDIRECCIONES: ['MARINA NACIONAL', 'MARINA NACIONAL', nan, nan, nan]  \\u003cbr\\u003e RFCS: ['XXXXXXXXXXXX', 'XXXXXXXXXXXXX', 'PME380607P35', 'PME380607P35', 'PME380607P35'] \",\"BANCO NACIONAL DE COMERCIO EXTERIOR, S.N.C \\u003cbr\\u003eSISTEMAS PRESENTES: MECA,SIMS,TAS,TAS,SIRAC\\u003cbr\\u003eNUMERO DE CLIENTES: ['BCOMEX', 'BCOMXT', 1060008, 997861, 5970070.0]  \\u003cbr\\u003eDIRECCIONES: ['NO SE TIENE REGISTRADA LA INFORMACION', nan, nan, nan, nan]  \\u003cbr\\u003e RFCS: ['XXXXXXXXXXXX', 'XXXXXXXXXXXXX', 'XXXXXXXXXXXXX', 'BNC8507311M4', 'BNC8507311M4'] \",\"GRUPO CONSULTOR PARA LA MICROEMPRESA, S.A. DE C.V. SOFOM, ENR \\u003cbr\\u003eSISTEMAS PRESENTES: TAS,SIRAC\\u003cbr\\u003eNUMERO DE CLIENTES: [1065125, 10172806.0]  \\u003cbr\\u003eDIRECCIONES: [nan, nan]  \\u003cbr\\u003e RFCS: ['GCM060905AC9', 'GCM060905AC9'] \",\"CREDICAM, S.A. DE C.V., SOFOM, E.N.R. \\u003cbr\\u003eSISTEMAS PRESENTES: TAS,SIRAC\\u003cbr\\u003eNUMERO DE CLIENTES: [1065502, 10177936.0]  \\u003cbr\\u003eDIRECCIONES: [nan, nan]  \\u003cbr\\u003e RFCS: ['CRE9503205J3', 'CRE9503205J3'] \",\"BANCO AUTOFIN MEXICO SA \\u003cbr\\u003eSISTEMAS PRESENTES: TAS,SIRAC\\u003cbr\\u003eNUMERO DE CLIENTES: [1059997, 10281162.0]  \\u003cbr\\u003eDIRECCIONES: [nan, nan]  \\u003cbr\\u003e RFCS: ['BAM0511076B3', 'BAM0511076B3'] \",\"FINANCIERA SUMATE S.A. DE C.V. SOFIPO \\u003cbr\\u003eSISTEMAS PRESENTES: TAS,SIRAC\\u003cbr\\u003eNUMERO DE CLIENTES: [1063872, 10286078.0]  \\u003cbr\\u003eDIRECCIONES: [nan, nan]  \\u003cbr\\u003e RFCS: ['FSU030606GW3', 'FSU030606GW3'] \",\"RED DE SERVICIOS FINANCIEROS SA DE CV SOFOM ENR \\u003cbr\\u003eSISTEMAS PRESENTES: TAS,SIRAC\\u003cbr\\u003eNUMERO DE CLIENTES: [1065045, 10333123.0]  \\u003cbr\\u003eDIRECCIONES: [nan, nan]  \\u003cbr\\u003e RFCS: ['RSF050920LP2', 'RSF050920LP2'] \",\"CEMEX SAB DE CV \\u003cbr\\u003eSISTEMAS PRESENTES: TAS,SIRAC\\u003cbr\\u003eNUMERO DE CLIENTES: [1064434, 10335210.0]  \\u003cbr\\u003eDIRECCIONES: [nan, nan]  \\u003cbr\\u003e RFCS: ['CEM880726UZA', 'CEM880726UZA'] \",\"SERFIMEX CAPITAL S.A.P.I.  DE C.V., SOFOM, E.N.R. \\u003cbr\\u003eSISTEMAS PRESENTES: TAS,SIRAC\\u003cbr\\u003eNUMERO DE CLIENTES: [1065257, 14841326.0]  \\u003cbr\\u003eDIRECCIONES: [nan, nan]  \\u003cbr\\u003e RFCS: ['SCA090311Q29', 'SCA090311Q29'] \",\"APOYO ECONOMICO FAMILIAR SA DE CV SOFOM ENR \\u003cbr\\u003eSISTEMAS PRESENTES: TAS,SIRAC\\u003cbr\\u003eNUMERO DE CLIENTES: [1064485, 22336018.0]  \\u003cbr\\u003eDIRECCIONES: [nan, nan]  \\u003cbr\\u003e RFCS: ['AEF050221TY2', 'AEF050221TY2'] \",\"BANCO SANTANDER MEXICO, S.A. \\u003cbr\\u003eSISTEMAS PRESENTES: SIPE,TAS,SIRAC\\u003cbr\\u003eNUMERO DE CLIENTES: [18, 1060010, 23422459.0]  \\u003cbr\\u003eDIRECCIONES: ['PROL. PASEO DE LA REFORMA 500, COL. LOMAS DE SANTA FE', nan, nan]  \\u003cbr\\u003e RFCS: ['BSM970519DU8', 'XXXXXXXXXXXXX', 'BSM970519DU8'] \",\"FINACTIV SA DE CV SOFOM ENR \\u003cbr\\u003eSISTEMAS PRESENTES: TAS,SIRAC\\u003cbr\\u003eNUMERO DE CLIENTES: [1065651, 25287629.0]  \\u003cbr\\u003eDIRECCIONES: [nan, nan]  \\u003cbr\\u003e RFCS: ['FIN080630IS4', 'FIN080630IS4'] \",\"FINANCIERA LABOR SAPI DE CV SOFOM ENR \\u003cbr\\u003eSISTEMAS PRESENTES: TAS,SIRAC\\u003cbr\\u003eNUMERO DE CLIENTES: [1064759, 28120570.0]  \\u003cbr\\u003eDIRECCIONES: [nan, nan]  \\u003cbr\\u003e RFCS: ['FLA080115FZ6', 'FLA080115FZ6'] \",\"PROAKTIVA SAPI DE CV SOFOM ENR \\u003cbr\\u003eSISTEMAS PRESENTES: TAS,SIRAC\\u003cbr\\u003eNUMERO DE CLIENTES: [1065224, 28455530.0]  \\u003cbr\\u003eDIRECCIONES: [nan, nan]  \\u003cbr\\u003e RFCS: ['PRO080306UD8', 'PRO080306UD8'] \",\"ION FINANCIERA, S.A.P.I. DE C.V., SOFOM, ER \\u003cbr\\u003eSISTEMAS PRESENTES: TAS,SIRAC\\u003cbr\\u003eNUMERO DE CLIENTES: [1065657, 28462568.0]  \\u003cbr\\u003eDIRECCIONES: [nan, nan]  \\u003cbr\\u003e RFCS: ['QCO110616EI8', 'QCO110616EI8'] \",\"NATURAEXTRACTA SA DE CV \\u003cbr\\u003eSISTEMAS PRESENTES: TAS,SIRAC\\u003cbr\\u003eNUMERO DE CLIENTES: [1065820, 28545693.0]  \\u003cbr\\u003eDIRECCIONES: [nan, nan]  \\u003cbr\\u003e RFCS: ['NAT050819576', 'NAT050819576'] \",\"BANCO SABADELL,S.A., INSTITUCION DE BANCA MULTIPLE \\u003cbr\\u003eSISTEMAS PRESENTES: TAS,TAS,SIRAC\\u003cbr\\u003eNUMERO DE CLIENTES: [1059981, 1065710, 28561148.0]  \\u003cbr\\u003eDIRECCIONES: [nan, nan, nan]  \\u003cbr\\u003e RFCS: ['DCS150115331', 'DCS150115331', 'DCS150115331'] \",\"AFIX SERVICIOS FINANCIEROS, S.A.P.I. DE C.V. SOFOM, E.N.R. \\u003cbr\\u003eSISTEMAS PRESENTES: TAS,SIRAC\\u003cbr\\u003eNUMERO DE CLIENTES: [1065491, 28563824.0]  \\u003cbr\\u003eDIRECCIONES: [nan, nan]  \\u003cbr\\u003e RFCS: ['ASF0901169V3', 'ASF0901169V3'] \",\"ALSOL CONTIGO, S.A. DE C.V., SOFOM, E.N.R. \\u003cbr\\u003eSISTEMAS PRESENTES: TAS,TAS,SIRAC\\u003cbr\\u003eNUMERO DE CLIENTES: [1065418, 1065564, 28627541.0]  \\u003cbr\\u003eDIRECCIONES: [nan, nan, nan]  \\u003cbr\\u003e RFCS: ['ACO090216551', 'ACO090216551', 'ACO090216551'] \",\"FONDO ESPECIAL PARA FINANCIAMIENTOS AGROPECUARIOS \\u003cbr\\u003eSISTEMAS PRESENTES: TAS,SIRAC\\u003cbr\\u003eNUMERO DE CLIENTES: [1064799, 28729842.0]  \\u003cbr\\u003eDIRECCIONES: [nan, nan]  \\u003cbr\\u003e RFCS: ['FEF650826K41', 'FEF650826K41'] \",\"FINPO SA DE CV SOFOM ENR \\u003cbr\\u003eSISTEMAS PRESENTES: TAS,SIRAC\\u003cbr\\u003eNUMERO DE CLIENTES: [1065603, 28743362.0]  \\u003cbr\\u003eDIRECCIONES: [nan, nan]  \\u003cbr\\u003e RFCS: ['FIN0810067T0', 'FIN0810067T0'] \",\"COFINE, SAPI DE CV SOFOM ENR \\u003cbr\\u003eSISTEMAS PRESENTES: TAS,SIRAC\\u003cbr\\u003eNUMERO DE CLIENTES: [1065656, 28778950.0]  \\u003cbr\\u003eDIRECCIONES: [nan, nan]  \\u003cbr\\u003e RFCS: ['COF9803047E9', 'COF9803047E9'] \",\"FACTOR EXPRES SAPI DE CV SOFOM ENR \\u003cbr\\u003eSISTEMAS PRESENTES: TAS,SIRAC\\u003cbr\\u003eNUMERO DE CLIENTES: [1065676, 28785906.0]  \\u003cbr\\u003eDIRECCIONES: [nan, nan]  \\u003cbr\\u003e RFCS: ['FEX130430JX1', 'FEX130430JX1'] \",\"P.M.I. TRADING DESIGNATED ACTIVITY COMPANY \\u003cbr\\u003eSISTEMAS PRESENTES: TAS,TAS,SIRAC\\u003cbr\\u003eNUMERO DE CLIENTES: [6009402, 1065415, 28820233.0]  \\u003cbr\\u003eDIRECCIONES: [nan, nan, nan]  \\u003cbr\\u003e RFCS: ['PMI9105174FA', 'PMI9105174FA', 'PMI9105174FA'] \",\"CREDIPLATA SAPI DE CV SOFOM ENR \\u003cbr\\u003eSISTEMAS PRESENTES: TAS,SIRAC\\u003cbr\\u003eNUMERO DE CLIENTES: [1065780, 28892040.0]  \\u003cbr\\u003eDIRECCIONES: [nan, nan]  \\u003cbr\\u003e RFCS: ['CRE130903KD7', 'CRE130903KD7'] \",\"FINANCIERA CEFEMEX, S.A. DE C.V., SOFOM, E.N.R. \\u003cbr\\u003eSISTEMAS PRESENTES: TAS,SIRAC\\u003cbr\\u003eNUMERO DE CLIENTES: [1065798, 28907819.0]  \\u003cbr\\u003eDIRECCIONES: [nan, nan]  \\u003cbr\\u003e RFCS: ['CEF010505N86', 'CEF010505N86'] \",\"SOFIPA CORPORATION, S.A.P.I. DE C.V., SOFOM E.N.R. \\u003cbr\\u003eSISTEMAS PRESENTES: TAS,SIRAC\\u003cbr\\u003eNUMERO DE CLIENTES: [1065803, 28917282.0]  \\u003cbr\\u003eDIRECCIONES: [nan, nan]  \\u003cbr\\u003e RFCS: ['FIN080623RZ8', 'FIN080623RZ8'] \"],\"x\":[\"3912903.0\",\"3912912.0\",\"3970056.0\",\"4092904.0\",\"5970070.0\",\"10172806.0\",\"10177936.0\",\"10281162.0\",\"10286078.0\",\"10333123.0\",\"10335210.0\",\"14841326.0\",\"22336018.0\",\"23422459.0\",\"25287629.0\",\"28120570.0\",\"28455530.0\",\"28462568.0\",\"28545693.0\",\"28561148.0\",\"28563824.0\",\"28627541.0\",\"28729842.0\",\"28743362.0\",\"28778950.0\",\"28785906.0\",\"28820233.0\",\"28892040.0\",\"28907819.0\",\"28917282.0\"],\"y\":[1,1,1,4,4,1,1,1,1,1,1,1,1,2,1,1,1,1,1,2,1,2,1,1,1,1,2,1,1,1],\"type\":\"scatter\"}],                        {\"template\":{\"data\":{\"histogram2dcontour\":[{\"type\":\"histogram2dcontour\",\"colorbar\":{\"outlinewidth\":0,\"ticks\":\"\"},\"colorscale\":[[0.0,\"#0d0887\"],[0.1111111111111111,\"#46039f\"],[0.2222222222222222,\"#7201a8\"],[0.3333333333333333,\"#9c179e\"],[0.4444444444444444,\"#bd3786\"],[0.5555555555555556,\"#d8576b\"],[0.6666666666666666,\"#ed7953\"],[0.7777777777777778,\"#fb9f3a\"],[0.8888888888888888,\"#fdca26\"],[1.0,\"#f0f921\"]]}],\"choropleth\":[{\"type\":\"choropleth\",\"colorbar\":{\"outlinewidth\":0,\"ticks\":\"\"}}],\"histogram2d\":[{\"type\":\"histogram2d\",\"colorbar\":{\"outlinewidth\":0,\"ticks\":\"\"},\"colorscale\":[[0.0,\"#0d0887\"],[0.1111111111111111,\"#46039f\"],[0.2222222222222222,\"#7201a8\"],[0.3333333333333333,\"#9c179e\"],[0.4444444444444444,\"#bd3786\"],[0.5555555555555556,\"#d8576b\"],[0.6666666666666666,\"#ed7953\"],[0.7777777777777778,\"#fb9f3a\"],[0.8888888888888888,\"#fdca26\"],[1.0,\"#f0f921\"]]}],\"heatmap\":[{\"type\":\"heatmap\",\"colorbar\":{\"outlinewidth\":0,\"ticks\":\"\"},\"colorscale\":[[0.0,\"#0d0887\"],[0.1111111111111111,\"#46039f\"],[0.2222222222222222,\"#7201a8\"],[0.3333333333333333,\"#9c179e\"],[0.4444444444444444,\"#bd3786\"],[0.5555555555555556,\"#d8576b\"],[0.6666666666666666,\"#ed7953\"],[0.7777777777777778,\"#fb9f3a\"],[0.8888888888888888,\"#fdca26\"],[1.0,\"#f0f921\"]]}],\"heatmapgl\":[{\"type\":\"heatmapgl\",\"colorbar\":{\"outlinewidth\":0,\"ticks\":\"\"},\"colorscale\":[[0.0,\"#0d0887\"],[0.1111111111111111,\"#46039f\"],[0.2222222222222222,\"#7201a8\"],[0.3333333333333333,\"#9c179e\"],[0.4444444444444444,\"#bd3786\"],[0.5555555555555556,\"#d8576b\"],[0.6666666666666666,\"#ed7953\"],[0.7777777777777778,\"#fb9f3a\"],[0.8888888888888888,\"#fdca26\"],[1.0,\"#f0f921\"]]}],\"contourcarpet\":[{\"type\":\"contourcarpet\",\"colorbar\":{\"outlinewidth\":0,\"ticks\":\"\"}}],\"contour\":[{\"type\":\"contour\",\"colorbar\":{\"outlinewidth\":0,\"ticks\":\"\"},\"colorscale\":[[0.0,\"#0d0887\"],[0.1111111111111111,\"#46039f\"],[0.2222222222222222,\"#7201a8\"],[0.3333333333333333,\"#9c179e\"],[0.4444444444444444,\"#bd3786\"],[0.5555555555555556,\"#d8576b\"],[0.6666666666666666,\"#ed7953\"],[0.7777777777777778,\"#fb9f3a\"],[0.8888888888888888,\"#fdca26\"],[1.0,\"#f0f921\"]]}],\"surface\":[{\"type\":\"surface\",\"colorbar\":{\"outlinewidth\":0,\"ticks\":\"\"},\"colorscale\":[[0.0,\"#0d0887\"],[0.1111111111111111,\"#46039f\"],[0.2222222222222222,\"#7201a8\"],[0.3333333333333333,\"#9c179e\"],[0.4444444444444444,\"#bd3786\"],[0.5555555555555556,\"#d8576b\"],[0.6666666666666666,\"#ed7953\"],[0.7777777777777778,\"#fb9f3a\"],[0.8888888888888888,\"#fdca26\"],[1.0,\"#f0f921\"]]}],\"mesh3d\":[{\"type\":\"mesh3d\",\"colorbar\":{\"outlinewidth\":0,\"ticks\":\"\"}}],\"scatter\":[{\"fillpattern\":{\"fillmode\":\"overlay\",\"size\":10,\"solidity\":0.2},\"type\":\"scatter\"}],\"parcoords\":[{\"type\":\"parcoords\",\"line\":{\"colorbar\":{\"outlinewidth\":0,\"ticks\":\"\"}}}],\"scatterpolargl\":[{\"type\":\"scatterpolargl\",\"marker\":{\"colorbar\":{\"outlinewidth\":0,\"ticks\":\"\"}}}],\"bar\":[{\"error_x\":{\"color\":\"#2a3f5f\"},\"error_y\":{\"color\":\"#2a3f5f\"},\"marker\":{\"line\":{\"color\":\"#E5ECF6\",\"width\":0.5},\"pattern\":{\"fillmode\":\"overlay\",\"size\":10,\"solidity\":0.2}},\"type\":\"bar\"}],\"scattergeo\":[{\"type\":\"scattergeo\",\"marker\":{\"colorbar\":{\"outlinewidth\":0,\"ticks\":\"\"}}}],\"scatterpolar\":[{\"type\":\"scatterpolar\",\"marker\":{\"colorbar\":{\"outlinewidth\":0,\"ticks\":\"\"}}}],\"histogram\":[{\"marker\":{\"pattern\":{\"fillmode\":\"overlay\",\"size\":10,\"solidity\":0.2}},\"type\":\"histogram\"}],\"scattergl\":[{\"type\":\"scattergl\",\"marker\":{\"colorbar\":{\"outlinewidth\":0,\"ticks\":\"\"}}}],\"scatter3d\":[{\"type\":\"scatter3d\",\"line\":{\"colorbar\":{\"outlinewidth\":0,\"ticks\":\"\"}},\"marker\":{\"colorbar\":{\"outlinewidth\":0,\"ticks\":\"\"}}}],\"scattermapbox\":[{\"type\":\"scattermapbox\",\"marker\":{\"colorbar\":{\"outlinewidth\":0,\"ticks\":\"\"}}}],\"scatterternary\":[{\"type\":\"scatterternary\",\"marker\":{\"colorbar\":{\"outlinewidth\":0,\"ticks\":\"\"}}}],\"scattercarpet\":[{\"type\":\"scattercarpet\",\"marker\":{\"colorbar\":{\"outlinewidth\":0,\"ticks\":\"\"}}}],\"carpet\":[{\"aaxis\":{\"endlinecolor\":\"#2a3f5f\",\"gridcolor\":\"white\",\"linecolor\":\"white\",\"minorgridcolor\":\"white\",\"startlinecolor\":\"#2a3f5f\"},\"baxis\":{\"endlinecolor\":\"#2a3f5f\",\"gridcolor\":\"white\",\"linecolor\":\"white\",\"minorgridcolor\":\"white\",\"startlinecolor\":\"#2a3f5f\"},\"type\":\"carpet\"}],\"table\":[{\"cells\":{\"fill\":{\"color\":\"#EBF0F8\"},\"line\":{\"color\":\"white\"}},\"header\":{\"fill\":{\"color\":\"#C8D4E3\"},\"line\":{\"color\":\"white\"}},\"type\":\"table\"}],\"barpolar\":[{\"marker\":{\"line\":{\"color\":\"#E5ECF6\",\"width\":0.5},\"pattern\":{\"fillmode\":\"overlay\",\"size\":10,\"solidity\":0.2}},\"type\":\"barpolar\"}],\"pie\":[{\"automargin\":true,\"type\":\"pie\"}]},\"layout\":{\"autotypenumbers\":\"strict\",\"colorway\":[\"#636efa\",\"#EF553B\",\"#00cc96\",\"#ab63fa\",\"#FFA15A\",\"#19d3f3\",\"#FF6692\",\"#B6E880\",\"#FF97FF\",\"#FECB52\"],\"font\":{\"color\":\"#2a3f5f\"},\"hovermode\":\"closest\",\"hoverlabel\":{\"align\":\"left\"},\"paper_bgcolor\":\"white\",\"plot_bgcolor\":\"#E5ECF6\",\"polar\":{\"bgcolor\":\"#E5ECF6\",\"angularaxis\":{\"gridcolor\":\"white\",\"linecolor\":\"white\",\"ticks\":\"\"},\"radialaxis\":{\"gridcolor\":\"white\",\"linecolor\":\"white\",\"ticks\":\"\"}},\"ternary\":{\"bgcolor\":\"#E5ECF6\",\"aaxis\":{\"gridcolor\":\"white\",\"linecolor\":\"white\",\"ticks\":\"\"},\"baxis\":{\"gridcolor\":\"white\",\"linecolor\":\"white\",\"ticks\":\"\"},\"caxis\":{\"gridcolor\":\"white\",\"linecolor\":\"white\",\"ticks\":\"\"}},\"coloraxis\":{\"colorbar\":{\"outlinewidth\":0,\"ticks\":\"\"}},\"colorscale\":{\"sequential\":[[0.0,\"#0d0887\"],[0.1111111111111111,\"#46039f\"],[0.2222222222222222,\"#7201a8\"],[0.3333333333333333,\"#9c179e\"],[0.4444444444444444,\"#bd3786\"],[0.5555555555555556,\"#d8576b\"],[0.6666666666666666,\"#ed7953\"],[0.7777777777777778,\"#fb9f3a\"],[0.8888888888888888,\"#fdca26\"],[1.0,\"#f0f921\"]],\"sequentialminus\":[[0.0,\"#0d0887\"],[0.1111111111111111,\"#46039f\"],[0.2222222222222222,\"#7201a8\"],[0.3333333333333333,\"#9c179e\"],[0.4444444444444444,\"#bd3786\"],[0.5555555555555556,\"#d8576b\"],[0.6666666666666666,\"#ed7953\"],[0.7777777777777778,\"#fb9f3a\"],[0.8888888888888888,\"#fdca26\"],[1.0,\"#f0f921\"]],\"diverging\":[[0,\"#8e0152\"],[0.1,\"#c51b7d\"],[0.2,\"#de77ae\"],[0.3,\"#f1b6da\"],[0.4,\"#fde0ef\"],[0.5,\"#f7f7f7\"],[0.6,\"#e6f5d0\"],[0.7,\"#b8e186\"],[0.8,\"#7fbc41\"],[0.9,\"#4d9221\"],[1,\"#276419\"]]},\"xaxis\":{\"gridcolor\":\"white\",\"linecolor\":\"white\",\"ticks\":\"\",\"title\":{\"standoff\":15},\"zerolinecolor\":\"white\",\"automargin\":true,\"zerolinewidth\":2},\"yaxis\":{\"gridcolor\":\"white\",\"linecolor\":\"white\",\"ticks\":\"\",\"title\":{\"standoff\":15},\"zerolinecolor\":\"white\",\"automargin\":true,\"zerolinewidth\":2},\"scene\":{\"xaxis\":{\"backgroundcolor\":\"#E5ECF6\",\"gridcolor\":\"white\",\"linecolor\":\"white\",\"showbackground\":true,\"ticks\":\"\",\"zerolinecolor\":\"white\",\"gridwidth\":2},\"yaxis\":{\"backgroundcolor\":\"#E5ECF6\",\"gridcolor\":\"white\",\"linecolor\":\"white\",\"showbackground\":true,\"ticks\":\"\",\"zerolinecolor\":\"white\",\"gridwidth\":2},\"zaxis\":{\"backgroundcolor\":\"#E5ECF6\",\"gridcolor\":\"white\",\"linecolor\":\"white\",\"showbackground\":true,\"ticks\":\"\",\"zerolinecolor\":\"white\",\"gridwidth\":2}},\"shapedefaults\":{\"line\":{\"color\":\"#2a3f5f\"}},\"annotationdefaults\":{\"arrowcolor\":\"#2a3f5f\",\"arrowhead\":0,\"arrowwidth\":1},\"geo\":{\"bgcolor\":\"white\",\"landcolor\":\"#E5ECF6\",\"subunitcolor\":\"white\",\"showland\":true,\"showlakes\":true,\"lakecolor\":\"white\"},\"title\":{\"x\":0.05},\"mapbox\":{\"style\":\"light\"}}},\"title\":{\"text\":\"Dispersi\\u00f3n de clientes y sistemas SIRAC y sistemas\"},\"xaxis\":{\"title\":{\"text\":\"ID_ORIGEN\"}},\"yaxis\":{\"title\":{\"text\":\"Count\"}}},                        {\"responsive\": true}                    ).then(function(){\n",
       "                            \n",
       "var gd = document.getElementById('38100e66-e99f-4dab-b9f2-aab7eecb326c');\n",
       "var x = new MutationObserver(function (mutations, observer) {{\n",
       "        var display = window.getComputedStyle(gd).display;\n",
       "        if (!display || display === 'none') {{\n",
       "            console.log([gd, 'removed!']);\n",
       "            Plotly.purge(gd);\n",
       "            observer.disconnect();\n",
       "        }}\n",
       "}});\n",
       "\n",
       "// Listen for the removal of the full notebook cells\n",
       "var notebookContainer = gd.closest('#notebook-container');\n",
       "if (notebookContainer) {{\n",
       "    x.observe(notebookContainer, {childList: true});\n",
       "}}\n",
       "\n",
       "// Listen for the clearing of the current output cell\n",
       "var outputEl = gd.closest('.output');\n",
       "if (outputEl) {{\n",
       "    x.observe(outputEl, {childList: true});\n",
       "}}\n",
       "\n",
       "                        })                };                });            </script>        </div>"
      ]
     },
     "metadata": {},
     "output_type": "display_data"
    }
   ],
   "source": [
    "dfs_comp = [df_soi ,df_meca , df_sims  , df_sipe ,df_tas]\n",
    "grouped_df_sirac, comparacion_sirac = clts_repetidos( df_sirac, dfs_comp, \"NOMBRE_O_RAZON_SOCIAL\", 93, \"SIRAC y sistemas\")"
   ]
  },
  {
   "cell_type": "code",
   "execution_count": null,
   "metadata": {},
   "outputs": [],
   "source": [
    "grouped_df_sirac"
   ]
  },
  {
   "cell_type": "markdown",
   "metadata": {},
   "source": [
    "# SOI VS LOS SISTEMAS TRANSACCIONALES"
   ]
  },
  {
   "cell_type": "code",
   "execution_count": 153,
   "metadata": {},
   "outputs": [
    {
     "data": {
      "application/vnd.plotly.v1+json": {
       "config": {
        "plotlyServerURL": "https://plot.ly"
       },
       "data": [
        {
         "hovertemplate": "%{text}",
         "marker": {
          "color": "blue",
          "size": 10
         },
         "mode": "markers",
         "text": [
          "BANK OF AMERICA <br>SISTEMAS PRESENTES: SIPE,SOI<br>NUMERO DE CLIENTES: [325, 7912.0]  <br>DIRECCIONES: [nan, 'ONE BRYANT PARK -- ONE BRYANT PARK']  <br> RFCS: ['XXXXXXXXXXXXX', 'XXXXXXXXXXXXX'] ",
          "NATEXIS BANQUE POPULAIRES <br>SISTEMAS PRESENTES: SIPE,SOI<br>NUMERO DE CLIENTES: [291, 9005.0]  <br>DIRECCIONES: ['1251 AV OF THE AMERICAS 34TH FLOOR NY NY 10020', 'AVENUE PIRRE MENDES FRANC -- RUE SAINT DOMINIQUE']  <br> RFCS: ['XXXXXXXXXXXXX', 'XXXXXXXXXXXXX'] ",
          "MIZUHO CORPORATE BANK LIMITED NEW YORK <br>SISTEMAS PRESENTES: SIPE,SOI<br>NUMERO DE CLIENTES: [309, 9041.0]  <br>DIRECCIONES: ['1251 AVENUE OF THE AMERICAS NEW YORK, NEW YORK 10020', 'AV. AMERICAS PISO 31 -- AV. LAS AMERICAS PISO 31 -- NA']  <br> RFCS: ['XXXXXXXXXXXXX', 'XXXXXXXXXXXXX'] ",
          "SWISS BANK CORP. <br>SISTEMAS PRESENTES: MECA,SOI<br>NUMERO DE CLIENTES: ['SWISS', 10429.0]  <br>DIRECCIONES: ['NO SE TIENE REGISTRADA LA INFORMACION', nan]  <br> RFCS: ['XXXXXXXXXXXX', 'XXXXXXXXXXXXX'] ",
          "UNION BANK OF SWITZERLAND <br>SISTEMAS PRESENTES: MECA,SIPE,SOI<br>NUMERO DE CLIENTES: ['UBS', 5, 10459.0]  <br>DIRECCIONES: ['NO SE TIENE REGISTRADA LA INFORMACION', '299 PARK AVENUE, NEW YORK, NY 10171-0026', nan]  <br> RFCS: ['XXXXXXXXXXXX', 'XXXXXXXXXXXXX', 'XXXXXXXXXXXXX'] ",
          "STANDARD CHARTERED BANK LTD <br>SISTEMAS PRESENTES: SIPE,SIPE,SOI<br>NUMERO DE CLIENTES: [10, 314, 10463.0]  <br>DIRECCIONES: ['160 WATER STREET, NEW YORK, NY. 10038-4995', nan, 'AVENUE OF THE AMERICAS -- AVENUE OF THE AMERICAS']  <br> RFCS: ['XXXXXXXXXXXXX', 'XXXXXXXXXXXXX', 'XXXXXXXXXXXXX'] ",
          "NACIONAL FINANCIERA, S.N.C. <br>SISTEMAS PRESENTES: MECA,SIMS,TAS,SOI<br>NUMERO DE CLIENTES: ['NAFIN', 'NAFIN', 100177, 12066.0]  <br>DIRECCIONES: ['INSURGENTES SUR 1971', 'INSURGENTES SUR 1971, GUADALUPE INN', nan, 'INSURGENTES SUR']  <br> RFCS: ['NFI3406305TO', 'XXXXXXXXXXXXX', 'NFI3406305T0', 'NFI3406305T0'] ",
          "THE BANK OF NEW YORK MELLON <br>SISTEMAS PRESENTES: SIPE,SIPE,SOI<br>NUMERO DE CLIENTES: [341, 343, 90432.0]  <br>DIRECCIONES: ['NEW YORK', '225 LIBERTY STREET', 'BARCLAY STREET -- BARCLAY STREET -- BARCLAY STREET']  <br> RFCS: ['XXXXXXXXXXXXX', 'XXXXXXXXXXXXX', 'XXXXXXXXXXXXX'] "
         ],
         "type": "scatter",
         "x": [
          "7912.0",
          "9005.0",
          "9041.0",
          "10429.0",
          "10459.0",
          "10463.0",
          "12066.0",
          "90432.0"
         ],
         "y": [
          1,
          1,
          1,
          1,
          2,
          2,
          3,
          2
         ]
        }
       ],
       "layout": {
        "template": {
         "data": {
          "bar": [
           {
            "error_x": {
             "color": "#2a3f5f"
            },
            "error_y": {
             "color": "#2a3f5f"
            },
            "marker": {
             "line": {
              "color": "#E5ECF6",
              "width": 0.5
             },
             "pattern": {
              "fillmode": "overlay",
              "size": 10,
              "solidity": 0.2
             }
            },
            "type": "bar"
           }
          ],
          "barpolar": [
           {
            "marker": {
             "line": {
              "color": "#E5ECF6",
              "width": 0.5
             },
             "pattern": {
              "fillmode": "overlay",
              "size": 10,
              "solidity": 0.2
             }
            },
            "type": "barpolar"
           }
          ],
          "carpet": [
           {
            "aaxis": {
             "endlinecolor": "#2a3f5f",
             "gridcolor": "white",
             "linecolor": "white",
             "minorgridcolor": "white",
             "startlinecolor": "#2a3f5f"
            },
            "baxis": {
             "endlinecolor": "#2a3f5f",
             "gridcolor": "white",
             "linecolor": "white",
             "minorgridcolor": "white",
             "startlinecolor": "#2a3f5f"
            },
            "type": "carpet"
           }
          ],
          "choropleth": [
           {
            "colorbar": {
             "outlinewidth": 0,
             "ticks": ""
            },
            "type": "choropleth"
           }
          ],
          "contour": [
           {
            "colorbar": {
             "outlinewidth": 0,
             "ticks": ""
            },
            "colorscale": [
             [
              0,
              "#0d0887"
             ],
             [
              0.1111111111111111,
              "#46039f"
             ],
             [
              0.2222222222222222,
              "#7201a8"
             ],
             [
              0.3333333333333333,
              "#9c179e"
             ],
             [
              0.4444444444444444,
              "#bd3786"
             ],
             [
              0.5555555555555556,
              "#d8576b"
             ],
             [
              0.6666666666666666,
              "#ed7953"
             ],
             [
              0.7777777777777778,
              "#fb9f3a"
             ],
             [
              0.8888888888888888,
              "#fdca26"
             ],
             [
              1,
              "#f0f921"
             ]
            ],
            "type": "contour"
           }
          ],
          "contourcarpet": [
           {
            "colorbar": {
             "outlinewidth": 0,
             "ticks": ""
            },
            "type": "contourcarpet"
           }
          ],
          "heatmap": [
           {
            "colorbar": {
             "outlinewidth": 0,
             "ticks": ""
            },
            "colorscale": [
             [
              0,
              "#0d0887"
             ],
             [
              0.1111111111111111,
              "#46039f"
             ],
             [
              0.2222222222222222,
              "#7201a8"
             ],
             [
              0.3333333333333333,
              "#9c179e"
             ],
             [
              0.4444444444444444,
              "#bd3786"
             ],
             [
              0.5555555555555556,
              "#d8576b"
             ],
             [
              0.6666666666666666,
              "#ed7953"
             ],
             [
              0.7777777777777778,
              "#fb9f3a"
             ],
             [
              0.8888888888888888,
              "#fdca26"
             ],
             [
              1,
              "#f0f921"
             ]
            ],
            "type": "heatmap"
           }
          ],
          "heatmapgl": [
           {
            "colorbar": {
             "outlinewidth": 0,
             "ticks": ""
            },
            "colorscale": [
             [
              0,
              "#0d0887"
             ],
             [
              0.1111111111111111,
              "#46039f"
             ],
             [
              0.2222222222222222,
              "#7201a8"
             ],
             [
              0.3333333333333333,
              "#9c179e"
             ],
             [
              0.4444444444444444,
              "#bd3786"
             ],
             [
              0.5555555555555556,
              "#d8576b"
             ],
             [
              0.6666666666666666,
              "#ed7953"
             ],
             [
              0.7777777777777778,
              "#fb9f3a"
             ],
             [
              0.8888888888888888,
              "#fdca26"
             ],
             [
              1,
              "#f0f921"
             ]
            ],
            "type": "heatmapgl"
           }
          ],
          "histogram": [
           {
            "marker": {
             "pattern": {
              "fillmode": "overlay",
              "size": 10,
              "solidity": 0.2
             }
            },
            "type": "histogram"
           }
          ],
          "histogram2d": [
           {
            "colorbar": {
             "outlinewidth": 0,
             "ticks": ""
            },
            "colorscale": [
             [
              0,
              "#0d0887"
             ],
             [
              0.1111111111111111,
              "#46039f"
             ],
             [
              0.2222222222222222,
              "#7201a8"
             ],
             [
              0.3333333333333333,
              "#9c179e"
             ],
             [
              0.4444444444444444,
              "#bd3786"
             ],
             [
              0.5555555555555556,
              "#d8576b"
             ],
             [
              0.6666666666666666,
              "#ed7953"
             ],
             [
              0.7777777777777778,
              "#fb9f3a"
             ],
             [
              0.8888888888888888,
              "#fdca26"
             ],
             [
              1,
              "#f0f921"
             ]
            ],
            "type": "histogram2d"
           }
          ],
          "histogram2dcontour": [
           {
            "colorbar": {
             "outlinewidth": 0,
             "ticks": ""
            },
            "colorscale": [
             [
              0,
              "#0d0887"
             ],
             [
              0.1111111111111111,
              "#46039f"
             ],
             [
              0.2222222222222222,
              "#7201a8"
             ],
             [
              0.3333333333333333,
              "#9c179e"
             ],
             [
              0.4444444444444444,
              "#bd3786"
             ],
             [
              0.5555555555555556,
              "#d8576b"
             ],
             [
              0.6666666666666666,
              "#ed7953"
             ],
             [
              0.7777777777777778,
              "#fb9f3a"
             ],
             [
              0.8888888888888888,
              "#fdca26"
             ],
             [
              1,
              "#f0f921"
             ]
            ],
            "type": "histogram2dcontour"
           }
          ],
          "mesh3d": [
           {
            "colorbar": {
             "outlinewidth": 0,
             "ticks": ""
            },
            "type": "mesh3d"
           }
          ],
          "parcoords": [
           {
            "line": {
             "colorbar": {
              "outlinewidth": 0,
              "ticks": ""
             }
            },
            "type": "parcoords"
           }
          ],
          "pie": [
           {
            "automargin": true,
            "type": "pie"
           }
          ],
          "scatter": [
           {
            "fillpattern": {
             "fillmode": "overlay",
             "size": 10,
             "solidity": 0.2
            },
            "type": "scatter"
           }
          ],
          "scatter3d": [
           {
            "line": {
             "colorbar": {
              "outlinewidth": 0,
              "ticks": ""
             }
            },
            "marker": {
             "colorbar": {
              "outlinewidth": 0,
              "ticks": ""
             }
            },
            "type": "scatter3d"
           }
          ],
          "scattercarpet": [
           {
            "marker": {
             "colorbar": {
              "outlinewidth": 0,
              "ticks": ""
             }
            },
            "type": "scattercarpet"
           }
          ],
          "scattergeo": [
           {
            "marker": {
             "colorbar": {
              "outlinewidth": 0,
              "ticks": ""
             }
            },
            "type": "scattergeo"
           }
          ],
          "scattergl": [
           {
            "marker": {
             "colorbar": {
              "outlinewidth": 0,
              "ticks": ""
             }
            },
            "type": "scattergl"
           }
          ],
          "scattermapbox": [
           {
            "marker": {
             "colorbar": {
              "outlinewidth": 0,
              "ticks": ""
             }
            },
            "type": "scattermapbox"
           }
          ],
          "scatterpolar": [
           {
            "marker": {
             "colorbar": {
              "outlinewidth": 0,
              "ticks": ""
             }
            },
            "type": "scatterpolar"
           }
          ],
          "scatterpolargl": [
           {
            "marker": {
             "colorbar": {
              "outlinewidth": 0,
              "ticks": ""
             }
            },
            "type": "scatterpolargl"
           }
          ],
          "scatterternary": [
           {
            "marker": {
             "colorbar": {
              "outlinewidth": 0,
              "ticks": ""
             }
            },
            "type": "scatterternary"
           }
          ],
          "surface": [
           {
            "colorbar": {
             "outlinewidth": 0,
             "ticks": ""
            },
            "colorscale": [
             [
              0,
              "#0d0887"
             ],
             [
              0.1111111111111111,
              "#46039f"
             ],
             [
              0.2222222222222222,
              "#7201a8"
             ],
             [
              0.3333333333333333,
              "#9c179e"
             ],
             [
              0.4444444444444444,
              "#bd3786"
             ],
             [
              0.5555555555555556,
              "#d8576b"
             ],
             [
              0.6666666666666666,
              "#ed7953"
             ],
             [
              0.7777777777777778,
              "#fb9f3a"
             ],
             [
              0.8888888888888888,
              "#fdca26"
             ],
             [
              1,
              "#f0f921"
             ]
            ],
            "type": "surface"
           }
          ],
          "table": [
           {
            "cells": {
             "fill": {
              "color": "#EBF0F8"
             },
             "line": {
              "color": "white"
             }
            },
            "header": {
             "fill": {
              "color": "#C8D4E3"
             },
             "line": {
              "color": "white"
             }
            },
            "type": "table"
           }
          ]
         },
         "layout": {
          "annotationdefaults": {
           "arrowcolor": "#2a3f5f",
           "arrowhead": 0,
           "arrowwidth": 1
          },
          "autotypenumbers": "strict",
          "coloraxis": {
           "colorbar": {
            "outlinewidth": 0,
            "ticks": ""
           }
          },
          "colorscale": {
           "diverging": [
            [
             0,
             "#8e0152"
            ],
            [
             0.1,
             "#c51b7d"
            ],
            [
             0.2,
             "#de77ae"
            ],
            [
             0.3,
             "#f1b6da"
            ],
            [
             0.4,
             "#fde0ef"
            ],
            [
             0.5,
             "#f7f7f7"
            ],
            [
             0.6,
             "#e6f5d0"
            ],
            [
             0.7,
             "#b8e186"
            ],
            [
             0.8,
             "#7fbc41"
            ],
            [
             0.9,
             "#4d9221"
            ],
            [
             1,
             "#276419"
            ]
           ],
           "sequential": [
            [
             0,
             "#0d0887"
            ],
            [
             0.1111111111111111,
             "#46039f"
            ],
            [
             0.2222222222222222,
             "#7201a8"
            ],
            [
             0.3333333333333333,
             "#9c179e"
            ],
            [
             0.4444444444444444,
             "#bd3786"
            ],
            [
             0.5555555555555556,
             "#d8576b"
            ],
            [
             0.6666666666666666,
             "#ed7953"
            ],
            [
             0.7777777777777778,
             "#fb9f3a"
            ],
            [
             0.8888888888888888,
             "#fdca26"
            ],
            [
             1,
             "#f0f921"
            ]
           ],
           "sequentialminus": [
            [
             0,
             "#0d0887"
            ],
            [
             0.1111111111111111,
             "#46039f"
            ],
            [
             0.2222222222222222,
             "#7201a8"
            ],
            [
             0.3333333333333333,
             "#9c179e"
            ],
            [
             0.4444444444444444,
             "#bd3786"
            ],
            [
             0.5555555555555556,
             "#d8576b"
            ],
            [
             0.6666666666666666,
             "#ed7953"
            ],
            [
             0.7777777777777778,
             "#fb9f3a"
            ],
            [
             0.8888888888888888,
             "#fdca26"
            ],
            [
             1,
             "#f0f921"
            ]
           ]
          },
          "colorway": [
           "#636efa",
           "#EF553B",
           "#00cc96",
           "#ab63fa",
           "#FFA15A",
           "#19d3f3",
           "#FF6692",
           "#B6E880",
           "#FF97FF",
           "#FECB52"
          ],
          "font": {
           "color": "#2a3f5f"
          },
          "geo": {
           "bgcolor": "white",
           "lakecolor": "white",
           "landcolor": "#E5ECF6",
           "showlakes": true,
           "showland": true,
           "subunitcolor": "white"
          },
          "hoverlabel": {
           "align": "left"
          },
          "hovermode": "closest",
          "mapbox": {
           "style": "light"
          },
          "paper_bgcolor": "white",
          "plot_bgcolor": "#E5ECF6",
          "polar": {
           "angularaxis": {
            "gridcolor": "white",
            "linecolor": "white",
            "ticks": ""
           },
           "bgcolor": "#E5ECF6",
           "radialaxis": {
            "gridcolor": "white",
            "linecolor": "white",
            "ticks": ""
           }
          },
          "scene": {
           "xaxis": {
            "backgroundcolor": "#E5ECF6",
            "gridcolor": "white",
            "gridwidth": 2,
            "linecolor": "white",
            "showbackground": true,
            "ticks": "",
            "zerolinecolor": "white"
           },
           "yaxis": {
            "backgroundcolor": "#E5ECF6",
            "gridcolor": "white",
            "gridwidth": 2,
            "linecolor": "white",
            "showbackground": true,
            "ticks": "",
            "zerolinecolor": "white"
           },
           "zaxis": {
            "backgroundcolor": "#E5ECF6",
            "gridcolor": "white",
            "gridwidth": 2,
            "linecolor": "white",
            "showbackground": true,
            "ticks": "",
            "zerolinecolor": "white"
           }
          },
          "shapedefaults": {
           "line": {
            "color": "#2a3f5f"
           }
          },
          "ternary": {
           "aaxis": {
            "gridcolor": "white",
            "linecolor": "white",
            "ticks": ""
           },
           "baxis": {
            "gridcolor": "white",
            "linecolor": "white",
            "ticks": ""
           },
           "bgcolor": "#E5ECF6",
           "caxis": {
            "gridcolor": "white",
            "linecolor": "white",
            "ticks": ""
           }
          },
          "title": {
           "x": 0.05
          },
          "xaxis": {
           "automargin": true,
           "gridcolor": "white",
           "linecolor": "white",
           "ticks": "",
           "title": {
            "standoff": 15
           },
           "zerolinecolor": "white",
           "zerolinewidth": 2
          },
          "yaxis": {
           "automargin": true,
           "gridcolor": "white",
           "linecolor": "white",
           "ticks": "",
           "title": {
            "standoff": 15
           },
           "zerolinecolor": "white",
           "zerolinewidth": 2
          }
         }
        },
        "title": {
         "text": "Dispersión de clientes y sistemas SOI y sistemas"
        },
        "xaxis": {
         "title": {
          "text": "ID_ORIGEN"
         }
        },
        "yaxis": {
         "title": {
          "text": "Count"
         }
        }
       }
      },
      "text/html": [
       "<div>                            <div id=\"6934653a-7fd4-43d6-a9ad-47b26b3eab46\" class=\"plotly-graph-div\" style=\"height:525px; width:100%;\"></div>            <script type=\"text/javascript\">                require([\"plotly\"], function(Plotly) {                    window.PLOTLYENV=window.PLOTLYENV || {};                                    if (document.getElementById(\"6934653a-7fd4-43d6-a9ad-47b26b3eab46\")) {                    Plotly.newPlot(                        \"6934653a-7fd4-43d6-a9ad-47b26b3eab46\",                        [{\"hovertemplate\":\"%{text}\",\"marker\":{\"color\":\"blue\",\"size\":10},\"mode\":\"markers\",\"text\":[\"BANK OF AMERICA \\u003cbr\\u003eSISTEMAS PRESENTES: SIPE,SOI\\u003cbr\\u003eNUMERO DE CLIENTES: [325, 7912.0]  \\u003cbr\\u003eDIRECCIONES: [nan, 'ONE BRYANT PARK -- ONE BRYANT PARK']  \\u003cbr\\u003e RFCS: ['XXXXXXXXXXXXX', 'XXXXXXXXXXXXX'] \",\"NATEXIS BANQUE POPULAIRES \\u003cbr\\u003eSISTEMAS PRESENTES: SIPE,SOI\\u003cbr\\u003eNUMERO DE CLIENTES: [291, 9005.0]  \\u003cbr\\u003eDIRECCIONES: ['1251 AV OF THE AMERICAS 34TH FLOOR NY NY 10020', 'AVENUE PIRRE MENDES FRANC -- RUE SAINT DOMINIQUE']  \\u003cbr\\u003e RFCS: ['XXXXXXXXXXXXX', 'XXXXXXXXXXXXX'] \",\"MIZUHO CORPORATE BANK LIMITED NEW YORK \\u003cbr\\u003eSISTEMAS PRESENTES: SIPE,SOI\\u003cbr\\u003eNUMERO DE CLIENTES: [309, 9041.0]  \\u003cbr\\u003eDIRECCIONES: ['1251 AVENUE OF THE AMERICAS NEW YORK, NEW YORK 10020', 'AV. AMERICAS PISO 31 -- AV. LAS AMERICAS PISO 31 -- NA']  \\u003cbr\\u003e RFCS: ['XXXXXXXXXXXXX', 'XXXXXXXXXXXXX'] \",\"SWISS BANK CORP. \\u003cbr\\u003eSISTEMAS PRESENTES: MECA,SOI\\u003cbr\\u003eNUMERO DE CLIENTES: ['SWISS', 10429.0]  \\u003cbr\\u003eDIRECCIONES: ['NO SE TIENE REGISTRADA LA INFORMACION', nan]  \\u003cbr\\u003e RFCS: ['XXXXXXXXXXXX', 'XXXXXXXXXXXXX'] \",\"UNION BANK OF SWITZERLAND \\u003cbr\\u003eSISTEMAS PRESENTES: MECA,SIPE,SOI\\u003cbr\\u003eNUMERO DE CLIENTES: ['UBS', 5, 10459.0]  \\u003cbr\\u003eDIRECCIONES: ['NO SE TIENE REGISTRADA LA INFORMACION', '299 PARK AVENUE, NEW YORK, NY 10171-0026', nan]  \\u003cbr\\u003e RFCS: ['XXXXXXXXXXXX', 'XXXXXXXXXXXXX', 'XXXXXXXXXXXXX'] \",\"STANDARD CHARTERED BANK LTD \\u003cbr\\u003eSISTEMAS PRESENTES: SIPE,SIPE,SOI\\u003cbr\\u003eNUMERO DE CLIENTES: [10, 314, 10463.0]  \\u003cbr\\u003eDIRECCIONES: ['160 WATER STREET, NEW YORK, NY. 10038-4995', nan, 'AVENUE OF THE AMERICAS -- AVENUE OF THE AMERICAS']  \\u003cbr\\u003e RFCS: ['XXXXXXXXXXXXX', 'XXXXXXXXXXXXX', 'XXXXXXXXXXXXX'] \",\"NACIONAL FINANCIERA, S.N.C. \\u003cbr\\u003eSISTEMAS PRESENTES: MECA,SIMS,TAS,SOI\\u003cbr\\u003eNUMERO DE CLIENTES: ['NAFIN', 'NAFIN', 100177, 12066.0]  \\u003cbr\\u003eDIRECCIONES: ['INSURGENTES SUR 1971', 'INSURGENTES SUR 1971, GUADALUPE INN', nan, 'INSURGENTES SUR']  \\u003cbr\\u003e RFCS: ['NFI3406305TO', 'XXXXXXXXXXXXX', 'NFI3406305T0', 'NFI3406305T0'] \",\"THE BANK OF NEW YORK MELLON \\u003cbr\\u003eSISTEMAS PRESENTES: SIPE,SIPE,SOI\\u003cbr\\u003eNUMERO DE CLIENTES: [341, 343, 90432.0]  \\u003cbr\\u003eDIRECCIONES: ['NEW YORK', '225 LIBERTY STREET', 'BARCLAY STREET -- BARCLAY STREET -- BARCLAY STREET']  \\u003cbr\\u003e RFCS: ['XXXXXXXXXXXXX', 'XXXXXXXXXXXXX', 'XXXXXXXXXXXXX'] \"],\"x\":[\"7912.0\",\"9005.0\",\"9041.0\",\"10429.0\",\"10459.0\",\"10463.0\",\"12066.0\",\"90432.0\"],\"y\":[1,1,1,1,2,2,3,2],\"type\":\"scatter\"}],                        {\"template\":{\"data\":{\"histogram2dcontour\":[{\"type\":\"histogram2dcontour\",\"colorbar\":{\"outlinewidth\":0,\"ticks\":\"\"},\"colorscale\":[[0.0,\"#0d0887\"],[0.1111111111111111,\"#46039f\"],[0.2222222222222222,\"#7201a8\"],[0.3333333333333333,\"#9c179e\"],[0.4444444444444444,\"#bd3786\"],[0.5555555555555556,\"#d8576b\"],[0.6666666666666666,\"#ed7953\"],[0.7777777777777778,\"#fb9f3a\"],[0.8888888888888888,\"#fdca26\"],[1.0,\"#f0f921\"]]}],\"choropleth\":[{\"type\":\"choropleth\",\"colorbar\":{\"outlinewidth\":0,\"ticks\":\"\"}}],\"histogram2d\":[{\"type\":\"histogram2d\",\"colorbar\":{\"outlinewidth\":0,\"ticks\":\"\"},\"colorscale\":[[0.0,\"#0d0887\"],[0.1111111111111111,\"#46039f\"],[0.2222222222222222,\"#7201a8\"],[0.3333333333333333,\"#9c179e\"],[0.4444444444444444,\"#bd3786\"],[0.5555555555555556,\"#d8576b\"],[0.6666666666666666,\"#ed7953\"],[0.7777777777777778,\"#fb9f3a\"],[0.8888888888888888,\"#fdca26\"],[1.0,\"#f0f921\"]]}],\"heatmap\":[{\"type\":\"heatmap\",\"colorbar\":{\"outlinewidth\":0,\"ticks\":\"\"},\"colorscale\":[[0.0,\"#0d0887\"],[0.1111111111111111,\"#46039f\"],[0.2222222222222222,\"#7201a8\"],[0.3333333333333333,\"#9c179e\"],[0.4444444444444444,\"#bd3786\"],[0.5555555555555556,\"#d8576b\"],[0.6666666666666666,\"#ed7953\"],[0.7777777777777778,\"#fb9f3a\"],[0.8888888888888888,\"#fdca26\"],[1.0,\"#f0f921\"]]}],\"heatmapgl\":[{\"type\":\"heatmapgl\",\"colorbar\":{\"outlinewidth\":0,\"ticks\":\"\"},\"colorscale\":[[0.0,\"#0d0887\"],[0.1111111111111111,\"#46039f\"],[0.2222222222222222,\"#7201a8\"],[0.3333333333333333,\"#9c179e\"],[0.4444444444444444,\"#bd3786\"],[0.5555555555555556,\"#d8576b\"],[0.6666666666666666,\"#ed7953\"],[0.7777777777777778,\"#fb9f3a\"],[0.8888888888888888,\"#fdca26\"],[1.0,\"#f0f921\"]]}],\"contourcarpet\":[{\"type\":\"contourcarpet\",\"colorbar\":{\"outlinewidth\":0,\"ticks\":\"\"}}],\"contour\":[{\"type\":\"contour\",\"colorbar\":{\"outlinewidth\":0,\"ticks\":\"\"},\"colorscale\":[[0.0,\"#0d0887\"],[0.1111111111111111,\"#46039f\"],[0.2222222222222222,\"#7201a8\"],[0.3333333333333333,\"#9c179e\"],[0.4444444444444444,\"#bd3786\"],[0.5555555555555556,\"#d8576b\"],[0.6666666666666666,\"#ed7953\"],[0.7777777777777778,\"#fb9f3a\"],[0.8888888888888888,\"#fdca26\"],[1.0,\"#f0f921\"]]}],\"surface\":[{\"type\":\"surface\",\"colorbar\":{\"outlinewidth\":0,\"ticks\":\"\"},\"colorscale\":[[0.0,\"#0d0887\"],[0.1111111111111111,\"#46039f\"],[0.2222222222222222,\"#7201a8\"],[0.3333333333333333,\"#9c179e\"],[0.4444444444444444,\"#bd3786\"],[0.5555555555555556,\"#d8576b\"],[0.6666666666666666,\"#ed7953\"],[0.7777777777777778,\"#fb9f3a\"],[0.8888888888888888,\"#fdca26\"],[1.0,\"#f0f921\"]]}],\"mesh3d\":[{\"type\":\"mesh3d\",\"colorbar\":{\"outlinewidth\":0,\"ticks\":\"\"}}],\"scatter\":[{\"fillpattern\":{\"fillmode\":\"overlay\",\"size\":10,\"solidity\":0.2},\"type\":\"scatter\"}],\"parcoords\":[{\"type\":\"parcoords\",\"line\":{\"colorbar\":{\"outlinewidth\":0,\"ticks\":\"\"}}}],\"scatterpolargl\":[{\"type\":\"scatterpolargl\",\"marker\":{\"colorbar\":{\"outlinewidth\":0,\"ticks\":\"\"}}}],\"bar\":[{\"error_x\":{\"color\":\"#2a3f5f\"},\"error_y\":{\"color\":\"#2a3f5f\"},\"marker\":{\"line\":{\"color\":\"#E5ECF6\",\"width\":0.5},\"pattern\":{\"fillmode\":\"overlay\",\"size\":10,\"solidity\":0.2}},\"type\":\"bar\"}],\"scattergeo\":[{\"type\":\"scattergeo\",\"marker\":{\"colorbar\":{\"outlinewidth\":0,\"ticks\":\"\"}}}],\"scatterpolar\":[{\"type\":\"scatterpolar\",\"marker\":{\"colorbar\":{\"outlinewidth\":0,\"ticks\":\"\"}}}],\"histogram\":[{\"marker\":{\"pattern\":{\"fillmode\":\"overlay\",\"size\":10,\"solidity\":0.2}},\"type\":\"histogram\"}],\"scattergl\":[{\"type\":\"scattergl\",\"marker\":{\"colorbar\":{\"outlinewidth\":0,\"ticks\":\"\"}}}],\"scatter3d\":[{\"type\":\"scatter3d\",\"line\":{\"colorbar\":{\"outlinewidth\":0,\"ticks\":\"\"}},\"marker\":{\"colorbar\":{\"outlinewidth\":0,\"ticks\":\"\"}}}],\"scattermapbox\":[{\"type\":\"scattermapbox\",\"marker\":{\"colorbar\":{\"outlinewidth\":0,\"ticks\":\"\"}}}],\"scatterternary\":[{\"type\":\"scatterternary\",\"marker\":{\"colorbar\":{\"outlinewidth\":0,\"ticks\":\"\"}}}],\"scattercarpet\":[{\"type\":\"scattercarpet\",\"marker\":{\"colorbar\":{\"outlinewidth\":0,\"ticks\":\"\"}}}],\"carpet\":[{\"aaxis\":{\"endlinecolor\":\"#2a3f5f\",\"gridcolor\":\"white\",\"linecolor\":\"white\",\"minorgridcolor\":\"white\",\"startlinecolor\":\"#2a3f5f\"},\"baxis\":{\"endlinecolor\":\"#2a3f5f\",\"gridcolor\":\"white\",\"linecolor\":\"white\",\"minorgridcolor\":\"white\",\"startlinecolor\":\"#2a3f5f\"},\"type\":\"carpet\"}],\"table\":[{\"cells\":{\"fill\":{\"color\":\"#EBF0F8\"},\"line\":{\"color\":\"white\"}},\"header\":{\"fill\":{\"color\":\"#C8D4E3\"},\"line\":{\"color\":\"white\"}},\"type\":\"table\"}],\"barpolar\":[{\"marker\":{\"line\":{\"color\":\"#E5ECF6\",\"width\":0.5},\"pattern\":{\"fillmode\":\"overlay\",\"size\":10,\"solidity\":0.2}},\"type\":\"barpolar\"}],\"pie\":[{\"automargin\":true,\"type\":\"pie\"}]},\"layout\":{\"autotypenumbers\":\"strict\",\"colorway\":[\"#636efa\",\"#EF553B\",\"#00cc96\",\"#ab63fa\",\"#FFA15A\",\"#19d3f3\",\"#FF6692\",\"#B6E880\",\"#FF97FF\",\"#FECB52\"],\"font\":{\"color\":\"#2a3f5f\"},\"hovermode\":\"closest\",\"hoverlabel\":{\"align\":\"left\"},\"paper_bgcolor\":\"white\",\"plot_bgcolor\":\"#E5ECF6\",\"polar\":{\"bgcolor\":\"#E5ECF6\",\"angularaxis\":{\"gridcolor\":\"white\",\"linecolor\":\"white\",\"ticks\":\"\"},\"radialaxis\":{\"gridcolor\":\"white\",\"linecolor\":\"white\",\"ticks\":\"\"}},\"ternary\":{\"bgcolor\":\"#E5ECF6\",\"aaxis\":{\"gridcolor\":\"white\",\"linecolor\":\"white\",\"ticks\":\"\"},\"baxis\":{\"gridcolor\":\"white\",\"linecolor\":\"white\",\"ticks\":\"\"},\"caxis\":{\"gridcolor\":\"white\",\"linecolor\":\"white\",\"ticks\":\"\"}},\"coloraxis\":{\"colorbar\":{\"outlinewidth\":0,\"ticks\":\"\"}},\"colorscale\":{\"sequential\":[[0.0,\"#0d0887\"],[0.1111111111111111,\"#46039f\"],[0.2222222222222222,\"#7201a8\"],[0.3333333333333333,\"#9c179e\"],[0.4444444444444444,\"#bd3786\"],[0.5555555555555556,\"#d8576b\"],[0.6666666666666666,\"#ed7953\"],[0.7777777777777778,\"#fb9f3a\"],[0.8888888888888888,\"#fdca26\"],[1.0,\"#f0f921\"]],\"sequentialminus\":[[0.0,\"#0d0887\"],[0.1111111111111111,\"#46039f\"],[0.2222222222222222,\"#7201a8\"],[0.3333333333333333,\"#9c179e\"],[0.4444444444444444,\"#bd3786\"],[0.5555555555555556,\"#d8576b\"],[0.6666666666666666,\"#ed7953\"],[0.7777777777777778,\"#fb9f3a\"],[0.8888888888888888,\"#fdca26\"],[1.0,\"#f0f921\"]],\"diverging\":[[0,\"#8e0152\"],[0.1,\"#c51b7d\"],[0.2,\"#de77ae\"],[0.3,\"#f1b6da\"],[0.4,\"#fde0ef\"],[0.5,\"#f7f7f7\"],[0.6,\"#e6f5d0\"],[0.7,\"#b8e186\"],[0.8,\"#7fbc41\"],[0.9,\"#4d9221\"],[1,\"#276419\"]]},\"xaxis\":{\"gridcolor\":\"white\",\"linecolor\":\"white\",\"ticks\":\"\",\"title\":{\"standoff\":15},\"zerolinecolor\":\"white\",\"automargin\":true,\"zerolinewidth\":2},\"yaxis\":{\"gridcolor\":\"white\",\"linecolor\":\"white\",\"ticks\":\"\",\"title\":{\"standoff\":15},\"zerolinecolor\":\"white\",\"automargin\":true,\"zerolinewidth\":2},\"scene\":{\"xaxis\":{\"backgroundcolor\":\"#E5ECF6\",\"gridcolor\":\"white\",\"linecolor\":\"white\",\"showbackground\":true,\"ticks\":\"\",\"zerolinecolor\":\"white\",\"gridwidth\":2},\"yaxis\":{\"backgroundcolor\":\"#E5ECF6\",\"gridcolor\":\"white\",\"linecolor\":\"white\",\"showbackground\":true,\"ticks\":\"\",\"zerolinecolor\":\"white\",\"gridwidth\":2},\"zaxis\":{\"backgroundcolor\":\"#E5ECF6\",\"gridcolor\":\"white\",\"linecolor\":\"white\",\"showbackground\":true,\"ticks\":\"\",\"zerolinecolor\":\"white\",\"gridwidth\":2}},\"shapedefaults\":{\"line\":{\"color\":\"#2a3f5f\"}},\"annotationdefaults\":{\"arrowcolor\":\"#2a3f5f\",\"arrowhead\":0,\"arrowwidth\":1},\"geo\":{\"bgcolor\":\"white\",\"landcolor\":\"#E5ECF6\",\"subunitcolor\":\"white\",\"showland\":true,\"showlakes\":true,\"lakecolor\":\"white\"},\"title\":{\"x\":0.05},\"mapbox\":{\"style\":\"light\"}}},\"title\":{\"text\":\"Dispersi\\u00f3n de clientes y sistemas SOI y sistemas\"},\"xaxis\":{\"title\":{\"text\":\"ID_ORIGEN\"}},\"yaxis\":{\"title\":{\"text\":\"Count\"}}},                        {\"responsive\": true}                    ).then(function(){\n",
       "                            \n",
       "var gd = document.getElementById('6934653a-7fd4-43d6-a9ad-47b26b3eab46');\n",
       "var x = new MutationObserver(function (mutations, observer) {{\n",
       "        var display = window.getComputedStyle(gd).display;\n",
       "        if (!display || display === 'none') {{\n",
       "            console.log([gd, 'removed!']);\n",
       "            Plotly.purge(gd);\n",
       "            observer.disconnect();\n",
       "        }}\n",
       "}});\n",
       "\n",
       "// Listen for the removal of the full notebook cells\n",
       "var notebookContainer = gd.closest('#notebook-container');\n",
       "if (notebookContainer) {{\n",
       "    x.observe(notebookContainer, {childList: true});\n",
       "}}\n",
       "\n",
       "// Listen for the clearing of the current output cell\n",
       "var outputEl = gd.closest('.output');\n",
       "if (outputEl) {{\n",
       "    x.observe(outputEl, {childList: true});\n",
       "}}\n",
       "\n",
       "                        })                };                });            </script>        </div>"
      ]
     },
     "metadata": {},
     "output_type": "display_data"
    }
   ],
   "source": [
    "dfs_comp = [ df_sirac ,df_meca , df_sims  , df_sipe ,df_tas]\n",
    "grouped_df_soi, comparacion_soi = clts_repetidos( df_soi, dfs_comp, \"NOMBRE_O_RAZON_SOCIAL\", 93, \"SOI y sistemas\")"
   ]
  },
  {
   "cell_type": "code",
   "execution_count": null,
   "metadata": {},
   "outputs": [],
   "source": [
    "grouped_df_soi"
   ]
  },
  {
   "cell_type": "markdown",
   "metadata": {},
   "source": [
    "# TAS VS LOS SISTEMAS TRANSACCIONALES"
   ]
  },
  {
   "cell_type": "code",
   "execution_count": 154,
   "metadata": {},
   "outputs": [
    {
     "data": {
      "application/vnd.plotly.v1+json": {
       "config": {
        "plotlyServerURL": "https://plot.ly"
       },
       "data": [
        {
         "hovertemplate": "%{text}",
         "marker": {
          "color": "blue",
          "size": 10
         },
         "mode": "markers",
         "text": [
          "CASA DE BOLSA MULTIVA. S.A. DE C.V., GRUPO FINANCIERO MULTIVA <br>SISTEMAS PRESENTES: MECA,TAS<br>NUMERO DE CLIENTES: ['MULTIV', 102]  <br>DIRECCIONES: ['NO SE TIENE REGISTRADA LA INFORMACION', nan]  <br> RFCS: ['XXX123456XXX', 'MCB9809105S1'] ",
          "VALORES MEXICANOS CASA DE BOLSA S.A. DE C.V. <br>SISTEMAS PRESENTES: MECA,TAS<br>NUMERO DE CLIENTES: ['VALMEX', 315]  <br>DIRECCIONES: ['MARIO', nan]  <br> RFCS: ['XXX123456XXX', 'CBC79081421A'] ",
          "VECTOR CASA DE BOLSA, S.A. DE C.V. <br>SISTEMAS PRESENTES: MECA,TAS<br>NUMERO DE CLIENTES: ['VECT', 412]  <br>DIRECCIONES: ['P', nan]  <br> RFCS: ['XXX123456XXX', 'SMB740206001'] ",
          "GOBIERNO FEDERAL <br>SISTEMAS PRESENTES: SIPE,TAS<br>NUMERO DE CLIENTES: [254, 100003]  <br>DIRECCIONES: [nan, nan]  <br> RFCS: ['XXXXXXXXXXXXX', 'NFI3406305T0'] ",
          "NACIONAL FINANCIERA S.N.C. <br>SISTEMAS PRESENTES: MECA,SIMS,SOI,TAS<br>NUMERO DE CLIENTES: ['NAFIN', 'NAFIN', 12066, 100177]  <br>DIRECCIONES: ['INSURGENTES SUR 1971', 'INSURGENTES SUR 1971, GUADALUPE INN', 'INSURGENTES SUR', nan]  <br> RFCS: ['NFI3406305TO', 'XXXXXXXXXXXXX', 'NFI3406305T0', 'NFI3406305T0'] ",
          "BANCO NACIONAL DE OBRAS Y SERVICIOS PUBLICOS S.N.C. <br>SISTEMAS PRESENTES: SIRAC,TAS<br>NUMERO DE CLIENTES: [3970056, 907471]  <br>DIRECCIONES: [nan, nan]  <br> RFCS: ['BNO670315DC0', 'BNO770315001'] ",
          "BANCO BILBAO VIZCAYA, S.A. <br>SISTEMAS PRESENTES: MECA,TAS<br>NUMERO DE CLIENTES: ['MPPX', 910456]  <br>DIRECCIONES: ['NO SE TIENE REGISTRADA LA INFORMACION', nan]  <br> RFCS: ['XXXXXXXXXXXX', 'BBA830831LJ2'] ",
          "INVEX CASA DE BOLSA, S.A. DE C.V. <br>SISTEMAS PRESENTES: MECA,TAS<br>NUMERO DE CLIENTES: ['INVEX', 929440]  <br>DIRECCIONES: ['PENDIENTE', nan]  <br> RFCS: ['XXX123456XXX', 'ICB911029V38'] ",
          "BANCO INBURSA <br>SISTEMAS PRESENTES: MECA,SIMS,TAS<br>NUMERO DE CLIENTES: ['INBUR', '36957', 969647]  <br>DIRECCIONES: ['NO SE TIENE REGISTRADA LA INFORMACION', nan, nan]  <br> RFCS: ['XXXXXXXXXXXX', 'XXXXXXXXXXXXX', 'BII931004P61'] ",
          "BANCO J.P. MORGAN MEXICO <br>SISTEMAS PRESENTES: MECA,SIPE,TAS<br>NUMERO DE CLIENTES: ['JPMOR', 327, 987671]  <br>DIRECCIONES: ['NO SE TIENE REGISTRADA LA INFORMACION', 'PASEO DE LAS PALMAS NUM 405 PISO 16 LOMAS DE CHAPULTEPEC', nan]  <br> RFCS: ['XXXXXXXXXXXX', 'TME840315KT6', 'BJP950104LJ5'] ",
          "BANCO SANTANDER DE NEGOCIOS MEXICO,S.A. <br>SISTEMAS PRESENTES: MECA,TAS<br>NUMERO DE CLIENTES: ['SANTAN', 989141]  <br>DIRECCIONES: ['328 82 26', nan]  <br> RFCS: ['XXXXXXXXXXXX', 'BSM941122TE6'] ",
          "BANCO NACIONAL DE COMERCIO EXTERIOR <br>SISTEMAS PRESENTES: SIRAC,MECA,SIMS,TAS<br>NUMERO DE CLIENTES: [5970070, 'BCOMEX', 'BCOMXT', 997861]  <br>DIRECCIONES: [nan, 'NO SE TIENE REGISTRADA LA INFORMACION', nan, nan]  <br> RFCS: ['BNC8507311M4', 'XXXXXXXXXXXX', 'XXXXXXXXXXXXX', 'BNC8507311M4'] ",
          "BANCO DEL BAJIO S.A. <br>SISTEMAS PRESENTES: MECA,SIPE,TAS<br>NUMERO DE CLIENTES: ['BANJIO', 209, 999899]  <br>DIRECCIONES: ['NO SE TIENE REGISTRADA LA INFORMACION', nan, nan]  <br> RFCS: ['XXXXXXXXXXXX', 'XXXXXXXXXXXXX', 'BBA940707IE1'] ",
          "IXE BANCO S.A. <br>SISTEMAS PRESENTES: MECA,SIPE,TAS<br>NUMERO DE CLIENTES: ['IXE', 304, 1037284]  <br>DIRECCIONES: ['JOSE LUIS LAGRANGE 103', 'AV. PAE DE LA REFORMA 505 PISO 47, COLONIA CUAUHTEMOC CP 065', nan]  <br> RFCS: ['XXXXXXXXXXXX', 'XXXXXXXXXXXXX', 'IBA950503GTA'] ",
          "BANCO DE MEXICO <br>SISTEMAS PRESENTES: MECA,SIPE,TAS<br>NUMERO DE CLIENTES: ['BXICO', 220, 1040153]  <br>DIRECCIONES: ['NO SE TIENE REGISTRADA LA INFORMACION', 'AV. 5 DE MAYO 2 COLONIA CENTRO DELEGACION CUAUHTEMOC.CP06000', nan]  <br> RFCS: ['XXXXXXXXXXXX', 'XXXXXXXXXXXXX', 'BNM840515VB2'] ",
          "BANCA AFIRME, S.A. <br>SISTEMAS PRESENTES: SIPE,TAS<br>NUMERO DE CLIENTES: [306, 1041222]  <br>DIRECCIONES: ['JUÁREZ SUR 800 PISO 9 COL. CENTRO MONTERREY NUEVO LEÓN 64000', nan]  <br> RFCS: ['BAF950102JP5', 'BAF950102JP5'] ",
          "PETROLEOS MEXICANOS <br>SISTEMAS PRESENTES: SIRAC,MECA,SIMS,TAS<br>NUMERO DE CLIENTES: [4092904, 'PEMEX', 'PEMEX', 1048332]  <br>DIRECCIONES: [nan, 'MARINA NACIONAL', 'MARINA NACIONAL', nan]  <br> RFCS: ['PME380607P35', 'XXXXXXXXXXXX', 'XXXXXXXXXXXXX', 'PME380607P35'] ",
          "HSBC CASA DE BOLSA SA DE CV GRUPO FINANCIERO HSBC <br>SISTEMAS PRESENTES: MECA,TAS<br>NUMERO DE CLIENTES: ['HSBC', 1057496]  <br>DIRECCIONES: ['AV. PASEO DE LA REFORMA N.243 PISO 10 TORRE A COL CUAUHTEMOC DEL CUAUHTEMOC 06500 MEX D.F.', nan]  <br> RFCS: ['HCB950125897', 'HCB950125897'] ",
          "CASA DE BOLSA BBVA BANCOMER, S.A. DE C.V. <br>SISTEMAS PRESENTES: MECA,TAS<br>NUMERO DE CLIENTES: ['BBVA', 1057498]  <br>DIRECCIONES: ['MONTES URALES #424 PISO 3, COLONIA LOMAS DE CHAPULTEPEC C.P. 11000', nan]  <br> RFCS: ['CBB960628JY9', 'CBB960628D41'] ",
          "PUNTO CASA DE BOLSA SA DE CV <br>SISTEMAS PRESENTES: MECA,TAS<br>NUMERO DE CLIENTES: ['PNTOCB', 1057500]  <br>DIRECCIONES: ['FERROCARRIL DE RIO FRIO NO. 419 B 16, COLONIA CUCHILLA DE MORAL, MEXICO, D.F., DELEGACION IZTAPALAPA', nan]  <br> RFCS: ['PCB111011816', 'PCB111011816'] ",
          "BARCLAYS CAPITAL CASA DE BOLSA, SA DE CV <br>SISTEMAS PRESENTES: MECA,TAS<br>NUMERO DE CLIENTES: ['BARCAP', 1057503]  <br>DIRECCIONES: ['AV. PASEO DE LA REFORMA N° 505, PISO 41, COL. CUAUHTÉMOC, C.P. 06500 MÉXICO, D.F.', nan]  <br> RFCS: ['BCC6031613A', 'BCC06031613A'] ",
          "CASA DE BOLSA VE POR MAS, S.A DE C.V. <br>SISTEMAS PRESENTES: MECA,TAS<br>NUMERO DE CLIENTES: ['BXMAS', 1057504]  <br>DIRECCIONES: ['EMILIO CASTELAR # 75 COL. CHAPULTEPEC CP 11560', nan]  <br> RFCS: ['CBA8701315H8', 'CBA8701315HB'] ",
          "CASA DE BOLSA BBVA BANCOMER, S.A. DE C.V. <br>SISTEMAS PRESENTES: MECA,TAS<br>NUMERO DE CLIENTES: ['BBVA', 1057505]  <br>DIRECCIONES: ['MONTES URALES #424 PISO 3, COLONIA LOMAS DE CHAPULTEPEC C.P. 11000', nan]  <br> RFCS: ['CBB960628JY9', 'CBB960628D41'] ",
          "CASA DE BOLSA FINAMEX, S.A.B. DE C.V. <br>SISTEMAS PRESENTES: SIMS,TAS<br>NUMERO DE CLIENTES: ['FINMX', 1057506]  <br>DIRECCIONES: ['AVENIDA AMÉRICAS 1545 PISO18 Y19', nan]  <br> RFCS: ['XXXXXXXXXXXXX', 'CBF920629BVO'] ",
          "CASA DE BOLSA BANORTE IXE, S.A. DE C.V. <br>SISTEMAS PRESENTES: MECA,TAS<br>NUMERO DE CLIENTES: ['BNORT', 1057507]  <br>DIRECCIONES: ['P', nan]  <br> RFCS: ['XXX123456XXX', 'ICB950503QH4'] ",
          "INTERACCIONES CASA DE BOLSA S.A DE C.V. <br>SISTEMAS PRESENTES: MECA,TAS<br>NUMERO DE CLIENTES: ['INTER', 1057512]  <br>DIRECCIONES: ['PASEO DE LA REFORMA #383 PISO 14 COL. CUAUHTEMOC CP 06500', nan]  <br> RFCS: ['ICB8704225X7', 'ICB870422BS8'] ",
          "JP MORGAN CASA DE BOLSA S.A DE C.V. <br>SISTEMAS PRESENTES: MECA,TAS<br>NUMERO DE CLIENTES: ['JPMORG', 1057514]  <br>DIRECCIONES: ['PASEO DE LAS PALMAS 405 PISO 16, LOMAS DE CHAPULTEPEC, CP 11000 DF', nan]  <br> RFCS: ['JPM960506G57', 'JPM960506G57'] ",
          "MERRILL LYNCH MEXICO, S.A. DE C.V. CASA DE BOLSA <br>SISTEMAS PRESENTES: MECA,TAS<br>NUMERO DE CLIENTES: ['MLYNCH', 1057516]  <br>DIRECCIONES: ['P', nan]  <br> RFCS: ['XXX123456XXX', 'MLM950112GG3'] ",
          "MONEX CASA DE BOLSA S.A. DE C.V. <br>SISTEMAS PRESENTES: MECA,SIMS,TAS<br>NUMERO DE CLIENTES: ['MONEX', 'MONEXM', 1057517]  <br>DIRECCIONES: ['INSURGENTES SUR 1886 COL.FLORIDA', 'AVENIDA PASEO DE LA REFORMA 284 PISO 15', nan]  <br> RFCS: ['XXX123456XXX', 'XXXXXXXXXXXXX', 'MCB860313CD6'] ",
          "SCOTIA INVERLAT CASA DE BOLSA S.A. <br>SISTEMAS PRESENTES: MECA,TAS<br>NUMERO DE CLIENTES: ['SCOTI', 1057518]  <br>DIRECCIONES: ['BOSQUE DE CIRUELOS 120, BOSQUES DE LAS LOMAS C.P. 11700, MEXICO, D.F.', nan]  <br> RFCS: ['XXX123456XXX', 'SIN941202514'] ",
          "VALORES MEXICANOS CASA DE BOLSA, S.A. DE C.V. <br>SISTEMAS PRESENTES: MECA,TAS<br>NUMERO DE CLIENTES: ['VALMEX', 1057519]  <br>DIRECCIONES: ['MARIO', nan]  <br> RFCS: ['XXX123456XXX', 'VMC930101JS6'] ",
          "VECTOR CASA DE BOLSA S.A. DE C.V. <br>SISTEMAS PRESENTES: MECA,TAS<br>NUMERO DE CLIENTES: ['VECT', 1057520]  <br>DIRECCIONES: ['P', nan]  <br> RFCS: ['XXX123456XXX', 'VCB870729PH6'] ",
          "PUNTO CASA DE BOLSA, S.A. DE C.V. <br>SISTEMAS PRESENTES: MECA,TAS<br>NUMERO DE CLIENTES: ['PNTOCB', 1057522]  <br>DIRECCIONES: ['FERROCARRIL DE RIO FRIO NO. 419 B 16, COLONIA CUCHILLA DE MORAL, MEXICO, D.F., DELEGACION IZTAPALAPA', nan]  <br> RFCS: ['PCB111011816', 'PCB111011816'] ",
          "VECTOR CASA DE BOLSA SA DE CV <br>SISTEMAS PRESENTES: MECA,TAS<br>NUMERO DE CLIENTES: ['VECT', 1057533]  <br>DIRECCIONES: ['P', nan]  <br> RFCS: ['XXX123456XXX', 'VCB870729PH6'] ",
          "EVERCORE CASA DE BOLSA, S.A. DE C.V. <br>SISTEMAS PRESENTES: MECA,TAS<br>NUMERO DE CLIENTES: ['EVERCO', 1057537]  <br>DIRECCIONES: ['MANUEL AVILA CAMACHO 36 - PISO 22, COL. LOMAS DE CHAPULTEPEC, CP 11000, DEL. MIGUEL HIDALGO', nan]  <br> RFCS: ['PCB50107CP2', 'PCB050107CP2'] ",
          "CASA DE BOLSA FINAMEX SAB DE CV <br>SISTEMAS PRESENTES: SIMS,TAS<br>NUMERO DE CLIENTES: ['FINMX', 1057538]  <br>DIRECCIONES: ['AVENIDA AMÉRICAS 1545 PISO18 Y19', nan]  <br> RFCS: ['XXXXXXXXXXXXX', 'CBF920629BV0'] ",
          "Banco Sabadell SA Institucion de Banca Multiple <br>SISTEMAS PRESENTES: SIRAC,TAS<br>NUMERO DE CLIENTES: [28561148, 1059981]  <br>DIRECCIONES: [nan, nan]  <br> RFCS: ['DCS150115331', 'DCS150115331'] ",
          "BANCO AUTOFIN MEXICO S.A. <br>SISTEMAS PRESENTES: SIRAC,TAS<br>NUMERO DE CLIENTES: [10281162, 1059997]  <br>DIRECCIONES: [nan, nan]  <br> RFCS: ['BAM0511076B3', 'BAM0511076B3'] ",
          "BANK OF BOSTON MEXICO <br>SISTEMAS PRESENTES: MECA,SIPE,TAS<br>NUMERO DE CLIENTES: ['BOSTON', 246, 1060000]  <br>DIRECCIONES: ['NO SE TIENE REGISTRADA LA INFORMACION', nan, nan]  <br> RFCS: ['XXXXXXXXXXXX', 'XXXXXXXXXXXXX', 'XXXXXXXXXXXXX'] ",
          "BANCO INTERACCIONES, S.A. <br>SISTEMAS PRESENTES: MECA,SIPE,TAS<br>NUMERO DE CLIENTES: ['INTERA', 13, 1060001]  <br>DIRECCIONES: ['NO SE TIENE REGISTRADA LA INFORMACION', 'PASEO DE LA REFORMA 383 PISO 14 COL CUAHTEMOC CP 06500', nan]  <br> RFCS: ['XXXXXXXXXXXX', 'BIN931011519', 'XXXXXXXXXXXXX'] ",
          "BANRURAL <br>SISTEMAS PRESENTES: MECA,TAS<br>NUMERO DE CLIENTES: ['BANRU', 1060002]  <br>DIRECCIONES: ['NO SE TIENE REGISTRADA LA INFORMACION', nan]  <br> RFCS: ['XXXXXXXXXXXX', 'XXXXXXXXXXXXX'] ",
          "BANCO NACIONAL DE MEXICO S.A. <br>SISTEMAS PRESENTES: MECA,SIMS,SIMS,TAS<br>NUMERO DE CLIENTES: ['BNMX', 'BANMEX', 'BANAME', 1060005]  <br>DIRECCIONES: ['NO SE TIENE REGISTRADA LA INFORMACION', 'INSURGENTES SUR', nan, nan]  <br> RFCS: ['XXXXXXXXXXXX', 'XXXXXXXXXXXXX', 'XXXXXXXXXXXXX', 'XXXXXXXXXXXXX'] ",
          "BANCO NACIONAL DE COMERCIO EXTERIOR <br>SISTEMAS PRESENTES: SIRAC,MECA,SIMS,TAS<br>NUMERO DE CLIENTES: [5970070, 'BCOMEX', 'BCOMXT', 1060008]  <br>DIRECCIONES: [nan, 'NO SE TIENE REGISTRADA LA INFORMACION', nan, nan]  <br> RFCS: ['BNC8507311M4', 'XXXXXXXXXXXX', 'XXXXXXXXXXXXX', 'XXXXXXXXXXXXX'] ",
          "BANCO SANTANDER MEXICANO S.A. <br>SISTEMAS PRESENTES: SIRAC,SIPE,TAS<br>NUMERO DE CLIENTES: [23422459, 14, 1060010]  <br>DIRECCIONES: [nan, '235 5TH AVENUE NEW YORK, NY 10016', nan]  <br> RFCS: ['BSM970519DU8', 'XXXXXXXXXXXXX', 'XXXXXXXXXXXXX'] ",
          "BANCO INBURSA S.A. <br>SISTEMAS PRESENTES: SIPE,TAS<br>NUMERO DE CLIENTES: [23, 1060016]  <br>DIRECCIONES: ['PASEO DE LAS PALMAS 736 LOMAS DE CHAPULTEPEC CP 11000', nan]  <br> RFCS: ['XXXXXXXXXXXXX', 'XXXXXXXXXXXXX'] ",
          "BANCO MIFEL S.A. <br>SISTEMAS PRESENTES: MECA,MECA,TAS<br>NUMERO DE CLIENTES: ['MIFEL', 'BCOMIF', 1060020]  <br>DIRECCIONES: ['ALJANDRO FINKLER', 'NO SE TIENE REGISTRADA LA INFORMACION', nan]  <br> RFCS: ['XXXXXXXXXXXX', 'XXXXXXXXXXXX', 'XXXXXXXXXXXXX'] ",
          "BANCO DEL BAJIO S.A. <br>SISTEMAS PRESENTES: MECA,SIPE,TAS<br>NUMERO DE CLIENTES: ['BANJIO', 209, 1060022]  <br>DIRECCIONES: ['NO SE TIENE REGISTRADA LA INFORMACION', nan, nan]  <br> RFCS: ['XXXXXXXXXXXX', 'XXXXXXXXXXXXX', 'XXXXXXXXXXXXX'] ",
          "BANCO DEL SURESTE S.A. <br>SISTEMAS PRESENTES: MECA,TAS<br>NUMERO DE CLIENTES: ['SURE', 1060025]  <br>DIRECCIONES: ['NO SE TIENE REGISTRADA LA INFORMACION', nan]  <br> RFCS: ['XXXXXXXXXXXX', 'XXXXXXXXXXXXX'] ",
          "BANK OF AMERICA MEXICO <br>SISTEMAS PRESENTES: MECA,MECA,SIPE,TAS<br>NUMERO DE CLIENTES: ['BANKAM', 'BOFA', 339, 1060026]  <br>DIRECCIONES: ['PASEO DE LA REFORMA 116', 'NO SE TIENE REGISTRADA LA INFORMACION', 'PEDREGAL #24, PISO 22, MOLINO DEL REY, MIGUEL HIDALGO, 11040', nan]  <br> RFCS: ['XXXXXXXXXXXX', 'XXXXXXXXXXXX', 'XXXXXXXXXXXXX', 'XXXXXXXXXXXXX'] ",
          "IXE BANCO S.A. <br>SISTEMAS PRESENTES: MECA,SIPE,TAS<br>NUMERO DE CLIENTES: ['IXE', 304, 1060028]  <br>DIRECCIONES: ['JOSE LUIS LAGRANGE 103', 'AV. PAE DE LA REFORMA 505 PISO 47, COLONIA CUAUHTEMOC CP 065', nan]  <br> RFCS: ['XXXXXXXXXXXX', 'XXXXXXXXXXXXX', 'XXXXXXXXXXXXX'] ",
          "BANCO INDUSTRIAL S.A. <br>SISTEMAS PRESENTES: MECA,SIPE,TAS<br>NUMERO DE CLIENTES: ['INDUS', 104, 1060031]  <br>DIRECCIONES: ['NO SE TIENE REGISTRADA LA INFORMACION', nan, nan]  <br> RFCS: ['XXXXXXXXXXXX', 'XXXXXXXXXXXXX', 'XXXXXXXXXXXXX'] ",
          "GE CAPITAL BANK S.A. <br>SISTEMAS PRESENTES: SIPE,TAS<br>NUMERO DE CLIENTES: [278, 1060032]  <br>DIRECCIONES: ['AV. STA. FE 495 COL. CRUZ MANCA CUAJIMALPA 05349 MEX. D.F.', nan]  <br> RFCS: ['XXXXXXXXXXXXX', 'XXXXXXXXXXXXX'] ",
          "HSBC MEXICO S.A. <br>SISTEMAS PRESENTES: SIPE,TAS<br>NUMERO DE CLIENTES: [320, 1060036]  <br>DIRECCIONES: ['REFORMA 156-PISO 3,  MEXICO, D.F.', nan]  <br> RFCS: ['HMI950125KG8', 'XXXXXXXXXXXXX'] ",
          "BANCO AZTECA, S.A. INSTITUCION DE BANCA MULTIPLE <br>SISTEMAS PRESENTES: SIRAC,TAS<br>NUMERO DE CLIENTES: [3912903, 1060754]  <br>DIRECCIONES: [nan, nan]  <br> RFCS: ['BAI0205236Y8', 'BAI0205236Y8'] ",
          "MERRILL  LYNCH MEXICO S.A. DE C.V. CASA DE BOLSA <br>SISTEMAS PRESENTES: MECA,TAS<br>NUMERO DE CLIENTES: ['MLYNCH', 1062062]  <br>DIRECCIONES: ['P', nan]  <br> RFCS: ['XXX123456XXX', 'MLM950112GG3'] ",
          "FINANCIERA SUMATE, S.A. DE C.V. SOFIPO <br>SISTEMAS PRESENTES: SIRAC,TAS<br>NUMERO DE CLIENTES: [10286078, 1063872]  <br>DIRECCIONES: [nan, nan]  <br> RFCS: ['FSU030606GW3', 'FSU030606GW3'] ",
          "COMISION FEDERAL DE ELECTRICIDAD <br>SISTEMAS PRESENTES: SIPE,TAS<br>NUMERO DE CLIENTES: [39, 1064268]  <br>DIRECCIONES: [nan, nan]  <br> RFCS: ['XXXXXXXXXXXXX', 'CFE370814QI0'] ",
          "CEMEX, S.A.B. DE C.V. <br>SISTEMAS PRESENTES: SIRAC,TAS<br>NUMERO DE CLIENTES: [10335210, 1064434]  <br>DIRECCIONES: [nan, nan]  <br> RFCS: ['CEM880726UZA', 'CEM880726UZA'] ",
          "APOYO ECON�MICO FAMILIAR, S.A. DE C.V. SOFOM E.N.R. <br>SISTEMAS PRESENTES: SIRAC,TAS<br>NUMERO DE CLIENTES: [22336018, 1064485]  <br>DIRECCIONES: [nan, nan]  <br> RFCS: ['AEF050221TY2', 'AEF050221TY2'] ",
          "FINANCIERA LABOR S.A.P.I. DE C.V. SOFOM E.N.R. <br>SISTEMAS PRESENTES: SIRAC,TAS<br>NUMERO DE CLIENTES: [28120570, 1064759]  <br>DIRECCIONES: [nan, nan]  <br> RFCS: ['FLA080115FZ6', 'FLA080115FZ6'] ",
          "FONDO ESPECIAL PARA EL FINANCIAMIENTO AGROPECUARIOS (FEFA) <br>SISTEMAS PRESENTES: SIRAC,TAS<br>NUMERO DE CLIENTES: [28729842, 1064799]  <br>DIRECCIONES: [nan, nan]  <br> RFCS: ['FEF650826K41', 'FEF650826K41'] ",
          "ENLACE INT SA DE CV <br>SISTEMAS PRESENTES: SIMS,TAS<br>NUMERO DE CLIENTES: ['ENLACE', 1064950]  <br>DIRECCIONES: ['TORRE ESMERALDA II,BLVD AVILA CAMACHO 36-1805', nan]  <br> RFCS: ['XXXXXXXXXXXXX', 'EIN961028182'] ",
          "RED DE SERVICIOS FINANCIEROS, S.A. DE C.V. SOFOM E.N.R. <br>SISTEMAS PRESENTES: SIRAC,TAS<br>NUMERO DE CLIENTES: [10333123, 1065045]  <br>DIRECCIONES: [nan, nan]  <br> RFCS: ['RSF050920LP2', 'RSF050920LP2'] ",
          "GRUPO CONSULTOR PARA LA MICROEMPRESA, S.A. DE C.V. SOFOM E.N.R. <br>SISTEMAS PRESENTES: SIRAC,TAS<br>NUMERO DE CLIENTES: [10172806, 1065125]  <br>DIRECCIONES: [nan, nan]  <br> RFCS: ['GCM060905AC9', 'GCM060905AC9'] ",
          "PROAKTIVA S.A.P.I. DE C.V., SOFOM, E.N.R. <br>SISTEMAS PRESENTES: SIRAC,TAS<br>NUMERO DE CLIENTES: [28455530, 1065224]  <br>DIRECCIONES: [nan, nan]  <br> RFCS: ['PRO080306UD8', 'PRO080306UD8'] ",
          "SERFIMEX CAPITAL, S.A.P.I. DE C.V., SOFOM, E.N.R. <br>SISTEMAS PRESENTES: SIRAC,TAS<br>NUMERO DE CLIENTES: [14841326, 1065257]  <br>DIRECCIONES: [nan, nan]  <br> RFCS: ['SCA090311Q29', 'SCA090311Q29'] ",
          "PETROLEOS MEXICANOS <br>SISTEMAS PRESENTES: SIRAC,MECA,SIMS,TAS<br>NUMERO DE CLIENTES: [4092904, 'PEMEX', 'PEMEX', 1065306]  <br>DIRECCIONES: [nan, 'MARINA NACIONAL', 'MARINA NACIONAL', nan]  <br> RFCS: ['PME380607P35', 'XXXXXXXXXXXX', 'XXXXXXXXXXXXX', 'PME380607P35'] ",
          "PMI TRADING DESIGNATED ACTIVITY COMPANY <br>SISTEMAS PRESENTES: SIRAC,TAS<br>NUMERO DE CLIENTES: [28820233, 1065415]  <br>DIRECCIONES: [nan, nan]  <br> RFCS: ['PMI9105174FA', 'PMI9105174FA'] ",
          "ALSOL CONTIGO S.A. DE C.V. SOFOM, E.N.R. <br>SISTEMAS PRESENTES: SIRAC,TAS<br>NUMERO DE CLIENTES: [28627541, 1065418]  <br>DIRECCIONES: [nan, nan]  <br> RFCS: ['ACO090216551', 'ACO090216551'] ",
          "AFIX SERVICIOS FINANCIEROS S.A.P.I. DE C.V., SOFOM, E.N.R. <br>SISTEMAS PRESENTES: SIRAC,TAS<br>NUMERO DE CLIENTES: [28563824, 1065491]  <br>DIRECCIONES: [nan, nan]  <br> RFCS: ['ASF0901169V3', 'ASF0901169V3'] ",
          "CREDICAM, S.A. DE C.V., SOFOM, E.N.R. <br>SISTEMAS PRESENTES: SIRAC,TAS<br>NUMERO DE CLIENTES: [10177936, 1065502]  <br>DIRECCIONES: [nan, nan]  <br> RFCS: ['CRE9503205J3', 'CRE9503205J3'] ",
          "ALSOL CONTIGO, S.A. DE C.V., SOFOM, E.N.R. <br>SISTEMAS PRESENTES: SIRAC,TAS<br>NUMERO DE CLIENTES: [28627541, 1065564]  <br>DIRECCIONES: [nan, nan]  <br> RFCS: ['ACO090216551', 'ACO090216551'] ",
          "FINPO, S.A. DE C.V. SOFOM E.N.R. <br>SISTEMAS PRESENTES: SIRAC,TAS<br>NUMERO DE CLIENTES: [28743362, 1065603]  <br>DIRECCIONES: [nan, nan]  <br> RFCS: ['FIN0810067T0', 'FIN0810067T0'] ",
          "FINACTIV, S.A. DE C.V., SOFOM, E.N.R. <br>SISTEMAS PRESENTES: SIRAC,TAS<br>NUMERO DE CLIENTES: [25287629, 1065651]  <br>DIRECCIONES: [nan, nan]  <br> RFCS: ['FIN080630IS4', 'FIN080630IS4'] ",
          "COFINE, S.A.P.I. DE C.V. SOFOM E.N.R. <br>SISTEMAS PRESENTES: SIRAC,TAS<br>NUMERO DE CLIENTES: [28778950, 1065656]  <br>DIRECCIONES: [nan, nan]  <br> RFCS: ['COF9803047E9', 'COF9803047E9'] ",
          "ION FINANCIERA S.A.P.I. DE C.V., SOFOM, E.R. <br>SISTEMAS PRESENTES: SIRAC,TAS<br>NUMERO DE CLIENTES: [28462568, 1065657]  <br>DIRECCIONES: [nan, nan]  <br> RFCS: ['QCO110616EI8', 'QCO110616EI8'] ",
          "FACTOR EXPRES, S.A.P.I. DE C.V., SOFOM, E.N.R. <br>SISTEMAS PRESENTES: SIRAC,TAS<br>NUMERO DE CLIENTES: [28785906, 1065676]  <br>DIRECCIONES: [nan, nan]  <br> RFCS: ['FEX130430JX1', 'FEX130430JX1'] ",
          "BANCO SABADELL S.A., INSTITUCION DE BANCA MULTIPLE <br>SISTEMAS PRESENTES: SIRAC,TAS<br>NUMERO DE CLIENTES: [28561148, 1065710]  <br>DIRECCIONES: [nan, nan]  <br> RFCS: ['DCS150115331', 'DCS150115331'] ",
          "CREDIPLATA, S.A.P.I. DE C.V. SOFOM E.N.R. <br>SISTEMAS PRESENTES: SIRAC,TAS<br>NUMERO DE CLIENTES: [28892040, 1065780]  <br>DIRECCIONES: [nan, nan]  <br> RFCS: ['CRE130903KD7', 'CRE130903KD7'] ",
          "FINANCIERA CEFEMEX, S.A. DE C.V., SOFOM, E.N.R. <br>SISTEMAS PRESENTES: SIRAC,TAS<br>NUMERO DE CLIENTES: [28907819, 1065798]  <br>DIRECCIONES: [nan, nan]  <br> RFCS: ['CEF010505N86', 'CEF010505N86'] ",
          "SOFIPA CORPORATION, S.A.P.I. DE C.V. SOFOM, E.N.R. <br>SISTEMAS PRESENTES: SIRAC,TAS<br>NUMERO DE CLIENTES: [28917282, 1065803]  <br>DIRECCIONES: [nan, nan]  <br> RFCS: ['FIN080623RZ8', 'FIN080623RZ8'] ",
          "NATURA EXTRACTA S.A. DE C.V. <br>SISTEMAS PRESENTES: SIRAC,TAS<br>NUMERO DE CLIENTES: [28545693, 1065820]  <br>DIRECCIONES: [nan, nan]  <br> RFCS: ['NAT050819576', 'NAT050819576'] ",
          "COMISION FEDERAL DE ELECTRICIDAD <br>SISTEMAS PRESENTES: SIPE,TAS<br>NUMERO DE CLIENTES: [39, 6009267]  <br>DIRECCIONES: [nan, nan]  <br> RFCS: ['XXXXXXXXXXXXX', 'CFE370814QI0'] ",
          "PMI TRADING DESIGNATED ACTIVITY COMPANY <br>SISTEMAS PRESENTES: SIRAC,TAS<br>NUMERO DE CLIENTES: [28820233, 6009402]  <br>DIRECCIONES: [nan, nan]  <br> RFCS: ['PMI9105174FA', 'PMI9105174FA'] "
         ],
         "type": "scatter",
         "x": [
          "102",
          "315",
          "412",
          "100003",
          "100177",
          "907471",
          "910456",
          "929440",
          "969647",
          "987671",
          "989141",
          "997861",
          "999899",
          "1037284",
          "1040153",
          "1041222",
          "1048332",
          "1057496",
          "1057498",
          "1057500",
          "1057503",
          "1057504",
          "1057505",
          "1057506",
          "1057507",
          "1057512",
          "1057514",
          "1057516",
          "1057517",
          "1057518",
          "1057519",
          "1057520",
          "1057522",
          "1057533",
          "1057537",
          "1057538",
          "1059981",
          "1059997",
          "1060000",
          "1060001",
          "1060002",
          "1060005",
          "1060008",
          "1060010",
          "1060016",
          "1060020",
          "1060022",
          "1060025",
          "1060026",
          "1060028",
          "1060031",
          "1060032",
          "1060036",
          "1060754",
          "1062062",
          "1063872",
          "1064268",
          "1064434",
          "1064485",
          "1064759",
          "1064799",
          "1064950",
          "1065045",
          "1065125",
          "1065224",
          "1065257",
          "1065306",
          "1065415",
          "1065418",
          "1065491",
          "1065502",
          "1065564",
          "1065603",
          "1065651",
          "1065656",
          "1065657",
          "1065676",
          "1065710",
          "1065780",
          "1065798",
          "1065803",
          "1065820",
          "6009267",
          "6009402"
         ],
         "y": [
          1,
          1,
          1,
          1,
          3,
          1,
          1,
          1,
          2,
          2,
          1,
          3,
          2,
          2,
          2,
          1,
          3,
          1,
          1,
          1,
          1,
          1,
          1,
          1,
          1,
          1,
          1,
          1,
          2,
          1,
          1,
          1,
          1,
          1,
          1,
          1,
          1,
          1,
          2,
          2,
          1,
          3,
          3,
          2,
          1,
          2,
          2,
          1,
          3,
          2,
          2,
          1,
          1,
          1,
          1,
          1,
          1,
          1,
          1,
          1,
          1,
          1,
          1,
          1,
          1,
          1,
          3,
          1,
          1,
          1,
          1,
          1,
          1,
          1,
          1,
          1,
          1,
          1,
          1,
          1,
          1,
          1,
          1,
          1
         ]
        }
       ],
       "layout": {
        "template": {
         "data": {
          "bar": [
           {
            "error_x": {
             "color": "#2a3f5f"
            },
            "error_y": {
             "color": "#2a3f5f"
            },
            "marker": {
             "line": {
              "color": "#E5ECF6",
              "width": 0.5
             },
             "pattern": {
              "fillmode": "overlay",
              "size": 10,
              "solidity": 0.2
             }
            },
            "type": "bar"
           }
          ],
          "barpolar": [
           {
            "marker": {
             "line": {
              "color": "#E5ECF6",
              "width": 0.5
             },
             "pattern": {
              "fillmode": "overlay",
              "size": 10,
              "solidity": 0.2
             }
            },
            "type": "barpolar"
           }
          ],
          "carpet": [
           {
            "aaxis": {
             "endlinecolor": "#2a3f5f",
             "gridcolor": "white",
             "linecolor": "white",
             "minorgridcolor": "white",
             "startlinecolor": "#2a3f5f"
            },
            "baxis": {
             "endlinecolor": "#2a3f5f",
             "gridcolor": "white",
             "linecolor": "white",
             "minorgridcolor": "white",
             "startlinecolor": "#2a3f5f"
            },
            "type": "carpet"
           }
          ],
          "choropleth": [
           {
            "colorbar": {
             "outlinewidth": 0,
             "ticks": ""
            },
            "type": "choropleth"
           }
          ],
          "contour": [
           {
            "colorbar": {
             "outlinewidth": 0,
             "ticks": ""
            },
            "colorscale": [
             [
              0,
              "#0d0887"
             ],
             [
              0.1111111111111111,
              "#46039f"
             ],
             [
              0.2222222222222222,
              "#7201a8"
             ],
             [
              0.3333333333333333,
              "#9c179e"
             ],
             [
              0.4444444444444444,
              "#bd3786"
             ],
             [
              0.5555555555555556,
              "#d8576b"
             ],
             [
              0.6666666666666666,
              "#ed7953"
             ],
             [
              0.7777777777777778,
              "#fb9f3a"
             ],
             [
              0.8888888888888888,
              "#fdca26"
             ],
             [
              1,
              "#f0f921"
             ]
            ],
            "type": "contour"
           }
          ],
          "contourcarpet": [
           {
            "colorbar": {
             "outlinewidth": 0,
             "ticks": ""
            },
            "type": "contourcarpet"
           }
          ],
          "heatmap": [
           {
            "colorbar": {
             "outlinewidth": 0,
             "ticks": ""
            },
            "colorscale": [
             [
              0,
              "#0d0887"
             ],
             [
              0.1111111111111111,
              "#46039f"
             ],
             [
              0.2222222222222222,
              "#7201a8"
             ],
             [
              0.3333333333333333,
              "#9c179e"
             ],
             [
              0.4444444444444444,
              "#bd3786"
             ],
             [
              0.5555555555555556,
              "#d8576b"
             ],
             [
              0.6666666666666666,
              "#ed7953"
             ],
             [
              0.7777777777777778,
              "#fb9f3a"
             ],
             [
              0.8888888888888888,
              "#fdca26"
             ],
             [
              1,
              "#f0f921"
             ]
            ],
            "type": "heatmap"
           }
          ],
          "heatmapgl": [
           {
            "colorbar": {
             "outlinewidth": 0,
             "ticks": ""
            },
            "colorscale": [
             [
              0,
              "#0d0887"
             ],
             [
              0.1111111111111111,
              "#46039f"
             ],
             [
              0.2222222222222222,
              "#7201a8"
             ],
             [
              0.3333333333333333,
              "#9c179e"
             ],
             [
              0.4444444444444444,
              "#bd3786"
             ],
             [
              0.5555555555555556,
              "#d8576b"
             ],
             [
              0.6666666666666666,
              "#ed7953"
             ],
             [
              0.7777777777777778,
              "#fb9f3a"
             ],
             [
              0.8888888888888888,
              "#fdca26"
             ],
             [
              1,
              "#f0f921"
             ]
            ],
            "type": "heatmapgl"
           }
          ],
          "histogram": [
           {
            "marker": {
             "pattern": {
              "fillmode": "overlay",
              "size": 10,
              "solidity": 0.2
             }
            },
            "type": "histogram"
           }
          ],
          "histogram2d": [
           {
            "colorbar": {
             "outlinewidth": 0,
             "ticks": ""
            },
            "colorscale": [
             [
              0,
              "#0d0887"
             ],
             [
              0.1111111111111111,
              "#46039f"
             ],
             [
              0.2222222222222222,
              "#7201a8"
             ],
             [
              0.3333333333333333,
              "#9c179e"
             ],
             [
              0.4444444444444444,
              "#bd3786"
             ],
             [
              0.5555555555555556,
              "#d8576b"
             ],
             [
              0.6666666666666666,
              "#ed7953"
             ],
             [
              0.7777777777777778,
              "#fb9f3a"
             ],
             [
              0.8888888888888888,
              "#fdca26"
             ],
             [
              1,
              "#f0f921"
             ]
            ],
            "type": "histogram2d"
           }
          ],
          "histogram2dcontour": [
           {
            "colorbar": {
             "outlinewidth": 0,
             "ticks": ""
            },
            "colorscale": [
             [
              0,
              "#0d0887"
             ],
             [
              0.1111111111111111,
              "#46039f"
             ],
             [
              0.2222222222222222,
              "#7201a8"
             ],
             [
              0.3333333333333333,
              "#9c179e"
             ],
             [
              0.4444444444444444,
              "#bd3786"
             ],
             [
              0.5555555555555556,
              "#d8576b"
             ],
             [
              0.6666666666666666,
              "#ed7953"
             ],
             [
              0.7777777777777778,
              "#fb9f3a"
             ],
             [
              0.8888888888888888,
              "#fdca26"
             ],
             [
              1,
              "#f0f921"
             ]
            ],
            "type": "histogram2dcontour"
           }
          ],
          "mesh3d": [
           {
            "colorbar": {
             "outlinewidth": 0,
             "ticks": ""
            },
            "type": "mesh3d"
           }
          ],
          "parcoords": [
           {
            "line": {
             "colorbar": {
              "outlinewidth": 0,
              "ticks": ""
             }
            },
            "type": "parcoords"
           }
          ],
          "pie": [
           {
            "automargin": true,
            "type": "pie"
           }
          ],
          "scatter": [
           {
            "fillpattern": {
             "fillmode": "overlay",
             "size": 10,
             "solidity": 0.2
            },
            "type": "scatter"
           }
          ],
          "scatter3d": [
           {
            "line": {
             "colorbar": {
              "outlinewidth": 0,
              "ticks": ""
             }
            },
            "marker": {
             "colorbar": {
              "outlinewidth": 0,
              "ticks": ""
             }
            },
            "type": "scatter3d"
           }
          ],
          "scattercarpet": [
           {
            "marker": {
             "colorbar": {
              "outlinewidth": 0,
              "ticks": ""
             }
            },
            "type": "scattercarpet"
           }
          ],
          "scattergeo": [
           {
            "marker": {
             "colorbar": {
              "outlinewidth": 0,
              "ticks": ""
             }
            },
            "type": "scattergeo"
           }
          ],
          "scattergl": [
           {
            "marker": {
             "colorbar": {
              "outlinewidth": 0,
              "ticks": ""
             }
            },
            "type": "scattergl"
           }
          ],
          "scattermapbox": [
           {
            "marker": {
             "colorbar": {
              "outlinewidth": 0,
              "ticks": ""
             }
            },
            "type": "scattermapbox"
           }
          ],
          "scatterpolar": [
           {
            "marker": {
             "colorbar": {
              "outlinewidth": 0,
              "ticks": ""
             }
            },
            "type": "scatterpolar"
           }
          ],
          "scatterpolargl": [
           {
            "marker": {
             "colorbar": {
              "outlinewidth": 0,
              "ticks": ""
             }
            },
            "type": "scatterpolargl"
           }
          ],
          "scatterternary": [
           {
            "marker": {
             "colorbar": {
              "outlinewidth": 0,
              "ticks": ""
             }
            },
            "type": "scatterternary"
           }
          ],
          "surface": [
           {
            "colorbar": {
             "outlinewidth": 0,
             "ticks": ""
            },
            "colorscale": [
             [
              0,
              "#0d0887"
             ],
             [
              0.1111111111111111,
              "#46039f"
             ],
             [
              0.2222222222222222,
              "#7201a8"
             ],
             [
              0.3333333333333333,
              "#9c179e"
             ],
             [
              0.4444444444444444,
              "#bd3786"
             ],
             [
              0.5555555555555556,
              "#d8576b"
             ],
             [
              0.6666666666666666,
              "#ed7953"
             ],
             [
              0.7777777777777778,
              "#fb9f3a"
             ],
             [
              0.8888888888888888,
              "#fdca26"
             ],
             [
              1,
              "#f0f921"
             ]
            ],
            "type": "surface"
           }
          ],
          "table": [
           {
            "cells": {
             "fill": {
              "color": "#EBF0F8"
             },
             "line": {
              "color": "white"
             }
            },
            "header": {
             "fill": {
              "color": "#C8D4E3"
             },
             "line": {
              "color": "white"
             }
            },
            "type": "table"
           }
          ]
         },
         "layout": {
          "annotationdefaults": {
           "arrowcolor": "#2a3f5f",
           "arrowhead": 0,
           "arrowwidth": 1
          },
          "autotypenumbers": "strict",
          "coloraxis": {
           "colorbar": {
            "outlinewidth": 0,
            "ticks": ""
           }
          },
          "colorscale": {
           "diverging": [
            [
             0,
             "#8e0152"
            ],
            [
             0.1,
             "#c51b7d"
            ],
            [
             0.2,
             "#de77ae"
            ],
            [
             0.3,
             "#f1b6da"
            ],
            [
             0.4,
             "#fde0ef"
            ],
            [
             0.5,
             "#f7f7f7"
            ],
            [
             0.6,
             "#e6f5d0"
            ],
            [
             0.7,
             "#b8e186"
            ],
            [
             0.8,
             "#7fbc41"
            ],
            [
             0.9,
             "#4d9221"
            ],
            [
             1,
             "#276419"
            ]
           ],
           "sequential": [
            [
             0,
             "#0d0887"
            ],
            [
             0.1111111111111111,
             "#46039f"
            ],
            [
             0.2222222222222222,
             "#7201a8"
            ],
            [
             0.3333333333333333,
             "#9c179e"
            ],
            [
             0.4444444444444444,
             "#bd3786"
            ],
            [
             0.5555555555555556,
             "#d8576b"
            ],
            [
             0.6666666666666666,
             "#ed7953"
            ],
            [
             0.7777777777777778,
             "#fb9f3a"
            ],
            [
             0.8888888888888888,
             "#fdca26"
            ],
            [
             1,
             "#f0f921"
            ]
           ],
           "sequentialminus": [
            [
             0,
             "#0d0887"
            ],
            [
             0.1111111111111111,
             "#46039f"
            ],
            [
             0.2222222222222222,
             "#7201a8"
            ],
            [
             0.3333333333333333,
             "#9c179e"
            ],
            [
             0.4444444444444444,
             "#bd3786"
            ],
            [
             0.5555555555555556,
             "#d8576b"
            ],
            [
             0.6666666666666666,
             "#ed7953"
            ],
            [
             0.7777777777777778,
             "#fb9f3a"
            ],
            [
             0.8888888888888888,
             "#fdca26"
            ],
            [
             1,
             "#f0f921"
            ]
           ]
          },
          "colorway": [
           "#636efa",
           "#EF553B",
           "#00cc96",
           "#ab63fa",
           "#FFA15A",
           "#19d3f3",
           "#FF6692",
           "#B6E880",
           "#FF97FF",
           "#FECB52"
          ],
          "font": {
           "color": "#2a3f5f"
          },
          "geo": {
           "bgcolor": "white",
           "lakecolor": "white",
           "landcolor": "#E5ECF6",
           "showlakes": true,
           "showland": true,
           "subunitcolor": "white"
          },
          "hoverlabel": {
           "align": "left"
          },
          "hovermode": "closest",
          "mapbox": {
           "style": "light"
          },
          "paper_bgcolor": "white",
          "plot_bgcolor": "#E5ECF6",
          "polar": {
           "angularaxis": {
            "gridcolor": "white",
            "linecolor": "white",
            "ticks": ""
           },
           "bgcolor": "#E5ECF6",
           "radialaxis": {
            "gridcolor": "white",
            "linecolor": "white",
            "ticks": ""
           }
          },
          "scene": {
           "xaxis": {
            "backgroundcolor": "#E5ECF6",
            "gridcolor": "white",
            "gridwidth": 2,
            "linecolor": "white",
            "showbackground": true,
            "ticks": "",
            "zerolinecolor": "white"
           },
           "yaxis": {
            "backgroundcolor": "#E5ECF6",
            "gridcolor": "white",
            "gridwidth": 2,
            "linecolor": "white",
            "showbackground": true,
            "ticks": "",
            "zerolinecolor": "white"
           },
           "zaxis": {
            "backgroundcolor": "#E5ECF6",
            "gridcolor": "white",
            "gridwidth": 2,
            "linecolor": "white",
            "showbackground": true,
            "ticks": "",
            "zerolinecolor": "white"
           }
          },
          "shapedefaults": {
           "line": {
            "color": "#2a3f5f"
           }
          },
          "ternary": {
           "aaxis": {
            "gridcolor": "white",
            "linecolor": "white",
            "ticks": ""
           },
           "baxis": {
            "gridcolor": "white",
            "linecolor": "white",
            "ticks": ""
           },
           "bgcolor": "#E5ECF6",
           "caxis": {
            "gridcolor": "white",
            "linecolor": "white",
            "ticks": ""
           }
          },
          "title": {
           "x": 0.05
          },
          "xaxis": {
           "automargin": true,
           "gridcolor": "white",
           "linecolor": "white",
           "ticks": "",
           "title": {
            "standoff": 15
           },
           "zerolinecolor": "white",
           "zerolinewidth": 2
          },
          "yaxis": {
           "automargin": true,
           "gridcolor": "white",
           "linecolor": "white",
           "ticks": "",
           "title": {
            "standoff": 15
           },
           "zerolinecolor": "white",
           "zerolinewidth": 2
          }
         }
        },
        "title": {
         "text": "Dispersión de clientes y sistemas TAS y sistemas"
        },
        "xaxis": {
         "title": {
          "text": "ID_ORIGEN"
         }
        },
        "yaxis": {
         "title": {
          "text": "Count"
         }
        }
       }
      },
      "text/html": [
       "<div>                            <div id=\"b7830689-707f-404d-a7b2-541ce030b36c\" class=\"plotly-graph-div\" style=\"height:525px; width:100%;\"></div>            <script type=\"text/javascript\">                require([\"plotly\"], function(Plotly) {                    window.PLOTLYENV=window.PLOTLYENV || {};                                    if (document.getElementById(\"b7830689-707f-404d-a7b2-541ce030b36c\")) {                    Plotly.newPlot(                        \"b7830689-707f-404d-a7b2-541ce030b36c\",                        [{\"hovertemplate\":\"%{text}\",\"marker\":{\"color\":\"blue\",\"size\":10},\"mode\":\"markers\",\"text\":[\"CASA DE BOLSA MULTIVA. S.A. DE C.V., GRUPO FINANCIERO MULTIVA \\u003cbr\\u003eSISTEMAS PRESENTES: MECA,TAS\\u003cbr\\u003eNUMERO DE CLIENTES: ['MULTIV', 102]  \\u003cbr\\u003eDIRECCIONES: ['NO SE TIENE REGISTRADA LA INFORMACION', nan]  \\u003cbr\\u003e RFCS: ['XXX123456XXX', 'MCB9809105S1'] \",\"VALORES MEXICANOS CASA DE BOLSA S.A. DE C.V. \\u003cbr\\u003eSISTEMAS PRESENTES: MECA,TAS\\u003cbr\\u003eNUMERO DE CLIENTES: ['VALMEX', 315]  \\u003cbr\\u003eDIRECCIONES: ['MARIO', nan]  \\u003cbr\\u003e RFCS: ['XXX123456XXX', 'CBC79081421A'] \",\"VECTOR CASA DE BOLSA, S.A. DE C.V. \\u003cbr\\u003eSISTEMAS PRESENTES: MECA,TAS\\u003cbr\\u003eNUMERO DE CLIENTES: ['VECT', 412]  \\u003cbr\\u003eDIRECCIONES: ['P', nan]  \\u003cbr\\u003e RFCS: ['XXX123456XXX', 'SMB740206001'] \",\"GOBIERNO FEDERAL \\u003cbr\\u003eSISTEMAS PRESENTES: SIPE,TAS\\u003cbr\\u003eNUMERO DE CLIENTES: [254, 100003]  \\u003cbr\\u003eDIRECCIONES: [nan, nan]  \\u003cbr\\u003e RFCS: ['XXXXXXXXXXXXX', 'NFI3406305T0'] \",\"NACIONAL FINANCIERA S.N.C. \\u003cbr\\u003eSISTEMAS PRESENTES: MECA,SIMS,SOI,TAS\\u003cbr\\u003eNUMERO DE CLIENTES: ['NAFIN', 'NAFIN', 12066, 100177]  \\u003cbr\\u003eDIRECCIONES: ['INSURGENTES SUR 1971', 'INSURGENTES SUR 1971, GUADALUPE INN', 'INSURGENTES SUR', nan]  \\u003cbr\\u003e RFCS: ['NFI3406305TO', 'XXXXXXXXXXXXX', 'NFI3406305T0', 'NFI3406305T0'] \",\"BANCO NACIONAL DE OBRAS Y SERVICIOS PUBLICOS S.N.C. \\u003cbr\\u003eSISTEMAS PRESENTES: SIRAC,TAS\\u003cbr\\u003eNUMERO DE CLIENTES: [3970056, 907471]  \\u003cbr\\u003eDIRECCIONES: [nan, nan]  \\u003cbr\\u003e RFCS: ['BNO670315DC0', 'BNO770315001'] \",\"BANCO BILBAO VIZCAYA, S.A. \\u003cbr\\u003eSISTEMAS PRESENTES: MECA,TAS\\u003cbr\\u003eNUMERO DE CLIENTES: ['MPPX', 910456]  \\u003cbr\\u003eDIRECCIONES: ['NO SE TIENE REGISTRADA LA INFORMACION', nan]  \\u003cbr\\u003e RFCS: ['XXXXXXXXXXXX', 'BBA830831LJ2'] \",\"INVEX CASA DE BOLSA, S.A. DE C.V. \\u003cbr\\u003eSISTEMAS PRESENTES: MECA,TAS\\u003cbr\\u003eNUMERO DE CLIENTES: ['INVEX', 929440]  \\u003cbr\\u003eDIRECCIONES: ['PENDIENTE', nan]  \\u003cbr\\u003e RFCS: ['XXX123456XXX', 'ICB911029V38'] \",\"BANCO INBURSA \\u003cbr\\u003eSISTEMAS PRESENTES: MECA,SIMS,TAS\\u003cbr\\u003eNUMERO DE CLIENTES: ['INBUR', '36957', 969647]  \\u003cbr\\u003eDIRECCIONES: ['NO SE TIENE REGISTRADA LA INFORMACION', nan, nan]  \\u003cbr\\u003e RFCS: ['XXXXXXXXXXXX', 'XXXXXXXXXXXXX', 'BII931004P61'] \",\"BANCO J.P. MORGAN MEXICO \\u003cbr\\u003eSISTEMAS PRESENTES: MECA,SIPE,TAS\\u003cbr\\u003eNUMERO DE CLIENTES: ['JPMOR', 327, 987671]  \\u003cbr\\u003eDIRECCIONES: ['NO SE TIENE REGISTRADA LA INFORMACION', 'PASEO DE LAS PALMAS NUM 405 PISO 16 LOMAS DE CHAPULTEPEC', nan]  \\u003cbr\\u003e RFCS: ['XXXXXXXXXXXX', 'TME840315KT6', 'BJP950104LJ5'] \",\"BANCO SANTANDER DE NEGOCIOS MEXICO,S.A. \\u003cbr\\u003eSISTEMAS PRESENTES: MECA,TAS\\u003cbr\\u003eNUMERO DE CLIENTES: ['SANTAN', 989141]  \\u003cbr\\u003eDIRECCIONES: ['328 82 26', nan]  \\u003cbr\\u003e RFCS: ['XXXXXXXXXXXX', 'BSM941122TE6'] \",\"BANCO NACIONAL DE COMERCIO EXTERIOR \\u003cbr\\u003eSISTEMAS PRESENTES: SIRAC,MECA,SIMS,TAS\\u003cbr\\u003eNUMERO DE CLIENTES: [5970070, 'BCOMEX', 'BCOMXT', 997861]  \\u003cbr\\u003eDIRECCIONES: [nan, 'NO SE TIENE REGISTRADA LA INFORMACION', nan, nan]  \\u003cbr\\u003e RFCS: ['BNC8507311M4', 'XXXXXXXXXXXX', 'XXXXXXXXXXXXX', 'BNC8507311M4'] \",\"BANCO DEL BAJIO S.A. \\u003cbr\\u003eSISTEMAS PRESENTES: MECA,SIPE,TAS\\u003cbr\\u003eNUMERO DE CLIENTES: ['BANJIO', 209, 999899]  \\u003cbr\\u003eDIRECCIONES: ['NO SE TIENE REGISTRADA LA INFORMACION', nan, nan]  \\u003cbr\\u003e RFCS: ['XXXXXXXXXXXX', 'XXXXXXXXXXXXX', 'BBA940707IE1'] \",\"IXE BANCO S.A. \\u003cbr\\u003eSISTEMAS PRESENTES: MECA,SIPE,TAS\\u003cbr\\u003eNUMERO DE CLIENTES: ['IXE', 304, 1037284]  \\u003cbr\\u003eDIRECCIONES: ['JOSE LUIS LAGRANGE 103', 'AV. PAE DE LA REFORMA 505 PISO 47, COLONIA CUAUHTEMOC CP 065', nan]  \\u003cbr\\u003e RFCS: ['XXXXXXXXXXXX', 'XXXXXXXXXXXXX', 'IBA950503GTA'] \",\"BANCO DE MEXICO \\u003cbr\\u003eSISTEMAS PRESENTES: MECA,SIPE,TAS\\u003cbr\\u003eNUMERO DE CLIENTES: ['BXICO', 220, 1040153]  \\u003cbr\\u003eDIRECCIONES: ['NO SE TIENE REGISTRADA LA INFORMACION', 'AV. 5 DE MAYO 2 COLONIA CENTRO DELEGACION CUAUHTEMOC.CP06000', nan]  \\u003cbr\\u003e RFCS: ['XXXXXXXXXXXX', 'XXXXXXXXXXXXX', 'BNM840515VB2'] \",\"BANCA AFIRME, S.A. \\u003cbr\\u003eSISTEMAS PRESENTES: SIPE,TAS\\u003cbr\\u003eNUMERO DE CLIENTES: [306, 1041222]  \\u003cbr\\u003eDIRECCIONES: ['JU\\u00c1REZ SUR 800 PISO 9 COL. CENTRO MONTERREY NUEVO LE\\u00d3N 64000', nan]  \\u003cbr\\u003e RFCS: ['BAF950102JP5', 'BAF950102JP5'] \",\"PETROLEOS MEXICANOS \\u003cbr\\u003eSISTEMAS PRESENTES: SIRAC,MECA,SIMS,TAS\\u003cbr\\u003eNUMERO DE CLIENTES: [4092904, 'PEMEX', 'PEMEX', 1048332]  \\u003cbr\\u003eDIRECCIONES: [nan, 'MARINA NACIONAL', 'MARINA NACIONAL', nan]  \\u003cbr\\u003e RFCS: ['PME380607P35', 'XXXXXXXXXXXX', 'XXXXXXXXXXXXX', 'PME380607P35'] \",\"HSBC CASA DE BOLSA SA DE CV GRUPO FINANCIERO HSBC \\u003cbr\\u003eSISTEMAS PRESENTES: MECA,TAS\\u003cbr\\u003eNUMERO DE CLIENTES: ['HSBC', 1057496]  \\u003cbr\\u003eDIRECCIONES: ['AV. PASEO DE LA REFORMA N.243 PISO 10 TORRE A COL CUAUHTEMOC DEL CUAUHTEMOC 06500 MEX D.F.', nan]  \\u003cbr\\u003e RFCS: ['HCB950125897', 'HCB950125897'] \",\"CASA DE BOLSA BBVA BANCOMER, S.A. DE C.V. \\u003cbr\\u003eSISTEMAS PRESENTES: MECA,TAS\\u003cbr\\u003eNUMERO DE CLIENTES: ['BBVA', 1057498]  \\u003cbr\\u003eDIRECCIONES: ['MONTES URALES #424 PISO 3, COLONIA LOMAS DE CHAPULTEPEC C.P. 11000', nan]  \\u003cbr\\u003e RFCS: ['CBB960628JY9', 'CBB960628D41'] \",\"PUNTO CASA DE BOLSA SA DE CV \\u003cbr\\u003eSISTEMAS PRESENTES: MECA,TAS\\u003cbr\\u003eNUMERO DE CLIENTES: ['PNTOCB', 1057500]  \\u003cbr\\u003eDIRECCIONES: ['FERROCARRIL DE RIO FRIO NO. 419 B 16, COLONIA CUCHILLA DE MORAL, MEXICO, D.F., DELEGACION IZTAPALAPA', nan]  \\u003cbr\\u003e RFCS: ['PCB111011816', 'PCB111011816'] \",\"BARCLAYS CAPITAL CASA DE BOLSA, SA DE CV \\u003cbr\\u003eSISTEMAS PRESENTES: MECA,TAS\\u003cbr\\u003eNUMERO DE CLIENTES: ['BARCAP', 1057503]  \\u003cbr\\u003eDIRECCIONES: ['AV. PASEO DE LA REFORMA N\\u00b0 505, PISO 41, COL. CUAUHT\\u00c9MOC, C.P. 06500 M\\u00c9XICO, D.F.', nan]  \\u003cbr\\u003e RFCS: ['BCC6031613A', 'BCC06031613A'] \",\"CASA DE BOLSA VE POR MAS, S.A DE C.V. \\u003cbr\\u003eSISTEMAS PRESENTES: MECA,TAS\\u003cbr\\u003eNUMERO DE CLIENTES: ['BXMAS', 1057504]  \\u003cbr\\u003eDIRECCIONES: ['EMILIO CASTELAR # 75 COL. CHAPULTEPEC CP 11560', nan]  \\u003cbr\\u003e RFCS: ['CBA8701315H8', 'CBA8701315HB'] \",\"CASA DE BOLSA BBVA BANCOMER, S.A. DE C.V. \\u003cbr\\u003eSISTEMAS PRESENTES: MECA,TAS\\u003cbr\\u003eNUMERO DE CLIENTES: ['BBVA', 1057505]  \\u003cbr\\u003eDIRECCIONES: ['MONTES URALES #424 PISO 3, COLONIA LOMAS DE CHAPULTEPEC C.P. 11000', nan]  \\u003cbr\\u003e RFCS: ['CBB960628JY9', 'CBB960628D41'] \",\"CASA DE BOLSA FINAMEX, S.A.B. DE C.V. \\u003cbr\\u003eSISTEMAS PRESENTES: SIMS,TAS\\u003cbr\\u003eNUMERO DE CLIENTES: ['FINMX', 1057506]  \\u003cbr\\u003eDIRECCIONES: ['AVENIDA AM\\u00c9RICAS 1545 PISO18 Y19', nan]  \\u003cbr\\u003e RFCS: ['XXXXXXXXXXXXX', 'CBF920629BVO'] \",\"CASA DE BOLSA BANORTE IXE, S.A. DE C.V. \\u003cbr\\u003eSISTEMAS PRESENTES: MECA,TAS\\u003cbr\\u003eNUMERO DE CLIENTES: ['BNORT', 1057507]  \\u003cbr\\u003eDIRECCIONES: ['P', nan]  \\u003cbr\\u003e RFCS: ['XXX123456XXX', 'ICB950503QH4'] \",\"INTERACCIONES CASA DE BOLSA S.A DE C.V. \\u003cbr\\u003eSISTEMAS PRESENTES: MECA,TAS\\u003cbr\\u003eNUMERO DE CLIENTES: ['INTER', 1057512]  \\u003cbr\\u003eDIRECCIONES: ['PASEO DE LA REFORMA #383 PISO 14 COL. CUAUHTEMOC CP 06500', nan]  \\u003cbr\\u003e RFCS: ['ICB8704225X7', 'ICB870422BS8'] \",\"JP MORGAN CASA DE BOLSA S.A DE C.V. \\u003cbr\\u003eSISTEMAS PRESENTES: MECA,TAS\\u003cbr\\u003eNUMERO DE CLIENTES: ['JPMORG', 1057514]  \\u003cbr\\u003eDIRECCIONES: ['PASEO DE LAS PALMAS 405 PISO 16, LOMAS DE CHAPULTEPEC, CP 11000 DF', nan]  \\u003cbr\\u003e RFCS: ['JPM960506G57', 'JPM960506G57'] \",\"MERRILL LYNCH MEXICO, S.A. DE C.V. CASA DE BOLSA \\u003cbr\\u003eSISTEMAS PRESENTES: MECA,TAS\\u003cbr\\u003eNUMERO DE CLIENTES: ['MLYNCH', 1057516]  \\u003cbr\\u003eDIRECCIONES: ['P', nan]  \\u003cbr\\u003e RFCS: ['XXX123456XXX', 'MLM950112GG3'] \",\"MONEX CASA DE BOLSA S.A. DE C.V. \\u003cbr\\u003eSISTEMAS PRESENTES: MECA,SIMS,TAS\\u003cbr\\u003eNUMERO DE CLIENTES: ['MONEX', 'MONEXM', 1057517]  \\u003cbr\\u003eDIRECCIONES: ['INSURGENTES SUR 1886 COL.FLORIDA', 'AVENIDA PASEO DE LA REFORMA 284 PISO 15', nan]  \\u003cbr\\u003e RFCS: ['XXX123456XXX', 'XXXXXXXXXXXXX', 'MCB860313CD6'] \",\"SCOTIA INVERLAT CASA DE BOLSA S.A. \\u003cbr\\u003eSISTEMAS PRESENTES: MECA,TAS\\u003cbr\\u003eNUMERO DE CLIENTES: ['SCOTI', 1057518]  \\u003cbr\\u003eDIRECCIONES: ['BOSQUE DE CIRUELOS 120, BOSQUES DE LAS LOMAS C.P. 11700, MEXICO, D.F.', nan]  \\u003cbr\\u003e RFCS: ['XXX123456XXX', 'SIN941202514'] \",\"VALORES MEXICANOS CASA DE BOLSA, S.A. DE C.V. \\u003cbr\\u003eSISTEMAS PRESENTES: MECA,TAS\\u003cbr\\u003eNUMERO DE CLIENTES: ['VALMEX', 1057519]  \\u003cbr\\u003eDIRECCIONES: ['MARIO', nan]  \\u003cbr\\u003e RFCS: ['XXX123456XXX', 'VMC930101JS6'] \",\"VECTOR CASA DE BOLSA S.A. DE C.V. \\u003cbr\\u003eSISTEMAS PRESENTES: MECA,TAS\\u003cbr\\u003eNUMERO DE CLIENTES: ['VECT', 1057520]  \\u003cbr\\u003eDIRECCIONES: ['P', nan]  \\u003cbr\\u003e RFCS: ['XXX123456XXX', 'VCB870729PH6'] \",\"PUNTO CASA DE BOLSA, S.A. DE C.V. \\u003cbr\\u003eSISTEMAS PRESENTES: MECA,TAS\\u003cbr\\u003eNUMERO DE CLIENTES: ['PNTOCB', 1057522]  \\u003cbr\\u003eDIRECCIONES: ['FERROCARRIL DE RIO FRIO NO. 419 B 16, COLONIA CUCHILLA DE MORAL, MEXICO, D.F., DELEGACION IZTAPALAPA', nan]  \\u003cbr\\u003e RFCS: ['PCB111011816', 'PCB111011816'] \",\"VECTOR CASA DE BOLSA SA DE CV \\u003cbr\\u003eSISTEMAS PRESENTES: MECA,TAS\\u003cbr\\u003eNUMERO DE CLIENTES: ['VECT', 1057533]  \\u003cbr\\u003eDIRECCIONES: ['P', nan]  \\u003cbr\\u003e RFCS: ['XXX123456XXX', 'VCB870729PH6'] \",\"EVERCORE CASA DE BOLSA, S.A. DE C.V. \\u003cbr\\u003eSISTEMAS PRESENTES: MECA,TAS\\u003cbr\\u003eNUMERO DE CLIENTES: ['EVERCO', 1057537]  \\u003cbr\\u003eDIRECCIONES: ['MANUEL AVILA CAMACHO 36 - PISO 22, COL. LOMAS DE CHAPULTEPEC, CP 11000, DEL. MIGUEL HIDALGO', nan]  \\u003cbr\\u003e RFCS: ['PCB50107CP2', 'PCB050107CP2'] \",\"CASA DE BOLSA FINAMEX SAB DE CV \\u003cbr\\u003eSISTEMAS PRESENTES: SIMS,TAS\\u003cbr\\u003eNUMERO DE CLIENTES: ['FINMX', 1057538]  \\u003cbr\\u003eDIRECCIONES: ['AVENIDA AM\\u00c9RICAS 1545 PISO18 Y19', nan]  \\u003cbr\\u003e RFCS: ['XXXXXXXXXXXXX', 'CBF920629BV0'] \",\"Banco Sabadell SA Institucion de Banca Multiple \\u003cbr\\u003eSISTEMAS PRESENTES: SIRAC,TAS\\u003cbr\\u003eNUMERO DE CLIENTES: [28561148, 1059981]  \\u003cbr\\u003eDIRECCIONES: [nan, nan]  \\u003cbr\\u003e RFCS: ['DCS150115331', 'DCS150115331'] \",\"BANCO AUTOFIN MEXICO S.A. \\u003cbr\\u003eSISTEMAS PRESENTES: SIRAC,TAS\\u003cbr\\u003eNUMERO DE CLIENTES: [10281162, 1059997]  \\u003cbr\\u003eDIRECCIONES: [nan, nan]  \\u003cbr\\u003e RFCS: ['BAM0511076B3', 'BAM0511076B3'] \",\"BANK OF BOSTON MEXICO \\u003cbr\\u003eSISTEMAS PRESENTES: MECA,SIPE,TAS\\u003cbr\\u003eNUMERO DE CLIENTES: ['BOSTON', 246, 1060000]  \\u003cbr\\u003eDIRECCIONES: ['NO SE TIENE REGISTRADA LA INFORMACION', nan, nan]  \\u003cbr\\u003e RFCS: ['XXXXXXXXXXXX', 'XXXXXXXXXXXXX', 'XXXXXXXXXXXXX'] \",\"BANCO INTERACCIONES, S.A. \\u003cbr\\u003eSISTEMAS PRESENTES: MECA,SIPE,TAS\\u003cbr\\u003eNUMERO DE CLIENTES: ['INTERA', 13, 1060001]  \\u003cbr\\u003eDIRECCIONES: ['NO SE TIENE REGISTRADA LA INFORMACION', 'PASEO DE LA REFORMA 383 PISO 14 COL CUAHTEMOC CP 06500', nan]  \\u003cbr\\u003e RFCS: ['XXXXXXXXXXXX', 'BIN931011519', 'XXXXXXXXXXXXX'] \",\"BANRURAL \\u003cbr\\u003eSISTEMAS PRESENTES: MECA,TAS\\u003cbr\\u003eNUMERO DE CLIENTES: ['BANRU', 1060002]  \\u003cbr\\u003eDIRECCIONES: ['NO SE TIENE REGISTRADA LA INFORMACION', nan]  \\u003cbr\\u003e RFCS: ['XXXXXXXXXXXX', 'XXXXXXXXXXXXX'] \",\"BANCO NACIONAL DE MEXICO S.A. \\u003cbr\\u003eSISTEMAS PRESENTES: MECA,SIMS,SIMS,TAS\\u003cbr\\u003eNUMERO DE CLIENTES: ['BNMX', 'BANMEX', 'BANAME', 1060005]  \\u003cbr\\u003eDIRECCIONES: ['NO SE TIENE REGISTRADA LA INFORMACION', 'INSURGENTES SUR', nan, nan]  \\u003cbr\\u003e RFCS: ['XXXXXXXXXXXX', 'XXXXXXXXXXXXX', 'XXXXXXXXXXXXX', 'XXXXXXXXXXXXX'] \",\"BANCO NACIONAL DE COMERCIO EXTERIOR \\u003cbr\\u003eSISTEMAS PRESENTES: SIRAC,MECA,SIMS,TAS\\u003cbr\\u003eNUMERO DE CLIENTES: [5970070, 'BCOMEX', 'BCOMXT', 1060008]  \\u003cbr\\u003eDIRECCIONES: [nan, 'NO SE TIENE REGISTRADA LA INFORMACION', nan, nan]  \\u003cbr\\u003e RFCS: ['BNC8507311M4', 'XXXXXXXXXXXX', 'XXXXXXXXXXXXX', 'XXXXXXXXXXXXX'] \",\"BANCO SANTANDER MEXICANO S.A. \\u003cbr\\u003eSISTEMAS PRESENTES: SIRAC,SIPE,TAS\\u003cbr\\u003eNUMERO DE CLIENTES: [23422459, 14, 1060010]  \\u003cbr\\u003eDIRECCIONES: [nan, '235 5TH AVENUE NEW YORK, NY 10016', nan]  \\u003cbr\\u003e RFCS: ['BSM970519DU8', 'XXXXXXXXXXXXX', 'XXXXXXXXXXXXX'] \",\"BANCO INBURSA S.A. \\u003cbr\\u003eSISTEMAS PRESENTES: SIPE,TAS\\u003cbr\\u003eNUMERO DE CLIENTES: [23, 1060016]  \\u003cbr\\u003eDIRECCIONES: ['PASEO DE LAS PALMAS 736 LOMAS DE CHAPULTEPEC CP 11000', nan]  \\u003cbr\\u003e RFCS: ['XXXXXXXXXXXXX', 'XXXXXXXXXXXXX'] \",\"BANCO MIFEL S.A. \\u003cbr\\u003eSISTEMAS PRESENTES: MECA,MECA,TAS\\u003cbr\\u003eNUMERO DE CLIENTES: ['MIFEL', 'BCOMIF', 1060020]  \\u003cbr\\u003eDIRECCIONES: ['ALJANDRO FINKLER', 'NO SE TIENE REGISTRADA LA INFORMACION', nan]  \\u003cbr\\u003e RFCS: ['XXXXXXXXXXXX', 'XXXXXXXXXXXX', 'XXXXXXXXXXXXX'] \",\"BANCO DEL BAJIO S.A. \\u003cbr\\u003eSISTEMAS PRESENTES: MECA,SIPE,TAS\\u003cbr\\u003eNUMERO DE CLIENTES: ['BANJIO', 209, 1060022]  \\u003cbr\\u003eDIRECCIONES: ['NO SE TIENE REGISTRADA LA INFORMACION', nan, nan]  \\u003cbr\\u003e RFCS: ['XXXXXXXXXXXX', 'XXXXXXXXXXXXX', 'XXXXXXXXXXXXX'] \",\"BANCO DEL SURESTE S.A. \\u003cbr\\u003eSISTEMAS PRESENTES: MECA,TAS\\u003cbr\\u003eNUMERO DE CLIENTES: ['SURE', 1060025]  \\u003cbr\\u003eDIRECCIONES: ['NO SE TIENE REGISTRADA LA INFORMACION', nan]  \\u003cbr\\u003e RFCS: ['XXXXXXXXXXXX', 'XXXXXXXXXXXXX'] \",\"BANK OF AMERICA MEXICO \\u003cbr\\u003eSISTEMAS PRESENTES: MECA,MECA,SIPE,TAS\\u003cbr\\u003eNUMERO DE CLIENTES: ['BANKAM', 'BOFA', 339, 1060026]  \\u003cbr\\u003eDIRECCIONES: ['PASEO DE LA REFORMA 116', 'NO SE TIENE REGISTRADA LA INFORMACION', 'PEDREGAL #24, PISO 22, MOLINO DEL REY, MIGUEL HIDALGO, 11040', nan]  \\u003cbr\\u003e RFCS: ['XXXXXXXXXXXX', 'XXXXXXXXXXXX', 'XXXXXXXXXXXXX', 'XXXXXXXXXXXXX'] \",\"IXE BANCO S.A. \\u003cbr\\u003eSISTEMAS PRESENTES: MECA,SIPE,TAS\\u003cbr\\u003eNUMERO DE CLIENTES: ['IXE', 304, 1060028]  \\u003cbr\\u003eDIRECCIONES: ['JOSE LUIS LAGRANGE 103', 'AV. PAE DE LA REFORMA 505 PISO 47, COLONIA CUAUHTEMOC CP 065', nan]  \\u003cbr\\u003e RFCS: ['XXXXXXXXXXXX', 'XXXXXXXXXXXXX', 'XXXXXXXXXXXXX'] \",\"BANCO INDUSTRIAL S.A. \\u003cbr\\u003eSISTEMAS PRESENTES: MECA,SIPE,TAS\\u003cbr\\u003eNUMERO DE CLIENTES: ['INDUS', 104, 1060031]  \\u003cbr\\u003eDIRECCIONES: ['NO SE TIENE REGISTRADA LA INFORMACION', nan, nan]  \\u003cbr\\u003e RFCS: ['XXXXXXXXXXXX', 'XXXXXXXXXXXXX', 'XXXXXXXXXXXXX'] \",\"GE CAPITAL BANK S.A. \\u003cbr\\u003eSISTEMAS PRESENTES: SIPE,TAS\\u003cbr\\u003eNUMERO DE CLIENTES: [278, 1060032]  \\u003cbr\\u003eDIRECCIONES: ['AV. STA. FE 495 COL. CRUZ MANCA CUAJIMALPA 05349 MEX. D.F.', nan]  \\u003cbr\\u003e RFCS: ['XXXXXXXXXXXXX', 'XXXXXXXXXXXXX'] \",\"HSBC MEXICO S.A. \\u003cbr\\u003eSISTEMAS PRESENTES: SIPE,TAS\\u003cbr\\u003eNUMERO DE CLIENTES: [320, 1060036]  \\u003cbr\\u003eDIRECCIONES: ['REFORMA 156-PISO 3,  MEXICO, D.F.', nan]  \\u003cbr\\u003e RFCS: ['HMI950125KG8', 'XXXXXXXXXXXXX'] \",\"BANCO AZTECA, S.A. INSTITUCION DE BANCA MULTIPLE \\u003cbr\\u003eSISTEMAS PRESENTES: SIRAC,TAS\\u003cbr\\u003eNUMERO DE CLIENTES: [3912903, 1060754]  \\u003cbr\\u003eDIRECCIONES: [nan, nan]  \\u003cbr\\u003e RFCS: ['BAI0205236Y8', 'BAI0205236Y8'] \",\"MERRILL  LYNCH MEXICO S.A. DE C.V. CASA DE BOLSA \\u003cbr\\u003eSISTEMAS PRESENTES: MECA,TAS\\u003cbr\\u003eNUMERO DE CLIENTES: ['MLYNCH', 1062062]  \\u003cbr\\u003eDIRECCIONES: ['P', nan]  \\u003cbr\\u003e RFCS: ['XXX123456XXX', 'MLM950112GG3'] \",\"FINANCIERA SUMATE, S.A. DE C.V. SOFIPO \\u003cbr\\u003eSISTEMAS PRESENTES: SIRAC,TAS\\u003cbr\\u003eNUMERO DE CLIENTES: [10286078, 1063872]  \\u003cbr\\u003eDIRECCIONES: [nan, nan]  \\u003cbr\\u003e RFCS: ['FSU030606GW3', 'FSU030606GW3'] \",\"COMISION FEDERAL DE ELECTRICIDAD \\u003cbr\\u003eSISTEMAS PRESENTES: SIPE,TAS\\u003cbr\\u003eNUMERO DE CLIENTES: [39, 1064268]  \\u003cbr\\u003eDIRECCIONES: [nan, nan]  \\u003cbr\\u003e RFCS: ['XXXXXXXXXXXXX', 'CFE370814QI0'] \",\"CEMEX, S.A.B. DE C.V. \\u003cbr\\u003eSISTEMAS PRESENTES: SIRAC,TAS\\u003cbr\\u003eNUMERO DE CLIENTES: [10335210, 1064434]  \\u003cbr\\u003eDIRECCIONES: [nan, nan]  \\u003cbr\\u003e RFCS: ['CEM880726UZA', 'CEM880726UZA'] \",\"APOYO ECON\\ufffdMICO FAMILIAR, S.A. DE C.V. SOFOM E.N.R. \\u003cbr\\u003eSISTEMAS PRESENTES: SIRAC,TAS\\u003cbr\\u003eNUMERO DE CLIENTES: [22336018, 1064485]  \\u003cbr\\u003eDIRECCIONES: [nan, nan]  \\u003cbr\\u003e RFCS: ['AEF050221TY2', 'AEF050221TY2'] \",\"FINANCIERA LABOR S.A.P.I. DE C.V. SOFOM E.N.R. \\u003cbr\\u003eSISTEMAS PRESENTES: SIRAC,TAS\\u003cbr\\u003eNUMERO DE CLIENTES: [28120570, 1064759]  \\u003cbr\\u003eDIRECCIONES: [nan, nan]  \\u003cbr\\u003e RFCS: ['FLA080115FZ6', 'FLA080115FZ6'] \",\"FONDO ESPECIAL PARA EL FINANCIAMIENTO AGROPECUARIOS (FEFA) \\u003cbr\\u003eSISTEMAS PRESENTES: SIRAC,TAS\\u003cbr\\u003eNUMERO DE CLIENTES: [28729842, 1064799]  \\u003cbr\\u003eDIRECCIONES: [nan, nan]  \\u003cbr\\u003e RFCS: ['FEF650826K41', 'FEF650826K41'] \",\"ENLACE INT SA DE CV \\u003cbr\\u003eSISTEMAS PRESENTES: SIMS,TAS\\u003cbr\\u003eNUMERO DE CLIENTES: ['ENLACE', 1064950]  \\u003cbr\\u003eDIRECCIONES: ['TORRE ESMERALDA II,BLVD AVILA CAMACHO 36-1805', nan]  \\u003cbr\\u003e RFCS: ['XXXXXXXXXXXXX', 'EIN961028182'] \",\"RED DE SERVICIOS FINANCIEROS, S.A. DE C.V. SOFOM E.N.R. \\u003cbr\\u003eSISTEMAS PRESENTES: SIRAC,TAS\\u003cbr\\u003eNUMERO DE CLIENTES: [10333123, 1065045]  \\u003cbr\\u003eDIRECCIONES: [nan, nan]  \\u003cbr\\u003e RFCS: ['RSF050920LP2', 'RSF050920LP2'] \",\"GRUPO CONSULTOR PARA LA MICROEMPRESA, S.A. DE C.V. SOFOM E.N.R. \\u003cbr\\u003eSISTEMAS PRESENTES: SIRAC,TAS\\u003cbr\\u003eNUMERO DE CLIENTES: [10172806, 1065125]  \\u003cbr\\u003eDIRECCIONES: [nan, nan]  \\u003cbr\\u003e RFCS: ['GCM060905AC9', 'GCM060905AC9'] \",\"PROAKTIVA S.A.P.I. DE C.V., SOFOM, E.N.R. \\u003cbr\\u003eSISTEMAS PRESENTES: SIRAC,TAS\\u003cbr\\u003eNUMERO DE CLIENTES: [28455530, 1065224]  \\u003cbr\\u003eDIRECCIONES: [nan, nan]  \\u003cbr\\u003e RFCS: ['PRO080306UD8', 'PRO080306UD8'] \",\"SERFIMEX CAPITAL, S.A.P.I. DE C.V., SOFOM, E.N.R. \\u003cbr\\u003eSISTEMAS PRESENTES: SIRAC,TAS\\u003cbr\\u003eNUMERO DE CLIENTES: [14841326, 1065257]  \\u003cbr\\u003eDIRECCIONES: [nan, nan]  \\u003cbr\\u003e RFCS: ['SCA090311Q29', 'SCA090311Q29'] \",\"PETROLEOS MEXICANOS \\u003cbr\\u003eSISTEMAS PRESENTES: SIRAC,MECA,SIMS,TAS\\u003cbr\\u003eNUMERO DE CLIENTES: [4092904, 'PEMEX', 'PEMEX', 1065306]  \\u003cbr\\u003eDIRECCIONES: [nan, 'MARINA NACIONAL', 'MARINA NACIONAL', nan]  \\u003cbr\\u003e RFCS: ['PME380607P35', 'XXXXXXXXXXXX', 'XXXXXXXXXXXXX', 'PME380607P35'] \",\"PMI TRADING DESIGNATED ACTIVITY COMPANY \\u003cbr\\u003eSISTEMAS PRESENTES: SIRAC,TAS\\u003cbr\\u003eNUMERO DE CLIENTES: [28820233, 1065415]  \\u003cbr\\u003eDIRECCIONES: [nan, nan]  \\u003cbr\\u003e RFCS: ['PMI9105174FA', 'PMI9105174FA'] \",\"ALSOL CONTIGO S.A. DE C.V. SOFOM, E.N.R. \\u003cbr\\u003eSISTEMAS PRESENTES: SIRAC,TAS\\u003cbr\\u003eNUMERO DE CLIENTES: [28627541, 1065418]  \\u003cbr\\u003eDIRECCIONES: [nan, nan]  \\u003cbr\\u003e RFCS: ['ACO090216551', 'ACO090216551'] \",\"AFIX SERVICIOS FINANCIEROS S.A.P.I. DE C.V., SOFOM, E.N.R. \\u003cbr\\u003eSISTEMAS PRESENTES: SIRAC,TAS\\u003cbr\\u003eNUMERO DE CLIENTES: [28563824, 1065491]  \\u003cbr\\u003eDIRECCIONES: [nan, nan]  \\u003cbr\\u003e RFCS: ['ASF0901169V3', 'ASF0901169V3'] \",\"CREDICAM, S.A. DE C.V., SOFOM, E.N.R. \\u003cbr\\u003eSISTEMAS PRESENTES: SIRAC,TAS\\u003cbr\\u003eNUMERO DE CLIENTES: [10177936, 1065502]  \\u003cbr\\u003eDIRECCIONES: [nan, nan]  \\u003cbr\\u003e RFCS: ['CRE9503205J3', 'CRE9503205J3'] \",\"ALSOL CONTIGO, S.A. DE C.V., SOFOM, E.N.R. \\u003cbr\\u003eSISTEMAS PRESENTES: SIRAC,TAS\\u003cbr\\u003eNUMERO DE CLIENTES: [28627541, 1065564]  \\u003cbr\\u003eDIRECCIONES: [nan, nan]  \\u003cbr\\u003e RFCS: ['ACO090216551', 'ACO090216551'] \",\"FINPO, S.A. DE C.V. SOFOM E.N.R. \\u003cbr\\u003eSISTEMAS PRESENTES: SIRAC,TAS\\u003cbr\\u003eNUMERO DE CLIENTES: [28743362, 1065603]  \\u003cbr\\u003eDIRECCIONES: [nan, nan]  \\u003cbr\\u003e RFCS: ['FIN0810067T0', 'FIN0810067T0'] \",\"FINACTIV, S.A. DE C.V., SOFOM, E.N.R. \\u003cbr\\u003eSISTEMAS PRESENTES: SIRAC,TAS\\u003cbr\\u003eNUMERO DE CLIENTES: [25287629, 1065651]  \\u003cbr\\u003eDIRECCIONES: [nan, nan]  \\u003cbr\\u003e RFCS: ['FIN080630IS4', 'FIN080630IS4'] \",\"COFINE, S.A.P.I. DE C.V. SOFOM E.N.R. \\u003cbr\\u003eSISTEMAS PRESENTES: SIRAC,TAS\\u003cbr\\u003eNUMERO DE CLIENTES: [28778950, 1065656]  \\u003cbr\\u003eDIRECCIONES: [nan, nan]  \\u003cbr\\u003e RFCS: ['COF9803047E9', 'COF9803047E9'] \",\"ION FINANCIERA S.A.P.I. DE C.V., SOFOM, E.R. \\u003cbr\\u003eSISTEMAS PRESENTES: SIRAC,TAS\\u003cbr\\u003eNUMERO DE CLIENTES: [28462568, 1065657]  \\u003cbr\\u003eDIRECCIONES: [nan, nan]  \\u003cbr\\u003e RFCS: ['QCO110616EI8', 'QCO110616EI8'] \",\"FACTOR EXPRES, S.A.P.I. DE C.V., SOFOM, E.N.R. \\u003cbr\\u003eSISTEMAS PRESENTES: SIRAC,TAS\\u003cbr\\u003eNUMERO DE CLIENTES: [28785906, 1065676]  \\u003cbr\\u003eDIRECCIONES: [nan, nan]  \\u003cbr\\u003e RFCS: ['FEX130430JX1', 'FEX130430JX1'] \",\"BANCO SABADELL S.A., INSTITUCION DE BANCA MULTIPLE \\u003cbr\\u003eSISTEMAS PRESENTES: SIRAC,TAS\\u003cbr\\u003eNUMERO DE CLIENTES: [28561148, 1065710]  \\u003cbr\\u003eDIRECCIONES: [nan, nan]  \\u003cbr\\u003e RFCS: ['DCS150115331', 'DCS150115331'] \",\"CREDIPLATA, S.A.P.I. DE C.V. SOFOM E.N.R. \\u003cbr\\u003eSISTEMAS PRESENTES: SIRAC,TAS\\u003cbr\\u003eNUMERO DE CLIENTES: [28892040, 1065780]  \\u003cbr\\u003eDIRECCIONES: [nan, nan]  \\u003cbr\\u003e RFCS: ['CRE130903KD7', 'CRE130903KD7'] \",\"FINANCIERA CEFEMEX, S.A. DE C.V., SOFOM, E.N.R. \\u003cbr\\u003eSISTEMAS PRESENTES: SIRAC,TAS\\u003cbr\\u003eNUMERO DE CLIENTES: [28907819, 1065798]  \\u003cbr\\u003eDIRECCIONES: [nan, nan]  \\u003cbr\\u003e RFCS: ['CEF010505N86', 'CEF010505N86'] \",\"SOFIPA CORPORATION, S.A.P.I. DE C.V. SOFOM, E.N.R. \\u003cbr\\u003eSISTEMAS PRESENTES: SIRAC,TAS\\u003cbr\\u003eNUMERO DE CLIENTES: [28917282, 1065803]  \\u003cbr\\u003eDIRECCIONES: [nan, nan]  \\u003cbr\\u003e RFCS: ['FIN080623RZ8', 'FIN080623RZ8'] \",\"NATURA EXTRACTA S.A. DE C.V. \\u003cbr\\u003eSISTEMAS PRESENTES: SIRAC,TAS\\u003cbr\\u003eNUMERO DE CLIENTES: [28545693, 1065820]  \\u003cbr\\u003eDIRECCIONES: [nan, nan]  \\u003cbr\\u003e RFCS: ['NAT050819576', 'NAT050819576'] \",\"COMISION FEDERAL DE ELECTRICIDAD \\u003cbr\\u003eSISTEMAS PRESENTES: SIPE,TAS\\u003cbr\\u003eNUMERO DE CLIENTES: [39, 6009267]  \\u003cbr\\u003eDIRECCIONES: [nan, nan]  \\u003cbr\\u003e RFCS: ['XXXXXXXXXXXXX', 'CFE370814QI0'] \",\"PMI TRADING DESIGNATED ACTIVITY COMPANY \\u003cbr\\u003eSISTEMAS PRESENTES: SIRAC,TAS\\u003cbr\\u003eNUMERO DE CLIENTES: [28820233, 6009402]  \\u003cbr\\u003eDIRECCIONES: [nan, nan]  \\u003cbr\\u003e RFCS: ['PMI9105174FA', 'PMI9105174FA'] \"],\"x\":[\"102\",\"315\",\"412\",\"100003\",\"100177\",\"907471\",\"910456\",\"929440\",\"969647\",\"987671\",\"989141\",\"997861\",\"999899\",\"1037284\",\"1040153\",\"1041222\",\"1048332\",\"1057496\",\"1057498\",\"1057500\",\"1057503\",\"1057504\",\"1057505\",\"1057506\",\"1057507\",\"1057512\",\"1057514\",\"1057516\",\"1057517\",\"1057518\",\"1057519\",\"1057520\",\"1057522\",\"1057533\",\"1057537\",\"1057538\",\"1059981\",\"1059997\",\"1060000\",\"1060001\",\"1060002\",\"1060005\",\"1060008\",\"1060010\",\"1060016\",\"1060020\",\"1060022\",\"1060025\",\"1060026\",\"1060028\",\"1060031\",\"1060032\",\"1060036\",\"1060754\",\"1062062\",\"1063872\",\"1064268\",\"1064434\",\"1064485\",\"1064759\",\"1064799\",\"1064950\",\"1065045\",\"1065125\",\"1065224\",\"1065257\",\"1065306\",\"1065415\",\"1065418\",\"1065491\",\"1065502\",\"1065564\",\"1065603\",\"1065651\",\"1065656\",\"1065657\",\"1065676\",\"1065710\",\"1065780\",\"1065798\",\"1065803\",\"1065820\",\"6009267\",\"6009402\"],\"y\":[1,1,1,1,3,1,1,1,2,2,1,3,2,2,2,1,3,1,1,1,1,1,1,1,1,1,1,1,2,1,1,1,1,1,1,1,1,1,2,2,1,3,3,2,1,2,2,1,3,2,2,1,1,1,1,1,1,1,1,1,1,1,1,1,1,1,3,1,1,1,1,1,1,1,1,1,1,1,1,1,1,1,1,1],\"type\":\"scatter\"}],                        {\"template\":{\"data\":{\"histogram2dcontour\":[{\"type\":\"histogram2dcontour\",\"colorbar\":{\"outlinewidth\":0,\"ticks\":\"\"},\"colorscale\":[[0.0,\"#0d0887\"],[0.1111111111111111,\"#46039f\"],[0.2222222222222222,\"#7201a8\"],[0.3333333333333333,\"#9c179e\"],[0.4444444444444444,\"#bd3786\"],[0.5555555555555556,\"#d8576b\"],[0.6666666666666666,\"#ed7953\"],[0.7777777777777778,\"#fb9f3a\"],[0.8888888888888888,\"#fdca26\"],[1.0,\"#f0f921\"]]}],\"choropleth\":[{\"type\":\"choropleth\",\"colorbar\":{\"outlinewidth\":0,\"ticks\":\"\"}}],\"histogram2d\":[{\"type\":\"histogram2d\",\"colorbar\":{\"outlinewidth\":0,\"ticks\":\"\"},\"colorscale\":[[0.0,\"#0d0887\"],[0.1111111111111111,\"#46039f\"],[0.2222222222222222,\"#7201a8\"],[0.3333333333333333,\"#9c179e\"],[0.4444444444444444,\"#bd3786\"],[0.5555555555555556,\"#d8576b\"],[0.6666666666666666,\"#ed7953\"],[0.7777777777777778,\"#fb9f3a\"],[0.8888888888888888,\"#fdca26\"],[1.0,\"#f0f921\"]]}],\"heatmap\":[{\"type\":\"heatmap\",\"colorbar\":{\"outlinewidth\":0,\"ticks\":\"\"},\"colorscale\":[[0.0,\"#0d0887\"],[0.1111111111111111,\"#46039f\"],[0.2222222222222222,\"#7201a8\"],[0.3333333333333333,\"#9c179e\"],[0.4444444444444444,\"#bd3786\"],[0.5555555555555556,\"#d8576b\"],[0.6666666666666666,\"#ed7953\"],[0.7777777777777778,\"#fb9f3a\"],[0.8888888888888888,\"#fdca26\"],[1.0,\"#f0f921\"]]}],\"heatmapgl\":[{\"type\":\"heatmapgl\",\"colorbar\":{\"outlinewidth\":0,\"ticks\":\"\"},\"colorscale\":[[0.0,\"#0d0887\"],[0.1111111111111111,\"#46039f\"],[0.2222222222222222,\"#7201a8\"],[0.3333333333333333,\"#9c179e\"],[0.4444444444444444,\"#bd3786\"],[0.5555555555555556,\"#d8576b\"],[0.6666666666666666,\"#ed7953\"],[0.7777777777777778,\"#fb9f3a\"],[0.8888888888888888,\"#fdca26\"],[1.0,\"#f0f921\"]]}],\"contourcarpet\":[{\"type\":\"contourcarpet\",\"colorbar\":{\"outlinewidth\":0,\"ticks\":\"\"}}],\"contour\":[{\"type\":\"contour\",\"colorbar\":{\"outlinewidth\":0,\"ticks\":\"\"},\"colorscale\":[[0.0,\"#0d0887\"],[0.1111111111111111,\"#46039f\"],[0.2222222222222222,\"#7201a8\"],[0.3333333333333333,\"#9c179e\"],[0.4444444444444444,\"#bd3786\"],[0.5555555555555556,\"#d8576b\"],[0.6666666666666666,\"#ed7953\"],[0.7777777777777778,\"#fb9f3a\"],[0.8888888888888888,\"#fdca26\"],[1.0,\"#f0f921\"]]}],\"surface\":[{\"type\":\"surface\",\"colorbar\":{\"outlinewidth\":0,\"ticks\":\"\"},\"colorscale\":[[0.0,\"#0d0887\"],[0.1111111111111111,\"#46039f\"],[0.2222222222222222,\"#7201a8\"],[0.3333333333333333,\"#9c179e\"],[0.4444444444444444,\"#bd3786\"],[0.5555555555555556,\"#d8576b\"],[0.6666666666666666,\"#ed7953\"],[0.7777777777777778,\"#fb9f3a\"],[0.8888888888888888,\"#fdca26\"],[1.0,\"#f0f921\"]]}],\"mesh3d\":[{\"type\":\"mesh3d\",\"colorbar\":{\"outlinewidth\":0,\"ticks\":\"\"}}],\"scatter\":[{\"fillpattern\":{\"fillmode\":\"overlay\",\"size\":10,\"solidity\":0.2},\"type\":\"scatter\"}],\"parcoords\":[{\"type\":\"parcoords\",\"line\":{\"colorbar\":{\"outlinewidth\":0,\"ticks\":\"\"}}}],\"scatterpolargl\":[{\"type\":\"scatterpolargl\",\"marker\":{\"colorbar\":{\"outlinewidth\":0,\"ticks\":\"\"}}}],\"bar\":[{\"error_x\":{\"color\":\"#2a3f5f\"},\"error_y\":{\"color\":\"#2a3f5f\"},\"marker\":{\"line\":{\"color\":\"#E5ECF6\",\"width\":0.5},\"pattern\":{\"fillmode\":\"overlay\",\"size\":10,\"solidity\":0.2}},\"type\":\"bar\"}],\"scattergeo\":[{\"type\":\"scattergeo\",\"marker\":{\"colorbar\":{\"outlinewidth\":0,\"ticks\":\"\"}}}],\"scatterpolar\":[{\"type\":\"scatterpolar\",\"marker\":{\"colorbar\":{\"outlinewidth\":0,\"ticks\":\"\"}}}],\"histogram\":[{\"marker\":{\"pattern\":{\"fillmode\":\"overlay\",\"size\":10,\"solidity\":0.2}},\"type\":\"histogram\"}],\"scattergl\":[{\"type\":\"scattergl\",\"marker\":{\"colorbar\":{\"outlinewidth\":0,\"ticks\":\"\"}}}],\"scatter3d\":[{\"type\":\"scatter3d\",\"line\":{\"colorbar\":{\"outlinewidth\":0,\"ticks\":\"\"}},\"marker\":{\"colorbar\":{\"outlinewidth\":0,\"ticks\":\"\"}}}],\"scattermapbox\":[{\"type\":\"scattermapbox\",\"marker\":{\"colorbar\":{\"outlinewidth\":0,\"ticks\":\"\"}}}],\"scatterternary\":[{\"type\":\"scatterternary\",\"marker\":{\"colorbar\":{\"outlinewidth\":0,\"ticks\":\"\"}}}],\"scattercarpet\":[{\"type\":\"scattercarpet\",\"marker\":{\"colorbar\":{\"outlinewidth\":0,\"ticks\":\"\"}}}],\"carpet\":[{\"aaxis\":{\"endlinecolor\":\"#2a3f5f\",\"gridcolor\":\"white\",\"linecolor\":\"white\",\"minorgridcolor\":\"white\",\"startlinecolor\":\"#2a3f5f\"},\"baxis\":{\"endlinecolor\":\"#2a3f5f\",\"gridcolor\":\"white\",\"linecolor\":\"white\",\"minorgridcolor\":\"white\",\"startlinecolor\":\"#2a3f5f\"},\"type\":\"carpet\"}],\"table\":[{\"cells\":{\"fill\":{\"color\":\"#EBF0F8\"},\"line\":{\"color\":\"white\"}},\"header\":{\"fill\":{\"color\":\"#C8D4E3\"},\"line\":{\"color\":\"white\"}},\"type\":\"table\"}],\"barpolar\":[{\"marker\":{\"line\":{\"color\":\"#E5ECF6\",\"width\":0.5},\"pattern\":{\"fillmode\":\"overlay\",\"size\":10,\"solidity\":0.2}},\"type\":\"barpolar\"}],\"pie\":[{\"automargin\":true,\"type\":\"pie\"}]},\"layout\":{\"autotypenumbers\":\"strict\",\"colorway\":[\"#636efa\",\"#EF553B\",\"#00cc96\",\"#ab63fa\",\"#FFA15A\",\"#19d3f3\",\"#FF6692\",\"#B6E880\",\"#FF97FF\",\"#FECB52\"],\"font\":{\"color\":\"#2a3f5f\"},\"hovermode\":\"closest\",\"hoverlabel\":{\"align\":\"left\"},\"paper_bgcolor\":\"white\",\"plot_bgcolor\":\"#E5ECF6\",\"polar\":{\"bgcolor\":\"#E5ECF6\",\"angularaxis\":{\"gridcolor\":\"white\",\"linecolor\":\"white\",\"ticks\":\"\"},\"radialaxis\":{\"gridcolor\":\"white\",\"linecolor\":\"white\",\"ticks\":\"\"}},\"ternary\":{\"bgcolor\":\"#E5ECF6\",\"aaxis\":{\"gridcolor\":\"white\",\"linecolor\":\"white\",\"ticks\":\"\"},\"baxis\":{\"gridcolor\":\"white\",\"linecolor\":\"white\",\"ticks\":\"\"},\"caxis\":{\"gridcolor\":\"white\",\"linecolor\":\"white\",\"ticks\":\"\"}},\"coloraxis\":{\"colorbar\":{\"outlinewidth\":0,\"ticks\":\"\"}},\"colorscale\":{\"sequential\":[[0.0,\"#0d0887\"],[0.1111111111111111,\"#46039f\"],[0.2222222222222222,\"#7201a8\"],[0.3333333333333333,\"#9c179e\"],[0.4444444444444444,\"#bd3786\"],[0.5555555555555556,\"#d8576b\"],[0.6666666666666666,\"#ed7953\"],[0.7777777777777778,\"#fb9f3a\"],[0.8888888888888888,\"#fdca26\"],[1.0,\"#f0f921\"]],\"sequentialminus\":[[0.0,\"#0d0887\"],[0.1111111111111111,\"#46039f\"],[0.2222222222222222,\"#7201a8\"],[0.3333333333333333,\"#9c179e\"],[0.4444444444444444,\"#bd3786\"],[0.5555555555555556,\"#d8576b\"],[0.6666666666666666,\"#ed7953\"],[0.7777777777777778,\"#fb9f3a\"],[0.8888888888888888,\"#fdca26\"],[1.0,\"#f0f921\"]],\"diverging\":[[0,\"#8e0152\"],[0.1,\"#c51b7d\"],[0.2,\"#de77ae\"],[0.3,\"#f1b6da\"],[0.4,\"#fde0ef\"],[0.5,\"#f7f7f7\"],[0.6,\"#e6f5d0\"],[0.7,\"#b8e186\"],[0.8,\"#7fbc41\"],[0.9,\"#4d9221\"],[1,\"#276419\"]]},\"xaxis\":{\"gridcolor\":\"white\",\"linecolor\":\"white\",\"ticks\":\"\",\"title\":{\"standoff\":15},\"zerolinecolor\":\"white\",\"automargin\":true,\"zerolinewidth\":2},\"yaxis\":{\"gridcolor\":\"white\",\"linecolor\":\"white\",\"ticks\":\"\",\"title\":{\"standoff\":15},\"zerolinecolor\":\"white\",\"automargin\":true,\"zerolinewidth\":2},\"scene\":{\"xaxis\":{\"backgroundcolor\":\"#E5ECF6\",\"gridcolor\":\"white\",\"linecolor\":\"white\",\"showbackground\":true,\"ticks\":\"\",\"zerolinecolor\":\"white\",\"gridwidth\":2},\"yaxis\":{\"backgroundcolor\":\"#E5ECF6\",\"gridcolor\":\"white\",\"linecolor\":\"white\",\"showbackground\":true,\"ticks\":\"\",\"zerolinecolor\":\"white\",\"gridwidth\":2},\"zaxis\":{\"backgroundcolor\":\"#E5ECF6\",\"gridcolor\":\"white\",\"linecolor\":\"white\",\"showbackground\":true,\"ticks\":\"\",\"zerolinecolor\":\"white\",\"gridwidth\":2}},\"shapedefaults\":{\"line\":{\"color\":\"#2a3f5f\"}},\"annotationdefaults\":{\"arrowcolor\":\"#2a3f5f\",\"arrowhead\":0,\"arrowwidth\":1},\"geo\":{\"bgcolor\":\"white\",\"landcolor\":\"#E5ECF6\",\"subunitcolor\":\"white\",\"showland\":true,\"showlakes\":true,\"lakecolor\":\"white\"},\"title\":{\"x\":0.05},\"mapbox\":{\"style\":\"light\"}}},\"title\":{\"text\":\"Dispersi\\u00f3n de clientes y sistemas TAS y sistemas\"},\"xaxis\":{\"title\":{\"text\":\"ID_ORIGEN\"}},\"yaxis\":{\"title\":{\"text\":\"Count\"}}},                        {\"responsive\": true}                    ).then(function(){\n",
       "                            \n",
       "var gd = document.getElementById('b7830689-707f-404d-a7b2-541ce030b36c');\n",
       "var x = new MutationObserver(function (mutations, observer) {{\n",
       "        var display = window.getComputedStyle(gd).display;\n",
       "        if (!display || display === 'none') {{\n",
       "            console.log([gd, 'removed!']);\n",
       "            Plotly.purge(gd);\n",
       "            observer.disconnect();\n",
       "        }}\n",
       "}});\n",
       "\n",
       "// Listen for the removal of the full notebook cells\n",
       "var notebookContainer = gd.closest('#notebook-container');\n",
       "if (notebookContainer) {{\n",
       "    x.observe(notebookContainer, {childList: true});\n",
       "}}\n",
       "\n",
       "// Listen for the clearing of the current output cell\n",
       "var outputEl = gd.closest('.output');\n",
       "if (outputEl) {{\n",
       "    x.observe(outputEl, {childList: true});\n",
       "}}\n",
       "\n",
       "                        })                };                });            </script>        </div>"
      ]
     },
     "metadata": {},
     "output_type": "display_data"
    }
   ],
   "source": [
    "dfs_comp = [df_sirac, df_meca, df_sims, df_sipe, df_soi]\n",
    "grouped_df_tas, comparacion_tas = clts_repetidos( df_tas, dfs_comp, \"NOMBRE_O_RAZON_SOCIAL\", 93, \"TAS y sistemas\")"
   ]
  },
  {
   "cell_type": "code",
   "execution_count": 129,
   "metadata": {},
   "outputs": [
    {
     "data": {
      "text/html": [
       "<div>\n",
       "<style scoped>\n",
       "    .dataframe tbody tr th:only-of-type {\n",
       "        vertical-align: middle;\n",
       "    }\n",
       "\n",
       "    .dataframe tbody tr th {\n",
       "        vertical-align: top;\n",
       "    }\n",
       "\n",
       "    .dataframe thead th {\n",
       "        text-align: right;\n",
       "    }\n",
       "</style>\n",
       "<table border=\"1\" class=\"dataframe\">\n",
       "  <thead>\n",
       "    <tr style=\"text-align: right;\">\n",
       "      <th></th>\n",
       "      <th>NOMBRE_O_RAZON_SOCIAL</th>\n",
       "      <th>CLIENTES_EXT</th>\n",
       "      <th>ID_ORIGEN</th>\n",
       "      <th>ID_X_SISTEMA</th>\n",
       "      <th>SISTEMAS_ORIGENES</th>\n",
       "      <th>count</th>\n",
       "      <th>DIRECCIONES_EXT</th>\n",
       "      <th>DIRRECION_ORIGEN</th>\n",
       "      <th>RFC</th>\n",
       "      <th>RFC_ORIGEN</th>\n",
       "    </tr>\n",
       "  </thead>\n",
       "  <tbody>\n",
       "    <tr>\n",
       "      <th>0</th>\n",
       "      <td>CASA DE BOLSA MULTIVA. S.A. DE C.V., GRUPO FIN...</td>\n",
       "      <td>[CASA DE BOLSA MULTIVA, S.A. DE C.V. GRUPO FIN...</td>\n",
       "      <td>102</td>\n",
       "      <td>[MULTIV]</td>\n",
       "      <td>MECA</td>\n",
       "      <td>1</td>\n",
       "      <td>[NO SE TIENE REGISTRADA LA INFORMACION]</td>\n",
       "      <td>NaN</td>\n",
       "      <td>[XXX123456XXX]</td>\n",
       "      <td>MCB9809105S1</td>\n",
       "    </tr>\n",
       "  </tbody>\n",
       "</table>\n",
       "</div>"
      ],
      "text/plain": [
       "                               NOMBRE_O_RAZON_SOCIAL  \\\n",
       "0  CASA DE BOLSA MULTIVA. S.A. DE C.V., GRUPO FIN...   \n",
       "\n",
       "                                        CLIENTES_EXT  ID_ORIGEN ID_X_SISTEMA  \\\n",
       "0  [CASA DE BOLSA MULTIVA, S.A. DE C.V. GRUPO FIN...        102     [MULTIV]   \n",
       "\n",
       "  SISTEMAS_ORIGENES  count                          DIRECCIONES_EXT  \\\n",
       "0              MECA      1  [NO SE TIENE REGISTRADA LA INFORMACION]   \n",
       "\n",
       "   DIRRECION_ORIGEN             RFC    RFC_ORIGEN  \n",
       "0               NaN  [XXX123456XXX]  MCB9809105S1  "
      ]
     },
     "execution_count": 129,
     "metadata": {},
     "output_type": "execute_result"
    }
   ],
   "source": [
    "grouped_df_tas[grouped_df_tas[\"ID_ORIGEN\"]==102]"
   ]
  },
  {
   "cell_type": "markdown",
   "metadata": {},
   "source": [
    "# Clientes repetidos"
   ]
  },
  {
   "cell_type": "code",
   "execution_count": 179,
   "metadata": {},
   "outputs": [],
   "source": [
    "def compara_filas_2(args):\n",
    "    id1, clt1, TAB2, A2, U1 = args\n",
    "    resultados = [[], [], [], []]\n",
    "    for id2, clt2 in zip(TAB2[\"ID_ORIGEN\"], TAB2[A2]):\n",
    "        if fuzz.ratio(normalizar_cadena(clt1), normalizar_cadena(clt2)) >= U1:\n",
    "            resultados[0].append(clt1)\n",
    "            resultados[1].append(clt2)\n",
    "            resultados[2].append(id1)\n",
    "            resultados[3].append(id2)\n",
    "    return resultados\n",
    "\n",
    "\n",
    "def compara_nombres_2(TAB1, TAB2, A1, A2, U1):\n",
    "    \"\"\"\n",
    "    Compara clientes entre dos tablas utilizando un criterio de similitud.\n",
    "\n",
    "    Args:\n",
    "        TAB1 (pd.DataFrame): Primera tabla de clientes.\n",
    "        TAB2 (pd.DataFrame): Segunda tabla de clientes.\n",
    "        A1 (str): Columna de TAB1 a comparar.\n",
    "        A2 (str): Columna de TAB2 a comparar.\n",
    "        U1 (int): Umbral de similitud para la columna.\n",
    "\n",
    "    Returns:\n",
    "        list: Listas de resultados con las coincidencias encontradas.\n",
    "    \"\"\"\n",
    "    CR = [[], [], [], []]\n",
    "\n",
    "    with Pool(processes=10) as pool:\n",
    "        args = [(id1, clt1, TAB2, A2, U1) for id1, clt1 in zip(TAB1[\"ID_ORIGEN\"], TAB1[A1])]\n",
    "        resultados = pool.map(compara_filas_2, args)\n",
    "    \n",
    "    for resultado in resultados:\n",
    "        for i in range(4):\n",
    "            CR[i].extend(resultado[i])\n",
    "            \n",
    "    df_comp = pd.DataFrame(\n",
    "        {\n",
    "            \"NUM_CLIENTE_1\": CR[2],\n",
    "            \"CLIENTE_1\" : CR[0],\n",
    "            \"NUM_CLIENTE_2\": CR[3],\n",
    "            \"CLIENTE_2\" : CR[1]\n",
    "        }\n",
    "    )\n",
    "    df_comp[\"SISTEMA_ORIGEN_1\"] = df_comp[\"NUM_CLIENTE_1\"].apply(lambda x: TAB1[\"SISTEMA_ORIGEN\"][TAB1[\"ID_ORIGEN\"]==x].iloc[0])\n",
    "    df_comp[\"SISTEMA_ORIGEN_2\"] = df_comp[\"NUM_CLIENTE_2\"].apply(lambda x: TAB2[\"SISTEMA_ORIGEN\"][TAB2[\"ID_ORIGEN\"]==x].iloc[0])   \n",
    "    return df_comp"
   ]
  },
  {
   "cell_type": "code",
   "execution_count": null,
   "metadata": {},
   "outputs": [],
   "source": [
    "lista_clt_rep = [grouped_df_meca,grouped_df_sims,grouped_df_sipe,grouped_df_sirac,grouped_df_soi,grouped_df_tas]\n",
    "interseccion = pd.concat(lista_clt_rep).sort_values(by=\"NOMBRE_O_RAZON_SOCIAL\")\n"
   ]
  },
  {
   "cell_type": "code",
   "execution_count": 234,
   "metadata": {},
   "outputs": [],
   "source": [
    "comparacion = compara_nombres_2(interseccion,interseccion,\"NOMBRE_O_RAZON_SOCIAL\",\"NOMBRE_O_RAZON_SOCIAL\",95)"
   ]
  },
  {
   "cell_type": "code",
   "execution_count": null,
   "metadata": {},
   "outputs": [],
   "source": [
    "comp_1 = comparacion[comparacion[\"NUM_CLIENTE_1\"]!=comparacion[\"NUM_CLIENTE_2\"]]\n",
    "idx = [((id1,id2),(id2,id1)) for id1, id2 in zip(comp_1['NUM_CLIENTE_1'].to_list(),comp_1['NUM_CLIENTE_2'].to_list())]\n",
    "for i in idx:\n",
    "    if (i[1], i[0]) in idx:\n",
    "        idx.remove((i[1], i[0]))\n",
    "\n",
    "\n",
    "ix = [ comp_1.loc[(comp_1['NUM_CLIENTE_1'] == i[0][0]) & (comp_1['NUM_CLIENTE_2'] == i[0][1])].index for i in idx]\n",
    "ix = [x[0] for x in ix]\n",
    "\n",
    "clt_repetidos=comp_1.loc[ix]\n",
    "clt_repetidos_id=clt_repetidos[['NUM_CLIENTE_1','NUM_CLIENTE_2']]\n",
    "\n",
    "grouped_df_cts = clt_repetidos.groupby(\"NUM_CLIENTE_1\").agg({\n",
    "    \"NUM_CLIENTE_2\": list,\n",
    "    \"SISTEMA_ORIGEN_2\": list,\n",
    "    \"CLIENTE_2\": list\n",
    "    }).reset_index()\n",
    "grouped_df_cts[\"NOMBRE_CLIENTE_ORIGEN\"] = grouped_df_cts[\"NUM_CLIENTE_1\"].apply(lambda x:  clt_repetidos.loc[clt_repetidos[\"NUM_CLIENTE_1\"] == x, \"CLIENTE_1\"].iloc[0])\n",
    "grouped_df_cts[\"ORIGEN_SISTEMA\"] = grouped_df_cts[\"NUM_CLIENTE_1\"].apply(lambda x:  clt_repetidos.loc[clt_repetidos[\"NUM_CLIENTE_1\"] == x, \"SISTEMA_ORIGEN_1\"].iloc[0])\n",
    "grouped_df_cts[\"count\"] = grouped_df_cts[\"NUM_CLIENTE_2\"].apply(lambda x: len(x))\n",
    "grouped_df_cts = grouped_df_cts[[\"NUM_CLIENTE_1\",\"NOMBRE_CLIENTE_ORIGEN\", \"ORIGEN_SISTEMA\", \"CLIENTE_2\",\"NUM_CLIENTE_2\" ,\"SISTEMA_ORIGEN_2\",\"count\"]]\n",
    "\n",
    "grouped_df_cts[\"NUMERO_DE_CLIENTES\"] = grouped_df_cts.apply(lambda row: f'{[row[\"NUM_CLIENTE_1\"]] + row[\"NUM_CLIENTE_2\"]}',axis=1)\n",
    "grouped_df_cts[\"SISTEMAS_PRESENTES\"] = grouped_df_cts.apply(lambda row: f'{[row[\"ORIGEN_SISTEMA\"]]+ row[\"SISTEMA_ORIGEN_2\"]}',axis=1)\n",
    "clts_repetidos_sistemas = grouped_df_cts[[\"NOMBRE_CLIENTE_ORIGEN\", \"NUMERO_DE_CLIENTES\",\"SISTEMAS_PRESENTES\"]]\n",
    "clts_repetidos_sistemas = clts_repetidos_sistemas.drop_duplicates(subset=[\"NOMBRE_CLIENTE_ORIGEN\"],keep=\"first\")\n",
    "clts_repetidos_sistemas =clts_repetidos_sistemas.sort_values(\"NOMBRE_CLIENTE_ORIGEN\").reset_index()\n",
    "clts_repetidos_sistemas = clts_repetidos_sistemas[[\"NOMBRE_CLIENTE_ORIGEN\", \"NUMERO_DE_CLIENTES\",\"SISTEMAS_PRESENTES\"]]"
   ]
  },
  {
   "cell_type": "code",
   "execution_count": null,
   "metadata": {},
   "outputs": [],
   "source": [
    "clts_repetidos_sistemas"
   ]
  },
  {
   "cell_type": "markdown",
   "metadata": {},
   "source": [
    "# OTROS"
   ]
  },
  {
   "cell_type": "code",
   "execution_count": null,
   "metadata": {},
   "outputs": [
    {
     "name": "stdout",
     "output_type": "stream",
     "text": [
      "    NEGOCIO NOMBRE_O_RAZON_SOCIAL NUMERO_CLIENTE  ESTATUS  NUMERO_CONTRATO  GENERO  FECHA_NAC_O_CONST  ENTIDAD_FEDERATIVA_NACIMIENTO  PAIS_DE_NACIMIENTO NACIONALIDAD  PROFESION                                  CALLE  NUMERO_EXTERIOR  NUMERO_INTERIOR  COLONIA_URBANIZACION  DELEGACION_MUNICIPIO  CIUDAD_POBLACION ENTIDAD_FEDERATIVA  CODIGO_POSTAL PAIS                TELEFONO  CORREO_ELECTRONICO  RFC CLI_RFC_LETRAS  CLI_RFC_FECHA CLI_RFC_HOMO  CURP  FIEL  REPRESENTANTE_LEGAL TIPO_PERSONA TIPO_DE_CLIENTE  PRODUCTO_CONTRATADO SISTEMA_ORIGEN\n",
      "91      NaN  SWISS BANK CORP.N.Y.          SWISS  VIGENTE              NaN     NaN                NaN                            NaN                 NaN          EXT        NaN  NO SE TIENE REGISTRADA LA INFORMACION              NaN              NaN                   NaN                   NaN               NaN                NaN            NaN  NaN          95 212 5744802                 NaN  NaN            NaN            NaN          NaN   NaN   NaN                  NaN           PM           BANCO                  NaN           MECA\n",
      "127     NaN     SWISS BANK LONDON         SWISSL  VIGENTE              NaN     NaN                NaN                            NaN                 NaN          EXT        NaN  NO SE TIENE REGISTRADA LA INFORMACION              NaN              NaN                   NaN                   NaN               NaN                NaN            NaN  NaN  95 212 5746400 5744802                 NaN  NaN            NaN            NaN          NaN   NaN   NaN                  NaN           PM           BANCO                  NaN           MECA\n"
     ]
    }
   ],
   "source": [
    "print(df_meca[df_meca[\"NUMERO_CLIENTE\"].str.contains(\"SWIS\")].to_string(max_cols=None))"
   ]
  },
  {
   "cell_type": "code",
   "execution_count": null,
   "metadata": {},
   "outputs": [
    {
     "name": "stdout",
     "output_type": "stream",
     "text": [
      "                           NEGOCIO                                         NOMBRE_O_RAZON_SOCIAL NUMERO_CLIENTE  ESTATUS  NUMERO_CONTRATO  GENERO  FECHA_NAC_O_CONST  ENTIDAD_FEDERATIVA_NACIMIENTO  PAIS_DE_NACIMIENTO NACIONALIDAD  PROFESION                                  CALLE  NUMERO_EXTERIOR  NUMERO_INTERIOR  COLONIA_URBANIZACION  DELEGACION_MUNICIPIO  CIUDAD_POBLACION ENTIDAD_FEDERATIVA  CODIGO_POSTAL    PAIS TELEFONO  CORREO_ELECTRONICO  RFC CLI_RFC_LETRAS  CLI_RFC_FECHA CLI_RFC_HOMO  CURP  FIEL  REPRESENTANTE_LEGAL TIPO_PERSONA TIPO_DE_CLIENTE  PRODUCTO_CONTRATADO SISTEMA_ORIGEN\n",
      "38  UNIDAD DE MERCADO DE CAPITALES  CASA DE BOLSA MULTIVA, S.A. DE C.V. GRUPO FINANCIERO MULTIVA         MULTIV  VIGENTE              NaN     NaN                NaN                            NaN                 NaN          MEX        NaN  NO SE TIENE REGISTRADA LA INFORMACION              NaN              NaN                   NaN                   NaN               NaN                NaN            NaN  MEXICO      NaN                 NaN  NaN            XXX       123456.0          XXX   NaN   NaN                  NaN           PM   CASA DE BOLSA                  NaN           MECA\n"
     ]
    }
   ],
   "source": [
    "print(busqueda_cliente(df_meca,\"MULTIV\").to_string(max_cols=None)[\"DIRRECION\"])"
   ]
  },
  {
   "cell_type": "code",
   "execution_count": 181,
   "metadata": {},
   "outputs": [
    {
     "name": "stdout",
     "output_type": "stream",
     "text": [
      "      NEGOCIO                                          NOMBRE_O_RAZON_SOCIAL U##NOMBRE   NOMBRE                                                       NOMLARGO  NUMERO_CLIENTE  ESTATUS  NUMERO_CONTRATO  GENERO  FECHA_NAC_O_CONST  ENTIDAD_FEDERATIVA_NACIMIENTO  PAIS_DE_NACIMIENTO NACIONALIDAD       PROFESION  CALLE  NUMERO_EXTERIOR  NUMERO_INTERIOR  COLONIA_URBANIZACION  DELEGACION_MUNICIPIO  CIUDAD_POBLACION  ENTIDAD_FEDERATIVA  CODIGO_POSTAL PAIS  TELEFONO  TELEFONO1  TELEFONO2 CORREO_ELECTRONICO           RFC  CURP  FIEL  REPRESENTANTE_LEGAL                TIPO_PERSONA  PRODUCTO_CONTRATADO SISTEMA_ORIGEN\n",
      "2197      NaN  CASA DE BOLSA MULTIVA. S.A. DE C.V., GRUPO FINANCIERO MULTIVA   MULTIVA  MULTIVA  CASA DE BOLSA MULTIVA. S.A. DE C.V., GRUPO FINANCIERO MULTIVA             102  VIGENTE              NaN     NaN                NaN                            NaN                 NaN     MEXICANA  CASAS DE BOLSA    NaN              NaN              NaN                   NaN                   NaN               NaN                 NaN            NaN  MEX       NaN  EXT. 1311  5284 6394                     MCB9809105S1   NaN   NaN                  NaN  Moral Nacional no Gravable                  NaN            TAS\n"
     ]
    }
   ],
   "source": [
    "print(busqueda_cliente(df_tas,102).to_string(max_cols=None))"
   ]
  },
  {
   "cell_type": "code",
   "execution_count": 67,
   "metadata": {},
   "outputs": [],
   "source": [
    "df_comp1,df_result=compara_nombres(df_meca, df_sipe, \"NOMBRE_O_RAZON_SOCIAL\", \"NOMBRE_O_RAZON_SOCIAL\",  90)"
   ]
  },
  {
   "cell_type": "code",
   "execution_count": 68,
   "metadata": {},
   "outputs": [
    {
     "data": {
      "text/html": [
       "<div>\n",
       "<style scoped>\n",
       "    .dataframe tbody tr th:only-of-type {\n",
       "        vertical-align: middle;\n",
       "    }\n",
       "\n",
       "    .dataframe tbody tr th {\n",
       "        vertical-align: top;\n",
       "    }\n",
       "\n",
       "    .dataframe thead th {\n",
       "        text-align: right;\n",
       "    }\n",
       "</style>\n",
       "<table border=\"1\" class=\"dataframe\">\n",
       "  <thead>\n",
       "    <tr style=\"text-align: right;\">\n",
       "      <th></th>\n",
       "      <th>NUM_CLIENTE_1</th>\n",
       "      <th>CLIENTE_1</th>\n",
       "      <th>NUM_CLIENTE_2</th>\n",
       "      <th>CLIENTE_2</th>\n",
       "    </tr>\n",
       "  </thead>\n",
       "  <tbody>\n",
       "    <tr>\n",
       "      <th>0</th>\n",
       "      <td>BEAR STEARNS CO. INC.</td>\n",
       "      <td>BSTEAR</td>\n",
       "      <td>288</td>\n",
       "      <td>BEAR STEARNS &amp; CO. INC.</td>\n",
       "    </tr>\n",
       "    <tr>\n",
       "      <th>1</th>\n",
       "      <td>DEUTSCHE BANK AG FRANKFURT</td>\n",
       "      <td>DEUTCH</td>\n",
       "      <td>312</td>\n",
       "      <td>DEUTSCHE BANK FRANKFURT</td>\n",
       "    </tr>\n",
       "    <tr>\n",
       "      <th>2</th>\n",
       "      <td>NAFIN SECURITIES</td>\n",
       "      <td>SECURI</td>\n",
       "      <td>28</td>\n",
       "      <td>NAFIN SECURITIES</td>\n",
       "    </tr>\n",
       "    <tr>\n",
       "      <th>3</th>\n",
       "      <td>BANK OF AMERICA MEXICO</td>\n",
       "      <td>BANKAM</td>\n",
       "      <td>339</td>\n",
       "      <td>BANK OF AMERICA MEXICO</td>\n",
       "    </tr>\n",
       "    <tr>\n",
       "      <th>4</th>\n",
       "      <td>BANCO INDUSTRIAL,S.A.</td>\n",
       "      <td>INDUS</td>\n",
       "      <td>104</td>\n",
       "      <td>BANCO INDUSTRIAL, S.A.</td>\n",
       "    </tr>\n",
       "    <tr>\n",
       "      <th>5</th>\n",
       "      <td>BANCO BILBAO VIZCAYA MEXICO,S.A.</td>\n",
       "      <td>BBVI</td>\n",
       "      <td>247</td>\n",
       "      <td>BANCO BILBAO VIZCAYA MEXICO</td>\n",
       "    </tr>\n",
       "    <tr>\n",
       "      <th>6</th>\n",
       "      <td>BANCO INTERACCIONES,S.A.</td>\n",
       "      <td>INTERA</td>\n",
       "      <td>13</td>\n",
       "      <td>BANCO INTERACCIONES, S.A</td>\n",
       "    </tr>\n",
       "    <tr>\n",
       "      <th>7</th>\n",
       "      <td>UNION BANK OF SWITZERLAND</td>\n",
       "      <td>UBS</td>\n",
       "      <td>5</td>\n",
       "      <td>UNION BANK OF SWITZERLAND</td>\n",
       "    </tr>\n",
       "    <tr>\n",
       "      <th>8</th>\n",
       "      <td>BANK OF AMERICA SAN FRANCISCO</td>\n",
       "      <td>BOFAS</td>\n",
       "      <td>40</td>\n",
       "      <td>BANK OF AMERICA SAN FRANCISCO</td>\n",
       "    </tr>\n",
       "    <tr>\n",
       "      <th>9</th>\n",
       "      <td>CITIBANK NEW YORK</td>\n",
       "      <td>CITINY</td>\n",
       "      <td>250</td>\n",
       "      <td>CITIBANK NEW YORK</td>\n",
       "    </tr>\n",
       "    <tr>\n",
       "      <th>10</th>\n",
       "      <td>DRESDNER BANK MEXICO</td>\n",
       "      <td>DRESBK</td>\n",
       "      <td>248</td>\n",
       "      <td>DRESDNER BANK, MEXICO</td>\n",
       "    </tr>\n",
       "    <tr>\n",
       "      <th>11</th>\n",
       "      <td>BANCO DE MEXICO</td>\n",
       "      <td>BXICO</td>\n",
       "      <td>220</td>\n",
       "      <td>BANCO DE MEXICO</td>\n",
       "    </tr>\n",
       "    <tr>\n",
       "      <th>12</th>\n",
       "      <td>BANK OF MONTREAL CHICAGO</td>\n",
       "      <td>BKMONT</td>\n",
       "      <td>257</td>\n",
       "      <td>BANK OF MONTREAL, CHICAGO  M</td>\n",
       "    </tr>\n",
       "    <tr>\n",
       "      <th>13</th>\n",
       "      <td>IXE BANCO, S.A.</td>\n",
       "      <td>IXE</td>\n",
       "      <td>304</td>\n",
       "      <td>IXE BANCO S.A.</td>\n",
       "    </tr>\n",
       "    <tr>\n",
       "      <th>14</th>\n",
       "      <td>BANCA CREMI,S.A.</td>\n",
       "      <td>BCDI</td>\n",
       "      <td>77</td>\n",
       "      <td>BANCA CREMI, S.A.</td>\n",
       "    </tr>\n",
       "    <tr>\n",
       "      <th>15</th>\n",
       "      <td>BANOBRAS</td>\n",
       "      <td>BANOB</td>\n",
       "      <td>24</td>\n",
       "      <td>BANOBRAS</td>\n",
       "    </tr>\n",
       "    <tr>\n",
       "      <th>16</th>\n",
       "      <td>NAFINSA SECURITIES</td>\n",
       "      <td>NAFSEC</td>\n",
       "      <td>28</td>\n",
       "      <td>NAFIN SECURITIES</td>\n",
       "    </tr>\n",
       "    <tr>\n",
       "      <th>17</th>\n",
       "      <td>BANK OF BOSTON MEXICO</td>\n",
       "      <td>BOSTON</td>\n",
       "      <td>246</td>\n",
       "      <td>BANK BOSTON MEXICO</td>\n",
       "    </tr>\n",
       "    <tr>\n",
       "      <th>18</th>\n",
       "      <td>BANCO MERCANTIL DEL NORTE,SA</td>\n",
       "      <td>BMNO</td>\n",
       "      <td>22</td>\n",
       "      <td>BANCO MERCANTIL DEL NORTE</td>\n",
       "    </tr>\n",
       "  </tbody>\n",
       "</table>\n",
       "</div>"
      ],
      "text/plain": [
       "                       NUM_CLIENTE_1 CLIENTE_1  NUM_CLIENTE_2  \\\n",
       "0              BEAR STEARNS CO. INC.    BSTEAR            288   \n",
       "1         DEUTSCHE BANK AG FRANKFURT    DEUTCH            312   \n",
       "2                   NAFIN SECURITIES    SECURI             28   \n",
       "3             BANK OF AMERICA MEXICO    BANKAM            339   \n",
       "4              BANCO INDUSTRIAL,S.A.     INDUS            104   \n",
       "5   BANCO BILBAO VIZCAYA MEXICO,S.A.      BBVI            247   \n",
       "6           BANCO INTERACCIONES,S.A.    INTERA             13   \n",
       "7          UNION BANK OF SWITZERLAND       UBS              5   \n",
       "8      BANK OF AMERICA SAN FRANCISCO     BOFAS             40   \n",
       "9                  CITIBANK NEW YORK    CITINY            250   \n",
       "10              DRESDNER BANK MEXICO    DRESBK            248   \n",
       "11                   BANCO DE MEXICO     BXICO            220   \n",
       "12          BANK OF MONTREAL CHICAGO    BKMONT            257   \n",
       "13                   IXE BANCO, S.A.       IXE            304   \n",
       "14                  BANCA CREMI,S.A.      BCDI             77   \n",
       "15                          BANOBRAS     BANOB             24   \n",
       "16                NAFINSA SECURITIES    NAFSEC             28   \n",
       "17             BANK OF BOSTON MEXICO    BOSTON            246   \n",
       "18      BANCO MERCANTIL DEL NORTE,SA      BMNO             22   \n",
       "\n",
       "                        CLIENTE_2  \n",
       "0         BEAR STEARNS & CO. INC.  \n",
       "1         DEUTSCHE BANK FRANKFURT  \n",
       "2                NAFIN SECURITIES  \n",
       "3          BANK OF AMERICA MEXICO  \n",
       "4          BANCO INDUSTRIAL, S.A.  \n",
       "5     BANCO BILBAO VIZCAYA MEXICO  \n",
       "6        BANCO INTERACCIONES, S.A  \n",
       "7       UNION BANK OF SWITZERLAND  \n",
       "8   BANK OF AMERICA SAN FRANCISCO  \n",
       "9               CITIBANK NEW YORK  \n",
       "10          DRESDNER BANK, MEXICO  \n",
       "11                BANCO DE MEXICO  \n",
       "12   BANK OF MONTREAL, CHICAGO  M  \n",
       "13                 IXE BANCO S.A.  \n",
       "14              BANCA CREMI, S.A.  \n",
       "15                       BANOBRAS  \n",
       "16               NAFIN SECURITIES  \n",
       "17             BANK BOSTON MEXICO  \n",
       "18      BANCO MERCANTIL DEL NORTE  "
      ]
     },
     "execution_count": 68,
     "metadata": {},
     "output_type": "execute_result"
    }
   ],
   "source": [
    "df_comp1"
   ]
  },
  {
   "cell_type": "code",
   "execution_count": 73,
   "metadata": {},
   "outputs": [
    {
     "name": "stdout",
     "output_type": "stream",
     "text": [
      "    NEGOCIO     NOMBRE_O_RAZON_SOCIAL NUMERO_CLIENTE  ESTATUS  NUMERO_CONTRATO  GENERO  FECHA_NAC_O_CONST  ENTIDAD_FEDERATIVA_NACIMIENTO  PAIS_DE_NACIMIENTO NACIONALIDAD  PROFESION                                    CALLE  NUMERO_EXTERIOR  NUMERO_INTERIOR  COLONIA_URBANIZACION  DELEGACION_MUNICIPIO  CIUDAD_POBLACION ENTIDAD_FEDERATIVA  CODIGO_POSTAL PAIS TELEFONO  CORREO_ELECTRONICO  RFC CLI_RFC_LETRAS  CLI_RFC_FECHA CLI_RFC_HOMO  CURP  FIEL  REPRESENTANTE_LEGAL TIPO_PERSONA TIPO_DE_CLIENTE  PRODUCTO_CONTRATADO SISTEMA_ORIGEN\n",
      "208     NaN  BANK OF MONTREAL CHICAGO         BKMONT  VIGENTE              NaN     NaN                NaN                            NaN                 NaN          EXT        NaN  115 SOUTH LA SALLE STREET 19TH FLOOR W.              NaN              NaN                   NaN                   NaN               NaN                NaN            NaN  NaN      NaN                 NaN  NaN            NaN            NaN          NaN   NaN   NaN                  NaN           PM           BANCO                  NaN           MECA\n"
     ]
    }
   ],
   "source": [
    "print(busqueda_cliente(df_meca,\"BKMONT\").to_string(max_rows=None))"
   ]
  },
  {
   "cell_type": "code",
   "execution_count": 74,
   "metadata": {},
   "outputs": [
    {
     "name": "stdout",
     "output_type": "stream",
     "text": [
      "    NEGOCIO         NOMBRE_O_RAZON_SOCIAL  NUMERO_CLIENTE  ESTATUS  NUMERO_CONTRATO  GENERO  FECHA_NAC_O_CONST  ENTIDAD_FEDERATIVA_NACIMIENTO  PAIS_DE_NACIMIENTO  NACIONALIDAD  PROFESION CALLE  NUMERO_EXTERIOR  NUMERO_INTERIOR  COLONIA_URBANIZACION  DELEGACION_MUNICIPIO CIUDAD_POBLACION ENTIDAD_FEDERATIVA  CODIGO_POSTAL                       PAIS TELEFONO  CORREO_ELECTRONICO  RFC  CURP  FIEL  REPRESENTANTE_LEGAL TIPO_PERSONA  PRODUCTO_CONTRATADO SISTEMA_ORIGEN\n",
      "54      NaN  BANK OF MONTREAL, CHICAGO  M             257  VIGENTE              NaN     NaN                NaN                            NaN                 NaN           NaN        NaN   NaN              NaN              NaN                   NaN                   NaN          CHICAGO           ILLINOIS            NaN  ESTADOS UNIDOS DE AMERICA      NaN                 NaN  NaN   NaN   NaN                  NaN           PM                  NaN           SIPE\n"
     ]
    }
   ],
   "source": [
    "print(busqueda_cliente(df_sipe,257).to_string(max_rows=None))"
   ]
  },
  {
   "cell_type": "code",
   "execution_count": null,
   "metadata": {},
   "outputs": [],
   "source": [
    "compara_nombres(df_meca, df_sirac, \"NOMBRE_O_RAZON_SOCIAL\", \"NOMBRE_O_RAZON_SOCIAL\",  9)\n"
   ]
  },
  {
   "cell_type": "code",
   "execution_count": null,
   "metadata": {},
   "outputs": [
    {
     "data": {
      "text/plain": [
       "[['BANCO NACIONAL DE COMERCIO EXTERIOR',\n",
       "  'ARANCI INTERNACIONAL, S.A. DE C.V.',\n",
       "  'ARANCI INTERNACIONAL, S.A. DE C.V.',\n",
       "  'ARANCI INTERNACIONAL, S.A. DE C.V.',\n",
       "  'PETROLEOS MEXICANOS'],\n",
       " ['BANCO NACIONAL DE COMERCIO EXTERIOR, S.N.C',\n",
       "  'GARUSA INTERNACIONAL, S.A. DE C.V.',\n",
       "  'TRAPS INTERNACIONAL, S.A. DE C.V.',\n",
       "  'ICOLFRANC INTERNACIONAL, S.A. DE C.V.',\n",
       "  'PETROLEOS MEXICANOS'],\n",
       " ['BCOMEX', 'ARANIN', 'ARANIN', 'ARANIN', 'PEMEX'],\n",
       " [5970070, 1114234, 4613725, 6247010, 4092904]]"
      ]
     },
     "execution_count": 19,
     "metadata": {},
     "output_type": "execute_result"
    }
   ],
   "source": [
    "compara_nombres(df_meca, df_sirac, \"NOMBRE_O_RAZON_SOCIAL\", \"NOMBRE_O_RAZON_SOCIAL\",  9)"
   ]
  },
  {
   "cell_type": "code",
   "execution_count": 23,
   "metadata": {},
   "outputs": [
    {
     "data": {
      "text/plain": [
       "[['NACIONAL FINANCIERA, S.N.C.', 'UNION BANK OF SWITZERLAND'],\n",
       " ['NACIONAL FINANCIERA, S.N.C.', 'UNION BANK OF SWITZERLAND'],\n",
       " ['NAFIN', 'UBS'],\n",
       " [12066, 10459]]"
      ]
     },
     "execution_count": 23,
     "metadata": {},
     "output_type": "execute_result"
    }
   ],
   "source": [
    "compara_nombres(df_meca, df_soi, \"NOMBRE_O_RAZON_SOCIAL\", \"NOMBRE_O_RAZON_SOCIAL\",  90)"
   ]
  },
  {
   "cell_type": "code",
   "execution_count": null,
   "metadata": {},
   "outputs": [],
   "source": []
  },
  {
   "cell_type": "code",
   "execution_count": 31,
   "metadata": {},
   "outputs": [
    {
     "data": {
      "text/plain": [
       "[['BARCLAYS CAPITAL CASA DE BOLSA, S.A. DE C.V.',\n",
       "  'CASA DE BOLSA BBVA BANCOMER, S.A. DE C.V.',\n",
       "  'CASA DE BOLSA BBVA BANCOMER, S.A. DE C.V.',\n",
       "  'BANCO NACIONAL DE MEXICO,S.A.',\n",
       "  'CASA DE BOLSA BANORTE, S.A. DE C.V',\n",
       "  'CASA DE BOLSA VE POR MAS, S.A. DE C. V.',\n",
       "  'EVERCORE CASA DE BOLSA, S.A. DE C.V.',\n",
       "  'EVERCORE CASA DE BOLSA, S.A. DE C.V.',\n",
       "  'EVERCORE CASA DE BOLSA, S.A. DE C.V.',\n",
       "  'HSBC CASA DE BOLSA, S.A. DE .C.V. GRUPO FINANCIERO HSBC',\n",
       "  'INVEX, CASA DE BOLSA, S.A. DE C.V',\n",
       "  'IXE CASA DE BOLSA, S.A. DE C.V.',\n",
       "  'IXE CASA DE BOLSA, S.A. DE C.V.',\n",
       "  'IXE CASA DE BOLSA, S.A. DE C.V.',\n",
       "  'IXE CASA DE BOLSA, S.A. DE C.V.',\n",
       "  'J.P. MORGAN, CASA DE BOLSA, S.A. DE C.V.',\n",
       "  'MERRILL LYNCH MEXICO, S.A. DE C.V. CASA DE BOLSA',\n",
       "  'MERRILL LYNCH MEXICO, S.A. DE C.V. CASA DE BOLSA',\n",
       "  'MONEX CASA DE BOLSA, S.A. DE C.V.',\n",
       "  'MONEX CASA DE BOLSA, S.A. DE C.V.',\n",
       "  'CASA DE BOLSA MULTIVA, S.A. DE C.V. GRUPO FINANCIERO MULTIVA',\n",
       "  'NACIONAL FINANCIERA, S.N.C.',\n",
       "  'PUNTO CASA DE BOLSA, S.A. DE C.V',\n",
       "  'PUNTO CASA DE BOLSA, S.A. DE C.V',\n",
       "  'CASA DE BOLSA SANTANDER MEXICO, S.A. DE C.V.',\n",
       "  'VALORES MEXICANOS CASA DE BOLSA, S.A. DE C.V.',\n",
       "  'VALORES MEXICANOS CASA DE BOLSA, S.A. DE C.V.',\n",
       "  'VECTOR, CASA DE BOLSA, S.A DECV',\n",
       "  'VECTOR, CASA DE BOLSA, S.A DECV',\n",
       "  'VECTOR, CASA DE BOLSA, S.A DECV',\n",
       "  'BANK OF AMERICA MEXICO',\n",
       "  'BANCO INDUSTRIAL,S.A.',\n",
       "  'BANCO INBURSA',\n",
       "  'BANCO BILBAO VISCAYA S.A.',\n",
       "  'BANCO NACIONAL DE COMERCIO EXTERIOR',\n",
       "  'BANCO NACIONAL DE COMERCIO EXTERIOR',\n",
       "  'BANCO SANTANDER DE NEGOCIOS MEXICO S.A.',\n",
       "  'BANCO INTERACCIONES,S.A.',\n",
       "  'BANCO INTERACCIONES,N.Y.',\n",
       "  'BANCO DE MEXICO',\n",
       "  'BANCO DEL SURESTE,S.A.',\n",
       "  'BANCO MIFEL,S.A.',\n",
       "  'IXE BANCO, S.A.',\n",
       "  'IXE BANCO, S.A.',\n",
       "  'BANRURAL',\n",
       "  'BANCO MIFEL, S.A.',\n",
       "  'BANK OF BOSTON MEXICO',\n",
       "  'PETROLEOS MEXICANOS',\n",
       "  'PETROLEOS MEXICANOS'],\n",
       " ['BARCLAYS CAPITAL CASA DE BOLSA, SA DE CV',\n",
       "  'CASA DE BOLSA BBVA BANCOMER, S.A. DE C.V.',\n",
       "  'CASA DE BOLSA BBVA BANCOMER, S.A. DE C.V.',\n",
       "  'BANCO NACIONAL DE MEXICO S.A.',\n",
       "  'CASA DE BOLSA BANORTE IXE, S.A. DE C.V.',\n",
       "  'CASA DE BOLSA VE POR MAS, S.A DE C.V.',\n",
       "  'VECTOR CASA DE BOLSA S.A. DE C.V.',\n",
       "  'EVERCORE CASA DE BOLSA, S.A. DE C.V.',\n",
       "  'VECTOR CASA DE BOLSA, S.A. DE C.V.',\n",
       "  'HSBC CASA DE BOLSA SA DE CV GRUPO FINANCIERO HSBC',\n",
       "  'INVEX CASA DE BOLSA, S.A. DE C.V.',\n",
       "  'CI CASA DE BOLSA, S.A DE C.V.',\n",
       "  'CI CASA DE BOLSA, S.A. DE C.V.',\n",
       "  'CI CASA DE BOLSA, S.A. DE C.V.',\n",
       "  'INVEX CASA DE BOLSA, S.A. DE C.V.',\n",
       "  'JP MORGAN CASA DE BOLSA S.A DE C.V.',\n",
       "  'MERRILL LYNCH MEXICO, S.A. DE C.V. CASA DE BOLSA',\n",
       "  'MERRILL  LYNCH MEXICO S.A. DE C.V. CASA DE BOLSA',\n",
       "  'MONEX CASA DE BOLSA S.A. DE C.V.',\n",
       "  'INVEX CASA DE BOLSA, S.A. DE C.V.',\n",
       "  'CASA DE BOLSA MULTIVA. S.A. DE C.V., GRUPO FINANCIERO MULTIVA',\n",
       "  'NACIONAL FINANCIERA S.N.C.',\n",
       "  'PUNTO CASA DE BOLSA SA DE CV',\n",
       "  'PUNTO CASA DE BOLSA, S.A. DE C.V.',\n",
       "  'CASA DE BOLSA SANTANDER, S.A. DE C.V.',\n",
       "  'VALORES MEXICANOS CASA DE BOLSA, S.A. DE C.V.',\n",
       "  'VALORES MEXICANOS CASA DE BOLSA S.A. DE C.V.',\n",
       "  'VECTOR CASA DE BOLSA S.A. DE C.V.',\n",
       "  'VECTOR CASA DE BOLSA SA DE CV',\n",
       "  'VECTOR CASA DE BOLSA, S.A. DE C.V.',\n",
       "  'BANK OF AMERICA MEXICO',\n",
       "  'BANCO INDUSTRIAL S.A.',\n",
       "  'BANCO INBURSA',\n",
       "  'BANCO BILBAO VIZCAYA, S.A.',\n",
       "  'BANCO NACIONAL DE COMERCIO EXTERIOR',\n",
       "  'BANCO NACIONAL DE COMERCIO EXTERIOR',\n",
       "  'BANCO SANTANDER DE NEGOCIOS MEXICO,S.A.',\n",
       "  'BANCO INTERACCIONES, S.A.',\n",
       "  'BANCO INTERACCIONES, S.A.',\n",
       "  'BANCO DE MEXICO',\n",
       "  'BANCO DEL SURESTE S.A.',\n",
       "  'BANCO MIFEL S.A.',\n",
       "  'IXE BANCO S.A.',\n",
       "  'IXE BANCO S.A.',\n",
       "  'BANRURAL',\n",
       "  'BANCO MIFEL S.A.',\n",
       "  'BANK OF BOSTON MEXICO',\n",
       "  'PETROLEOS MEXICANOS',\n",
       "  'PETROLEOS MEXICANOS'],\n",
       " ['BARCAP',\n",
       "  'BBVA',\n",
       "  'BBVA',\n",
       "  'BNMX',\n",
       "  'BNORT',\n",
       "  'BXMAS',\n",
       "  'EVERCO',\n",
       "  'EVERCO',\n",
       "  'EVERCO',\n",
       "  'HSBC',\n",
       "  'INVEX',\n",
       "  'IXECB',\n",
       "  'IXECB',\n",
       "  'IXECB',\n",
       "  'IXECB',\n",
       "  'JPMORG',\n",
       "  'MLYNCH',\n",
       "  'MLYNCH',\n",
       "  'MONEX',\n",
       "  'MONEX',\n",
       "  'MULTIV',\n",
       "  'NAFIN',\n",
       "  'PNTOCB',\n",
       "  'PNTOCB',\n",
       "  'SANTA',\n",
       "  'VALMEX',\n",
       "  'VALMEX',\n",
       "  'VECT',\n",
       "  'VECT',\n",
       "  'VECT',\n",
       "  'BANKAM',\n",
       "  'INDUS',\n",
       "  'INBUR',\n",
       "  'MPPX',\n",
       "  'BCOMEX',\n",
       "  'BCOMEX',\n",
       "  'SANTAN',\n",
       "  'INTERA',\n",
       "  'ITERNY',\n",
       "  'BXICO',\n",
       "  'SURE',\n",
       "  'BCOMIF',\n",
       "  'IXE',\n",
       "  'IXE',\n",
       "  'BANRU',\n",
       "  'MIFEL',\n",
       "  'BOSTON',\n",
       "  'PEMEX',\n",
       "  'PEMEX'],\n",
       " [1057503,\n",
       "  1057498,\n",
       "  1057505,\n",
       "  1060005,\n",
       "  1057507,\n",
       "  1057504,\n",
       "  1057520,\n",
       "  1057537,\n",
       "  412,\n",
       "  1057496,\n",
       "  929440,\n",
       "  1057509,\n",
       "  1064255,\n",
       "  1063744,\n",
       "  929440,\n",
       "  1057514,\n",
       "  1057516,\n",
       "  1062062,\n",
       "  1057517,\n",
       "  929440,\n",
       "  102,\n",
       "  100177,\n",
       "  1057500,\n",
       "  1057522,\n",
       "  1057508,\n",
       "  1057519,\n",
       "  315,\n",
       "  1057520,\n",
       "  1057533,\n",
       "  412,\n",
       "  1060026,\n",
       "  1060031,\n",
       "  969647,\n",
       "  910456,\n",
       "  1060008,\n",
       "  997861,\n",
       "  989141,\n",
       "  1060001,\n",
       "  1060001,\n",
       "  1040153,\n",
       "  1060025,\n",
       "  1060020,\n",
       "  1060028,\n",
       "  1037284,\n",
       "  1060002,\n",
       "  1060020,\n",
       "  1060000,\n",
       "  1065306,\n",
       "  1048332]]"
      ]
     },
     "execution_count": 31,
     "metadata": {},
     "output_type": "execute_result"
    }
   ],
   "source": [
    "compara_nombres(df_meca, df_tas, \"NOMBRE_O_RAZON_SOCIAL\", \"NOMBRE_O_RAZON_SOCIAL\",  90)"
   ]
  }
 ],
 "metadata": {
  "kernelspec": {
   "display_name": "myenv_1",
   "language": "python",
   "name": "python3"
  },
  "language_info": {
   "codemirror_mode": {
    "name": "ipython",
    "version": 3
   },
   "file_extension": ".py",
   "mimetype": "text/x-python",
   "name": "python",
   "nbconvert_exporter": "python",
   "pygments_lexer": "ipython3",
   "version": "3.10.12"
  }
 },
 "nbformat": 4,
 "nbformat_minor": 2
}
