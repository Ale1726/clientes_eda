{
 "cells": [
  {
   "cell_type": "markdown",
   "metadata": {},
   "source": [
    "\n",
    "| COLUNNA                  | DESCRIPCION                            | VALORES |\n",
    "|--------------------------|----------------------------------------|----------------------------------------|\n",
    "| NEGOCIO                  | ÁREA O SECTOR DE NEGOCIO DEL CLIENTE   |                           |\n",
    "| NOMBRE_O_RAZON_SOCIAL    | NOMBRE DEL CLIENTE O RAZÓN SOCIAL      ||\n",
    "| NUMERO_CLIENTE          | CLAVE O ID DEL CLIENTE EN SU TABLA DE ORIGEN ||\n",
    "| ESTATUS                  | ESTADO ACTUAL DEL CLIENTE ( VIGENTE, NO VIGENTE) |    VIGENTE| NO VIGENTE |\n",
    "| NÚMERO_CONTRATO          | NÚMERO DE CONTRATO REFERENTE AL CLIENTE |              |\n",
    "| GENERO                   | GÉNERO DEL CLIENTE, SI APLICA  |F: FEMENINO - M: MASCULINO - N: NO APLICA |\n",
    "| FECHA_NAC_O_CONST| FECHA DE NACIMIENTO DEL CLIENTE O DE CONSTITUCIÓN DE LA EMPRESA |\n",
    "| ENTIDAD_FEDERATIVA_NACIMIENTO| ENTIDAD FEDERATIVA DE NACIMIENTO DEL CLIENTE |    |\n",
    "| PAIS_DE_NACIMIENTO     | PAÍS DE NACIMIENTO DEL CLIENTE         |                   |\n",
    "| NACIONALIDAD             | NACIONALIDAD DEL CLIENTE               |                   |\n",
    "| PROFESIÓN                | PROFESIÓN  DEL CLIENTE O ACTIVIDAD ECONOMICA|                  |\n",
    "| CALLE                    | CALLE DE LA DIRECCIÓN DEL CLIENTE      |   | \n",
    "| NUMERO_EXTERIOR          | NÚMERO EXTERIOR DE LA DIRECCIÓN DEL CLIENTE |  |\n",
    "| NUMERO_INTERIOR          | NÚMERO INTERIOR DE LA DIRECCIÓN DEL CLIENTE |  |\n",
    "| COLONIA_URBANIZACIÓN     | COLONIA O URBANIZACIÓN DE LA DIRECCIÓN DEL CLIENTE |  |\n",
    "| DELEGACION_MUNICIPIO     | DELEGACIÓN O MUNICIPIO DE LA DIRECCIÓN DEL CLIENTE | |\n",
    "| CIUDAD_POBLACIÓN         | CIUDAD O POBLACIÓN DE LA DIRECCIÓN DEL CLIENTE | |\n",
    "| ENTIDAD_FEDERATIVA       | ENTIDAD FEDERATIVA DE LA DIRECCIÓN DEL CLIENTE | |\n",
    "| CODIGO_POSTAL            | CÓDIGO POSTAL DE LA DIRECCIÓN DEL CLIENTE ||\n",
    "| PAÍS                     | PAÍS DE LA DIRECCIÓN DEL CLIENTE       ||\n",
    "| TELÉFONO                 | NÚMERO DE TELÉFONO DEL CLIENTE         ||\n",
    "| CORREO_ELECTRÓNICO       | CORREO ELECTRÓNICO DEL CLIENTE         ||\n",
    "| RFC                      | REGISTRO FEDERAL DE CONTRIBUYENTES DEL CLIENTE |GENERICO: XXXXXXXXXXXXX|\n",
    "| CURP                     | CLAVE ÚNICA DE REGISTRO DE POBLACIÓN DEL CLIENTE | |\n",
    "| FIEL                     | FIRMA ELECTRÓNICA AVANZADA DEL CLIENTE | |\n",
    "| REPRESENTANTE_LEGAL      | NOMBRE DEL REPRESENTANTE LEGAL DEL CLIENTE | |\n",
    "| TIPO_PERSONA          | TIPO DE PERSONA (FÍSICA O MORAL)       | PM:PERSONA MORAL - PF:PERSONA FÍSICA |\n",
    "| PRODUCTO_CONTRATADO      | PRODUCTO O SERVICIO CONTRATADO POR EL CLIENTE ||\n",
    "| SISTEMA_ORIGEN | SISTEMA DE DONDE SE ORIGINAN LOS DATOS DEL CLIENTE ||\n",
    "| FECHA DE ACTUALIZACIÓN   | FECHA DE LA ÚLTIMA ACTUALIZACIÓN DE LOS DATOS DEL CLIENTE |DD/MM/AA|\n",
    "|                         |                                        |\n",
    "\n"
   ]
  },
  {
   "cell_type": "markdown",
   "metadata": {},
   "source": [
    "COLUMNAS: <br>\n",
    "NEGOCIO, <br> NOMBRE_O_RAZON_SOCIAL,<br> NUMERO_CLIENTE, <br> ESTATUS, <br> NÚMERO_CONTRATO, <br> GENERO,<br> FECHA_NAC_O_CONST,<br> ENTIDAD_FEDERATIVA_NACIMIENTO,<br>\n",
    "PAIS_DE_NACIMIENTO, <br>NACIONALIDAD, <br>PROFESION, <br>CALLE, NUMERO_EXTERIOR, <br>NUMERO_INTERIOR, <br>COLONIA_URBANIZACIÓN, <br>DELEGACION_MUNICIPIO, <br>\n",
    "CIUDAD_POBLACION, <br>ENTIDAD_FEDERATIVA, <br>CÓDIGO_POSTAL,<br> PAIS,<br> TELEFONO,<br>CORREO_ELECTRÓNICO,<br> RFC, <br>CURP, <br>FIEL, <br>REPRESENTANTE_LEGAL,<br> TIPO_PERSONA,<br> PRODUCTO_CONTRATADO,<br> SISTEMA_ORIGEN, <br>FECHA_DE_ACTUALIZACION"
   ]
  }
 ],
 "metadata": {
  "language_info": {
   "name": "python"
  }
 },
 "nbformat": 4,
 "nbformat_minor": 2
}
