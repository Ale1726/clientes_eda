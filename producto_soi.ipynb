{
 "cells": [
  {
   "cell_type": "code",
   "execution_count": 1,
   "metadata": {},
   "outputs": [],
   "source": [
    "from utils.tf import *\n",
    "from utils.db import *\n",
    "from utils.gd import * \n",
    "from utils.clt_repetidos import *\n",
    "from datetime import datetime\n",
    "import cx_Oracle\n",
    "import pandas as pd\n",
    "import os\n",
    "import plotly.express as px\n",
    "import plotly.graph_objects as go\n",
    "from utils.clt_repetidos import * \n",
    "from ydata_profiling import ProfileReport\n",
    "import dask.dataframe as dd\n",
    "import gc\n",
    "import matplotlib.pyplot as plt"
   ]
  },
  {
   "cell_type": "markdown",
   "metadata": {},
   "source": [
    "# Get the data and create the output directory (Extraction)"
   ]
  },
  {
   "cell_type": "code",
   "execution_count": 2,
   "metadata": {},
   "outputs": [],
   "source": [
    "path_dir_data = \"/home/ale1726/proyects/datalake/clientes/data/productos/SOI/data\""
   ]
  },
  {
   "cell_type": "code",
   "execution_count": 13,
   "metadata": {},
   "outputs": [],
   "source": [
    "# Obtenemos la fecha actual para crear un directorio\n",
    "# donde se guardaran los archivos de salida\n",
    "date_now = datetime.now().strftime(\"%d_%m_%Y\") \n",
    "path_dir_today =  os.path.join(path_dir_data, date_now)\n",
    "\n",
    "# Creamos el directorio si no existe\n",
    "os.makedirs(path_dir_today, exist_ok=True)"
   ]
  },
  {
   "cell_type": "code",
   "execution_count": 14,
   "metadata": {},
   "outputs": [],
   "source": [
    "query_productos_soi = \"\"\" \n",
    "WITH CLIENTES_ACTIVOS AS (\n",
    "   SELECT  BA_BCO_FFON, BACVE_BANC, BANOM_BAN\n",
    "   FROM SOI.SOI_BANCO sb\n",
    "   WHERE BA_ACTIVO = 'S'\n",
    "), CLT_LINEA AS (\n",
    "\tSELECT CA.*, SBL.BLNO_LINEA\n",
    "\tFROM CLIENTES_ACTIVOS CA\n",
    "\tLEFT JOIN SOI.SOI_BANCO_LIN SBL ON CA.BACVE_BANC = SBL.BLCVE_BANC\n",
    "), LINEA_CT1 AS (\n",
    "\tSELECT SL.*, SB.TFDESC_CONT \n",
    "\tFROM SOI.SOI_LINEA sl\n",
    "\tLEFT JOIN SOI.SOI_TIP_CREDI SB ON SL.LITIP_CONT = SB.TFTIP_CONT\n",
    "), CLT_LINEA_DESCRIP AS (\n",
    "\tSELECT CL.*, SL.*\n",
    "\tFROM CLT_LINEA CL \n",
    "\tLEFT JOIN LINEA_CT1 SL ON CL.BLNO_LINEA = SL.LINO_LINEA\n",
    ") SELECT * FROM CLT_LINEA_DESCRIP\n",
    "\"\"\""
   ]
  },
  {
   "cell_type": "code",
   "execution_count": 15,
   "metadata": {},
   "outputs": [],
   "source": [
    "path_dir_productos = get_table(path_dir_today, db_soi, \"productos_clientes_soi\", query = query_productos_soi)"
   ]
  },
  {
   "cell_type": "markdown",
   "metadata": {},
   "source": [
    "# Transform the data and output the transformation"
   ]
  },
  {
   "cell_type": "code",
   "execution_count": 35,
   "metadata": {},
   "outputs": [
    {
     "data": {
      "text/plain": [
       "'/home/ale1726/proyects/datalake/clientes/data/productos/SOI/agrupados/22_04_2025'"
      ]
     },
     "execution_count": 35,
     "metadata": {},
     "output_type": "execute_result"
    }
   ],
   "source": [
    "path_dir_output_transformation = os.path.join(\"/home/ale1726/proyects/datalake/clientes/data/productos/SOI/agrupados\", date_now)\n",
    "os.makedirs(path_dir_output_transformation, exist_ok=True)\n",
    "path_dir_output_transformation"
   ]
  },
  {
   "cell_type": "code",
   "execution_count": 2,
   "metadata": {},
   "outputs": [],
   "source": [
    "path_dir_output_transformation = '/home/ale1726/proyects/datalake/clientes/data/productos/SOI/agrupados/22_04_2025'"
   ]
  },
  {
   "cell_type": "code",
   "execution_count": 3,
   "metadata": {},
   "outputs": [],
   "source": [
    "path_dir_productos = '/home/ale1726/proyects/datalake/clientes/data/productos/SOI/data/22_04_2025/productos_clientes_soi.dat'"
   ]
  },
  {
   "cell_type": "code",
   "execution_count": 4,
   "metadata": {},
   "outputs": [],
   "source": [
    "productos_soi =  pd.read_csv(path_dir_productos, low_memory=False)"
   ]
  },
  {
   "cell_type": "code",
   "execution_count": 6,
   "metadata": {},
   "outputs": [],
   "source": [
    "productos_soi[\"LIF_FIRMA\"] = pd.to_datetime(productos_soi[\"LIF_FIRMA\"])\n",
    "productos_soi[\"AÑO_FFIRMA\"] = productos_soi[\"LIF_FIRMA\"].dt.year.astype('Int64')\n",
    "productos_soi[\"MES_FFIRMA\"] = productos_soi[\"LIF_FIRMA\"].dt.month\n",
    "productos_soi[\"MES_STR\"] = productos_soi[\"LIF_FIRMA\"].dt.month_name()  \n",
    "productos_soi[\"LIVIGENCIA\"] = pd.to_datetime(productos_soi[\"LIVIGENCIA\"])"
   ]
  },
  {
   "cell_type": "code",
   "execution_count": 7,
   "metadata": {},
   "outputs": [],
   "source": [
    "agrupado_portafolio = (\n",
    "    productos_soi.groupby(['TFDESC_CONT'], as_index=False)\n",
    "    .agg(\n",
    "        valor=('LINO_LINEA', 'count'), \n",
    "    ).sort_values(by=['TFDESC_CONT'], ascending=True)\n",
    ")"
   ]
  },
  {
   "cell_type": "code",
   "execution_count": 8,
   "metadata": {},
   "outputs": [],
   "source": [
    "agrupado_portafolio.to_csv(os.path.join(path_dir_output_transformation, \"agrupado_portafolio.csv\"), index=False)"
   ]
  },
  {
   "cell_type": "code",
   "execution_count": 16,
   "metadata": {},
   "outputs": [],
   "source": [
    "agrupado_año_portafolio = (\n",
    "    productos_soi.groupby(['AÑO_FFIRMA'], as_index=False)\n",
    "    .agg(\n",
    "        valor=('TFDESC_CONT', 'nunique'), \n",
    "    ).sort_values(by=['AÑO_FFIRMA'], ascending=True)\n",
    ")"
   ]
  },
  {
   "cell_type": "code",
   "execution_count": 18,
   "metadata": {},
   "outputs": [],
   "source": [
    "agrupado_año_portafolio.to_csv(os.path.join(path_dir_output_transformation, \"agrupado_año_portafolio.csv\"), index=False)"
   ]
  },
  {
   "cell_type": "code",
   "execution_count": null,
   "metadata": {},
   "outputs": [],
   "source": [
    "agrupado_portafolio = (\n",
    "    productos_soi.groupby(['TFDESC_CONT'], as_index=False)\n",
    "    .agg(\n",
    "        valor=('LINO_LINEA', 'count'), \n",
    "    ).sort_values(by=['TFDESC_CONT'], ascending=True)\n",
    ")"
   ]
  },
  {
   "cell_type": "code",
   "execution_count": 20,
   "metadata": {},
   "outputs": [
    {
     "data": {
      "text/plain": [
       "Index(['BA_BCO_FFON', 'BACVE_BANC', 'BANOM_BAN', 'BLNO_LINEA', 'LINO_LINEA',\n",
       "       'LITIPO_LIN', 'LIF_FIRMA', 'LIF_EFECT', 'LIMTO_LIN', 'LIMONEDA',\n",
       "       'LIINT_MOR1', 'LIINT_MOR2', 'LIPLA_AMO1', 'LIPLA_AMO2', 'LIVIGENCIA',\n",
       "       'LIFECHAREN', 'LIGASTLOCA', 'LIDES_GTO1', 'LIDES_GTO2', 'LINUM_SHCP',\n",
       "       'LIF_SHCP', 'LIOBLISHCP', 'LICOMXLIN', 'LIACUM_DES', 'LIF_LIM_DE',\n",
       "       'LITIP_CONT', 'LIPLA_AMO3', 'LIPERIOCAP', 'LIPERIOINT', 'LICVE_CORR',\n",
       "       'LIISR', 'LIINT_FIN', 'LICVE_ACRE', 'LIREF_CRED', 'LIMTO_REF',\n",
       "       'LISTATUS', 'LICVE_GAR', 'LICVE_DOM', 'LICTA_DOM', 'LINUEVO',\n",
       "       'LIACREDIT', 'LIE_ACREDI', 'LIDIA_FER1', 'LIDIA_FER2', 'LIF_PRPACAP',\n",
       "       'LIF_LIQUIDACION', 'LIPLA_AMO4', 'LI_PL_ID_ACRE', 'LI_PL_ID_GAR',\n",
       "       'LI_PL_ID_DOM', 'LICVE_INTER', 'LI_PL_ID_INTER', 'LIMTO_CAP',\n",
       "       'TFDESC_CONT', 'AÑO_FFIRMA', 'MES_FFIRMA', 'MES_STR'],\n",
       "      dtype='object')"
      ]
     },
     "execution_count": 20,
     "metadata": {},
     "output_type": "execute_result"
    }
   ],
   "source": [
    "productos_soi.columns"
   ]
  },
  {
   "cell_type": "code",
   "execution_count": 21,
   "metadata": {},
   "outputs": [],
   "source": [
    "agrupado_operaciones_anuales = (\n",
    "    productos_soi.groupby(['AÑO_FFIRMA'], as_index=False)\n",
    "    .agg(\n",
    "        num_contratos=('LINO_LINEA', 'count'), \n",
    "        num_clts = (\"BACVE_BANC\",\"nunique\"),\n",
    "        monto_anuales_sum=('LIMTO_LIN', lambda x: round(x.sum(), 2)),\n",
    "        monto_anuales_min=('LIMTO_LIN', 'min'), \n",
    "        monto_anuales_max=('LIMTO_LIN', 'max'), \n",
    "        monto_anuales_mean=('LIMTO_LIN', lambda x: round(x.mean(), 2)),\n",
    "        monto_anuales_median=('LIMTO_LIN', 'median')\n",
    "    ).sort_values(by=['AÑO_FFIRMA'], ascending=True)\n",
    ")"
   ]
  },
  {
   "cell_type": "code",
   "execution_count": 27,
   "metadata": {},
   "outputs": [],
   "source": [
    "agrupado_operaciones_anuales.to_csv(os.path.join(path_dir_output_transformation, \"agrupado_operaciones_anuales.csv\"), index=False)"
   ]
  },
  {
   "cell_type": "code",
   "execution_count": 12,
   "metadata": {},
   "outputs": [],
   "source": [
    "agrupado_operaciones_anuales_mes = (\n",
    "    productos_soi.groupby(['AÑO_FFIRMA','MES_FFIRMA','MES_STR'], as_index=False)\n",
    "    .agg(\n",
    "        num_contratos=('LINO_LINEA', 'count'), \n",
    "        monto_anuales_sum=('LIMTO_LIN', lambda x: round(x.sum(), 2)),\n",
    "        monto_anuales_min=('LIMTO_LIN', 'min'), \n",
    "        monto_anuales_max=('LIMTO_LIN', 'max'), \n",
    "        monto_anuales_mean=('LIMTO_LIN', lambda x: round(x.mean(), 2)),\n",
    "        monto_anuales_median=('LIMTO_LIN', 'median')\n",
    "    ).sort_values(by=['AÑO_FFIRMA','MES_FFIRMA'], ascending=True)\n",
    ")"
   ]
  },
  {
   "cell_type": "code",
   "execution_count": 13,
   "metadata": {},
   "outputs": [],
   "source": [
    "agrupado_operaciones_anuales_mes.to_csv(os.path.join(path_dir_output_transformation, \"agrupado_operaciones_anuales_mes.csv\"), index=False)"
   ]
  },
  {
   "cell_type": "code",
   "execution_count": 28,
   "metadata": {},
   "outputs": [],
   "source": [
    "agrupado_clientes_tra_monto = (\n",
    "    productos_soi.groupby(['BANOM_BAN'], as_index=False)\n",
    "    .agg(\n",
    "        transacciones=('LINO_LINEA', 'count'),\n",
    "        montos=('LIMTO_LIN', lambda x: round(x.mean(), 2))\n",
    "    )\n",
    "    .sort_values(by='BANOM_BAN', ascending=False)\n",
    ")"
   ]
  },
  {
   "cell_type": "code",
   "execution_count": 30,
   "metadata": {},
   "outputs": [],
   "source": [
    "agrupado_clientes_tra_monto = agrupado_clientes_tra_monto[agrupado_clientes_tra_monto[\"transacciones\"] >0]"
   ]
  },
  {
   "cell_type": "code",
   "execution_count": 31,
   "metadata": {},
   "outputs": [],
   "source": [
    "agrupado_clientes_tra_monto.to_csv(os.path.join(path_dir_output_transformation, \"agrupado_clientes_tra_monto.csv\"), index=False)"
   ]
  },
  {
   "cell_type": "code",
   "execution_count": 14,
   "metadata": {},
   "outputs": [],
   "source": [
    "agrupado_clientes_año = (\n",
    "    productos_soi.groupby(['BACVE_BANC','BANOM_BAN', 'AÑO_FFIRMA'], as_index=False)\n",
    "    .agg(\n",
    "        transacciones=('LINO_LINEA', 'count'),\n",
    "        tipo_de_credito = ('TFDESC_CONT', 'nunique'),\n",
    "        monto_mean=('LIMTO_LIN', lambda x: round(x.mean(), 2) if x.mean() != 0 else 0)\n",
    "        \n",
    "    )\n",
    "    .sort_values(by=['AÑO_FFIRMA'], ascending=False)\n",
    ")"
   ]
  },
  {
   "cell_type": "code",
   "execution_count": 15,
   "metadata": {},
   "outputs": [],
   "source": [
    "agrupado_clientes_año.to_csv(os.path.join(path_dir_output_transformation, \"agrupado_clientes_año.csv\"), index=False)"
   ]
  }
 ],
 "metadata": {
  "kernelspec": {
   "display_name": "myenv_1",
   "language": "python",
   "name": "python3"
  },
  "language_info": {
   "codemirror_mode": {
    "name": "ipython",
    "version": 3
   },
   "file_extension": ".py",
   "mimetype": "text/x-python",
   "name": "python",
   "nbconvert_exporter": "python",
   "pygments_lexer": "ipython3",
   "version": "3.10.12"
  }
 },
 "nbformat": 4,
 "nbformat_minor": 2
}
