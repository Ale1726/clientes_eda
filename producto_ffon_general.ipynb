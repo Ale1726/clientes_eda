{
 "cells": [
  {
   "cell_type": "code",
   "execution_count": 1,
   "metadata": {},
   "outputs": [],
   "source": [
    "from utils.tf import *\n",
    "from utils.db import *\n",
    "from utils.gd import * \n",
    "from utils.clt_repetidos import *\n",
    "from datetime import datetime\n",
    "import cx_Oracle\n",
    "import pandas as pd\n",
    "import os\n",
    "import plotly.express as px\n",
    "import plotly.graph_objects as go\n",
    "from utils.clt_repetidos import * \n",
    "from ydata_profiling import ProfileReport\n",
    "import dask.dataframe as dd\n",
    "import gc\n",
    "import matplotlib.pyplot as plt"
   ]
  },
  {
   "cell_type": "code",
   "execution_count": 2,
   "metadata": {},
   "outputs": [],
   "source": [
    "path = \"/home/ale1726/proyects/datalake/clientes/data/productos/FFON\""
   ]
  },
  {
   "cell_type": "code",
   "execution_count": 3,
   "metadata": {},
   "outputs": [],
   "source": [
    "agrupado_sistemas_transacciones_general = pd.read_csv(os.path.join(path,\"agrupado_sistemas_transacciones_general.dat\"))"
   ]
  },
  {
   "cell_type": "code",
   "execution_count": 6,
   "metadata": {},
   "outputs": [
    {
     "data": {
      "application/vnd.microsoft.datawrangler.viewer.v0+json": {
       "columns": [
        {
         "name": "index",
         "rawType": "int64",
         "type": "integer"
        },
        {
         "name": "CFE_C_SISTEMA",
         "rawType": "int64",
         "type": "integer"
        },
        {
         "name": "NOMBRE_SISTEMA",
         "rawType": "object",
         "type": "string"
        },
        {
         "name": "SISTEMA",
         "rawType": "object",
         "type": "string"
        },
        {
         "name": "NUM_TRANSACCIONES",
         "rawType": "int64",
         "type": "integer"
        },
        {
         "name": "MEDIA_MONTO",
         "rawType": "float64",
         "type": "float"
        },
        {
         "name": "SUMA_MONTO",
         "rawType": "float64",
         "type": "float"
        },
        {
         "name": "MEDIANA_MONTO",
         "rawType": "float64",
         "type": "float"
        }
       ],
       "conversionMethod": "pd.DataFrame",
       "ref": "d37c2791-2363-46de-a5f9-d60c1c0365eb",
       "rows": [
        [
         "0",
         "2050",
         "SISTEMA SIRAC",
         "SIRAC",
         "164565",
         "11626761.547715858",
         "1913358014099.86",
         "1485.75"
        ],
        [
         "1",
         "2051",
         "NAFIN ELECTRONICO",
         "NAFIN",
         "188706",
         "0.0",
         "0.0",
         "0.0"
        ],
        [
         "2",
         "2052",
         "SISTEMA TAS",
         "TAS",
         "1533975",
         "686130828.2666384",
         "1052507537290316.6",
         "2985478.33"
        ],
        [
         "3",
         "2053",
         "SISTEMA CUSTODIA DE VALORES",
         "CUSTODIA",
         "1086272",
         "68453858.9054713",
         "74359510220964.12",
         "0.0"
        ],
        [
         "4",
         "2054",
         "SISTEMA IKOS CASH",
         "FFON",
         "4114656",
         "44933874.03923695",
         "184887434418790.56",
         "40.0"
        ],
        [
         "5",
         "2055",
         "SISTEMA IKOS CASH WEB",
         "WEB FFON",
         "111479",
         "10692075.787904987",
         "1191941916759.86",
         "6144.99"
        ],
        [
         "6",
         "39005",
         "OPERACIONES EN FORMA MASIVA VIA WEB",
         "CARGA MASIVA",
         "6",
         "0.0",
         "0.0",
         "0.0"
        ],
        [
         "7",
         "109691",
         "SISTEMA DE MERCADO DE CAPITALES",
         "MECA",
         "13949",
         "812184.1238210624",
         "11329156343.18",
         "3.22"
        ],
        [
         "8",
         "128716",
         "SISTEMA DE VENTAS EN DIRECTO",
         "SVD",
         "54780080",
         "6700.585385363439",
         "367058603457.04",
         "200.0"
        ],
        [
         "9",
         "174039",
         "INVERSIONES Y PRESTAMOS EXTRANJEROS",
         "SIPE",
         "31401",
         "11845687.23921372",
         "371966424998.55",
         "0.0"
        ],
        [
         "10",
         "187951",
         "SISTEMA DE DERIVADOS Y CAMBIOS",
         "SIDECA",
         "275229",
         "26269606.657619435",
         "7230157570769.94",
         "0.0"
        ],
        [
         "11",
         "228370",
         "SISTEMA DE OPERACIONES INTERNACIONALES",
         "SOI",
         "186",
         "19698387.096774194",
         "3663900000.0",
         "0.0"
        ],
        [
         "12",
         "238761",
         "SISTEMA DE MERCADO SECUNDARIO",
         "SIMS",
         "339",
         "1078755.3121533922",
         "365698050.82",
         "265625.0"
        ],
        [
         "13",
         "423603",
         "SISTEMA DE OPERACIONES MONEDA EXTRANJERA",
         "SOME",
         "10418",
         "8218006.037386254",
         "85615186897.49",
         "162500.0"
        ]
       ],
       "shape": {
        "columns": 7,
        "rows": 14
       }
      },
      "text/html": [
       "<div>\n",
       "<style scoped>\n",
       "    .dataframe tbody tr th:only-of-type {\n",
       "        vertical-align: middle;\n",
       "    }\n",
       "\n",
       "    .dataframe tbody tr th {\n",
       "        vertical-align: top;\n",
       "    }\n",
       "\n",
       "    .dataframe thead th {\n",
       "        text-align: right;\n",
       "    }\n",
       "</style>\n",
       "<table border=\"1\" class=\"dataframe\">\n",
       "  <thead>\n",
       "    <tr style=\"text-align: right;\">\n",
       "      <th></th>\n",
       "      <th>CFE_C_SISTEMA</th>\n",
       "      <th>NOMBRE_SISTEMA</th>\n",
       "      <th>SISTEMA</th>\n",
       "      <th>NUM_TRANSACCIONES</th>\n",
       "      <th>MEDIA_MONTO</th>\n",
       "      <th>SUMA_MONTO</th>\n",
       "      <th>MEDIANA_MONTO</th>\n",
       "    </tr>\n",
       "  </thead>\n",
       "  <tbody>\n",
       "    <tr>\n",
       "      <th>0</th>\n",
       "      <td>2050</td>\n",
       "      <td>SISTEMA SIRAC</td>\n",
       "      <td>SIRAC</td>\n",
       "      <td>164565</td>\n",
       "      <td>1.162676e+07</td>\n",
       "      <td>1.913358e+12</td>\n",
       "      <td>1485.75</td>\n",
       "    </tr>\n",
       "    <tr>\n",
       "      <th>1</th>\n",
       "      <td>2051</td>\n",
       "      <td>NAFIN ELECTRONICO</td>\n",
       "      <td>NAFIN</td>\n",
       "      <td>188706</td>\n",
       "      <td>0.000000e+00</td>\n",
       "      <td>0.000000e+00</td>\n",
       "      <td>0.00</td>\n",
       "    </tr>\n",
       "    <tr>\n",
       "      <th>2</th>\n",
       "      <td>2052</td>\n",
       "      <td>SISTEMA TAS</td>\n",
       "      <td>TAS</td>\n",
       "      <td>1533975</td>\n",
       "      <td>6.861308e+08</td>\n",
       "      <td>1.052508e+15</td>\n",
       "      <td>2985478.33</td>\n",
       "    </tr>\n",
       "    <tr>\n",
       "      <th>3</th>\n",
       "      <td>2053</td>\n",
       "      <td>SISTEMA CUSTODIA DE VALORES</td>\n",
       "      <td>CUSTODIA</td>\n",
       "      <td>1086272</td>\n",
       "      <td>6.845386e+07</td>\n",
       "      <td>7.435951e+13</td>\n",
       "      <td>0.00</td>\n",
       "    </tr>\n",
       "    <tr>\n",
       "      <th>4</th>\n",
       "      <td>2054</td>\n",
       "      <td>SISTEMA IKOS CASH</td>\n",
       "      <td>FFON</td>\n",
       "      <td>4114656</td>\n",
       "      <td>4.493387e+07</td>\n",
       "      <td>1.848874e+14</td>\n",
       "      <td>40.00</td>\n",
       "    </tr>\n",
       "    <tr>\n",
       "      <th>5</th>\n",
       "      <td>2055</td>\n",
       "      <td>SISTEMA IKOS CASH WEB</td>\n",
       "      <td>WEB FFON</td>\n",
       "      <td>111479</td>\n",
       "      <td>1.069208e+07</td>\n",
       "      <td>1.191942e+12</td>\n",
       "      <td>6144.99</td>\n",
       "    </tr>\n",
       "    <tr>\n",
       "      <th>6</th>\n",
       "      <td>39005</td>\n",
       "      <td>OPERACIONES EN FORMA MASIVA VIA WEB</td>\n",
       "      <td>CARGA MASIVA</td>\n",
       "      <td>6</td>\n",
       "      <td>0.000000e+00</td>\n",
       "      <td>0.000000e+00</td>\n",
       "      <td>0.00</td>\n",
       "    </tr>\n",
       "    <tr>\n",
       "      <th>7</th>\n",
       "      <td>109691</td>\n",
       "      <td>SISTEMA DE MERCADO DE CAPITALES</td>\n",
       "      <td>MECA</td>\n",
       "      <td>13949</td>\n",
       "      <td>8.121841e+05</td>\n",
       "      <td>1.132916e+10</td>\n",
       "      <td>3.22</td>\n",
       "    </tr>\n",
       "    <tr>\n",
       "      <th>8</th>\n",
       "      <td>128716</td>\n",
       "      <td>SISTEMA DE VENTAS EN DIRECTO</td>\n",
       "      <td>SVD</td>\n",
       "      <td>54780080</td>\n",
       "      <td>6.700585e+03</td>\n",
       "      <td>3.670586e+11</td>\n",
       "      <td>200.00</td>\n",
       "    </tr>\n",
       "    <tr>\n",
       "      <th>9</th>\n",
       "      <td>174039</td>\n",
       "      <td>INVERSIONES Y PRESTAMOS EXTRANJEROS</td>\n",
       "      <td>SIPE</td>\n",
       "      <td>31401</td>\n",
       "      <td>1.184569e+07</td>\n",
       "      <td>3.719664e+11</td>\n",
       "      <td>0.00</td>\n",
       "    </tr>\n",
       "    <tr>\n",
       "      <th>10</th>\n",
       "      <td>187951</td>\n",
       "      <td>SISTEMA DE DERIVADOS Y CAMBIOS</td>\n",
       "      <td>SIDECA</td>\n",
       "      <td>275229</td>\n",
       "      <td>2.626961e+07</td>\n",
       "      <td>7.230158e+12</td>\n",
       "      <td>0.00</td>\n",
       "    </tr>\n",
       "    <tr>\n",
       "      <th>11</th>\n",
       "      <td>228370</td>\n",
       "      <td>SISTEMA DE OPERACIONES INTERNACIONALES</td>\n",
       "      <td>SOI</td>\n",
       "      <td>186</td>\n",
       "      <td>1.969839e+07</td>\n",
       "      <td>3.663900e+09</td>\n",
       "      <td>0.00</td>\n",
       "    </tr>\n",
       "    <tr>\n",
       "      <th>12</th>\n",
       "      <td>238761</td>\n",
       "      <td>SISTEMA DE MERCADO SECUNDARIO</td>\n",
       "      <td>SIMS</td>\n",
       "      <td>339</td>\n",
       "      <td>1.078755e+06</td>\n",
       "      <td>3.656981e+08</td>\n",
       "      <td>265625.00</td>\n",
       "    </tr>\n",
       "    <tr>\n",
       "      <th>13</th>\n",
       "      <td>423603</td>\n",
       "      <td>SISTEMA DE OPERACIONES MONEDA EXTRANJERA</td>\n",
       "      <td>SOME</td>\n",
       "      <td>10418</td>\n",
       "      <td>8.218006e+06</td>\n",
       "      <td>8.561519e+10</td>\n",
       "      <td>162500.00</td>\n",
       "    </tr>\n",
       "  </tbody>\n",
       "</table>\n",
       "</div>"
      ],
      "text/plain": [
       "    CFE_C_SISTEMA                            NOMBRE_SISTEMA       SISTEMA  \\\n",
       "0            2050                             SISTEMA SIRAC         SIRAC   \n",
       "1            2051                         NAFIN ELECTRONICO         NAFIN   \n",
       "2            2052                               SISTEMA TAS           TAS   \n",
       "3            2053               SISTEMA CUSTODIA DE VALORES      CUSTODIA   \n",
       "4            2054                         SISTEMA IKOS CASH          FFON   \n",
       "5            2055                     SISTEMA IKOS CASH WEB      WEB FFON   \n",
       "6           39005       OPERACIONES EN FORMA MASIVA VIA WEB  CARGA MASIVA   \n",
       "7          109691           SISTEMA DE MERCADO DE CAPITALES          MECA   \n",
       "8          128716              SISTEMA DE VENTAS EN DIRECTO           SVD   \n",
       "9          174039       INVERSIONES Y PRESTAMOS EXTRANJEROS          SIPE   \n",
       "10         187951            SISTEMA DE DERIVADOS Y CAMBIOS        SIDECA   \n",
       "11         228370    SISTEMA DE OPERACIONES INTERNACIONALES           SOI   \n",
       "12         238761             SISTEMA DE MERCADO SECUNDARIO          SIMS   \n",
       "13         423603  SISTEMA DE OPERACIONES MONEDA EXTRANJERA          SOME   \n",
       "\n",
       "    NUM_TRANSACCIONES   MEDIA_MONTO    SUMA_MONTO  MEDIANA_MONTO  \n",
       "0              164565  1.162676e+07  1.913358e+12        1485.75  \n",
       "1              188706  0.000000e+00  0.000000e+00           0.00  \n",
       "2             1533975  6.861308e+08  1.052508e+15     2985478.33  \n",
       "3             1086272  6.845386e+07  7.435951e+13           0.00  \n",
       "4             4114656  4.493387e+07  1.848874e+14          40.00  \n",
       "5              111479  1.069208e+07  1.191942e+12        6144.99  \n",
       "6                   6  0.000000e+00  0.000000e+00           0.00  \n",
       "7               13949  8.121841e+05  1.132916e+10           3.22  \n",
       "8            54780080  6.700585e+03  3.670586e+11         200.00  \n",
       "9               31401  1.184569e+07  3.719664e+11           0.00  \n",
       "10             275229  2.626961e+07  7.230158e+12           0.00  \n",
       "11                186  1.969839e+07  3.663900e+09           0.00  \n",
       "12                339  1.078755e+06  3.656981e+08      265625.00  \n",
       "13              10418  8.218006e+06  8.561519e+10      162500.00  "
      ]
     },
     "execution_count": 6,
     "metadata": {},
     "output_type": "execute_result"
    }
   ],
   "source": [
    "agrupado_sistemas_transacciones_general"
   ]
  },
  {
   "cell_type": "code",
   "execution_count": 8,
   "metadata": {},
   "outputs": [
    {
     "data": {
      "text/plain": [
       "63554766.11423721"
      ]
     },
     "execution_count": 8,
     "metadata": {},
     "output_type": "execute_result"
    }
   ],
   "source": [
    "agrupado_sistemas_transacciones_general[\"MEDIA_MONTO\"].mean()"
   ]
  },
  {
   "cell_type": "code",
   "execution_count": null,
   "metadata": {},
   "outputs": [],
   "source": [
    "63,554,766"
   ]
  },
  {
   "cell_type": "code",
   "execution_count": null,
   "metadata": {},
   "outputs": [],
   "source": [
    "agrupado_sistemas_transacciones_general.sort_values(by=\"\")"
   ]
  }
 ],
 "metadata": {
  "kernelspec": {
   "display_name": "myenv_1",
   "language": "python",
   "name": "python3"
  },
  "language_info": {
   "codemirror_mode": {
    "name": "ipython",
    "version": 3
   },
   "file_extension": ".py",
   "mimetype": "text/x-python",
   "name": "python",
   "nbconvert_exporter": "python",
   "pygments_lexer": "ipython3",
   "version": "3.10.12"
  }
 },
 "nbformat": 4,
 "nbformat_minor": 2
}
