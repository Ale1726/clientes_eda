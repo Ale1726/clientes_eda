{
 "cells": [
  {
   "cell_type": "code",
   "execution_count": 2,
   "metadata": {},
   "outputs": [],
   "source": [
    "from utils.tf import *\n",
    "from utils.db import *\n",
    "from utils.gd import * \n",
    "from utils.clt_repetidos import *\n",
    "from datetime import datetime\n",
    "import cx_Oracle\n",
    "import pandas as pd\n",
    "import os\n",
    "import plotly.express as px\n",
    "import plotly.graph_objects as go\n",
    "from utils.clt_repetidos import * \n",
    "from ydata_profiling import ProfileReport\n",
    "import dask.dataframe as dd\n",
    "import gc\n",
    "import matplotlib.pyplot as plt"
   ]
  },
  {
   "cell_type": "code",
   "execution_count": 3,
   "metadata": {},
   "outputs": [],
   "source": [
    "path = \"/home/ale1726/proyects/datalake/clientes/data/productos/FFON\""
   ]
  },
  {
   "cell_type": "code",
   "execution_count": 3,
   "metadata": {},
   "outputs": [],
   "source": [
    "agrupado_sistemas_transacciones_general = pd.read_csv(os.path.join(path,\"agrupado_sistemas_transacciones_general.dat\"))"
   ]
  },
  {
   "cell_type": "code",
   "execution_count": 6,
   "metadata": {},
   "outputs": [
    {
     "data": {
      "application/vnd.microsoft.datawrangler.viewer.v0+json": {
       "columns": [
        {
         "name": "index",
         "rawType": "int64",
         "type": "integer"
        },
        {
         "name": "CFE_C_SISTEMA",
         "rawType": "int64",
         "type": "integer"
        },
        {
         "name": "NOMBRE_SISTEMA",
         "rawType": "object",
         "type": "string"
        },
        {
         "name": "SISTEMA",
         "rawType": "object",
         "type": "string"
        },
        {
         "name": "NUM_TRANSACCIONES",
         "rawType": "int64",
         "type": "integer"
        },
        {
         "name": "MEDIA_MONTO",
         "rawType": "float64",
         "type": "float"
        },
        {
         "name": "SUMA_MONTO",
         "rawType": "float64",
         "type": "float"
        },
        {
         "name": "MEDIANA_MONTO",
         "rawType": "float64",
         "type": "float"
        }
       ],
       "conversionMethod": "pd.DataFrame",
       "ref": "d37c2791-2363-46de-a5f9-d60c1c0365eb",
       "rows": [
        [
         "0",
         "2050",
         "SISTEMA SIRAC",
         "SIRAC",
         "164565",
         "11626761.547715858",
         "1913358014099.86",
         "1485.75"
        ],
        [
         "1",
         "2051",
         "NAFIN ELECTRONICO",
         "NAFIN",
         "188706",
         "0.0",
         "0.0",
         "0.0"
        ],
        [
         "2",
         "2052",
         "SISTEMA TAS",
         "TAS",
         "1533975",
         "686130828.2666384",
         "1052507537290316.6",
         "2985478.33"
        ],
        [
         "3",
         "2053",
         "SISTEMA CUSTODIA DE VALORES",
         "CUSTODIA",
         "1086272",
         "68453858.9054713",
         "74359510220964.12",
         "0.0"
        ],
        [
         "4",
         "2054",
         "SISTEMA IKOS CASH",
         "FFON",
         "4114656",
         "44933874.03923695",
         "184887434418790.56",
         "40.0"
        ],
        [
         "5",
         "2055",
         "SISTEMA IKOS CASH WEB",
         "WEB FFON",
         "111479",
         "10692075.787904987",
         "1191941916759.86",
         "6144.99"
        ],
        [
         "6",
         "39005",
         "OPERACIONES EN FORMA MASIVA VIA WEB",
         "CARGA MASIVA",
         "6",
         "0.0",
         "0.0",
         "0.0"
        ],
        [
         "7",
         "109691",
         "SISTEMA DE MERCADO DE CAPITALES",
         "MECA",
         "13949",
         "812184.1238210624",
         "11329156343.18",
         "3.22"
        ],
        [
         "8",
         "128716",
         "SISTEMA DE VENTAS EN DIRECTO",
         "SVD",
         "54780080",
         "6700.585385363439",
         "367058603457.04",
         "200.0"
        ],
        [
         "9",
         "174039",
         "INVERSIONES Y PRESTAMOS EXTRANJEROS",
         "SIPE",
         "31401",
         "11845687.23921372",
         "371966424998.55",
         "0.0"
        ],
        [
         "10",
         "187951",
         "SISTEMA DE DERIVADOS Y CAMBIOS",
         "SIDECA",
         "275229",
         "26269606.657619435",
         "7230157570769.94",
         "0.0"
        ],
        [
         "11",
         "228370",
         "SISTEMA DE OPERACIONES INTERNACIONALES",
         "SOI",
         "186",
         "19698387.096774194",
         "3663900000.0",
         "0.0"
        ],
        [
         "12",
         "238761",
         "SISTEMA DE MERCADO SECUNDARIO",
         "SIMS",
         "339",
         "1078755.3121533922",
         "365698050.82",
         "265625.0"
        ],
        [
         "13",
         "423603",
         "SISTEMA DE OPERACIONES MONEDA EXTRANJERA",
         "SOME",
         "10418",
         "8218006.037386254",
         "85615186897.49",
         "162500.0"
        ]
       ],
       "shape": {
        "columns": 7,
        "rows": 14
       }
      },
      "text/html": [
       "<div>\n",
       "<style scoped>\n",
       "    .dataframe tbody tr th:only-of-type {\n",
       "        vertical-align: middle;\n",
       "    }\n",
       "\n",
       "    .dataframe tbody tr th {\n",
       "        vertical-align: top;\n",
       "    }\n",
       "\n",
       "    .dataframe thead th {\n",
       "        text-align: right;\n",
       "    }\n",
       "</style>\n",
       "<table border=\"1\" class=\"dataframe\">\n",
       "  <thead>\n",
       "    <tr style=\"text-align: right;\">\n",
       "      <th></th>\n",
       "      <th>CFE_C_SISTEMA</th>\n",
       "      <th>NOMBRE_SISTEMA</th>\n",
       "      <th>SISTEMA</th>\n",
       "      <th>NUM_TRANSACCIONES</th>\n",
       "      <th>MEDIA_MONTO</th>\n",
       "      <th>SUMA_MONTO</th>\n",
       "      <th>MEDIANA_MONTO</th>\n",
       "    </tr>\n",
       "  </thead>\n",
       "  <tbody>\n",
       "    <tr>\n",
       "      <th>0</th>\n",
       "      <td>2050</td>\n",
       "      <td>SISTEMA SIRAC</td>\n",
       "      <td>SIRAC</td>\n",
       "      <td>164565</td>\n",
       "      <td>1.162676e+07</td>\n",
       "      <td>1.913358e+12</td>\n",
       "      <td>1485.75</td>\n",
       "    </tr>\n",
       "    <tr>\n",
       "      <th>1</th>\n",
       "      <td>2051</td>\n",
       "      <td>NAFIN ELECTRONICO</td>\n",
       "      <td>NAFIN</td>\n",
       "      <td>188706</td>\n",
       "      <td>0.000000e+00</td>\n",
       "      <td>0.000000e+00</td>\n",
       "      <td>0.00</td>\n",
       "    </tr>\n",
       "    <tr>\n",
       "      <th>2</th>\n",
       "      <td>2052</td>\n",
       "      <td>SISTEMA TAS</td>\n",
       "      <td>TAS</td>\n",
       "      <td>1533975</td>\n",
       "      <td>6.861308e+08</td>\n",
       "      <td>1.052508e+15</td>\n",
       "      <td>2985478.33</td>\n",
       "    </tr>\n",
       "    <tr>\n",
       "      <th>3</th>\n",
       "      <td>2053</td>\n",
       "      <td>SISTEMA CUSTODIA DE VALORES</td>\n",
       "      <td>CUSTODIA</td>\n",
       "      <td>1086272</td>\n",
       "      <td>6.845386e+07</td>\n",
       "      <td>7.435951e+13</td>\n",
       "      <td>0.00</td>\n",
       "    </tr>\n",
       "    <tr>\n",
       "      <th>4</th>\n",
       "      <td>2054</td>\n",
       "      <td>SISTEMA IKOS CASH</td>\n",
       "      <td>FFON</td>\n",
       "      <td>4114656</td>\n",
       "      <td>4.493387e+07</td>\n",
       "      <td>1.848874e+14</td>\n",
       "      <td>40.00</td>\n",
       "    </tr>\n",
       "    <tr>\n",
       "      <th>5</th>\n",
       "      <td>2055</td>\n",
       "      <td>SISTEMA IKOS CASH WEB</td>\n",
       "      <td>WEB FFON</td>\n",
       "      <td>111479</td>\n",
       "      <td>1.069208e+07</td>\n",
       "      <td>1.191942e+12</td>\n",
       "      <td>6144.99</td>\n",
       "    </tr>\n",
       "    <tr>\n",
       "      <th>6</th>\n",
       "      <td>39005</td>\n",
       "      <td>OPERACIONES EN FORMA MASIVA VIA WEB</td>\n",
       "      <td>CARGA MASIVA</td>\n",
       "      <td>6</td>\n",
       "      <td>0.000000e+00</td>\n",
       "      <td>0.000000e+00</td>\n",
       "      <td>0.00</td>\n",
       "    </tr>\n",
       "    <tr>\n",
       "      <th>7</th>\n",
       "      <td>109691</td>\n",
       "      <td>SISTEMA DE MERCADO DE CAPITALES</td>\n",
       "      <td>MECA</td>\n",
       "      <td>13949</td>\n",
       "      <td>8.121841e+05</td>\n",
       "      <td>1.132916e+10</td>\n",
       "      <td>3.22</td>\n",
       "    </tr>\n",
       "    <tr>\n",
       "      <th>8</th>\n",
       "      <td>128716</td>\n",
       "      <td>SISTEMA DE VENTAS EN DIRECTO</td>\n",
       "      <td>SVD</td>\n",
       "      <td>54780080</td>\n",
       "      <td>6.700585e+03</td>\n",
       "      <td>3.670586e+11</td>\n",
       "      <td>200.00</td>\n",
       "    </tr>\n",
       "    <tr>\n",
       "      <th>9</th>\n",
       "      <td>174039</td>\n",
       "      <td>INVERSIONES Y PRESTAMOS EXTRANJEROS</td>\n",
       "      <td>SIPE</td>\n",
       "      <td>31401</td>\n",
       "      <td>1.184569e+07</td>\n",
       "      <td>3.719664e+11</td>\n",
       "      <td>0.00</td>\n",
       "    </tr>\n",
       "    <tr>\n",
       "      <th>10</th>\n",
       "      <td>187951</td>\n",
       "      <td>SISTEMA DE DERIVADOS Y CAMBIOS</td>\n",
       "      <td>SIDECA</td>\n",
       "      <td>275229</td>\n",
       "      <td>2.626961e+07</td>\n",
       "      <td>7.230158e+12</td>\n",
       "      <td>0.00</td>\n",
       "    </tr>\n",
       "    <tr>\n",
       "      <th>11</th>\n",
       "      <td>228370</td>\n",
       "      <td>SISTEMA DE OPERACIONES INTERNACIONALES</td>\n",
       "      <td>SOI</td>\n",
       "      <td>186</td>\n",
       "      <td>1.969839e+07</td>\n",
       "      <td>3.663900e+09</td>\n",
       "      <td>0.00</td>\n",
       "    </tr>\n",
       "    <tr>\n",
       "      <th>12</th>\n",
       "      <td>238761</td>\n",
       "      <td>SISTEMA DE MERCADO SECUNDARIO</td>\n",
       "      <td>SIMS</td>\n",
       "      <td>339</td>\n",
       "      <td>1.078755e+06</td>\n",
       "      <td>3.656981e+08</td>\n",
       "      <td>265625.00</td>\n",
       "    </tr>\n",
       "    <tr>\n",
       "      <th>13</th>\n",
       "      <td>423603</td>\n",
       "      <td>SISTEMA DE OPERACIONES MONEDA EXTRANJERA</td>\n",
       "      <td>SOME</td>\n",
       "      <td>10418</td>\n",
       "      <td>8.218006e+06</td>\n",
       "      <td>8.561519e+10</td>\n",
       "      <td>162500.00</td>\n",
       "    </tr>\n",
       "  </tbody>\n",
       "</table>\n",
       "</div>"
      ],
      "text/plain": [
       "    CFE_C_SISTEMA                            NOMBRE_SISTEMA       SISTEMA  \\\n",
       "0            2050                             SISTEMA SIRAC         SIRAC   \n",
       "1            2051                         NAFIN ELECTRONICO         NAFIN   \n",
       "2            2052                               SISTEMA TAS           TAS   \n",
       "3            2053               SISTEMA CUSTODIA DE VALORES      CUSTODIA   \n",
       "4            2054                         SISTEMA IKOS CASH          FFON   \n",
       "5            2055                     SISTEMA IKOS CASH WEB      WEB FFON   \n",
       "6           39005       OPERACIONES EN FORMA MASIVA VIA WEB  CARGA MASIVA   \n",
       "7          109691           SISTEMA DE MERCADO DE CAPITALES          MECA   \n",
       "8          128716              SISTEMA DE VENTAS EN DIRECTO           SVD   \n",
       "9          174039       INVERSIONES Y PRESTAMOS EXTRANJEROS          SIPE   \n",
       "10         187951            SISTEMA DE DERIVADOS Y CAMBIOS        SIDECA   \n",
       "11         228370    SISTEMA DE OPERACIONES INTERNACIONALES           SOI   \n",
       "12         238761             SISTEMA DE MERCADO SECUNDARIO          SIMS   \n",
       "13         423603  SISTEMA DE OPERACIONES MONEDA EXTRANJERA          SOME   \n",
       "\n",
       "    NUM_TRANSACCIONES   MEDIA_MONTO    SUMA_MONTO  MEDIANA_MONTO  \n",
       "0              164565  1.162676e+07  1.913358e+12        1485.75  \n",
       "1              188706  0.000000e+00  0.000000e+00           0.00  \n",
       "2             1533975  6.861308e+08  1.052508e+15     2985478.33  \n",
       "3             1086272  6.845386e+07  7.435951e+13           0.00  \n",
       "4             4114656  4.493387e+07  1.848874e+14          40.00  \n",
       "5              111479  1.069208e+07  1.191942e+12        6144.99  \n",
       "6                   6  0.000000e+00  0.000000e+00           0.00  \n",
       "7               13949  8.121841e+05  1.132916e+10           3.22  \n",
       "8            54780080  6.700585e+03  3.670586e+11         200.00  \n",
       "9               31401  1.184569e+07  3.719664e+11           0.00  \n",
       "10             275229  2.626961e+07  7.230158e+12           0.00  \n",
       "11                186  1.969839e+07  3.663900e+09           0.00  \n",
       "12                339  1.078755e+06  3.656981e+08      265625.00  \n",
       "13              10418  8.218006e+06  8.561519e+10      162500.00  "
      ]
     },
     "execution_count": 6,
     "metadata": {},
     "output_type": "execute_result"
    }
   ],
   "source": [
    "agrupado_sistemas_transacciones_general"
   ]
  },
  {
   "cell_type": "code",
   "execution_count": 8,
   "metadata": {},
   "outputs": [
    {
     "data": {
      "text/plain": [
       "63554766.11423721"
      ]
     },
     "execution_count": 8,
     "metadata": {},
     "output_type": "execute_result"
    }
   ],
   "source": [
    "agrupado_sistemas_transacciones_general[\"MEDIA_MONTO\"].mean()"
   ]
  },
  {
   "cell_type": "code",
   "execution_count": null,
   "metadata": {},
   "outputs": [],
   "source": [
    "63,554,766"
   ]
  },
  {
   "cell_type": "code",
   "execution_count": null,
   "metadata": {},
   "outputs": [],
   "source": [
    "agrupado_sistemas_transacciones_general.sort_values(by=\"\")"
   ]
  },
  {
   "cell_type": "code",
   "execution_count": 4,
   "metadata": {},
   "outputs": [],
   "source": [
    "agrupado_conceptos_entrada = pd.read_csv(os.path.join(path,\"agrupado_conceptos_entrada.dat\"))"
   ]
  },
  {
   "cell_type": "code",
   "execution_count": null,
   "metadata": {},
   "outputs": [
    {
     "data": {
      "application/vnd.microsoft.datawrangler.viewer.v0+json": {
       "columns": [
        {
         "name": "index",
         "rawType": "int64",
         "type": "integer"
        },
        {
         "name": "NUM_CONCEPTO",
         "rawType": "int64",
         "type": "integer"
        },
        {
         "name": "CONCEPTO",
         "rawType": "object",
         "type": "string"
        },
        {
         "name": "NUM_OPERACIONES",
         "rawType": "int64",
         "type": "integer"
        },
        {
         "name": "MEDIA_MONTO",
         "rawType": "float64",
         "type": "float"
        },
        {
         "name": "SUMA_MONTO",
         "rawType": "float64",
         "type": "float"
        }
       ],
       "conversionMethod": "pd.DataFrame",
       "ref": "f46d105f-f8c7-4bdb-a99f-8b2bf587e60b",
       "rows": [
        [
         "0",
         "128723",
         "INGRESO DOMI SVD",
         "26099582",
         "1385.171678337607",
         "36152401802.85"
        ],
        [
         "1",
         "147387",
         "EGRESOS SPEI SVD",
         "16266567",
         "0.0",
         "0.0"
        ],
        [
         "2",
         "147384",
         "INGRESO SPEI SVD",
         "12247829",
         "26880.879397092333",
         "329232414225.21"
        ],
        [
         "3",
         "8469",
         "TRASPASO ENTRADA",
         "2069460",
         "89237698.14204383",
         "184673846797034.0"
        ],
        [
         "4",
         "8305",
         "TRASPASOS_SAL",
         "2021477",
         "0.0",
         "0.0"
        ],
        [
         "5",
         "8476",
         "DISPERSION DE PAGOS A TERCEROS",
         "590000",
         "0.0",
         "0.0"
        ],
        [
         "6",
         "6027",
         "INICIO DE VENTA REPORTO",
         "539442",
         "1181612182.5225432",
         "637411238964325.8"
        ],
        [
         "7",
         "25983",
         "ENTRADA TERCEROS",
         "498497",
         "150241756.60623303",
         "74895064942937.34"
        ],
        [
         "8",
         "6114",
         "VENCIMIENTO VENTA EN REPORTO",
         "348637",
         "0.0",
         "0.0"
        ],
        [
         "9",
         "6028",
         "INICIO DE VENTA DIRECTO",
         "176552",
         "979653731.8665664",
         "172959825668506.03"
        ],
        [
         "10",
         "6132",
         "DISPERSION DE PAGOS EPO",
         "155428",
         "0.0",
         "0.0"
        ],
        [
         "11",
         "6095",
         "LIQUIDACION DE CAMBIOS PAGO",
         "111979",
         "0.0",
         "0.0"
        ],
        [
         "12",
         "6118",
         "INICIO DE COMPRA REPORTO",
         "101318",
         "0.0",
         "0.0"
        ],
        [
         "13",
         "6119",
         "INICIO DE COMPRA EN DIRECTO",
         "98027",
         "0.0",
         "0.0"
        ],
        [
         "14",
         "6025",
         "VENCIMIENTO DE COMPRA REPORTO",
         "60919",
         "2060938381.5882776",
         "125550305267976.3"
        ],
        [
         "15",
         "6009",
         "LIQUIDACION DE CAMBIOS COBRO",
         "59003",
         "117570670.621014",
         "6937022278651.69"
        ],
        [
         "16",
         "8472",
         "TRASPASO SALIDA",
         "47998",
         "0.0",
         "0.0"
        ],
        [
         "17",
         "8517",
         "INGRESOS SWAPS Y OTROS",
         "46963",
         "2300850.919092477",
         "108054861713.34"
        ],
        [
         "18",
         "6094",
         "PAGO DERIVADOS",
         "44772",
         "0.0",
         "0.0"
        ],
        [
         "19",
         "6117",
         "PAGO DE CAPITAL",
         "42773",
         "0.0",
         "0.0"
        ],
        [
         "20",
         "6102",
         "CARTERA SEGUNDO PISO IFNB",
         "38292",
         "0.0",
         "0.0"
        ],
        [
         "21",
         "6045",
         "RECURSOS EPO PARA DISPERSION",
         "38055",
         "1741961.7248393116",
         "66290353438.76"
        ],
        [
         "22",
         "128729",
         "REVOCACIONES DOMI SVD",
         "37297",
         "0.0",
         "0.0"
        ],
        [
         "23",
         "6030",
         "COBRO DE CUPON",
         "36284",
         "7324507.810655385",
         "265762441401.82"
        ],
        [
         "24",
         "8297",
         "RECUPERACION DE CARTERA",
         "33577",
         "17985301.250269827",
         "603892460080.31"
        ],
        [
         "25",
         "6063",
         "INGRESOS NO IDENTIFICADOS",
         "31413",
         "2715337.803461306",
         "85296906420.13"
        ],
        [
         "26",
         "94467",
         "INGRESO RECLASIFICADO",
         "30248",
         "2752499.667672904",
         "83257609947.77"
        ],
        [
         "27",
         "6101",
         "CARTERA SEGUNDO PISO BANCOS",
         "27464",
         "0.0",
         "0.0"
        ],
        [
         "28",
         "8298",
         "RECUPERACION DE CARTERA",
         "27206",
         "16731708.437339924",
         "455202859746.27"
        ],
        [
         "29",
         "6029",
         "INICIO DE INVERSION",
         "26354",
         "136366033.89357594",
         "3593790457231.3"
        ],
        [
         "30",
         "8299",
         "RECUPERACION DE CARTERA",
         "23648",
         "36644301.68407223",
         "866564446224.94"
        ],
        [
         "31",
         "6032",
         "GARANTIAS",
         "21100",
         "1396188.6700962086",
         "29459580939.03"
        ],
        [
         "32",
         "30911",
         "EGRESOS BXICO FTAS",
         "20647",
         "0.0",
         "0.0"
        ],
        [
         "33",
         "30925",
         "INGRESO BXICOFTAS",
         "20620",
         "3951706757.521601",
         "81484193340095.42"
        ],
        [
         "34",
         "6105",
         "INICIO INVERSIONES OVERNIGHT",
         "19847",
         "0.0",
         "0.0"
        ],
        [
         "35",
         "14818",
         "DISPERSION DE PAGOS AIF",
         "15224",
         "0.0",
         "0.0"
        ],
        [
         "36",
         "6100",
         "CARTERA PRIMER PISO",
         "14999",
         "0.0",
         "0.0"
        ],
        [
         "37",
         "97296",
         "INGRESO IDENTIFICADO MISMO DÍA",
         "13249",
         "712885.6588293456",
         "9445022093.83"
        ],
        [
         "38",
         "6115",
         "VENCIMIENTO DE INVERSION",
         "12932",
         "0.0",
         "0.0"
        ],
        [
         "39",
         "6018",
         "VENCIMIENTO INVERSIONES OVERNIGHT",
         "11764",
         "31811266.68040037",
         "374227741228.23"
        ],
        [
         "40",
         "6141",
         "VENCIMIENTO DE DEPOSITO",
         "11753",
         "0.0",
         "0.0"
        ],
        [
         "41",
         "6066",
         "INICIO DE DEPOSITO RECIBIDO",
         "11738",
         "1061986635.7713468",
         "12465599130684.07"
        ],
        [
         "42",
         "10085",
         "RETIRO DE EFECTIVO",
         "10526",
         "0.0",
         "0.0"
        ],
        [
         "43",
         "6133",
         "VIATICOS",
         "10131",
         "0.0",
         "0.0"
        ],
        [
         "44",
         "6006",
         "DEPOSITO",
         "8971",
         "147662909.4532527",
         "1324683960705.13"
        ],
        [
         "45",
         "6008",
         "RETIRO DE MARGEN",
         "8624",
         "30353840.768661875",
         "261771522788.94"
        ],
        [
         "46",
         "1138494",
         "INGRESO PENDIENTE POR APLICAR",
         "7177",
         "2363503.1365709906",
         "16962862011.17"
        ],
        [
         "47",
         "1138502",
         "INGRESO APLICADO DIA SIGUIENTE",
         "7150",
         "2374068.3189384616",
         "16974588480.41"
        ],
        [
         "48",
         "6098",
         "COMPRA DE ACCIONES",
         "6963",
         "0.0",
         "0.0"
        ],
        [
         "49",
         "6096",
         "DEPOSITO DE MARGEN",
         "6678",
         "0.0",
         "0.0"
        ]
       ],
       "shape": {
        "columns": 5,
        "rows": 225
       }
      },
      "text/html": [
       "<div>\n",
       "<style scoped>\n",
       "    .dataframe tbody tr th:only-of-type {\n",
       "        vertical-align: middle;\n",
       "    }\n",
       "\n",
       "    .dataframe tbody tr th {\n",
       "        vertical-align: top;\n",
       "    }\n",
       "\n",
       "    .dataframe thead th {\n",
       "        text-align: right;\n",
       "    }\n",
       "</style>\n",
       "<table border=\"1\" class=\"dataframe\">\n",
       "  <thead>\n",
       "    <tr style=\"text-align: right;\">\n",
       "      <th></th>\n",
       "      <th>NUM_CONCEPTO</th>\n",
       "      <th>CONCEPTO</th>\n",
       "      <th>NUM_OPERACIONES</th>\n",
       "      <th>MEDIA_MONTO</th>\n",
       "      <th>SUMA_MONTO</th>\n",
       "    </tr>\n",
       "  </thead>\n",
       "  <tbody>\n",
       "    <tr>\n",
       "      <th>0</th>\n",
       "      <td>128723</td>\n",
       "      <td>INGRESO DOMI SVD</td>\n",
       "      <td>26099582</td>\n",
       "      <td>1.385172e+03</td>\n",
       "      <td>3.615240e+10</td>\n",
       "    </tr>\n",
       "    <tr>\n",
       "      <th>1</th>\n",
       "      <td>147387</td>\n",
       "      <td>EGRESOS SPEI SVD</td>\n",
       "      <td>16266567</td>\n",
       "      <td>0.000000e+00</td>\n",
       "      <td>0.000000e+00</td>\n",
       "    </tr>\n",
       "    <tr>\n",
       "      <th>2</th>\n",
       "      <td>147384</td>\n",
       "      <td>INGRESO SPEI SVD</td>\n",
       "      <td>12247829</td>\n",
       "      <td>2.688088e+04</td>\n",
       "      <td>3.292324e+11</td>\n",
       "    </tr>\n",
       "    <tr>\n",
       "      <th>3</th>\n",
       "      <td>8469</td>\n",
       "      <td>TRASPASO ENTRADA</td>\n",
       "      <td>2069460</td>\n",
       "      <td>8.923770e+07</td>\n",
       "      <td>1.846738e+14</td>\n",
       "    </tr>\n",
       "    <tr>\n",
       "      <th>4</th>\n",
       "      <td>8305</td>\n",
       "      <td>TRASPASOS_SAL</td>\n",
       "      <td>2021477</td>\n",
       "      <td>0.000000e+00</td>\n",
       "      <td>0.000000e+00</td>\n",
       "    </tr>\n",
       "    <tr>\n",
       "      <th>...</th>\n",
       "      <td>...</td>\n",
       "      <td>...</td>\n",
       "      <td>...</td>\n",
       "      <td>...</td>\n",
       "      <td>...</td>\n",
       "    </tr>\n",
       "    <tr>\n",
       "      <th>220</th>\n",
       "      <td>6068</td>\n",
       "      <td>RECEPCION DE COMPENSACION</td>\n",
       "      <td>1</td>\n",
       "      <td>1.956325e+06</td>\n",
       "      <td>1.956325e+06</td>\n",
       "    </tr>\n",
       "    <tr>\n",
       "      <th>221</th>\n",
       "      <td>36695</td>\n",
       "      <td>PAGO A PROVEEDORES NORMATIVIDAD GUBERNAMENTAL</td>\n",
       "      <td>1</td>\n",
       "      <td>0.000000e+00</td>\n",
       "      <td>0.000000e+00</td>\n",
       "    </tr>\n",
       "    <tr>\n",
       "      <th>222</th>\n",
       "      <td>37982</td>\n",
       "      <td>CANCELACION PAGO A PROVEEDOR CON CHEQUE NORMAT...</td>\n",
       "      <td>1</td>\n",
       "      <td>1.250000e+03</td>\n",
       "      <td>1.250000e+03</td>\n",
       "    </tr>\n",
       "    <tr>\n",
       "      <th>223</th>\n",
       "      <td>37809</td>\n",
       "      <td>PAGO CON CHEQUE A PROV EMPRENDEDORES</td>\n",
       "      <td>1</td>\n",
       "      <td>0.000000e+00</td>\n",
       "      <td>0.000000e+00</td>\n",
       "    </tr>\n",
       "    <tr>\n",
       "      <th>224</th>\n",
       "      <td>36794</td>\n",
       "      <td>DEVOLUCION PAGO A PROV CANALES ALTERNOS</td>\n",
       "      <td>1</td>\n",
       "      <td>3.135087e+05</td>\n",
       "      <td>3.135087e+05</td>\n",
       "    </tr>\n",
       "  </tbody>\n",
       "</table>\n",
       "<p>225 rows × 5 columns</p>\n",
       "</div>"
      ],
      "text/plain": [
       "     NUM_CONCEPTO                                           CONCEPTO  \\\n",
       "0          128723                                   INGRESO DOMI SVD   \n",
       "1          147387                                   EGRESOS SPEI SVD   \n",
       "2          147384                                   INGRESO SPEI SVD   \n",
       "3            8469                                   TRASPASO ENTRADA   \n",
       "4            8305                                      TRASPASOS_SAL   \n",
       "..            ...                                                ...   \n",
       "220          6068                          RECEPCION DE COMPENSACION   \n",
       "221         36695      PAGO A PROVEEDORES NORMATIVIDAD GUBERNAMENTAL   \n",
       "222         37982  CANCELACION PAGO A PROVEEDOR CON CHEQUE NORMAT...   \n",
       "223         37809               PAGO CON CHEQUE A PROV EMPRENDEDORES   \n",
       "224         36794            DEVOLUCION PAGO A PROV CANALES ALTERNOS   \n",
       "\n",
       "     NUM_OPERACIONES   MEDIA_MONTO    SUMA_MONTO  \n",
       "0           26099582  1.385172e+03  3.615240e+10  \n",
       "1           16266567  0.000000e+00  0.000000e+00  \n",
       "2           12247829  2.688088e+04  3.292324e+11  \n",
       "3            2069460  8.923770e+07  1.846738e+14  \n",
       "4            2021477  0.000000e+00  0.000000e+00  \n",
       "..               ...           ...           ...  \n",
       "220                1  1.956325e+06  1.956325e+06  \n",
       "221                1  0.000000e+00  0.000000e+00  \n",
       "222                1  1.250000e+03  1.250000e+03  \n",
       "223                1  0.000000e+00  0.000000e+00  \n",
       "224                1  3.135087e+05  3.135087e+05  \n",
       "\n",
       "[225 rows x 5 columns]"
      ]
     },
     "execution_count": 5,
     "metadata": {},
     "output_type": "execute_result"
    }
   ],
   "source": [
    "agrupado_conceptos_entrada."
   ]
  },
  {
   "cell_type": "code",
   "execution_count": 13,
   "metadata": {},
   "outputs": [],
   "source": [
    "agrupado_conceptos_entrada\n",
    "top5 = agrupado_conceptos_entrada.nlargest(5, \"NUM_OPERACIONES\")\n",
    "total = agrupado_conceptos_entrada[\"NUM_OPERACIONES\"].sum()\n",
    "res = [[row[\"CONCEPTO\"], round(row[\"NUM_OPERACIONES\"] / total * 100)] for _, row in top5.iterrows()]\n",
    "otros = round(100 - sum(p[1] for p in res))\n",
    "res.append([\"otros\", otros])\n"
   ]
  },
  {
   "cell_type": "code",
   "execution_count": 14,
   "metadata": {},
   "outputs": [
    {
     "data": {
      "text/plain": [
       "[['INGRESO DOMI SVD', 42],\n",
       " ['EGRESOS SPEI SVD', 26],\n",
       " ['INGRESO SPEI SVD', 20],\n",
       " ['TRASPASO ENTRADA', 3],\n",
       " ['TRASPASOS_SAL', 3],\n",
       " ['otros', 6]]"
      ]
     },
     "execution_count": 14,
     "metadata": {},
     "output_type": "execute_result"
    }
   ],
   "source": [
    "res"
   ]
  },
  {
   "cell_type": "code",
   "execution_count": 6,
   "metadata": {},
   "outputs": [
    {
     "name": "stdout",
     "output_type": "stream",
     "text": [
      "Top 5 conceptos con más transacciones:\n",
      "   NUM_CONCEPTO          CONCEPTO  NUM_OPERACIONES   MEDIA_MONTO    SUMA_MONTO\n",
      "0        128723  INGRESO DOMI SVD         26099582  1.385172e+03  3.615240e+10\n",
      "1        147387  EGRESOS SPEI SVD         16266567  0.000000e+00  0.000000e+00\n",
      "2        147384  INGRESO SPEI SVD         12247829  2.688088e+04  3.292324e+11\n",
      "3          8469  TRASPASO ENTRADA          2069460  8.923770e+07  1.846738e+14\n",
      "4          8305     TRASPASOS_SAL          2021477  0.000000e+00  0.000000e+00\n",
      "\n",
      "Estas transacciones representan el 94.21% del total.\n"
     ]
    }
   ],
   "source": [
    "# Obtener los 5 conceptos con más transacciones\n",
    "top5 = agrupado_conceptos_entrada.sort_values(by=\"NUM_OPERACIONES\", ascending=False).head(5)\n",
    "\n",
    "# Calcular el total de operaciones en todo el DataFrame\n",
    "total_operaciones = agrupado_conceptos_entrada[\"NUM_OPERACIONES\"].sum()\n",
    "\n",
    "# Calcular el total de operaciones de los 5 conceptos principales\n",
    "top5_total = top5[\"NUM_OPERACIONES\"].sum()\n",
    "\n",
    "# Calcular el porcentaje que representan\n",
    "porcentaje = (top5_total / total_operaciones) * 100\n",
    "\n",
    "print(\"Top 5 conceptos con más transacciones:\")\n",
    "print(top5)\n",
    "\n",
    "print(f\"\\nEstas transacciones representan el {porcentaje:.2f}% del total.\")\n"
   ]
  }
 ],
 "metadata": {
  "kernelspec": {
   "display_name": "myenv_1",
   "language": "python",
   "name": "python3"
  },
  "language_info": {
   "codemirror_mode": {
    "name": "ipython",
    "version": 3
   },
   "file_extension": ".py",
   "mimetype": "text/x-python",
   "name": "python",
   "nbconvert_exporter": "python",
   "pygments_lexer": "ipython3",
   "version": "3.10.12"
  }
 },
 "nbformat": 4,
 "nbformat_minor": 2
}
