{
 "cells": [
  {
   "cell_type": "code",
   "execution_count": 1,
   "metadata": {},
   "outputs": [],
   "source": [
    "from utils.tf import *\n",
    "from utils.db import *\n",
    "from utils.gd import * \n",
    "from utils.clt_repetidos import *\n",
    "from datetime import datetime\n",
    "import cx_Oracle\n",
    "import pandas as pd\n",
    "import os\n",
    "import plotly.express as px\n",
    "import plotly.graph_objects as go\n",
    "from utils.clt_repetidos import * \n",
    "from ydata_profiling import ProfileReport\n",
    "import dask.dataframe as dd\n",
    "import gc\n",
    "import matplotlib.pyplot as plt"
   ]
  },
  {
   "cell_type": "code",
   "execution_count": 3,
   "metadata": {},
   "outputs": [],
   "source": [
    "path = \"/home/ale1726/proyects/datalake/clientes/data/productos/FFON\""
   ]
  },
  {
   "cell_type": "code",
   "execution_count": null,
   "metadata": {},
   "outputs": [],
   "source": [
    "agrupado_ffon_subconceptos = pd.read_csv(os.path.join(path,\"agrupado_ffon_subconceptos.dat\"))"
   ]
  },
  {
   "cell_type": "code",
   "execution_count": null,
   "metadata": {},
   "outputs": [
    {
     "data": {
      "application/vnd.microsoft.datawrangler.viewer.v0+json": {
       "columns": [
        {
         "name": "index",
         "rawType": "int64",
         "type": "integer"
        },
        {
         "name": "NUM_CONCEPTO",
         "rawType": "int64",
         "type": "integer"
        },
        {
         "name": "CONCEPTO",
         "rawType": "object",
         "type": "string"
        },
        {
         "name": "NUM_OPERACIONES",
         "rawType": "int64",
         "type": "integer"
        },
        {
         "name": "MEDIA_MONTO",
         "rawType": "float64",
         "type": "float"
        },
        {
         "name": "SUMA_MONTO",
         "rawType": "float64",
         "type": "float"
        },
        {
         "name": "MEDIANA_MONTO",
         "rawType": "float64",
         "type": "float"
        }
       ],
       "conversionMethod": "pd.DataFrame",
       "ref": "1ad466a5-2153-4396-838b-ab178296fc7e",
       "rows": [
        [
         "0",
         "6001",
         "INGRESOS CUENTA ESPECIAL",
         "53",
         "7098135.025660377",
         "376201156.36",
         "245320.86"
        ],
        [
         "1",
         "6002",
         "INGRESOS X DESEMBOLSOS",
         "269",
         "6450766.775539033",
         "1735256262.62",
         "910050.99"
        ],
        [
         "2",
         "6004",
         "INGRESOS CARTERA ACTIVA",
         "1229",
         "21463675.170756716",
         "26378856784.86",
         "787788.07"
        ],
        [
         "3",
         "6006",
         "DEPOSITO",
         "8971",
         "147662909.4532527",
         "1324683960705.13",
         "885000.0"
        ],
        [
         "4",
         "6008",
         "RETIRO DE MARGEN",
         "8624",
         "30353840.768661875",
         "261771522788.94",
         "14000000.0"
        ],
        [
         "5",
         "6009",
         "LIQUIDACION DE CAMBIOS COBRO",
         "59003",
         "117570670.621014",
         "6937022278651.69",
         "16747000.0"
        ],
        [
         "6",
         "6013",
         "VENTA DE ACCIONES",
         "6410",
         "1764617.992446178",
         "11311201331.58",
         "1014375.66"
        ],
        [
         "7",
         "6014",
         "PREMIOS POR PRESTAMO DE VALORES",
         "312",
         "864.6948717948718",
         "269784.8",
         "619.12"
        ],
        [
         "8",
         "6016",
         "DIVIDENDOS EN EFECTIVO",
         "289",
         "63773.11688581315",
         "18430430.78",
         "29062.5"
        ],
        [
         "9",
         "6017",
         "DIVIDENDOS ADR4S",
         "8",
         "17180.40875",
         "137443.27",
         "10311.38"
        ],
        [
         "10",
         "6018",
         "VENCIMIENTO INVERSIONES OVERNIGHT",
         "11764",
         "31811266.68040037",
         "374227741228.23",
         "12542396.675"
        ],
        [
         "11",
         "6025",
         "VENCIMIENTO DE COMPRA REPORTO",
         "60919",
         "2060938381.5882776",
         "125550305267976.3",
         "2000436610.14"
        ],
        [
         "12",
         "6027",
         "INICIO DE VENTA REPORTO",
         "539442",
         "1181612182.5225432",
         "637411238964325.8",
         "233906212.98"
        ],
        [
         "13",
         "6028",
         "INICIO DE VENTA DIRECTO",
         "176552",
         "979653731.8665664",
         "172959825668506.03",
         "84127928.935"
        ],
        [
         "14",
         "6029",
         "INICIO DE INVERSION",
         "26354",
         "136366033.89357594",
         "3593790457231.3",
         "31348500.0"
        ],
        [
         "15",
         "6030",
         "COBRO DE CUPON",
         "36284",
         "7324507.810655385",
         "265762441401.82",
         "1710318.54"
        ],
        [
         "16",
         "6032",
         "GARANTIAS",
         "21100",
         "1396188.6700962086",
         "29459580939.03",
         "75731.72"
        ],
        [
         "17",
         "6038",
         "INGRESOS PENDIENTES DE APLICACION DEFINITIVA",
         "1",
         "4201232.7",
         "4201232.7",
         "4201232.7"
        ],
        [
         "18",
         "6039",
         "DIVIDENDOS Y GANANCIAS DE CAPITAL",
         "25",
         "12000614.79",
         "300015369.75",
         "517.5"
        ],
        [
         "19",
         "6040",
         "VENTA DE BONOS",
         "82",
         "11461472.652439024",
         "939840757.5",
         "5095166.665"
        ],
        [
         "20",
         "6041",
         "VENCIMIENTOS DE BONOS",
         "6",
         "11029266.666666666",
         "66175600.0",
         "10000000.0"
        ],
        [
         "21",
         "6042",
         "RECEPCION DE CUPONES DE LOS BONOS",
         "251",
         "396298.38",
         "99470893.38",
         "265625.0"
        ],
        [
         "22",
         "6045",
         "RECURSOS EPO PARA DISPERSION",
         "38055",
         "1741961.7248393116",
         "66290353438.76",
         "89315.21"
        ],
        [
         "23",
         "6046",
         "COMISIONES COBRADAS DISPERSION DE PAGOS",
         "658",
         "303208.842325228",
         "199511418.25",
         "342.2"
        ],
        [
         "24",
         "6047",
         "RECUPERACION DE CREDITOS AL PERSONAL",
         "3559",
         "24769.50466985108",
         "88154667.12",
         "692.76"
        ],
        [
         "25",
         "6063",
         "INGRESOS NO IDENTIFICADOS",
         "31413",
         "2715337.803461306",
         "85296906420.13",
         "29185.46"
        ],
        [
         "26",
         "6064",
         "VENCIMIENTO DE PRESTAMO",
         "3028",
         "5908037564.518811",
         "17889537745362.96",
         "3392777333.33"
        ],
        [
         "27",
         "6066",
         "INICIO DE DEPOSITO RECIBIDO",
         "11738",
         "1061986635.7713468",
         "12465599130684.07",
         "350000000.0"
        ],
        [
         "28",
         "6067",
         "COMISIONES DE LINEA DE REPORTO",
         "76",
         "33351.34197368421",
         "2534701.99",
         "34444.44"
        ],
        [
         "29",
         "6068",
         "RECEPCION DE COMPENSACION",
         "1",
         "1956324.63",
         "1956324.63",
         "1956324.63"
        ],
        [
         "30",
         "6070",
         "INTERESES COBRADOS",
         "2232",
         "198326.439422043",
         "442664612.79",
         "2093.735"
        ],
        [
         "31",
         "6071",
         "INTERESES COB. POR USO DE FONDOS",
         "2",
         "310341.36",
         "620682.72",
         "310341.36"
        ],
        [
         "32",
         "6075",
         "BONIFICACION COMISIONES PAGADAS",
         "449",
         "146.10559020044545",
         "65601.41",
         "6.0"
        ],
        [
         "33",
         "6080",
         "EXEMPLEADOS",
         "4",
         "1505992.8475",
         "6023971.39",
         "1475109.66"
        ],
        [
         "34",
         "6087",
         "EGRESOS CUENTA ESPECIAL",
         "56",
         "0.0",
         "0.0",
         "0.0"
        ],
        [
         "35",
         "6088",
         "EGRESOS X DESEMBOLSOS",
         "246",
         "0.0",
         "0.0",
         "0.0"
        ],
        [
         "36",
         "6089",
         "EGRESOS CARTERA PASIVA",
         "1087",
         "0.0",
         "0.0",
         "0.0"
        ],
        [
         "37",
         "6090",
         "EGRESOS CARTERA ACTIVA",
         "7",
         "0.0",
         "0.0",
         "0.0"
        ],
        [
         "38",
         "6094",
         "PAGO DERIVADOS",
         "44772",
         "0.0",
         "0.0",
         "0.0"
        ],
        [
         "39",
         "6095",
         "LIQUIDACION DE CAMBIOS PAGO",
         "111979",
         "0.0",
         "0.0",
         "0.0"
        ],
        [
         "40",
         "6096",
         "DEPOSITO DE MARGEN",
         "6678",
         "0.0",
         "0.0",
         "0.0"
        ],
        [
         "41",
         "6098",
         "COMPRA DE ACCIONES",
         "6963",
         "0.0",
         "0.0",
         "0.0"
        ],
        [
         "42",
         "6100",
         "CARTERA PRIMER PISO",
         "14999",
         "0.0",
         "0.0",
         "0.0"
        ],
        [
         "43",
         "6101",
         "CARTERA SEGUNDO PISO BANCOS",
         "27464",
         "0.0",
         "0.0",
         "0.0"
        ],
        [
         "44",
         "6102",
         "CARTERA SEGUNDO PISO IFNB",
         "38292",
         "0.0",
         "0.0",
         "0.0"
        ],
        [
         "45",
         "6103",
         "VENCIMIENTO PRESTAMOS OVERNIGHT",
         "2965",
         "0.0",
         "0.0",
         "0.0"
        ],
        [
         "46",
         "6104",
         "VENCIMIENTO PRESTAMOS A PLAZO",
         "884",
         "0.0",
         "0.0",
         "0.0"
        ],
        [
         "47",
         "6105",
         "INICIO INVERSIONES OVERNIGHT",
         "19847",
         "0.0",
         "0.0",
         "0.0"
        ],
        [
         "48",
         "6106",
         "INICIO INVERSIONES MONEDA EXTRANJERA A PLAZO",
         "30",
         "0.0",
         "0.0",
         "0.0"
        ],
        [
         "49",
         "6110",
         "PAGOS DE CAPITAL DE LA DEUDA",
         "1",
         "0.0",
         "0.0",
         "0.0"
        ]
       ],
       "shape": {
        "columns": 6,
        "rows": 225
       }
      },
      "text/html": [
       "<div>\n",
       "<style scoped>\n",
       "    .dataframe tbody tr th:only-of-type {\n",
       "        vertical-align: middle;\n",
       "    }\n",
       "\n",
       "    .dataframe tbody tr th {\n",
       "        vertical-align: top;\n",
       "    }\n",
       "\n",
       "    .dataframe thead th {\n",
       "        text-align: right;\n",
       "    }\n",
       "</style>\n",
       "<table border=\"1\" class=\"dataframe\">\n",
       "  <thead>\n",
       "    <tr style=\"text-align: right;\">\n",
       "      <th></th>\n",
       "      <th>NUM_CONCEPTO</th>\n",
       "      <th>CONCEPTO</th>\n",
       "      <th>NUM_OPERACIONES</th>\n",
       "      <th>MEDIA_MONTO</th>\n",
       "      <th>SUMA_MONTO</th>\n",
       "      <th>MEDIANA_MONTO</th>\n",
       "    </tr>\n",
       "  </thead>\n",
       "  <tbody>\n",
       "    <tr>\n",
       "      <th>0</th>\n",
       "      <td>6001</td>\n",
       "      <td>INGRESOS CUENTA ESPECIAL</td>\n",
       "      <td>53</td>\n",
       "      <td>7.098135e+06</td>\n",
       "      <td>3.762012e+08</td>\n",
       "      <td>245320.86</td>\n",
       "    </tr>\n",
       "    <tr>\n",
       "      <th>1</th>\n",
       "      <td>6002</td>\n",
       "      <td>INGRESOS X DESEMBOLSOS</td>\n",
       "      <td>269</td>\n",
       "      <td>6.450767e+06</td>\n",
       "      <td>1.735256e+09</td>\n",
       "      <td>910050.99</td>\n",
       "    </tr>\n",
       "    <tr>\n",
       "      <th>2</th>\n",
       "      <td>6004</td>\n",
       "      <td>INGRESOS CARTERA ACTIVA</td>\n",
       "      <td>1229</td>\n",
       "      <td>2.146368e+07</td>\n",
       "      <td>2.637886e+10</td>\n",
       "      <td>787788.07</td>\n",
       "    </tr>\n",
       "    <tr>\n",
       "      <th>3</th>\n",
       "      <td>6006</td>\n",
       "      <td>DEPOSITO</td>\n",
       "      <td>8971</td>\n",
       "      <td>1.476629e+08</td>\n",
       "      <td>1.324684e+12</td>\n",
       "      <td>885000.00</td>\n",
       "    </tr>\n",
       "    <tr>\n",
       "      <th>4</th>\n",
       "      <td>6008</td>\n",
       "      <td>RETIRO DE MARGEN</td>\n",
       "      <td>8624</td>\n",
       "      <td>3.035384e+07</td>\n",
       "      <td>2.617715e+11</td>\n",
       "      <td>14000000.00</td>\n",
       "    </tr>\n",
       "    <tr>\n",
       "      <th>...</th>\n",
       "      <td>...</td>\n",
       "      <td>...</td>\n",
       "      <td>...</td>\n",
       "      <td>...</td>\n",
       "      <td>...</td>\n",
       "      <td>...</td>\n",
       "    </tr>\n",
       "    <tr>\n",
       "      <th>220</th>\n",
       "      <td>1240409</td>\n",
       "      <td>INTERESES RECLASIFICADOS</td>\n",
       "      <td>1</td>\n",
       "      <td>1.391453e+07</td>\n",
       "      <td>1.391453e+07</td>\n",
       "      <td>13914530.78</td>\n",
       "    </tr>\n",
       "    <tr>\n",
       "      <th>221</th>\n",
       "      <td>1956838</td>\n",
       "      <td>PROVEEDORES DIRECC AUDITORIA INTERNA</td>\n",
       "      <td>4</td>\n",
       "      <td>0.000000e+00</td>\n",
       "      <td>0.000000e+00</td>\n",
       "      <td>0.00</td>\n",
       "    </tr>\n",
       "    <tr>\n",
       "      <th>222</th>\n",
       "      <td>2331627</td>\n",
       "      <td>OTROS INGRESOS CETES SVD</td>\n",
       "      <td>1</td>\n",
       "      <td>1.490502e+04</td>\n",
       "      <td>1.490502e+04</td>\n",
       "      <td>14905.02</td>\n",
       "    </tr>\n",
       "    <tr>\n",
       "      <th>223</th>\n",
       "      <td>2393364</td>\n",
       "      <td>DEVOLUCION SVD SPEI</td>\n",
       "      <td>1</td>\n",
       "      <td>0.000000e+00</td>\n",
       "      <td>0.000000e+00</td>\n",
       "      <td>0.00</td>\n",
       "    </tr>\n",
       "    <tr>\n",
       "      <th>224</th>\n",
       "      <td>2705010</td>\n",
       "      <td>PAGO A PROVEEDORES JURIDICA COORPORATIVA Y NEG...</td>\n",
       "      <td>3</td>\n",
       "      <td>0.000000e+00</td>\n",
       "      <td>0.000000e+00</td>\n",
       "      <td>0.00</td>\n",
       "    </tr>\n",
       "  </tbody>\n",
       "</table>\n",
       "<p>225 rows × 6 columns</p>\n",
       "</div>"
      ],
      "text/plain": [
       "     NUM_CONCEPTO                                           CONCEPTO  \\\n",
       "0            6001                           INGRESOS CUENTA ESPECIAL   \n",
       "1            6002                             INGRESOS X DESEMBOLSOS   \n",
       "2            6004                            INGRESOS CARTERA ACTIVA   \n",
       "3            6006                                           DEPOSITO   \n",
       "4            6008                                   RETIRO DE MARGEN   \n",
       "..            ...                                                ...   \n",
       "220       1240409                           INTERESES RECLASIFICADOS   \n",
       "221       1956838               PROVEEDORES DIRECC AUDITORIA INTERNA   \n",
       "222       2331627                           OTROS INGRESOS CETES SVD   \n",
       "223       2393364                                DEVOLUCION SVD SPEI   \n",
       "224       2705010  PAGO A PROVEEDORES JURIDICA COORPORATIVA Y NEG...   \n",
       "\n",
       "     NUM_OPERACIONES   MEDIA_MONTO    SUMA_MONTO  MEDIANA_MONTO  \n",
       "0                 53  7.098135e+06  3.762012e+08      245320.86  \n",
       "1                269  6.450767e+06  1.735256e+09      910050.99  \n",
       "2               1229  2.146368e+07  2.637886e+10      787788.07  \n",
       "3               8971  1.476629e+08  1.324684e+12      885000.00  \n",
       "4               8624  3.035384e+07  2.617715e+11    14000000.00  \n",
       "..               ...           ...           ...            ...  \n",
       "220                1  1.391453e+07  1.391453e+07    13914530.78  \n",
       "221                4  0.000000e+00  0.000000e+00           0.00  \n",
       "222                1  1.490502e+04  1.490502e+04       14905.02  \n",
       "223                1  0.000000e+00  0.000000e+00           0.00  \n",
       "224                3  0.000000e+00  0.000000e+00           0.00  \n",
       "\n",
       "[225 rows x 6 columns]"
      ]
     },
     "execution_count": 5,
     "metadata": {},
     "output_type": "execute_result"
    }
   ],
   "source": [
    "agrupado_ffon_subconceptos"
   ]
  }
 ],
 "metadata": {
  "kernelspec": {
   "display_name": "myenv_1",
   "language": "python",
   "name": "python3"
  },
  "language_info": {
   "codemirror_mode": {
    "name": "ipython",
    "version": 3
   },
   "file_extension": ".py",
   "mimetype": "text/x-python",
   "name": "python",
   "nbconvert_exporter": "python",
   "pygments_lexer": "ipython3",
   "version": "3.10.12"
  }
 },
 "nbformat": 4,
 "nbformat_minor": 2
}
