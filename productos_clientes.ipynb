{
 "cells": [
  {
   "cell_type": "code",
   "execution_count": null,
   "id": "ba9fc151",
   "metadata": {},
   "outputs": [],
   "source": [
    "from utils.tf import *\n",
    "from utils.db import *\n",
    "from utils.gd2 import *\n",
    "from utils.clt_repetidos import *\n",
    "from datetime import datetime, time, timedelta\n",
    "import cx_Oracle\n",
    "import pandas as pd\n",
    "import os\n",
    "import plotly.express as px\n",
    "import plotly.graph_objects as go\n",
    "from utils.clt_repetidos import * \n",
    "from ydata_profiling import ProfileReport\n",
    "import dask.dataframe as dd\n",
    "import gc\n",
    "import matplotlib.pyplot as plt\n",
    "from datetime import datetime"
   ]
  }
 ],
 "metadata": {
  "language_info": {
   "name": "python"
  }
 },
 "nbformat": 4,
 "nbformat_minor": 5
}
