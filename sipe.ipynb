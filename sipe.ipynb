{
 "cells": [
  {
   "cell_type": "markdown",
   "metadata": {},
   "source": [
    "El objetivo es encotrar la informacion mas posible, y que sea de calidad. De acuerdo a los criterios de PLD\n",
    "La tabla de clientes es\n",
    "\n",
    "| Información requerida                   | Información obtenida                             |\n",
    "|-----------------------------------------|--------------------------------------------------|\n",
    "| negocio                                 |                            |                            \n",
    "| nombre cliente o razón social           |  BCO_NOMBRE                |                            \n",
    "| número cliente                          |        BCO_CLAVE        |                            \n",
    "| estatus                                 |         BCO_ESTATUS                   |                            \n",
    "| número contrato                         |                            |                            \n",
    "| género                                  |            N/A                |                            \n",
    "| fecha_nacimiento o de constitución      |                            |                            \n",
    "| entidad federativa nacimiento           |                            |                            \n",
    "| país de nacimiento                      |                            |                            \n",
    "| nacionalidad                            |                            |                            \n",
    "| profesión                               |                            |                            \n",
    "| calle                                   |  SUC_DIRECCION     |                            \n",
    "| número_exterior                         |                            |                           \n",
    "| número_interior                         |                            |                            \n",
    "| colonia_urbanización                    |                            |                            \n",
    "| delegación_municipio                    |                            |         \n",
    "| ciudad_población                        |   SUC_CDS_CLAVE    CDS_NOMBRE         |                              \n",
    "| entidad_federativa                      |    SUC_EDO_CLAVE         |\n",
    "| código postal                           |                            |                              \n",
    "| país                                    |   SUC_PAI_CLAVE                 |                      \n",
    "| teléfono                                | SIPE.SIPE_CONTACTOS SC ON BAD.SUC_NUMERO= SC.CTO_SUC_NUMERO |     \n",
    "| correo_electrónico                      |                            |        \n",
    "| rfc                                     |    SUC_RFC                        |  \n",
    "| curp                                    |       N/A                     |                                   \n",
    "| fiel                                    |                            |                                   \n",
    "| representante legal                     |                            |\n",
    "| tipo de persona                         |       PM                     |\n",
    "| clasificación por grado de riesgo       |                            |                            \n",
    "| pep (persona políticamente expuesta)    |                            |                            \n",
    "| razón                                   |                            |                             \n",
    "| producto contratado                     |                            |\n",
    "| cambios en perfil transaccional         |                            |"
   ]
  }
 ],
 "metadata": {
  "language_info": {
   "name": "python"
  }
 },
 "nbformat": 4,
 "nbformat_minor": 2
}
