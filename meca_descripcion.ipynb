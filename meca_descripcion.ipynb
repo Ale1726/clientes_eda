{
 "cells": [
  {
   "cell_type": "markdown",
   "metadata": {},
   "source": [
    "El objetivo es encotrar la informacion mas posible, y que sea de calidad. De acuerdo a los criterios de PLD\n",
    "\n",
    "| Información requerida                   | Información obtenida                              |\n",
    "|-----------------------------------------|--------------------------------------------------|\n",
    "| negocio                                 | MECA.CAPF_CLIENTES_POR_AREA relacionar con esta tabla |\n",
    "| nombre cliente o razón social           | CLI_NOMBRE                                       |\n",
    "| número cliente                          | CLI_CLAVE                                        |\n",
    "| estatus                                 | CLI_EST_CLAVE                                    |\n",
    "| número contrato                         |                                                  |\n",
    "| género                                  |                                                  |\n",
    "| fecha_nacimiento o de constitución      |                                                  |\n",
    "| entidad federativa nacimiento           |                                                  |\n",
    "| país de nacimiento                      |                                                  |\n",
    "| nacionalidad                            | CLI_NACIONALIDAD                                 |\n",
    "| profesión                               |                                                  |\n",
    "| calle                                   | CLI_DIRECCION                                    |\n",
    "| número_exterior                         |                                                  |\n",
    "| número_interior                         |                                                  |\n",
    "| colonia_urbanización                    |                                                  |\n",
    "| delegación_municipio                    |                                                  |\n",
    "| ciudad_población                        |                                                  |\n",
    "| entidad_federativa                      | CLI_EDO_CLAVE                                    |\n",
    "| código postal                           |                                                  |\n",
    "| país                                    | CLI_EDO_PAI_CLAVE                                |\n",
    "| teléfono                                | CLI_TELEFONO                                     |\n",
    "| correo_electrónico                      |                                                  |\n",
    "| rfc                                     | CLI_RFC_LETRAS, CLI_RFC_FECHA, CLI_RFC_HOMO      |\n",
    "| curp                                    |                                                  |\n",
    "| fiel                                    |                                                  |\n",
    "| representante legal                     |                                                  |\n",
    "| tipo de persona                         | CLI_TDC_CLAVE                                    |\n",
    "| clasificación por grado de riesgo       |                                                  |\n",
    "| pep (persona políticamente expuesta)    |                                                  |\n",
    "| razón                                   |                                                  |\n",
    "| producto contratado                     | por movimientos y operaciones                    |\n",
    "| cambios en perfil transaccional         |                                                  |"
   ]
  },
  {
   "cell_type": "code",
   "execution_count": 2,
   "metadata": {},
   "outputs": [],
   "source": [
    "from utils.tf import *\n",
    "from utils.db import *\n",
    "from utils.gd import * \n",
    "from datetime import datetime\n",
    "import cx_Oracle\n",
    "import pandas as pd\n",
    "import os"
   ]
  },
  {
   "cell_type": "code",
   "execution_count": 87,
   "metadata": {},
   "outputs": [],
   "source": [
    "df = pd.read_csv(\"/home/ale1726/proyects/datalake/clientes/data/Transformacion_clientes_MECA.dat\",low_memory=False)"
   ]
  },
  {
   "cell_type": "markdown",
   "metadata": {},
   "source": [
    "## NEGOCIO\n",
    "SE ENCONTRO UNA POSIBLE RELACION CON RESPECTO A NEGOCIO POR CATALOGO DE CLIENTE_POR_AREA TODOS RELACIONADOS A UNIDAD DE MERCADO DE CAPITALES, SE HACE UNA ESTANDARIZACION POR MAYUSCULA Y MAPEANDO VALORES NULOS A NO SE ENCONTRO INFORMACION"
   ]
  },
  {
   "cell_type": "code",
   "execution_count": 43,
   "metadata": {},
   "outputs": [
    {
     "data": {
      "text/plain": [
       "DESCRIPCIONES\n",
       "UNIDAD DE MERCADO DE CAPITALES    49719\n",
       "Name: count, dtype: int64"
      ]
     },
     "execution_count": 43,
     "metadata": {},
     "output_type": "execute_result"
    }
   ],
   "source": [
    "df.value_counts(\"DESCRIPCIONES\")"
   ]
  },
  {
   "cell_type": "code",
   "execution_count": 48,
   "metadata": {},
   "outputs": [],
   "source": [
    "df = df.rename(columns={\"DESCRIPCIONES\": \"NEGOCIO\"})\n",
    "df[\"NEGOCIO\"] = df[\"NEGOCIO\"].apply(lambda x: x.upper() if pd.notna(x) else \"NO SE ENCONTRO INFORMACION\")"
   ]
  },
  {
   "cell_type": "code",
   "execution_count": 49,
   "metadata": {},
   "outputs": [
    {
     "data": {
      "text/plain": [
       "NEGOCIO\n",
       "UNIDAD DE MERCADO DE CAPITALES    49719\n",
       "Name: count, dtype: int64"
      ]
     },
     "execution_count": 49,
     "metadata": {},
     "output_type": "execute_result"
    }
   ],
   "source": [
    "df.value_counts(\"NEGOCIO\")"
   ]
  },
  {
   "cell_type": "markdown",
   "metadata": {},
   "source": [
    "## NOMBRE CLIENTE O RAZON SOCIAL\n",
    "\n",
    "SE NORMALIZARA PASANDO A MAYUSCULA, DADO POR LA COMPLEJIDAD DEL NOMBRE QUE PUEDE CONTENER CARACTERES ESPECIALES SE CONSERVA EL NOMBRE COMO VIENE DE LA BASE DE DATOS, SOLO SE QUITARA VALORES ATIPICOS (OUTLIERS)\n"
   ]
  },
  {
   "cell_type": "code",
   "execution_count": 53,
   "metadata": {},
   "outputs": [
    {
     "name": "stdout",
     "output_type": "stream",
     "text": [
      "      CLI_CLAVE                                         CLI_NOMBRE  SIZE_NAME\n",
      "12       INGBAR  ING (MEXICO), S.A.DE C.V. CASA DE BOLSA, ING G...         61\n",
      "13       INGBAR  ING (MEXICO), S.A.DE C.V. CASA DE BOLSA, ING G...         61\n",
      "14       INGBAR  ING (MEXICO), S.A.DE C.V. CASA DE BOLSA, ING G...         61\n",
      "15       INGBAR  ING (MEXICO), S.A.DE C.V. CASA DE BOLSA, ING G...         61\n",
      "16       INGBAR  ING (MEXICO), S.A.DE C.V. CASA DE BOLSA, ING G...         61\n",
      "...         ...                                                ...        ...\n",
      "49602    MULTIV  CASA DE BOLSA MULTIVA, S.A. DE C.V. GRUPO FINA...         60\n",
      "49603    MULTIV  CASA DE BOLSA MULTIVA, S.A. DE C.V. GRUPO FINA...         60\n",
      "49608    MULTIV  CASA DE BOLSA MULTIVA, S.A. DE C.V. GRUPO FINA...         60\n",
      "49609    MULTIV  CASA DE BOLSA MULTIVA, S.A. DE C.V. GRUPO FINA...         60\n",
      "49610    MULTIV  CASA DE BOLSA MULTIVA, S.A. DE C.V. GRUPO FINA...         60\n",
      "\n",
      "[3791 rows x 3 columns]\n"
     ]
    },
    {
     "name": "stderr",
     "output_type": "stream",
     "text": [
      "/tmp/ipykernel_3183/64129732.py:3: SettingWithCopyWarning: \n",
      "A value is trying to be set on a copy of a slice from a DataFrame.\n",
      "Try using .loc[row_indexer,col_indexer] = value instead\n",
      "\n",
      "See the caveats in the documentation: https://pandas.pydata.org/pandas-docs/stable/user_guide/indexing.html#returning-a-view-versus-a-copy\n",
      "  df_conteo[\"SIZE_NAME\"] = df_conteo[\"CLI_NOMBRE\"].apply(lambda x: len(x))\n"
     ]
    }
   ],
   "source": [
    "# Supongamos que df es tu DataFrame original\n",
    "df_conteo = df[[\"CLI_CLAVE\", \"CLI_NOMBRE\"]]\n",
    "df_conteo[\"SIZE_NAME\"] = df_conteo[\"CLI_NOMBRE\"].apply(lambda x: len(x))\n",
    "\n",
    "# Calcular los cuartiles y el rango intercuartílico (IQR)\n",
    "Q1 = df_conteo[\"SIZE_NAME\"].quantile(0.25)\n",
    "Q3 = df_conteo[\"SIZE_NAME\"].quantile(0.75)\n",
    "IQR = Q3 - Q1\n",
    "\n",
    "# Definir los límites para los valores atípicos\n",
    "limite_inferior = Q1 - 1.5 * IQR\n",
    "limite_superior = Q3 + 1.5 * IQR\n",
    "\n",
    "# Filtrar los valores atípicos\n",
    "valores_atipicos = df_conteo[(df_conteo[\"SIZE_NAME\"] < limite_inferior) | (df_conteo[\"SIZE_NAME\"] > limite_superior)]\n",
    "\n",
    "print(valores_atipicos)"
   ]
  },
  {
   "cell_type": "code",
   "execution_count": 54,
   "metadata": {},
   "outputs": [],
   "source": [
    "df[\"CLI_NOMBRE\"] = df[\"CLI_NOMBRE\"].apply(lambda x: x.upper())\n",
    "df = df.rename(columns={\"CLI_NOMBRE\":\"nombre cliente o razón social\".upper()})"
   ]
  },
  {
   "cell_type": "code",
   "execution_count": 109,
   "metadata": {},
   "outputs": [
    {
     "data": {
      "text/plain": [
       "CLI_NOMBRE\n",
       "OPERACION INTERNA (CARTERAS CAPITALES)                           21437\n",
       "IXE CASA DE BOLSA, S.A. DE C.V.                                   7551\n",
       "ACTINVER CASA DE BOLSA                                            3926\n",
       "CASA DE BOLSA MULTIVA, S.A. DE C.V. GRUPO FINANCIERO MULTIVA      3539\n",
       "VECTOR, CASA DE BOLSA, S.A DECV                                   2679\n",
       "CASA DE BOLSA BANORTE, S.A. DE C.V                                2531\n",
       "CASA DE BOLSA SANTANDER MEXICO, S.A. DE C.V.                      2006\n",
       "VALORES FINAMEX, S.A. DE C.V.                                     1994\n",
       "ACCIONES Y VALORES DE MEXICO                                       808\n",
       "SCOTIA INVERLAT CASA DE BOLSA, S.A. DE C.V.                        672\n",
       "MERRILL LYNCH MEXICO, S.A. DE C.V. CASA DE BOLSA                   616\n",
       "FIDEICOMISOS NAFTRACK                                              599\n",
       "INTERACCIONES, CASA DE BOLSA, SA                                   464\n",
       "GRUPO BURSATIL MEXICANO, S.A. DE C.V.                              404\n",
       "ING (MEXICO), S.A.DE C.V. CASA DE BOLSA, ING GRUPO FINANCIERO      252\n",
       "MONEX CASA DE BOLSA, S.A. DE C.V.                                   91\n",
       "OPERACION INTERNA ADS'S                                             85\n",
       "BETA CAPITAL MANAGMENT                                              36\n",
       "VALUE CASA DE BOLSA, S.A. DE C.V                                    12\n",
       "INVEX, CASA DE BOLSA, S.A. DE C.V                                    5\n",
       "INVERSORA BURSATIL, S.A. DE C.V                                      5\n",
       "CASA DE BOLSA BBVA BANCOMER, S.A. DE C.V.                            4\n",
       "NACIONAL FINANCIERA, S.N.C.                                          3\n",
       "Name: count, dtype: int64"
      ]
     },
     "execution_count": 109,
     "metadata": {},
     "output_type": "execute_result"
    }
   ],
   "source": [
    "df.value_counts(\"CLI_NOMBRE\")"
   ]
  },
  {
   "cell_type": "code",
   "execution_count": 111,
   "metadata": {},
   "outputs": [
    {
     "data": {
      "text/plain": [
       "CMV_DESCRIPCION\n",
       "COMPRA                            9455\n",
       "COMISION DE COMPRA                9454\n",
       "IMPUESTO DE COMPRA                9454\n",
       "VENTA CON UTILIDAD                4765\n",
       "UTILIDAD                          4756\n",
       "COMSION DE VENTA CON UTILIDAD     4755\n",
       "IMPUESTO DE VENTA CON UTILIDAD    4755\n",
       "PERDIDA                            550\n",
       "COMISION DE VENTA CON PERDIDA      549\n",
       "IMPUESTO DE VENTA CON PERDIDA      549\n",
       "VENTA CON PERDIDA                  540\n",
       "LIQUIDACION COMPRA                  51\n",
       "LIQUIDACION VENTA CON PERDIDA       49\n",
       "LIQUIDACION VENTA CON UTILIDAD      37\n",
       "Name: count, dtype: int64"
      ]
     },
     "execution_count": 111,
     "metadata": {},
     "output_type": "execute_result"
    }
   ],
   "source": [
    "df.value_counts(\"CMV_DESCRIPCION\")"
   ]
  },
  {
   "cell_type": "markdown",
   "metadata": {},
   "source": [
    "## ESTATUS\n",
    "SE MAPEARA A VIGENTE O NO VIGENTE DE LA COLUMNA CLI_EST_CLAVE"
   ]
  },
  {
   "cell_type": "code",
   "execution_count": 55,
   "metadata": {},
   "outputs": [
    {
     "data": {
      "text/plain": [
       "CLI_EST_CLAVE\n",
       "VIG    49719\n",
       "Name: count, dtype: int64"
      ]
     },
     "execution_count": 55,
     "metadata": {},
     "output_type": "execute_result"
    }
   ],
   "source": [
    "df.value_counts(\"CLI_EST_CLAVE\")"
   ]
  },
  {
   "cell_type": "code",
   "execution_count": 56,
   "metadata": {},
   "outputs": [],
   "source": [
    "df = df.rename(columns={\"CLI_EST_CLAVE\":\"ESTATUS\"})\n",
    "df[\"ESTATUS\"] = df[\"ESTATUS\"].apply(lambda x: \"VIGENTE\" if x == \"VIG\" else \"NO VIGENTE\")"
   ]
  },
  {
   "cell_type": "markdown",
   "metadata": {},
   "source": [
    "## NACIONALIDAD \n",
    "SE MAPEO MEX: MEXICANA, EXT: EXTRANJERA, EN CASO DE SER NULO SE \"NO SE ENCONTRO INFORMACION\" "
   ]
  },
  {
   "cell_type": "code",
   "execution_count": null,
   "metadata": {},
   "outputs": [],
   "source": [
    "df.value_counts(\"CLI_NACIONALIDAD\")"
   ]
  },
  {
   "cell_type": "code",
   "execution_count": null,
   "metadata": {},
   "outputs": [],
   "source": [
    "df = df.rename(columns={\"CLI_NACIONALIDAD\": \"NACIONALIDAD\"})\n",
    "df[\"NACIONALIDAD\"] = df[\"NACIONALIDAD\"].apply(lambda x: \"NO SE ENCONTRO INFORMACION\" if pd.isna(x) else x)\n",
    "df[\"NACIONALIDAD\"] = df[\"NACIONALIDAD\"].apply(lambda x: \"MEXICANA\" if x == \"MEX\" else x)\n",
    "df[\"NACIONALIDAD\"] = df[\"NACIONALIDAD\"].apply(lambda x: \"EXTRANJERA\" if x == \"EXT\" else x)\n",
    "\n",
    "df.value_counts(\"NACIONALIDAD\")"
   ]
  },
  {
   "cell_type": "markdown",
   "metadata": {},
   "source": [
    "## DIRECCION\n",
    "ESTE CAMPO SE DISPERSARA COMO CALLE"
   ]
  },
  {
   "cell_type": "code",
   "execution_count": 108,
   "metadata": {},
   "outputs": [
    {
     "data": {
      "text/plain": [
       "23"
      ]
     },
     "execution_count": 108,
     "metadata": {},
     "output_type": "execute_result"
    }
   ],
   "source": [
    "len(df[\"CLI_NOMBRE\"].unique())"
   ]
  },
  {
   "cell_type": "code",
   "execution_count": 68,
   "metadata": {},
   "outputs": [],
   "source": [
    "palabras_no_validas = [\"PENDIENTE\", \"JHGJHG\",\"P\"]"
   ]
  },
  {
   "cell_type": "code",
   "execution_count": 88,
   "metadata": {},
   "outputs": [
    {
     "data": {
      "text/plain": [
       "Index(['P',\n",
       "       'BLAS PASCAL NO. 205-2Ø PISO COL. LOS MORALES POLANCO, MIGUEL HIDALGO, 11510 MEXICO, DF.',\n",
       "       'NO SE TIENE REGISTRADA LA INFORMACION',\n",
       "       'RIO AMAZONAS #91 COL. CUAUHTEMOC CP 06500',\n",
       "       'REFORMA #398 COL. JUAREZ PB CP 06600',\n",
       "       'BOSQUE DE CIRUELOS 120, BOSQUES DE LAS LOMAS C.P. 11700, MEXICO, D.F.',\n",
       "       'PASEO DE LA REFORMA #383 PISO 14 COL. CUAUHTEMOC CP 06500',\n",
       "       'INSURGENTES SUR 1886 COL.FLORIDA', 'JHGJHG', 'PENDIENTE',\n",
       "       'MONTES URALES #424 PISO 3, COLONIA LOMAS DE CHAPULTEPEC C.P. 11000',\n",
       "       'INSURGENTES SUR 1971'],\n",
       "      dtype='object', name='CLI_DIRECCION')"
      ]
     },
     "execution_count": 88,
     "metadata": {},
     "output_type": "execute_result"
    }
   ],
   "source": [
    "df.value_counts(\"CLI_DIRECCION\").index"
   ]
  },
  {
   "cell_type": "code",
   "execution_count": 72,
   "metadata": {},
   "outputs": [],
   "source": [
    "df[\"CLI_DIRECCION\"] = df[\"CLI_DIRECCION\"].apply(lambda x: x.upper() if x not in palabras_no_validas else \"NO SE TIENE REGISTRADA LA INFORMACION\")"
   ]
  },
  {
   "cell_type": "code",
   "execution_count": null,
   "metadata": {},
   "outputs": [
    {
     "data": {
      "text/plain": [
       "CLI_DIRECCION\n",
       "NO SE TIENE REGISTRADA LA INFORMACION                                                      41757\n",
       "BLAS PASCAL NO. 205-2Ø PISO COL. LOS MORALES POLANCO, MIGUEL HIDALGO, 11510 MEXICO, DF.     3926\n",
       "RIO AMAZONAS #91 COL. CUAUHTEMOC CP 06500                                                   1994\n",
       "REFORMA #398 COL. JUAREZ PB CP 06600                                                         808\n",
       "BOSQUE DE CIRUELOS 120, BOSQUES DE LAS LOMAS C.P. 11700, MEXICO, D.F.                        672\n",
       "PASEO DE LA REFORMA #383 PISO 14 COL. CUAUHTEMOC CP 06500                                    464\n",
       "INSURGENTES SUR 1886 COL.FLORIDA                                                              91\n",
       "MONTES URALES #424 PISO 3, COLONIA LOMAS DE CHAPULTEPEC C.P. 11000                             4\n",
       "INSURGENTES SUR 1971                                                                           3\n",
       "Name: count, dtype: int64"
      ]
     },
     "execution_count": 73,
     "metadata": {},
     "output_type": "execute_result"
    }
   ],
   "source": [
    "df.value_counts(\"CLI_DIRECCION\")"
   ]
  },
  {
   "cell_type": "code",
   "execution_count": null,
   "metadata": {},
   "outputs": [],
   "source": [
    "def separar_direccion(direccion):\n",
    "    # Ejemplo simple de separación usando regex\n",
    "    match = re.match(r'^(.*?)(\\d+.*?)(COL\\..*?)(CP \\d+)(.*)$', direccion)\n",
    "    if match:\n",
    "        return match.groups()\n",
    "    else:\n",
    "        return (direccion, \"\", \"\", \"\", \"\")"
   ]
  },
  {
   "cell_type": "code",
   "execution_count": 75,
   "metadata": {},
   "outputs": [
    {
     "data": {
      "text/plain": [
       "('BLAS PASCAL NO. 205-2Ø PISO COL. LOS MORALES POLANCO, MIGUEL HIDALGO, 11510 MEXICO, DF.',\n",
       " '',\n",
       " '',\n",
       " '',\n",
       " '')"
      ]
     },
     "execution_count": 75,
     "metadata": {},
     "output_type": "execute_result"
    }
   ],
   "source": [
    "separar_direccion(\"BLAS PASCAL NO. 205-2Ø PISO COL. LOS MORALES POLANCO, MIGUEL HIDALGO, 11510 MEXICO, DF.\")"
   ]
  },
  {
   "cell_type": "code",
   "execution_count": 79,
   "metadata": {},
   "outputs": [],
   "source": [
    "sep = \"BLAS PASCAL NO. 205-2Ø PISO COL. LOS MORALES POLANCO, MIGUEL HIDALGO, 11510 MEXICO, DF.\".split(\",\")\n",
    "sep = [s.split(\"COL\") if \"COL\" in s else s for s in sep]"
   ]
  },
  {
   "cell_type": "code",
   "execution_count": 95,
   "metadata": {},
   "outputs": [
    {
     "data": {
      "text/html": [
       "<div>\n",
       "<style scoped>\n",
       "    .dataframe tbody tr th:only-of-type {\n",
       "        vertical-align: middle;\n",
       "    }\n",
       "\n",
       "    .dataframe tbody tr th {\n",
       "        vertical-align: top;\n",
       "    }\n",
       "\n",
       "    .dataframe thead th {\n",
       "        text-align: right;\n",
       "    }\n",
       "</style>\n",
       "<table border=\"1\" class=\"dataframe\">\n",
       "  <thead>\n",
       "    <tr style=\"text-align: right;\">\n",
       "      <th></th>\n",
       "      <th>DESCRIPCIONES</th>\n",
       "      <th>CLI_CLAVE</th>\n",
       "      <th>CLI_NOMBRE</th>\n",
       "      <th>CLI_EST_CLAVE</th>\n",
       "      <th>CLI_NACIONALIDAD</th>\n",
       "      <th>CLI_DIRECCION</th>\n",
       "      <th>CLI_EDO_CLAVE</th>\n",
       "      <th>CLI_EDO_PAI_CLAVE</th>\n",
       "      <th>CLI_TELEFONO</th>\n",
       "      <th>CLI_RFC_LETRAS</th>\n",
       "      <th>...</th>\n",
       "      <th>CMV_DESCRIPCION</th>\n",
       "      <th>MPA_DESCRIPCION</th>\n",
       "      <th>OPE_INS_CLAVE</th>\n",
       "      <th>OPE_ESTATUS</th>\n",
       "      <th>OPE_FECHA_VENCIMIENTO</th>\n",
       "      <th>OPE_TIPO_PRESTAMO</th>\n",
       "      <th>OPE_TASA_PRESTAMO</th>\n",
       "      <th>OPE_PRECIO_PRESTAMO</th>\n",
       "      <th>OPE_PRECIO_PACTADA</th>\n",
       "      <th>INS_DESCRIPCION</th>\n",
       "    </tr>\n",
       "  </thead>\n",
       "  <tbody>\n",
       "    <tr>\n",
       "      <th>1224</th>\n",
       "      <td>UNIDAD DE MERCADO DE CAPITALES</td>\n",
       "      <td>INTER</td>\n",
       "      <td>INTERACCIONES, CASA DE BOLSA, SA</td>\n",
       "      <td>VIG</td>\n",
       "      <td>MEX</td>\n",
       "      <td>PASEO DE LA REFORMA #383 PISO 14 COL. CUAUHTEM...</td>\n",
       "      <td>MDF</td>\n",
       "      <td>MEX</td>\n",
       "      <td>2-08-30-98 CARLOS TAPIA</td>\n",
       "      <td>ICB</td>\n",
       "      <td>...</td>\n",
       "      <td>COMPRA</td>\n",
       "      <td>LINEA BANXICO (SIACC)</td>\n",
       "      <td>ACC</td>\n",
       "      <td>LIQ</td>\n",
       "      <td>NaN</td>\n",
       "      <td>ORD</td>\n",
       "      <td>NaN</td>\n",
       "      <td>34.972676</td>\n",
       "      <td>NaN</td>\n",
       "      <td>ACCIONES</td>\n",
       "    </tr>\n",
       "    <tr>\n",
       "      <th>1225</th>\n",
       "      <td>UNIDAD DE MERCADO DE CAPITALES</td>\n",
       "      <td>INTER</td>\n",
       "      <td>INTERACCIONES, CASA DE BOLSA, SA</td>\n",
       "      <td>VIG</td>\n",
       "      <td>MEX</td>\n",
       "      <td>PASEO DE LA REFORMA #383 PISO 14 COL. CUAUHTEM...</td>\n",
       "      <td>MDF</td>\n",
       "      <td>MEX</td>\n",
       "      <td>2-08-30-98 CARLOS TAPIA</td>\n",
       "      <td>ICB</td>\n",
       "      <td>...</td>\n",
       "      <td>COMISION DE COMPRA</td>\n",
       "      <td>LINEA BANXICO (SIACC)</td>\n",
       "      <td>ACC</td>\n",
       "      <td>LIQ</td>\n",
       "      <td>NaN</td>\n",
       "      <td>ORD</td>\n",
       "      <td>NaN</td>\n",
       "      <td>34.972676</td>\n",
       "      <td>NaN</td>\n",
       "      <td>ACCIONES</td>\n",
       "    </tr>\n",
       "    <tr>\n",
       "      <th>1226</th>\n",
       "      <td>UNIDAD DE MERCADO DE CAPITALES</td>\n",
       "      <td>INTER</td>\n",
       "      <td>INTERACCIONES, CASA DE BOLSA, SA</td>\n",
       "      <td>VIG</td>\n",
       "      <td>MEX</td>\n",
       "      <td>PASEO DE LA REFORMA #383 PISO 14 COL. CUAUHTEM...</td>\n",
       "      <td>MDF</td>\n",
       "      <td>MEX</td>\n",
       "      <td>2-08-30-98 CARLOS TAPIA</td>\n",
       "      <td>ICB</td>\n",
       "      <td>...</td>\n",
       "      <td>IMPUESTO DE COMPRA</td>\n",
       "      <td>LINEA BANXICO (SIACC)</td>\n",
       "      <td>ACC</td>\n",
       "      <td>LIQ</td>\n",
       "      <td>NaN</td>\n",
       "      <td>ORD</td>\n",
       "      <td>NaN</td>\n",
       "      <td>34.972676</td>\n",
       "      <td>NaN</td>\n",
       "      <td>ACCIONES</td>\n",
       "    </tr>\n",
       "    <tr>\n",
       "      <th>1597</th>\n",
       "      <td>UNIDAD DE MERCADO DE CAPITALES</td>\n",
       "      <td>BETA</td>\n",
       "      <td>BETA CAPITAL MANAGMENT</td>\n",
       "      <td>VIG</td>\n",
       "      <td>EXT</td>\n",
       "      <td>P</td>\n",
       "      <td>N.Y</td>\n",
       "      <td>USA</td>\n",
       "      <td>NaN</td>\n",
       "      <td>XXX</td>\n",
       "      <td>...</td>\n",
       "      <td>COMPRA</td>\n",
       "      <td>LINEA OPERACIONES USD</td>\n",
       "      <td>ACC</td>\n",
       "      <td>LIQ</td>\n",
       "      <td>NaN</td>\n",
       "      <td>ORD</td>\n",
       "      <td>NaN</td>\n",
       "      <td>38.458675</td>\n",
       "      <td>NaN</td>\n",
       "      <td>ACCIONES</td>\n",
       "    </tr>\n",
       "    <tr>\n",
       "      <th>1598</th>\n",
       "      <td>UNIDAD DE MERCADO DE CAPITALES</td>\n",
       "      <td>BETA</td>\n",
       "      <td>BETA CAPITAL MANAGMENT</td>\n",
       "      <td>VIG</td>\n",
       "      <td>EXT</td>\n",
       "      <td>P</td>\n",
       "      <td>N.Y</td>\n",
       "      <td>USA</td>\n",
       "      <td>NaN</td>\n",
       "      <td>XXX</td>\n",
       "      <td>...</td>\n",
       "      <td>COMISION DE COMPRA</td>\n",
       "      <td>LINEA OPERACIONES USD</td>\n",
       "      <td>ACC</td>\n",
       "      <td>LIQ</td>\n",
       "      <td>NaN</td>\n",
       "      <td>ORD</td>\n",
       "      <td>NaN</td>\n",
       "      <td>38.446615</td>\n",
       "      <td>NaN</td>\n",
       "      <td>ACCIONES</td>\n",
       "    </tr>\n",
       "    <tr>\n",
       "      <th>...</th>\n",
       "      <td>...</td>\n",
       "      <td>...</td>\n",
       "      <td>...</td>\n",
       "      <td>...</td>\n",
       "      <td>...</td>\n",
       "      <td>...</td>\n",
       "      <td>...</td>\n",
       "      <td>...</td>\n",
       "      <td>...</td>\n",
       "      <td>...</td>\n",
       "      <td>...</td>\n",
       "      <td>...</td>\n",
       "      <td>...</td>\n",
       "      <td>...</td>\n",
       "      <td>...</td>\n",
       "      <td>...</td>\n",
       "      <td>...</td>\n",
       "      <td>...</td>\n",
       "      <td>...</td>\n",
       "      <td>...</td>\n",
       "      <td>...</td>\n",
       "    </tr>\n",
       "    <tr>\n",
       "      <th>40998</th>\n",
       "      <td>UNIDAD DE MERCADO DE CAPITALES</td>\n",
       "      <td>BETA</td>\n",
       "      <td>BETA CAPITAL MANAGMENT</td>\n",
       "      <td>VIG</td>\n",
       "      <td>EXT</td>\n",
       "      <td>P</td>\n",
       "      <td>N.Y</td>\n",
       "      <td>USA</td>\n",
       "      <td>NaN</td>\n",
       "      <td>XXX</td>\n",
       "      <td>...</td>\n",
       "      <td>LIQUIDACION COMPRA</td>\n",
       "      <td>LINEA OPERACIONES USD</td>\n",
       "      <td>ACC</td>\n",
       "      <td>LIQ</td>\n",
       "      <td>NaN</td>\n",
       "      <td>ORD</td>\n",
       "      <td>NaN</td>\n",
       "      <td>NaN</td>\n",
       "      <td>NaN</td>\n",
       "      <td>ACCIONES</td>\n",
       "    </tr>\n",
       "    <tr>\n",
       "      <th>49259</th>\n",
       "      <td>UNIDAD DE MERCADO DE CAPITALES</td>\n",
       "      <td>OPIUSD</td>\n",
       "      <td>OPERACION INTERNA ADS'S</td>\n",
       "      <td>VIG</td>\n",
       "      <td>EXT</td>\n",
       "      <td>JHGJHG</td>\n",
       "      <td>N.Y</td>\n",
       "      <td>USA</td>\n",
       "      <td>5654</td>\n",
       "      <td>1</td>\n",
       "      <td>...</td>\n",
       "      <td>COMPRA</td>\n",
       "      <td>LINEA OPERACIONES USD</td>\n",
       "      <td>ACC</td>\n",
       "      <td>LIQ</td>\n",
       "      <td>NaN</td>\n",
       "      <td>ORD</td>\n",
       "      <td>NaN</td>\n",
       "      <td>NaN</td>\n",
       "      <td>NaN</td>\n",
       "      <td>ACCIONES</td>\n",
       "    </tr>\n",
       "    <tr>\n",
       "      <th>49260</th>\n",
       "      <td>UNIDAD DE MERCADO DE CAPITALES</td>\n",
       "      <td>OPIUSD</td>\n",
       "      <td>OPERACION INTERNA ADS'S</td>\n",
       "      <td>VIG</td>\n",
       "      <td>EXT</td>\n",
       "      <td>JHGJHG</td>\n",
       "      <td>N.Y</td>\n",
       "      <td>USA</td>\n",
       "      <td>5654</td>\n",
       "      <td>1</td>\n",
       "      <td>...</td>\n",
       "      <td>COMISION DE COMPRA</td>\n",
       "      <td>LINEA OPERACIONES USD</td>\n",
       "      <td>ACC</td>\n",
       "      <td>CAN</td>\n",
       "      <td>NaN</td>\n",
       "      <td>ORD</td>\n",
       "      <td>NaN</td>\n",
       "      <td>NaN</td>\n",
       "      <td>NaN</td>\n",
       "      <td>ACCIONES</td>\n",
       "    </tr>\n",
       "    <tr>\n",
       "      <th>49261</th>\n",
       "      <td>UNIDAD DE MERCADO DE CAPITALES</td>\n",
       "      <td>OPIUSD</td>\n",
       "      <td>OPERACION INTERNA ADS'S</td>\n",
       "      <td>VIG</td>\n",
       "      <td>EXT</td>\n",
       "      <td>JHGJHG</td>\n",
       "      <td>N.Y</td>\n",
       "      <td>USA</td>\n",
       "      <td>5654</td>\n",
       "      <td>1</td>\n",
       "      <td>...</td>\n",
       "      <td>IMPUESTO DE COMPRA</td>\n",
       "      <td>LINEA OPERACIONES USD</td>\n",
       "      <td>ACC</td>\n",
       "      <td>LIQ</td>\n",
       "      <td>NaN</td>\n",
       "      <td>ORD</td>\n",
       "      <td>NaN</td>\n",
       "      <td>71.465993</td>\n",
       "      <td>71.465993</td>\n",
       "      <td>ACCIONES</td>\n",
       "    </tr>\n",
       "    <tr>\n",
       "      <th>49262</th>\n",
       "      <td>UNIDAD DE MERCADO DE CAPITALES</td>\n",
       "      <td>OPIUSD</td>\n",
       "      <td>OPERACION INTERNA ADS'S</td>\n",
       "      <td>VIG</td>\n",
       "      <td>EXT</td>\n",
       "      <td>JHGJHG</td>\n",
       "      <td>N.Y</td>\n",
       "      <td>USA</td>\n",
       "      <td>5654</td>\n",
       "      <td>1</td>\n",
       "      <td>...</td>\n",
       "      <td>LIQUIDACION COMPRA</td>\n",
       "      <td>LINEA OPERACIONES USD</td>\n",
       "      <td>ACC</td>\n",
       "      <td>LIQ</td>\n",
       "      <td>NaN</td>\n",
       "      <td>ORD</td>\n",
       "      <td>NaN</td>\n",
       "      <td>1.699756</td>\n",
       "      <td>1.699756</td>\n",
       "      <td>ACCIONES</td>\n",
       "    </tr>\n",
       "  </tbody>\n",
       "</table>\n",
       "<p>1196 rows × 37 columns</p>\n",
       "</div>"
      ],
      "text/plain": [
       "                        DESCRIPCIONES CLI_CLAVE  \\\n",
       "1224   UNIDAD DE MERCADO DE CAPITALES     INTER   \n",
       "1225   UNIDAD DE MERCADO DE CAPITALES     INTER   \n",
       "1226   UNIDAD DE MERCADO DE CAPITALES     INTER   \n",
       "1597   UNIDAD DE MERCADO DE CAPITALES      BETA   \n",
       "1598   UNIDAD DE MERCADO DE CAPITALES      BETA   \n",
       "...                               ...       ...   \n",
       "40998  UNIDAD DE MERCADO DE CAPITALES      BETA   \n",
       "49259  UNIDAD DE MERCADO DE CAPITALES    OPIUSD   \n",
       "49260  UNIDAD DE MERCADO DE CAPITALES    OPIUSD   \n",
       "49261  UNIDAD DE MERCADO DE CAPITALES    OPIUSD   \n",
       "49262  UNIDAD DE MERCADO DE CAPITALES    OPIUSD   \n",
       "\n",
       "                             CLI_NOMBRE CLI_EST_CLAVE CLI_NACIONALIDAD  \\\n",
       "1224   INTERACCIONES, CASA DE BOLSA, SA           VIG              MEX   \n",
       "1225   INTERACCIONES, CASA DE BOLSA, SA           VIG              MEX   \n",
       "1226   INTERACCIONES, CASA DE BOLSA, SA           VIG              MEX   \n",
       "1597             BETA CAPITAL MANAGMENT           VIG              EXT   \n",
       "1598             BETA CAPITAL MANAGMENT           VIG              EXT   \n",
       "...                                 ...           ...              ...   \n",
       "40998            BETA CAPITAL MANAGMENT           VIG              EXT   \n",
       "49259           OPERACION INTERNA ADS'S           VIG              EXT   \n",
       "49260           OPERACION INTERNA ADS'S           VIG              EXT   \n",
       "49261           OPERACION INTERNA ADS'S           VIG              EXT   \n",
       "49262           OPERACION INTERNA ADS'S           VIG              EXT   \n",
       "\n",
       "                                           CLI_DIRECCION CLI_EDO_CLAVE  \\\n",
       "1224   PASEO DE LA REFORMA #383 PISO 14 COL. CUAUHTEM...           MDF   \n",
       "1225   PASEO DE LA REFORMA #383 PISO 14 COL. CUAUHTEM...           MDF   \n",
       "1226   PASEO DE LA REFORMA #383 PISO 14 COL. CUAUHTEM...           MDF   \n",
       "1597                                                   P           N.Y   \n",
       "1598                                                   P           N.Y   \n",
       "...                                                  ...           ...   \n",
       "40998                                                  P           N.Y   \n",
       "49259                                             JHGJHG           N.Y   \n",
       "49260                                             JHGJHG           N.Y   \n",
       "49261                                             JHGJHG           N.Y   \n",
       "49262                                             JHGJHG           N.Y   \n",
       "\n",
       "      CLI_EDO_PAI_CLAVE             CLI_TELEFONO CLI_RFC_LETRAS  ...  \\\n",
       "1224                MEX  2-08-30-98 CARLOS TAPIA            ICB  ...   \n",
       "1225                MEX  2-08-30-98 CARLOS TAPIA            ICB  ...   \n",
       "1226                MEX  2-08-30-98 CARLOS TAPIA            ICB  ...   \n",
       "1597                USA                      NaN            XXX  ...   \n",
       "1598                USA                      NaN            XXX  ...   \n",
       "...                 ...                      ...            ...  ...   \n",
       "40998               USA                      NaN            XXX  ...   \n",
       "49259               USA                     5654              1  ...   \n",
       "49260               USA                     5654              1  ...   \n",
       "49261               USA                     5654              1  ...   \n",
       "49262               USA                     5654              1  ...   \n",
       "\n",
       "          CMV_DESCRIPCION        MPA_DESCRIPCION OPE_INS_CLAVE OPE_ESTATUS  \\\n",
       "1224               COMPRA  LINEA BANXICO (SIACC)           ACC         LIQ   \n",
       "1225   COMISION DE COMPRA  LINEA BANXICO (SIACC)           ACC         LIQ   \n",
       "1226   IMPUESTO DE COMPRA  LINEA BANXICO (SIACC)           ACC         LIQ   \n",
       "1597               COMPRA  LINEA OPERACIONES USD           ACC         LIQ   \n",
       "1598   COMISION DE COMPRA  LINEA OPERACIONES USD           ACC         LIQ   \n",
       "...                   ...                    ...           ...         ...   \n",
       "40998  LIQUIDACION COMPRA  LINEA OPERACIONES USD           ACC         LIQ   \n",
       "49259              COMPRA  LINEA OPERACIONES USD           ACC         LIQ   \n",
       "49260  COMISION DE COMPRA  LINEA OPERACIONES USD           ACC         CAN   \n",
       "49261  IMPUESTO DE COMPRA  LINEA OPERACIONES USD           ACC         LIQ   \n",
       "49262  LIQUIDACION COMPRA  LINEA OPERACIONES USD           ACC         LIQ   \n",
       "\n",
       "      OPE_FECHA_VENCIMIENTO  OPE_TIPO_PRESTAMO  OPE_TASA_PRESTAMO  \\\n",
       "1224                    NaN                ORD                NaN   \n",
       "1225                    NaN                ORD                NaN   \n",
       "1226                    NaN                ORD                NaN   \n",
       "1597                    NaN                ORD                NaN   \n",
       "1598                    NaN                ORD                NaN   \n",
       "...                     ...                ...                ...   \n",
       "40998                   NaN                ORD                NaN   \n",
       "49259                   NaN                ORD                NaN   \n",
       "49260                   NaN                ORD                NaN   \n",
       "49261                   NaN                ORD                NaN   \n",
       "49262                   NaN                ORD                NaN   \n",
       "\n",
       "      OPE_PRECIO_PRESTAMO OPE_PRECIO_PACTADA  INS_DESCRIPCION  \n",
       "1224            34.972676                NaN         ACCIONES  \n",
       "1225            34.972676                NaN         ACCIONES  \n",
       "1226            34.972676                NaN         ACCIONES  \n",
       "1597            38.458675                NaN         ACCIONES  \n",
       "1598            38.446615                NaN         ACCIONES  \n",
       "...                   ...                ...              ...  \n",
       "40998                 NaN                NaN         ACCIONES  \n",
       "49259                 NaN                NaN         ACCIONES  \n",
       "49260                 NaN                NaN         ACCIONES  \n",
       "49261           71.465993          71.465993         ACCIONES  \n",
       "49262            1.699756           1.699756         ACCIONES  \n",
       "\n",
       "[1196 rows x 37 columns]"
      ]
     },
     "execution_count": 95,
     "metadata": {},
     "output_type": "execute_result"
    }
   ],
   "source": [
    "df[df[\"CLI_EDO_CLAVE\"].notna()]"
   ]
  },
  {
   "cell_type": "code",
   "execution_count": 94,
   "metadata": {},
   "outputs": [
    {
     "name": "stdout",
     "output_type": "stream",
     "text": [
      "                                          CLI_NOMBRE  ANOMALY\n",
      "1  BLAS PASCAL NO. 205-2Ø PISO COL. LOS MORALES P...       -1\n"
     ]
    }
   ],
   "source": [
    "from sklearn.ensemble import IsolationForest\n",
    "from sklearn.feature_extraction.text import TfidfVectorizer\n",
    "\n",
    "# Datos de ejemplo\n",
    "data = pd.DataFrame({\n",
    "    'CLI_NOMBRE': ['P',\n",
    "       'BLAS PASCAL NO. 205-2Ø PISO COL. LOS MORALES POLANCO, MIGUEL HIDALGO, 11510 MEXICO, DF.',\n",
    "       'NO SE TIENE REGISTRADA LA INFORMACION',\n",
    "       'RIO AMAZONAS #91 COL. CUAUHTEMOC CP 06500',\n",
    "       'REFORMA #398 COL. JUAREZ PB CP 06600',\n",
    "       'BOSQUE DE CIRUELOS 120, BOSQUES DE LAS LOMAS C.P. 11700, MEXICO, D.F.',\n",
    "       'PASEO DE LA REFORMA #383 PISO 14 COL. CUAUHTEMOC CP 06500',\n",
    "       'INSURGENTES SUR 1886 COL.FLORIDA', 'JHGJHG', 'PENDIENTE',\n",
    "       'MONTES URALES #424 PISO 3, COLONIA LOMAS DE CHAPULTEPEC C.P. 11000',\n",
    "       'INSURGENTES SUR 1971']\n",
    "})\n",
    "\n",
    "# Vectorización TF-IDF\n",
    "vectorizer = TfidfVectorizer()\n",
    "encoded_data = vectorizer.fit_transform(data['CLI_NOMBRE']).toarray()\n",
    "\n",
    "# Aplicar IsolationForest\n",
    "model = IsolationForest(contamination=0.001)\n",
    "model.fit(encoded_data)\n",
    "outliers = model.predict(encoded_data)\n",
    "\n",
    "# Identificar valores atípicos\n",
    "data['ANOMALY'] = outliers\n",
    "print(data[data['ANOMALY'] == -1])"
   ]
  },
  {
   "cell_type": "code",
   "execution_count": 91,
   "metadata": {},
   "outputs": [
    {
     "data": {
      "text/html": [
       "<div>\n",
       "<style scoped>\n",
       "    .dataframe tbody tr th:only-of-type {\n",
       "        vertical-align: middle;\n",
       "    }\n",
       "\n",
       "    .dataframe tbody tr th {\n",
       "        vertical-align: top;\n",
       "    }\n",
       "\n",
       "    .dataframe thead th {\n",
       "        text-align: right;\n",
       "    }\n",
       "</style>\n",
       "<table border=\"1\" class=\"dataframe\">\n",
       "  <thead>\n",
       "    <tr style=\"text-align: right;\">\n",
       "      <th></th>\n",
       "      <th>CLI_NOMBRE</th>\n",
       "      <th>ANOMALY</th>\n",
       "    </tr>\n",
       "  </thead>\n",
       "  <tbody>\n",
       "    <tr>\n",
       "      <th>0</th>\n",
       "      <td>P</td>\n",
       "      <td>1</td>\n",
       "    </tr>\n",
       "    <tr>\n",
       "      <th>1</th>\n",
       "      <td>BLAS PASCAL NO. 205-2Ø PISO COL. LOS MORALES P...</td>\n",
       "      <td>-1</td>\n",
       "    </tr>\n",
       "    <tr>\n",
       "      <th>2</th>\n",
       "      <td>NO SE TIENE REGISTRADA LA INFORMACION</td>\n",
       "      <td>1</td>\n",
       "    </tr>\n",
       "    <tr>\n",
       "      <th>3</th>\n",
       "      <td>RIO AMAZONAS #91 COL. CUAUHTEMOC CP 06500</td>\n",
       "      <td>1</td>\n",
       "    </tr>\n",
       "    <tr>\n",
       "      <th>4</th>\n",
       "      <td>REFORMA #398 COL. JUAREZ PB CP 06600</td>\n",
       "      <td>1</td>\n",
       "    </tr>\n",
       "    <tr>\n",
       "      <th>5</th>\n",
       "      <td>BOSQUE DE CIRUELOS 120, BOSQUES DE LAS LOMAS C...</td>\n",
       "      <td>-1</td>\n",
       "    </tr>\n",
       "    <tr>\n",
       "      <th>6</th>\n",
       "      <td>PASEO DE LA REFORMA #383 PISO 14 COL. CUAUHTEM...</td>\n",
       "      <td>1</td>\n",
       "    </tr>\n",
       "    <tr>\n",
       "      <th>7</th>\n",
       "      <td>INSURGENTES SUR 1886 COL.FLORIDA</td>\n",
       "      <td>1</td>\n",
       "    </tr>\n",
       "    <tr>\n",
       "      <th>8</th>\n",
       "      <td>JHGJHG</td>\n",
       "      <td>1</td>\n",
       "    </tr>\n",
       "    <tr>\n",
       "      <th>9</th>\n",
       "      <td>PENDIENTE</td>\n",
       "      <td>1</td>\n",
       "    </tr>\n",
       "    <tr>\n",
       "      <th>10</th>\n",
       "      <td>MONTES URALES #424 PISO 3, COLONIA LOMAS DE CH...</td>\n",
       "      <td>1</td>\n",
       "    </tr>\n",
       "    <tr>\n",
       "      <th>11</th>\n",
       "      <td>INSURGENTES SUR 1971</td>\n",
       "      <td>1</td>\n",
       "    </tr>\n",
       "  </tbody>\n",
       "</table>\n",
       "</div>"
      ],
      "text/plain": [
       "                                           CLI_NOMBRE  ANOMALY\n",
       "0                                                   P        1\n",
       "1   BLAS PASCAL NO. 205-2Ø PISO COL. LOS MORALES P...       -1\n",
       "2               NO SE TIENE REGISTRADA LA INFORMACION        1\n",
       "3           RIO AMAZONAS #91 COL. CUAUHTEMOC CP 06500        1\n",
       "4                REFORMA #398 COL. JUAREZ PB CP 06600        1\n",
       "5   BOSQUE DE CIRUELOS 120, BOSQUES DE LAS LOMAS C...       -1\n",
       "6   PASEO DE LA REFORMA #383 PISO 14 COL. CUAUHTEM...        1\n",
       "7                    INSURGENTES SUR 1886 COL.FLORIDA        1\n",
       "8                                              JHGJHG        1\n",
       "9                                           PENDIENTE        1\n",
       "10  MONTES URALES #424 PISO 3, COLONIA LOMAS DE CH...        1\n",
       "11                               INSURGENTES SUR 1971        1"
      ]
     },
     "execution_count": 91,
     "metadata": {},
     "output_type": "execute_result"
    }
   ],
   "source": [
    "data"
   ]
  },
  {
   "cell_type": "code",
   "execution_count": 90,
   "metadata": {},
   "outputs": [
    {
     "data": {
      "text/plain": [
       "array([[0.        , 0.        , 0.        , 0.        , 0.        ,\n",
       "        0.        , 0.        , 0.        , 0.        , 0.        ,\n",
       "        0.        , 0.        , 0.        , 0.        , 0.        ,\n",
       "        0.        , 0.        , 0.        , 0.        , 0.        ,\n",
       "        0.        , 0.        , 0.        , 0.        , 0.        ,\n",
       "        0.        , 0.        , 0.        , 0.        , 0.        ,\n",
       "        0.        , 0.        , 0.        , 0.        , 0.        ,\n",
       "        0.        , 0.        , 0.        , 0.        , 0.        ,\n",
       "        0.        , 0.        , 0.        , 0.        , 0.        ,\n",
       "        0.        , 0.        , 0.        , 0.        , 0.        ,\n",
       "        0.        , 0.        , 0.        , 0.        , 0.        ],\n",
       "       [0.        , 0.        , 0.        , 0.27285473, 0.        ,\n",
       "        0.        , 0.        , 0.        , 0.        , 0.27285473,\n",
       "        0.27285473, 0.        , 0.        , 0.        , 0.        ,\n",
       "        0.        , 0.27285473, 0.        , 0.        , 0.        ,\n",
       "        0.        , 0.16847374, 0.        , 0.        , 0.        ,\n",
       "        0.        , 0.27285473, 0.        , 0.27285473, 0.        ,\n",
       "        0.        , 0.        , 0.        , 0.        , 0.        ,\n",
       "        0.        , 0.27285473, 0.23433081, 0.27285473, 0.        ,\n",
       "        0.27285473, 0.23433081, 0.27285473, 0.        , 0.        ,\n",
       "        0.        , 0.20699765, 0.27285473, 0.        , 0.        ,\n",
       "        0.        , 0.        , 0.        , 0.        , 0.        ],\n",
       "       [0.        , 0.        , 0.        , 0.        , 0.        ,\n",
       "        0.        , 0.        , 0.        , 0.        , 0.        ,\n",
       "        0.        , 0.        , 0.        , 0.        , 0.        ,\n",
       "        0.        , 0.        , 0.        , 0.        , 0.        ,\n",
       "        0.        , 0.        , 0.        , 0.        , 0.        ,\n",
       "        0.        , 0.        , 0.        , 0.        , 0.42736936,\n",
       "        0.        , 0.        , 0.        , 0.36702977, 0.        ,\n",
       "        0.        , 0.        , 0.        , 0.        , 0.        ,\n",
       "        0.        , 0.36702977, 0.        , 0.        , 0.        ,\n",
       "        0.        , 0.        , 0.        , 0.        , 0.42736936,\n",
       "        0.        , 0.42736936, 0.        , 0.42736936, 0.        ],\n",
       "       [0.36848731, 0.        , 0.        , 0.        , 0.        ,\n",
       "        0.        , 0.        , 0.        , 0.        , 0.        ,\n",
       "        0.        , 0.        , 0.        , 0.        , 0.42906652,\n",
       "        0.42906652, 0.        , 0.        , 0.        , 0.        ,\n",
       "        0.        , 0.26492647, 0.        , 0.32550568, 0.36848731,\n",
       "        0.        , 0.        , 0.        , 0.        , 0.        ,\n",
       "        0.        , 0.        , 0.        , 0.        , 0.        ,\n",
       "        0.        , 0.        , 0.        , 0.        , 0.        ,\n",
       "        0.        , 0.        , 0.        , 0.        , 0.        ,\n",
       "        0.        , 0.        , 0.        , 0.        , 0.        ,\n",
       "        0.42906652, 0.        , 0.        , 0.        , 0.        ],\n",
       "       [0.        , 0.41906239, 0.        , 0.        , 0.        ,\n",
       "        0.        , 0.        , 0.        , 0.        , 0.        ,\n",
       "        0.        , 0.        , 0.41906239, 0.        , 0.        ,\n",
       "        0.        , 0.        , 0.        , 0.        , 0.        ,\n",
       "        0.        , 0.25874944, 0.        , 0.31791618, 0.        ,\n",
       "        0.        , 0.        , 0.        , 0.        , 0.        ,\n",
       "        0.        , 0.        , 0.41906239, 0.        , 0.        ,\n",
       "        0.        , 0.        , 0.        , 0.        , 0.        ,\n",
       "        0.        , 0.        , 0.        , 0.        , 0.41906239,\n",
       "        0.        , 0.        , 0.        , 0.35989565, 0.        ,\n",
       "        0.        , 0.        , 0.        , 0.        , 0.        ],\n",
       "       [0.        , 0.        , 0.        , 0.        , 0.31980996,\n",
       "        0.31980996, 0.        , 0.        , 0.        , 0.        ,\n",
       "        0.        , 0.        , 0.        , 0.        , 0.        ,\n",
       "        0.        , 0.        , 0.31980996, 0.31980996, 0.        ,\n",
       "        0.31980996, 0.        , 0.        , 0.        , 0.        ,\n",
       "        0.48523925, 0.        , 0.        , 0.        , 0.        ,\n",
       "        0.        , 0.        , 0.        , 0.        , 0.31980996,\n",
       "        0.27465651, 0.        , 0.27465651, 0.        , 0.        ,\n",
       "        0.        , 0.        , 0.        , 0.        , 0.        ,\n",
       "        0.        , 0.        , 0.        , 0.        , 0.        ,\n",
       "        0.        , 0.        , 0.        , 0.        , 0.        ],\n",
       "       [0.30253987, 0.        , 0.        , 0.        , 0.        ,\n",
       "        0.        , 0.35227733, 0.        , 0.        , 0.        ,\n",
       "        0.        , 0.35227733, 0.        , 0.        , 0.        ,\n",
       "        0.        , 0.        , 0.        , 0.        , 0.        ,\n",
       "        0.        , 0.2175131 , 0.        , 0.26725057, 0.30253987,\n",
       "        0.26725057, 0.        , 0.        , 0.        , 0.        ,\n",
       "        0.        , 0.        , 0.        , 0.30253987, 0.        ,\n",
       "        0.        , 0.        , 0.        , 0.        , 0.        ,\n",
       "        0.        , 0.        , 0.        , 0.35227733, 0.        ,\n",
       "        0.        , 0.26725057, 0.        , 0.30253987, 0.        ,\n",
       "        0.        , 0.        , 0.        , 0.        , 0.        ],\n",
       "       [0.        , 0.        , 0.        , 0.        , 0.        ,\n",
       "        0.        , 0.        , 0.50922693, 0.        , 0.        ,\n",
       "        0.        , 0.        , 0.        , 0.        , 0.        ,\n",
       "        0.        , 0.        , 0.        , 0.        , 0.        ,\n",
       "        0.        , 0.31442139, 0.        , 0.        , 0.        ,\n",
       "        0.        , 0.        , 0.50922693, 0.        , 0.        ,\n",
       "        0.43733   , 0.        , 0.        , 0.        , 0.        ,\n",
       "        0.        , 0.        , 0.        , 0.        , 0.        ,\n",
       "        0.        , 0.        , 0.        , 0.        , 0.        ,\n",
       "        0.        , 0.        , 0.        , 0.        , 0.        ,\n",
       "        0.        , 0.        , 0.43733   , 0.        , 0.        ],\n",
       "       [0.        , 0.        , 0.        , 0.        , 0.        ,\n",
       "        0.        , 0.        , 0.        , 0.        , 0.        ,\n",
       "        0.        , 0.        , 0.        , 0.        , 0.        ,\n",
       "        0.        , 0.        , 0.        , 0.        , 0.        ,\n",
       "        0.        , 0.        , 0.        , 0.        , 0.        ,\n",
       "        0.        , 0.        , 0.        , 0.        , 0.        ,\n",
       "        0.        , 1.        , 0.        , 0.        , 0.        ,\n",
       "        0.        , 0.        , 0.        , 0.        , 0.        ,\n",
       "        0.        , 0.        , 0.        , 0.        , 0.        ,\n",
       "        0.        , 0.        , 0.        , 0.        , 0.        ,\n",
       "        0.        , 0.        , 0.        , 0.        , 0.        ],\n",
       "       [0.        , 0.        , 0.        , 0.        , 0.        ,\n",
       "        0.        , 0.        , 0.        , 0.        , 0.        ,\n",
       "        0.        , 0.        , 0.        , 0.        , 0.        ,\n",
       "        0.        , 0.        , 0.        , 0.        , 0.        ,\n",
       "        0.        , 0.        , 0.        , 0.        , 0.        ,\n",
       "        0.        , 0.        , 0.        , 0.        , 0.        ,\n",
       "        0.        , 0.        , 0.        , 0.        , 0.        ,\n",
       "        0.        , 0.        , 0.        , 0.        , 0.        ,\n",
       "        0.        , 0.        , 0.        , 0.        , 0.        ,\n",
       "        1.        , 0.        , 0.        , 0.        , 0.        ,\n",
       "        0.        , 0.        , 0.        , 0.        , 0.        ],\n",
       "       [0.        , 0.        , 0.35604063, 0.        , 0.        ,\n",
       "        0.        , 0.        , 0.        , 0.        , 0.        ,\n",
       "        0.        , 0.        , 0.        , 0.35604063, 0.        ,\n",
       "        0.        , 0.        , 0.        , 0.        , 0.35604063,\n",
       "        0.        , 0.        , 0.35604063, 0.        , 0.        ,\n",
       "        0.27010555, 0.        , 0.        , 0.        , 0.        ,\n",
       "        0.        , 0.        , 0.        , 0.        , 0.        ,\n",
       "        0.30577183, 0.        , 0.        , 0.        , 0.35604063,\n",
       "        0.        , 0.        , 0.        , 0.        , 0.        ,\n",
       "        0.        , 0.27010555, 0.        , 0.        , 0.        ,\n",
       "        0.        , 0.        , 0.        , 0.        , 0.35604063],\n",
       "       [0.        , 0.        , 0.        , 0.        , 0.        ,\n",
       "        0.        , 0.        , 0.        , 0.63562699, 0.        ,\n",
       "        0.        , 0.        , 0.        , 0.        , 0.        ,\n",
       "        0.        , 0.        , 0.        , 0.        , 0.        ,\n",
       "        0.        , 0.        , 0.        , 0.        , 0.        ,\n",
       "        0.        , 0.        , 0.        , 0.        , 0.        ,\n",
       "        0.54588384, 0.        , 0.        , 0.        , 0.        ,\n",
       "        0.        , 0.        , 0.        , 0.        , 0.        ,\n",
       "        0.        , 0.        , 0.        , 0.        , 0.        ,\n",
       "        0.        , 0.        , 0.        , 0.        , 0.        ,\n",
       "        0.        , 0.        , 0.54588384, 0.        , 0.        ]])"
      ]
     },
     "execution_count": 90,
     "metadata": {},
     "output_type": "execute_result"
    }
   ],
   "source": [
    "encoded_data"
   ]
  },
  {
   "cell_type": "markdown",
   "metadata": {},
   "source": [
    "## CLI_TELEFONO"
   ]
  },
  {
   "cell_type": "code",
   "execution_count": 104,
   "metadata": {},
   "outputs": [
    {
     "data": {
      "text/plain": [
       "array(['VECTOR, CASA DE BOLSA, S.A DECV',\n",
       "       'CASA DE BOLSA BANORTE, S.A. DE C.V',\n",
       "       'ING (MEXICO), S.A.DE C.V. CASA DE BOLSA, ING GRUPO FINANCIERO',\n",
       "       'CASA DE BOLSA MULTIVA, S.A. DE C.V. GRUPO FINANCIERO MULTIVA',\n",
       "       'OPERACION INTERNA (CARTERAS CAPITALES)',\n",
       "       'VALUE CASA DE BOLSA, S.A. DE C.V',\n",
       "       'SCOTIA INVERLAT CASA DE BOLSA, S.A. DE C.V.',\n",
       "       'GRUPO BURSATIL MEXICANO, S.A. DE C.V.',\n",
       "       'IXE CASA DE BOLSA, S.A. DE C.V.',\n",
       "       'CASA DE BOLSA SANTANDER MEXICO, S.A. DE C.V.',\n",
       "       'ACCIONES Y VALORES DE MEXICO', 'ACTINVER CASA DE BOLSA',\n",
       "       'INTERACCIONES, CASA DE BOLSA, SA', 'BETA CAPITAL MANAGMENT',\n",
       "       'MONEX CASA DE BOLSA, S.A. DE C.V.', \"OPERACION INTERNA ADS'S\",\n",
       "       'VALORES FINAMEX, S.A. DE C.V.',\n",
       "       'CASA DE BOLSA BBVA BANCOMER, S.A. DE C.V.',\n",
       "       'FIDEICOMISOS NAFTRACK', 'INVEX, CASA DE BOLSA, S.A. DE C.V',\n",
       "       'NACIONAL FINANCIERA, S.N.C.', 'INVERSORA BURSATIL, S.A. DE C.V',\n",
       "       'MERRILL LYNCH MEXICO, S.A. DE C.V. CASA DE BOLSA'], dtype=object)"
      ]
     },
     "execution_count": 104,
     "metadata": {},
     "output_type": "execute_result"
    }
   ],
   "source": [
    "df[\"CLI_NOMBRE\"].unique()"
   ]
  },
  {
   "cell_type": "code",
   "execution_count": 106,
   "metadata": {},
   "outputs": [],
   "source": [
    "df_duplicate = df[df[\"CLI_TELEFONO\"].notna()].drop_duplicates(\"CLI_NOMBRE\")"
   ]
  },
  {
   "cell_type": "code",
   "execution_count": null,
   "metadata": {},
   "outputs": [],
   "source": [
    "df_duplicate"
   ]
  },
  {
   "cell_type": "markdown",
   "metadata": {},
   "source": [
    "## RFC\n",
    "ESTANDARIZACION DEL RFC GENERICO XXX-XXXXXX-XXX Y \n",
    "CON MAYUSCULAS Y CONCATENACION"
   ]
  },
  {
   "cell_type": "code",
   "execution_count": 112,
   "metadata": {},
   "outputs": [],
   "source": [
    "# GUARDAMOS LAS COLUMANS\n",
    "columnas =  df.columns"
   ]
  },
  {
   "cell_type": "code",
   "execution_count": 113,
   "metadata": {},
   "outputs": [],
   "source": [
    "df[\"CLI_RFC_LETRAS\"]= df[\"CLI_RFC_LETRAS\"].apply(lambda x: x.upper() if pd.notna(x) else \"XXX\")"
   ]
  },
  {
   "cell_type": "code",
   "execution_count": 114,
   "metadata": {},
   "outputs": [],
   "source": [
    "df[\"CLI_RFC_FECHA\"] = df[\"CLI_RFC_FECHA\"].apply(lambda x: int(x) if pd.notna(x) else \"XXXXXX\") "
   ]
  },
  {
   "cell_type": "code",
   "execution_count": 116,
   "metadata": {},
   "outputs": [],
   "source": [
    "df[\"CLI_RFC_HOMO\"] = df[\"CLI_RFC_HOMO\"].apply(lambda x: x.upper() if pd.notna(x) else \"XXX\") "
   ]
  },
  {
   "cell_type": "code",
   "execution_count": 117,
   "metadata": {},
   "outputs": [],
   "source": [
    "df[\"RFC\"] = df.apply(lambda row: f'{row[\"CLI_RFC_LETRAS\"]}{row[\"CLI_RFC_FECHA\"]}{row[\"CLI_RFC_HOMO\"]}',axis=1)"
   ]
  },
  {
   "cell_type": "code",
   "execution_count": 118,
   "metadata": {},
   "outputs": [],
   "source": [
    "new_columnas = [col for col in columnas if col not in [\"CLI_RFC_LETRAS\",\"CLI_RFC_FECHA\",\"CLI_RFC_HOMO\"]]"
   ]
  },
  {
   "cell_type": "code",
   "execution_count": 119,
   "metadata": {},
   "outputs": [],
   "source": [
    "df = df[new_columnas + [\"RFC\"]]"
   ]
  },
  {
   "cell_type": "code",
   "execution_count": 120,
   "metadata": {},
   "outputs": [
    {
     "data": {
      "text/plain": [
       "RFC\n",
       "XXXXXXXXXXXX    22036\n",
       "XXX123456XXX    20399\n",
       "ACB7609076M2     3926\n",
       "VFI770713PB8     1994\n",
       "AVM760909UK0      808\n",
       "ICB8704225X7      464\n",
       "111                85\n",
       "CBB960628JY9        4\n",
       "NFI3406305TO        3\n",
       "Name: count, dtype: int64"
      ]
     },
     "execution_count": 120,
     "metadata": {},
     "output_type": "execute_result"
    }
   ],
   "source": [
    "df.value_counts(\"RFC\")"
   ]
  }
 ],
 "metadata": {
  "kernelspec": {
   "display_name": "myenv_1",
   "language": "python",
   "name": "python3"
  },
  "language_info": {
   "codemirror_mode": {
    "name": "ipython",
    "version": 3
   },
   "file_extension": ".py",
   "mimetype": "text/x-python",
   "name": "python",
   "nbconvert_exporter": "python",
   "pygments_lexer": "ipython3",
   "version": "3.10.12"
  }
 },
 "nbformat": 4,
 "nbformat_minor": 2
}
